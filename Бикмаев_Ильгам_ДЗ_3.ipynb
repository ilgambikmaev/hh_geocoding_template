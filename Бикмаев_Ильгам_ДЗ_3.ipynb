{
  "nbformat": 4,
  "nbformat_minor": 0,
  "metadata": {
    "colab": {
      "provenance": [],
      "toc_visible": true,
      "include_colab_link": true
    },
    "kernelspec": {
      "name": "python3",
      "display_name": "Python 3"
    },
    "language_info": {
      "name": "python"
    }
  },
  "cells": [
    {
      "cell_type": "markdown",
      "metadata": {
        "id": "view-in-github",
        "colab_type": "text"
      },
      "source": [
        "<a href=\"https://colab.research.google.com/github/ilgambikmaev/hh_geocoding_template/blob/main/%D0%91%D0%B8%D0%BA%D0%BC%D0%B0%D0%B5%D0%B2_%D0%98%D0%BB%D1%8C%D0%B3%D0%B0%D0%BC_%D0%94%D0%97_3.ipynb\" target=\"_parent\"><img src=\"https://colab.research.google.com/assets/colab-badge.svg\" alt=\"Open In Colab\"/></a>"
      ]
    },
    {
      "cell_type": "markdown",
      "source": [
        "# Домашнее задание 3\n",
        "\n",
        "Многие настольные игры используют гексагональные сетки для игры\n",
        "\n",
        "![Фото гексагональной сетки](https://i2022.otzovik.com/2022/02/07/13040498/img/2052370_34559663.jpeg)\n",
        "\n",
        "В этом домашнем задании рассмотрим как хранятся гексагоны, как можно генерировать ландшафт и порешаем задачи поиска кратчайшего пути м-ду точками игрового поля"
      ],
      "metadata": {
        "id": "pOFVKddhIiuR"
      }
    },
    {
      "cell_type": "markdown",
      "source": [
        "## Как хранить гексагоны (1 балл)"
      ],
      "metadata": {
        "id": "XLmOtWkjKqOh"
      }
    },
    {
      "cell_type": "markdown",
      "source": [
        "[Тут описана матчасть](https://www.redblobgames.com/grids/hexagons/)\n",
        "\n",
        "Самые удобные варианты - матрица и куб\n",
        "\n",
        "Как отрисовать гексагоны посредством матрицы - нетривиальная задача, поэтому ниже рассматривается хранение через куб"
      ],
      "metadata": {
        "id": "Deu05haSKzVT"
      }
    },
    {
      "cell_type": "markdown",
      "source": [
        "У каждой точки в кубе есть 6 смежных точек, как сторон в гексагоне\n",
        "\n",
        "Представим что каждый гексагон - это некоторая точка в пространстве (в кубе)\n",
        "\n",
        "<img src=\"https://drive.google.com/uc?export=view&id=1Nnii4DSWV_tk-r1X-LGHcw0PM_4t2z3X\" height=\"200\"/>"
      ],
      "metadata": {
        "id": "ie4pXCywOAmM"
      }
    },
    {
      "cell_type": "markdown",
      "source": [
        "Попробуем к нашему гексагону приписать смежные точки\n",
        "\n",
        "<img src=\"https://drive.google.com/uc?export=view&id=164DoK1j1ojL9TuAKu4etxbetXGR4_Vj5\" height=\"400\"/>\n",
        "\n",
        "Но заметим что смежные точки не смежны м-ду собой\n",
        "\n",
        "Например, (0, -1, 0) и (0, 0, -1) - не соседи, хотя в этой модели они стоят рядом\n",
        "\n",
        "Поэтому такая модель не будет работать\n",
        "\n",
        "Попробуем другую модель"
      ],
      "metadata": {
        "id": "QQBVxiqfPE7X"
      }
    },
    {
      "cell_type": "markdown",
      "source": [
        "Введем такие правила:\n",
        "- Сумма координат равна нулю\n",
        "- x не изменяется по вертикали\n",
        "- y и z не изменяются по соответствующим диагоналям\n",
        "\n",
        "<img src=\"https://drive.google.com/uc?export=view&id=1sPOFOJXsX9Ppd2QpYXmxv-2Z6kRHw4VR\" height=\"400\"/>\n",
        "\n",
        "Теперь немного поменялось понятие смежности\n",
        "\n",
        "Смежными считаются клетки, отличающиеся по **двум** координатам и отличающиеся ровно на **два** пункта\n",
        "\n",
        "Например:\n",
        "(-1, 1, 0) и (-1, 0, 1)\n",
        "\n",
        "Отличаются координатами y и z, сумма разниц координат равна двум\n",
        "\n",
        "Теперь модель работает"
      ],
      "metadata": {
        "id": "FhC6_fKVQMDf"
      }
    },
    {
      "cell_type": "markdown",
      "source": [
        "Распишем по аналогии для гексагонов длины 2 от центра\n",
        "\n",
        "<img src=\"https://drive.google.com/uc?export=view&id=10bhJJ-AD3ltGN6KUYQEo_tKjnqdSrD9D\" height=\"600\"/>\n",
        "\n",
        "Однако использовать отрицательные индексы не стоит, будем использовать только положительные\n",
        "\n",
        "Для этого нам придется сместить все координаты\n",
        "\n",
        "Нужно перевести координаты из диапазона [-2; 2] в диапазон [0; 4], значит к каждой координате надо прибавить 2\n",
        "\n",
        "Для хранения поля с расстоянием 2 от центра, нам нужен куб размера 5 x 5 x 5 (диапазон [0; 4])\n",
        "\n",
        "Соответственно, куб размера N x N x N, может хранить гексагоны с расстоянием до N // 2 от центра\n"
      ],
      "metadata": {
        "id": "d0xrnESKRo-W"
      }
    },
    {
      "cell_type": "markdown",
      "source": [
        "Для того, чтобы хранить гексагон сам по себе в такой модели, нам нужен куб\n",
        "\n",
        "Но помимо этого гексагон еще должен хранить какую-то полезную информацию, значит нам нужна как минимум 4-мерная фигура\n",
        "\n",
        "Работать с таким очень тяжело, поэтому будем хранить некоторый гексагон как массив длины 4 в формате\\\n",
        "[x, y, z, data]\n",
        "\n",
        "А куб со всеми гексагонами будем хранить как матрицу, каждый элемент которой - гексагон (длины 4)"
      ],
      "metadata": {
        "id": "amYKZqmySUU2"
      }
    },
    {
      "cell_type": "markdown",
      "source": [
        "Для начала сделаем куб 5 x 5 x 5"
      ],
      "metadata": {
        "id": "VQs9cpHCUCx2"
      }
    },
    {
      "cell_type": "code",
      "execution_count": 3,
      "metadata": {
        "id": "wgkvNzM9Vpdx"
      },
      "outputs": [],
      "source": [
        "import numpy as np\n",
        "from itertools import product\n",
        "\n",
        "N = 5\n",
        "\n",
        "\"\"\"\n",
        "TODO:\n",
        "- Сгенерировать матрицу с shape (N**3, 4)\n",
        "- Сгенерить декартово произведение координат длины 3\n",
        "- Заполнить 4-ю колонку дефолтными значениями (-1, например)\n",
        "\n",
        "Результат - data\n",
        "\"\"\"\n",
        "# Код тут\n",
        "data = np.array([[i, j, k, -1] for i in range(N) for j in range(N) for k in range(N)])"
      ]
    },
    {
      "cell_type": "code",
      "source": [
        "data"
      ],
      "metadata": {
        "colab": {
          "base_uri": "https://localhost:8080/"
        },
        "id": "lBo04aCPw-8t",
        "outputId": "6bba3b40-c527-4f85-ba64-78c6eda24795"
      },
      "execution_count": 4,
      "outputs": [
        {
          "output_type": "execute_result",
          "data": {
            "text/plain": [
              "array([[ 0,  0,  0, -1],\n",
              "       [ 0,  0,  1, -1],\n",
              "       [ 0,  0,  2, -1],\n",
              "       [ 0,  0,  3, -1],\n",
              "       [ 0,  0,  4, -1],\n",
              "       [ 0,  1,  0, -1],\n",
              "       [ 0,  1,  1, -1],\n",
              "       [ 0,  1,  2, -1],\n",
              "       [ 0,  1,  3, -1],\n",
              "       [ 0,  1,  4, -1],\n",
              "       [ 0,  2,  0, -1],\n",
              "       [ 0,  2,  1, -1],\n",
              "       [ 0,  2,  2, -1],\n",
              "       [ 0,  2,  3, -1],\n",
              "       [ 0,  2,  4, -1],\n",
              "       [ 0,  3,  0, -1],\n",
              "       [ 0,  3,  1, -1],\n",
              "       [ 0,  3,  2, -1],\n",
              "       [ 0,  3,  3, -1],\n",
              "       [ 0,  3,  4, -1],\n",
              "       [ 0,  4,  0, -1],\n",
              "       [ 0,  4,  1, -1],\n",
              "       [ 0,  4,  2, -1],\n",
              "       [ 0,  4,  3, -1],\n",
              "       [ 0,  4,  4, -1],\n",
              "       [ 1,  0,  0, -1],\n",
              "       [ 1,  0,  1, -1],\n",
              "       [ 1,  0,  2, -1],\n",
              "       [ 1,  0,  3, -1],\n",
              "       [ 1,  0,  4, -1],\n",
              "       [ 1,  1,  0, -1],\n",
              "       [ 1,  1,  1, -1],\n",
              "       [ 1,  1,  2, -1],\n",
              "       [ 1,  1,  3, -1],\n",
              "       [ 1,  1,  4, -1],\n",
              "       [ 1,  2,  0, -1],\n",
              "       [ 1,  2,  1, -1],\n",
              "       [ 1,  2,  2, -1],\n",
              "       [ 1,  2,  3, -1],\n",
              "       [ 1,  2,  4, -1],\n",
              "       [ 1,  3,  0, -1],\n",
              "       [ 1,  3,  1, -1],\n",
              "       [ 1,  3,  2, -1],\n",
              "       [ 1,  3,  3, -1],\n",
              "       [ 1,  3,  4, -1],\n",
              "       [ 1,  4,  0, -1],\n",
              "       [ 1,  4,  1, -1],\n",
              "       [ 1,  4,  2, -1],\n",
              "       [ 1,  4,  3, -1],\n",
              "       [ 1,  4,  4, -1],\n",
              "       [ 2,  0,  0, -1],\n",
              "       [ 2,  0,  1, -1],\n",
              "       [ 2,  0,  2, -1],\n",
              "       [ 2,  0,  3, -1],\n",
              "       [ 2,  0,  4, -1],\n",
              "       [ 2,  1,  0, -1],\n",
              "       [ 2,  1,  1, -1],\n",
              "       [ 2,  1,  2, -1],\n",
              "       [ 2,  1,  3, -1],\n",
              "       [ 2,  1,  4, -1],\n",
              "       [ 2,  2,  0, -1],\n",
              "       [ 2,  2,  1, -1],\n",
              "       [ 2,  2,  2, -1],\n",
              "       [ 2,  2,  3, -1],\n",
              "       [ 2,  2,  4, -1],\n",
              "       [ 2,  3,  0, -1],\n",
              "       [ 2,  3,  1, -1],\n",
              "       [ 2,  3,  2, -1],\n",
              "       [ 2,  3,  3, -1],\n",
              "       [ 2,  3,  4, -1],\n",
              "       [ 2,  4,  0, -1],\n",
              "       [ 2,  4,  1, -1],\n",
              "       [ 2,  4,  2, -1],\n",
              "       [ 2,  4,  3, -1],\n",
              "       [ 2,  4,  4, -1],\n",
              "       [ 3,  0,  0, -1],\n",
              "       [ 3,  0,  1, -1],\n",
              "       [ 3,  0,  2, -1],\n",
              "       [ 3,  0,  3, -1],\n",
              "       [ 3,  0,  4, -1],\n",
              "       [ 3,  1,  0, -1],\n",
              "       [ 3,  1,  1, -1],\n",
              "       [ 3,  1,  2, -1],\n",
              "       [ 3,  1,  3, -1],\n",
              "       [ 3,  1,  4, -1],\n",
              "       [ 3,  2,  0, -1],\n",
              "       [ 3,  2,  1, -1],\n",
              "       [ 3,  2,  2, -1],\n",
              "       [ 3,  2,  3, -1],\n",
              "       [ 3,  2,  4, -1],\n",
              "       [ 3,  3,  0, -1],\n",
              "       [ 3,  3,  1, -1],\n",
              "       [ 3,  3,  2, -1],\n",
              "       [ 3,  3,  3, -1],\n",
              "       [ 3,  3,  4, -1],\n",
              "       [ 3,  4,  0, -1],\n",
              "       [ 3,  4,  1, -1],\n",
              "       [ 3,  4,  2, -1],\n",
              "       [ 3,  4,  3, -1],\n",
              "       [ 3,  4,  4, -1],\n",
              "       [ 4,  0,  0, -1],\n",
              "       [ 4,  0,  1, -1],\n",
              "       [ 4,  0,  2, -1],\n",
              "       [ 4,  0,  3, -1],\n",
              "       [ 4,  0,  4, -1],\n",
              "       [ 4,  1,  0, -1],\n",
              "       [ 4,  1,  1, -1],\n",
              "       [ 4,  1,  2, -1],\n",
              "       [ 4,  1,  3, -1],\n",
              "       [ 4,  1,  4, -1],\n",
              "       [ 4,  2,  0, -1],\n",
              "       [ 4,  2,  1, -1],\n",
              "       [ 4,  2,  2, -1],\n",
              "       [ 4,  2,  3, -1],\n",
              "       [ 4,  2,  4, -1],\n",
              "       [ 4,  3,  0, -1],\n",
              "       [ 4,  3,  1, -1],\n",
              "       [ 4,  3,  2, -1],\n",
              "       [ 4,  3,  3, -1],\n",
              "       [ 4,  3,  4, -1],\n",
              "       [ 4,  4,  0, -1],\n",
              "       [ 4,  4,  1, -1],\n",
              "       [ 4,  4,  2, -1],\n",
              "       [ 4,  4,  3, -1],\n",
              "       [ 4,  4,  4, -1]])"
            ]
          },
          "metadata": {},
          "execution_count": 4
        }
      ]
    },
    {
      "cell_type": "markdown",
      "source": [
        "Сделаем функцию изменения массива data по координатам гексагона\n",
        "\n",
        "Полезной информацией в гексагоне будем считать его расстояние от центра куба"
      ],
      "metadata": {
        "id": "nMa60V8AXfWp"
      }
    },
    {
      "cell_type": "code",
      "source": [
        "\"\"\"\n",
        "coords - координаты в формате [x, y, z]\n",
        "info - растояние гексагона от центра\n",
        "\n",
        "TODO:\n",
        "- Посчитать индекс координат в массиве\n",
        "- По посчитанном индексу записать info\n",
        "\"\"\"\n",
        "def set_data(coords: list, info: int):\n",
        "  x, y, z = coords\n",
        "  data[x * N**2 + N * y + z, -1] = info\n"
      ],
      "metadata": {
        "id": "JyW_X03As__m"
      },
      "execution_count": 8,
      "outputs": []
    },
    {
      "cell_type": "markdown",
      "source": [
        "Поменяем расстояние для длины 0 и 1\n",
        "\n"
      ],
      "metadata": {
        "id": "IsF95DXYYgjj"
      }
    },
    {
      "cell_type": "code",
      "source": [
        "set_data([2, 2, 2], 0)\n",
        "\n",
        "set_data([2, 3, 1], 1)\n",
        "set_data([2, 1, 3], 1)\n",
        "set_data([1, 2, 3], 1)\n",
        "set_data([3, 2, 1], 1)\n",
        "set_data([1, 3, 2], 1)\n",
        "set_data([3, 1, 2], 1)"
      ],
      "metadata": {
        "id": "Apc9_N1pxWKZ"
      },
      "execution_count": 9,
      "outputs": []
    },
    {
      "cell_type": "markdown",
      "source": [
        "Сделаем аналогичную функцию, но центром будем считать гексагон с координатами [0, 0, 0]"
      ],
      "metadata": {
        "id": "9qhNy7qOZV7x"
      }
    },
    {
      "cell_type": "code",
      "source": [
        "\"\"\"\n",
        "Делаем аналогичную вещь, но смещаем каждую координату\n",
        "\"\"\"\n",
        "\n",
        "def set_rel_data(coords: list, info: int):\n",
        "  x, y, z = coords\n",
        "  x, y, z = x + N//2, y + N//2, z + N//2\n",
        "  data[x * N**2 + N * y + z, -1] = info\n",
        "  #Код тут"
      ],
      "metadata": {
        "id": "-HyHRICy1LGD"
      },
      "execution_count": 11,
      "outputs": []
    },
    {
      "cell_type": "markdown",
      "source": [
        "Поменяем расстояние для гексагонов длины 2"
      ],
      "metadata": {
        "id": "Q5MADB59pW7w"
      }
    },
    {
      "cell_type": "code",
      "source": [
        "set_rel_data([0, 2, -2], 2)\n",
        "set_rel_data([1, 1, -2], 2)\n",
        "set_rel_data([2, 0, -2], 2)\n",
        "set_rel_data([2, -1, -1], 2)\n",
        "set_rel_data([2, -2, 0], 2)\n",
        "set_rel_data([1, -2, 1], 2)\n",
        "set_rel_data([0, -2, 2], 2)\n",
        "set_rel_data([-1, -1, 2], 2)\n",
        "set_rel_data([-2, 0, 2], 2)\n",
        "set_rel_data([-2, 1, 1], 2)\n",
        "set_rel_data([-2, 2, 0], 2)\n",
        "set_rel_data([-1, 2, -1], 2)"
      ],
      "metadata": {
        "id": "PrZtnyIJ1vDD"
      },
      "execution_count": 12,
      "outputs": []
    },
    {
      "cell_type": "markdown",
      "source": [
        "Отрисуем нашу фигуру"
      ],
      "metadata": {
        "id": "RfqMEAA_Z6d0"
      }
    },
    {
      "cell_type": "code",
      "source": [
        "import plotly.express as px\n",
        "fig = px.scatter_3d(\n",
        "    data,\n",
        "    x=data[:, 0],\n",
        "    y=data[:, 1],\n",
        "    z=data[:, 2],\n",
        "    color=data[:, 3]\n",
        ")\n",
        "fig.show()"
      ],
      "metadata": {
        "colab": {
          "base_uri": "https://localhost:8080/",
          "height": 542
        },
        "id": "31kijySl05rP",
        "outputId": "fc121a31-64ff-4f87-9118-0f6947e161c7"
      },
      "execution_count": 13,
      "outputs": [
        {
          "output_type": "display_data",
          "data": {
            "text/html": [
              "<html>\n",
              "<head><meta charset=\"utf-8\" /></head>\n",
              "<body>\n",
              "    <div>            <script src=\"https://cdnjs.cloudflare.com/ajax/libs/mathjax/2.7.5/MathJax.js?config=TeX-AMS-MML_SVG\"></script><script type=\"text/javascript\">if (window.MathJax && window.MathJax.Hub && window.MathJax.Hub.Config) {window.MathJax.Hub.Config({SVG: {font: \"STIX-Web\"}});}</script>                <script type=\"text/javascript\">window.PlotlyConfig = {MathJaxConfig: 'local'};</script>\n",
              "        <script charset=\"utf-8\" src=\"https://cdn.plot.ly/plotly-2.24.1.min.js\"></script>                <div id=\"6e62eea8-b8ef-40fc-a77d-17c38004d316\" class=\"plotly-graph-div\" style=\"height:525px; width:100%;\"></div>            <script type=\"text/javascript\">                                    window.PLOTLYENV=window.PLOTLYENV || {};                                    if (document.getElementById(\"6e62eea8-b8ef-40fc-a77d-17c38004d316\")) {                    Plotly.newPlot(                        \"6e62eea8-b8ef-40fc-a77d-17c38004d316\",                        [{\"hovertemplate\":\"x=%{x}\\u003cbr\\u003ey=%{y}\\u003cbr\\u003ez=%{z}\\u003cbr\\u003ecolor=%{marker.color}\\u003cextra\\u003e\\u003c\\u002fextra\\u003e\",\"legendgroup\":\"\",\"marker\":{\"color\":[-1,-1,-1,-1,-1,-1,-1,-1,-1,-1,-1,-1,-1,-1,2,-1,-1,-1,2,-1,-1,-1,2,-1,-1,-1,-1,-1,-1,-1,-1,-1,-1,-1,2,-1,-1,-1,1,-1,-1,-1,1,-1,-1,-1,2,-1,-1,-1,-1,-1,-1,-1,2,-1,-1,-1,1,-1,-1,-1,0,-1,-1,-1,1,-1,-1,-1,2,-1,-1,-1,-1,-1,-1,-1,2,-1,-1,-1,1,-1,-1,-1,1,-1,-1,-1,2,-1,-1,-1,-1,-1,-1,-1,-1,-1,-1,-1,2,-1,-1,-1,2,-1,-1,-1,2,-1,-1,-1,-1,-1,-1,-1,-1,-1,-1,-1,-1,-1,-1],\"coloraxis\":\"coloraxis\",\"symbol\":\"circle\"},\"mode\":\"markers\",\"name\":\"\",\"scene\":\"scene\",\"showlegend\":false,\"x\":[0,0,0,0,0,0,0,0,0,0,0,0,0,0,0,0,0,0,0,0,0,0,0,0,0,1,1,1,1,1,1,1,1,1,1,1,1,1,1,1,1,1,1,1,1,1,1,1,1,1,2,2,2,2,2,2,2,2,2,2,2,2,2,2,2,2,2,2,2,2,2,2,2,2,2,3,3,3,3,3,3,3,3,3,3,3,3,3,3,3,3,3,3,3,3,3,3,3,3,3,4,4,4,4,4,4,4,4,4,4,4,4,4,4,4,4,4,4,4,4,4,4,4,4,4],\"y\":[0,0,0,0,0,1,1,1,1,1,2,2,2,2,2,3,3,3,3,3,4,4,4,4,4,0,0,0,0,0,1,1,1,1,1,2,2,2,2,2,3,3,3,3,3,4,4,4,4,4,0,0,0,0,0,1,1,1,1,1,2,2,2,2,2,3,3,3,3,3,4,4,4,4,4,0,0,0,0,0,1,1,1,1,1,2,2,2,2,2,3,3,3,3,3,4,4,4,4,4,0,0,0,0,0,1,1,1,1,1,2,2,2,2,2,3,3,3,3,3,4,4,4,4,4],\"z\":[0,1,2,3,4,0,1,2,3,4,0,1,2,3,4,0,1,2,3,4,0,1,2,3,4,0,1,2,3,4,0,1,2,3,4,0,1,2,3,4,0,1,2,3,4,0,1,2,3,4,0,1,2,3,4,0,1,2,3,4,0,1,2,3,4,0,1,2,3,4,0,1,2,3,4,0,1,2,3,4,0,1,2,3,4,0,1,2,3,4,0,1,2,3,4,0,1,2,3,4,0,1,2,3,4,0,1,2,3,4,0,1,2,3,4,0,1,2,3,4,0,1,2,3,4],\"type\":\"scatter3d\"}],                        {\"template\":{\"data\":{\"histogram2dcontour\":[{\"type\":\"histogram2dcontour\",\"colorbar\":{\"outlinewidth\":0,\"ticks\":\"\"},\"colorscale\":[[0.0,\"#0d0887\"],[0.1111111111111111,\"#46039f\"],[0.2222222222222222,\"#7201a8\"],[0.3333333333333333,\"#9c179e\"],[0.4444444444444444,\"#bd3786\"],[0.5555555555555556,\"#d8576b\"],[0.6666666666666666,\"#ed7953\"],[0.7777777777777778,\"#fb9f3a\"],[0.8888888888888888,\"#fdca26\"],[1.0,\"#f0f921\"]]}],\"choropleth\":[{\"type\":\"choropleth\",\"colorbar\":{\"outlinewidth\":0,\"ticks\":\"\"}}],\"histogram2d\":[{\"type\":\"histogram2d\",\"colorbar\":{\"outlinewidth\":0,\"ticks\":\"\"},\"colorscale\":[[0.0,\"#0d0887\"],[0.1111111111111111,\"#46039f\"],[0.2222222222222222,\"#7201a8\"],[0.3333333333333333,\"#9c179e\"],[0.4444444444444444,\"#bd3786\"],[0.5555555555555556,\"#d8576b\"],[0.6666666666666666,\"#ed7953\"],[0.7777777777777778,\"#fb9f3a\"],[0.8888888888888888,\"#fdca26\"],[1.0,\"#f0f921\"]]}],\"heatmap\":[{\"type\":\"heatmap\",\"colorbar\":{\"outlinewidth\":0,\"ticks\":\"\"},\"colorscale\":[[0.0,\"#0d0887\"],[0.1111111111111111,\"#46039f\"],[0.2222222222222222,\"#7201a8\"],[0.3333333333333333,\"#9c179e\"],[0.4444444444444444,\"#bd3786\"],[0.5555555555555556,\"#d8576b\"],[0.6666666666666666,\"#ed7953\"],[0.7777777777777778,\"#fb9f3a\"],[0.8888888888888888,\"#fdca26\"],[1.0,\"#f0f921\"]]}],\"heatmapgl\":[{\"type\":\"heatmapgl\",\"colorbar\":{\"outlinewidth\":0,\"ticks\":\"\"},\"colorscale\":[[0.0,\"#0d0887\"],[0.1111111111111111,\"#46039f\"],[0.2222222222222222,\"#7201a8\"],[0.3333333333333333,\"#9c179e\"],[0.4444444444444444,\"#bd3786\"],[0.5555555555555556,\"#d8576b\"],[0.6666666666666666,\"#ed7953\"],[0.7777777777777778,\"#fb9f3a\"],[0.8888888888888888,\"#fdca26\"],[1.0,\"#f0f921\"]]}],\"contourcarpet\":[{\"type\":\"contourcarpet\",\"colorbar\":{\"outlinewidth\":0,\"ticks\":\"\"}}],\"contour\":[{\"type\":\"contour\",\"colorbar\":{\"outlinewidth\":0,\"ticks\":\"\"},\"colorscale\":[[0.0,\"#0d0887\"],[0.1111111111111111,\"#46039f\"],[0.2222222222222222,\"#7201a8\"],[0.3333333333333333,\"#9c179e\"],[0.4444444444444444,\"#bd3786\"],[0.5555555555555556,\"#d8576b\"],[0.6666666666666666,\"#ed7953\"],[0.7777777777777778,\"#fb9f3a\"],[0.8888888888888888,\"#fdca26\"],[1.0,\"#f0f921\"]]}],\"surface\":[{\"type\":\"surface\",\"colorbar\":{\"outlinewidth\":0,\"ticks\":\"\"},\"colorscale\":[[0.0,\"#0d0887\"],[0.1111111111111111,\"#46039f\"],[0.2222222222222222,\"#7201a8\"],[0.3333333333333333,\"#9c179e\"],[0.4444444444444444,\"#bd3786\"],[0.5555555555555556,\"#d8576b\"],[0.6666666666666666,\"#ed7953\"],[0.7777777777777778,\"#fb9f3a\"],[0.8888888888888888,\"#fdca26\"],[1.0,\"#f0f921\"]]}],\"mesh3d\":[{\"type\":\"mesh3d\",\"colorbar\":{\"outlinewidth\":0,\"ticks\":\"\"}}],\"scatter\":[{\"fillpattern\":{\"fillmode\":\"overlay\",\"size\":10,\"solidity\":0.2},\"type\":\"scatter\"}],\"parcoords\":[{\"type\":\"parcoords\",\"line\":{\"colorbar\":{\"outlinewidth\":0,\"ticks\":\"\"}}}],\"scatterpolargl\":[{\"type\":\"scatterpolargl\",\"marker\":{\"colorbar\":{\"outlinewidth\":0,\"ticks\":\"\"}}}],\"bar\":[{\"error_x\":{\"color\":\"#2a3f5f\"},\"error_y\":{\"color\":\"#2a3f5f\"},\"marker\":{\"line\":{\"color\":\"#E5ECF6\",\"width\":0.5},\"pattern\":{\"fillmode\":\"overlay\",\"size\":10,\"solidity\":0.2}},\"type\":\"bar\"}],\"scattergeo\":[{\"type\":\"scattergeo\",\"marker\":{\"colorbar\":{\"outlinewidth\":0,\"ticks\":\"\"}}}],\"scatterpolar\":[{\"type\":\"scatterpolar\",\"marker\":{\"colorbar\":{\"outlinewidth\":0,\"ticks\":\"\"}}}],\"histogram\":[{\"marker\":{\"pattern\":{\"fillmode\":\"overlay\",\"size\":10,\"solidity\":0.2}},\"type\":\"histogram\"}],\"scattergl\":[{\"type\":\"scattergl\",\"marker\":{\"colorbar\":{\"outlinewidth\":0,\"ticks\":\"\"}}}],\"scatter3d\":[{\"type\":\"scatter3d\",\"line\":{\"colorbar\":{\"outlinewidth\":0,\"ticks\":\"\"}},\"marker\":{\"colorbar\":{\"outlinewidth\":0,\"ticks\":\"\"}}}],\"scattermapbox\":[{\"type\":\"scattermapbox\",\"marker\":{\"colorbar\":{\"outlinewidth\":0,\"ticks\":\"\"}}}],\"scatterternary\":[{\"type\":\"scatterternary\",\"marker\":{\"colorbar\":{\"outlinewidth\":0,\"ticks\":\"\"}}}],\"scattercarpet\":[{\"type\":\"scattercarpet\",\"marker\":{\"colorbar\":{\"outlinewidth\":0,\"ticks\":\"\"}}}],\"carpet\":[{\"aaxis\":{\"endlinecolor\":\"#2a3f5f\",\"gridcolor\":\"white\",\"linecolor\":\"white\",\"minorgridcolor\":\"white\",\"startlinecolor\":\"#2a3f5f\"},\"baxis\":{\"endlinecolor\":\"#2a3f5f\",\"gridcolor\":\"white\",\"linecolor\":\"white\",\"minorgridcolor\":\"white\",\"startlinecolor\":\"#2a3f5f\"},\"type\":\"carpet\"}],\"table\":[{\"cells\":{\"fill\":{\"color\":\"#EBF0F8\"},\"line\":{\"color\":\"white\"}},\"header\":{\"fill\":{\"color\":\"#C8D4E3\"},\"line\":{\"color\":\"white\"}},\"type\":\"table\"}],\"barpolar\":[{\"marker\":{\"line\":{\"color\":\"#E5ECF6\",\"width\":0.5},\"pattern\":{\"fillmode\":\"overlay\",\"size\":10,\"solidity\":0.2}},\"type\":\"barpolar\"}],\"pie\":[{\"automargin\":true,\"type\":\"pie\"}]},\"layout\":{\"autotypenumbers\":\"strict\",\"colorway\":[\"#636efa\",\"#EF553B\",\"#00cc96\",\"#ab63fa\",\"#FFA15A\",\"#19d3f3\",\"#FF6692\",\"#B6E880\",\"#FF97FF\",\"#FECB52\"],\"font\":{\"color\":\"#2a3f5f\"},\"hovermode\":\"closest\",\"hoverlabel\":{\"align\":\"left\"},\"paper_bgcolor\":\"white\",\"plot_bgcolor\":\"#E5ECF6\",\"polar\":{\"bgcolor\":\"#E5ECF6\",\"angularaxis\":{\"gridcolor\":\"white\",\"linecolor\":\"white\",\"ticks\":\"\"},\"radialaxis\":{\"gridcolor\":\"white\",\"linecolor\":\"white\",\"ticks\":\"\"}},\"ternary\":{\"bgcolor\":\"#E5ECF6\",\"aaxis\":{\"gridcolor\":\"white\",\"linecolor\":\"white\",\"ticks\":\"\"},\"baxis\":{\"gridcolor\":\"white\",\"linecolor\":\"white\",\"ticks\":\"\"},\"caxis\":{\"gridcolor\":\"white\",\"linecolor\":\"white\",\"ticks\":\"\"}},\"coloraxis\":{\"colorbar\":{\"outlinewidth\":0,\"ticks\":\"\"}},\"colorscale\":{\"sequential\":[[0.0,\"#0d0887\"],[0.1111111111111111,\"#46039f\"],[0.2222222222222222,\"#7201a8\"],[0.3333333333333333,\"#9c179e\"],[0.4444444444444444,\"#bd3786\"],[0.5555555555555556,\"#d8576b\"],[0.6666666666666666,\"#ed7953\"],[0.7777777777777778,\"#fb9f3a\"],[0.8888888888888888,\"#fdca26\"],[1.0,\"#f0f921\"]],\"sequentialminus\":[[0.0,\"#0d0887\"],[0.1111111111111111,\"#46039f\"],[0.2222222222222222,\"#7201a8\"],[0.3333333333333333,\"#9c179e\"],[0.4444444444444444,\"#bd3786\"],[0.5555555555555556,\"#d8576b\"],[0.6666666666666666,\"#ed7953\"],[0.7777777777777778,\"#fb9f3a\"],[0.8888888888888888,\"#fdca26\"],[1.0,\"#f0f921\"]],\"diverging\":[[0,\"#8e0152\"],[0.1,\"#c51b7d\"],[0.2,\"#de77ae\"],[0.3,\"#f1b6da\"],[0.4,\"#fde0ef\"],[0.5,\"#f7f7f7\"],[0.6,\"#e6f5d0\"],[0.7,\"#b8e186\"],[0.8,\"#7fbc41\"],[0.9,\"#4d9221\"],[1,\"#276419\"]]},\"xaxis\":{\"gridcolor\":\"white\",\"linecolor\":\"white\",\"ticks\":\"\",\"title\":{\"standoff\":15},\"zerolinecolor\":\"white\",\"automargin\":true,\"zerolinewidth\":2},\"yaxis\":{\"gridcolor\":\"white\",\"linecolor\":\"white\",\"ticks\":\"\",\"title\":{\"standoff\":15},\"zerolinecolor\":\"white\",\"automargin\":true,\"zerolinewidth\":2},\"scene\":{\"xaxis\":{\"backgroundcolor\":\"#E5ECF6\",\"gridcolor\":\"white\",\"linecolor\":\"white\",\"showbackground\":true,\"ticks\":\"\",\"zerolinecolor\":\"white\",\"gridwidth\":2},\"yaxis\":{\"backgroundcolor\":\"#E5ECF6\",\"gridcolor\":\"white\",\"linecolor\":\"white\",\"showbackground\":true,\"ticks\":\"\",\"zerolinecolor\":\"white\",\"gridwidth\":2},\"zaxis\":{\"backgroundcolor\":\"#E5ECF6\",\"gridcolor\":\"white\",\"linecolor\":\"white\",\"showbackground\":true,\"ticks\":\"\",\"zerolinecolor\":\"white\",\"gridwidth\":2}},\"shapedefaults\":{\"line\":{\"color\":\"#2a3f5f\"}},\"annotationdefaults\":{\"arrowcolor\":\"#2a3f5f\",\"arrowhead\":0,\"arrowwidth\":1},\"geo\":{\"bgcolor\":\"white\",\"landcolor\":\"#E5ECF6\",\"subunitcolor\":\"white\",\"showland\":true,\"showlakes\":true,\"lakecolor\":\"white\"},\"title\":{\"x\":0.05},\"mapbox\":{\"style\":\"light\"}}},\"scene\":{\"domain\":{\"x\":[0.0,1.0],\"y\":[0.0,1.0]},\"xaxis\":{\"title\":{\"text\":\"x\"}},\"yaxis\":{\"title\":{\"text\":\"y\"}},\"zaxis\":{\"title\":{\"text\":\"z\"}}},\"coloraxis\":{\"colorbar\":{\"title\":{\"text\":\"color\"}},\"colorscale\":[[0.0,\"#0d0887\"],[0.1111111111111111,\"#46039f\"],[0.2222222222222222,\"#7201a8\"],[0.3333333333333333,\"#9c179e\"],[0.4444444444444444,\"#bd3786\"],[0.5555555555555556,\"#d8576b\"],[0.6666666666666666,\"#ed7953\"],[0.7777777777777778,\"#fb9f3a\"],[0.8888888888888888,\"#fdca26\"],[1.0,\"#f0f921\"]]},\"legend\":{\"tracegroupgap\":0},\"margin\":{\"t\":60}},                        {\"responsive\": true}                    ).then(function(){\n",
              "                            \n",
              "var gd = document.getElementById('6e62eea8-b8ef-40fc-a77d-17c38004d316');\n",
              "var x = new MutationObserver(function (mutations, observer) {{\n",
              "        var display = window.getComputedStyle(gd).display;\n",
              "        if (!display || display === 'none') {{\n",
              "            console.log([gd, 'removed!']);\n",
              "            Plotly.purge(gd);\n",
              "            observer.disconnect();\n",
              "        }}\n",
              "}});\n",
              "\n",
              "// Listen for the removal of the full notebook cells\n",
              "var notebookContainer = gd.closest('#notebook-container');\n",
              "if (notebookContainer) {{\n",
              "    x.observe(notebookContainer, {childList: true});\n",
              "}}\n",
              "\n",
              "// Listen for the clearing of the current output cell\n",
              "var outputEl = gd.closest('.output');\n",
              "if (outputEl) {{\n",
              "    x.observe(outputEl, {childList: true});\n",
              "}}\n",
              "\n",
              "                        })                };                            </script>        </div>\n",
              "</body>\n",
              "</html>"
            ]
          },
          "metadata": {}
        }
      ]
    },
    {
      "cell_type": "markdown",
      "source": [
        "<details>\n",
        "  <summary>\n",
        "    Если ячейка не загрузилась, должно быть так\n",
        "  </summary>\n",
        "\n",
        "  ![График](https://drive.google.com/uc?export=view&id=1v2MrbIptn1VUcQje7XCCz2-kdf_OpOgU)\n",
        "</details>"
      ],
      "metadata": {
        "id": "DWEAwptD1D08"
      }
    },
    {
      "cell_type": "markdown",
      "source": [
        "Как видно, в фигуре слишком много \"лишних\" точек\n",
        "\n",
        "Отрисуем только гексагоны (где в 4-й колонке не -1)"
      ],
      "metadata": {
        "id": "Va-N_XAeZ_i4"
      }
    },
    {
      "cell_type": "code",
      "source": [
        "data_to_write = data[data[:, 3] != -1]\n",
        "fig = px.scatter_3d(\n",
        "    data_to_write,\n",
        "    x=data_to_write[:, 0],\n",
        "    y=data_to_write[:, 1],\n",
        "    z=data_to_write[:, 2],\n",
        "    color=data_to_write[:, 3]\n",
        ")\n",
        "fig.show()"
      ],
      "metadata": {
        "colab": {
          "base_uri": "https://localhost:8080/",
          "height": 542
        },
        "id": "K-BMKOz7n2Tw",
        "outputId": "0232f25b-bf02-47a1-d1b0-2ffd1835cfa7"
      },
      "execution_count": null,
      "outputs": [
        {
          "output_type": "display_data",
          "data": {
            "text/html": [
              "<html>\n",
              "<head><meta charset=\"utf-8\" /></head>\n",
              "<body>\n",
              "    <div>            <script src=\"https://cdnjs.cloudflare.com/ajax/libs/mathjax/2.7.5/MathJax.js?config=TeX-AMS-MML_SVG\"></script><script type=\"text/javascript\">if (window.MathJax && window.MathJax.Hub && window.MathJax.Hub.Config) {window.MathJax.Hub.Config({SVG: {font: \"STIX-Web\"}});}</script>                <script type=\"text/javascript\">window.PlotlyConfig = {MathJaxConfig: 'local'};</script>\n",
              "        <script charset=\"utf-8\" src=\"https://cdn.plot.ly/plotly-2.24.1.min.js\"></script>                <div id=\"1df6d47d-2664-42e3-8fef-72d53a2162c1\" class=\"plotly-graph-div\" style=\"height:525px; width:100%;\"></div>            <script type=\"text/javascript\">                                    window.PLOTLYENV=window.PLOTLYENV || {};                                    if (document.getElementById(\"1df6d47d-2664-42e3-8fef-72d53a2162c1\")) {                    Plotly.newPlot(                        \"1df6d47d-2664-42e3-8fef-72d53a2162c1\",                        [{\"hovertemplate\":\"x=%{x}\\u003cbr\\u003ey=%{y}\\u003cbr\\u003ez=%{z}\\u003cbr\\u003ecolor=%{marker.color}\\u003cextra\\u003e\\u003c\\u002fextra\\u003e\",\"legendgroup\":\"\",\"marker\":{\"color\":[2,2,2,2,1,1,2,2,1,0,1,2,2,1,1,2,2,2,2],\"coloraxis\":\"coloraxis\",\"symbol\":\"circle\"},\"mode\":\"markers\",\"name\":\"\",\"scene\":\"scene\",\"showlegend\":false,\"x\":[0,0,0,1,1,1,1,2,2,2,2,2,3,3,3,3,4,4,4],\"y\":[2,3,4,1,2,3,4,0,1,2,3,4,0,1,2,3,0,1,2],\"z\":[4,3,2,4,3,2,1,4,3,2,1,0,3,2,1,0,2,1,0],\"type\":\"scatter3d\"}],                        {\"template\":{\"data\":{\"histogram2dcontour\":[{\"type\":\"histogram2dcontour\",\"colorbar\":{\"outlinewidth\":0,\"ticks\":\"\"},\"colorscale\":[[0.0,\"#0d0887\"],[0.1111111111111111,\"#46039f\"],[0.2222222222222222,\"#7201a8\"],[0.3333333333333333,\"#9c179e\"],[0.4444444444444444,\"#bd3786\"],[0.5555555555555556,\"#d8576b\"],[0.6666666666666666,\"#ed7953\"],[0.7777777777777778,\"#fb9f3a\"],[0.8888888888888888,\"#fdca26\"],[1.0,\"#f0f921\"]]}],\"choropleth\":[{\"type\":\"choropleth\",\"colorbar\":{\"outlinewidth\":0,\"ticks\":\"\"}}],\"histogram2d\":[{\"type\":\"histogram2d\",\"colorbar\":{\"outlinewidth\":0,\"ticks\":\"\"},\"colorscale\":[[0.0,\"#0d0887\"],[0.1111111111111111,\"#46039f\"],[0.2222222222222222,\"#7201a8\"],[0.3333333333333333,\"#9c179e\"],[0.4444444444444444,\"#bd3786\"],[0.5555555555555556,\"#d8576b\"],[0.6666666666666666,\"#ed7953\"],[0.7777777777777778,\"#fb9f3a\"],[0.8888888888888888,\"#fdca26\"],[1.0,\"#f0f921\"]]}],\"heatmap\":[{\"type\":\"heatmap\",\"colorbar\":{\"outlinewidth\":0,\"ticks\":\"\"},\"colorscale\":[[0.0,\"#0d0887\"],[0.1111111111111111,\"#46039f\"],[0.2222222222222222,\"#7201a8\"],[0.3333333333333333,\"#9c179e\"],[0.4444444444444444,\"#bd3786\"],[0.5555555555555556,\"#d8576b\"],[0.6666666666666666,\"#ed7953\"],[0.7777777777777778,\"#fb9f3a\"],[0.8888888888888888,\"#fdca26\"],[1.0,\"#f0f921\"]]}],\"heatmapgl\":[{\"type\":\"heatmapgl\",\"colorbar\":{\"outlinewidth\":0,\"ticks\":\"\"},\"colorscale\":[[0.0,\"#0d0887\"],[0.1111111111111111,\"#46039f\"],[0.2222222222222222,\"#7201a8\"],[0.3333333333333333,\"#9c179e\"],[0.4444444444444444,\"#bd3786\"],[0.5555555555555556,\"#d8576b\"],[0.6666666666666666,\"#ed7953\"],[0.7777777777777778,\"#fb9f3a\"],[0.8888888888888888,\"#fdca26\"],[1.0,\"#f0f921\"]]}],\"contourcarpet\":[{\"type\":\"contourcarpet\",\"colorbar\":{\"outlinewidth\":0,\"ticks\":\"\"}}],\"contour\":[{\"type\":\"contour\",\"colorbar\":{\"outlinewidth\":0,\"ticks\":\"\"},\"colorscale\":[[0.0,\"#0d0887\"],[0.1111111111111111,\"#46039f\"],[0.2222222222222222,\"#7201a8\"],[0.3333333333333333,\"#9c179e\"],[0.4444444444444444,\"#bd3786\"],[0.5555555555555556,\"#d8576b\"],[0.6666666666666666,\"#ed7953\"],[0.7777777777777778,\"#fb9f3a\"],[0.8888888888888888,\"#fdca26\"],[1.0,\"#f0f921\"]]}],\"surface\":[{\"type\":\"surface\",\"colorbar\":{\"outlinewidth\":0,\"ticks\":\"\"},\"colorscale\":[[0.0,\"#0d0887\"],[0.1111111111111111,\"#46039f\"],[0.2222222222222222,\"#7201a8\"],[0.3333333333333333,\"#9c179e\"],[0.4444444444444444,\"#bd3786\"],[0.5555555555555556,\"#d8576b\"],[0.6666666666666666,\"#ed7953\"],[0.7777777777777778,\"#fb9f3a\"],[0.8888888888888888,\"#fdca26\"],[1.0,\"#f0f921\"]]}],\"mesh3d\":[{\"type\":\"mesh3d\",\"colorbar\":{\"outlinewidth\":0,\"ticks\":\"\"}}],\"scatter\":[{\"fillpattern\":{\"fillmode\":\"overlay\",\"size\":10,\"solidity\":0.2},\"type\":\"scatter\"}],\"parcoords\":[{\"type\":\"parcoords\",\"line\":{\"colorbar\":{\"outlinewidth\":0,\"ticks\":\"\"}}}],\"scatterpolargl\":[{\"type\":\"scatterpolargl\",\"marker\":{\"colorbar\":{\"outlinewidth\":0,\"ticks\":\"\"}}}],\"bar\":[{\"error_x\":{\"color\":\"#2a3f5f\"},\"error_y\":{\"color\":\"#2a3f5f\"},\"marker\":{\"line\":{\"color\":\"#E5ECF6\",\"width\":0.5},\"pattern\":{\"fillmode\":\"overlay\",\"size\":10,\"solidity\":0.2}},\"type\":\"bar\"}],\"scattergeo\":[{\"type\":\"scattergeo\",\"marker\":{\"colorbar\":{\"outlinewidth\":0,\"ticks\":\"\"}}}],\"scatterpolar\":[{\"type\":\"scatterpolar\",\"marker\":{\"colorbar\":{\"outlinewidth\":0,\"ticks\":\"\"}}}],\"histogram\":[{\"marker\":{\"pattern\":{\"fillmode\":\"overlay\",\"size\":10,\"solidity\":0.2}},\"type\":\"histogram\"}],\"scattergl\":[{\"type\":\"scattergl\",\"marker\":{\"colorbar\":{\"outlinewidth\":0,\"ticks\":\"\"}}}],\"scatter3d\":[{\"type\":\"scatter3d\",\"line\":{\"colorbar\":{\"outlinewidth\":0,\"ticks\":\"\"}},\"marker\":{\"colorbar\":{\"outlinewidth\":0,\"ticks\":\"\"}}}],\"scattermapbox\":[{\"type\":\"scattermapbox\",\"marker\":{\"colorbar\":{\"outlinewidth\":0,\"ticks\":\"\"}}}],\"scatterternary\":[{\"type\":\"scatterternary\",\"marker\":{\"colorbar\":{\"outlinewidth\":0,\"ticks\":\"\"}}}],\"scattercarpet\":[{\"type\":\"scattercarpet\",\"marker\":{\"colorbar\":{\"outlinewidth\":0,\"ticks\":\"\"}}}],\"carpet\":[{\"aaxis\":{\"endlinecolor\":\"#2a3f5f\",\"gridcolor\":\"white\",\"linecolor\":\"white\",\"minorgridcolor\":\"white\",\"startlinecolor\":\"#2a3f5f\"},\"baxis\":{\"endlinecolor\":\"#2a3f5f\",\"gridcolor\":\"white\",\"linecolor\":\"white\",\"minorgridcolor\":\"white\",\"startlinecolor\":\"#2a3f5f\"},\"type\":\"carpet\"}],\"table\":[{\"cells\":{\"fill\":{\"color\":\"#EBF0F8\"},\"line\":{\"color\":\"white\"}},\"header\":{\"fill\":{\"color\":\"#C8D4E3\"},\"line\":{\"color\":\"white\"}},\"type\":\"table\"}],\"barpolar\":[{\"marker\":{\"line\":{\"color\":\"#E5ECF6\",\"width\":0.5},\"pattern\":{\"fillmode\":\"overlay\",\"size\":10,\"solidity\":0.2}},\"type\":\"barpolar\"}],\"pie\":[{\"automargin\":true,\"type\":\"pie\"}]},\"layout\":{\"autotypenumbers\":\"strict\",\"colorway\":[\"#636efa\",\"#EF553B\",\"#00cc96\",\"#ab63fa\",\"#FFA15A\",\"#19d3f3\",\"#FF6692\",\"#B6E880\",\"#FF97FF\",\"#FECB52\"],\"font\":{\"color\":\"#2a3f5f\"},\"hovermode\":\"closest\",\"hoverlabel\":{\"align\":\"left\"},\"paper_bgcolor\":\"white\",\"plot_bgcolor\":\"#E5ECF6\",\"polar\":{\"bgcolor\":\"#E5ECF6\",\"angularaxis\":{\"gridcolor\":\"white\",\"linecolor\":\"white\",\"ticks\":\"\"},\"radialaxis\":{\"gridcolor\":\"white\",\"linecolor\":\"white\",\"ticks\":\"\"}},\"ternary\":{\"bgcolor\":\"#E5ECF6\",\"aaxis\":{\"gridcolor\":\"white\",\"linecolor\":\"white\",\"ticks\":\"\"},\"baxis\":{\"gridcolor\":\"white\",\"linecolor\":\"white\",\"ticks\":\"\"},\"caxis\":{\"gridcolor\":\"white\",\"linecolor\":\"white\",\"ticks\":\"\"}},\"coloraxis\":{\"colorbar\":{\"outlinewidth\":0,\"ticks\":\"\"}},\"colorscale\":{\"sequential\":[[0.0,\"#0d0887\"],[0.1111111111111111,\"#46039f\"],[0.2222222222222222,\"#7201a8\"],[0.3333333333333333,\"#9c179e\"],[0.4444444444444444,\"#bd3786\"],[0.5555555555555556,\"#d8576b\"],[0.6666666666666666,\"#ed7953\"],[0.7777777777777778,\"#fb9f3a\"],[0.8888888888888888,\"#fdca26\"],[1.0,\"#f0f921\"]],\"sequentialminus\":[[0.0,\"#0d0887\"],[0.1111111111111111,\"#46039f\"],[0.2222222222222222,\"#7201a8\"],[0.3333333333333333,\"#9c179e\"],[0.4444444444444444,\"#bd3786\"],[0.5555555555555556,\"#d8576b\"],[0.6666666666666666,\"#ed7953\"],[0.7777777777777778,\"#fb9f3a\"],[0.8888888888888888,\"#fdca26\"],[1.0,\"#f0f921\"]],\"diverging\":[[0,\"#8e0152\"],[0.1,\"#c51b7d\"],[0.2,\"#de77ae\"],[0.3,\"#f1b6da\"],[0.4,\"#fde0ef\"],[0.5,\"#f7f7f7\"],[0.6,\"#e6f5d0\"],[0.7,\"#b8e186\"],[0.8,\"#7fbc41\"],[0.9,\"#4d9221\"],[1,\"#276419\"]]},\"xaxis\":{\"gridcolor\":\"white\",\"linecolor\":\"white\",\"ticks\":\"\",\"title\":{\"standoff\":15},\"zerolinecolor\":\"white\",\"automargin\":true,\"zerolinewidth\":2},\"yaxis\":{\"gridcolor\":\"white\",\"linecolor\":\"white\",\"ticks\":\"\",\"title\":{\"standoff\":15},\"zerolinecolor\":\"white\",\"automargin\":true,\"zerolinewidth\":2},\"scene\":{\"xaxis\":{\"backgroundcolor\":\"#E5ECF6\",\"gridcolor\":\"white\",\"linecolor\":\"white\",\"showbackground\":true,\"ticks\":\"\",\"zerolinecolor\":\"white\",\"gridwidth\":2},\"yaxis\":{\"backgroundcolor\":\"#E5ECF6\",\"gridcolor\":\"white\",\"linecolor\":\"white\",\"showbackground\":true,\"ticks\":\"\",\"zerolinecolor\":\"white\",\"gridwidth\":2},\"zaxis\":{\"backgroundcolor\":\"#E5ECF6\",\"gridcolor\":\"white\",\"linecolor\":\"white\",\"showbackground\":true,\"ticks\":\"\",\"zerolinecolor\":\"white\",\"gridwidth\":2}},\"shapedefaults\":{\"line\":{\"color\":\"#2a3f5f\"}},\"annotationdefaults\":{\"arrowcolor\":\"#2a3f5f\",\"arrowhead\":0,\"arrowwidth\":1},\"geo\":{\"bgcolor\":\"white\",\"landcolor\":\"#E5ECF6\",\"subunitcolor\":\"white\",\"showland\":true,\"showlakes\":true,\"lakecolor\":\"white\"},\"title\":{\"x\":0.05},\"mapbox\":{\"style\":\"light\"}}},\"scene\":{\"domain\":{\"x\":[0.0,1.0],\"y\":[0.0,1.0]},\"xaxis\":{\"title\":{\"text\":\"x\"}},\"yaxis\":{\"title\":{\"text\":\"y\"}},\"zaxis\":{\"title\":{\"text\":\"z\"}}},\"coloraxis\":{\"colorbar\":{\"title\":{\"text\":\"color\"}},\"colorscale\":[[0.0,\"#0d0887\"],[0.1111111111111111,\"#46039f\"],[0.2222222222222222,\"#7201a8\"],[0.3333333333333333,\"#9c179e\"],[0.4444444444444444,\"#bd3786\"],[0.5555555555555556,\"#d8576b\"],[0.6666666666666666,\"#ed7953\"],[0.7777777777777778,\"#fb9f3a\"],[0.8888888888888888,\"#fdca26\"],[1.0,\"#f0f921\"]]},\"legend\":{\"tracegroupgap\":0},\"margin\":{\"t\":60}},                        {\"responsive\": true}                    ).then(function(){\n",
              "                            \n",
              "var gd = document.getElementById('1df6d47d-2664-42e3-8fef-72d53a2162c1');\n",
              "var x = new MutationObserver(function (mutations, observer) {{\n",
              "        var display = window.getComputedStyle(gd).display;\n",
              "        if (!display || display === 'none') {{\n",
              "            console.log([gd, 'removed!']);\n",
              "            Plotly.purge(gd);\n",
              "            observer.disconnect();\n",
              "        }}\n",
              "}});\n",
              "\n",
              "// Listen for the removal of the full notebook cells\n",
              "var notebookContainer = gd.closest('#notebook-container');\n",
              "if (notebookContainer) {{\n",
              "    x.observe(notebookContainer, {childList: true});\n",
              "}}\n",
              "\n",
              "// Listen for the clearing of the current output cell\n",
              "var outputEl = gd.closest('.output');\n",
              "if (outputEl) {{\n",
              "    x.observe(outputEl, {childList: true});\n",
              "}}\n",
              "\n",
              "                        })                };                            </script>        </div>\n",
              "</body>\n",
              "</html>"
            ]
          },
          "metadata": {}
        }
      ]
    },
    {
      "cell_type": "markdown",
      "source": [
        "<details>\n",
        "  <summary>\n",
        "    Если ячейка не загрузилась, должно быть так\n",
        "  </summary>\n",
        "  \n",
        "  ![График](https://drive.google.com/uc?export=view&id=1BT6oMWwbX2pb5bz2vgV_S55saad6J_MZ)\n",
        "</details>"
      ],
      "metadata": {
        "id": "D-qlHmeM1fJz"
      }
    },
    {
      "cell_type": "markdown",
      "source": [
        "Сделаем функцию создания куба, хранящего гексагоны до заданного расстояния"
      ],
      "metadata": {
        "id": "CuL9yiu9a7NM"
      }
    },
    {
      "cell_type": "code",
      "source": [
        "\"\"\"\n",
        "max_dist - максимальное расстояние гексагона\n",
        "\n",
        "TODO:\n",
        "- Вычислить N в зависимости от max_dist\n",
        "- Собрать код генерации куба выше в одну функцию\n",
        "\n",
        "Примечание: расстояние от центра не добавлять, займемся этим ниже\n",
        "\"\"\"\n",
        "\n",
        "def create_map(max_dist: int):\n",
        "  # Код тут\n",
        "  N = max_dist * 2 + 1\n",
        "\n",
        "  data = np.array([[i, j, k, 1] for i in range(N) for j in range(N) for k in range(N)])\n",
        "\n",
        "  return data"
      ],
      "metadata": {
        "id": "fJs0V4sNHDaB"
      },
      "execution_count": 16,
      "outputs": []
    },
    {
      "cell_type": "code",
      "source": [
        "MAX_DIST = 20\n",
        "\n",
        "map_data = create_map(MAX_DIST)"
      ],
      "metadata": {
        "id": "rXgioWagHQiF"
      },
      "execution_count": 19,
      "outputs": []
    },
    {
      "cell_type": "code",
      "source": [
        "map_data"
      ],
      "metadata": {
        "id": "pShtr3QJp0pf",
        "colab": {
          "base_uri": "https://localhost:8080/"
        },
        "outputId": "8eecc919-10d5-442c-f61b-f21a0f6c44e6"
      },
      "execution_count": 20,
      "outputs": [
        {
          "output_type": "execute_result",
          "data": {
            "text/plain": [
              "array([[ 0,  0,  0,  1],\n",
              "       [ 0,  0,  1,  1],\n",
              "       [ 0,  0,  2,  1],\n",
              "       ...,\n",
              "       [40, 40, 38,  1],\n",
              "       [40, 40, 39,  1],\n",
              "       [40, 40, 40,  1]])"
            ]
          },
          "metadata": {},
          "execution_count": 20
        }
      ]
    },
    {
      "cell_type": "markdown",
      "source": [
        "Благодаря правилу\\\n",
        "\"сумма координатов гексагона равна 0\", гексагоны лежат в плоскости, которая задается уравнением\n",
        "\n",
        "$$ x + y + z = 0 $$\n",
        "\n",
        "И для того, чтобы получить индексы гексагонов, достаточно проверять, удовлетворяет ли точка в кубе этому условию\n",
        "\n",
        "Однако мы смещали каждую координату на некоторую длину, чтобы не использовать отрицательные индексы\\\n",
        "Значит, нам необходимо проверять условие\n",
        "\n",
        "$$ (x - c) + (y - c) + (z - c) = 0 $$\n",
        "$$ x + y + z = 3c $$\n",
        "\n",
        "Где $c$ - размер смещения (т.е максимальная длина гексагона)"
      ],
      "metadata": {
        "id": "ZbGO6t8ab05M"
      }
    },
    {
      "cell_type": "markdown",
      "source": [
        "Сделаем функцию получения индексов гексагонов"
      ],
      "metadata": {
        "id": "9vFhxKE2dQOH"
      }
    },
    {
      "cell_type": "code",
      "source": [
        "\"\"\"\n",
        "coords_map - куб с гексагонами\n",
        "\n",
        "Функция проходит по точкам куба и проверяет соответствие условию гексагона\n",
        "Возвращает массив индексов гексагонов\n",
        "\n",
        "Для реализации лучше использовать np.where\n",
        "\"\"\"\n",
        "\n",
        "def get_hex_idxs(coords_map):\n",
        "  # Код тут\n",
        "  return np.where(coords_map[:, 0] + coords_map[:, 1] + coords_map[:, 2] == MAX_DIST*3)[0]"
      ],
      "metadata": {
        "id": "ieaoXEgkHa8P"
      },
      "execution_count": 17,
      "outputs": []
    },
    {
      "cell_type": "code",
      "source": [
        "hexagon_idxs = get_hex_idxs(map_data)\n",
        "\n",
        "hexagon_idxs"
      ],
      "metadata": {
        "colab": {
          "base_uri": "https://localhost:8080/"
        },
        "id": "w_GlJf68EFJJ",
        "outputId": "0dd116c8-87a5-4a0a-db56-1fb19cbc80a8"
      },
      "execution_count": 21,
      "outputs": [
        {
          "output_type": "execute_result",
          "data": {
            "text/plain": [
              "array([  860,   900,   940, ..., 67980, 68020, 68060])"
            ]
          },
          "metadata": {},
          "execution_count": 21
        }
      ]
    },
    {
      "cell_type": "markdown",
      "source": [
        "Для каждого гексагона определим и запишем его расстояние до центра\n",
        "\n",
        "Рекомендую еще раз взглянуть на рисунок и самостоятельно найти закономерность, по которой можно определять расстояние до центра\n",
        "\n",
        "<img src=\"https://drive.google.com/uc?export=view&id=10bhJJ-AD3ltGN6KUYQEo_tKjnqdSrD9D\" height=\"600\"/>"
      ],
      "metadata": {
        "id": "kxgzSt6cd7T9"
      }
    },
    {
      "cell_type": "code",
      "source": [
        "hexagon_data = map_data[hexagon_idxs]\n",
        "for hexagon in hexagon_data:\n",
        "  # Код здесь\n",
        "  hexagon[-1] = max(abs(hexagon[:-1] - MAX_DIST))"
      ],
      "metadata": {
        "id": "VTAlpMthEZJz"
      },
      "execution_count": 22,
      "outputs": []
    },
    {
      "cell_type": "markdown",
      "source": [
        "Нарисуем гексагоны с учетом расстояния до центра"
      ],
      "metadata": {
        "id": "SsIt7LBUeg4b"
      }
    },
    {
      "cell_type": "code",
      "source": [
        "fig = px.scatter_3d(\n",
        "    hexagon_data,\n",
        "    x=hexagon_data[:, 0],\n",
        "    y=hexagon_data[:, 1],\n",
        "    z=hexagon_data[:, 2],\n",
        "    color=hexagon_data[:, 3]\n",
        ")\n",
        "fig.show()"
      ],
      "metadata": {
        "colab": {
          "base_uri": "https://localhost:8080/",
          "height": 542
        },
        "id": "GCVZIUPSAZGP",
        "outputId": "6ddaf7a8-ecf5-4197-c052-0ef4b6c5648e"
      },
      "execution_count": 23,
      "outputs": [
        {
          "output_type": "display_data",
          "data": {
            "text/html": [
              "<html>\n",
              "<head><meta charset=\"utf-8\" /></head>\n",
              "<body>\n",
              "    <div>            <script src=\"https://cdnjs.cloudflare.com/ajax/libs/mathjax/2.7.5/MathJax.js?config=TeX-AMS-MML_SVG\"></script><script type=\"text/javascript\">if (window.MathJax && window.MathJax.Hub && window.MathJax.Hub.Config) {window.MathJax.Hub.Config({SVG: {font: \"STIX-Web\"}});}</script>                <script type=\"text/javascript\">window.PlotlyConfig = {MathJaxConfig: 'local'};</script>\n",
              "        <script charset=\"utf-8\" src=\"https://cdn.plot.ly/plotly-2.24.1.min.js\"></script>                <div id=\"f1ead7e9-2b9c-4cea-8c47-6d6c648a06d7\" class=\"plotly-graph-div\" style=\"height:525px; width:100%;\"></div>            <script type=\"text/javascript\">                                    window.PLOTLYENV=window.PLOTLYENV || {};                                    if (document.getElementById(\"f1ead7e9-2b9c-4cea-8c47-6d6c648a06d7\")) {                    Plotly.newPlot(                        \"f1ead7e9-2b9c-4cea-8c47-6d6c648a06d7\",                        [{\"hovertemplate\":\"x=%{x}\\u003cbr\\u003ey=%{y}\\u003cbr\\u003ez=%{z}\\u003cbr\\u003ecolor=%{marker.color}\\u003cextra\\u003e\\u003c\\u002fextra\\u003e\",\"legendgroup\":\"\",\"marker\":{\"color\":[20,20,20,20,20,20,20,20,20,20,20,20,20,20,20,20,20,20,20,20,20,20,19,19,19,19,19,19,19,19,19,19,19,19,19,19,19,19,19,19,19,19,20,20,19,18,18,18,18,18,18,18,18,18,18,18,18,18,18,18,18,18,18,18,19,20,20,19,18,17,17,17,17,17,17,17,17,17,17,17,17,17,17,17,17,17,17,18,19,20,20,19,18,17,16,16,16,16,16,16,16,16,16,16,16,16,16,16,16,16,16,17,18,19,20,20,19,18,17,16,15,15,15,15,15,15,15,15,15,15,15,15,15,15,15,15,16,17,18,19,20,20,19,18,17,16,15,14,14,14,14,14,14,14,14,14,14,14,14,14,14,14,15,16,17,18,19,20,20,19,18,17,16,15,14,13,13,13,13,13,13,13,13,13,13,13,13,13,13,14,15,16,17,18,19,20,20,19,18,17,16,15,14,13,12,12,12,12,12,12,12,12,12,12,12,12,12,13,14,15,16,17,18,19,20,20,19,18,17,16,15,14,13,12,11,11,11,11,11,11,11,11,11,11,11,11,12,13,14,15,16,17,18,19,20,20,19,18,17,16,15,14,13,12,11,10,10,10,10,10,10,10,10,10,10,10,11,12,13,14,15,16,17,18,19,20,20,19,18,17,16,15,14,13,12,11,10,9,9,9,9,9,9,9,9,9,9,10,11,12,13,14,15,16,17,18,19,20,20,19,18,17,16,15,14,13,12,11,10,9,8,8,8,8,8,8,8,8,8,9,10,11,12,13,14,15,16,17,18,19,20,20,19,18,17,16,15,14,13,12,11,10,9,8,7,7,7,7,7,7,7,7,8,9,10,11,12,13,14,15,16,17,18,19,20,20,19,18,17,16,15,14,13,12,11,10,9,8,7,6,6,6,6,6,6,6,7,8,9,10,11,12,13,14,15,16,17,18,19,20,20,19,18,17,16,15,14,13,12,11,10,9,8,7,6,5,5,5,5,5,5,6,7,8,9,10,11,12,13,14,15,16,17,18,19,20,20,19,18,17,16,15,14,13,12,11,10,9,8,7,6,5,4,4,4,4,4,5,6,7,8,9,10,11,12,13,14,15,16,17,18,19,20,20,19,18,17,16,15,14,13,12,11,10,9,8,7,6,5,4,3,3,3,3,4,5,6,7,8,9,10,11,12,13,14,15,16,17,18,19,20,20,19,18,17,16,15,14,13,12,11,10,9,8,7,6,5,4,3,2,2,2,3,4,5,6,7,8,9,10,11,12,13,14,15,16,17,18,19,20,20,19,18,17,16,15,14,13,12,11,10,9,8,7,6,5,4,3,2,1,1,2,3,4,5,6,7,8,9,10,11,12,13,14,15,16,17,18,19,20,20,19,18,17,16,15,14,13,12,11,10,9,8,7,6,5,4,3,2,1,0,1,2,3,4,5,6,7,8,9,10,11,12,13,14,15,16,17,18,19,20,20,19,18,17,16,15,14,13,12,11,10,9,8,7,6,5,4,3,2,1,1,2,3,4,5,6,7,8,9,10,11,12,13,14,15,16,17,18,19,20,20,19,18,17,16,15,14,13,12,11,10,9,8,7,6,5,4,3,2,2,2,3,4,5,6,7,8,9,10,11,12,13,14,15,16,17,18,19,20,20,19,18,17,16,15,14,13,12,11,10,9,8,7,6,5,4,3,3,3,3,4,5,6,7,8,9,10,11,12,13,14,15,16,17,18,19,20,20,19,18,17,16,15,14,13,12,11,10,9,8,7,6,5,4,4,4,4,4,5,6,7,8,9,10,11,12,13,14,15,16,17,18,19,20,20,19,18,17,16,15,14,13,12,11,10,9,8,7,6,5,5,5,5,5,5,6,7,8,9,10,11,12,13,14,15,16,17,18,19,20,20,19,18,17,16,15,14,13,12,11,10,9,8,7,6,6,6,6,6,6,6,7,8,9,10,11,12,13,14,15,16,17,18,19,20,20,19,18,17,16,15,14,13,12,11,10,9,8,7,7,7,7,7,7,7,7,8,9,10,11,12,13,14,15,16,17,18,19,20,20,19,18,17,16,15,14,13,12,11,10,9,8,8,8,8,8,8,8,8,8,9,10,11,12,13,14,15,16,17,18,19,20,20,19,18,17,16,15,14,13,12,11,10,9,9,9,9,9,9,9,9,9,9,10,11,12,13,14,15,16,17,18,19,20,20,19,18,17,16,15,14,13,12,11,10,10,10,10,10,10,10,10,10,10,10,11,12,13,14,15,16,17,18,19,20,20,19,18,17,16,15,14,13,12,11,11,11,11,11,11,11,11,11,11,11,11,12,13,14,15,16,17,18,19,20,20,19,18,17,16,15,14,13,12,12,12,12,12,12,12,12,12,12,12,12,12,13,14,15,16,17,18,19,20,20,19,18,17,16,15,14,13,13,13,13,13,13,13,13,13,13,13,13,13,13,14,15,16,17,18,19,20,20,19,18,17,16,15,14,14,14,14,14,14,14,14,14,14,14,14,14,14,14,15,16,17,18,19,20,20,19,18,17,16,15,15,15,15,15,15,15,15,15,15,15,15,15,15,15,15,16,17,18,19,20,20,19,18,17,16,16,16,16,16,16,16,16,16,16,16,16,16,16,16,16,16,17,18,19,20,20,19,18,17,17,17,17,17,17,17,17,17,17,17,17,17,17,17,17,17,17,18,19,20,20,19,18,18,18,18,18,18,18,18,18,18,18,18,18,18,18,18,18,18,18,19,20,20,19,19,19,19,19,19,19,19,19,19,19,19,19,19,19,19,19,19,19,19,20,20,20,20,20,20,20,20,20,20,20,20,20,20,20,20,20,20,20,20,20,20],\"coloraxis\":\"coloraxis\",\"symbol\":\"circle\"},\"mode\":\"markers\",\"name\":\"\",\"scene\":\"scene\",\"showlegend\":false,\"x\":[0,0,0,0,0,0,0,0,0,0,0,0,0,0,0,0,0,0,0,0,0,1,1,1,1,1,1,1,1,1,1,1,1,1,1,1,1,1,1,1,1,1,1,2,2,2,2,2,2,2,2,2,2,2,2,2,2,2,2,2,2,2,2,2,2,2,3,3,3,3,3,3,3,3,3,3,3,3,3,3,3,3,3,3,3,3,3,3,3,3,4,4,4,4,4,4,4,4,4,4,4,4,4,4,4,4,4,4,4,4,4,4,4,4,4,5,5,5,5,5,5,5,5,5,5,5,5,5,5,5,5,5,5,5,5,5,5,5,5,5,5,6,6,6,6,6,6,6,6,6,6,6,6,6,6,6,6,6,6,6,6,6,6,6,6,6,6,6,7,7,7,7,7,7,7,7,7,7,7,7,7,7,7,7,7,7,7,7,7,7,7,7,7,7,7,7,8,8,8,8,8,8,8,8,8,8,8,8,8,8,8,8,8,8,8,8,8,8,8,8,8,8,8,8,8,9,9,9,9,9,9,9,9,9,9,9,9,9,9,9,9,9,9,9,9,9,9,9,9,9,9,9,9,9,9,10,10,10,10,10,10,10,10,10,10,10,10,10,10,10,10,10,10,10,10,10,10,10,10,10,10,10,10,10,10,10,11,11,11,11,11,11,11,11,11,11,11,11,11,11,11,11,11,11,11,11,11,11,11,11,11,11,11,11,11,11,11,11,12,12,12,12,12,12,12,12,12,12,12,12,12,12,12,12,12,12,12,12,12,12,12,12,12,12,12,12,12,12,12,12,12,13,13,13,13,13,13,13,13,13,13,13,13,13,13,13,13,13,13,13,13,13,13,13,13,13,13,13,13,13,13,13,13,13,13,14,14,14,14,14,14,14,14,14,14,14,14,14,14,14,14,14,14,14,14,14,14,14,14,14,14,14,14,14,14,14,14,14,14,14,15,15,15,15,15,15,15,15,15,15,15,15,15,15,15,15,15,15,15,15,15,15,15,15,15,15,15,15,15,15,15,15,15,15,15,15,16,16,16,16,16,16,16,16,16,16,16,16,16,16,16,16,16,16,16,16,16,16,16,16,16,16,16,16,16,16,16,16,16,16,16,16,16,17,17,17,17,17,17,17,17,17,17,17,17,17,17,17,17,17,17,17,17,17,17,17,17,17,17,17,17,17,17,17,17,17,17,17,17,17,17,18,18,18,18,18,18,18,18,18,18,18,18,18,18,18,18,18,18,18,18,18,18,18,18,18,18,18,18,18,18,18,18,18,18,18,18,18,18,18,19,19,19,19,19,19,19,19,19,19,19,19,19,19,19,19,19,19,19,19,19,19,19,19,19,19,19,19,19,19,19,19,19,19,19,19,19,19,19,19,20,20,20,20,20,20,20,20,20,20,20,20,20,20,20,20,20,20,20,20,20,20,20,20,20,20,20,20,20,20,20,20,20,20,20,20,20,20,20,20,20,21,21,21,21,21,21,21,21,21,21,21,21,21,21,21,21,21,21,21,21,21,21,21,21,21,21,21,21,21,21,21,21,21,21,21,21,21,21,21,21,22,22,22,22,22,22,22,22,22,22,22,22,22,22,22,22,22,22,22,22,22,22,22,22,22,22,22,22,22,22,22,22,22,22,22,22,22,22,22,23,23,23,23,23,23,23,23,23,23,23,23,23,23,23,23,23,23,23,23,23,23,23,23,23,23,23,23,23,23,23,23,23,23,23,23,23,23,24,24,24,24,24,24,24,24,24,24,24,24,24,24,24,24,24,24,24,24,24,24,24,24,24,24,24,24,24,24,24,24,24,24,24,24,24,25,25,25,25,25,25,25,25,25,25,25,25,25,25,25,25,25,25,25,25,25,25,25,25,25,25,25,25,25,25,25,25,25,25,25,25,26,26,26,26,26,26,26,26,26,26,26,26,26,26,26,26,26,26,26,26,26,26,26,26,26,26,26,26,26,26,26,26,26,26,26,27,27,27,27,27,27,27,27,27,27,27,27,27,27,27,27,27,27,27,27,27,27,27,27,27,27,27,27,27,27,27,27,27,27,28,28,28,28,28,28,28,28,28,28,28,28,28,28,28,28,28,28,28,28,28,28,28,28,28,28,28,28,28,28,28,28,28,29,29,29,29,29,29,29,29,29,29,29,29,29,29,29,29,29,29,29,29,29,29,29,29,29,29,29,29,29,29,29,29,30,30,30,30,30,30,30,30,30,30,30,30,30,30,30,30,30,30,30,30,30,30,30,30,30,30,30,30,30,30,30,31,31,31,31,31,31,31,31,31,31,31,31,31,31,31,31,31,31,31,31,31,31,31,31,31,31,31,31,31,31,32,32,32,32,32,32,32,32,32,32,32,32,32,32,32,32,32,32,32,32,32,32,32,32,32,32,32,32,32,33,33,33,33,33,33,33,33,33,33,33,33,33,33,33,33,33,33,33,33,33,33,33,33,33,33,33,33,34,34,34,34,34,34,34,34,34,34,34,34,34,34,34,34,34,34,34,34,34,34,34,34,34,34,34,35,35,35,35,35,35,35,35,35,35,35,35,35,35,35,35,35,35,35,35,35,35,35,35,35,35,36,36,36,36,36,36,36,36,36,36,36,36,36,36,36,36,36,36,36,36,36,36,36,36,36,37,37,37,37,37,37,37,37,37,37,37,37,37,37,37,37,37,37,37,37,37,37,37,37,38,38,38,38,38,38,38,38,38,38,38,38,38,38,38,38,38,38,38,38,38,38,38,39,39,39,39,39,39,39,39,39,39,39,39,39,39,39,39,39,39,39,39,39,39,40,40,40,40,40,40,40,40,40,40,40,40,40,40,40,40,40,40,40,40,40],\"y\":[20,21,22,23,24,25,26,27,28,29,30,31,32,33,34,35,36,37,38,39,40,19,20,21,22,23,24,25,26,27,28,29,30,31,32,33,34,35,36,37,38,39,40,18,19,20,21,22,23,24,25,26,27,28,29,30,31,32,33,34,35,36,37,38,39,40,17,18,19,20,21,22,23,24,25,26,27,28,29,30,31,32,33,34,35,36,37,38,39,40,16,17,18,19,20,21,22,23,24,25,26,27,28,29,30,31,32,33,34,35,36,37,38,39,40,15,16,17,18,19,20,21,22,23,24,25,26,27,28,29,30,31,32,33,34,35,36,37,38,39,40,14,15,16,17,18,19,20,21,22,23,24,25,26,27,28,29,30,31,32,33,34,35,36,37,38,39,40,13,14,15,16,17,18,19,20,21,22,23,24,25,26,27,28,29,30,31,32,33,34,35,36,37,38,39,40,12,13,14,15,16,17,18,19,20,21,22,23,24,25,26,27,28,29,30,31,32,33,34,35,36,37,38,39,40,11,12,13,14,15,16,17,18,19,20,21,22,23,24,25,26,27,28,29,30,31,32,33,34,35,36,37,38,39,40,10,11,12,13,14,15,16,17,18,19,20,21,22,23,24,25,26,27,28,29,30,31,32,33,34,35,36,37,38,39,40,9,10,11,12,13,14,15,16,17,18,19,20,21,22,23,24,25,26,27,28,29,30,31,32,33,34,35,36,37,38,39,40,8,9,10,11,12,13,14,15,16,17,18,19,20,21,22,23,24,25,26,27,28,29,30,31,32,33,34,35,36,37,38,39,40,7,8,9,10,11,12,13,14,15,16,17,18,19,20,21,22,23,24,25,26,27,28,29,30,31,32,33,34,35,36,37,38,39,40,6,7,8,9,10,11,12,13,14,15,16,17,18,19,20,21,22,23,24,25,26,27,28,29,30,31,32,33,34,35,36,37,38,39,40,5,6,7,8,9,10,11,12,13,14,15,16,17,18,19,20,21,22,23,24,25,26,27,28,29,30,31,32,33,34,35,36,37,38,39,40,4,5,6,7,8,9,10,11,12,13,14,15,16,17,18,19,20,21,22,23,24,25,26,27,28,29,30,31,32,33,34,35,36,37,38,39,40,3,4,5,6,7,8,9,10,11,12,13,14,15,16,17,18,19,20,21,22,23,24,25,26,27,28,29,30,31,32,33,34,35,36,37,38,39,40,2,3,4,5,6,7,8,9,10,11,12,13,14,15,16,17,18,19,20,21,22,23,24,25,26,27,28,29,30,31,32,33,34,35,36,37,38,39,40,1,2,3,4,5,6,7,8,9,10,11,12,13,14,15,16,17,18,19,20,21,22,23,24,25,26,27,28,29,30,31,32,33,34,35,36,37,38,39,40,0,1,2,3,4,5,6,7,8,9,10,11,12,13,14,15,16,17,18,19,20,21,22,23,24,25,26,27,28,29,30,31,32,33,34,35,36,37,38,39,40,0,1,2,3,4,5,6,7,8,9,10,11,12,13,14,15,16,17,18,19,20,21,22,23,24,25,26,27,28,29,30,31,32,33,34,35,36,37,38,39,0,1,2,3,4,5,6,7,8,9,10,11,12,13,14,15,16,17,18,19,20,21,22,23,24,25,26,27,28,29,30,31,32,33,34,35,36,37,38,0,1,2,3,4,5,6,7,8,9,10,11,12,13,14,15,16,17,18,19,20,21,22,23,24,25,26,27,28,29,30,31,32,33,34,35,36,37,0,1,2,3,4,5,6,7,8,9,10,11,12,13,14,15,16,17,18,19,20,21,22,23,24,25,26,27,28,29,30,31,32,33,34,35,36,0,1,2,3,4,5,6,7,8,9,10,11,12,13,14,15,16,17,18,19,20,21,22,23,24,25,26,27,28,29,30,31,32,33,34,35,0,1,2,3,4,5,6,7,8,9,10,11,12,13,14,15,16,17,18,19,20,21,22,23,24,25,26,27,28,29,30,31,32,33,34,0,1,2,3,4,5,6,7,8,9,10,11,12,13,14,15,16,17,18,19,20,21,22,23,24,25,26,27,28,29,30,31,32,33,0,1,2,3,4,5,6,7,8,9,10,11,12,13,14,15,16,17,18,19,20,21,22,23,24,25,26,27,28,29,30,31,32,0,1,2,3,4,5,6,7,8,9,10,11,12,13,14,15,16,17,18,19,20,21,22,23,24,25,26,27,28,29,30,31,0,1,2,3,4,5,6,7,8,9,10,11,12,13,14,15,16,17,18,19,20,21,22,23,24,25,26,27,28,29,30,0,1,2,3,4,5,6,7,8,9,10,11,12,13,14,15,16,17,18,19,20,21,22,23,24,25,26,27,28,29,0,1,2,3,4,5,6,7,8,9,10,11,12,13,14,15,16,17,18,19,20,21,22,23,24,25,26,27,28,0,1,2,3,4,5,6,7,8,9,10,11,12,13,14,15,16,17,18,19,20,21,22,23,24,25,26,27,0,1,2,3,4,5,6,7,8,9,10,11,12,13,14,15,16,17,18,19,20,21,22,23,24,25,26,0,1,2,3,4,5,6,7,8,9,10,11,12,13,14,15,16,17,18,19,20,21,22,23,24,25,0,1,2,3,4,5,6,7,8,9,10,11,12,13,14,15,16,17,18,19,20,21,22,23,24,0,1,2,3,4,5,6,7,8,9,10,11,12,13,14,15,16,17,18,19,20,21,22,23,0,1,2,3,4,5,6,7,8,9,10,11,12,13,14,15,16,17,18,19,20,21,22,0,1,2,3,4,5,6,7,8,9,10,11,12,13,14,15,16,17,18,19,20,21,0,1,2,3,4,5,6,7,8,9,10,11,12,13,14,15,16,17,18,19,20],\"z\":[40,39,38,37,36,35,34,33,32,31,30,29,28,27,26,25,24,23,22,21,20,40,39,38,37,36,35,34,33,32,31,30,29,28,27,26,25,24,23,22,21,20,19,40,39,38,37,36,35,34,33,32,31,30,29,28,27,26,25,24,23,22,21,20,19,18,40,39,38,37,36,35,34,33,32,31,30,29,28,27,26,25,24,23,22,21,20,19,18,17,40,39,38,37,36,35,34,33,32,31,30,29,28,27,26,25,24,23,22,21,20,19,18,17,16,40,39,38,37,36,35,34,33,32,31,30,29,28,27,26,25,24,23,22,21,20,19,18,17,16,15,40,39,38,37,36,35,34,33,32,31,30,29,28,27,26,25,24,23,22,21,20,19,18,17,16,15,14,40,39,38,37,36,35,34,33,32,31,30,29,28,27,26,25,24,23,22,21,20,19,18,17,16,15,14,13,40,39,38,37,36,35,34,33,32,31,30,29,28,27,26,25,24,23,22,21,20,19,18,17,16,15,14,13,12,40,39,38,37,36,35,34,33,32,31,30,29,28,27,26,25,24,23,22,21,20,19,18,17,16,15,14,13,12,11,40,39,38,37,36,35,34,33,32,31,30,29,28,27,26,25,24,23,22,21,20,19,18,17,16,15,14,13,12,11,10,40,39,38,37,36,35,34,33,32,31,30,29,28,27,26,25,24,23,22,21,20,19,18,17,16,15,14,13,12,11,10,9,40,39,38,37,36,35,34,33,32,31,30,29,28,27,26,25,24,23,22,21,20,19,18,17,16,15,14,13,12,11,10,9,8,40,39,38,37,36,35,34,33,32,31,30,29,28,27,26,25,24,23,22,21,20,19,18,17,16,15,14,13,12,11,10,9,8,7,40,39,38,37,36,35,34,33,32,31,30,29,28,27,26,25,24,23,22,21,20,19,18,17,16,15,14,13,12,11,10,9,8,7,6,40,39,38,37,36,35,34,33,32,31,30,29,28,27,26,25,24,23,22,21,20,19,18,17,16,15,14,13,12,11,10,9,8,7,6,5,40,39,38,37,36,35,34,33,32,31,30,29,28,27,26,25,24,23,22,21,20,19,18,17,16,15,14,13,12,11,10,9,8,7,6,5,4,40,39,38,37,36,35,34,33,32,31,30,29,28,27,26,25,24,23,22,21,20,19,18,17,16,15,14,13,12,11,10,9,8,7,6,5,4,3,40,39,38,37,36,35,34,33,32,31,30,29,28,27,26,25,24,23,22,21,20,19,18,17,16,15,14,13,12,11,10,9,8,7,6,5,4,3,2,40,39,38,37,36,35,34,33,32,31,30,29,28,27,26,25,24,23,22,21,20,19,18,17,16,15,14,13,12,11,10,9,8,7,6,5,4,3,2,1,40,39,38,37,36,35,34,33,32,31,30,29,28,27,26,25,24,23,22,21,20,19,18,17,16,15,14,13,12,11,10,9,8,7,6,5,4,3,2,1,0,39,38,37,36,35,34,33,32,31,30,29,28,27,26,25,24,23,22,21,20,19,18,17,16,15,14,13,12,11,10,9,8,7,6,5,4,3,2,1,0,38,37,36,35,34,33,32,31,30,29,28,27,26,25,24,23,22,21,20,19,18,17,16,15,14,13,12,11,10,9,8,7,6,5,4,3,2,1,0,37,36,35,34,33,32,31,30,29,28,27,26,25,24,23,22,21,20,19,18,17,16,15,14,13,12,11,10,9,8,7,6,5,4,3,2,1,0,36,35,34,33,32,31,30,29,28,27,26,25,24,23,22,21,20,19,18,17,16,15,14,13,12,11,10,9,8,7,6,5,4,3,2,1,0,35,34,33,32,31,30,29,28,27,26,25,24,23,22,21,20,19,18,17,16,15,14,13,12,11,10,9,8,7,6,5,4,3,2,1,0,34,33,32,31,30,29,28,27,26,25,24,23,22,21,20,19,18,17,16,15,14,13,12,11,10,9,8,7,6,5,4,3,2,1,0,33,32,31,30,29,28,27,26,25,24,23,22,21,20,19,18,17,16,15,14,13,12,11,10,9,8,7,6,5,4,3,2,1,0,32,31,30,29,28,27,26,25,24,23,22,21,20,19,18,17,16,15,14,13,12,11,10,9,8,7,6,5,4,3,2,1,0,31,30,29,28,27,26,25,24,23,22,21,20,19,18,17,16,15,14,13,12,11,10,9,8,7,6,5,4,3,2,1,0,30,29,28,27,26,25,24,23,22,21,20,19,18,17,16,15,14,13,12,11,10,9,8,7,6,5,4,3,2,1,0,29,28,27,26,25,24,23,22,21,20,19,18,17,16,15,14,13,12,11,10,9,8,7,6,5,4,3,2,1,0,28,27,26,25,24,23,22,21,20,19,18,17,16,15,14,13,12,11,10,9,8,7,6,5,4,3,2,1,0,27,26,25,24,23,22,21,20,19,18,17,16,15,14,13,12,11,10,9,8,7,6,5,4,3,2,1,0,26,25,24,23,22,21,20,19,18,17,16,15,14,13,12,11,10,9,8,7,6,5,4,3,2,1,0,25,24,23,22,21,20,19,18,17,16,15,14,13,12,11,10,9,8,7,6,5,4,3,2,1,0,24,23,22,21,20,19,18,17,16,15,14,13,12,11,10,9,8,7,6,5,4,3,2,1,0,23,22,21,20,19,18,17,16,15,14,13,12,11,10,9,8,7,6,5,4,3,2,1,0,22,21,20,19,18,17,16,15,14,13,12,11,10,9,8,7,6,5,4,3,2,1,0,21,20,19,18,17,16,15,14,13,12,11,10,9,8,7,6,5,4,3,2,1,0,20,19,18,17,16,15,14,13,12,11,10,9,8,7,6,5,4,3,2,1,0],\"type\":\"scatter3d\"}],                        {\"template\":{\"data\":{\"histogram2dcontour\":[{\"type\":\"histogram2dcontour\",\"colorbar\":{\"outlinewidth\":0,\"ticks\":\"\"},\"colorscale\":[[0.0,\"#0d0887\"],[0.1111111111111111,\"#46039f\"],[0.2222222222222222,\"#7201a8\"],[0.3333333333333333,\"#9c179e\"],[0.4444444444444444,\"#bd3786\"],[0.5555555555555556,\"#d8576b\"],[0.6666666666666666,\"#ed7953\"],[0.7777777777777778,\"#fb9f3a\"],[0.8888888888888888,\"#fdca26\"],[1.0,\"#f0f921\"]]}],\"choropleth\":[{\"type\":\"choropleth\",\"colorbar\":{\"outlinewidth\":0,\"ticks\":\"\"}}],\"histogram2d\":[{\"type\":\"histogram2d\",\"colorbar\":{\"outlinewidth\":0,\"ticks\":\"\"},\"colorscale\":[[0.0,\"#0d0887\"],[0.1111111111111111,\"#46039f\"],[0.2222222222222222,\"#7201a8\"],[0.3333333333333333,\"#9c179e\"],[0.4444444444444444,\"#bd3786\"],[0.5555555555555556,\"#d8576b\"],[0.6666666666666666,\"#ed7953\"],[0.7777777777777778,\"#fb9f3a\"],[0.8888888888888888,\"#fdca26\"],[1.0,\"#f0f921\"]]}],\"heatmap\":[{\"type\":\"heatmap\",\"colorbar\":{\"outlinewidth\":0,\"ticks\":\"\"},\"colorscale\":[[0.0,\"#0d0887\"],[0.1111111111111111,\"#46039f\"],[0.2222222222222222,\"#7201a8\"],[0.3333333333333333,\"#9c179e\"],[0.4444444444444444,\"#bd3786\"],[0.5555555555555556,\"#d8576b\"],[0.6666666666666666,\"#ed7953\"],[0.7777777777777778,\"#fb9f3a\"],[0.8888888888888888,\"#fdca26\"],[1.0,\"#f0f921\"]]}],\"heatmapgl\":[{\"type\":\"heatmapgl\",\"colorbar\":{\"outlinewidth\":0,\"ticks\":\"\"},\"colorscale\":[[0.0,\"#0d0887\"],[0.1111111111111111,\"#46039f\"],[0.2222222222222222,\"#7201a8\"],[0.3333333333333333,\"#9c179e\"],[0.4444444444444444,\"#bd3786\"],[0.5555555555555556,\"#d8576b\"],[0.6666666666666666,\"#ed7953\"],[0.7777777777777778,\"#fb9f3a\"],[0.8888888888888888,\"#fdca26\"],[1.0,\"#f0f921\"]]}],\"contourcarpet\":[{\"type\":\"contourcarpet\",\"colorbar\":{\"outlinewidth\":0,\"ticks\":\"\"}}],\"contour\":[{\"type\":\"contour\",\"colorbar\":{\"outlinewidth\":0,\"ticks\":\"\"},\"colorscale\":[[0.0,\"#0d0887\"],[0.1111111111111111,\"#46039f\"],[0.2222222222222222,\"#7201a8\"],[0.3333333333333333,\"#9c179e\"],[0.4444444444444444,\"#bd3786\"],[0.5555555555555556,\"#d8576b\"],[0.6666666666666666,\"#ed7953\"],[0.7777777777777778,\"#fb9f3a\"],[0.8888888888888888,\"#fdca26\"],[1.0,\"#f0f921\"]]}],\"surface\":[{\"type\":\"surface\",\"colorbar\":{\"outlinewidth\":0,\"ticks\":\"\"},\"colorscale\":[[0.0,\"#0d0887\"],[0.1111111111111111,\"#46039f\"],[0.2222222222222222,\"#7201a8\"],[0.3333333333333333,\"#9c179e\"],[0.4444444444444444,\"#bd3786\"],[0.5555555555555556,\"#d8576b\"],[0.6666666666666666,\"#ed7953\"],[0.7777777777777778,\"#fb9f3a\"],[0.8888888888888888,\"#fdca26\"],[1.0,\"#f0f921\"]]}],\"mesh3d\":[{\"type\":\"mesh3d\",\"colorbar\":{\"outlinewidth\":0,\"ticks\":\"\"}}],\"scatter\":[{\"fillpattern\":{\"fillmode\":\"overlay\",\"size\":10,\"solidity\":0.2},\"type\":\"scatter\"}],\"parcoords\":[{\"type\":\"parcoords\",\"line\":{\"colorbar\":{\"outlinewidth\":0,\"ticks\":\"\"}}}],\"scatterpolargl\":[{\"type\":\"scatterpolargl\",\"marker\":{\"colorbar\":{\"outlinewidth\":0,\"ticks\":\"\"}}}],\"bar\":[{\"error_x\":{\"color\":\"#2a3f5f\"},\"error_y\":{\"color\":\"#2a3f5f\"},\"marker\":{\"line\":{\"color\":\"#E5ECF6\",\"width\":0.5},\"pattern\":{\"fillmode\":\"overlay\",\"size\":10,\"solidity\":0.2}},\"type\":\"bar\"}],\"scattergeo\":[{\"type\":\"scattergeo\",\"marker\":{\"colorbar\":{\"outlinewidth\":0,\"ticks\":\"\"}}}],\"scatterpolar\":[{\"type\":\"scatterpolar\",\"marker\":{\"colorbar\":{\"outlinewidth\":0,\"ticks\":\"\"}}}],\"histogram\":[{\"marker\":{\"pattern\":{\"fillmode\":\"overlay\",\"size\":10,\"solidity\":0.2}},\"type\":\"histogram\"}],\"scattergl\":[{\"type\":\"scattergl\",\"marker\":{\"colorbar\":{\"outlinewidth\":0,\"ticks\":\"\"}}}],\"scatter3d\":[{\"type\":\"scatter3d\",\"line\":{\"colorbar\":{\"outlinewidth\":0,\"ticks\":\"\"}},\"marker\":{\"colorbar\":{\"outlinewidth\":0,\"ticks\":\"\"}}}],\"scattermapbox\":[{\"type\":\"scattermapbox\",\"marker\":{\"colorbar\":{\"outlinewidth\":0,\"ticks\":\"\"}}}],\"scatterternary\":[{\"type\":\"scatterternary\",\"marker\":{\"colorbar\":{\"outlinewidth\":0,\"ticks\":\"\"}}}],\"scattercarpet\":[{\"type\":\"scattercarpet\",\"marker\":{\"colorbar\":{\"outlinewidth\":0,\"ticks\":\"\"}}}],\"carpet\":[{\"aaxis\":{\"endlinecolor\":\"#2a3f5f\",\"gridcolor\":\"white\",\"linecolor\":\"white\",\"minorgridcolor\":\"white\",\"startlinecolor\":\"#2a3f5f\"},\"baxis\":{\"endlinecolor\":\"#2a3f5f\",\"gridcolor\":\"white\",\"linecolor\":\"white\",\"minorgridcolor\":\"white\",\"startlinecolor\":\"#2a3f5f\"},\"type\":\"carpet\"}],\"table\":[{\"cells\":{\"fill\":{\"color\":\"#EBF0F8\"},\"line\":{\"color\":\"white\"}},\"header\":{\"fill\":{\"color\":\"#C8D4E3\"},\"line\":{\"color\":\"white\"}},\"type\":\"table\"}],\"barpolar\":[{\"marker\":{\"line\":{\"color\":\"#E5ECF6\",\"width\":0.5},\"pattern\":{\"fillmode\":\"overlay\",\"size\":10,\"solidity\":0.2}},\"type\":\"barpolar\"}],\"pie\":[{\"automargin\":true,\"type\":\"pie\"}]},\"layout\":{\"autotypenumbers\":\"strict\",\"colorway\":[\"#636efa\",\"#EF553B\",\"#00cc96\",\"#ab63fa\",\"#FFA15A\",\"#19d3f3\",\"#FF6692\",\"#B6E880\",\"#FF97FF\",\"#FECB52\"],\"font\":{\"color\":\"#2a3f5f\"},\"hovermode\":\"closest\",\"hoverlabel\":{\"align\":\"left\"},\"paper_bgcolor\":\"white\",\"plot_bgcolor\":\"#E5ECF6\",\"polar\":{\"bgcolor\":\"#E5ECF6\",\"angularaxis\":{\"gridcolor\":\"white\",\"linecolor\":\"white\",\"ticks\":\"\"},\"radialaxis\":{\"gridcolor\":\"white\",\"linecolor\":\"white\",\"ticks\":\"\"}},\"ternary\":{\"bgcolor\":\"#E5ECF6\",\"aaxis\":{\"gridcolor\":\"white\",\"linecolor\":\"white\",\"ticks\":\"\"},\"baxis\":{\"gridcolor\":\"white\",\"linecolor\":\"white\",\"ticks\":\"\"},\"caxis\":{\"gridcolor\":\"white\",\"linecolor\":\"white\",\"ticks\":\"\"}},\"coloraxis\":{\"colorbar\":{\"outlinewidth\":0,\"ticks\":\"\"}},\"colorscale\":{\"sequential\":[[0.0,\"#0d0887\"],[0.1111111111111111,\"#46039f\"],[0.2222222222222222,\"#7201a8\"],[0.3333333333333333,\"#9c179e\"],[0.4444444444444444,\"#bd3786\"],[0.5555555555555556,\"#d8576b\"],[0.6666666666666666,\"#ed7953\"],[0.7777777777777778,\"#fb9f3a\"],[0.8888888888888888,\"#fdca26\"],[1.0,\"#f0f921\"]],\"sequentialminus\":[[0.0,\"#0d0887\"],[0.1111111111111111,\"#46039f\"],[0.2222222222222222,\"#7201a8\"],[0.3333333333333333,\"#9c179e\"],[0.4444444444444444,\"#bd3786\"],[0.5555555555555556,\"#d8576b\"],[0.6666666666666666,\"#ed7953\"],[0.7777777777777778,\"#fb9f3a\"],[0.8888888888888888,\"#fdca26\"],[1.0,\"#f0f921\"]],\"diverging\":[[0,\"#8e0152\"],[0.1,\"#c51b7d\"],[0.2,\"#de77ae\"],[0.3,\"#f1b6da\"],[0.4,\"#fde0ef\"],[0.5,\"#f7f7f7\"],[0.6,\"#e6f5d0\"],[0.7,\"#b8e186\"],[0.8,\"#7fbc41\"],[0.9,\"#4d9221\"],[1,\"#276419\"]]},\"xaxis\":{\"gridcolor\":\"white\",\"linecolor\":\"white\",\"ticks\":\"\",\"title\":{\"standoff\":15},\"zerolinecolor\":\"white\",\"automargin\":true,\"zerolinewidth\":2},\"yaxis\":{\"gridcolor\":\"white\",\"linecolor\":\"white\",\"ticks\":\"\",\"title\":{\"standoff\":15},\"zerolinecolor\":\"white\",\"automargin\":true,\"zerolinewidth\":2},\"scene\":{\"xaxis\":{\"backgroundcolor\":\"#E5ECF6\",\"gridcolor\":\"white\",\"linecolor\":\"white\",\"showbackground\":true,\"ticks\":\"\",\"zerolinecolor\":\"white\",\"gridwidth\":2},\"yaxis\":{\"backgroundcolor\":\"#E5ECF6\",\"gridcolor\":\"white\",\"linecolor\":\"white\",\"showbackground\":true,\"ticks\":\"\",\"zerolinecolor\":\"white\",\"gridwidth\":2},\"zaxis\":{\"backgroundcolor\":\"#E5ECF6\",\"gridcolor\":\"white\",\"linecolor\":\"white\",\"showbackground\":true,\"ticks\":\"\",\"zerolinecolor\":\"white\",\"gridwidth\":2}},\"shapedefaults\":{\"line\":{\"color\":\"#2a3f5f\"}},\"annotationdefaults\":{\"arrowcolor\":\"#2a3f5f\",\"arrowhead\":0,\"arrowwidth\":1},\"geo\":{\"bgcolor\":\"white\",\"landcolor\":\"#E5ECF6\",\"subunitcolor\":\"white\",\"showland\":true,\"showlakes\":true,\"lakecolor\":\"white\"},\"title\":{\"x\":0.05},\"mapbox\":{\"style\":\"light\"}}},\"scene\":{\"domain\":{\"x\":[0.0,1.0],\"y\":[0.0,1.0]},\"xaxis\":{\"title\":{\"text\":\"x\"}},\"yaxis\":{\"title\":{\"text\":\"y\"}},\"zaxis\":{\"title\":{\"text\":\"z\"}}},\"coloraxis\":{\"colorbar\":{\"title\":{\"text\":\"color\"}},\"colorscale\":[[0.0,\"#0d0887\"],[0.1111111111111111,\"#46039f\"],[0.2222222222222222,\"#7201a8\"],[0.3333333333333333,\"#9c179e\"],[0.4444444444444444,\"#bd3786\"],[0.5555555555555556,\"#d8576b\"],[0.6666666666666666,\"#ed7953\"],[0.7777777777777778,\"#fb9f3a\"],[0.8888888888888888,\"#fdca26\"],[1.0,\"#f0f921\"]]},\"legend\":{\"tracegroupgap\":0},\"margin\":{\"t\":60}},                        {\"responsive\": true}                    ).then(function(){\n",
              "                            \n",
              "var gd = document.getElementById('f1ead7e9-2b9c-4cea-8c47-6d6c648a06d7');\n",
              "var x = new MutationObserver(function (mutations, observer) {{\n",
              "        var display = window.getComputedStyle(gd).display;\n",
              "        if (!display || display === 'none') {{\n",
              "            console.log([gd, 'removed!']);\n",
              "            Plotly.purge(gd);\n",
              "            observer.disconnect();\n",
              "        }}\n",
              "}});\n",
              "\n",
              "// Listen for the removal of the full notebook cells\n",
              "var notebookContainer = gd.closest('#notebook-container');\n",
              "if (notebookContainer) {{\n",
              "    x.observe(notebookContainer, {childList: true});\n",
              "}}\n",
              "\n",
              "// Listen for the clearing of the current output cell\n",
              "var outputEl = gd.closest('.output');\n",
              "if (outputEl) {{\n",
              "    x.observe(outputEl, {childList: true});\n",
              "}}\n",
              "\n",
              "                        })                };                            </script>        </div>\n",
              "</body>\n",
              "</html>"
            ]
          },
          "metadata": {}
        }
      ]
    },
    {
      "cell_type": "markdown",
      "source": [
        "<details>\n",
        "  <summary>\n",
        "    Если ячейка не загрузилась, должно быть так\n",
        "  </summary>\n",
        "\n",
        "  ![График](https://drive.google.com/uc?export=view&id=1tGj0jFt2EqfLOsqP7xFYnFDkeLHWECa1)\n",
        "</details>"
      ],
      "metadata": {
        "id": "fOZ8ZvwB13Bd"
      }
    },
    {
      "cell_type": "markdown",
      "source": [
        "## Генерация игрового поля (1 балл)\n",
        "\n",
        "До этого мы хранили в гексагоне его расстояние до центра\n",
        "\n",
        "Теперь в гексагоне будем хранить тип клетки на поле (луг/река/гора и т.д.)\n",
        "\n",
        "Для начала сделаем пустое поле"
      ],
      "metadata": {
        "id": "mm7vsMMGesYp"
      }
    },
    {
      "cell_type": "code",
      "source": [
        "new_map = create_map(MAX_DIST)\n",
        "hex_idxs = get_hex_idxs(new_map)\n",
        "hex_data = new_map[hex_idxs]"
      ],
      "metadata": {
        "id": "6lpFKPbhFxiC"
      },
      "execution_count": 24,
      "outputs": []
    },
    {
      "cell_type": "code",
      "source": [
        "fig = px.scatter_3d(\n",
        "    hex_data,\n",
        "    x=hex_data[:, 0],\n",
        "    y=hex_data[:, 1],\n",
        "    z=hex_data[:, 2],\n",
        "    color=hex_data[:, 3]\n",
        ")\n",
        "fig.show()"
      ],
      "metadata": {
        "colab": {
          "base_uri": "https://localhost:8080/",
          "height": 542
        },
        "id": "xSOaGxvMH26B",
        "outputId": "4f65fe8d-ffc2-4ade-f366-d5ef7dae2b1f"
      },
      "execution_count": 25,
      "outputs": [
        {
          "output_type": "display_data",
          "data": {
            "text/html": [
              "<html>\n",
              "<head><meta charset=\"utf-8\" /></head>\n",
              "<body>\n",
              "    <div>            <script src=\"https://cdnjs.cloudflare.com/ajax/libs/mathjax/2.7.5/MathJax.js?config=TeX-AMS-MML_SVG\"></script><script type=\"text/javascript\">if (window.MathJax && window.MathJax.Hub && window.MathJax.Hub.Config) {window.MathJax.Hub.Config({SVG: {font: \"STIX-Web\"}});}</script>                <script type=\"text/javascript\">window.PlotlyConfig = {MathJaxConfig: 'local'};</script>\n",
              "        <script charset=\"utf-8\" src=\"https://cdn.plot.ly/plotly-2.24.1.min.js\"></script>                <div id=\"7e786c2b-c53b-41f1-88d1-47419b3ee808\" class=\"plotly-graph-div\" style=\"height:525px; width:100%;\"></div>            <script type=\"text/javascript\">                                    window.PLOTLYENV=window.PLOTLYENV || {};                                    if (document.getElementById(\"7e786c2b-c53b-41f1-88d1-47419b3ee808\")) {                    Plotly.newPlot(                        \"7e786c2b-c53b-41f1-88d1-47419b3ee808\",                        [{\"hovertemplate\":\"x=%{x}\\u003cbr\\u003ey=%{y}\\u003cbr\\u003ez=%{z}\\u003cbr\\u003ecolor=%{marker.color}\\u003cextra\\u003e\\u003c\\u002fextra\\u003e\",\"legendgroup\":\"\",\"marker\":{\"color\":[1,1,1,1,1,1,1,1,1,1,1,1,1,1,1,1,1,1,1,1,1,1,1,1,1,1,1,1,1,1,1,1,1,1,1,1,1,1,1,1,1,1,1,1,1,1,1,1,1,1,1,1,1,1,1,1,1,1,1,1,1,1,1,1,1,1,1,1,1,1,1,1,1,1,1,1,1,1,1,1,1,1,1,1,1,1,1,1,1,1,1,1,1,1,1,1,1,1,1,1,1,1,1,1,1,1,1,1,1,1,1,1,1,1,1,1,1,1,1,1,1,1,1,1,1,1,1,1,1,1,1,1,1,1,1,1,1,1,1,1,1,1,1,1,1,1,1,1,1,1,1,1,1,1,1,1,1,1,1,1,1,1,1,1,1,1,1,1,1,1,1,1,1,1,1,1,1,1,1,1,1,1,1,1,1,1,1,1,1,1,1,1,1,1,1,1,1,1,1,1,1,1,1,1,1,1,1,1,1,1,1,1,1,1,1,1,1,1,1,1,1,1,1,1,1,1,1,1,1,1,1,1,1,1,1,1,1,1,1,1,1,1,1,1,1,1,1,1,1,1,1,1,1,1,1,1,1,1,1,1,1,1,1,1,1,1,1,1,1,1,1,1,1,1,1,1,1,1,1,1,1,1,1,1,1,1,1,1,1,1,1,1,1,1,1,1,1,1,1,1,1,1,1,1,1,1,1,1,1,1,1,1,1,1,1,1,1,1,1,1,1,1,1,1,1,1,1,1,1,1,1,1,1,1,1,1,1,1,1,1,1,1,1,1,1,1,1,1,1,1,1,1,1,1,1,1,1,1,1,1,1,1,1,1,1,1,1,1,1,1,1,1,1,1,1,1,1,1,1,1,1,1,1,1,1,1,1,1,1,1,1,1,1,1,1,1,1,1,1,1,1,1,1,1,1,1,1,1,1,1,1,1,1,1,1,1,1,1,1,1,1,1,1,1,1,1,1,1,1,1,1,1,1,1,1,1,1,1,1,1,1,1,1,1,1,1,1,1,1,1,1,1,1,1,1,1,1,1,1,1,1,1,1,1,1,1,1,1,1,1,1,1,1,1,1,1,1,1,1,1,1,1,1,1,1,1,1,1,1,1,1,1,1,1,1,1,1,1,1,1,1,1,1,1,1,1,1,1,1,1,1,1,1,1,1,1,1,1,1,1,1,1,1,1,1,1,1,1,1,1,1,1,1,1,1,1,1,1,1,1,1,1,1,1,1,1,1,1,1,1,1,1,1,1,1,1,1,1,1,1,1,1,1,1,1,1,1,1,1,1,1,1,1,1,1,1,1,1,1,1,1,1,1,1,1,1,1,1,1,1,1,1,1,1,1,1,1,1,1,1,1,1,1,1,1,1,1,1,1,1,1,1,1,1,1,1,1,1,1,1,1,1,1,1,1,1,1,1,1,1,1,1,1,1,1,1,1,1,1,1,1,1,1,1,1,1,1,1,1,1,1,1,1,1,1,1,1,1,1,1,1,1,1,1,1,1,1,1,1,1,1,1,1,1,1,1,1,1,1,1,1,1,1,1,1,1,1,1,1,1,1,1,1,1,1,1,1,1,1,1,1,1,1,1,1,1,1,1,1,1,1,1,1,1,1,1,1,1,1,1,1,1,1,1,1,1,1,1,1,1,1,1,1,1,1,1,1,1,1,1,1,1,1,1,1,1,1,1,1,1,1,1,1,1,1,1,1,1,1,1,1,1,1,1,1,1,1,1,1,1,1,1,1,1,1,1,1,1,1,1,1,1,1,1,1,1,1,1,1,1,1,1,1,1,1,1,1,1,1,1,1,1,1,1,1,1,1,1,1,1,1,1,1,1,1,1,1,1,1,1,1,1,1,1,1,1,1,1,1,1,1,1,1,1,1,1,1,1,1,1,1,1,1,1,1,1,1,1,1,1,1,1,1,1,1,1,1,1,1,1,1,1,1,1,1,1,1,1,1,1,1,1,1,1,1,1,1,1,1,1,1,1,1,1,1,1,1,1,1,1,1,1,1,1,1,1,1,1,1,1,1,1,1,1,1,1,1,1,1,1,1,1,1,1,1,1,1,1,1,1,1,1,1,1,1,1,1,1,1,1,1,1,1,1,1,1,1,1,1,1,1,1,1,1,1,1,1,1,1,1,1,1,1,1,1,1,1,1,1,1,1,1,1,1,1,1,1,1,1,1,1,1,1,1,1,1,1,1,1,1,1,1,1,1,1,1,1,1,1,1,1,1,1,1,1,1,1,1,1,1,1,1,1,1,1,1,1,1,1,1,1,1,1,1,1,1,1,1,1,1,1,1,1,1,1,1,1,1,1,1,1,1,1,1,1,1,1,1,1,1,1,1,1,1,1,1,1,1,1,1,1,1,1,1,1,1,1,1,1,1,1,1,1,1,1,1,1,1,1,1,1,1,1,1,1,1,1,1,1,1,1,1,1,1,1,1,1,1,1,1,1,1,1,1,1,1,1,1,1,1,1,1,1,1,1,1,1,1,1,1,1,1,1,1,1,1,1,1,1,1,1,1,1,1,1,1,1,1,1,1,1,1,1,1,1,1,1,1,1,1,1,1,1,1,1,1,1,1,1,1,1,1,1,1,1,1,1,1,1,1,1,1,1,1,1,1,1,1,1,1,1,1,1,1,1,1,1,1,1,1,1,1,1,1,1,1,1,1,1,1,1,1,1,1,1,1,1,1,1,1,1,1,1,1,1,1,1,1,1,1,1,1,1,1,1,1,1,1,1,1,1,1,1,1,1,1,1,1,1,1,1,1,1,1,1,1,1,1,1,1,1,1,1,1,1,1,1,1,1,1,1,1,1,1,1,1,1,1,1,1,1],\"coloraxis\":\"coloraxis\",\"symbol\":\"circle\"},\"mode\":\"markers\",\"name\":\"\",\"scene\":\"scene\",\"showlegend\":false,\"x\":[0,0,0,0,0,0,0,0,0,0,0,0,0,0,0,0,0,0,0,0,0,1,1,1,1,1,1,1,1,1,1,1,1,1,1,1,1,1,1,1,1,1,1,2,2,2,2,2,2,2,2,2,2,2,2,2,2,2,2,2,2,2,2,2,2,2,3,3,3,3,3,3,3,3,3,3,3,3,3,3,3,3,3,3,3,3,3,3,3,3,4,4,4,4,4,4,4,4,4,4,4,4,4,4,4,4,4,4,4,4,4,4,4,4,4,5,5,5,5,5,5,5,5,5,5,5,5,5,5,5,5,5,5,5,5,5,5,5,5,5,5,6,6,6,6,6,6,6,6,6,6,6,6,6,6,6,6,6,6,6,6,6,6,6,6,6,6,6,7,7,7,7,7,7,7,7,7,7,7,7,7,7,7,7,7,7,7,7,7,7,7,7,7,7,7,7,8,8,8,8,8,8,8,8,8,8,8,8,8,8,8,8,8,8,8,8,8,8,8,8,8,8,8,8,8,9,9,9,9,9,9,9,9,9,9,9,9,9,9,9,9,9,9,9,9,9,9,9,9,9,9,9,9,9,9,10,10,10,10,10,10,10,10,10,10,10,10,10,10,10,10,10,10,10,10,10,10,10,10,10,10,10,10,10,10,10,11,11,11,11,11,11,11,11,11,11,11,11,11,11,11,11,11,11,11,11,11,11,11,11,11,11,11,11,11,11,11,11,12,12,12,12,12,12,12,12,12,12,12,12,12,12,12,12,12,12,12,12,12,12,12,12,12,12,12,12,12,12,12,12,12,13,13,13,13,13,13,13,13,13,13,13,13,13,13,13,13,13,13,13,13,13,13,13,13,13,13,13,13,13,13,13,13,13,13,14,14,14,14,14,14,14,14,14,14,14,14,14,14,14,14,14,14,14,14,14,14,14,14,14,14,14,14,14,14,14,14,14,14,14,15,15,15,15,15,15,15,15,15,15,15,15,15,15,15,15,15,15,15,15,15,15,15,15,15,15,15,15,15,15,15,15,15,15,15,15,16,16,16,16,16,16,16,16,16,16,16,16,16,16,16,16,16,16,16,16,16,16,16,16,16,16,16,16,16,16,16,16,16,16,16,16,16,17,17,17,17,17,17,17,17,17,17,17,17,17,17,17,17,17,17,17,17,17,17,17,17,17,17,17,17,17,17,17,17,17,17,17,17,17,17,18,18,18,18,18,18,18,18,18,18,18,18,18,18,18,18,18,18,18,18,18,18,18,18,18,18,18,18,18,18,18,18,18,18,18,18,18,18,18,19,19,19,19,19,19,19,19,19,19,19,19,19,19,19,19,19,19,19,19,19,19,19,19,19,19,19,19,19,19,19,19,19,19,19,19,19,19,19,19,20,20,20,20,20,20,20,20,20,20,20,20,20,20,20,20,20,20,20,20,20,20,20,20,20,20,20,20,20,20,20,20,20,20,20,20,20,20,20,20,20,21,21,21,21,21,21,21,21,21,21,21,21,21,21,21,21,21,21,21,21,21,21,21,21,21,21,21,21,21,21,21,21,21,21,21,21,21,21,21,21,22,22,22,22,22,22,22,22,22,22,22,22,22,22,22,22,22,22,22,22,22,22,22,22,22,22,22,22,22,22,22,22,22,22,22,22,22,22,22,23,23,23,23,23,23,23,23,23,23,23,23,23,23,23,23,23,23,23,23,23,23,23,23,23,23,23,23,23,23,23,23,23,23,23,23,23,23,24,24,24,24,24,24,24,24,24,24,24,24,24,24,24,24,24,24,24,24,24,24,24,24,24,24,24,24,24,24,24,24,24,24,24,24,24,25,25,25,25,25,25,25,25,25,25,25,25,25,25,25,25,25,25,25,25,25,25,25,25,25,25,25,25,25,25,25,25,25,25,25,25,26,26,26,26,26,26,26,26,26,26,26,26,26,26,26,26,26,26,26,26,26,26,26,26,26,26,26,26,26,26,26,26,26,26,26,27,27,27,27,27,27,27,27,27,27,27,27,27,27,27,27,27,27,27,27,27,27,27,27,27,27,27,27,27,27,27,27,27,27,28,28,28,28,28,28,28,28,28,28,28,28,28,28,28,28,28,28,28,28,28,28,28,28,28,28,28,28,28,28,28,28,28,29,29,29,29,29,29,29,29,29,29,29,29,29,29,29,29,29,29,29,29,29,29,29,29,29,29,29,29,29,29,29,29,30,30,30,30,30,30,30,30,30,30,30,30,30,30,30,30,30,30,30,30,30,30,30,30,30,30,30,30,30,30,30,31,31,31,31,31,31,31,31,31,31,31,31,31,31,31,31,31,31,31,31,31,31,31,31,31,31,31,31,31,31,32,32,32,32,32,32,32,32,32,32,32,32,32,32,32,32,32,32,32,32,32,32,32,32,32,32,32,32,32,33,33,33,33,33,33,33,33,33,33,33,33,33,33,33,33,33,33,33,33,33,33,33,33,33,33,33,33,34,34,34,34,34,34,34,34,34,34,34,34,34,34,34,34,34,34,34,34,34,34,34,34,34,34,34,35,35,35,35,35,35,35,35,35,35,35,35,35,35,35,35,35,35,35,35,35,35,35,35,35,35,36,36,36,36,36,36,36,36,36,36,36,36,36,36,36,36,36,36,36,36,36,36,36,36,36,37,37,37,37,37,37,37,37,37,37,37,37,37,37,37,37,37,37,37,37,37,37,37,37,38,38,38,38,38,38,38,38,38,38,38,38,38,38,38,38,38,38,38,38,38,38,38,39,39,39,39,39,39,39,39,39,39,39,39,39,39,39,39,39,39,39,39,39,39,40,40,40,40,40,40,40,40,40,40,40,40,40,40,40,40,40,40,40,40,40],\"y\":[20,21,22,23,24,25,26,27,28,29,30,31,32,33,34,35,36,37,38,39,40,19,20,21,22,23,24,25,26,27,28,29,30,31,32,33,34,35,36,37,38,39,40,18,19,20,21,22,23,24,25,26,27,28,29,30,31,32,33,34,35,36,37,38,39,40,17,18,19,20,21,22,23,24,25,26,27,28,29,30,31,32,33,34,35,36,37,38,39,40,16,17,18,19,20,21,22,23,24,25,26,27,28,29,30,31,32,33,34,35,36,37,38,39,40,15,16,17,18,19,20,21,22,23,24,25,26,27,28,29,30,31,32,33,34,35,36,37,38,39,40,14,15,16,17,18,19,20,21,22,23,24,25,26,27,28,29,30,31,32,33,34,35,36,37,38,39,40,13,14,15,16,17,18,19,20,21,22,23,24,25,26,27,28,29,30,31,32,33,34,35,36,37,38,39,40,12,13,14,15,16,17,18,19,20,21,22,23,24,25,26,27,28,29,30,31,32,33,34,35,36,37,38,39,40,11,12,13,14,15,16,17,18,19,20,21,22,23,24,25,26,27,28,29,30,31,32,33,34,35,36,37,38,39,40,10,11,12,13,14,15,16,17,18,19,20,21,22,23,24,25,26,27,28,29,30,31,32,33,34,35,36,37,38,39,40,9,10,11,12,13,14,15,16,17,18,19,20,21,22,23,24,25,26,27,28,29,30,31,32,33,34,35,36,37,38,39,40,8,9,10,11,12,13,14,15,16,17,18,19,20,21,22,23,24,25,26,27,28,29,30,31,32,33,34,35,36,37,38,39,40,7,8,9,10,11,12,13,14,15,16,17,18,19,20,21,22,23,24,25,26,27,28,29,30,31,32,33,34,35,36,37,38,39,40,6,7,8,9,10,11,12,13,14,15,16,17,18,19,20,21,22,23,24,25,26,27,28,29,30,31,32,33,34,35,36,37,38,39,40,5,6,7,8,9,10,11,12,13,14,15,16,17,18,19,20,21,22,23,24,25,26,27,28,29,30,31,32,33,34,35,36,37,38,39,40,4,5,6,7,8,9,10,11,12,13,14,15,16,17,18,19,20,21,22,23,24,25,26,27,28,29,30,31,32,33,34,35,36,37,38,39,40,3,4,5,6,7,8,9,10,11,12,13,14,15,16,17,18,19,20,21,22,23,24,25,26,27,28,29,30,31,32,33,34,35,36,37,38,39,40,2,3,4,5,6,7,8,9,10,11,12,13,14,15,16,17,18,19,20,21,22,23,24,25,26,27,28,29,30,31,32,33,34,35,36,37,38,39,40,1,2,3,4,5,6,7,8,9,10,11,12,13,14,15,16,17,18,19,20,21,22,23,24,25,26,27,28,29,30,31,32,33,34,35,36,37,38,39,40,0,1,2,3,4,5,6,7,8,9,10,11,12,13,14,15,16,17,18,19,20,21,22,23,24,25,26,27,28,29,30,31,32,33,34,35,36,37,38,39,40,0,1,2,3,4,5,6,7,8,9,10,11,12,13,14,15,16,17,18,19,20,21,22,23,24,25,26,27,28,29,30,31,32,33,34,35,36,37,38,39,0,1,2,3,4,5,6,7,8,9,10,11,12,13,14,15,16,17,18,19,20,21,22,23,24,25,26,27,28,29,30,31,32,33,34,35,36,37,38,0,1,2,3,4,5,6,7,8,9,10,11,12,13,14,15,16,17,18,19,20,21,22,23,24,25,26,27,28,29,30,31,32,33,34,35,36,37,0,1,2,3,4,5,6,7,8,9,10,11,12,13,14,15,16,17,18,19,20,21,22,23,24,25,26,27,28,29,30,31,32,33,34,35,36,0,1,2,3,4,5,6,7,8,9,10,11,12,13,14,15,16,17,18,19,20,21,22,23,24,25,26,27,28,29,30,31,32,33,34,35,0,1,2,3,4,5,6,7,8,9,10,11,12,13,14,15,16,17,18,19,20,21,22,23,24,25,26,27,28,29,30,31,32,33,34,0,1,2,3,4,5,6,7,8,9,10,11,12,13,14,15,16,17,18,19,20,21,22,23,24,25,26,27,28,29,30,31,32,33,0,1,2,3,4,5,6,7,8,9,10,11,12,13,14,15,16,17,18,19,20,21,22,23,24,25,26,27,28,29,30,31,32,0,1,2,3,4,5,6,7,8,9,10,11,12,13,14,15,16,17,18,19,20,21,22,23,24,25,26,27,28,29,30,31,0,1,2,3,4,5,6,7,8,9,10,11,12,13,14,15,16,17,18,19,20,21,22,23,24,25,26,27,28,29,30,0,1,2,3,4,5,6,7,8,9,10,11,12,13,14,15,16,17,18,19,20,21,22,23,24,25,26,27,28,29,0,1,2,3,4,5,6,7,8,9,10,11,12,13,14,15,16,17,18,19,20,21,22,23,24,25,26,27,28,0,1,2,3,4,5,6,7,8,9,10,11,12,13,14,15,16,17,18,19,20,21,22,23,24,25,26,27,0,1,2,3,4,5,6,7,8,9,10,11,12,13,14,15,16,17,18,19,20,21,22,23,24,25,26,0,1,2,3,4,5,6,7,8,9,10,11,12,13,14,15,16,17,18,19,20,21,22,23,24,25,0,1,2,3,4,5,6,7,8,9,10,11,12,13,14,15,16,17,18,19,20,21,22,23,24,0,1,2,3,4,5,6,7,8,9,10,11,12,13,14,15,16,17,18,19,20,21,22,23,0,1,2,3,4,5,6,7,8,9,10,11,12,13,14,15,16,17,18,19,20,21,22,0,1,2,3,4,5,6,7,8,9,10,11,12,13,14,15,16,17,18,19,20,21,0,1,2,3,4,5,6,7,8,9,10,11,12,13,14,15,16,17,18,19,20],\"z\":[40,39,38,37,36,35,34,33,32,31,30,29,28,27,26,25,24,23,22,21,20,40,39,38,37,36,35,34,33,32,31,30,29,28,27,26,25,24,23,22,21,20,19,40,39,38,37,36,35,34,33,32,31,30,29,28,27,26,25,24,23,22,21,20,19,18,40,39,38,37,36,35,34,33,32,31,30,29,28,27,26,25,24,23,22,21,20,19,18,17,40,39,38,37,36,35,34,33,32,31,30,29,28,27,26,25,24,23,22,21,20,19,18,17,16,40,39,38,37,36,35,34,33,32,31,30,29,28,27,26,25,24,23,22,21,20,19,18,17,16,15,40,39,38,37,36,35,34,33,32,31,30,29,28,27,26,25,24,23,22,21,20,19,18,17,16,15,14,40,39,38,37,36,35,34,33,32,31,30,29,28,27,26,25,24,23,22,21,20,19,18,17,16,15,14,13,40,39,38,37,36,35,34,33,32,31,30,29,28,27,26,25,24,23,22,21,20,19,18,17,16,15,14,13,12,40,39,38,37,36,35,34,33,32,31,30,29,28,27,26,25,24,23,22,21,20,19,18,17,16,15,14,13,12,11,40,39,38,37,36,35,34,33,32,31,30,29,28,27,26,25,24,23,22,21,20,19,18,17,16,15,14,13,12,11,10,40,39,38,37,36,35,34,33,32,31,30,29,28,27,26,25,24,23,22,21,20,19,18,17,16,15,14,13,12,11,10,9,40,39,38,37,36,35,34,33,32,31,30,29,28,27,26,25,24,23,22,21,20,19,18,17,16,15,14,13,12,11,10,9,8,40,39,38,37,36,35,34,33,32,31,30,29,28,27,26,25,24,23,22,21,20,19,18,17,16,15,14,13,12,11,10,9,8,7,40,39,38,37,36,35,34,33,32,31,30,29,28,27,26,25,24,23,22,21,20,19,18,17,16,15,14,13,12,11,10,9,8,7,6,40,39,38,37,36,35,34,33,32,31,30,29,28,27,26,25,24,23,22,21,20,19,18,17,16,15,14,13,12,11,10,9,8,7,6,5,40,39,38,37,36,35,34,33,32,31,30,29,28,27,26,25,24,23,22,21,20,19,18,17,16,15,14,13,12,11,10,9,8,7,6,5,4,40,39,38,37,36,35,34,33,32,31,30,29,28,27,26,25,24,23,22,21,20,19,18,17,16,15,14,13,12,11,10,9,8,7,6,5,4,3,40,39,38,37,36,35,34,33,32,31,30,29,28,27,26,25,24,23,22,21,20,19,18,17,16,15,14,13,12,11,10,9,8,7,6,5,4,3,2,40,39,38,37,36,35,34,33,32,31,30,29,28,27,26,25,24,23,22,21,20,19,18,17,16,15,14,13,12,11,10,9,8,7,6,5,4,3,2,1,40,39,38,37,36,35,34,33,32,31,30,29,28,27,26,25,24,23,22,21,20,19,18,17,16,15,14,13,12,11,10,9,8,7,6,5,4,3,2,1,0,39,38,37,36,35,34,33,32,31,30,29,28,27,26,25,24,23,22,21,20,19,18,17,16,15,14,13,12,11,10,9,8,7,6,5,4,3,2,1,0,38,37,36,35,34,33,32,31,30,29,28,27,26,25,24,23,22,21,20,19,18,17,16,15,14,13,12,11,10,9,8,7,6,5,4,3,2,1,0,37,36,35,34,33,32,31,30,29,28,27,26,25,24,23,22,21,20,19,18,17,16,15,14,13,12,11,10,9,8,7,6,5,4,3,2,1,0,36,35,34,33,32,31,30,29,28,27,26,25,24,23,22,21,20,19,18,17,16,15,14,13,12,11,10,9,8,7,6,5,4,3,2,1,0,35,34,33,32,31,30,29,28,27,26,25,24,23,22,21,20,19,18,17,16,15,14,13,12,11,10,9,8,7,6,5,4,3,2,1,0,34,33,32,31,30,29,28,27,26,25,24,23,22,21,20,19,18,17,16,15,14,13,12,11,10,9,8,7,6,5,4,3,2,1,0,33,32,31,30,29,28,27,26,25,24,23,22,21,20,19,18,17,16,15,14,13,12,11,10,9,8,7,6,5,4,3,2,1,0,32,31,30,29,28,27,26,25,24,23,22,21,20,19,18,17,16,15,14,13,12,11,10,9,8,7,6,5,4,3,2,1,0,31,30,29,28,27,26,25,24,23,22,21,20,19,18,17,16,15,14,13,12,11,10,9,8,7,6,5,4,3,2,1,0,30,29,28,27,26,25,24,23,22,21,20,19,18,17,16,15,14,13,12,11,10,9,8,7,6,5,4,3,2,1,0,29,28,27,26,25,24,23,22,21,20,19,18,17,16,15,14,13,12,11,10,9,8,7,6,5,4,3,2,1,0,28,27,26,25,24,23,22,21,20,19,18,17,16,15,14,13,12,11,10,9,8,7,6,5,4,3,2,1,0,27,26,25,24,23,22,21,20,19,18,17,16,15,14,13,12,11,10,9,8,7,6,5,4,3,2,1,0,26,25,24,23,22,21,20,19,18,17,16,15,14,13,12,11,10,9,8,7,6,5,4,3,2,1,0,25,24,23,22,21,20,19,18,17,16,15,14,13,12,11,10,9,8,7,6,5,4,3,2,1,0,24,23,22,21,20,19,18,17,16,15,14,13,12,11,10,9,8,7,6,5,4,3,2,1,0,23,22,21,20,19,18,17,16,15,14,13,12,11,10,9,8,7,6,5,4,3,2,1,0,22,21,20,19,18,17,16,15,14,13,12,11,10,9,8,7,6,5,4,3,2,1,0,21,20,19,18,17,16,15,14,13,12,11,10,9,8,7,6,5,4,3,2,1,0,20,19,18,17,16,15,14,13,12,11,10,9,8,7,6,5,4,3,2,1,0],\"type\":\"scatter3d\"}],                        {\"template\":{\"data\":{\"histogram2dcontour\":[{\"type\":\"histogram2dcontour\",\"colorbar\":{\"outlinewidth\":0,\"ticks\":\"\"},\"colorscale\":[[0.0,\"#0d0887\"],[0.1111111111111111,\"#46039f\"],[0.2222222222222222,\"#7201a8\"],[0.3333333333333333,\"#9c179e\"],[0.4444444444444444,\"#bd3786\"],[0.5555555555555556,\"#d8576b\"],[0.6666666666666666,\"#ed7953\"],[0.7777777777777778,\"#fb9f3a\"],[0.8888888888888888,\"#fdca26\"],[1.0,\"#f0f921\"]]}],\"choropleth\":[{\"type\":\"choropleth\",\"colorbar\":{\"outlinewidth\":0,\"ticks\":\"\"}}],\"histogram2d\":[{\"type\":\"histogram2d\",\"colorbar\":{\"outlinewidth\":0,\"ticks\":\"\"},\"colorscale\":[[0.0,\"#0d0887\"],[0.1111111111111111,\"#46039f\"],[0.2222222222222222,\"#7201a8\"],[0.3333333333333333,\"#9c179e\"],[0.4444444444444444,\"#bd3786\"],[0.5555555555555556,\"#d8576b\"],[0.6666666666666666,\"#ed7953\"],[0.7777777777777778,\"#fb9f3a\"],[0.8888888888888888,\"#fdca26\"],[1.0,\"#f0f921\"]]}],\"heatmap\":[{\"type\":\"heatmap\",\"colorbar\":{\"outlinewidth\":0,\"ticks\":\"\"},\"colorscale\":[[0.0,\"#0d0887\"],[0.1111111111111111,\"#46039f\"],[0.2222222222222222,\"#7201a8\"],[0.3333333333333333,\"#9c179e\"],[0.4444444444444444,\"#bd3786\"],[0.5555555555555556,\"#d8576b\"],[0.6666666666666666,\"#ed7953\"],[0.7777777777777778,\"#fb9f3a\"],[0.8888888888888888,\"#fdca26\"],[1.0,\"#f0f921\"]]}],\"heatmapgl\":[{\"type\":\"heatmapgl\",\"colorbar\":{\"outlinewidth\":0,\"ticks\":\"\"},\"colorscale\":[[0.0,\"#0d0887\"],[0.1111111111111111,\"#46039f\"],[0.2222222222222222,\"#7201a8\"],[0.3333333333333333,\"#9c179e\"],[0.4444444444444444,\"#bd3786\"],[0.5555555555555556,\"#d8576b\"],[0.6666666666666666,\"#ed7953\"],[0.7777777777777778,\"#fb9f3a\"],[0.8888888888888888,\"#fdca26\"],[1.0,\"#f0f921\"]]}],\"contourcarpet\":[{\"type\":\"contourcarpet\",\"colorbar\":{\"outlinewidth\":0,\"ticks\":\"\"}}],\"contour\":[{\"type\":\"contour\",\"colorbar\":{\"outlinewidth\":0,\"ticks\":\"\"},\"colorscale\":[[0.0,\"#0d0887\"],[0.1111111111111111,\"#46039f\"],[0.2222222222222222,\"#7201a8\"],[0.3333333333333333,\"#9c179e\"],[0.4444444444444444,\"#bd3786\"],[0.5555555555555556,\"#d8576b\"],[0.6666666666666666,\"#ed7953\"],[0.7777777777777778,\"#fb9f3a\"],[0.8888888888888888,\"#fdca26\"],[1.0,\"#f0f921\"]]}],\"surface\":[{\"type\":\"surface\",\"colorbar\":{\"outlinewidth\":0,\"ticks\":\"\"},\"colorscale\":[[0.0,\"#0d0887\"],[0.1111111111111111,\"#46039f\"],[0.2222222222222222,\"#7201a8\"],[0.3333333333333333,\"#9c179e\"],[0.4444444444444444,\"#bd3786\"],[0.5555555555555556,\"#d8576b\"],[0.6666666666666666,\"#ed7953\"],[0.7777777777777778,\"#fb9f3a\"],[0.8888888888888888,\"#fdca26\"],[1.0,\"#f0f921\"]]}],\"mesh3d\":[{\"type\":\"mesh3d\",\"colorbar\":{\"outlinewidth\":0,\"ticks\":\"\"}}],\"scatter\":[{\"fillpattern\":{\"fillmode\":\"overlay\",\"size\":10,\"solidity\":0.2},\"type\":\"scatter\"}],\"parcoords\":[{\"type\":\"parcoords\",\"line\":{\"colorbar\":{\"outlinewidth\":0,\"ticks\":\"\"}}}],\"scatterpolargl\":[{\"type\":\"scatterpolargl\",\"marker\":{\"colorbar\":{\"outlinewidth\":0,\"ticks\":\"\"}}}],\"bar\":[{\"error_x\":{\"color\":\"#2a3f5f\"},\"error_y\":{\"color\":\"#2a3f5f\"},\"marker\":{\"line\":{\"color\":\"#E5ECF6\",\"width\":0.5},\"pattern\":{\"fillmode\":\"overlay\",\"size\":10,\"solidity\":0.2}},\"type\":\"bar\"}],\"scattergeo\":[{\"type\":\"scattergeo\",\"marker\":{\"colorbar\":{\"outlinewidth\":0,\"ticks\":\"\"}}}],\"scatterpolar\":[{\"type\":\"scatterpolar\",\"marker\":{\"colorbar\":{\"outlinewidth\":0,\"ticks\":\"\"}}}],\"histogram\":[{\"marker\":{\"pattern\":{\"fillmode\":\"overlay\",\"size\":10,\"solidity\":0.2}},\"type\":\"histogram\"}],\"scattergl\":[{\"type\":\"scattergl\",\"marker\":{\"colorbar\":{\"outlinewidth\":0,\"ticks\":\"\"}}}],\"scatter3d\":[{\"type\":\"scatter3d\",\"line\":{\"colorbar\":{\"outlinewidth\":0,\"ticks\":\"\"}},\"marker\":{\"colorbar\":{\"outlinewidth\":0,\"ticks\":\"\"}}}],\"scattermapbox\":[{\"type\":\"scattermapbox\",\"marker\":{\"colorbar\":{\"outlinewidth\":0,\"ticks\":\"\"}}}],\"scatterternary\":[{\"type\":\"scatterternary\",\"marker\":{\"colorbar\":{\"outlinewidth\":0,\"ticks\":\"\"}}}],\"scattercarpet\":[{\"type\":\"scattercarpet\",\"marker\":{\"colorbar\":{\"outlinewidth\":0,\"ticks\":\"\"}}}],\"carpet\":[{\"aaxis\":{\"endlinecolor\":\"#2a3f5f\",\"gridcolor\":\"white\",\"linecolor\":\"white\",\"minorgridcolor\":\"white\",\"startlinecolor\":\"#2a3f5f\"},\"baxis\":{\"endlinecolor\":\"#2a3f5f\",\"gridcolor\":\"white\",\"linecolor\":\"white\",\"minorgridcolor\":\"white\",\"startlinecolor\":\"#2a3f5f\"},\"type\":\"carpet\"}],\"table\":[{\"cells\":{\"fill\":{\"color\":\"#EBF0F8\"},\"line\":{\"color\":\"white\"}},\"header\":{\"fill\":{\"color\":\"#C8D4E3\"},\"line\":{\"color\":\"white\"}},\"type\":\"table\"}],\"barpolar\":[{\"marker\":{\"line\":{\"color\":\"#E5ECF6\",\"width\":0.5},\"pattern\":{\"fillmode\":\"overlay\",\"size\":10,\"solidity\":0.2}},\"type\":\"barpolar\"}],\"pie\":[{\"automargin\":true,\"type\":\"pie\"}]},\"layout\":{\"autotypenumbers\":\"strict\",\"colorway\":[\"#636efa\",\"#EF553B\",\"#00cc96\",\"#ab63fa\",\"#FFA15A\",\"#19d3f3\",\"#FF6692\",\"#B6E880\",\"#FF97FF\",\"#FECB52\"],\"font\":{\"color\":\"#2a3f5f\"},\"hovermode\":\"closest\",\"hoverlabel\":{\"align\":\"left\"},\"paper_bgcolor\":\"white\",\"plot_bgcolor\":\"#E5ECF6\",\"polar\":{\"bgcolor\":\"#E5ECF6\",\"angularaxis\":{\"gridcolor\":\"white\",\"linecolor\":\"white\",\"ticks\":\"\"},\"radialaxis\":{\"gridcolor\":\"white\",\"linecolor\":\"white\",\"ticks\":\"\"}},\"ternary\":{\"bgcolor\":\"#E5ECF6\",\"aaxis\":{\"gridcolor\":\"white\",\"linecolor\":\"white\",\"ticks\":\"\"},\"baxis\":{\"gridcolor\":\"white\",\"linecolor\":\"white\",\"ticks\":\"\"},\"caxis\":{\"gridcolor\":\"white\",\"linecolor\":\"white\",\"ticks\":\"\"}},\"coloraxis\":{\"colorbar\":{\"outlinewidth\":0,\"ticks\":\"\"}},\"colorscale\":{\"sequential\":[[0.0,\"#0d0887\"],[0.1111111111111111,\"#46039f\"],[0.2222222222222222,\"#7201a8\"],[0.3333333333333333,\"#9c179e\"],[0.4444444444444444,\"#bd3786\"],[0.5555555555555556,\"#d8576b\"],[0.6666666666666666,\"#ed7953\"],[0.7777777777777778,\"#fb9f3a\"],[0.8888888888888888,\"#fdca26\"],[1.0,\"#f0f921\"]],\"sequentialminus\":[[0.0,\"#0d0887\"],[0.1111111111111111,\"#46039f\"],[0.2222222222222222,\"#7201a8\"],[0.3333333333333333,\"#9c179e\"],[0.4444444444444444,\"#bd3786\"],[0.5555555555555556,\"#d8576b\"],[0.6666666666666666,\"#ed7953\"],[0.7777777777777778,\"#fb9f3a\"],[0.8888888888888888,\"#fdca26\"],[1.0,\"#f0f921\"]],\"diverging\":[[0,\"#8e0152\"],[0.1,\"#c51b7d\"],[0.2,\"#de77ae\"],[0.3,\"#f1b6da\"],[0.4,\"#fde0ef\"],[0.5,\"#f7f7f7\"],[0.6,\"#e6f5d0\"],[0.7,\"#b8e186\"],[0.8,\"#7fbc41\"],[0.9,\"#4d9221\"],[1,\"#276419\"]]},\"xaxis\":{\"gridcolor\":\"white\",\"linecolor\":\"white\",\"ticks\":\"\",\"title\":{\"standoff\":15},\"zerolinecolor\":\"white\",\"automargin\":true,\"zerolinewidth\":2},\"yaxis\":{\"gridcolor\":\"white\",\"linecolor\":\"white\",\"ticks\":\"\",\"title\":{\"standoff\":15},\"zerolinecolor\":\"white\",\"automargin\":true,\"zerolinewidth\":2},\"scene\":{\"xaxis\":{\"backgroundcolor\":\"#E5ECF6\",\"gridcolor\":\"white\",\"linecolor\":\"white\",\"showbackground\":true,\"ticks\":\"\",\"zerolinecolor\":\"white\",\"gridwidth\":2},\"yaxis\":{\"backgroundcolor\":\"#E5ECF6\",\"gridcolor\":\"white\",\"linecolor\":\"white\",\"showbackground\":true,\"ticks\":\"\",\"zerolinecolor\":\"white\",\"gridwidth\":2},\"zaxis\":{\"backgroundcolor\":\"#E5ECF6\",\"gridcolor\":\"white\",\"linecolor\":\"white\",\"showbackground\":true,\"ticks\":\"\",\"zerolinecolor\":\"white\",\"gridwidth\":2}},\"shapedefaults\":{\"line\":{\"color\":\"#2a3f5f\"}},\"annotationdefaults\":{\"arrowcolor\":\"#2a3f5f\",\"arrowhead\":0,\"arrowwidth\":1},\"geo\":{\"bgcolor\":\"white\",\"landcolor\":\"#E5ECF6\",\"subunitcolor\":\"white\",\"showland\":true,\"showlakes\":true,\"lakecolor\":\"white\"},\"title\":{\"x\":0.05},\"mapbox\":{\"style\":\"light\"}}},\"scene\":{\"domain\":{\"x\":[0.0,1.0],\"y\":[0.0,1.0]},\"xaxis\":{\"title\":{\"text\":\"x\"}},\"yaxis\":{\"title\":{\"text\":\"y\"}},\"zaxis\":{\"title\":{\"text\":\"z\"}}},\"coloraxis\":{\"colorbar\":{\"title\":{\"text\":\"color\"}},\"colorscale\":[[0.0,\"#0d0887\"],[0.1111111111111111,\"#46039f\"],[0.2222222222222222,\"#7201a8\"],[0.3333333333333333,\"#9c179e\"],[0.4444444444444444,\"#bd3786\"],[0.5555555555555556,\"#d8576b\"],[0.6666666666666666,\"#ed7953\"],[0.7777777777777778,\"#fb9f3a\"],[0.8888888888888888,\"#fdca26\"],[1.0,\"#f0f921\"]]},\"legend\":{\"tracegroupgap\":0},\"margin\":{\"t\":60}},                        {\"responsive\": true}                    ).then(function(){\n",
              "                            \n",
              "var gd = document.getElementById('7e786c2b-c53b-41f1-88d1-47419b3ee808');\n",
              "var x = new MutationObserver(function (mutations, observer) {{\n",
              "        var display = window.getComputedStyle(gd).display;\n",
              "        if (!display || display === 'none') {{\n",
              "            console.log([gd, 'removed!']);\n",
              "            Plotly.purge(gd);\n",
              "            observer.disconnect();\n",
              "        }}\n",
              "}});\n",
              "\n",
              "// Listen for the removal of the full notebook cells\n",
              "var notebookContainer = gd.closest('#notebook-container');\n",
              "if (notebookContainer) {{\n",
              "    x.observe(notebookContainer, {childList: true});\n",
              "}}\n",
              "\n",
              "// Listen for the clearing of the current output cell\n",
              "var outputEl = gd.closest('.output');\n",
              "if (outputEl) {{\n",
              "    x.observe(outputEl, {childList: true});\n",
              "}}\n",
              "\n",
              "                        })                };                            </script>        </div>\n",
              "</body>\n",
              "</html>"
            ]
          },
          "metadata": {}
        }
      ]
    },
    {
      "cell_type": "markdown",
      "source": [
        "<details>\n",
        "  <summary>\n",
        "    Если ячейка не загрузилась, должно быть так\n",
        "  </summary>\n",
        "\n",
        "  ![График](https://drive.google.com/uc?export=view&id=11RfLICjhr5aUbHWFZbMp4X1LeG9IxYWL)\n",
        "</details>"
      ],
      "metadata": {
        "id": "QoxK71nb2HXJ"
      }
    },
    {
      "cell_type": "markdown",
      "source": [
        "Для начала выпишем все возможные \"движения\" по гексогональной сетке"
      ],
      "metadata": {
        "id": "o8q7Bfz_ngA1"
      }
    },
    {
      "cell_type": "code",
      "source": [
        "ALL_MOVEMENTS = np.array([\n",
        "    [0, 1, -1],\n",
        "    [1, 0, -1],\n",
        "    [1, -1, 0],\n",
        "    [0, -1, 1],\n",
        "    [-1, 0, 1],\n",
        "    [-1, 1, 0]\n",
        "])"
      ],
      "metadata": {
        "id": "ZcboqB0tIBei"
      },
      "execution_count": 26,
      "outputs": []
    },
    {
      "cell_type": "markdown",
      "source": [
        "### Генерация рек"
      ],
      "metadata": {
        "id": "h4oW_XVSnocA"
      }
    },
    {
      "cell_type": "markdown",
      "source": [
        "Для генерации рек:\n",
        "- выберем 3 движения в одном направлении\n",
        "- зададим число рек для генерации\n",
        "- укажем тип клетки реки (10)\n",
        "- Для каждой реки:\n",
        "  - генерируем случайную длину реки (до 10 клеток)\n",
        "  - выбираем случайную стартовую точку реки\n",
        "  - до тех пор пока длина реки меньше выбранной\n",
        "    - выбираем случайное движение из 3\n",
        "    - передвигаемся к новой клетке (если клетка - поле)\n",
        "    - меняем тип новой клетки на реку"
      ],
      "metadata": {
        "id": "54z76o8Pnqqe"
      }
    },
    {
      "cell_type": "code",
      "source": [
        "import random\n",
        "\n",
        "river_movements = ALL_MOVEMENTS[0:2]\n",
        "\n",
        "RIVERS_COUNT = 40\n",
        "\n",
        "MAX_RIVER_LENGTH = 7\n",
        "\n",
        "RIVER_TYPE = 10\n",
        "\n",
        "np.random.seed(42)\n",
        "random.seed(42)\n",
        "\n",
        "river_map = np.copy(new_map)"
      ],
      "metadata": {
        "id": "X2seQL9UMYHp"
      },
      "execution_count": 27,
      "outputs": []
    },
    {
      "cell_type": "code",
      "source": [
        "# Код здесь\n",
        "def get_idx(coords: list):\n",
        "    N = MAX_DIST * 2 + 1\n",
        "    x, y, z = coords\n",
        "    return x * N**2 + N * y + z\n",
        "\n",
        "def set_data(coords: list, info: int, map):\n",
        "    idx = get_idx(coords)\n",
        "    if idx in hexagon_idxs:\n",
        "        map[idx, -1] = info\n",
        "\n",
        "for _ in range(RIVERS_COUNT):\n",
        "    river_len = random.randint(1, MAX_RIVER_LENGTH)\n",
        "    random_idx = random.choice(hexagon_idxs)\n",
        "\n",
        "    x, y, z, d = river_map[random_idx]\n",
        "\n",
        "    len_now = 0\n",
        "    while len_now < river_len:\n",
        "\n",
        "        set_data([x, y, z], RIVER_TYPE, river_map)\n",
        "\n",
        "        random_move = random.choice(river_movements)\n",
        "\n",
        "        m_x, m_y, m_z = random_move\n",
        "        x, y, z =  m_x + x, m_y + y, m_z + z # двигаем крышу реки\n",
        "\n",
        "        if get_idx([x, y, z]) not in hexagon_idxs: # мы дошли до края мира, галлы в ужасе\n",
        "            break\n",
        "\n",
        "        len_now += 1"
      ],
      "metadata": {
        "id": "yxGO4Zx-IHKI"
      },
      "execution_count": 28,
      "outputs": []
    },
    {
      "cell_type": "markdown",
      "source": [
        "Отрисуем получившееся поле"
      ],
      "metadata": {
        "id": "31-lvIP0ox-n"
      }
    },
    {
      "cell_type": "code",
      "source": [
        "hex_data = river_map[hex_idxs]\n",
        "\n",
        "fig = px.scatter_3d(\n",
        "    hex_data,\n",
        "    x=hex_data[:, 0],\n",
        "    y=hex_data[:, 1],\n",
        "    z=hex_data[:, 2],\n",
        "    color=hex_data[:, 3]\n",
        ")\n",
        "fig.show()"
      ],
      "metadata": {
        "colab": {
          "base_uri": "https://localhost:8080/",
          "height": 542
        },
        "id": "7rv6WCleLRMn",
        "outputId": "41bf1594-6555-49c0-c58d-1c4c53bdc612"
      },
      "execution_count": 29,
      "outputs": [
        {
          "output_type": "display_data",
          "data": {
            "text/html": [
              "<html>\n",
              "<head><meta charset=\"utf-8\" /></head>\n",
              "<body>\n",
              "    <div>            <script src=\"https://cdnjs.cloudflare.com/ajax/libs/mathjax/2.7.5/MathJax.js?config=TeX-AMS-MML_SVG\"></script><script type=\"text/javascript\">if (window.MathJax && window.MathJax.Hub && window.MathJax.Hub.Config) {window.MathJax.Hub.Config({SVG: {font: \"STIX-Web\"}});}</script>                <script type=\"text/javascript\">window.PlotlyConfig = {MathJaxConfig: 'local'};</script>\n",
              "        <script charset=\"utf-8\" src=\"https://cdn.plot.ly/plotly-2.24.1.min.js\"></script>                <div id=\"675ccfac-7a38-44ad-969a-c04f711bbbc3\" class=\"plotly-graph-div\" style=\"height:525px; width:100%;\"></div>            <script type=\"text/javascript\">                                    window.PLOTLYENV=window.PLOTLYENV || {};                                    if (document.getElementById(\"675ccfac-7a38-44ad-969a-c04f711bbbc3\")) {                    Plotly.newPlot(                        \"675ccfac-7a38-44ad-969a-c04f711bbbc3\",                        [{\"hovertemplate\":\"x=%{x}\\u003cbr\\u003ey=%{y}\\u003cbr\\u003ez=%{z}\\u003cbr\\u003ecolor=%{marker.color}\\u003cextra\\u003e\\u003c\\u002fextra\\u003e\",\"legendgroup\":\"\",\"marker\":{\"color\":[1,1,1,1,1,1,10,1,1,1,1,1,1,1,1,1,1,1,1,1,1,1,1,1,1,1,1,1,10,10,10,1,1,1,1,1,1,1,1,1,1,1,1,1,1,1,1,1,1,1,1,1,1,1,1,1,1,1,1,1,1,1,1,1,1,1,1,1,1,1,1,1,1,1,1,1,1,1,1,1,1,1,1,1,1,1,1,1,1,1,1,1,1,1,1,1,1,1,1,1,1,1,1,1,1,1,1,1,1,1,1,1,1,1,1,1,1,1,1,1,1,1,1,1,1,1,1,1,1,1,1,10,1,1,1,1,1,1,10,10,1,1,10,10,10,1,1,1,1,1,1,1,1,1,1,1,1,1,10,1,1,1,1,1,1,1,1,1,1,1,1,1,10,10,10,1,1,1,1,1,1,1,1,1,1,1,1,1,1,1,1,1,1,1,1,1,1,1,10,1,1,10,10,1,1,1,1,1,1,1,1,1,1,1,1,1,1,1,1,1,1,1,1,1,1,1,1,1,10,10,1,1,10,1,1,1,1,1,1,1,1,1,1,1,1,1,1,1,1,1,1,1,1,1,1,10,1,1,1,1,10,10,10,10,10,10,1,1,1,1,1,1,1,1,1,1,1,1,1,1,1,1,1,1,1,1,1,10,10,1,1,1,1,1,1,1,1,1,1,1,1,1,1,1,1,1,1,1,1,1,1,1,1,1,1,1,1,1,1,1,1,10,1,1,1,1,10,1,1,1,1,1,1,1,1,1,1,1,10,1,1,1,1,1,1,1,1,1,1,1,10,1,1,1,1,10,1,1,1,1,10,1,1,1,1,1,1,1,1,1,1,1,10,1,1,10,1,1,1,1,1,1,1,1,1,1,1,1,1,1,1,1,1,1,1,10,1,1,1,1,1,1,1,1,1,1,1,10,10,10,10,1,1,1,1,1,1,1,1,1,1,1,1,1,1,1,1,1,1,1,1,10,10,10,1,1,1,1,1,1,1,1,1,1,1,1,10,10,1,1,1,1,1,1,1,1,1,1,1,1,1,1,1,1,1,1,1,1,1,1,10,1,1,1,1,1,1,1,1,1,1,1,1,1,1,1,1,1,1,1,1,1,1,1,1,1,1,1,1,1,1,1,1,1,1,1,1,1,1,1,1,1,1,1,1,1,1,1,1,1,1,1,1,1,1,1,1,1,1,1,1,1,1,1,1,1,1,1,1,1,1,1,1,1,1,1,1,1,10,10,10,1,1,1,1,1,1,1,1,1,1,1,1,1,1,1,1,1,1,10,1,1,1,1,1,1,1,1,1,1,1,1,1,1,1,1,1,1,1,1,10,1,1,1,1,1,1,1,1,1,1,1,1,1,1,1,1,1,1,10,1,1,1,1,1,1,1,1,1,1,1,1,1,1,1,1,1,1,1,10,10,10,10,10,10,1,1,1,1,1,1,1,1,1,1,1,1,1,1,1,10,1,1,1,1,1,1,1,1,1,1,1,1,1,1,1,1,1,1,1,1,1,1,1,1,10,1,1,1,1,1,1,1,1,1,1,1,1,1,1,1,1,1,1,1,1,1,1,1,1,1,1,1,1,10,1,1,1,1,1,1,1,1,1,1,1,1,1,1,1,1,1,1,1,1,1,1,10,10,1,1,1,1,1,1,1,1,1,1,1,1,1,1,10,10,1,1,1,1,1,1,1,1,1,1,1,1,1,1,1,1,1,1,1,10,1,1,10,1,1,1,1,1,1,1,1,1,1,10,1,1,1,1,1,1,1,1,1,1,1,1,1,1,1,1,1,1,1,1,1,1,1,10,1,1,1,1,1,1,1,1,1,1,1,1,1,1,1,1,1,1,1,1,1,1,1,1,1,1,1,1,1,1,1,1,1,1,1,1,10,10,1,1,1,1,1,1,1,1,1,1,1,1,1,1,1,1,1,1,1,1,1,1,1,10,10,1,10,1,1,1,1,1,1,1,1,1,1,1,1,1,1,1,1,1,1,1,1,1,1,1,1,1,1,1,1,1,1,1,1,10,1,10,1,1,1,1,1,1,1,1,1,1,1,1,1,1,1,1,1,1,1,1,1,1,1,1,1,1,1,1,1,1,1,10,1,10,1,1,1,1,1,1,1,1,1,10,1,1,1,1,1,1,1,1,1,1,1,1,1,1,1,1,1,1,1,1,10,10,1,1,1,1,1,1,1,1,1,10,1,1,1,1,1,1,1,1,1,1,1,1,1,1,1,10,10,10,1,1,10,10,1,1,1,1,1,1,1,1,1,10,10,10,10,10,1,1,1,1,1,1,1,10,1,1,1,1,1,1,1,1,1,1,1,1,1,1,1,1,10,10,10,1,1,1,1,1,1,1,1,1,1,10,1,1,1,1,1,1,1,1,1,1,1,1,1,1,1,1,1,10,10,10,1,1,1,1,1,1,1,1,10,10,1,1,1,1,1,1,1,10,10,10,1,1,1,1,1,10,10,10,1,1,1,1,1,1,1,1,1,10,10,1,1,1,1,10,10,1,1,1,1,1,1,1,10,10,10,10,10,10,1,1,1,10,10,10,10,10,1,10,10,1,1,10,10,1,1,1,10,1,1,10,10,1,1,1,1,1,1,1,1,1,1,1,1,1,10,10,10,10,1,1,1,10,1,1,1,10,1,1,1,1,1,1,1,1,1,1,1,1,1,1,1,1,1,1,1,10,1,1,1,10,1,1,1,1,1,1,1,1,1,1,1,1,1,1,1,1,1,1,10,1,1,1,1,1,1,1,1,1,1,10,10,10,1,1,1,1,1,1,1,1,10,10,1,1,1,1,1,1,1,1,1,1,1,10,10,1,1,1],\"coloraxis\":\"coloraxis\",\"symbol\":\"circle\"},\"mode\":\"markers\",\"name\":\"\",\"scene\":\"scene\",\"showlegend\":false,\"x\":[0,0,0,0,0,0,0,0,0,0,0,0,0,0,0,0,0,0,0,0,0,1,1,1,1,1,1,1,1,1,1,1,1,1,1,1,1,1,1,1,1,1,1,2,2,2,2,2,2,2,2,2,2,2,2,2,2,2,2,2,2,2,2,2,2,2,3,3,3,3,3,3,3,3,3,3,3,3,3,3,3,3,3,3,3,3,3,3,3,3,4,4,4,4,4,4,4,4,4,4,4,4,4,4,4,4,4,4,4,4,4,4,4,4,4,5,5,5,5,5,5,5,5,5,5,5,5,5,5,5,5,5,5,5,5,5,5,5,5,5,5,6,6,6,6,6,6,6,6,6,6,6,6,6,6,6,6,6,6,6,6,6,6,6,6,6,6,6,7,7,7,7,7,7,7,7,7,7,7,7,7,7,7,7,7,7,7,7,7,7,7,7,7,7,7,7,8,8,8,8,8,8,8,8,8,8,8,8,8,8,8,8,8,8,8,8,8,8,8,8,8,8,8,8,8,9,9,9,9,9,9,9,9,9,9,9,9,9,9,9,9,9,9,9,9,9,9,9,9,9,9,9,9,9,9,10,10,10,10,10,10,10,10,10,10,10,10,10,10,10,10,10,10,10,10,10,10,10,10,10,10,10,10,10,10,10,11,11,11,11,11,11,11,11,11,11,11,11,11,11,11,11,11,11,11,11,11,11,11,11,11,11,11,11,11,11,11,11,12,12,12,12,12,12,12,12,12,12,12,12,12,12,12,12,12,12,12,12,12,12,12,12,12,12,12,12,12,12,12,12,12,13,13,13,13,13,13,13,13,13,13,13,13,13,13,13,13,13,13,13,13,13,13,13,13,13,13,13,13,13,13,13,13,13,13,14,14,14,14,14,14,14,14,14,14,14,14,14,14,14,14,14,14,14,14,14,14,14,14,14,14,14,14,14,14,14,14,14,14,14,15,15,15,15,15,15,15,15,15,15,15,15,15,15,15,15,15,15,15,15,15,15,15,15,15,15,15,15,15,15,15,15,15,15,15,15,16,16,16,16,16,16,16,16,16,16,16,16,16,16,16,16,16,16,16,16,16,16,16,16,16,16,16,16,16,16,16,16,16,16,16,16,16,17,17,17,17,17,17,17,17,17,17,17,17,17,17,17,17,17,17,17,17,17,17,17,17,17,17,17,17,17,17,17,17,17,17,17,17,17,17,18,18,18,18,18,18,18,18,18,18,18,18,18,18,18,18,18,18,18,18,18,18,18,18,18,18,18,18,18,18,18,18,18,18,18,18,18,18,18,19,19,19,19,19,19,19,19,19,19,19,19,19,19,19,19,19,19,19,19,19,19,19,19,19,19,19,19,19,19,19,19,19,19,19,19,19,19,19,19,20,20,20,20,20,20,20,20,20,20,20,20,20,20,20,20,20,20,20,20,20,20,20,20,20,20,20,20,20,20,20,20,20,20,20,20,20,20,20,20,20,21,21,21,21,21,21,21,21,21,21,21,21,21,21,21,21,21,21,21,21,21,21,21,21,21,21,21,21,21,21,21,21,21,21,21,21,21,21,21,21,22,22,22,22,22,22,22,22,22,22,22,22,22,22,22,22,22,22,22,22,22,22,22,22,22,22,22,22,22,22,22,22,22,22,22,22,22,22,22,23,23,23,23,23,23,23,23,23,23,23,23,23,23,23,23,23,23,23,23,23,23,23,23,23,23,23,23,23,23,23,23,23,23,23,23,23,23,24,24,24,24,24,24,24,24,24,24,24,24,24,24,24,24,24,24,24,24,24,24,24,24,24,24,24,24,24,24,24,24,24,24,24,24,24,25,25,25,25,25,25,25,25,25,25,25,25,25,25,25,25,25,25,25,25,25,25,25,25,25,25,25,25,25,25,25,25,25,25,25,25,26,26,26,26,26,26,26,26,26,26,26,26,26,26,26,26,26,26,26,26,26,26,26,26,26,26,26,26,26,26,26,26,26,26,26,27,27,27,27,27,27,27,27,27,27,27,27,27,27,27,27,27,27,27,27,27,27,27,27,27,27,27,27,27,27,27,27,27,27,28,28,28,28,28,28,28,28,28,28,28,28,28,28,28,28,28,28,28,28,28,28,28,28,28,28,28,28,28,28,28,28,28,29,29,29,29,29,29,29,29,29,29,29,29,29,29,29,29,29,29,29,29,29,29,29,29,29,29,29,29,29,29,29,29,30,30,30,30,30,30,30,30,30,30,30,30,30,30,30,30,30,30,30,30,30,30,30,30,30,30,30,30,30,30,30,31,31,31,31,31,31,31,31,31,31,31,31,31,31,31,31,31,31,31,31,31,31,31,31,31,31,31,31,31,31,32,32,32,32,32,32,32,32,32,32,32,32,32,32,32,32,32,32,32,32,32,32,32,32,32,32,32,32,32,33,33,33,33,33,33,33,33,33,33,33,33,33,33,33,33,33,33,33,33,33,33,33,33,33,33,33,33,34,34,34,34,34,34,34,34,34,34,34,34,34,34,34,34,34,34,34,34,34,34,34,34,34,34,34,35,35,35,35,35,35,35,35,35,35,35,35,35,35,35,35,35,35,35,35,35,35,35,35,35,35,36,36,36,36,36,36,36,36,36,36,36,36,36,36,36,36,36,36,36,36,36,36,36,36,36,37,37,37,37,37,37,37,37,37,37,37,37,37,37,37,37,37,37,37,37,37,37,37,37,38,38,38,38,38,38,38,38,38,38,38,38,38,38,38,38,38,38,38,38,38,38,38,39,39,39,39,39,39,39,39,39,39,39,39,39,39,39,39,39,39,39,39,39,39,40,40,40,40,40,40,40,40,40,40,40,40,40,40,40,40,40,40,40,40,40],\"y\":[20,21,22,23,24,25,26,27,28,29,30,31,32,33,34,35,36,37,38,39,40,19,20,21,22,23,24,25,26,27,28,29,30,31,32,33,34,35,36,37,38,39,40,18,19,20,21,22,23,24,25,26,27,28,29,30,31,32,33,34,35,36,37,38,39,40,17,18,19,20,21,22,23,24,25,26,27,28,29,30,31,32,33,34,35,36,37,38,39,40,16,17,18,19,20,21,22,23,24,25,26,27,28,29,30,31,32,33,34,35,36,37,38,39,40,15,16,17,18,19,20,21,22,23,24,25,26,27,28,29,30,31,32,33,34,35,36,37,38,39,40,14,15,16,17,18,19,20,21,22,23,24,25,26,27,28,29,30,31,32,33,34,35,36,37,38,39,40,13,14,15,16,17,18,19,20,21,22,23,24,25,26,27,28,29,30,31,32,33,34,35,36,37,38,39,40,12,13,14,15,16,17,18,19,20,21,22,23,24,25,26,27,28,29,30,31,32,33,34,35,36,37,38,39,40,11,12,13,14,15,16,17,18,19,20,21,22,23,24,25,26,27,28,29,30,31,32,33,34,35,36,37,38,39,40,10,11,12,13,14,15,16,17,18,19,20,21,22,23,24,25,26,27,28,29,30,31,32,33,34,35,36,37,38,39,40,9,10,11,12,13,14,15,16,17,18,19,20,21,22,23,24,25,26,27,28,29,30,31,32,33,34,35,36,37,38,39,40,8,9,10,11,12,13,14,15,16,17,18,19,20,21,22,23,24,25,26,27,28,29,30,31,32,33,34,35,36,37,38,39,40,7,8,9,10,11,12,13,14,15,16,17,18,19,20,21,22,23,24,25,26,27,28,29,30,31,32,33,34,35,36,37,38,39,40,6,7,8,9,10,11,12,13,14,15,16,17,18,19,20,21,22,23,24,25,26,27,28,29,30,31,32,33,34,35,36,37,38,39,40,5,6,7,8,9,10,11,12,13,14,15,16,17,18,19,20,21,22,23,24,25,26,27,28,29,30,31,32,33,34,35,36,37,38,39,40,4,5,6,7,8,9,10,11,12,13,14,15,16,17,18,19,20,21,22,23,24,25,26,27,28,29,30,31,32,33,34,35,36,37,38,39,40,3,4,5,6,7,8,9,10,11,12,13,14,15,16,17,18,19,20,21,22,23,24,25,26,27,28,29,30,31,32,33,34,35,36,37,38,39,40,2,3,4,5,6,7,8,9,10,11,12,13,14,15,16,17,18,19,20,21,22,23,24,25,26,27,28,29,30,31,32,33,34,35,36,37,38,39,40,1,2,3,4,5,6,7,8,9,10,11,12,13,14,15,16,17,18,19,20,21,22,23,24,25,26,27,28,29,30,31,32,33,34,35,36,37,38,39,40,0,1,2,3,4,5,6,7,8,9,10,11,12,13,14,15,16,17,18,19,20,21,22,23,24,25,26,27,28,29,30,31,32,33,34,35,36,37,38,39,40,0,1,2,3,4,5,6,7,8,9,10,11,12,13,14,15,16,17,18,19,20,21,22,23,24,25,26,27,28,29,30,31,32,33,34,35,36,37,38,39,0,1,2,3,4,5,6,7,8,9,10,11,12,13,14,15,16,17,18,19,20,21,22,23,24,25,26,27,28,29,30,31,32,33,34,35,36,37,38,0,1,2,3,4,5,6,7,8,9,10,11,12,13,14,15,16,17,18,19,20,21,22,23,24,25,26,27,28,29,30,31,32,33,34,35,36,37,0,1,2,3,4,5,6,7,8,9,10,11,12,13,14,15,16,17,18,19,20,21,22,23,24,25,26,27,28,29,30,31,32,33,34,35,36,0,1,2,3,4,5,6,7,8,9,10,11,12,13,14,15,16,17,18,19,20,21,22,23,24,25,26,27,28,29,30,31,32,33,34,35,0,1,2,3,4,5,6,7,8,9,10,11,12,13,14,15,16,17,18,19,20,21,22,23,24,25,26,27,28,29,30,31,32,33,34,0,1,2,3,4,5,6,7,8,9,10,11,12,13,14,15,16,17,18,19,20,21,22,23,24,25,26,27,28,29,30,31,32,33,0,1,2,3,4,5,6,7,8,9,10,11,12,13,14,15,16,17,18,19,20,21,22,23,24,25,26,27,28,29,30,31,32,0,1,2,3,4,5,6,7,8,9,10,11,12,13,14,15,16,17,18,19,20,21,22,23,24,25,26,27,28,29,30,31,0,1,2,3,4,5,6,7,8,9,10,11,12,13,14,15,16,17,18,19,20,21,22,23,24,25,26,27,28,29,30,0,1,2,3,4,5,6,7,8,9,10,11,12,13,14,15,16,17,18,19,20,21,22,23,24,25,26,27,28,29,0,1,2,3,4,5,6,7,8,9,10,11,12,13,14,15,16,17,18,19,20,21,22,23,24,25,26,27,28,0,1,2,3,4,5,6,7,8,9,10,11,12,13,14,15,16,17,18,19,20,21,22,23,24,25,26,27,0,1,2,3,4,5,6,7,8,9,10,11,12,13,14,15,16,17,18,19,20,21,22,23,24,25,26,0,1,2,3,4,5,6,7,8,9,10,11,12,13,14,15,16,17,18,19,20,21,22,23,24,25,0,1,2,3,4,5,6,7,8,9,10,11,12,13,14,15,16,17,18,19,20,21,22,23,24,0,1,2,3,4,5,6,7,8,9,10,11,12,13,14,15,16,17,18,19,20,21,22,23,0,1,2,3,4,5,6,7,8,9,10,11,12,13,14,15,16,17,18,19,20,21,22,0,1,2,3,4,5,6,7,8,9,10,11,12,13,14,15,16,17,18,19,20,21,0,1,2,3,4,5,6,7,8,9,10,11,12,13,14,15,16,17,18,19,20],\"z\":[40,39,38,37,36,35,34,33,32,31,30,29,28,27,26,25,24,23,22,21,20,40,39,38,37,36,35,34,33,32,31,30,29,28,27,26,25,24,23,22,21,20,19,40,39,38,37,36,35,34,33,32,31,30,29,28,27,26,25,24,23,22,21,20,19,18,40,39,38,37,36,35,34,33,32,31,30,29,28,27,26,25,24,23,22,21,20,19,18,17,40,39,38,37,36,35,34,33,32,31,30,29,28,27,26,25,24,23,22,21,20,19,18,17,16,40,39,38,37,36,35,34,33,32,31,30,29,28,27,26,25,24,23,22,21,20,19,18,17,16,15,40,39,38,37,36,35,34,33,32,31,30,29,28,27,26,25,24,23,22,21,20,19,18,17,16,15,14,40,39,38,37,36,35,34,33,32,31,30,29,28,27,26,25,24,23,22,21,20,19,18,17,16,15,14,13,40,39,38,37,36,35,34,33,32,31,30,29,28,27,26,25,24,23,22,21,20,19,18,17,16,15,14,13,12,40,39,38,37,36,35,34,33,32,31,30,29,28,27,26,25,24,23,22,21,20,19,18,17,16,15,14,13,12,11,40,39,38,37,36,35,34,33,32,31,30,29,28,27,26,25,24,23,22,21,20,19,18,17,16,15,14,13,12,11,10,40,39,38,37,36,35,34,33,32,31,30,29,28,27,26,25,24,23,22,21,20,19,18,17,16,15,14,13,12,11,10,9,40,39,38,37,36,35,34,33,32,31,30,29,28,27,26,25,24,23,22,21,20,19,18,17,16,15,14,13,12,11,10,9,8,40,39,38,37,36,35,34,33,32,31,30,29,28,27,26,25,24,23,22,21,20,19,18,17,16,15,14,13,12,11,10,9,8,7,40,39,38,37,36,35,34,33,32,31,30,29,28,27,26,25,24,23,22,21,20,19,18,17,16,15,14,13,12,11,10,9,8,7,6,40,39,38,37,36,35,34,33,32,31,30,29,28,27,26,25,24,23,22,21,20,19,18,17,16,15,14,13,12,11,10,9,8,7,6,5,40,39,38,37,36,35,34,33,32,31,30,29,28,27,26,25,24,23,22,21,20,19,18,17,16,15,14,13,12,11,10,9,8,7,6,5,4,40,39,38,37,36,35,34,33,32,31,30,29,28,27,26,25,24,23,22,21,20,19,18,17,16,15,14,13,12,11,10,9,8,7,6,5,4,3,40,39,38,37,36,35,34,33,32,31,30,29,28,27,26,25,24,23,22,21,20,19,18,17,16,15,14,13,12,11,10,9,8,7,6,5,4,3,2,40,39,38,37,36,35,34,33,32,31,30,29,28,27,26,25,24,23,22,21,20,19,18,17,16,15,14,13,12,11,10,9,8,7,6,5,4,3,2,1,40,39,38,37,36,35,34,33,32,31,30,29,28,27,26,25,24,23,22,21,20,19,18,17,16,15,14,13,12,11,10,9,8,7,6,5,4,3,2,1,0,39,38,37,36,35,34,33,32,31,30,29,28,27,26,25,24,23,22,21,20,19,18,17,16,15,14,13,12,11,10,9,8,7,6,5,4,3,2,1,0,38,37,36,35,34,33,32,31,30,29,28,27,26,25,24,23,22,21,20,19,18,17,16,15,14,13,12,11,10,9,8,7,6,5,4,3,2,1,0,37,36,35,34,33,32,31,30,29,28,27,26,25,24,23,22,21,20,19,18,17,16,15,14,13,12,11,10,9,8,7,6,5,4,3,2,1,0,36,35,34,33,32,31,30,29,28,27,26,25,24,23,22,21,20,19,18,17,16,15,14,13,12,11,10,9,8,7,6,5,4,3,2,1,0,35,34,33,32,31,30,29,28,27,26,25,24,23,22,21,20,19,18,17,16,15,14,13,12,11,10,9,8,7,6,5,4,3,2,1,0,34,33,32,31,30,29,28,27,26,25,24,23,22,21,20,19,18,17,16,15,14,13,12,11,10,9,8,7,6,5,4,3,2,1,0,33,32,31,30,29,28,27,26,25,24,23,22,21,20,19,18,17,16,15,14,13,12,11,10,9,8,7,6,5,4,3,2,1,0,32,31,30,29,28,27,26,25,24,23,22,21,20,19,18,17,16,15,14,13,12,11,10,9,8,7,6,5,4,3,2,1,0,31,30,29,28,27,26,25,24,23,22,21,20,19,18,17,16,15,14,13,12,11,10,9,8,7,6,5,4,3,2,1,0,30,29,28,27,26,25,24,23,22,21,20,19,18,17,16,15,14,13,12,11,10,9,8,7,6,5,4,3,2,1,0,29,28,27,26,25,24,23,22,21,20,19,18,17,16,15,14,13,12,11,10,9,8,7,6,5,4,3,2,1,0,28,27,26,25,24,23,22,21,20,19,18,17,16,15,14,13,12,11,10,9,8,7,6,5,4,3,2,1,0,27,26,25,24,23,22,21,20,19,18,17,16,15,14,13,12,11,10,9,8,7,6,5,4,3,2,1,0,26,25,24,23,22,21,20,19,18,17,16,15,14,13,12,11,10,9,8,7,6,5,4,3,2,1,0,25,24,23,22,21,20,19,18,17,16,15,14,13,12,11,10,9,8,7,6,5,4,3,2,1,0,24,23,22,21,20,19,18,17,16,15,14,13,12,11,10,9,8,7,6,5,4,3,2,1,0,23,22,21,20,19,18,17,16,15,14,13,12,11,10,9,8,7,6,5,4,3,2,1,0,22,21,20,19,18,17,16,15,14,13,12,11,10,9,8,7,6,5,4,3,2,1,0,21,20,19,18,17,16,15,14,13,12,11,10,9,8,7,6,5,4,3,2,1,0,20,19,18,17,16,15,14,13,12,11,10,9,8,7,6,5,4,3,2,1,0],\"type\":\"scatter3d\"}],                        {\"template\":{\"data\":{\"histogram2dcontour\":[{\"type\":\"histogram2dcontour\",\"colorbar\":{\"outlinewidth\":0,\"ticks\":\"\"},\"colorscale\":[[0.0,\"#0d0887\"],[0.1111111111111111,\"#46039f\"],[0.2222222222222222,\"#7201a8\"],[0.3333333333333333,\"#9c179e\"],[0.4444444444444444,\"#bd3786\"],[0.5555555555555556,\"#d8576b\"],[0.6666666666666666,\"#ed7953\"],[0.7777777777777778,\"#fb9f3a\"],[0.8888888888888888,\"#fdca26\"],[1.0,\"#f0f921\"]]}],\"choropleth\":[{\"type\":\"choropleth\",\"colorbar\":{\"outlinewidth\":0,\"ticks\":\"\"}}],\"histogram2d\":[{\"type\":\"histogram2d\",\"colorbar\":{\"outlinewidth\":0,\"ticks\":\"\"},\"colorscale\":[[0.0,\"#0d0887\"],[0.1111111111111111,\"#46039f\"],[0.2222222222222222,\"#7201a8\"],[0.3333333333333333,\"#9c179e\"],[0.4444444444444444,\"#bd3786\"],[0.5555555555555556,\"#d8576b\"],[0.6666666666666666,\"#ed7953\"],[0.7777777777777778,\"#fb9f3a\"],[0.8888888888888888,\"#fdca26\"],[1.0,\"#f0f921\"]]}],\"heatmap\":[{\"type\":\"heatmap\",\"colorbar\":{\"outlinewidth\":0,\"ticks\":\"\"},\"colorscale\":[[0.0,\"#0d0887\"],[0.1111111111111111,\"#46039f\"],[0.2222222222222222,\"#7201a8\"],[0.3333333333333333,\"#9c179e\"],[0.4444444444444444,\"#bd3786\"],[0.5555555555555556,\"#d8576b\"],[0.6666666666666666,\"#ed7953\"],[0.7777777777777778,\"#fb9f3a\"],[0.8888888888888888,\"#fdca26\"],[1.0,\"#f0f921\"]]}],\"heatmapgl\":[{\"type\":\"heatmapgl\",\"colorbar\":{\"outlinewidth\":0,\"ticks\":\"\"},\"colorscale\":[[0.0,\"#0d0887\"],[0.1111111111111111,\"#46039f\"],[0.2222222222222222,\"#7201a8\"],[0.3333333333333333,\"#9c179e\"],[0.4444444444444444,\"#bd3786\"],[0.5555555555555556,\"#d8576b\"],[0.6666666666666666,\"#ed7953\"],[0.7777777777777778,\"#fb9f3a\"],[0.8888888888888888,\"#fdca26\"],[1.0,\"#f0f921\"]]}],\"contourcarpet\":[{\"type\":\"contourcarpet\",\"colorbar\":{\"outlinewidth\":0,\"ticks\":\"\"}}],\"contour\":[{\"type\":\"contour\",\"colorbar\":{\"outlinewidth\":0,\"ticks\":\"\"},\"colorscale\":[[0.0,\"#0d0887\"],[0.1111111111111111,\"#46039f\"],[0.2222222222222222,\"#7201a8\"],[0.3333333333333333,\"#9c179e\"],[0.4444444444444444,\"#bd3786\"],[0.5555555555555556,\"#d8576b\"],[0.6666666666666666,\"#ed7953\"],[0.7777777777777778,\"#fb9f3a\"],[0.8888888888888888,\"#fdca26\"],[1.0,\"#f0f921\"]]}],\"surface\":[{\"type\":\"surface\",\"colorbar\":{\"outlinewidth\":0,\"ticks\":\"\"},\"colorscale\":[[0.0,\"#0d0887\"],[0.1111111111111111,\"#46039f\"],[0.2222222222222222,\"#7201a8\"],[0.3333333333333333,\"#9c179e\"],[0.4444444444444444,\"#bd3786\"],[0.5555555555555556,\"#d8576b\"],[0.6666666666666666,\"#ed7953\"],[0.7777777777777778,\"#fb9f3a\"],[0.8888888888888888,\"#fdca26\"],[1.0,\"#f0f921\"]]}],\"mesh3d\":[{\"type\":\"mesh3d\",\"colorbar\":{\"outlinewidth\":0,\"ticks\":\"\"}}],\"scatter\":[{\"fillpattern\":{\"fillmode\":\"overlay\",\"size\":10,\"solidity\":0.2},\"type\":\"scatter\"}],\"parcoords\":[{\"type\":\"parcoords\",\"line\":{\"colorbar\":{\"outlinewidth\":0,\"ticks\":\"\"}}}],\"scatterpolargl\":[{\"type\":\"scatterpolargl\",\"marker\":{\"colorbar\":{\"outlinewidth\":0,\"ticks\":\"\"}}}],\"bar\":[{\"error_x\":{\"color\":\"#2a3f5f\"},\"error_y\":{\"color\":\"#2a3f5f\"},\"marker\":{\"line\":{\"color\":\"#E5ECF6\",\"width\":0.5},\"pattern\":{\"fillmode\":\"overlay\",\"size\":10,\"solidity\":0.2}},\"type\":\"bar\"}],\"scattergeo\":[{\"type\":\"scattergeo\",\"marker\":{\"colorbar\":{\"outlinewidth\":0,\"ticks\":\"\"}}}],\"scatterpolar\":[{\"type\":\"scatterpolar\",\"marker\":{\"colorbar\":{\"outlinewidth\":0,\"ticks\":\"\"}}}],\"histogram\":[{\"marker\":{\"pattern\":{\"fillmode\":\"overlay\",\"size\":10,\"solidity\":0.2}},\"type\":\"histogram\"}],\"scattergl\":[{\"type\":\"scattergl\",\"marker\":{\"colorbar\":{\"outlinewidth\":0,\"ticks\":\"\"}}}],\"scatter3d\":[{\"type\":\"scatter3d\",\"line\":{\"colorbar\":{\"outlinewidth\":0,\"ticks\":\"\"}},\"marker\":{\"colorbar\":{\"outlinewidth\":0,\"ticks\":\"\"}}}],\"scattermapbox\":[{\"type\":\"scattermapbox\",\"marker\":{\"colorbar\":{\"outlinewidth\":0,\"ticks\":\"\"}}}],\"scatterternary\":[{\"type\":\"scatterternary\",\"marker\":{\"colorbar\":{\"outlinewidth\":0,\"ticks\":\"\"}}}],\"scattercarpet\":[{\"type\":\"scattercarpet\",\"marker\":{\"colorbar\":{\"outlinewidth\":0,\"ticks\":\"\"}}}],\"carpet\":[{\"aaxis\":{\"endlinecolor\":\"#2a3f5f\",\"gridcolor\":\"white\",\"linecolor\":\"white\",\"minorgridcolor\":\"white\",\"startlinecolor\":\"#2a3f5f\"},\"baxis\":{\"endlinecolor\":\"#2a3f5f\",\"gridcolor\":\"white\",\"linecolor\":\"white\",\"minorgridcolor\":\"white\",\"startlinecolor\":\"#2a3f5f\"},\"type\":\"carpet\"}],\"table\":[{\"cells\":{\"fill\":{\"color\":\"#EBF0F8\"},\"line\":{\"color\":\"white\"}},\"header\":{\"fill\":{\"color\":\"#C8D4E3\"},\"line\":{\"color\":\"white\"}},\"type\":\"table\"}],\"barpolar\":[{\"marker\":{\"line\":{\"color\":\"#E5ECF6\",\"width\":0.5},\"pattern\":{\"fillmode\":\"overlay\",\"size\":10,\"solidity\":0.2}},\"type\":\"barpolar\"}],\"pie\":[{\"automargin\":true,\"type\":\"pie\"}]},\"layout\":{\"autotypenumbers\":\"strict\",\"colorway\":[\"#636efa\",\"#EF553B\",\"#00cc96\",\"#ab63fa\",\"#FFA15A\",\"#19d3f3\",\"#FF6692\",\"#B6E880\",\"#FF97FF\",\"#FECB52\"],\"font\":{\"color\":\"#2a3f5f\"},\"hovermode\":\"closest\",\"hoverlabel\":{\"align\":\"left\"},\"paper_bgcolor\":\"white\",\"plot_bgcolor\":\"#E5ECF6\",\"polar\":{\"bgcolor\":\"#E5ECF6\",\"angularaxis\":{\"gridcolor\":\"white\",\"linecolor\":\"white\",\"ticks\":\"\"},\"radialaxis\":{\"gridcolor\":\"white\",\"linecolor\":\"white\",\"ticks\":\"\"}},\"ternary\":{\"bgcolor\":\"#E5ECF6\",\"aaxis\":{\"gridcolor\":\"white\",\"linecolor\":\"white\",\"ticks\":\"\"},\"baxis\":{\"gridcolor\":\"white\",\"linecolor\":\"white\",\"ticks\":\"\"},\"caxis\":{\"gridcolor\":\"white\",\"linecolor\":\"white\",\"ticks\":\"\"}},\"coloraxis\":{\"colorbar\":{\"outlinewidth\":0,\"ticks\":\"\"}},\"colorscale\":{\"sequential\":[[0.0,\"#0d0887\"],[0.1111111111111111,\"#46039f\"],[0.2222222222222222,\"#7201a8\"],[0.3333333333333333,\"#9c179e\"],[0.4444444444444444,\"#bd3786\"],[0.5555555555555556,\"#d8576b\"],[0.6666666666666666,\"#ed7953\"],[0.7777777777777778,\"#fb9f3a\"],[0.8888888888888888,\"#fdca26\"],[1.0,\"#f0f921\"]],\"sequentialminus\":[[0.0,\"#0d0887\"],[0.1111111111111111,\"#46039f\"],[0.2222222222222222,\"#7201a8\"],[0.3333333333333333,\"#9c179e\"],[0.4444444444444444,\"#bd3786\"],[0.5555555555555556,\"#d8576b\"],[0.6666666666666666,\"#ed7953\"],[0.7777777777777778,\"#fb9f3a\"],[0.8888888888888888,\"#fdca26\"],[1.0,\"#f0f921\"]],\"diverging\":[[0,\"#8e0152\"],[0.1,\"#c51b7d\"],[0.2,\"#de77ae\"],[0.3,\"#f1b6da\"],[0.4,\"#fde0ef\"],[0.5,\"#f7f7f7\"],[0.6,\"#e6f5d0\"],[0.7,\"#b8e186\"],[0.8,\"#7fbc41\"],[0.9,\"#4d9221\"],[1,\"#276419\"]]},\"xaxis\":{\"gridcolor\":\"white\",\"linecolor\":\"white\",\"ticks\":\"\",\"title\":{\"standoff\":15},\"zerolinecolor\":\"white\",\"automargin\":true,\"zerolinewidth\":2},\"yaxis\":{\"gridcolor\":\"white\",\"linecolor\":\"white\",\"ticks\":\"\",\"title\":{\"standoff\":15},\"zerolinecolor\":\"white\",\"automargin\":true,\"zerolinewidth\":2},\"scene\":{\"xaxis\":{\"backgroundcolor\":\"#E5ECF6\",\"gridcolor\":\"white\",\"linecolor\":\"white\",\"showbackground\":true,\"ticks\":\"\",\"zerolinecolor\":\"white\",\"gridwidth\":2},\"yaxis\":{\"backgroundcolor\":\"#E5ECF6\",\"gridcolor\":\"white\",\"linecolor\":\"white\",\"showbackground\":true,\"ticks\":\"\",\"zerolinecolor\":\"white\",\"gridwidth\":2},\"zaxis\":{\"backgroundcolor\":\"#E5ECF6\",\"gridcolor\":\"white\",\"linecolor\":\"white\",\"showbackground\":true,\"ticks\":\"\",\"zerolinecolor\":\"white\",\"gridwidth\":2}},\"shapedefaults\":{\"line\":{\"color\":\"#2a3f5f\"}},\"annotationdefaults\":{\"arrowcolor\":\"#2a3f5f\",\"arrowhead\":0,\"arrowwidth\":1},\"geo\":{\"bgcolor\":\"white\",\"landcolor\":\"#E5ECF6\",\"subunitcolor\":\"white\",\"showland\":true,\"showlakes\":true,\"lakecolor\":\"white\"},\"title\":{\"x\":0.05},\"mapbox\":{\"style\":\"light\"}}},\"scene\":{\"domain\":{\"x\":[0.0,1.0],\"y\":[0.0,1.0]},\"xaxis\":{\"title\":{\"text\":\"x\"}},\"yaxis\":{\"title\":{\"text\":\"y\"}},\"zaxis\":{\"title\":{\"text\":\"z\"}}},\"coloraxis\":{\"colorbar\":{\"title\":{\"text\":\"color\"}},\"colorscale\":[[0.0,\"#0d0887\"],[0.1111111111111111,\"#46039f\"],[0.2222222222222222,\"#7201a8\"],[0.3333333333333333,\"#9c179e\"],[0.4444444444444444,\"#bd3786\"],[0.5555555555555556,\"#d8576b\"],[0.6666666666666666,\"#ed7953\"],[0.7777777777777778,\"#fb9f3a\"],[0.8888888888888888,\"#fdca26\"],[1.0,\"#f0f921\"]]},\"legend\":{\"tracegroupgap\":0},\"margin\":{\"t\":60}},                        {\"responsive\": true}                    ).then(function(){\n",
              "                            \n",
              "var gd = document.getElementById('675ccfac-7a38-44ad-969a-c04f711bbbc3');\n",
              "var x = new MutationObserver(function (mutations, observer) {{\n",
              "        var display = window.getComputedStyle(gd).display;\n",
              "        if (!display || display === 'none') {{\n",
              "            console.log([gd, 'removed!']);\n",
              "            Plotly.purge(gd);\n",
              "            observer.disconnect();\n",
              "        }}\n",
              "}});\n",
              "\n",
              "// Listen for the removal of the full notebook cells\n",
              "var notebookContainer = gd.closest('#notebook-container');\n",
              "if (notebookContainer) {{\n",
              "    x.observe(notebookContainer, {childList: true});\n",
              "}}\n",
              "\n",
              "// Listen for the clearing of the current output cell\n",
              "var outputEl = gd.closest('.output');\n",
              "if (outputEl) {{\n",
              "    x.observe(outputEl, {childList: true});\n",
              "}}\n",
              "\n",
              "                        })                };                            </script>        </div>\n",
              "</body>\n",
              "</html>"
            ]
          },
          "metadata": {}
        }
      ]
    },
    {
      "cell_type": "markdown",
      "source": [
        "<details>\n",
        "  <summary>\n",
        "    Если ячейка не загрузилась, должно быть так\n",
        "  </summary>\n",
        "\n",
        "  ![График](https://drive.google.com/uc?export=view&id=1RDB5zt5YDP2RUj0G-Z6a9kweqKehBYed)\n",
        "</details>"
      ],
      "metadata": {
        "id": "fEDhnd0i2ZEG"
      }
    },
    {
      "cell_type": "markdown",
      "source": [
        "### Генерация гор"
      ],
      "metadata": {
        "id": "vIWAcL2Ho21v"
      }
    },
    {
      "cell_type": "markdown",
      "source": [
        "Для генерации гор:\n",
        "- зададим число гор для генерации\n",
        "- укажем тип клетки горы (100)\n",
        "- Для каждой горы:\n",
        "  - генерируем случайную длину реки (до 10 клеток)\n",
        "  - выбираем случайную точку карты\n",
        "  - пробегаемся по всем движениям, для каждой клетки указываем тип поля - гора"
      ],
      "metadata": {
        "id": "B-_N47_JpDvQ"
      }
    },
    {
      "cell_type": "code",
      "source": [
        "hills_map = np.copy(river_map)\n",
        "\n",
        "HILLS_COUNT = 10\n",
        "\n",
        "HILLS_TYPE = 100"
      ],
      "metadata": {
        "id": "sxwxt1Eqo7Zv"
      },
      "execution_count": 30,
      "outputs": []
    },
    {
      "cell_type": "code",
      "source": [
        "# Код здесь\n",
        "for _ in range(HILLS_COUNT):\n",
        "    hill_len = random.randint(1, 10)\n",
        "    random_idx = random.choice(hexagon_idxs)\n",
        "\n",
        "    x, y, z, d = hills_map[random_idx]\n",
        "\n",
        "    len_now = 0\n",
        "    while len_now < hill_len:\n",
        "\n",
        "        set_data([x, y, z], HILLS_TYPE, hills_map)\n",
        "\n",
        "        random_move = random.choice(ALL_MOVEMENTS)\n",
        "\n",
        "        m_x, m_y, m_z = random_move\n",
        "        x, y, z =  m_x + x, m_y + y, m_z + z # двигаем координаты\n",
        "\n",
        "        if get_idx([x, y, z]) not in hexagon_idxs: # вы дошли до края мира, дальше живут драконы\n",
        "            break\n",
        "\n",
        "        len_now += 1"
      ],
      "metadata": {
        "id": "vn00DY8d_3Nn"
      },
      "execution_count": 31,
      "outputs": []
    },
    {
      "cell_type": "markdown",
      "source": [
        "Покрасим клетки нашего поля в зависимости от типа клетки"
      ],
      "metadata": {
        "id": "vOHKyLJGpm-V"
      }
    },
    {
      "cell_type": "code",
      "source": [
        "PLAIN_TYPE = 1\n",
        "\n",
        "types_map = {\n",
        "    PLAIN_TYPE: \"Plain\",\n",
        "    HILLS_TYPE: \"Hill\",\n",
        "    RIVER_TYPE: \"River\",\n",
        "}\n",
        "\n",
        "vfunc = np.vectorize(types_map.get)"
      ],
      "metadata": {
        "id": "q3Ts7v-dp3mn"
      },
      "execution_count": 32,
      "outputs": []
    },
    {
      "cell_type": "code",
      "source": [
        "hex_data = hills_map[hex_idxs]\n",
        "\n",
        "colors = vfunc(hex_data[:, 3])\n",
        "\n",
        "fig = px.scatter_3d(\n",
        "    hex_data,\n",
        "    x=hex_data[:, 0],\n",
        "    y=hex_data[:, 1],\n",
        "    z=hex_data[:, 2],\n",
        "    hover_name=hex_idxs,\n",
        "    color=colors,\n",
        "    color_discrete_sequence=[\"#387C44\", \"#3EA99F\", \"gray\"],\n",
        ")\n",
        "fig.show()"
      ],
      "metadata": {
        "colab": {
          "base_uri": "https://localhost:8080/",
          "height": 542
        },
        "id": "vA3qVR7RQBlq",
        "outputId": "11810587-cf7d-42fd-c365-a6d11be4c664"
      },
      "execution_count": 33,
      "outputs": [
        {
          "output_type": "display_data",
          "data": {
            "text/html": [
              "<html>\n",
              "<head><meta charset=\"utf-8\" /></head>\n",
              "<body>\n",
              "    <div>            <script src=\"https://cdnjs.cloudflare.com/ajax/libs/mathjax/2.7.5/MathJax.js?config=TeX-AMS-MML_SVG\"></script><script type=\"text/javascript\">if (window.MathJax && window.MathJax.Hub && window.MathJax.Hub.Config) {window.MathJax.Hub.Config({SVG: {font: \"STIX-Web\"}});}</script>                <script type=\"text/javascript\">window.PlotlyConfig = {MathJaxConfig: 'local'};</script>\n",
              "        <script charset=\"utf-8\" src=\"https://cdn.plot.ly/plotly-2.24.1.min.js\"></script>                <div id=\"57f239db-0963-430f-b539-9d18389a37a8\" class=\"plotly-graph-div\" style=\"height:525px; width:100%;\"></div>            <script type=\"text/javascript\">                                    window.PLOTLYENV=window.PLOTLYENV || {};                                    if (document.getElementById(\"57f239db-0963-430f-b539-9d18389a37a8\")) {                    Plotly.newPlot(                        \"57f239db-0963-430f-b539-9d18389a37a8\",                        [{\"hovertemplate\":\"\\u003cb\\u003e%{hovertext}\\u003c\\u002fb\\u003e\\u003cbr\\u003e\\u003cbr\\u003ecolor=Plain\\u003cbr\\u003ex=%{x}\\u003cbr\\u003ey=%{y}\\u003cbr\\u003ez=%{z}\\u003cextra\\u003e\\u003c\\u002fextra\\u003e\",\"hovertext\":[860.0,900.0,940.0,980.0,1020.0,1060.0,1140.0,1180.0,1220.0,1260.0,1300.0,1340.0,1420.0,1460.0,1500.0,1540.0,1580.0,1620.0,1660.0,2500.0,2540.0,2580.0,2620.0,2660.0,2700.0,2740.0,2900.0,2940.0,2980.0,3020.0,3100.0,3140.0,3180.0,3220.0,3260.0,3300.0,3340.0,4140.0,4180.0,4220.0,4260.0,4300.0,4340.0,4380.0,4460.0,4500.0,4540.0,4580.0,4620.0,4660.0,4780.0,4820.0,4860.0,4900.0,4940.0,4980.0,5020.0,5780.0,5820.0,5860.0,5900.0,5940.0,5980.0,6020.0,6060.0,6140.0,6180.0,6220.0,6260.0,6300.0,6340.0,6420.0,6460.0,6500.0,6540.0,6580.0,6620.0,6660.0,6700.0,7420.0,7460.0,7500.0,7540.0,7580.0,7620.0,7660.0,7700.0,7740.0,7860.0,7900.0,7940.0,7980.0,8020.0,8060.0,8100.0,8140.0,8180.0,8220.0,8260.0,8300.0,8340.0,9060.0,9100.0,9140.0,9180.0,9220.0,9300.0,9340.0,9380.0,9540.0,9580.0,9620.0,9660.0,9740.0,9780.0,9820.0,9860.0,9900.0,9940.0,10700.0,10860.0,10980.0,11020.0,11060.0,11100.0,11140.0,11180.0,11220.0,11260.0,11300.0,11340.0,11420.0,11460.0,11500.0,11540.0,11580.0,11620.0,11660.0,11700.0,11740.0,12340.0,12380.0,12420.0,12460.0,12620.0,12660.0,12700.0,12740.0,12780.0,12820.0,12860.0,12900.0,12940.0,12980.0,13020.0,13060.0,13100.0,13140.0,13180.0,13220.0,13260.0,13300.0,13340.0,13380.0,13420.0,13980.0,14020.0,14100.0,14140.0,14260.0,14300.0,14340.0,14380.0,14420.0,14460.0,14500.0,14540.0,14580.0,14620.0,14660.0,14700.0,14740.0,14780.0,14820.0,14860.0,14900.0,14940.0,14980.0,15020.0,15060.0,15100.0,15620.0,15660.0,15700.0,15820.0,15860.0,15940.0,15980.0,16020.0,16060.0,16100.0,16140.0,16180.0,16220.0,16260.0,16300.0,16340.0,16380.0,16420.0,16460.0,16500.0,16540.0,16580.0,16620.0,16660.0,16700.0,16740.0,16780.0,17300.0,17340.0,17380.0,17420.0,17700.0,17740.0,17780.0,17820.0,17860.0,17900.0,17940.0,17980.0,18020.0,18060.0,18100.0,18140.0,18180.0,18220.0,18260.0,18300.0,18340.0,18380.0,18420.0,18460.0,18900.0,19020.0,19060.0,19100.0,19140.0,19180.0,19220.0,19260.0,19300.0,19340.0,19380.0,19420.0,19460.0,19500.0,19540.0,19580.0,19620.0,19660.0,19700.0,19740.0,19780.0,19820.0,19860.0,19900.0,19940.0,19980.0,20020.0,20060.0,20100.0,20140.0,20540.0,20580.0,20620.0,20700.0,20740.0,20780.0,20820.0,20900.0,20940.0,20980.0,21020.0,21060.0,21100.0,21140.0,21180.0,21220.0,21260.0,21460.0,21500.0,21540.0,21580.0,21620.0,21660.0,21700.0,21740.0,21780.0,22180.0,22220.0,22260.0,22300.0,22380.0,22420.0,22460.0,22500.0,22580.0,22620.0,22660.0,22700.0,22740.0,22780.0,22820.0,22860.0,22900.0,22940.0,22980.0,23060.0,23100.0,23180.0,23220.0,23260.0,23300.0,23340.0,23380.0,23420.0,23460.0,23500.0,23820.0,23860.0,23900.0,23940.0,23980.0,24020.0,24060.0,24100.0,24140.0,24180.0,24260.0,24300.0,24340.0,24380.0,24420.0,24460.0,24500.0,24540.0,24580.0,24620.0,24660.0,24860.0,24900.0,24940.0,24980.0,25020.0,25060.0,25100.0,25140.0,25180.0,25460.0,25500.0,25540.0,25580.0,25620.0,25660.0,25700.0,25740.0,25780.0,25820.0,25860.0,26020.0,26060.0,26100.0,26140.0,26180.0,26220.0,26260.0,26300.0,26340.0,26380.0,26420.0,26460.0,26580.0,26620.0,26660.0,26700.0,26740.0,26780.0,26820.0,26860.0,27100.0,27140.0,27180.0,27220.0,27260.0,27300.0,27340.0,27380.0,27420.0,27460.0,27500.0,27540.0,27580.0,27620.0,27700.0,27740.0,27780.0,27820.0,27860.0,27900.0,27940.0,27980.0,28020.0,28060.0,28100.0,28140.0,28180.0,28220.0,28260.0,28300.0,28340.0,28380.0,28420.0,28460.0,28500.0,28540.0,28740.0,28780.0,28820.0,28860.0,28900.0,28940.0,28980.0,29020.0,29060.0,29100.0,29140.0,29180.0,29220.0,29260.0,29300.0,29340.0,29380.0,29420.0,29460.0,29500.0,29540.0,29580.0,29620.0,29660.0,29700.0,29740.0,29780.0,29820.0,29860.0,29900.0,29940.0,29980.0,30020.0,30060.0,30100.0,30140.0,30180.0,30220.0,30380.0,30420.0,30460.0,30500.0,30540.0,30580.0,30620.0,30660.0,30700.0,30740.0,30780.0,30820.0,30860.0,30900.0,30940.0,30980.0,31020.0,31180.0,31220.0,31260.0,31300.0,31340.0,31380.0,31420.0,31460.0,31500.0,31540.0,31580.0,31620.0,31660.0,31700.0,31740.0,31780.0,31820.0,31860.0,32020.0,32060.0,32100.0,32140.0,32180.0,32220.0,32260.0,32300.0,32340.0,32380.0,32420.0,32460.0,32500.0,32540.0,32580.0,32620.0,32660.0,32700.0,32740.0,32780.0,32860.0,32900.0,32940.0,32980.0,33020.0,33060.0,33100.0,33140.0,33180.0,33220.0,33260.0,33300.0,33340.0,33380.0,33420.0,33460.0,33500.0,33540.0,33660.0,33700.0,33740.0,33780.0,33820.0,33860.0,33900.0,33940.0,33980.0,34020.0,34060.0,34100.0,34140.0,34180.0,34220.0,34260.0,34300.0,34340.0,34380.0,34660.0,34700.0,34740.0,34780.0,34820.0,34860.0,34900.0,34940.0,34980.0,35020.0,35060.0,35100.0,35220.0,35340.0,35380.0,35420.0,35460.0,35500.0,35540.0,35580.0,35620.0,35660.0,35700.0,35740.0,35780.0,35820.0,35860.0,35900.0,35940.0,35980.0,36020.0,36060.0,36100.0,36140.0,36180.0,36220.0,36260.0,36340.0,36380.0,36420.0,36460.0,36500.0,36540.0,36580.0,36620.0,36660.0,36700.0,36740.0,36860.0,36900.0,37020.0,37060.0,37100.0,37140.0,37180.0,37220.0,37260.0,37300.0,37340.0,37380.0,37420.0,37460.0,37500.0,37580.0,37620.0,37660.0,37700.0,37740.0,37780.0,37820.0,37860.0,37900.0,37940.0,37980.0,38020.0,38060.0,38100.0,38140.0,38180.0,38220.0,38260.0,38300.0,38340.0,38380.0,38420.0,38540.0,38700.0,38740.0,38780.0,38820.0,38860.0,38900.0,38940.0,38980.0,39020.0,39060.0,39100.0,39140.0,39180.0,39300.0,39340.0,39380.0,39420.0,39460.0,39500.0,39540.0,39580.0,39620.0,39660.0,39700.0,39740.0,39780.0,39820.0,39860.0,39900.0,39940.0,39980.0,40020.0,40380.0,40420.0,40460.0,40500.0,40540.0,40580.0,40620.0,40660.0,40700.0,40740.0,40820.0,40860.0,40900.0,40940.0,40980.0,41020.0,41060.0,41100.0,41140.0,41180.0,41220.0,41300.0,41340.0,41380.0,41420.0,41460.0,41500.0,41540.0,41580.0,41620.0,41660.0,41700.0,41780.0,41820.0,42060.0,42100.0,42140.0,42180.0,42220.0,42260.0,42300.0,42340.0,42380.0,42420.0,42460.0,42500.0,42540.0,42580.0,42620.0,42660.0,42700.0,42740.0,42780.0,42820.0,42860.0,42980.0,43020.0,43060.0,43100.0,43140.0,43180.0,43220.0,43260.0,43300.0,43340.0,43380.0,43740.0,43780.0,43820.0,43860.0,43900.0,43940.0,43980.0,44020.0,44060.0,44100.0,44140.0,44180.0,44220.0,44260.0,44300.0,44340.0,44380.0,44420.0,44460.0,44500.0,44540.0,44580.0,44620.0,44740.0,44820.0,44860.0,44900.0,44940.0,44980.0,45020.0,45060.0,45100.0,45420.0,45460.0,45500.0,45540.0,45580.0,45620.0,45660.0,45700.0,45740.0,45780.0,45820.0,45860.0,45900.0,45940.0,45980.0,46020.0,46060.0,46100.0,46140.0,46180.0,46220.0,46260.0,46300.0,46340.0,46420.0,46500.0,46540.0,46580.0,46620.0,46660.0,46700.0,46740.0,47100.0,47140.0,47180.0,47220.0,47260.0,47300.0,47340.0,47380.0,47420.0,47460.0,47500.0,47540.0,47580.0,47620.0,47660.0,47700.0,47740.0,47780.0,47820.0,47860.0,47900.0,47940.0,47980.0,48020.0,48100.0,48180.0,48220.0,48260.0,48300.0,48340.0,48380.0,48780.0,48820.0,48860.0,48940.0,48980.0,49020.0,49060.0,49100.0,49140.0,49180.0,49220.0,49260.0,49300.0,49340.0,49380.0,49420.0,49460.0,49500.0,49540.0,49580.0,49620.0,49660.0,49700.0,49820.0,49860.0,49900.0,49940.0,49980.0,50020.0,50460.0,50500.0,50540.0,50620.0,50660.0,50700.0,50740.0,50780.0,50820.0,50860.0,50900.0,50940.0,50980.0,51020.0,51060.0,51100.0,51140.0,51180.0,51340.0,51380.0,51500.0,51540.0,51580.0,51620.0,51660.0,52140.0,52180.0,52220.0,52260.0,52500.0,52540.0,52580.0,52620.0,52660.0,52700.0,52740.0,52820.0,52860.0,52900.0,52940.0,52980.0,53020.0,53060.0,53100.0,53140.0,53180.0,53220.0,53260.0,53300.0,53820.0,53860.0,53900.0,54060.0,54100.0,54140.0,54180.0,54220.0,54260.0,54300.0,54340.0,54380.0,54420.0,54500.0,54540.0,54580.0,54620.0,54660.0,54700.0,54740.0,54780.0,54820.0,54860.0,54900.0,54940.0,55500.0,55540.0,55580.0,55620.0,55660.0,55820.0,55860.0,55900.0,55940.0,55980.0,56020.0,56060.0,56100.0,56220.0,56340.0,56380.0,56420.0,56460.0,57180.0,57220.0,57260.0,57300.0,57340.0,57500.0,57540.0,57580.0,57620.0,57660.0,57700.0,57740.0,57780.0,57820.0,57980.0,58020.0,58060.0,58180.0,58220.0,58860.0,58900.0,58940.0,58980.0,59020.0,59300.0,59340.0,59380.0,59740.0,59780.0,60540.0,60580.0,60620.0,60700.0,60740.0,60860.0,60900.0,60940.0,60980.0,61020.0,61060.0,61100.0,61140.0,61180.0,61220.0,61300.0,61340.0,62220.0,62260.0,62300.0,62380.0,62420.0,62460.0,62540.0,62580.0,62620.0,62660.0,62700.0,62740.0,62780.0,62860.0,62900.0,62940.0,62980.0,63020.0,63060.0,63100.0,63140.0,63900.0,63940.0,63980.0,64060.0,64100.0,64140.0,64220.0,64260.0,64300.0,64340.0,64380.0,64420.0,64460.0,64500.0,64540.0,64580.0,64620.0,64660.0,64700.0,64740.0,64780.0,65580.0,65620.0,65660.0,65740.0,65780.0,65820.0,65860.0,65900.0,65940.0,65980.0,66020.0,66060.0,66100.0,66260.0,66300.0,66340.0,66380.0,66420.0,67260.0,67300.0,67340.0,67460.0,67500.0,67540.0,67580.0,67620.0,67660.0,67700.0,67740.0,67780.0,67820.0,67860.0,67980.0,68020.0,68060.0],\"legendgroup\":\"Plain\",\"marker\":{\"color\":\"#387C44\",\"symbol\":\"circle\"},\"mode\":\"markers\",\"name\":\"Plain\",\"scene\":\"scene\",\"showlegend\":true,\"x\":[0,0,0,0,0,0,0,0,0,0,0,0,0,0,0,0,0,0,0,1,1,1,1,1,1,1,1,1,1,1,1,1,1,1,1,1,1,2,2,2,2,2,2,2,2,2,2,2,2,2,2,2,2,2,2,2,2,3,3,3,3,3,3,3,3,3,3,3,3,3,3,3,3,3,3,3,3,3,3,4,4,4,4,4,4,4,4,4,4,4,4,4,4,4,4,4,4,4,4,4,4,5,5,5,5,5,5,5,5,5,5,5,5,5,5,5,5,5,5,6,6,6,6,6,6,6,6,6,6,6,6,6,6,6,6,6,6,6,6,6,7,7,7,7,7,7,7,7,7,7,7,7,7,7,7,7,7,7,7,7,7,7,7,7,7,8,8,8,8,8,8,8,8,8,8,8,8,8,8,8,8,8,8,8,8,8,8,8,8,8,8,9,9,9,9,9,9,9,9,9,9,9,9,9,9,9,9,9,9,9,9,9,9,9,9,9,9,9,10,10,10,10,10,10,10,10,10,10,10,10,10,10,10,10,10,10,10,10,10,10,10,10,11,11,11,11,11,11,11,11,11,11,11,11,11,11,11,11,11,11,11,11,11,11,11,11,11,11,11,11,11,11,12,12,12,12,12,12,12,12,12,12,12,12,12,12,12,12,12,12,12,12,12,12,12,12,12,12,13,13,13,13,13,13,13,13,13,13,13,13,13,13,13,13,13,13,13,13,13,13,13,13,13,13,13,13,13,13,14,14,14,14,14,14,14,14,14,14,14,14,14,14,14,14,14,14,14,14,14,14,14,14,14,14,14,14,14,14,15,15,15,15,15,15,15,15,15,15,15,15,15,15,15,15,15,15,15,15,15,15,15,15,15,15,15,15,15,15,15,16,16,16,16,16,16,16,16,16,16,16,16,16,16,16,16,16,16,16,16,16,16,16,16,16,16,16,16,16,16,16,16,16,16,16,16,17,17,17,17,17,17,17,17,17,17,17,17,17,17,17,17,17,17,17,17,17,17,17,17,17,17,17,17,17,17,17,17,17,17,17,17,17,17,18,18,18,18,18,18,18,18,18,18,18,18,18,18,18,18,18,18,18,18,18,18,18,18,18,18,18,18,18,18,18,18,18,18,18,19,19,19,19,19,19,19,19,19,19,19,19,19,19,19,19,19,19,19,19,19,19,19,19,19,19,19,19,19,19,19,19,19,19,19,19,19,19,20,20,20,20,20,20,20,20,20,20,20,20,20,20,20,20,20,20,20,20,20,20,20,20,20,20,20,20,20,20,20,20,21,21,21,21,21,21,21,21,21,21,21,21,21,21,21,21,21,21,21,21,21,21,21,21,21,21,21,21,21,21,21,21,21,21,21,21,21,22,22,22,22,22,22,22,22,22,22,22,22,22,22,22,22,22,22,22,22,22,22,22,22,22,22,22,22,22,22,22,22,22,22,22,22,23,23,23,23,23,23,23,23,23,23,23,23,23,23,23,23,23,23,23,23,23,23,23,23,23,23,23,23,23,23,23,23,24,24,24,24,24,24,24,24,24,24,24,24,24,24,24,24,24,24,24,24,24,24,24,24,24,24,24,24,24,24,24,24,24,24,25,25,25,25,25,25,25,25,25,25,25,25,25,25,25,25,25,25,25,25,25,25,25,25,25,25,25,25,25,25,25,25,26,26,26,26,26,26,26,26,26,26,26,26,26,26,26,26,26,26,26,26,26,26,26,26,26,26,26,26,26,26,26,26,27,27,27,27,27,27,27,27,27,27,27,27,27,27,27,27,27,27,27,27,27,27,27,27,27,27,27,27,27,27,27,27,28,28,28,28,28,28,28,28,28,28,28,28,28,28,28,28,28,28,28,28,28,28,28,28,28,28,28,28,28,28,28,29,29,29,29,29,29,29,29,29,29,29,29,29,29,29,29,29,29,29,29,29,29,29,29,29,29,29,29,29,30,30,30,30,30,30,30,30,30,30,30,30,30,30,30,30,30,30,30,30,30,30,30,30,30,31,31,31,31,31,31,31,31,31,31,31,31,31,31,31,31,31,31,31,31,31,31,31,31,32,32,32,32,32,32,32,32,32,32,32,32,32,32,32,32,32,32,32,32,32,32,32,32,32,33,33,33,33,33,33,33,33,33,33,33,33,33,33,33,33,33,33,34,34,34,34,34,34,34,34,34,34,34,34,34,34,34,34,34,34,34,35,35,35,35,35,35,35,35,35,35,36,36,36,36,36,36,36,36,36,36,36,36,36,36,36,36,36,37,37,37,37,37,37,37,37,37,37,37,37,37,37,37,37,37,37,37,37,37,38,38,38,38,38,38,38,38,38,38,38,38,38,38,38,38,38,38,38,38,38,39,39,39,39,39,39,39,39,39,39,39,39,39,39,39,39,39,39,40,40,40,40,40,40,40,40,40,40,40,40,40,40,40,40,40],\"y\":[20,21,22,23,24,25,27,28,29,30,31,32,34,35,36,37,38,39,40,19,20,21,22,23,24,25,29,30,31,32,34,35,36,37,38,39,40,18,19,20,21,22,23,24,26,27,28,29,30,31,34,35,36,37,38,39,40,17,18,19,20,21,22,23,24,26,27,28,29,30,31,33,34,35,36,37,38,39,40,16,17,18,19,20,21,22,23,24,27,28,29,30,31,32,33,34,35,36,37,38,39,15,16,17,18,19,21,22,23,27,28,29,30,32,33,34,35,36,37,14,18,21,22,23,24,25,26,27,28,29,30,32,33,34,35,36,37,38,39,40,13,14,15,16,20,21,22,23,24,25,26,27,28,29,30,31,32,33,34,35,36,37,38,39,40,12,13,15,16,19,20,21,22,23,24,25,26,27,28,29,30,31,32,33,34,35,36,37,38,39,40,11,12,13,16,17,19,20,21,22,23,24,25,26,27,28,29,30,31,32,33,34,35,36,37,38,39,40,11,12,13,14,21,22,23,24,25,26,27,28,29,30,31,32,33,34,35,36,37,38,39,40,9,12,13,14,15,16,17,18,19,20,21,22,23,24,25,26,27,28,29,30,31,32,33,34,35,36,37,38,39,40,8,9,10,12,13,14,15,17,18,19,20,21,22,23,24,25,26,31,32,33,34,35,36,37,38,39,7,8,9,10,12,13,14,15,17,18,19,20,21,22,23,24,25,26,27,29,30,32,33,34,35,36,37,38,39,40,6,7,8,9,10,11,12,13,14,15,17,18,19,20,21,22,23,24,25,26,27,32,33,34,35,36,37,38,39,40,5,6,7,8,9,10,11,12,13,14,15,19,20,21,22,23,24,25,26,27,28,29,30,33,34,35,36,37,38,39,40,4,5,6,7,8,9,10,11,12,13,14,15,16,17,19,20,21,22,23,24,25,26,27,28,29,30,31,32,33,34,35,36,37,38,39,40,3,4,5,6,7,8,9,10,11,12,13,14,15,16,17,18,19,20,21,22,23,24,25,26,27,28,29,30,31,32,33,34,35,36,37,38,39,40,2,3,4,5,6,7,8,9,10,11,12,13,14,15,16,17,18,22,23,24,25,26,27,28,29,30,31,32,33,34,35,36,37,38,39,1,2,3,4,5,6,7,8,9,10,11,12,13,14,15,16,17,18,19,20,22,23,24,25,26,27,28,29,30,31,32,33,34,35,36,37,38,39,0,1,2,3,4,5,6,7,8,9,10,11,12,13,14,15,16,17,18,25,26,27,28,29,30,31,32,33,34,35,36,39,0,1,2,3,4,5,6,7,8,9,10,11,12,13,14,15,16,17,18,19,20,21,22,23,25,26,27,28,29,30,31,32,33,34,35,38,39,0,1,2,3,4,5,6,7,8,9,10,11,12,14,15,16,17,18,19,20,21,22,23,24,25,26,27,28,29,30,31,32,33,34,35,38,0,1,2,3,4,5,6,7,8,9,10,11,12,15,16,17,18,19,20,21,22,23,24,25,26,27,28,29,30,31,32,33,0,1,2,3,4,5,6,7,8,9,11,12,13,14,15,16,17,18,19,20,21,23,24,25,26,27,28,29,30,31,32,33,35,36,0,1,2,3,4,5,6,7,8,9,10,11,12,13,14,15,16,17,18,19,20,23,24,25,26,27,28,29,30,31,32,33,0,1,2,3,4,5,6,7,8,9,10,11,12,13,14,15,16,17,18,19,20,21,22,25,27,28,29,30,31,32,33,34,0,1,2,3,4,5,6,7,8,9,10,11,12,13,14,15,16,17,18,19,20,21,22,23,25,27,28,29,30,31,32,33,0,1,2,3,4,5,6,7,8,9,10,11,12,13,14,15,16,17,18,19,20,21,22,23,25,27,28,29,30,31,32,0,1,2,4,5,6,7,8,9,10,11,12,13,14,15,16,17,18,19,20,21,22,23,26,27,28,29,30,31,0,1,2,4,5,6,7,8,9,10,11,12,13,14,15,16,17,18,22,23,26,27,28,29,30,0,1,2,3,9,10,11,12,13,14,15,17,18,19,20,21,22,23,24,25,26,27,28,29,0,1,2,6,7,8,9,10,11,12,13,14,15,17,18,19,20,21,22,23,24,25,26,27,28,0,1,2,3,4,8,9,10,11,12,13,14,15,18,21,22,23,24,0,1,2,3,4,8,9,10,11,12,13,14,15,16,20,21,22,25,26,0,1,2,3,4,11,12,13,22,23,0,1,2,4,5,8,9,10,11,12,13,14,15,16,17,19,20,0,1,2,4,5,6,8,9,10,11,12,13,14,16,17,18,19,20,21,22,23,0,1,2,4,5,6,8,9,10,11,12,13,14,15,16,17,18,19,20,21,22,0,1,2,4,5,6,7,8,9,10,11,12,13,17,18,19,20,21,0,1,2,5,6,7,8,9,10,11,12,13,14,15,18,19,20],\"z\":[40,39,38,37,36,35,33,32,31,30,29,28,26,25,24,23,22,21,20,40,39,38,37,36,35,34,30,29,28,27,25,24,23,22,21,20,19,40,39,38,37,36,35,34,32,31,30,29,28,27,24,23,22,21,20,19,18,40,39,38,37,36,35,34,33,31,30,29,28,27,26,24,23,22,21,20,19,18,17,40,39,38,37,36,35,34,33,32,29,28,27,26,25,24,23,22,21,20,19,18,17,40,39,38,37,36,34,33,32,28,27,26,25,23,22,21,20,19,18,40,36,33,32,31,30,29,28,27,26,25,24,22,21,20,19,18,17,16,15,14,40,39,38,37,33,32,31,30,29,28,27,26,25,24,23,22,21,20,19,18,17,16,15,14,13,40,39,37,36,33,32,31,30,29,28,27,26,25,24,23,22,21,20,19,18,17,16,15,14,13,12,40,39,38,35,34,32,31,30,29,28,27,26,25,24,23,22,21,20,19,18,17,16,15,14,13,12,11,39,38,37,36,29,28,27,26,25,24,23,22,21,20,19,18,17,16,15,14,13,12,11,10,40,37,36,35,34,33,32,31,30,29,28,27,26,25,24,23,22,21,20,19,18,17,16,15,14,13,12,11,10,9,40,39,38,36,35,34,33,31,30,29,28,27,26,25,24,23,22,17,16,15,14,13,12,11,10,9,40,39,38,37,35,34,33,32,30,29,28,27,26,25,24,23,22,21,20,18,17,15,14,13,12,11,10,9,8,7,40,39,38,37,36,35,34,33,32,31,29,28,27,26,25,24,23,22,21,20,19,14,13,12,11,10,9,8,7,6,40,39,38,37,36,35,34,33,32,31,30,26,25,24,23,22,21,20,19,18,17,16,15,12,11,10,9,8,7,6,5,40,39,38,37,36,35,34,33,32,31,30,29,28,27,25,24,23,22,21,20,19,18,17,16,15,14,13,12,11,10,9,8,7,6,5,4,40,39,38,37,36,35,34,33,32,31,30,29,28,27,26,25,24,23,22,21,20,19,18,17,16,15,14,13,12,11,10,9,8,7,6,5,4,3,40,39,38,37,36,35,34,33,32,31,30,29,28,27,26,25,24,20,19,18,17,16,15,14,13,12,11,10,9,8,7,6,5,4,3,40,39,38,37,36,35,34,33,32,31,30,29,28,27,26,25,24,23,22,21,19,18,17,16,15,14,13,12,11,10,9,8,7,6,5,4,3,2,40,39,38,37,36,35,34,33,32,31,30,29,28,27,26,25,24,23,22,15,14,13,12,11,10,9,8,7,6,5,4,1,39,38,37,36,35,34,33,32,31,30,29,28,27,26,25,24,23,22,21,20,19,18,17,16,14,13,12,11,10,9,8,7,6,5,4,1,0,38,37,36,35,34,33,32,31,30,29,28,27,26,24,23,22,21,20,19,18,17,16,15,14,13,12,11,10,9,8,7,6,5,4,3,0,37,36,35,34,33,32,31,30,29,28,27,26,25,22,21,20,19,18,17,16,15,14,13,12,11,10,9,8,7,6,5,4,36,35,34,33,32,31,30,29,28,27,25,24,23,22,21,20,19,18,17,16,15,13,12,11,10,9,8,7,6,5,4,3,1,0,35,34,33,32,31,30,29,28,27,26,25,24,23,22,21,20,19,18,17,16,15,12,11,10,9,8,7,6,5,4,3,2,34,33,32,31,30,29,28,27,26,25,24,23,22,21,20,19,18,17,16,15,14,13,12,9,7,6,5,4,3,2,1,0,33,32,31,30,29,28,27,26,25,24,23,22,21,20,19,18,17,16,15,14,13,12,11,10,8,6,5,4,3,2,1,0,32,31,30,29,28,27,26,25,24,23,22,21,20,19,18,17,16,15,14,13,12,11,10,9,7,5,4,3,2,1,0,31,30,29,27,26,25,24,23,22,21,20,19,18,17,16,15,14,13,12,11,10,9,8,5,4,3,2,1,0,30,29,28,26,25,24,23,22,21,20,19,18,17,16,15,14,13,12,8,7,4,3,2,1,0,29,28,27,26,20,19,18,17,16,15,14,12,11,10,9,8,7,6,5,4,3,2,1,0,28,27,26,22,21,20,19,18,17,16,15,14,13,11,10,9,8,7,6,5,4,3,2,1,0,27,26,25,24,23,19,18,17,16,15,14,13,12,9,6,5,4,3,26,25,24,23,22,18,17,16,15,14,13,12,11,10,6,5,4,1,0,25,24,23,22,21,14,13,12,3,2,24,23,22,20,19,16,15,14,13,12,11,10,9,8,7,5,4,23,22,21,19,18,17,15,14,13,12,11,10,9,7,6,5,4,3,2,1,0,22,21,20,18,17,16,14,13,12,11,10,9,8,7,6,5,4,3,2,1,0,21,20,19,17,16,15,14,13,12,11,10,9,8,4,3,2,1,0,20,19,18,15,14,13,12,11,10,9,8,7,6,5,2,1,0],\"type\":\"scatter3d\"},{\"hovertemplate\":\"\\u003cb\\u003e%{hovertext}\\u003c\\u002fb\\u003e\\u003cbr\\u003e\\u003cbr\\u003ecolor=River\\u003cbr\\u003ex=%{x}\\u003cbr\\u003ey=%{y}\\u003cbr\\u003ez=%{z}\\u003cextra\\u003e\\u003c\\u002fextra\\u003e\",\"hovertext\":[1100.0,2780.0,2820.0,2860.0,9700.0,9980.0,10020.0,10740.0,10780.0,10820.0,11380.0,12580.0,14060.0,14180.0,14220.0,15740.0,15780.0,15900.0,17260.0,17460.0,17500.0,17540.0,17580.0,17620.0,17660.0,18940.0,18980.0,20660.0,20860.0,21820.0,22340.0,22540.0,23020.0,23140.0,24220.0,24700.0,24740.0,24780.0,24820.0,25900.0,25940.0,25980.0,26500.0,26540.0,27660.0,31060.0,31100.0,31140.0,31900.0,32820.0,33580.0,34420.0,34460.0,34500.0,34540.0,34580.0,34620.0,35260.0,36300.0,37540.0,39220.0,39260.0,40060.0,40180.0,40780.0,41740.0,43420.0,43460.0,44660.0,44700.0,44780.0,46380.0,46460.0,48060.0,48140.0,48900.0,49740.0,49780.0,50580.0,51220.0,51260.0,51300.0,51420.0,51460.0,52300.0,52340.0,52380.0,52420.0,52460.0,52780.0,53940.0,54020.0,54460.0,55700.0,55740.0,55780.0,56140.0,56180.0,56500.0,56540.0,56580.0,57380.0,57420.0,57460.0,57860.0,57900.0,58100.0,58140.0,59060.0,59100.0,59140.0,59180.0,59220.0,59260.0,59420.0,59460.0,59500.0,59540.0,59660.0,59700.0,59820.0,59860.0,60660.0,60780.0,60820.0,61380.0,61420.0,61460.0,61500.0,62340.0,62500.0,64020.0,64180.0,65700.0,66140.0,66180.0,66220.0,67380.0,67420.0,67900.0,67940.0],\"legendgroup\":\"River\",\"marker\":{\"color\":\"#3EA99F\",\"symbol\":\"circle\"},\"mode\":\"markers\",\"name\":\"River\",\"scene\":\"scene\",\"showlegend\":true,\"x\":[0,1,1,1,5,5,5,6,6,6,6,7,8,8,8,9,9,9,10,10,10,10,10,10,10,11,11,12,12,12,13,13,13,13,14,14,14,14,14,15,15,15,15,15,16,18,18,18,18,19,19,20,20,20,20,20,20,20,21,22,23,23,23,23,24,24,25,25,26,26,26,27,27,28,28,29,29,29,30,30,30,30,30,30,31,31,31,31,31,31,32,32,32,33,33,33,33,33,33,33,33,34,34,34,34,34,34,34,35,35,35,35,35,35,35,35,35,35,35,35,35,35,36,36,36,36,36,36,36,37,37,38,38,39,39,39,39,40,40,40,40],\"y\":[26,26,27,28,31,38,39,15,16,17,31,19,14,17,18,14,15,18,10,15,16,17,18,19,20,10,11,11,16,40,11,16,28,31,16,28,29,30,31,16,17,18,31,32,18,19,20,21,40,21,40,19,20,21,22,23,24,40,24,13,13,14,34,37,10,34,34,35,23,24,26,24,26,24,26,3,24,25,3,19,20,21,24,25,4,5,6,7,8,16,3,5,16,5,6,7,16,17,25,26,27,5,6,7,17,18,23,24,5,6,7,8,9,10,14,15,16,17,20,21,24,25,3,6,7,21,22,23,24,3,7,3,7,3,14,15,16,3,4,16,17],\"z\":[34,33,32,31,24,17,16,39,38,37,23,34,38,35,34,37,36,33,40,35,34,33,32,31,30,39,38,37,32,8,36,31,19,16,30,18,17,16,15,29,28,27,14,13,26,23,22,21,2,20,1,21,20,19,18,17,16,0,15,25,24,23,3,0,26,2,1,0,11,10,8,9,7,8,6,28,7,6,27,11,10,9,6,5,25,24,23,22,21,13,25,23,12,22,21,20,11,10,2,1,0,21,20,19,9,8,3,2,20,19,18,17,16,15,11,10,9,8,5,4,1,0,21,18,17,3,2,1,0,20,16,19,15,18,7,6,5,17,16,4,3],\"type\":\"scatter3d\"},{\"hovertemplate\":\"\\u003cb\\u003e%{hovertext}\\u003c\\u002fb\\u003e\\u003cbr\\u003e\\u003cbr\\u003ecolor=Hill\\u003cbr\\u003ex=%{x}\\u003cbr\\u003ey=%{y}\\u003cbr\\u003ez=%{z}\\u003cextra\\u003e\\u003c\\u002fextra\\u003e\",\"hovertext\":[1380.0,3060.0,4420.0,4700.0,4740.0,6100.0,6380.0,7780.0,7820.0,8380.0,9260.0,9420.0,9460.0,9500.0,10060.0,10900.0,10940.0,12500.0,12540.0,21300.0,21340.0,21380.0,21420.0,35140.0,35180.0,36780.0,36820.0,38460.0,38500.0,40100.0,40140.0,41260.0,42900.0,42940.0,53980.0,56260.0,56300.0,57940.0,59580.0,59620.0,61260.0,62820.0],\"legendgroup\":\"Hill\",\"marker\":{\"color\":\"gray\",\"symbol\":\"circle\"},\"mode\":\"markers\",\"name\":\"Hill\",\"scene\":\"scene\",\"showlegend\":true,\"x\":[0,1,2,2,2,3,3,4,4,4,5,5,5,5,5,6,6,7,7,12,12,12,12,20,20,21,21,22,22,23,23,24,25,25,32,33,33,34,35,35,36,37],\"y\":[33,33,25,32,33,25,32,25,26,40,20,24,25,26,40,19,20,17,18,27,28,29,30,37,38,36,37,36,37,35,36,22,21,22,4,19,20,19,18,19,18,15],\"z\":[27,26,33,26,25,32,25,31,30,16,35,31,30,29,15,35,34,36,35,21,20,19,18,3,2,3,2,2,1,2,1,14,14,13,24,8,7,7,7,6,6,8],\"type\":\"scatter3d\"}],                        {\"template\":{\"data\":{\"histogram2dcontour\":[{\"type\":\"histogram2dcontour\",\"colorbar\":{\"outlinewidth\":0,\"ticks\":\"\"},\"colorscale\":[[0.0,\"#0d0887\"],[0.1111111111111111,\"#46039f\"],[0.2222222222222222,\"#7201a8\"],[0.3333333333333333,\"#9c179e\"],[0.4444444444444444,\"#bd3786\"],[0.5555555555555556,\"#d8576b\"],[0.6666666666666666,\"#ed7953\"],[0.7777777777777778,\"#fb9f3a\"],[0.8888888888888888,\"#fdca26\"],[1.0,\"#f0f921\"]]}],\"choropleth\":[{\"type\":\"choropleth\",\"colorbar\":{\"outlinewidth\":0,\"ticks\":\"\"}}],\"histogram2d\":[{\"type\":\"histogram2d\",\"colorbar\":{\"outlinewidth\":0,\"ticks\":\"\"},\"colorscale\":[[0.0,\"#0d0887\"],[0.1111111111111111,\"#46039f\"],[0.2222222222222222,\"#7201a8\"],[0.3333333333333333,\"#9c179e\"],[0.4444444444444444,\"#bd3786\"],[0.5555555555555556,\"#d8576b\"],[0.6666666666666666,\"#ed7953\"],[0.7777777777777778,\"#fb9f3a\"],[0.8888888888888888,\"#fdca26\"],[1.0,\"#f0f921\"]]}],\"heatmap\":[{\"type\":\"heatmap\",\"colorbar\":{\"outlinewidth\":0,\"ticks\":\"\"},\"colorscale\":[[0.0,\"#0d0887\"],[0.1111111111111111,\"#46039f\"],[0.2222222222222222,\"#7201a8\"],[0.3333333333333333,\"#9c179e\"],[0.4444444444444444,\"#bd3786\"],[0.5555555555555556,\"#d8576b\"],[0.6666666666666666,\"#ed7953\"],[0.7777777777777778,\"#fb9f3a\"],[0.8888888888888888,\"#fdca26\"],[1.0,\"#f0f921\"]]}],\"heatmapgl\":[{\"type\":\"heatmapgl\",\"colorbar\":{\"outlinewidth\":0,\"ticks\":\"\"},\"colorscale\":[[0.0,\"#0d0887\"],[0.1111111111111111,\"#46039f\"],[0.2222222222222222,\"#7201a8\"],[0.3333333333333333,\"#9c179e\"],[0.4444444444444444,\"#bd3786\"],[0.5555555555555556,\"#d8576b\"],[0.6666666666666666,\"#ed7953\"],[0.7777777777777778,\"#fb9f3a\"],[0.8888888888888888,\"#fdca26\"],[1.0,\"#f0f921\"]]}],\"contourcarpet\":[{\"type\":\"contourcarpet\",\"colorbar\":{\"outlinewidth\":0,\"ticks\":\"\"}}],\"contour\":[{\"type\":\"contour\",\"colorbar\":{\"outlinewidth\":0,\"ticks\":\"\"},\"colorscale\":[[0.0,\"#0d0887\"],[0.1111111111111111,\"#46039f\"],[0.2222222222222222,\"#7201a8\"],[0.3333333333333333,\"#9c179e\"],[0.4444444444444444,\"#bd3786\"],[0.5555555555555556,\"#d8576b\"],[0.6666666666666666,\"#ed7953\"],[0.7777777777777778,\"#fb9f3a\"],[0.8888888888888888,\"#fdca26\"],[1.0,\"#f0f921\"]]}],\"surface\":[{\"type\":\"surface\",\"colorbar\":{\"outlinewidth\":0,\"ticks\":\"\"},\"colorscale\":[[0.0,\"#0d0887\"],[0.1111111111111111,\"#46039f\"],[0.2222222222222222,\"#7201a8\"],[0.3333333333333333,\"#9c179e\"],[0.4444444444444444,\"#bd3786\"],[0.5555555555555556,\"#d8576b\"],[0.6666666666666666,\"#ed7953\"],[0.7777777777777778,\"#fb9f3a\"],[0.8888888888888888,\"#fdca26\"],[1.0,\"#f0f921\"]]}],\"mesh3d\":[{\"type\":\"mesh3d\",\"colorbar\":{\"outlinewidth\":0,\"ticks\":\"\"}}],\"scatter\":[{\"fillpattern\":{\"fillmode\":\"overlay\",\"size\":10,\"solidity\":0.2},\"type\":\"scatter\"}],\"parcoords\":[{\"type\":\"parcoords\",\"line\":{\"colorbar\":{\"outlinewidth\":0,\"ticks\":\"\"}}}],\"scatterpolargl\":[{\"type\":\"scatterpolargl\",\"marker\":{\"colorbar\":{\"outlinewidth\":0,\"ticks\":\"\"}}}],\"bar\":[{\"error_x\":{\"color\":\"#2a3f5f\"},\"error_y\":{\"color\":\"#2a3f5f\"},\"marker\":{\"line\":{\"color\":\"#E5ECF6\",\"width\":0.5},\"pattern\":{\"fillmode\":\"overlay\",\"size\":10,\"solidity\":0.2}},\"type\":\"bar\"}],\"scattergeo\":[{\"type\":\"scattergeo\",\"marker\":{\"colorbar\":{\"outlinewidth\":0,\"ticks\":\"\"}}}],\"scatterpolar\":[{\"type\":\"scatterpolar\",\"marker\":{\"colorbar\":{\"outlinewidth\":0,\"ticks\":\"\"}}}],\"histogram\":[{\"marker\":{\"pattern\":{\"fillmode\":\"overlay\",\"size\":10,\"solidity\":0.2}},\"type\":\"histogram\"}],\"scattergl\":[{\"type\":\"scattergl\",\"marker\":{\"colorbar\":{\"outlinewidth\":0,\"ticks\":\"\"}}}],\"scatter3d\":[{\"type\":\"scatter3d\",\"line\":{\"colorbar\":{\"outlinewidth\":0,\"ticks\":\"\"}},\"marker\":{\"colorbar\":{\"outlinewidth\":0,\"ticks\":\"\"}}}],\"scattermapbox\":[{\"type\":\"scattermapbox\",\"marker\":{\"colorbar\":{\"outlinewidth\":0,\"ticks\":\"\"}}}],\"scatterternary\":[{\"type\":\"scatterternary\",\"marker\":{\"colorbar\":{\"outlinewidth\":0,\"ticks\":\"\"}}}],\"scattercarpet\":[{\"type\":\"scattercarpet\",\"marker\":{\"colorbar\":{\"outlinewidth\":0,\"ticks\":\"\"}}}],\"carpet\":[{\"aaxis\":{\"endlinecolor\":\"#2a3f5f\",\"gridcolor\":\"white\",\"linecolor\":\"white\",\"minorgridcolor\":\"white\",\"startlinecolor\":\"#2a3f5f\"},\"baxis\":{\"endlinecolor\":\"#2a3f5f\",\"gridcolor\":\"white\",\"linecolor\":\"white\",\"minorgridcolor\":\"white\",\"startlinecolor\":\"#2a3f5f\"},\"type\":\"carpet\"}],\"table\":[{\"cells\":{\"fill\":{\"color\":\"#EBF0F8\"},\"line\":{\"color\":\"white\"}},\"header\":{\"fill\":{\"color\":\"#C8D4E3\"},\"line\":{\"color\":\"white\"}},\"type\":\"table\"}],\"barpolar\":[{\"marker\":{\"line\":{\"color\":\"#E5ECF6\",\"width\":0.5},\"pattern\":{\"fillmode\":\"overlay\",\"size\":10,\"solidity\":0.2}},\"type\":\"barpolar\"}],\"pie\":[{\"automargin\":true,\"type\":\"pie\"}]},\"layout\":{\"autotypenumbers\":\"strict\",\"colorway\":[\"#636efa\",\"#EF553B\",\"#00cc96\",\"#ab63fa\",\"#FFA15A\",\"#19d3f3\",\"#FF6692\",\"#B6E880\",\"#FF97FF\",\"#FECB52\"],\"font\":{\"color\":\"#2a3f5f\"},\"hovermode\":\"closest\",\"hoverlabel\":{\"align\":\"left\"},\"paper_bgcolor\":\"white\",\"plot_bgcolor\":\"#E5ECF6\",\"polar\":{\"bgcolor\":\"#E5ECF6\",\"angularaxis\":{\"gridcolor\":\"white\",\"linecolor\":\"white\",\"ticks\":\"\"},\"radialaxis\":{\"gridcolor\":\"white\",\"linecolor\":\"white\",\"ticks\":\"\"}},\"ternary\":{\"bgcolor\":\"#E5ECF6\",\"aaxis\":{\"gridcolor\":\"white\",\"linecolor\":\"white\",\"ticks\":\"\"},\"baxis\":{\"gridcolor\":\"white\",\"linecolor\":\"white\",\"ticks\":\"\"},\"caxis\":{\"gridcolor\":\"white\",\"linecolor\":\"white\",\"ticks\":\"\"}},\"coloraxis\":{\"colorbar\":{\"outlinewidth\":0,\"ticks\":\"\"}},\"colorscale\":{\"sequential\":[[0.0,\"#0d0887\"],[0.1111111111111111,\"#46039f\"],[0.2222222222222222,\"#7201a8\"],[0.3333333333333333,\"#9c179e\"],[0.4444444444444444,\"#bd3786\"],[0.5555555555555556,\"#d8576b\"],[0.6666666666666666,\"#ed7953\"],[0.7777777777777778,\"#fb9f3a\"],[0.8888888888888888,\"#fdca26\"],[1.0,\"#f0f921\"]],\"sequentialminus\":[[0.0,\"#0d0887\"],[0.1111111111111111,\"#46039f\"],[0.2222222222222222,\"#7201a8\"],[0.3333333333333333,\"#9c179e\"],[0.4444444444444444,\"#bd3786\"],[0.5555555555555556,\"#d8576b\"],[0.6666666666666666,\"#ed7953\"],[0.7777777777777778,\"#fb9f3a\"],[0.8888888888888888,\"#fdca26\"],[1.0,\"#f0f921\"]],\"diverging\":[[0,\"#8e0152\"],[0.1,\"#c51b7d\"],[0.2,\"#de77ae\"],[0.3,\"#f1b6da\"],[0.4,\"#fde0ef\"],[0.5,\"#f7f7f7\"],[0.6,\"#e6f5d0\"],[0.7,\"#b8e186\"],[0.8,\"#7fbc41\"],[0.9,\"#4d9221\"],[1,\"#276419\"]]},\"xaxis\":{\"gridcolor\":\"white\",\"linecolor\":\"white\",\"ticks\":\"\",\"title\":{\"standoff\":15},\"zerolinecolor\":\"white\",\"automargin\":true,\"zerolinewidth\":2},\"yaxis\":{\"gridcolor\":\"white\",\"linecolor\":\"white\",\"ticks\":\"\",\"title\":{\"standoff\":15},\"zerolinecolor\":\"white\",\"automargin\":true,\"zerolinewidth\":2},\"scene\":{\"xaxis\":{\"backgroundcolor\":\"#E5ECF6\",\"gridcolor\":\"white\",\"linecolor\":\"white\",\"showbackground\":true,\"ticks\":\"\",\"zerolinecolor\":\"white\",\"gridwidth\":2},\"yaxis\":{\"backgroundcolor\":\"#E5ECF6\",\"gridcolor\":\"white\",\"linecolor\":\"white\",\"showbackground\":true,\"ticks\":\"\",\"zerolinecolor\":\"white\",\"gridwidth\":2},\"zaxis\":{\"backgroundcolor\":\"#E5ECF6\",\"gridcolor\":\"white\",\"linecolor\":\"white\",\"showbackground\":true,\"ticks\":\"\",\"zerolinecolor\":\"white\",\"gridwidth\":2}},\"shapedefaults\":{\"line\":{\"color\":\"#2a3f5f\"}},\"annotationdefaults\":{\"arrowcolor\":\"#2a3f5f\",\"arrowhead\":0,\"arrowwidth\":1},\"geo\":{\"bgcolor\":\"white\",\"landcolor\":\"#E5ECF6\",\"subunitcolor\":\"white\",\"showland\":true,\"showlakes\":true,\"lakecolor\":\"white\"},\"title\":{\"x\":0.05},\"mapbox\":{\"style\":\"light\"}}},\"scene\":{\"domain\":{\"x\":[0.0,1.0],\"y\":[0.0,1.0]},\"xaxis\":{\"title\":{\"text\":\"x\"}},\"yaxis\":{\"title\":{\"text\":\"y\"}},\"zaxis\":{\"title\":{\"text\":\"z\"}}},\"legend\":{\"title\":{\"text\":\"color\"},\"tracegroupgap\":0},\"margin\":{\"t\":60}},                        {\"responsive\": true}                    ).then(function(){\n",
              "                            \n",
              "var gd = document.getElementById('57f239db-0963-430f-b539-9d18389a37a8');\n",
              "var x = new MutationObserver(function (mutations, observer) {{\n",
              "        var display = window.getComputedStyle(gd).display;\n",
              "        if (!display || display === 'none') {{\n",
              "            console.log([gd, 'removed!']);\n",
              "            Plotly.purge(gd);\n",
              "            observer.disconnect();\n",
              "        }}\n",
              "}});\n",
              "\n",
              "// Listen for the removal of the full notebook cells\n",
              "var notebookContainer = gd.closest('#notebook-container');\n",
              "if (notebookContainer) {{\n",
              "    x.observe(notebookContainer, {childList: true});\n",
              "}}\n",
              "\n",
              "// Listen for the clearing of the current output cell\n",
              "var outputEl = gd.closest('.output');\n",
              "if (outputEl) {{\n",
              "    x.observe(outputEl, {childList: true});\n",
              "}}\n",
              "\n",
              "                        })                };                            </script>        </div>\n",
              "</body>\n",
              "</html>"
            ]
          },
          "metadata": {}
        }
      ]
    },
    {
      "cell_type": "markdown",
      "source": [
        "<details>\n",
        "  <summary>\n",
        "    Если ячейка не загрузилась, должно быть так\n",
        "  </summary>\n",
        "\n",
        "  ![График](https://drive.google.com/uc?export=view&id=1Ccngh0NwwXGxqm9yUMwLVW82jlvnddgl)\n",
        "</details>"
      ],
      "metadata": {
        "id": "w4h181RD2oip"
      }
    },
    {
      "cell_type": "markdown",
      "source": [
        "## Алгоритмы поиска пути"
      ],
      "metadata": {
        "id": "1Wg8u_Xre6qu"
      }
    },
    {
      "cell_type": "markdown",
      "source": [
        "### Подготовка"
      ],
      "metadata": {
        "id": "C58AGW6wZOkW"
      }
    },
    {
      "cell_type": "markdown",
      "source": [
        "Покрасим клетки поля в тип поля \"путь\", чтобы увидеть какой путь был найден\n",
        "\n",
        "Cоберем функцию для визуализации карты с путем"
      ],
      "metadata": {
        "id": "c1rwXpAOzOkD"
      }
    },
    {
      "cell_type": "code",
      "source": [
        "ROUTE_TYPE = 1000\n",
        "PLAIN_TYPE = 1\n",
        "HILLS_TYPE = 100\n",
        "RIVER_TYPE = 10\n",
        "\n",
        "def visualize_solve(route_path):\n",
        "\n",
        "  route_map = np.copy(hills_map)\n",
        "\n",
        "  for cell_idx in route_path:\n",
        "    route_map[cell_idx][-1] = ROUTE_TYPE\n",
        "\n",
        "  hex_data = route_map[hex_idxs]\n",
        "  vfunc = np.vectorize(types_map.get)\n",
        "\n",
        "  colors = vfunc(hex_data[:, 3])\n",
        "\n",
        "  fig = px.scatter_3d(\n",
        "      hex_data,\n",
        "      x=hex_data[:, 0],\n",
        "      y=hex_data[:, 1],\n",
        "      z=hex_data[:, 2],\n",
        "      hover_name=hex_idxs,\n",
        "      color=colors,\n",
        "      color_discrete_sequence=[\"#387C44\", \"#3EA99F\", \"gray\", \"maroon\"],\n",
        "  )\n",
        "  fig.show()"
      ],
      "metadata": {
        "id": "aUAH2ibLZQmY"
      },
      "execution_count": 34,
      "outputs": []
    },
    {
      "cell_type": "code",
      "source": [
        "visualize_solve([59_460, 57_780, 57_740, 56_060, 54_380])"
      ],
      "metadata": {
        "colab": {
          "base_uri": "https://localhost:8080/",
          "height": 542
        },
        "id": "KhtGT_raZwWG",
        "outputId": "706b0ce4-e8cc-487d-a680-fb63d4a493e4"
      },
      "execution_count": 35,
      "outputs": [
        {
          "output_type": "display_data",
          "data": {
            "text/html": [
              "<html>\n",
              "<head><meta charset=\"utf-8\" /></head>\n",
              "<body>\n",
              "    <div>            <script src=\"https://cdnjs.cloudflare.com/ajax/libs/mathjax/2.7.5/MathJax.js?config=TeX-AMS-MML_SVG\"></script><script type=\"text/javascript\">if (window.MathJax && window.MathJax.Hub && window.MathJax.Hub.Config) {window.MathJax.Hub.Config({SVG: {font: \"STIX-Web\"}});}</script>                <script type=\"text/javascript\">window.PlotlyConfig = {MathJaxConfig: 'local'};</script>\n",
              "        <script charset=\"utf-8\" src=\"https://cdn.plot.ly/plotly-2.24.1.min.js\"></script>                <div id=\"575b4ff6-3fa4-4fbc-bf15-32ee0b6d5633\" class=\"plotly-graph-div\" style=\"height:525px; width:100%;\"></div>            <script type=\"text/javascript\">                                    window.PLOTLYENV=window.PLOTLYENV || {};                                    if (document.getElementById(\"575b4ff6-3fa4-4fbc-bf15-32ee0b6d5633\")) {                    Plotly.newPlot(                        \"575b4ff6-3fa4-4fbc-bf15-32ee0b6d5633\",                        [{\"hovertemplate\":\"\\u003cb\\u003e%{hovertext}\\u003c\\u002fb\\u003e\\u003cbr\\u003e\\u003cbr\\u003ecolor=Plain\\u003cbr\\u003ex=%{x}\\u003cbr\\u003ey=%{y}\\u003cbr\\u003ez=%{z}\\u003cextra\\u003e\\u003c\\u002fextra\\u003e\",\"hovertext\":[860.0,900.0,940.0,980.0,1020.0,1060.0,1140.0,1180.0,1220.0,1260.0,1300.0,1340.0,1420.0,1460.0,1500.0,1540.0,1580.0,1620.0,1660.0,2500.0,2540.0,2580.0,2620.0,2660.0,2700.0,2740.0,2900.0,2940.0,2980.0,3020.0,3100.0,3140.0,3180.0,3220.0,3260.0,3300.0,3340.0,4140.0,4180.0,4220.0,4260.0,4300.0,4340.0,4380.0,4460.0,4500.0,4540.0,4580.0,4620.0,4660.0,4780.0,4820.0,4860.0,4900.0,4940.0,4980.0,5020.0,5780.0,5820.0,5860.0,5900.0,5940.0,5980.0,6020.0,6060.0,6140.0,6180.0,6220.0,6260.0,6300.0,6340.0,6420.0,6460.0,6500.0,6540.0,6580.0,6620.0,6660.0,6700.0,7420.0,7460.0,7500.0,7540.0,7580.0,7620.0,7660.0,7700.0,7740.0,7860.0,7900.0,7940.0,7980.0,8020.0,8060.0,8100.0,8140.0,8180.0,8220.0,8260.0,8300.0,8340.0,9060.0,9100.0,9140.0,9180.0,9220.0,9300.0,9340.0,9380.0,9540.0,9580.0,9620.0,9660.0,9740.0,9780.0,9820.0,9860.0,9900.0,9940.0,10700.0,10860.0,10980.0,11020.0,11060.0,11100.0,11140.0,11180.0,11220.0,11260.0,11300.0,11340.0,11420.0,11460.0,11500.0,11540.0,11580.0,11620.0,11660.0,11700.0,11740.0,12340.0,12380.0,12420.0,12460.0,12620.0,12660.0,12700.0,12740.0,12780.0,12820.0,12860.0,12900.0,12940.0,12980.0,13020.0,13060.0,13100.0,13140.0,13180.0,13220.0,13260.0,13300.0,13340.0,13380.0,13420.0,13980.0,14020.0,14100.0,14140.0,14260.0,14300.0,14340.0,14380.0,14420.0,14460.0,14500.0,14540.0,14580.0,14620.0,14660.0,14700.0,14740.0,14780.0,14820.0,14860.0,14900.0,14940.0,14980.0,15020.0,15060.0,15100.0,15620.0,15660.0,15700.0,15820.0,15860.0,15940.0,15980.0,16020.0,16060.0,16100.0,16140.0,16180.0,16220.0,16260.0,16300.0,16340.0,16380.0,16420.0,16460.0,16500.0,16540.0,16580.0,16620.0,16660.0,16700.0,16740.0,16780.0,17300.0,17340.0,17380.0,17420.0,17700.0,17740.0,17780.0,17820.0,17860.0,17900.0,17940.0,17980.0,18020.0,18060.0,18100.0,18140.0,18180.0,18220.0,18260.0,18300.0,18340.0,18380.0,18420.0,18460.0,18900.0,19020.0,19060.0,19100.0,19140.0,19180.0,19220.0,19260.0,19300.0,19340.0,19380.0,19420.0,19460.0,19500.0,19540.0,19580.0,19620.0,19660.0,19700.0,19740.0,19780.0,19820.0,19860.0,19900.0,19940.0,19980.0,20020.0,20060.0,20100.0,20140.0,20540.0,20580.0,20620.0,20700.0,20740.0,20780.0,20820.0,20900.0,20940.0,20980.0,21020.0,21060.0,21100.0,21140.0,21180.0,21220.0,21260.0,21460.0,21500.0,21540.0,21580.0,21620.0,21660.0,21700.0,21740.0,21780.0,22180.0,22220.0,22260.0,22300.0,22380.0,22420.0,22460.0,22500.0,22580.0,22620.0,22660.0,22700.0,22740.0,22780.0,22820.0,22860.0,22900.0,22940.0,22980.0,23060.0,23100.0,23180.0,23220.0,23260.0,23300.0,23340.0,23380.0,23420.0,23460.0,23500.0,23820.0,23860.0,23900.0,23940.0,23980.0,24020.0,24060.0,24100.0,24140.0,24180.0,24260.0,24300.0,24340.0,24380.0,24420.0,24460.0,24500.0,24540.0,24580.0,24620.0,24660.0,24860.0,24900.0,24940.0,24980.0,25020.0,25060.0,25100.0,25140.0,25180.0,25460.0,25500.0,25540.0,25580.0,25620.0,25660.0,25700.0,25740.0,25780.0,25820.0,25860.0,26020.0,26060.0,26100.0,26140.0,26180.0,26220.0,26260.0,26300.0,26340.0,26380.0,26420.0,26460.0,26580.0,26620.0,26660.0,26700.0,26740.0,26780.0,26820.0,26860.0,27100.0,27140.0,27180.0,27220.0,27260.0,27300.0,27340.0,27380.0,27420.0,27460.0,27500.0,27540.0,27580.0,27620.0,27700.0,27740.0,27780.0,27820.0,27860.0,27900.0,27940.0,27980.0,28020.0,28060.0,28100.0,28140.0,28180.0,28220.0,28260.0,28300.0,28340.0,28380.0,28420.0,28460.0,28500.0,28540.0,28740.0,28780.0,28820.0,28860.0,28900.0,28940.0,28980.0,29020.0,29060.0,29100.0,29140.0,29180.0,29220.0,29260.0,29300.0,29340.0,29380.0,29420.0,29460.0,29500.0,29540.0,29580.0,29620.0,29660.0,29700.0,29740.0,29780.0,29820.0,29860.0,29900.0,29940.0,29980.0,30020.0,30060.0,30100.0,30140.0,30180.0,30220.0,30380.0,30420.0,30460.0,30500.0,30540.0,30580.0,30620.0,30660.0,30700.0,30740.0,30780.0,30820.0,30860.0,30900.0,30940.0,30980.0,31020.0,31180.0,31220.0,31260.0,31300.0,31340.0,31380.0,31420.0,31460.0,31500.0,31540.0,31580.0,31620.0,31660.0,31700.0,31740.0,31780.0,31820.0,31860.0,32020.0,32060.0,32100.0,32140.0,32180.0,32220.0,32260.0,32300.0,32340.0,32380.0,32420.0,32460.0,32500.0,32540.0,32580.0,32620.0,32660.0,32700.0,32740.0,32780.0,32860.0,32900.0,32940.0,32980.0,33020.0,33060.0,33100.0,33140.0,33180.0,33220.0,33260.0,33300.0,33340.0,33380.0,33420.0,33460.0,33500.0,33540.0,33660.0,33700.0,33740.0,33780.0,33820.0,33860.0,33900.0,33940.0,33980.0,34020.0,34060.0,34100.0,34140.0,34180.0,34220.0,34260.0,34300.0,34340.0,34380.0,34660.0,34700.0,34740.0,34780.0,34820.0,34860.0,34900.0,34940.0,34980.0,35020.0,35060.0,35100.0,35220.0,35340.0,35380.0,35420.0,35460.0,35500.0,35540.0,35580.0,35620.0,35660.0,35700.0,35740.0,35780.0,35820.0,35860.0,35900.0,35940.0,35980.0,36020.0,36060.0,36100.0,36140.0,36180.0,36220.0,36260.0,36340.0,36380.0,36420.0,36460.0,36500.0,36540.0,36580.0,36620.0,36660.0,36700.0,36740.0,36860.0,36900.0,37020.0,37060.0,37100.0,37140.0,37180.0,37220.0,37260.0,37300.0,37340.0,37380.0,37420.0,37460.0,37500.0,37580.0,37620.0,37660.0,37700.0,37740.0,37780.0,37820.0,37860.0,37900.0,37940.0,37980.0,38020.0,38060.0,38100.0,38140.0,38180.0,38220.0,38260.0,38300.0,38340.0,38380.0,38420.0,38540.0,38700.0,38740.0,38780.0,38820.0,38860.0,38900.0,38940.0,38980.0,39020.0,39060.0,39100.0,39140.0,39180.0,39300.0,39340.0,39380.0,39420.0,39460.0,39500.0,39540.0,39580.0,39620.0,39660.0,39700.0,39740.0,39780.0,39820.0,39860.0,39900.0,39940.0,39980.0,40020.0,40380.0,40420.0,40460.0,40500.0,40540.0,40580.0,40620.0,40660.0,40700.0,40740.0,40820.0,40860.0,40900.0,40940.0,40980.0,41020.0,41060.0,41100.0,41140.0,41180.0,41220.0,41300.0,41340.0,41380.0,41420.0,41460.0,41500.0,41540.0,41580.0,41620.0,41660.0,41700.0,41780.0,41820.0,42060.0,42100.0,42140.0,42180.0,42220.0,42260.0,42300.0,42340.0,42380.0,42420.0,42460.0,42500.0,42540.0,42580.0,42620.0,42660.0,42700.0,42740.0,42780.0,42820.0,42860.0,42980.0,43020.0,43060.0,43100.0,43140.0,43180.0,43220.0,43260.0,43300.0,43340.0,43380.0,43740.0,43780.0,43820.0,43860.0,43900.0,43940.0,43980.0,44020.0,44060.0,44100.0,44140.0,44180.0,44220.0,44260.0,44300.0,44340.0,44380.0,44420.0,44460.0,44500.0,44540.0,44580.0,44620.0,44740.0,44820.0,44860.0,44900.0,44940.0,44980.0,45020.0,45060.0,45100.0,45420.0,45460.0,45500.0,45540.0,45580.0,45620.0,45660.0,45700.0,45740.0,45780.0,45820.0,45860.0,45900.0,45940.0,45980.0,46020.0,46060.0,46100.0,46140.0,46180.0,46220.0,46260.0,46300.0,46340.0,46420.0,46500.0,46540.0,46580.0,46620.0,46660.0,46700.0,46740.0,47100.0,47140.0,47180.0,47220.0,47260.0,47300.0,47340.0,47380.0,47420.0,47460.0,47500.0,47540.0,47580.0,47620.0,47660.0,47700.0,47740.0,47780.0,47820.0,47860.0,47900.0,47940.0,47980.0,48020.0,48100.0,48180.0,48220.0,48260.0,48300.0,48340.0,48380.0,48780.0,48820.0,48860.0,48940.0,48980.0,49020.0,49060.0,49100.0,49140.0,49180.0,49220.0,49260.0,49300.0,49340.0,49380.0,49420.0,49460.0,49500.0,49540.0,49580.0,49620.0,49660.0,49700.0,49820.0,49860.0,49900.0,49940.0,49980.0,50020.0,50460.0,50500.0,50540.0,50620.0,50660.0,50700.0,50740.0,50780.0,50820.0,50860.0,50900.0,50940.0,50980.0,51020.0,51060.0,51100.0,51140.0,51180.0,51340.0,51380.0,51500.0,51540.0,51580.0,51620.0,51660.0,52140.0,52180.0,52220.0,52260.0,52500.0,52540.0,52580.0,52620.0,52660.0,52700.0,52740.0,52820.0,52860.0,52900.0,52940.0,52980.0,53020.0,53060.0,53100.0,53140.0,53180.0,53220.0,53260.0,53300.0,53820.0,53860.0,53900.0,54060.0,54100.0,54140.0,54180.0,54220.0,54260.0,54300.0,54340.0,54420.0,54500.0,54540.0,54580.0,54620.0,54660.0,54700.0,54740.0,54780.0,54820.0,54860.0,54900.0,54940.0,55500.0,55540.0,55580.0,55620.0,55660.0,55820.0,55860.0,55900.0,55940.0,55980.0,56020.0,56100.0,56220.0,56340.0,56380.0,56420.0,56460.0,57180.0,57220.0,57260.0,57300.0,57340.0,57500.0,57540.0,57580.0,57620.0,57660.0,57700.0,57820.0,57980.0,58020.0,58060.0,58180.0,58220.0,58860.0,58900.0,58940.0,58980.0,59020.0,59300.0,59340.0,59380.0,59740.0,59780.0,60540.0,60580.0,60620.0,60700.0,60740.0,60860.0,60900.0,60940.0,60980.0,61020.0,61060.0,61100.0,61140.0,61180.0,61220.0,61300.0,61340.0,62220.0,62260.0,62300.0,62380.0,62420.0,62460.0,62540.0,62580.0,62620.0,62660.0,62700.0,62740.0,62780.0,62860.0,62900.0,62940.0,62980.0,63020.0,63060.0,63100.0,63140.0,63900.0,63940.0,63980.0,64060.0,64100.0,64140.0,64220.0,64260.0,64300.0,64340.0,64380.0,64420.0,64460.0,64500.0,64540.0,64580.0,64620.0,64660.0,64700.0,64740.0,64780.0,65580.0,65620.0,65660.0,65740.0,65780.0,65820.0,65860.0,65900.0,65940.0,65980.0,66020.0,66060.0,66100.0,66260.0,66300.0,66340.0,66380.0,66420.0,67260.0,67300.0,67340.0,67460.0,67500.0,67540.0,67580.0,67620.0,67660.0,67700.0,67740.0,67780.0,67820.0,67860.0,67980.0,68020.0,68060.0],\"legendgroup\":\"Plain\",\"marker\":{\"color\":\"#387C44\",\"symbol\":\"circle\"},\"mode\":\"markers\",\"name\":\"Plain\",\"scene\":\"scene\",\"showlegend\":true,\"x\":[0,0,0,0,0,0,0,0,0,0,0,0,0,0,0,0,0,0,0,1,1,1,1,1,1,1,1,1,1,1,1,1,1,1,1,1,1,2,2,2,2,2,2,2,2,2,2,2,2,2,2,2,2,2,2,2,2,3,3,3,3,3,3,3,3,3,3,3,3,3,3,3,3,3,3,3,3,3,3,4,4,4,4,4,4,4,4,4,4,4,4,4,4,4,4,4,4,4,4,4,4,5,5,5,5,5,5,5,5,5,5,5,5,5,5,5,5,5,5,6,6,6,6,6,6,6,6,6,6,6,6,6,6,6,6,6,6,6,6,6,7,7,7,7,7,7,7,7,7,7,7,7,7,7,7,7,7,7,7,7,7,7,7,7,7,8,8,8,8,8,8,8,8,8,8,8,8,8,8,8,8,8,8,8,8,8,8,8,8,8,8,9,9,9,9,9,9,9,9,9,9,9,9,9,9,9,9,9,9,9,9,9,9,9,9,9,9,9,10,10,10,10,10,10,10,10,10,10,10,10,10,10,10,10,10,10,10,10,10,10,10,10,11,11,11,11,11,11,11,11,11,11,11,11,11,11,11,11,11,11,11,11,11,11,11,11,11,11,11,11,11,11,12,12,12,12,12,12,12,12,12,12,12,12,12,12,12,12,12,12,12,12,12,12,12,12,12,12,13,13,13,13,13,13,13,13,13,13,13,13,13,13,13,13,13,13,13,13,13,13,13,13,13,13,13,13,13,13,14,14,14,14,14,14,14,14,14,14,14,14,14,14,14,14,14,14,14,14,14,14,14,14,14,14,14,14,14,14,15,15,15,15,15,15,15,15,15,15,15,15,15,15,15,15,15,15,15,15,15,15,15,15,15,15,15,15,15,15,15,16,16,16,16,16,16,16,16,16,16,16,16,16,16,16,16,16,16,16,16,16,16,16,16,16,16,16,16,16,16,16,16,16,16,16,16,17,17,17,17,17,17,17,17,17,17,17,17,17,17,17,17,17,17,17,17,17,17,17,17,17,17,17,17,17,17,17,17,17,17,17,17,17,17,18,18,18,18,18,18,18,18,18,18,18,18,18,18,18,18,18,18,18,18,18,18,18,18,18,18,18,18,18,18,18,18,18,18,18,19,19,19,19,19,19,19,19,19,19,19,19,19,19,19,19,19,19,19,19,19,19,19,19,19,19,19,19,19,19,19,19,19,19,19,19,19,19,20,20,20,20,20,20,20,20,20,20,20,20,20,20,20,20,20,20,20,20,20,20,20,20,20,20,20,20,20,20,20,20,21,21,21,21,21,21,21,21,21,21,21,21,21,21,21,21,21,21,21,21,21,21,21,21,21,21,21,21,21,21,21,21,21,21,21,21,21,22,22,22,22,22,22,22,22,22,22,22,22,22,22,22,22,22,22,22,22,22,22,22,22,22,22,22,22,22,22,22,22,22,22,22,22,23,23,23,23,23,23,23,23,23,23,23,23,23,23,23,23,23,23,23,23,23,23,23,23,23,23,23,23,23,23,23,23,24,24,24,24,24,24,24,24,24,24,24,24,24,24,24,24,24,24,24,24,24,24,24,24,24,24,24,24,24,24,24,24,24,24,25,25,25,25,25,25,25,25,25,25,25,25,25,25,25,25,25,25,25,25,25,25,25,25,25,25,25,25,25,25,25,25,26,26,26,26,26,26,26,26,26,26,26,26,26,26,26,26,26,26,26,26,26,26,26,26,26,26,26,26,26,26,26,26,27,27,27,27,27,27,27,27,27,27,27,27,27,27,27,27,27,27,27,27,27,27,27,27,27,27,27,27,27,27,27,27,28,28,28,28,28,28,28,28,28,28,28,28,28,28,28,28,28,28,28,28,28,28,28,28,28,28,28,28,28,28,28,29,29,29,29,29,29,29,29,29,29,29,29,29,29,29,29,29,29,29,29,29,29,29,29,29,29,29,29,29,30,30,30,30,30,30,30,30,30,30,30,30,30,30,30,30,30,30,30,30,30,30,30,30,30,31,31,31,31,31,31,31,31,31,31,31,31,31,31,31,31,31,31,31,31,31,31,31,31,32,32,32,32,32,32,32,32,32,32,32,32,32,32,32,32,32,32,32,32,32,32,32,32,33,33,33,33,33,33,33,33,33,33,33,33,33,33,33,33,33,34,34,34,34,34,34,34,34,34,34,34,34,34,34,34,34,34,35,35,35,35,35,35,35,35,35,35,36,36,36,36,36,36,36,36,36,36,36,36,36,36,36,36,36,37,37,37,37,37,37,37,37,37,37,37,37,37,37,37,37,37,37,37,37,37,38,38,38,38,38,38,38,38,38,38,38,38,38,38,38,38,38,38,38,38,38,39,39,39,39,39,39,39,39,39,39,39,39,39,39,39,39,39,39,40,40,40,40,40,40,40,40,40,40,40,40,40,40,40,40,40],\"y\":[20,21,22,23,24,25,27,28,29,30,31,32,34,35,36,37,38,39,40,19,20,21,22,23,24,25,29,30,31,32,34,35,36,37,38,39,40,18,19,20,21,22,23,24,26,27,28,29,30,31,34,35,36,37,38,39,40,17,18,19,20,21,22,23,24,26,27,28,29,30,31,33,34,35,36,37,38,39,40,16,17,18,19,20,21,22,23,24,27,28,29,30,31,32,33,34,35,36,37,38,39,15,16,17,18,19,21,22,23,27,28,29,30,32,33,34,35,36,37,14,18,21,22,23,24,25,26,27,28,29,30,32,33,34,35,36,37,38,39,40,13,14,15,16,20,21,22,23,24,25,26,27,28,29,30,31,32,33,34,35,36,37,38,39,40,12,13,15,16,19,20,21,22,23,24,25,26,27,28,29,30,31,32,33,34,35,36,37,38,39,40,11,12,13,16,17,19,20,21,22,23,24,25,26,27,28,29,30,31,32,33,34,35,36,37,38,39,40,11,12,13,14,21,22,23,24,25,26,27,28,29,30,31,32,33,34,35,36,37,38,39,40,9,12,13,14,15,16,17,18,19,20,21,22,23,24,25,26,27,28,29,30,31,32,33,34,35,36,37,38,39,40,8,9,10,12,13,14,15,17,18,19,20,21,22,23,24,25,26,31,32,33,34,35,36,37,38,39,7,8,9,10,12,13,14,15,17,18,19,20,21,22,23,24,25,26,27,29,30,32,33,34,35,36,37,38,39,40,6,7,8,9,10,11,12,13,14,15,17,18,19,20,21,22,23,24,25,26,27,32,33,34,35,36,37,38,39,40,5,6,7,8,9,10,11,12,13,14,15,19,20,21,22,23,24,25,26,27,28,29,30,33,34,35,36,37,38,39,40,4,5,6,7,8,9,10,11,12,13,14,15,16,17,19,20,21,22,23,24,25,26,27,28,29,30,31,32,33,34,35,36,37,38,39,40,3,4,5,6,7,8,9,10,11,12,13,14,15,16,17,18,19,20,21,22,23,24,25,26,27,28,29,30,31,32,33,34,35,36,37,38,39,40,2,3,4,5,6,7,8,9,10,11,12,13,14,15,16,17,18,22,23,24,25,26,27,28,29,30,31,32,33,34,35,36,37,38,39,1,2,3,4,5,6,7,8,9,10,11,12,13,14,15,16,17,18,19,20,22,23,24,25,26,27,28,29,30,31,32,33,34,35,36,37,38,39,0,1,2,3,4,5,6,7,8,9,10,11,12,13,14,15,16,17,18,25,26,27,28,29,30,31,32,33,34,35,36,39,0,1,2,3,4,5,6,7,8,9,10,11,12,13,14,15,16,17,18,19,20,21,22,23,25,26,27,28,29,30,31,32,33,34,35,38,39,0,1,2,3,4,5,6,7,8,9,10,11,12,14,15,16,17,18,19,20,21,22,23,24,25,26,27,28,29,30,31,32,33,34,35,38,0,1,2,3,4,5,6,7,8,9,10,11,12,15,16,17,18,19,20,21,22,23,24,25,26,27,28,29,30,31,32,33,0,1,2,3,4,5,6,7,8,9,11,12,13,14,15,16,17,18,19,20,21,23,24,25,26,27,28,29,30,31,32,33,35,36,0,1,2,3,4,5,6,7,8,9,10,11,12,13,14,15,16,17,18,19,20,23,24,25,26,27,28,29,30,31,32,33,0,1,2,3,4,5,6,7,8,9,10,11,12,13,14,15,16,17,18,19,20,21,22,25,27,28,29,30,31,32,33,34,0,1,2,3,4,5,6,7,8,9,10,11,12,13,14,15,16,17,18,19,20,21,22,23,25,27,28,29,30,31,32,33,0,1,2,3,4,5,6,7,8,9,10,11,12,13,14,15,16,17,18,19,20,21,22,23,25,27,28,29,30,31,32,0,1,2,4,5,6,7,8,9,10,11,12,13,14,15,16,17,18,19,20,21,22,23,26,27,28,29,30,31,0,1,2,4,5,6,7,8,9,10,11,12,13,14,15,16,17,18,22,23,26,27,28,29,30,0,1,2,3,9,10,11,12,13,14,15,17,18,19,20,21,22,23,24,25,26,27,28,29,0,1,2,6,7,8,9,10,11,12,13,15,17,18,19,20,21,22,23,24,25,26,27,28,0,1,2,3,4,8,9,10,11,12,13,15,18,21,22,23,24,0,1,2,3,4,8,9,10,11,12,13,16,20,21,22,25,26,0,1,2,3,4,11,12,13,22,23,0,1,2,4,5,8,9,10,11,12,13,14,15,16,17,19,20,0,1,2,4,5,6,8,9,10,11,12,13,14,16,17,18,19,20,21,22,23,0,1,2,4,5,6,8,9,10,11,12,13,14,15,16,17,18,19,20,21,22,0,1,2,4,5,6,7,8,9,10,11,12,13,17,18,19,20,21,0,1,2,5,6,7,8,9,10,11,12,13,14,15,18,19,20],\"z\":[40,39,38,37,36,35,33,32,31,30,29,28,26,25,24,23,22,21,20,40,39,38,37,36,35,34,30,29,28,27,25,24,23,22,21,20,19,40,39,38,37,36,35,34,32,31,30,29,28,27,24,23,22,21,20,19,18,40,39,38,37,36,35,34,33,31,30,29,28,27,26,24,23,22,21,20,19,18,17,40,39,38,37,36,35,34,33,32,29,28,27,26,25,24,23,22,21,20,19,18,17,40,39,38,37,36,34,33,32,28,27,26,25,23,22,21,20,19,18,40,36,33,32,31,30,29,28,27,26,25,24,22,21,20,19,18,17,16,15,14,40,39,38,37,33,32,31,30,29,28,27,26,25,24,23,22,21,20,19,18,17,16,15,14,13,40,39,37,36,33,32,31,30,29,28,27,26,25,24,23,22,21,20,19,18,17,16,15,14,13,12,40,39,38,35,34,32,31,30,29,28,27,26,25,24,23,22,21,20,19,18,17,16,15,14,13,12,11,39,38,37,36,29,28,27,26,25,24,23,22,21,20,19,18,17,16,15,14,13,12,11,10,40,37,36,35,34,33,32,31,30,29,28,27,26,25,24,23,22,21,20,19,18,17,16,15,14,13,12,11,10,9,40,39,38,36,35,34,33,31,30,29,28,27,26,25,24,23,22,17,16,15,14,13,12,11,10,9,40,39,38,37,35,34,33,32,30,29,28,27,26,25,24,23,22,21,20,18,17,15,14,13,12,11,10,9,8,7,40,39,38,37,36,35,34,33,32,31,29,28,27,26,25,24,23,22,21,20,19,14,13,12,11,10,9,8,7,6,40,39,38,37,36,35,34,33,32,31,30,26,25,24,23,22,21,20,19,18,17,16,15,12,11,10,9,8,7,6,5,40,39,38,37,36,35,34,33,32,31,30,29,28,27,25,24,23,22,21,20,19,18,17,16,15,14,13,12,11,10,9,8,7,6,5,4,40,39,38,37,36,35,34,33,32,31,30,29,28,27,26,25,24,23,22,21,20,19,18,17,16,15,14,13,12,11,10,9,8,7,6,5,4,3,40,39,38,37,36,35,34,33,32,31,30,29,28,27,26,25,24,20,19,18,17,16,15,14,13,12,11,10,9,8,7,6,5,4,3,40,39,38,37,36,35,34,33,32,31,30,29,28,27,26,25,24,23,22,21,19,18,17,16,15,14,13,12,11,10,9,8,7,6,5,4,3,2,40,39,38,37,36,35,34,33,32,31,30,29,28,27,26,25,24,23,22,15,14,13,12,11,10,9,8,7,6,5,4,1,39,38,37,36,35,34,33,32,31,30,29,28,27,26,25,24,23,22,21,20,19,18,17,16,14,13,12,11,10,9,8,7,6,5,4,1,0,38,37,36,35,34,33,32,31,30,29,28,27,26,24,23,22,21,20,19,18,17,16,15,14,13,12,11,10,9,8,7,6,5,4,3,0,37,36,35,34,33,32,31,30,29,28,27,26,25,22,21,20,19,18,17,16,15,14,13,12,11,10,9,8,7,6,5,4,36,35,34,33,32,31,30,29,28,27,25,24,23,22,21,20,19,18,17,16,15,13,12,11,10,9,8,7,6,5,4,3,1,0,35,34,33,32,31,30,29,28,27,26,25,24,23,22,21,20,19,18,17,16,15,12,11,10,9,8,7,6,5,4,3,2,34,33,32,31,30,29,28,27,26,25,24,23,22,21,20,19,18,17,16,15,14,13,12,9,7,6,5,4,3,2,1,0,33,32,31,30,29,28,27,26,25,24,23,22,21,20,19,18,17,16,15,14,13,12,11,10,8,6,5,4,3,2,1,0,32,31,30,29,28,27,26,25,24,23,22,21,20,19,18,17,16,15,14,13,12,11,10,9,7,5,4,3,2,1,0,31,30,29,27,26,25,24,23,22,21,20,19,18,17,16,15,14,13,12,11,10,9,8,5,4,3,2,1,0,30,29,28,26,25,24,23,22,21,20,19,18,17,16,15,14,13,12,8,7,4,3,2,1,0,29,28,27,26,20,19,18,17,16,15,14,12,11,10,9,8,7,6,5,4,3,2,1,0,28,27,26,22,21,20,19,18,17,16,15,13,11,10,9,8,7,6,5,4,3,2,1,0,27,26,25,24,23,19,18,17,16,15,14,12,9,6,5,4,3,26,25,24,23,22,18,17,16,15,14,13,10,6,5,4,1,0,25,24,23,22,21,14,13,12,3,2,24,23,22,20,19,16,15,14,13,12,11,10,9,8,7,5,4,23,22,21,19,18,17,15,14,13,12,11,10,9,7,6,5,4,3,2,1,0,22,21,20,18,17,16,14,13,12,11,10,9,8,7,6,5,4,3,2,1,0,21,20,19,17,16,15,14,13,12,11,10,9,8,4,3,2,1,0,20,19,18,15,14,13,12,11,10,9,8,7,6,5,2,1,0],\"type\":\"scatter3d\"},{\"hovertemplate\":\"\\u003cb\\u003e%{hovertext}\\u003c\\u002fb\\u003e\\u003cbr\\u003e\\u003cbr\\u003ecolor=River\\u003cbr\\u003ex=%{x}\\u003cbr\\u003ey=%{y}\\u003cbr\\u003ez=%{z}\\u003cextra\\u003e\\u003c\\u002fextra\\u003e\",\"hovertext\":[1100.0,2780.0,2820.0,2860.0,9700.0,9980.0,10020.0,10740.0,10780.0,10820.0,11380.0,12580.0,14060.0,14180.0,14220.0,15740.0,15780.0,15900.0,17260.0,17460.0,17500.0,17540.0,17580.0,17620.0,17660.0,18940.0,18980.0,20660.0,20860.0,21820.0,22340.0,22540.0,23020.0,23140.0,24220.0,24700.0,24740.0,24780.0,24820.0,25900.0,25940.0,25980.0,26500.0,26540.0,27660.0,31060.0,31100.0,31140.0,31900.0,32820.0,33580.0,34420.0,34460.0,34500.0,34540.0,34580.0,34620.0,35260.0,36300.0,37540.0,39220.0,39260.0,40060.0,40180.0,40780.0,41740.0,43420.0,43460.0,44660.0,44700.0,44780.0,46380.0,46460.0,48060.0,48140.0,48900.0,49740.0,49780.0,50580.0,51220.0,51260.0,51300.0,51420.0,51460.0,52300.0,52340.0,52380.0,52420.0,52460.0,52780.0,53940.0,54020.0,54460.0,55700.0,55740.0,55780.0,56140.0,56180.0,56500.0,56540.0,56580.0,57380.0,57420.0,57460.0,57860.0,57900.0,58100.0,58140.0,59060.0,59100.0,59140.0,59180.0,59220.0,59260.0,59420.0,59500.0,59540.0,59660.0,59700.0,59820.0,59860.0,60660.0,60780.0,60820.0,61380.0,61420.0,61460.0,61500.0,62340.0,62500.0,64020.0,64180.0,65700.0,66140.0,66180.0,66220.0,67380.0,67420.0,67900.0,67940.0],\"legendgroup\":\"River\",\"marker\":{\"color\":\"#3EA99F\",\"symbol\":\"circle\"},\"mode\":\"markers\",\"name\":\"River\",\"scene\":\"scene\",\"showlegend\":true,\"x\":[0,1,1,1,5,5,5,6,6,6,6,7,8,8,8,9,9,9,10,10,10,10,10,10,10,11,11,12,12,12,13,13,13,13,14,14,14,14,14,15,15,15,15,15,16,18,18,18,18,19,19,20,20,20,20,20,20,20,21,22,23,23,23,23,24,24,25,25,26,26,26,27,27,28,28,29,29,29,30,30,30,30,30,30,31,31,31,31,31,31,32,32,32,33,33,33,33,33,33,33,33,34,34,34,34,34,34,34,35,35,35,35,35,35,35,35,35,35,35,35,35,36,36,36,36,36,36,36,37,37,38,38,39,39,39,39,40,40,40,40],\"y\":[26,26,27,28,31,38,39,15,16,17,31,19,14,17,18,14,15,18,10,15,16,17,18,19,20,10,11,11,16,40,11,16,28,31,16,28,29,30,31,16,17,18,31,32,18,19,20,21,40,21,40,19,20,21,22,23,24,40,24,13,13,14,34,37,10,34,34,35,23,24,26,24,26,24,26,3,24,25,3,19,20,21,24,25,4,5,6,7,8,16,3,5,16,5,6,7,16,17,25,26,27,5,6,7,17,18,23,24,5,6,7,8,9,10,14,16,17,20,21,24,25,3,6,7,21,22,23,24,3,7,3,7,3,14,15,16,3,4,16,17],\"z\":[34,33,32,31,24,17,16,39,38,37,23,34,38,35,34,37,36,33,40,35,34,33,32,31,30,39,38,37,32,8,36,31,19,16,30,18,17,16,15,29,28,27,14,13,26,23,22,21,2,20,1,21,20,19,18,17,16,0,15,25,24,23,3,0,26,2,1,0,11,10,8,9,7,8,6,28,7,6,27,11,10,9,6,5,25,24,23,22,21,13,25,23,12,22,21,20,11,10,2,1,0,21,20,19,9,8,3,2,20,19,18,17,16,15,11,9,8,5,4,1,0,21,18,17,3,2,1,0,20,16,19,15,18,7,6,5,17,16,4,3],\"type\":\"scatter3d\"},{\"hovertemplate\":\"\\u003cb\\u003e%{hovertext}\\u003c\\u002fb\\u003e\\u003cbr\\u003e\\u003cbr\\u003ecolor=Hill\\u003cbr\\u003ex=%{x}\\u003cbr\\u003ey=%{y}\\u003cbr\\u003ez=%{z}\\u003cextra\\u003e\\u003c\\u002fextra\\u003e\",\"hovertext\":[1380.0,3060.0,4420.0,4700.0,4740.0,6100.0,6380.0,7780.0,7820.0,8380.0,9260.0,9420.0,9460.0,9500.0,10060.0,10900.0,10940.0,12500.0,12540.0,21300.0,21340.0,21380.0,21420.0,35140.0,35180.0,36780.0,36820.0,38460.0,38500.0,40100.0,40140.0,41260.0,42900.0,42940.0,53980.0,56260.0,56300.0,57940.0,59580.0,59620.0,61260.0,62820.0],\"legendgroup\":\"Hill\",\"marker\":{\"color\":\"gray\",\"symbol\":\"circle\"},\"mode\":\"markers\",\"name\":\"Hill\",\"scene\":\"scene\",\"showlegend\":true,\"x\":[0,1,2,2,2,3,3,4,4,4,5,5,5,5,5,6,6,7,7,12,12,12,12,20,20,21,21,22,22,23,23,24,25,25,32,33,33,34,35,35,36,37],\"y\":[33,33,25,32,33,25,32,25,26,40,20,24,25,26,40,19,20,17,18,27,28,29,30,37,38,36,37,36,37,35,36,22,21,22,4,19,20,19,18,19,18,15],\"z\":[27,26,33,26,25,32,25,31,30,16,35,31,30,29,15,35,34,36,35,21,20,19,18,3,2,3,2,2,1,2,1,14,14,13,24,8,7,7,7,6,6,8],\"type\":\"scatter3d\"},{\"hovertemplate\":\"\\u003cb\\u003e%{hovertext}\\u003c\\u002fb\\u003e\\u003cbr\\u003e\\u003cbr\\u003ecolor=None\\u003cbr\\u003ex=%{x}\\u003cbr\\u003ey=%{y}\\u003cbr\\u003ez=%{z}\\u003cextra\\u003e\\u003c\\u002fextra\\u003e\",\"hovertext\":[54380.0,56060.0,57740.0,57780.0,59460.0],\"legendgroup\":\"None\",\"marker\":{\"color\":\"maroon\",\"symbol\":\"circle\"},\"mode\":\"markers\",\"name\":\"None\",\"scene\":\"scene\",\"showlegend\":true,\"x\":[32,33,34,34,35],\"y\":[14,14,14,15,15],\"z\":[14,13,12,11,10],\"type\":\"scatter3d\"}],                        {\"template\":{\"data\":{\"histogram2dcontour\":[{\"type\":\"histogram2dcontour\",\"colorbar\":{\"outlinewidth\":0,\"ticks\":\"\"},\"colorscale\":[[0.0,\"#0d0887\"],[0.1111111111111111,\"#46039f\"],[0.2222222222222222,\"#7201a8\"],[0.3333333333333333,\"#9c179e\"],[0.4444444444444444,\"#bd3786\"],[0.5555555555555556,\"#d8576b\"],[0.6666666666666666,\"#ed7953\"],[0.7777777777777778,\"#fb9f3a\"],[0.8888888888888888,\"#fdca26\"],[1.0,\"#f0f921\"]]}],\"choropleth\":[{\"type\":\"choropleth\",\"colorbar\":{\"outlinewidth\":0,\"ticks\":\"\"}}],\"histogram2d\":[{\"type\":\"histogram2d\",\"colorbar\":{\"outlinewidth\":0,\"ticks\":\"\"},\"colorscale\":[[0.0,\"#0d0887\"],[0.1111111111111111,\"#46039f\"],[0.2222222222222222,\"#7201a8\"],[0.3333333333333333,\"#9c179e\"],[0.4444444444444444,\"#bd3786\"],[0.5555555555555556,\"#d8576b\"],[0.6666666666666666,\"#ed7953\"],[0.7777777777777778,\"#fb9f3a\"],[0.8888888888888888,\"#fdca26\"],[1.0,\"#f0f921\"]]}],\"heatmap\":[{\"type\":\"heatmap\",\"colorbar\":{\"outlinewidth\":0,\"ticks\":\"\"},\"colorscale\":[[0.0,\"#0d0887\"],[0.1111111111111111,\"#46039f\"],[0.2222222222222222,\"#7201a8\"],[0.3333333333333333,\"#9c179e\"],[0.4444444444444444,\"#bd3786\"],[0.5555555555555556,\"#d8576b\"],[0.6666666666666666,\"#ed7953\"],[0.7777777777777778,\"#fb9f3a\"],[0.8888888888888888,\"#fdca26\"],[1.0,\"#f0f921\"]]}],\"heatmapgl\":[{\"type\":\"heatmapgl\",\"colorbar\":{\"outlinewidth\":0,\"ticks\":\"\"},\"colorscale\":[[0.0,\"#0d0887\"],[0.1111111111111111,\"#46039f\"],[0.2222222222222222,\"#7201a8\"],[0.3333333333333333,\"#9c179e\"],[0.4444444444444444,\"#bd3786\"],[0.5555555555555556,\"#d8576b\"],[0.6666666666666666,\"#ed7953\"],[0.7777777777777778,\"#fb9f3a\"],[0.8888888888888888,\"#fdca26\"],[1.0,\"#f0f921\"]]}],\"contourcarpet\":[{\"type\":\"contourcarpet\",\"colorbar\":{\"outlinewidth\":0,\"ticks\":\"\"}}],\"contour\":[{\"type\":\"contour\",\"colorbar\":{\"outlinewidth\":0,\"ticks\":\"\"},\"colorscale\":[[0.0,\"#0d0887\"],[0.1111111111111111,\"#46039f\"],[0.2222222222222222,\"#7201a8\"],[0.3333333333333333,\"#9c179e\"],[0.4444444444444444,\"#bd3786\"],[0.5555555555555556,\"#d8576b\"],[0.6666666666666666,\"#ed7953\"],[0.7777777777777778,\"#fb9f3a\"],[0.8888888888888888,\"#fdca26\"],[1.0,\"#f0f921\"]]}],\"surface\":[{\"type\":\"surface\",\"colorbar\":{\"outlinewidth\":0,\"ticks\":\"\"},\"colorscale\":[[0.0,\"#0d0887\"],[0.1111111111111111,\"#46039f\"],[0.2222222222222222,\"#7201a8\"],[0.3333333333333333,\"#9c179e\"],[0.4444444444444444,\"#bd3786\"],[0.5555555555555556,\"#d8576b\"],[0.6666666666666666,\"#ed7953\"],[0.7777777777777778,\"#fb9f3a\"],[0.8888888888888888,\"#fdca26\"],[1.0,\"#f0f921\"]]}],\"mesh3d\":[{\"type\":\"mesh3d\",\"colorbar\":{\"outlinewidth\":0,\"ticks\":\"\"}}],\"scatter\":[{\"fillpattern\":{\"fillmode\":\"overlay\",\"size\":10,\"solidity\":0.2},\"type\":\"scatter\"}],\"parcoords\":[{\"type\":\"parcoords\",\"line\":{\"colorbar\":{\"outlinewidth\":0,\"ticks\":\"\"}}}],\"scatterpolargl\":[{\"type\":\"scatterpolargl\",\"marker\":{\"colorbar\":{\"outlinewidth\":0,\"ticks\":\"\"}}}],\"bar\":[{\"error_x\":{\"color\":\"#2a3f5f\"},\"error_y\":{\"color\":\"#2a3f5f\"},\"marker\":{\"line\":{\"color\":\"#E5ECF6\",\"width\":0.5},\"pattern\":{\"fillmode\":\"overlay\",\"size\":10,\"solidity\":0.2}},\"type\":\"bar\"}],\"scattergeo\":[{\"type\":\"scattergeo\",\"marker\":{\"colorbar\":{\"outlinewidth\":0,\"ticks\":\"\"}}}],\"scatterpolar\":[{\"type\":\"scatterpolar\",\"marker\":{\"colorbar\":{\"outlinewidth\":0,\"ticks\":\"\"}}}],\"histogram\":[{\"marker\":{\"pattern\":{\"fillmode\":\"overlay\",\"size\":10,\"solidity\":0.2}},\"type\":\"histogram\"}],\"scattergl\":[{\"type\":\"scattergl\",\"marker\":{\"colorbar\":{\"outlinewidth\":0,\"ticks\":\"\"}}}],\"scatter3d\":[{\"type\":\"scatter3d\",\"line\":{\"colorbar\":{\"outlinewidth\":0,\"ticks\":\"\"}},\"marker\":{\"colorbar\":{\"outlinewidth\":0,\"ticks\":\"\"}}}],\"scattermapbox\":[{\"type\":\"scattermapbox\",\"marker\":{\"colorbar\":{\"outlinewidth\":0,\"ticks\":\"\"}}}],\"scatterternary\":[{\"type\":\"scatterternary\",\"marker\":{\"colorbar\":{\"outlinewidth\":0,\"ticks\":\"\"}}}],\"scattercarpet\":[{\"type\":\"scattercarpet\",\"marker\":{\"colorbar\":{\"outlinewidth\":0,\"ticks\":\"\"}}}],\"carpet\":[{\"aaxis\":{\"endlinecolor\":\"#2a3f5f\",\"gridcolor\":\"white\",\"linecolor\":\"white\",\"minorgridcolor\":\"white\",\"startlinecolor\":\"#2a3f5f\"},\"baxis\":{\"endlinecolor\":\"#2a3f5f\",\"gridcolor\":\"white\",\"linecolor\":\"white\",\"minorgridcolor\":\"white\",\"startlinecolor\":\"#2a3f5f\"},\"type\":\"carpet\"}],\"table\":[{\"cells\":{\"fill\":{\"color\":\"#EBF0F8\"},\"line\":{\"color\":\"white\"}},\"header\":{\"fill\":{\"color\":\"#C8D4E3\"},\"line\":{\"color\":\"white\"}},\"type\":\"table\"}],\"barpolar\":[{\"marker\":{\"line\":{\"color\":\"#E5ECF6\",\"width\":0.5},\"pattern\":{\"fillmode\":\"overlay\",\"size\":10,\"solidity\":0.2}},\"type\":\"barpolar\"}],\"pie\":[{\"automargin\":true,\"type\":\"pie\"}]},\"layout\":{\"autotypenumbers\":\"strict\",\"colorway\":[\"#636efa\",\"#EF553B\",\"#00cc96\",\"#ab63fa\",\"#FFA15A\",\"#19d3f3\",\"#FF6692\",\"#B6E880\",\"#FF97FF\",\"#FECB52\"],\"font\":{\"color\":\"#2a3f5f\"},\"hovermode\":\"closest\",\"hoverlabel\":{\"align\":\"left\"},\"paper_bgcolor\":\"white\",\"plot_bgcolor\":\"#E5ECF6\",\"polar\":{\"bgcolor\":\"#E5ECF6\",\"angularaxis\":{\"gridcolor\":\"white\",\"linecolor\":\"white\",\"ticks\":\"\"},\"radialaxis\":{\"gridcolor\":\"white\",\"linecolor\":\"white\",\"ticks\":\"\"}},\"ternary\":{\"bgcolor\":\"#E5ECF6\",\"aaxis\":{\"gridcolor\":\"white\",\"linecolor\":\"white\",\"ticks\":\"\"},\"baxis\":{\"gridcolor\":\"white\",\"linecolor\":\"white\",\"ticks\":\"\"},\"caxis\":{\"gridcolor\":\"white\",\"linecolor\":\"white\",\"ticks\":\"\"}},\"coloraxis\":{\"colorbar\":{\"outlinewidth\":0,\"ticks\":\"\"}},\"colorscale\":{\"sequential\":[[0.0,\"#0d0887\"],[0.1111111111111111,\"#46039f\"],[0.2222222222222222,\"#7201a8\"],[0.3333333333333333,\"#9c179e\"],[0.4444444444444444,\"#bd3786\"],[0.5555555555555556,\"#d8576b\"],[0.6666666666666666,\"#ed7953\"],[0.7777777777777778,\"#fb9f3a\"],[0.8888888888888888,\"#fdca26\"],[1.0,\"#f0f921\"]],\"sequentialminus\":[[0.0,\"#0d0887\"],[0.1111111111111111,\"#46039f\"],[0.2222222222222222,\"#7201a8\"],[0.3333333333333333,\"#9c179e\"],[0.4444444444444444,\"#bd3786\"],[0.5555555555555556,\"#d8576b\"],[0.6666666666666666,\"#ed7953\"],[0.7777777777777778,\"#fb9f3a\"],[0.8888888888888888,\"#fdca26\"],[1.0,\"#f0f921\"]],\"diverging\":[[0,\"#8e0152\"],[0.1,\"#c51b7d\"],[0.2,\"#de77ae\"],[0.3,\"#f1b6da\"],[0.4,\"#fde0ef\"],[0.5,\"#f7f7f7\"],[0.6,\"#e6f5d0\"],[0.7,\"#b8e186\"],[0.8,\"#7fbc41\"],[0.9,\"#4d9221\"],[1,\"#276419\"]]},\"xaxis\":{\"gridcolor\":\"white\",\"linecolor\":\"white\",\"ticks\":\"\",\"title\":{\"standoff\":15},\"zerolinecolor\":\"white\",\"automargin\":true,\"zerolinewidth\":2},\"yaxis\":{\"gridcolor\":\"white\",\"linecolor\":\"white\",\"ticks\":\"\",\"title\":{\"standoff\":15},\"zerolinecolor\":\"white\",\"automargin\":true,\"zerolinewidth\":2},\"scene\":{\"xaxis\":{\"backgroundcolor\":\"#E5ECF6\",\"gridcolor\":\"white\",\"linecolor\":\"white\",\"showbackground\":true,\"ticks\":\"\",\"zerolinecolor\":\"white\",\"gridwidth\":2},\"yaxis\":{\"backgroundcolor\":\"#E5ECF6\",\"gridcolor\":\"white\",\"linecolor\":\"white\",\"showbackground\":true,\"ticks\":\"\",\"zerolinecolor\":\"white\",\"gridwidth\":2},\"zaxis\":{\"backgroundcolor\":\"#E5ECF6\",\"gridcolor\":\"white\",\"linecolor\":\"white\",\"showbackground\":true,\"ticks\":\"\",\"zerolinecolor\":\"white\",\"gridwidth\":2}},\"shapedefaults\":{\"line\":{\"color\":\"#2a3f5f\"}},\"annotationdefaults\":{\"arrowcolor\":\"#2a3f5f\",\"arrowhead\":0,\"arrowwidth\":1},\"geo\":{\"bgcolor\":\"white\",\"landcolor\":\"#E5ECF6\",\"subunitcolor\":\"white\",\"showland\":true,\"showlakes\":true,\"lakecolor\":\"white\"},\"title\":{\"x\":0.05},\"mapbox\":{\"style\":\"light\"}}},\"scene\":{\"domain\":{\"x\":[0.0,1.0],\"y\":[0.0,1.0]},\"xaxis\":{\"title\":{\"text\":\"x\"}},\"yaxis\":{\"title\":{\"text\":\"y\"}},\"zaxis\":{\"title\":{\"text\":\"z\"}}},\"legend\":{\"title\":{\"text\":\"color\"},\"tracegroupgap\":0},\"margin\":{\"t\":60}},                        {\"responsive\": true}                    ).then(function(){\n",
              "                            \n",
              "var gd = document.getElementById('575b4ff6-3fa4-4fbc-bf15-32ee0b6d5633');\n",
              "var x = new MutationObserver(function (mutations, observer) {{\n",
              "        var display = window.getComputedStyle(gd).display;\n",
              "        if (!display || display === 'none') {{\n",
              "            console.log([gd, 'removed!']);\n",
              "            Plotly.purge(gd);\n",
              "            observer.disconnect();\n",
              "        }}\n",
              "}});\n",
              "\n",
              "// Listen for the removal of the full notebook cells\n",
              "var notebookContainer = gd.closest('#notebook-container');\n",
              "if (notebookContainer) {{\n",
              "    x.observe(notebookContainer, {childList: true});\n",
              "}}\n",
              "\n",
              "// Listen for the clearing of the current output cell\n",
              "var outputEl = gd.closest('.output');\n",
              "if (outputEl) {{\n",
              "    x.observe(outputEl, {childList: true});\n",
              "}}\n",
              "\n",
              "                        })                };                            </script>        </div>\n",
              "</body>\n",
              "</html>"
            ]
          },
          "metadata": {}
        }
      ]
    },
    {
      "cell_type": "markdown",
      "source": [
        "<details>\n",
        "  <summary>\n",
        "    Если ячейка не загрузилась, должно быть так\n",
        "  </summary>\n",
        "\n",
        "  ![График](https://drive.google.com/uc?export=view&id=1qPivDUWiO7h66_apjgMJFkNRTDUQ9H9M)\n",
        "</details>"
      ],
      "metadata": {
        "id": "RpOAmP-U27OB"
      }
    },
    {
      "cell_type": "markdown",
      "source": [
        "### Бэктрекинг (1 балл)"
      ],
      "metadata": {
        "id": "rM4hENdpPz-I"
      }
    },
    {
      "cell_type": "markdown",
      "source": [
        "Начнем с переборного алгоритма"
      ],
      "metadata": {
        "id": "APdgoKQ9P4Sp"
      }
    },
    {
      "cell_type": "markdown",
      "source": [
        "Возьмем 2 точки карты и напишем решение бэктрекингом"
      ],
      "metadata": {
        "id": "bqehcz3LQDQH"
      }
    },
    {
      "cell_type": "code",
      "source": [
        "back_from_idx = 52_940\n",
        "back_to_idx = 45_860"
      ],
      "metadata": {
        "id": "IiQqux_hP3kn"
      },
      "execution_count": 38,
      "outputs": []
    },
    {
      "cell_type": "markdown",
      "source": [
        "Чтобы решение бэктрекингом не переполняло стек вызовов, введем 2 условности:\n",
        "\n",
        "- Если расстояние м-ду текущей точкой и точкой назначения больше изначального расстояния (расстояния м-ду стартовой и конечной точкой) более чем в 2 раза - режем ветку решения\n",
        "\n",
        "- Если расстояние от текущей больше чем от предыдущей точки - режем ветку решения"
      ],
      "metadata": {
        "id": "JfqYMouca1ME"
      }
    },
    {
      "cell_type": "markdown",
      "source": [
        "Сделаем функцию подсчета декартового расстояния"
      ],
      "metadata": {
        "id": "7RpmPRF1bbOM"
      }
    },
    {
      "cell_type": "code",
      "source": [
        "import math\n",
        "\n",
        "def count_dist(a_idx, b_idx):\n",
        "  a_data = hills_map[a_idx][:3]\n",
        "  b_data = hills_map[b_idx][:3]\n",
        "\n",
        "  return math.sqrt(sum((a_data - b_data)**2))"
      ],
      "metadata": {
        "id": "xMdgLmbTRnUo"
      },
      "execution_count": 36,
      "outputs": []
    },
    {
      "cell_type": "code",
      "source": [
        "count_dist(back_from_idx, back_to_idx)"
      ],
      "metadata": {
        "colab": {
          "base_uri": "https://localhost:8080/"
        },
        "id": "BBknI4O0SCqw",
        "outputId": "aac6dd92-b3d8-4c7f-cf5f-8af6e74ca593"
      },
      "execution_count": 39,
      "outputs": [
        {
          "output_type": "execute_result",
          "data": {
            "text/plain": [
              "16.30950643030009"
            ]
          },
          "metadata": {},
          "execution_count": 39
        }
      ]
    },
    {
      "cell_type": "markdown",
      "source": [
        "Напишем бэктрекинговое решение с учетом наших двух условностей"
      ],
      "metadata": {
        "id": "iUWlIC2vbi6Z"
      }
    },
    {
      "cell_type": "code",
      "source": [
        "\n",
        "\n",
        "def is_not_hills_or_river(cell):\n",
        "    return cell[-1] not in [HILLS_TYPE, RIVER_TYPE]\n",
        "\n",
        "\"\"\"\n",
        "curr_idx - текущий индекс клетки\n",
        "path - массив, путь до текущей клетки\n",
        "prev_dist - расстояние от предыдущей клетки до итоговой\n",
        "prev_movement_idx - индекс прошлого движения, используем чтобы не ходить \"туда-сюда\"\n",
        "\"\"\"\n",
        "def backtracking(curr_idx, path, prev_dist, prev_movement_idx):\n",
        "    # Код здесь\n",
        "\n",
        "    if prev_dist == 0:\n",
        "        return path\n",
        "\n",
        "    for move in ALL_MOVEMENTS:\n",
        "        x, y, z, d = hills_map[curr_idx]\n",
        "\n",
        "        m_x, m_y, m_z = move\n",
        "\n",
        "        n_x, n_y, n_z = m_x + x, m_y + y, m_z + z\n",
        "\n",
        "        n_idx = get_idx([n_x, n_y, n_z])\n",
        "\n",
        "        if n_idx in hexagon_idxs and \\\n",
        "            n_idx != prev_movement_idx and \\\n",
        "            is_not_hills_or_river(hills_map[n_idx]) and \\\n",
        "            count_dist(n_idx, back_to_idx) <= prev_dist:\n",
        "\n",
        "            path = path + [n_idx]\n",
        "\n",
        "            return backtracking(n_idx, path, count_dist(n_idx, back_to_idx), curr_idx)\n",
        "\n",
        "\n",
        "    return path\n",
        "\n",
        "\n"
      ],
      "metadata": {
        "id": "UuF4b7ptQZyN"
      },
      "execution_count": 57,
      "outputs": []
    },
    {
      "cell_type": "code",
      "source": [
        "init_dist = count_dist(back_from_idx, back_to_idx)\n",
        "back_path = backtracking(back_from_idx, [back_from_idx], init_dist, -1)\n",
        "\n",
        "back_path"
      ],
      "metadata": {
        "colab": {
          "base_uri": "https://localhost:8080/"
        },
        "id": "aJrV2JOvRR_F",
        "outputId": "f1af5d93-3ea3-4bd2-f543-3d175fee32a9"
      },
      "execution_count": 58,
      "outputs": [
        {
          "output_type": "execute_result",
          "data": {
            "text/plain": [
              "[52940,\n",
              " 54580,\n",
              " 56220,\n",
              " 54540,\n",
              " 54500,\n",
              " 52820,\n",
              " 51140,\n",
              " 51100,\n",
              " 52740,\n",
              " 52700,\n",
              " 52660,\n",
              " 52620,\n",
              " 52580,\n",
              " 52540,\n",
              " 52500,\n",
              " 50820,\n",
              " 50860,\n",
              " 49180,\n",
              " 47500,\n",
              " 47540,\n",
              " 45860]"
            ]
          },
          "metadata": {},
          "execution_count": 58
        }
      ]
    },
    {
      "cell_type": "code",
      "source": [
        "visualize_solve(back_path)"
      ],
      "metadata": {
        "colab": {
          "base_uri": "https://localhost:8080/",
          "height": 542
        },
        "id": "8nvn_OUJaIrR",
        "outputId": "6540b1f3-8f09-48f9-f888-315810268846"
      },
      "execution_count": 59,
      "outputs": [
        {
          "output_type": "display_data",
          "data": {
            "text/html": [
              "<html>\n",
              "<head><meta charset=\"utf-8\" /></head>\n",
              "<body>\n",
              "    <div>            <script src=\"https://cdnjs.cloudflare.com/ajax/libs/mathjax/2.7.5/MathJax.js?config=TeX-AMS-MML_SVG\"></script><script type=\"text/javascript\">if (window.MathJax && window.MathJax.Hub && window.MathJax.Hub.Config) {window.MathJax.Hub.Config({SVG: {font: \"STIX-Web\"}});}</script>                <script type=\"text/javascript\">window.PlotlyConfig = {MathJaxConfig: 'local'};</script>\n",
              "        <script charset=\"utf-8\" src=\"https://cdn.plot.ly/plotly-2.24.1.min.js\"></script>                <div id=\"081746fe-6fec-45b9-aa31-d4370c1b08aa\" class=\"plotly-graph-div\" style=\"height:525px; width:100%;\"></div>            <script type=\"text/javascript\">                                    window.PLOTLYENV=window.PLOTLYENV || {};                                    if (document.getElementById(\"081746fe-6fec-45b9-aa31-d4370c1b08aa\")) {                    Plotly.newPlot(                        \"081746fe-6fec-45b9-aa31-d4370c1b08aa\",                        [{\"hovertemplate\":\"\\u003cb\\u003e%{hovertext}\\u003c\\u002fb\\u003e\\u003cbr\\u003e\\u003cbr\\u003ecolor=Plain\\u003cbr\\u003ex=%{x}\\u003cbr\\u003ey=%{y}\\u003cbr\\u003ez=%{z}\\u003cextra\\u003e\\u003c\\u002fextra\\u003e\",\"hovertext\":[860.0,900.0,940.0,980.0,1020.0,1060.0,1140.0,1180.0,1220.0,1260.0,1300.0,1340.0,1420.0,1460.0,1500.0,1540.0,1580.0,1620.0,1660.0,2500.0,2540.0,2580.0,2620.0,2660.0,2700.0,2740.0,2900.0,2940.0,2980.0,3020.0,3100.0,3140.0,3180.0,3220.0,3260.0,3300.0,3340.0,4140.0,4180.0,4220.0,4260.0,4300.0,4340.0,4380.0,4460.0,4500.0,4540.0,4580.0,4620.0,4660.0,4780.0,4820.0,4860.0,4900.0,4940.0,4980.0,5020.0,5780.0,5820.0,5860.0,5900.0,5940.0,5980.0,6020.0,6060.0,6140.0,6180.0,6220.0,6260.0,6300.0,6340.0,6420.0,6460.0,6500.0,6540.0,6580.0,6620.0,6660.0,6700.0,7420.0,7460.0,7500.0,7540.0,7580.0,7620.0,7660.0,7700.0,7740.0,7860.0,7900.0,7940.0,7980.0,8020.0,8060.0,8100.0,8140.0,8180.0,8220.0,8260.0,8300.0,8340.0,9060.0,9100.0,9140.0,9180.0,9220.0,9300.0,9340.0,9380.0,9540.0,9580.0,9620.0,9660.0,9740.0,9780.0,9820.0,9860.0,9900.0,9940.0,10700.0,10860.0,10980.0,11020.0,11060.0,11100.0,11140.0,11180.0,11220.0,11260.0,11300.0,11340.0,11420.0,11460.0,11500.0,11540.0,11580.0,11620.0,11660.0,11700.0,11740.0,12340.0,12380.0,12420.0,12460.0,12620.0,12660.0,12700.0,12740.0,12780.0,12820.0,12860.0,12900.0,12940.0,12980.0,13020.0,13060.0,13100.0,13140.0,13180.0,13220.0,13260.0,13300.0,13340.0,13380.0,13420.0,13980.0,14020.0,14100.0,14140.0,14260.0,14300.0,14340.0,14380.0,14420.0,14460.0,14500.0,14540.0,14580.0,14620.0,14660.0,14700.0,14740.0,14780.0,14820.0,14860.0,14900.0,14940.0,14980.0,15020.0,15060.0,15100.0,15620.0,15660.0,15700.0,15820.0,15860.0,15940.0,15980.0,16020.0,16060.0,16100.0,16140.0,16180.0,16220.0,16260.0,16300.0,16340.0,16380.0,16420.0,16460.0,16500.0,16540.0,16580.0,16620.0,16660.0,16700.0,16740.0,16780.0,17300.0,17340.0,17380.0,17420.0,17700.0,17740.0,17780.0,17820.0,17860.0,17900.0,17940.0,17980.0,18020.0,18060.0,18100.0,18140.0,18180.0,18220.0,18260.0,18300.0,18340.0,18380.0,18420.0,18460.0,18900.0,19020.0,19060.0,19100.0,19140.0,19180.0,19220.0,19260.0,19300.0,19340.0,19380.0,19420.0,19460.0,19500.0,19540.0,19580.0,19620.0,19660.0,19700.0,19740.0,19780.0,19820.0,19860.0,19900.0,19940.0,19980.0,20020.0,20060.0,20100.0,20140.0,20540.0,20580.0,20620.0,20700.0,20740.0,20780.0,20820.0,20900.0,20940.0,20980.0,21020.0,21060.0,21100.0,21140.0,21180.0,21220.0,21260.0,21460.0,21500.0,21540.0,21580.0,21620.0,21660.0,21700.0,21740.0,21780.0,22180.0,22220.0,22260.0,22300.0,22380.0,22420.0,22460.0,22500.0,22580.0,22620.0,22660.0,22700.0,22740.0,22780.0,22820.0,22860.0,22900.0,22940.0,22980.0,23060.0,23100.0,23180.0,23220.0,23260.0,23300.0,23340.0,23380.0,23420.0,23460.0,23500.0,23820.0,23860.0,23900.0,23940.0,23980.0,24020.0,24060.0,24100.0,24140.0,24180.0,24260.0,24300.0,24340.0,24380.0,24420.0,24460.0,24500.0,24540.0,24580.0,24620.0,24660.0,24860.0,24900.0,24940.0,24980.0,25020.0,25060.0,25100.0,25140.0,25180.0,25460.0,25500.0,25540.0,25580.0,25620.0,25660.0,25700.0,25740.0,25780.0,25820.0,25860.0,26020.0,26060.0,26100.0,26140.0,26180.0,26220.0,26260.0,26300.0,26340.0,26380.0,26420.0,26460.0,26580.0,26620.0,26660.0,26700.0,26740.0,26780.0,26820.0,26860.0,27100.0,27140.0,27180.0,27220.0,27260.0,27300.0,27340.0,27380.0,27420.0,27460.0,27500.0,27540.0,27580.0,27620.0,27700.0,27740.0,27780.0,27820.0,27860.0,27900.0,27940.0,27980.0,28020.0,28060.0,28100.0,28140.0,28180.0,28220.0,28260.0,28300.0,28340.0,28380.0,28420.0,28460.0,28500.0,28540.0,28740.0,28780.0,28820.0,28860.0,28900.0,28940.0,28980.0,29020.0,29060.0,29100.0,29140.0,29180.0,29220.0,29260.0,29300.0,29340.0,29380.0,29420.0,29460.0,29500.0,29540.0,29580.0,29620.0,29660.0,29700.0,29740.0,29780.0,29820.0,29860.0,29900.0,29940.0,29980.0,30020.0,30060.0,30100.0,30140.0,30180.0,30220.0,30380.0,30420.0,30460.0,30500.0,30540.0,30580.0,30620.0,30660.0,30700.0,30740.0,30780.0,30820.0,30860.0,30900.0,30940.0,30980.0,31020.0,31180.0,31220.0,31260.0,31300.0,31340.0,31380.0,31420.0,31460.0,31500.0,31540.0,31580.0,31620.0,31660.0,31700.0,31740.0,31780.0,31820.0,31860.0,32020.0,32060.0,32100.0,32140.0,32180.0,32220.0,32260.0,32300.0,32340.0,32380.0,32420.0,32460.0,32500.0,32540.0,32580.0,32620.0,32660.0,32700.0,32740.0,32780.0,32860.0,32900.0,32940.0,32980.0,33020.0,33060.0,33100.0,33140.0,33180.0,33220.0,33260.0,33300.0,33340.0,33380.0,33420.0,33460.0,33500.0,33540.0,33660.0,33700.0,33740.0,33780.0,33820.0,33860.0,33900.0,33940.0,33980.0,34020.0,34060.0,34100.0,34140.0,34180.0,34220.0,34260.0,34300.0,34340.0,34380.0,34660.0,34700.0,34740.0,34780.0,34820.0,34860.0,34900.0,34940.0,34980.0,35020.0,35060.0,35100.0,35220.0,35340.0,35380.0,35420.0,35460.0,35500.0,35540.0,35580.0,35620.0,35660.0,35700.0,35740.0,35780.0,35820.0,35860.0,35900.0,35940.0,35980.0,36020.0,36060.0,36100.0,36140.0,36180.0,36220.0,36260.0,36340.0,36380.0,36420.0,36460.0,36500.0,36540.0,36580.0,36620.0,36660.0,36700.0,36740.0,36860.0,36900.0,37020.0,37060.0,37100.0,37140.0,37180.0,37220.0,37260.0,37300.0,37340.0,37380.0,37420.0,37460.0,37500.0,37580.0,37620.0,37660.0,37700.0,37740.0,37780.0,37820.0,37860.0,37900.0,37940.0,37980.0,38020.0,38060.0,38100.0,38140.0,38180.0,38220.0,38260.0,38300.0,38340.0,38380.0,38420.0,38540.0,38700.0,38740.0,38780.0,38820.0,38860.0,38900.0,38940.0,38980.0,39020.0,39060.0,39100.0,39140.0,39180.0,39300.0,39340.0,39380.0,39420.0,39460.0,39500.0,39540.0,39580.0,39620.0,39660.0,39700.0,39740.0,39780.0,39820.0,39860.0,39900.0,39940.0,39980.0,40020.0,40380.0,40420.0,40460.0,40500.0,40540.0,40580.0,40620.0,40660.0,40700.0,40740.0,40820.0,40860.0,40900.0,40940.0,40980.0,41020.0,41060.0,41100.0,41140.0,41180.0,41220.0,41300.0,41340.0,41380.0,41420.0,41460.0,41500.0,41540.0,41580.0,41620.0,41660.0,41700.0,41780.0,41820.0,42060.0,42100.0,42140.0,42180.0,42220.0,42260.0,42300.0,42340.0,42380.0,42420.0,42460.0,42500.0,42540.0,42580.0,42620.0,42660.0,42700.0,42740.0,42780.0,42820.0,42860.0,42980.0,43020.0,43060.0,43100.0,43140.0,43180.0,43220.0,43260.0,43300.0,43340.0,43380.0,43740.0,43780.0,43820.0,43860.0,43900.0,43940.0,43980.0,44020.0,44060.0,44100.0,44140.0,44180.0,44220.0,44260.0,44300.0,44340.0,44380.0,44420.0,44460.0,44500.0,44540.0,44580.0,44620.0,44740.0,44820.0,44860.0,44900.0,44940.0,44980.0,45020.0,45060.0,45100.0,45420.0,45460.0,45500.0,45540.0,45580.0,45620.0,45660.0,45700.0,45740.0,45780.0,45820.0,45900.0,45940.0,45980.0,46020.0,46060.0,46100.0,46140.0,46180.0,46220.0,46260.0,46300.0,46340.0,46420.0,46500.0,46540.0,46580.0,46620.0,46660.0,46700.0,46740.0,47100.0,47140.0,47180.0,47220.0,47260.0,47300.0,47340.0,47380.0,47420.0,47460.0,47580.0,47620.0,47660.0,47700.0,47740.0,47780.0,47820.0,47860.0,47900.0,47940.0,47980.0,48020.0,48100.0,48180.0,48220.0,48260.0,48300.0,48340.0,48380.0,48780.0,48820.0,48860.0,48940.0,48980.0,49020.0,49060.0,49100.0,49140.0,49220.0,49260.0,49300.0,49340.0,49380.0,49420.0,49460.0,49500.0,49540.0,49580.0,49620.0,49660.0,49700.0,49820.0,49860.0,49900.0,49940.0,49980.0,50020.0,50460.0,50500.0,50540.0,50620.0,50660.0,50700.0,50740.0,50780.0,50900.0,50940.0,50980.0,51020.0,51060.0,51180.0,51340.0,51380.0,51500.0,51540.0,51580.0,51620.0,51660.0,52140.0,52180.0,52220.0,52260.0,52860.0,52900.0,52980.0,53020.0,53060.0,53100.0,53140.0,53180.0,53220.0,53260.0,53300.0,53820.0,53860.0,53900.0,54060.0,54100.0,54140.0,54180.0,54220.0,54260.0,54300.0,54340.0,54380.0,54420.0,54620.0,54660.0,54700.0,54740.0,54780.0,54820.0,54860.0,54900.0,54940.0,55500.0,55540.0,55580.0,55620.0,55660.0,55820.0,55860.0,55900.0,55940.0,55980.0,56020.0,56060.0,56100.0,56340.0,56380.0,56420.0,56460.0,57180.0,57220.0,57260.0,57300.0,57340.0,57500.0,57540.0,57580.0,57620.0,57660.0,57700.0,57740.0,57780.0,57820.0,57980.0,58020.0,58060.0,58180.0,58220.0,58860.0,58900.0,58940.0,58980.0,59020.0,59300.0,59340.0,59380.0,59740.0,59780.0,60540.0,60580.0,60620.0,60700.0,60740.0,60860.0,60900.0,60940.0,60980.0,61020.0,61060.0,61100.0,61140.0,61180.0,61220.0,61300.0,61340.0,62220.0,62260.0,62300.0,62380.0,62420.0,62460.0,62540.0,62580.0,62620.0,62660.0,62700.0,62740.0,62780.0,62860.0,62900.0,62940.0,62980.0,63020.0,63060.0,63100.0,63140.0,63900.0,63940.0,63980.0,64060.0,64100.0,64140.0,64220.0,64260.0,64300.0,64340.0,64380.0,64420.0,64460.0,64500.0,64540.0,64580.0,64620.0,64660.0,64700.0,64740.0,64780.0,65580.0,65620.0,65660.0,65740.0,65780.0,65820.0,65860.0,65900.0,65940.0,65980.0,66020.0,66060.0,66100.0,66260.0,66300.0,66340.0,66380.0,66420.0,67260.0,67300.0,67340.0,67460.0,67500.0,67540.0,67580.0,67620.0,67660.0,67700.0,67740.0,67780.0,67820.0,67860.0,67980.0,68020.0,68060.0],\"legendgroup\":\"Plain\",\"marker\":{\"color\":\"#387C44\",\"symbol\":\"circle\"},\"mode\":\"markers\",\"name\":\"Plain\",\"scene\":\"scene\",\"showlegend\":true,\"x\":[0,0,0,0,0,0,0,0,0,0,0,0,0,0,0,0,0,0,0,1,1,1,1,1,1,1,1,1,1,1,1,1,1,1,1,1,1,2,2,2,2,2,2,2,2,2,2,2,2,2,2,2,2,2,2,2,2,3,3,3,3,3,3,3,3,3,3,3,3,3,3,3,3,3,3,3,3,3,3,4,4,4,4,4,4,4,4,4,4,4,4,4,4,4,4,4,4,4,4,4,4,5,5,5,5,5,5,5,5,5,5,5,5,5,5,5,5,5,5,6,6,6,6,6,6,6,6,6,6,6,6,6,6,6,6,6,6,6,6,6,7,7,7,7,7,7,7,7,7,7,7,7,7,7,7,7,7,7,7,7,7,7,7,7,7,8,8,8,8,8,8,8,8,8,8,8,8,8,8,8,8,8,8,8,8,8,8,8,8,8,8,9,9,9,9,9,9,9,9,9,9,9,9,9,9,9,9,9,9,9,9,9,9,9,9,9,9,9,10,10,10,10,10,10,10,10,10,10,10,10,10,10,10,10,10,10,10,10,10,10,10,10,11,11,11,11,11,11,11,11,11,11,11,11,11,11,11,11,11,11,11,11,11,11,11,11,11,11,11,11,11,11,12,12,12,12,12,12,12,12,12,12,12,12,12,12,12,12,12,12,12,12,12,12,12,12,12,12,13,13,13,13,13,13,13,13,13,13,13,13,13,13,13,13,13,13,13,13,13,13,13,13,13,13,13,13,13,13,14,14,14,14,14,14,14,14,14,14,14,14,14,14,14,14,14,14,14,14,14,14,14,14,14,14,14,14,14,14,15,15,15,15,15,15,15,15,15,15,15,15,15,15,15,15,15,15,15,15,15,15,15,15,15,15,15,15,15,15,15,16,16,16,16,16,16,16,16,16,16,16,16,16,16,16,16,16,16,16,16,16,16,16,16,16,16,16,16,16,16,16,16,16,16,16,16,17,17,17,17,17,17,17,17,17,17,17,17,17,17,17,17,17,17,17,17,17,17,17,17,17,17,17,17,17,17,17,17,17,17,17,17,17,17,18,18,18,18,18,18,18,18,18,18,18,18,18,18,18,18,18,18,18,18,18,18,18,18,18,18,18,18,18,18,18,18,18,18,18,19,19,19,19,19,19,19,19,19,19,19,19,19,19,19,19,19,19,19,19,19,19,19,19,19,19,19,19,19,19,19,19,19,19,19,19,19,19,20,20,20,20,20,20,20,20,20,20,20,20,20,20,20,20,20,20,20,20,20,20,20,20,20,20,20,20,20,20,20,20,21,21,21,21,21,21,21,21,21,21,21,21,21,21,21,21,21,21,21,21,21,21,21,21,21,21,21,21,21,21,21,21,21,21,21,21,21,22,22,22,22,22,22,22,22,22,22,22,22,22,22,22,22,22,22,22,22,22,22,22,22,22,22,22,22,22,22,22,22,22,22,22,22,23,23,23,23,23,23,23,23,23,23,23,23,23,23,23,23,23,23,23,23,23,23,23,23,23,23,23,23,23,23,23,23,24,24,24,24,24,24,24,24,24,24,24,24,24,24,24,24,24,24,24,24,24,24,24,24,24,24,24,24,24,24,24,24,24,24,25,25,25,25,25,25,25,25,25,25,25,25,25,25,25,25,25,25,25,25,25,25,25,25,25,25,25,25,25,25,25,25,26,26,26,26,26,26,26,26,26,26,26,26,26,26,26,26,26,26,26,26,26,26,26,26,26,26,26,26,26,26,26,26,27,27,27,27,27,27,27,27,27,27,27,27,27,27,27,27,27,27,27,27,27,27,27,27,27,27,27,27,27,27,27,28,28,28,28,28,28,28,28,28,28,28,28,28,28,28,28,28,28,28,28,28,28,28,28,28,28,28,28,28,29,29,29,29,29,29,29,29,29,29,29,29,29,29,29,29,29,29,29,29,29,29,29,29,29,29,29,29,30,30,30,30,30,30,30,30,30,30,30,30,30,30,30,30,30,30,30,30,30,31,31,31,31,31,31,31,31,31,31,31,31,31,31,31,32,32,32,32,32,32,32,32,32,32,32,32,32,32,32,32,32,32,32,32,32,32,33,33,33,33,33,33,33,33,33,33,33,33,33,33,33,33,33,34,34,34,34,34,34,34,34,34,34,34,34,34,34,34,34,34,34,34,35,35,35,35,35,35,35,35,35,35,36,36,36,36,36,36,36,36,36,36,36,36,36,36,36,36,36,37,37,37,37,37,37,37,37,37,37,37,37,37,37,37,37,37,37,37,37,37,38,38,38,38,38,38,38,38,38,38,38,38,38,38,38,38,38,38,38,38,38,39,39,39,39,39,39,39,39,39,39,39,39,39,39,39,39,39,39,40,40,40,40,40,40,40,40,40,40,40,40,40,40,40,40,40],\"y\":[20,21,22,23,24,25,27,28,29,30,31,32,34,35,36,37,38,39,40,19,20,21,22,23,24,25,29,30,31,32,34,35,36,37,38,39,40,18,19,20,21,22,23,24,26,27,28,29,30,31,34,35,36,37,38,39,40,17,18,19,20,21,22,23,24,26,27,28,29,30,31,33,34,35,36,37,38,39,40,16,17,18,19,20,21,22,23,24,27,28,29,30,31,32,33,34,35,36,37,38,39,15,16,17,18,19,21,22,23,27,28,29,30,32,33,34,35,36,37,14,18,21,22,23,24,25,26,27,28,29,30,32,33,34,35,36,37,38,39,40,13,14,15,16,20,21,22,23,24,25,26,27,28,29,30,31,32,33,34,35,36,37,38,39,40,12,13,15,16,19,20,21,22,23,24,25,26,27,28,29,30,31,32,33,34,35,36,37,38,39,40,11,12,13,16,17,19,20,21,22,23,24,25,26,27,28,29,30,31,32,33,34,35,36,37,38,39,40,11,12,13,14,21,22,23,24,25,26,27,28,29,30,31,32,33,34,35,36,37,38,39,40,9,12,13,14,15,16,17,18,19,20,21,22,23,24,25,26,27,28,29,30,31,32,33,34,35,36,37,38,39,40,8,9,10,12,13,14,15,17,18,19,20,21,22,23,24,25,26,31,32,33,34,35,36,37,38,39,7,8,9,10,12,13,14,15,17,18,19,20,21,22,23,24,25,26,27,29,30,32,33,34,35,36,37,38,39,40,6,7,8,9,10,11,12,13,14,15,17,18,19,20,21,22,23,24,25,26,27,32,33,34,35,36,37,38,39,40,5,6,7,8,9,10,11,12,13,14,15,19,20,21,22,23,24,25,26,27,28,29,30,33,34,35,36,37,38,39,40,4,5,6,7,8,9,10,11,12,13,14,15,16,17,19,20,21,22,23,24,25,26,27,28,29,30,31,32,33,34,35,36,37,38,39,40,3,4,5,6,7,8,9,10,11,12,13,14,15,16,17,18,19,20,21,22,23,24,25,26,27,28,29,30,31,32,33,34,35,36,37,38,39,40,2,3,4,5,6,7,8,9,10,11,12,13,14,15,16,17,18,22,23,24,25,26,27,28,29,30,31,32,33,34,35,36,37,38,39,1,2,3,4,5,6,7,8,9,10,11,12,13,14,15,16,17,18,19,20,22,23,24,25,26,27,28,29,30,31,32,33,34,35,36,37,38,39,0,1,2,3,4,5,6,7,8,9,10,11,12,13,14,15,16,17,18,25,26,27,28,29,30,31,32,33,34,35,36,39,0,1,2,3,4,5,6,7,8,9,10,11,12,13,14,15,16,17,18,19,20,21,22,23,25,26,27,28,29,30,31,32,33,34,35,38,39,0,1,2,3,4,5,6,7,8,9,10,11,12,14,15,16,17,18,19,20,21,22,23,24,25,26,27,28,29,30,31,32,33,34,35,38,0,1,2,3,4,5,6,7,8,9,10,11,12,15,16,17,18,19,20,21,22,23,24,25,26,27,28,29,30,31,32,33,0,1,2,3,4,5,6,7,8,9,11,12,13,14,15,16,17,18,19,20,21,23,24,25,26,27,28,29,30,31,32,33,35,36,0,1,2,3,4,5,6,7,8,9,10,11,12,13,14,15,16,17,18,19,20,23,24,25,26,27,28,29,30,31,32,33,0,1,2,3,4,5,6,7,8,9,10,11,12,13,14,15,16,17,18,19,20,21,22,25,27,28,29,30,31,32,33,34,0,1,2,3,4,5,6,7,8,9,10,12,13,14,15,16,17,18,19,20,21,22,23,25,27,28,29,30,31,32,33,0,1,2,3,4,5,6,7,8,9,12,13,14,15,16,17,18,19,20,21,22,23,25,27,28,29,30,31,32,0,1,2,4,5,6,7,8,9,11,12,13,14,15,16,17,18,19,20,21,22,23,26,27,28,29,30,31,0,1,2,4,5,6,7,8,11,12,13,14,15,18,22,23,26,27,28,29,30,0,1,2,3,18,19,21,22,23,24,25,26,27,28,29,0,1,2,6,7,8,9,10,11,12,13,14,15,20,21,22,23,24,25,26,27,28,0,1,2,3,4,8,9,10,11,12,13,14,15,21,22,23,24,0,1,2,3,4,8,9,10,11,12,13,14,15,16,20,21,22,25,26,0,1,2,3,4,11,12,13,22,23,0,1,2,4,5,8,9,10,11,12,13,14,15,16,17,19,20,0,1,2,4,5,6,8,9,10,11,12,13,14,16,17,18,19,20,21,22,23,0,1,2,4,5,6,8,9,10,11,12,13,14,15,16,17,18,19,20,21,22,0,1,2,4,5,6,7,8,9,10,11,12,13,17,18,19,20,21,0,1,2,5,6,7,8,9,10,11,12,13,14,15,18,19,20],\"z\":[40,39,38,37,36,35,33,32,31,30,29,28,26,25,24,23,22,21,20,40,39,38,37,36,35,34,30,29,28,27,25,24,23,22,21,20,19,40,39,38,37,36,35,34,32,31,30,29,28,27,24,23,22,21,20,19,18,40,39,38,37,36,35,34,33,31,30,29,28,27,26,24,23,22,21,20,19,18,17,40,39,38,37,36,35,34,33,32,29,28,27,26,25,24,23,22,21,20,19,18,17,40,39,38,37,36,34,33,32,28,27,26,25,23,22,21,20,19,18,40,36,33,32,31,30,29,28,27,26,25,24,22,21,20,19,18,17,16,15,14,40,39,38,37,33,32,31,30,29,28,27,26,25,24,23,22,21,20,19,18,17,16,15,14,13,40,39,37,36,33,32,31,30,29,28,27,26,25,24,23,22,21,20,19,18,17,16,15,14,13,12,40,39,38,35,34,32,31,30,29,28,27,26,25,24,23,22,21,20,19,18,17,16,15,14,13,12,11,39,38,37,36,29,28,27,26,25,24,23,22,21,20,19,18,17,16,15,14,13,12,11,10,40,37,36,35,34,33,32,31,30,29,28,27,26,25,24,23,22,21,20,19,18,17,16,15,14,13,12,11,10,9,40,39,38,36,35,34,33,31,30,29,28,27,26,25,24,23,22,17,16,15,14,13,12,11,10,9,40,39,38,37,35,34,33,32,30,29,28,27,26,25,24,23,22,21,20,18,17,15,14,13,12,11,10,9,8,7,40,39,38,37,36,35,34,33,32,31,29,28,27,26,25,24,23,22,21,20,19,14,13,12,11,10,9,8,7,6,40,39,38,37,36,35,34,33,32,31,30,26,25,24,23,22,21,20,19,18,17,16,15,12,11,10,9,8,7,6,5,40,39,38,37,36,35,34,33,32,31,30,29,28,27,25,24,23,22,21,20,19,18,17,16,15,14,13,12,11,10,9,8,7,6,5,4,40,39,38,37,36,35,34,33,32,31,30,29,28,27,26,25,24,23,22,21,20,19,18,17,16,15,14,13,12,11,10,9,8,7,6,5,4,3,40,39,38,37,36,35,34,33,32,31,30,29,28,27,26,25,24,20,19,18,17,16,15,14,13,12,11,10,9,8,7,6,5,4,3,40,39,38,37,36,35,34,33,32,31,30,29,28,27,26,25,24,23,22,21,19,18,17,16,15,14,13,12,11,10,9,8,7,6,5,4,3,2,40,39,38,37,36,35,34,33,32,31,30,29,28,27,26,25,24,23,22,15,14,13,12,11,10,9,8,7,6,5,4,1,39,38,37,36,35,34,33,32,31,30,29,28,27,26,25,24,23,22,21,20,19,18,17,16,14,13,12,11,10,9,8,7,6,5,4,1,0,38,37,36,35,34,33,32,31,30,29,28,27,26,24,23,22,21,20,19,18,17,16,15,14,13,12,11,10,9,8,7,6,5,4,3,0,37,36,35,34,33,32,31,30,29,28,27,26,25,22,21,20,19,18,17,16,15,14,13,12,11,10,9,8,7,6,5,4,36,35,34,33,32,31,30,29,28,27,25,24,23,22,21,20,19,18,17,16,15,13,12,11,10,9,8,7,6,5,4,3,1,0,35,34,33,32,31,30,29,28,27,26,25,24,23,22,21,20,19,18,17,16,15,12,11,10,9,8,7,6,5,4,3,2,34,33,32,31,30,29,28,27,26,25,24,23,22,21,20,19,18,17,16,15,14,13,12,9,7,6,5,4,3,2,1,0,33,32,31,30,29,28,27,26,25,24,23,21,20,19,18,17,16,15,14,13,12,11,10,8,6,5,4,3,2,1,0,32,31,30,29,28,27,26,25,24,23,20,19,18,17,16,15,14,13,12,11,10,9,7,5,4,3,2,1,0,31,30,29,27,26,25,24,23,22,20,19,18,17,16,15,14,13,12,11,10,9,8,5,4,3,2,1,0,30,29,28,26,25,24,23,22,19,18,17,16,15,12,8,7,4,3,2,1,0,29,28,27,26,11,10,8,7,6,5,4,3,2,1,0,28,27,26,22,21,20,19,18,17,16,15,14,13,8,7,6,5,4,3,2,1,0,27,26,25,24,23,19,18,17,16,15,14,13,12,6,5,4,3,26,25,24,23,22,18,17,16,15,14,13,12,11,10,6,5,4,1,0,25,24,23,22,21,14,13,12,3,2,24,23,22,20,19,16,15,14,13,12,11,10,9,8,7,5,4,23,22,21,19,18,17,15,14,13,12,11,10,9,7,6,5,4,3,2,1,0,22,21,20,18,17,16,14,13,12,11,10,9,8,7,6,5,4,3,2,1,0,21,20,19,17,16,15,14,13,12,11,10,9,8,4,3,2,1,0,20,19,18,15,14,13,12,11,10,9,8,7,6,5,2,1,0],\"type\":\"scatter3d\"},{\"hovertemplate\":\"\\u003cb\\u003e%{hovertext}\\u003c\\u002fb\\u003e\\u003cbr\\u003e\\u003cbr\\u003ecolor=River\\u003cbr\\u003ex=%{x}\\u003cbr\\u003ey=%{y}\\u003cbr\\u003ez=%{z}\\u003cextra\\u003e\\u003c\\u002fextra\\u003e\",\"hovertext\":[1100.0,2780.0,2820.0,2860.0,9700.0,9980.0,10020.0,10740.0,10780.0,10820.0,11380.0,12580.0,14060.0,14180.0,14220.0,15740.0,15780.0,15900.0,17260.0,17460.0,17500.0,17540.0,17580.0,17620.0,17660.0,18940.0,18980.0,20660.0,20860.0,21820.0,22340.0,22540.0,23020.0,23140.0,24220.0,24700.0,24740.0,24780.0,24820.0,25900.0,25940.0,25980.0,26500.0,26540.0,27660.0,31060.0,31100.0,31140.0,31900.0,32820.0,33580.0,34420.0,34460.0,34500.0,34540.0,34580.0,34620.0,35260.0,36300.0,37540.0,39220.0,39260.0,40060.0,40180.0,40780.0,41740.0,43420.0,43460.0,44660.0,44700.0,44780.0,46380.0,46460.0,48060.0,48140.0,48900.0,49740.0,49780.0,50580.0,51220.0,51260.0,51300.0,51420.0,51460.0,52300.0,52340.0,52380.0,52420.0,52460.0,52780.0,53940.0,54020.0,54460.0,55700.0,55740.0,55780.0,56140.0,56180.0,56500.0,56540.0,56580.0,57380.0,57420.0,57460.0,57860.0,57900.0,58100.0,58140.0,59060.0,59100.0,59140.0,59180.0,59220.0,59260.0,59420.0,59460.0,59500.0,59540.0,59660.0,59700.0,59820.0,59860.0,60660.0,60780.0,60820.0,61380.0,61420.0,61460.0,61500.0,62340.0,62500.0,64020.0,64180.0,65700.0,66140.0,66180.0,66220.0,67380.0,67420.0,67900.0,67940.0],\"legendgroup\":\"River\",\"marker\":{\"color\":\"#3EA99F\",\"symbol\":\"circle\"},\"mode\":\"markers\",\"name\":\"River\",\"scene\":\"scene\",\"showlegend\":true,\"x\":[0,1,1,1,5,5,5,6,6,6,6,7,8,8,8,9,9,9,10,10,10,10,10,10,10,11,11,12,12,12,13,13,13,13,14,14,14,14,14,15,15,15,15,15,16,18,18,18,18,19,19,20,20,20,20,20,20,20,21,22,23,23,23,23,24,24,25,25,26,26,26,27,27,28,28,29,29,29,30,30,30,30,30,30,31,31,31,31,31,31,32,32,32,33,33,33,33,33,33,33,33,34,34,34,34,34,34,34,35,35,35,35,35,35,35,35,35,35,35,35,35,35,36,36,36,36,36,36,36,37,37,38,38,39,39,39,39,40,40,40,40],\"y\":[26,26,27,28,31,38,39,15,16,17,31,19,14,17,18,14,15,18,10,15,16,17,18,19,20,10,11,11,16,40,11,16,28,31,16,28,29,30,31,16,17,18,31,32,18,19,20,21,40,21,40,19,20,21,22,23,24,40,24,13,13,14,34,37,10,34,34,35,23,24,26,24,26,24,26,3,24,25,3,19,20,21,24,25,4,5,6,7,8,16,3,5,16,5,6,7,16,17,25,26,27,5,6,7,17,18,23,24,5,6,7,8,9,10,14,15,16,17,20,21,24,25,3,6,7,21,22,23,24,3,7,3,7,3,14,15,16,3,4,16,17],\"z\":[34,33,32,31,24,17,16,39,38,37,23,34,38,35,34,37,36,33,40,35,34,33,32,31,30,39,38,37,32,8,36,31,19,16,30,18,17,16,15,29,28,27,14,13,26,23,22,21,2,20,1,21,20,19,18,17,16,0,15,25,24,23,3,0,26,2,1,0,11,10,8,9,7,8,6,28,7,6,27,11,10,9,6,5,25,24,23,22,21,13,25,23,12,22,21,20,11,10,2,1,0,21,20,19,9,8,3,2,20,19,18,17,16,15,11,10,9,8,5,4,1,0,21,18,17,3,2,1,0,20,16,19,15,18,7,6,5,17,16,4,3],\"type\":\"scatter3d\"},{\"hovertemplate\":\"\\u003cb\\u003e%{hovertext}\\u003c\\u002fb\\u003e\\u003cbr\\u003e\\u003cbr\\u003ecolor=Hill\\u003cbr\\u003ex=%{x}\\u003cbr\\u003ey=%{y}\\u003cbr\\u003ez=%{z}\\u003cextra\\u003e\\u003c\\u002fextra\\u003e\",\"hovertext\":[1380.0,3060.0,4420.0,4700.0,4740.0,6100.0,6380.0,7780.0,7820.0,8380.0,9260.0,9420.0,9460.0,9500.0,10060.0,10900.0,10940.0,12500.0,12540.0,21300.0,21340.0,21380.0,21420.0,35140.0,35180.0,36780.0,36820.0,38460.0,38500.0,40100.0,40140.0,41260.0,42900.0,42940.0,53980.0,56260.0,56300.0,57940.0,59580.0,59620.0,61260.0,62820.0],\"legendgroup\":\"Hill\",\"marker\":{\"color\":\"gray\",\"symbol\":\"circle\"},\"mode\":\"markers\",\"name\":\"Hill\",\"scene\":\"scene\",\"showlegend\":true,\"x\":[0,1,2,2,2,3,3,4,4,4,5,5,5,5,5,6,6,7,7,12,12,12,12,20,20,21,21,22,22,23,23,24,25,25,32,33,33,34,35,35,36,37],\"y\":[33,33,25,32,33,25,32,25,26,40,20,24,25,26,40,19,20,17,18,27,28,29,30,37,38,36,37,36,37,35,36,22,21,22,4,19,20,19,18,19,18,15],\"z\":[27,26,33,26,25,32,25,31,30,16,35,31,30,29,15,35,34,36,35,21,20,19,18,3,2,3,2,2,1,2,1,14,14,13,24,8,7,7,7,6,6,8],\"type\":\"scatter3d\"},{\"hovertemplate\":\"\\u003cb\\u003e%{hovertext}\\u003c\\u002fb\\u003e\\u003cbr\\u003e\\u003cbr\\u003ecolor=None\\u003cbr\\u003ex=%{x}\\u003cbr\\u003ey=%{y}\\u003cbr\\u003ez=%{z}\\u003cextra\\u003e\\u003c\\u002fextra\\u003e\",\"hovertext\":[45860.0,47500.0,47540.0,49180.0,50820.0,50860.0,51100.0,51140.0,52500.0,52540.0,52580.0,52620.0,52660.0,52700.0,52740.0,52820.0,52940.0,54500.0,54540.0,54580.0,56220.0],\"legendgroup\":\"None\",\"marker\":{\"color\":\"maroon\",\"symbol\":\"circle\"},\"mode\":\"markers\",\"name\":\"None\",\"scene\":\"scene\",\"showlegend\":true,\"x\":[27,28,28,29,30,30,30,30,31,31,31,31,31,31,31,31,31,32,32,32,33],\"y\":[11,10,11,10,9,10,16,17,9,10,11,12,13,14,15,17,20,17,18,19,18],\"z\":[22,22,21,21,21,20,14,13,20,19,18,17,16,15,14,12,9,11,10,9,9],\"type\":\"scatter3d\"}],                        {\"template\":{\"data\":{\"histogram2dcontour\":[{\"type\":\"histogram2dcontour\",\"colorbar\":{\"outlinewidth\":0,\"ticks\":\"\"},\"colorscale\":[[0.0,\"#0d0887\"],[0.1111111111111111,\"#46039f\"],[0.2222222222222222,\"#7201a8\"],[0.3333333333333333,\"#9c179e\"],[0.4444444444444444,\"#bd3786\"],[0.5555555555555556,\"#d8576b\"],[0.6666666666666666,\"#ed7953\"],[0.7777777777777778,\"#fb9f3a\"],[0.8888888888888888,\"#fdca26\"],[1.0,\"#f0f921\"]]}],\"choropleth\":[{\"type\":\"choropleth\",\"colorbar\":{\"outlinewidth\":0,\"ticks\":\"\"}}],\"histogram2d\":[{\"type\":\"histogram2d\",\"colorbar\":{\"outlinewidth\":0,\"ticks\":\"\"},\"colorscale\":[[0.0,\"#0d0887\"],[0.1111111111111111,\"#46039f\"],[0.2222222222222222,\"#7201a8\"],[0.3333333333333333,\"#9c179e\"],[0.4444444444444444,\"#bd3786\"],[0.5555555555555556,\"#d8576b\"],[0.6666666666666666,\"#ed7953\"],[0.7777777777777778,\"#fb9f3a\"],[0.8888888888888888,\"#fdca26\"],[1.0,\"#f0f921\"]]}],\"heatmap\":[{\"type\":\"heatmap\",\"colorbar\":{\"outlinewidth\":0,\"ticks\":\"\"},\"colorscale\":[[0.0,\"#0d0887\"],[0.1111111111111111,\"#46039f\"],[0.2222222222222222,\"#7201a8\"],[0.3333333333333333,\"#9c179e\"],[0.4444444444444444,\"#bd3786\"],[0.5555555555555556,\"#d8576b\"],[0.6666666666666666,\"#ed7953\"],[0.7777777777777778,\"#fb9f3a\"],[0.8888888888888888,\"#fdca26\"],[1.0,\"#f0f921\"]]}],\"heatmapgl\":[{\"type\":\"heatmapgl\",\"colorbar\":{\"outlinewidth\":0,\"ticks\":\"\"},\"colorscale\":[[0.0,\"#0d0887\"],[0.1111111111111111,\"#46039f\"],[0.2222222222222222,\"#7201a8\"],[0.3333333333333333,\"#9c179e\"],[0.4444444444444444,\"#bd3786\"],[0.5555555555555556,\"#d8576b\"],[0.6666666666666666,\"#ed7953\"],[0.7777777777777778,\"#fb9f3a\"],[0.8888888888888888,\"#fdca26\"],[1.0,\"#f0f921\"]]}],\"contourcarpet\":[{\"type\":\"contourcarpet\",\"colorbar\":{\"outlinewidth\":0,\"ticks\":\"\"}}],\"contour\":[{\"type\":\"contour\",\"colorbar\":{\"outlinewidth\":0,\"ticks\":\"\"},\"colorscale\":[[0.0,\"#0d0887\"],[0.1111111111111111,\"#46039f\"],[0.2222222222222222,\"#7201a8\"],[0.3333333333333333,\"#9c179e\"],[0.4444444444444444,\"#bd3786\"],[0.5555555555555556,\"#d8576b\"],[0.6666666666666666,\"#ed7953\"],[0.7777777777777778,\"#fb9f3a\"],[0.8888888888888888,\"#fdca26\"],[1.0,\"#f0f921\"]]}],\"surface\":[{\"type\":\"surface\",\"colorbar\":{\"outlinewidth\":0,\"ticks\":\"\"},\"colorscale\":[[0.0,\"#0d0887\"],[0.1111111111111111,\"#46039f\"],[0.2222222222222222,\"#7201a8\"],[0.3333333333333333,\"#9c179e\"],[0.4444444444444444,\"#bd3786\"],[0.5555555555555556,\"#d8576b\"],[0.6666666666666666,\"#ed7953\"],[0.7777777777777778,\"#fb9f3a\"],[0.8888888888888888,\"#fdca26\"],[1.0,\"#f0f921\"]]}],\"mesh3d\":[{\"type\":\"mesh3d\",\"colorbar\":{\"outlinewidth\":0,\"ticks\":\"\"}}],\"scatter\":[{\"fillpattern\":{\"fillmode\":\"overlay\",\"size\":10,\"solidity\":0.2},\"type\":\"scatter\"}],\"parcoords\":[{\"type\":\"parcoords\",\"line\":{\"colorbar\":{\"outlinewidth\":0,\"ticks\":\"\"}}}],\"scatterpolargl\":[{\"type\":\"scatterpolargl\",\"marker\":{\"colorbar\":{\"outlinewidth\":0,\"ticks\":\"\"}}}],\"bar\":[{\"error_x\":{\"color\":\"#2a3f5f\"},\"error_y\":{\"color\":\"#2a3f5f\"},\"marker\":{\"line\":{\"color\":\"#E5ECF6\",\"width\":0.5},\"pattern\":{\"fillmode\":\"overlay\",\"size\":10,\"solidity\":0.2}},\"type\":\"bar\"}],\"scattergeo\":[{\"type\":\"scattergeo\",\"marker\":{\"colorbar\":{\"outlinewidth\":0,\"ticks\":\"\"}}}],\"scatterpolar\":[{\"type\":\"scatterpolar\",\"marker\":{\"colorbar\":{\"outlinewidth\":0,\"ticks\":\"\"}}}],\"histogram\":[{\"marker\":{\"pattern\":{\"fillmode\":\"overlay\",\"size\":10,\"solidity\":0.2}},\"type\":\"histogram\"}],\"scattergl\":[{\"type\":\"scattergl\",\"marker\":{\"colorbar\":{\"outlinewidth\":0,\"ticks\":\"\"}}}],\"scatter3d\":[{\"type\":\"scatter3d\",\"line\":{\"colorbar\":{\"outlinewidth\":0,\"ticks\":\"\"}},\"marker\":{\"colorbar\":{\"outlinewidth\":0,\"ticks\":\"\"}}}],\"scattermapbox\":[{\"type\":\"scattermapbox\",\"marker\":{\"colorbar\":{\"outlinewidth\":0,\"ticks\":\"\"}}}],\"scatterternary\":[{\"type\":\"scatterternary\",\"marker\":{\"colorbar\":{\"outlinewidth\":0,\"ticks\":\"\"}}}],\"scattercarpet\":[{\"type\":\"scattercarpet\",\"marker\":{\"colorbar\":{\"outlinewidth\":0,\"ticks\":\"\"}}}],\"carpet\":[{\"aaxis\":{\"endlinecolor\":\"#2a3f5f\",\"gridcolor\":\"white\",\"linecolor\":\"white\",\"minorgridcolor\":\"white\",\"startlinecolor\":\"#2a3f5f\"},\"baxis\":{\"endlinecolor\":\"#2a3f5f\",\"gridcolor\":\"white\",\"linecolor\":\"white\",\"minorgridcolor\":\"white\",\"startlinecolor\":\"#2a3f5f\"},\"type\":\"carpet\"}],\"table\":[{\"cells\":{\"fill\":{\"color\":\"#EBF0F8\"},\"line\":{\"color\":\"white\"}},\"header\":{\"fill\":{\"color\":\"#C8D4E3\"},\"line\":{\"color\":\"white\"}},\"type\":\"table\"}],\"barpolar\":[{\"marker\":{\"line\":{\"color\":\"#E5ECF6\",\"width\":0.5},\"pattern\":{\"fillmode\":\"overlay\",\"size\":10,\"solidity\":0.2}},\"type\":\"barpolar\"}],\"pie\":[{\"automargin\":true,\"type\":\"pie\"}]},\"layout\":{\"autotypenumbers\":\"strict\",\"colorway\":[\"#636efa\",\"#EF553B\",\"#00cc96\",\"#ab63fa\",\"#FFA15A\",\"#19d3f3\",\"#FF6692\",\"#B6E880\",\"#FF97FF\",\"#FECB52\"],\"font\":{\"color\":\"#2a3f5f\"},\"hovermode\":\"closest\",\"hoverlabel\":{\"align\":\"left\"},\"paper_bgcolor\":\"white\",\"plot_bgcolor\":\"#E5ECF6\",\"polar\":{\"bgcolor\":\"#E5ECF6\",\"angularaxis\":{\"gridcolor\":\"white\",\"linecolor\":\"white\",\"ticks\":\"\"},\"radialaxis\":{\"gridcolor\":\"white\",\"linecolor\":\"white\",\"ticks\":\"\"}},\"ternary\":{\"bgcolor\":\"#E5ECF6\",\"aaxis\":{\"gridcolor\":\"white\",\"linecolor\":\"white\",\"ticks\":\"\"},\"baxis\":{\"gridcolor\":\"white\",\"linecolor\":\"white\",\"ticks\":\"\"},\"caxis\":{\"gridcolor\":\"white\",\"linecolor\":\"white\",\"ticks\":\"\"}},\"coloraxis\":{\"colorbar\":{\"outlinewidth\":0,\"ticks\":\"\"}},\"colorscale\":{\"sequential\":[[0.0,\"#0d0887\"],[0.1111111111111111,\"#46039f\"],[0.2222222222222222,\"#7201a8\"],[0.3333333333333333,\"#9c179e\"],[0.4444444444444444,\"#bd3786\"],[0.5555555555555556,\"#d8576b\"],[0.6666666666666666,\"#ed7953\"],[0.7777777777777778,\"#fb9f3a\"],[0.8888888888888888,\"#fdca26\"],[1.0,\"#f0f921\"]],\"sequentialminus\":[[0.0,\"#0d0887\"],[0.1111111111111111,\"#46039f\"],[0.2222222222222222,\"#7201a8\"],[0.3333333333333333,\"#9c179e\"],[0.4444444444444444,\"#bd3786\"],[0.5555555555555556,\"#d8576b\"],[0.6666666666666666,\"#ed7953\"],[0.7777777777777778,\"#fb9f3a\"],[0.8888888888888888,\"#fdca26\"],[1.0,\"#f0f921\"]],\"diverging\":[[0,\"#8e0152\"],[0.1,\"#c51b7d\"],[0.2,\"#de77ae\"],[0.3,\"#f1b6da\"],[0.4,\"#fde0ef\"],[0.5,\"#f7f7f7\"],[0.6,\"#e6f5d0\"],[0.7,\"#b8e186\"],[0.8,\"#7fbc41\"],[0.9,\"#4d9221\"],[1,\"#276419\"]]},\"xaxis\":{\"gridcolor\":\"white\",\"linecolor\":\"white\",\"ticks\":\"\",\"title\":{\"standoff\":15},\"zerolinecolor\":\"white\",\"automargin\":true,\"zerolinewidth\":2},\"yaxis\":{\"gridcolor\":\"white\",\"linecolor\":\"white\",\"ticks\":\"\",\"title\":{\"standoff\":15},\"zerolinecolor\":\"white\",\"automargin\":true,\"zerolinewidth\":2},\"scene\":{\"xaxis\":{\"backgroundcolor\":\"#E5ECF6\",\"gridcolor\":\"white\",\"linecolor\":\"white\",\"showbackground\":true,\"ticks\":\"\",\"zerolinecolor\":\"white\",\"gridwidth\":2},\"yaxis\":{\"backgroundcolor\":\"#E5ECF6\",\"gridcolor\":\"white\",\"linecolor\":\"white\",\"showbackground\":true,\"ticks\":\"\",\"zerolinecolor\":\"white\",\"gridwidth\":2},\"zaxis\":{\"backgroundcolor\":\"#E5ECF6\",\"gridcolor\":\"white\",\"linecolor\":\"white\",\"showbackground\":true,\"ticks\":\"\",\"zerolinecolor\":\"white\",\"gridwidth\":2}},\"shapedefaults\":{\"line\":{\"color\":\"#2a3f5f\"}},\"annotationdefaults\":{\"arrowcolor\":\"#2a3f5f\",\"arrowhead\":0,\"arrowwidth\":1},\"geo\":{\"bgcolor\":\"white\",\"landcolor\":\"#E5ECF6\",\"subunitcolor\":\"white\",\"showland\":true,\"showlakes\":true,\"lakecolor\":\"white\"},\"title\":{\"x\":0.05},\"mapbox\":{\"style\":\"light\"}}},\"scene\":{\"domain\":{\"x\":[0.0,1.0],\"y\":[0.0,1.0]},\"xaxis\":{\"title\":{\"text\":\"x\"}},\"yaxis\":{\"title\":{\"text\":\"y\"}},\"zaxis\":{\"title\":{\"text\":\"z\"}}},\"legend\":{\"title\":{\"text\":\"color\"},\"tracegroupgap\":0},\"margin\":{\"t\":60}},                        {\"responsive\": true}                    ).then(function(){\n",
              "                            \n",
              "var gd = document.getElementById('081746fe-6fec-45b9-aa31-d4370c1b08aa');\n",
              "var x = new MutationObserver(function (mutations, observer) {{\n",
              "        var display = window.getComputedStyle(gd).display;\n",
              "        if (!display || display === 'none') {{\n",
              "            console.log([gd, 'removed!']);\n",
              "            Plotly.purge(gd);\n",
              "            observer.disconnect();\n",
              "        }}\n",
              "}});\n",
              "\n",
              "// Listen for the removal of the full notebook cells\n",
              "var notebookContainer = gd.closest('#notebook-container');\n",
              "if (notebookContainer) {{\n",
              "    x.observe(notebookContainer, {childList: true});\n",
              "}}\n",
              "\n",
              "// Listen for the clearing of the current output cell\n",
              "var outputEl = gd.closest('.output');\n",
              "if (outputEl) {{\n",
              "    x.observe(outputEl, {childList: true});\n",
              "}}\n",
              "\n",
              "                        })                };                            </script>        </div>\n",
              "</body>\n",
              "</html>"
            ]
          },
          "metadata": {}
        }
      ]
    },
    {
      "cell_type": "markdown",
      "source": [
        "<details>\n",
        "  <summary>\n",
        "    Если ячейка не загрузилась, должно быть так\n",
        "  </summary>\n",
        "\n",
        "  ![График](https://drive.google.com/uc?export=view&id=1bI_7zfWiRvJOf8__hiPL1d2SORnhDCKB)\n",
        "</details>"
      ],
      "metadata": {
        "id": "Be4LFfp23PGR"
      }
    },
    {
      "cell_type": "markdown",
      "source": [
        "Однако такое решение все еще может выйти за стек вызовов и не учитывает ландшафт\n",
        "\n",
        "Соберем функцию визуализации"
      ],
      "metadata": {
        "id": "iWAzC7Xvbx9B"
      }
    },
    {
      "cell_type": "code",
      "source": [
        "def visualise_backtrack_solve(idx_from, idx_to):\n",
        "  init_dist = count_dist(idx_from, idx_to)\n",
        "\n",
        "  back_path = backtracking(idx_from, [idx_from], init_dist, -1)\n",
        "\n",
        "  if back_path is not None:\n",
        "    visualize_solve(back_path)"
      ],
      "metadata": {
        "id": "shucynXEb6Ad"
      },
      "execution_count": 61,
      "outputs": []
    },
    {
      "cell_type": "markdown",
      "source": [
        "P.S ячейка должна упасть из-за выхода за стек вызовов"
      ],
      "metadata": {
        "id": "WgMOhtlgrU2_"
      }
    },
    {
      "cell_type": "code",
      "source": [
        "\n",
        "back_from_idx = 900\n",
        "back_to_idx = 67260\n",
        "visualise_backtrack_solve(back_from_idx, back_to_idx)"
      ],
      "metadata": {
        "colab": {
          "base_uri": "https://localhost:8080/",
          "height": 542
        },
        "id": "xSY50u-EcKpY",
        "outputId": "eb473941-0658-4fbd-9dce-f7f2f824ae2d"
      },
      "execution_count": 63,
      "outputs": [
        {
          "output_type": "display_data",
          "data": {
            "text/html": [
              "<html>\n",
              "<head><meta charset=\"utf-8\" /></head>\n",
              "<body>\n",
              "    <div>            <script src=\"https://cdnjs.cloudflare.com/ajax/libs/mathjax/2.7.5/MathJax.js?config=TeX-AMS-MML_SVG\"></script><script type=\"text/javascript\">if (window.MathJax && window.MathJax.Hub && window.MathJax.Hub.Config) {window.MathJax.Hub.Config({SVG: {font: \"STIX-Web\"}});}</script>                <script type=\"text/javascript\">window.PlotlyConfig = {MathJaxConfig: 'local'};</script>\n",
              "        <script charset=\"utf-8\" src=\"https://cdn.plot.ly/plotly-2.24.1.min.js\"></script>                <div id=\"8ee63476-d68d-4af0-9ddf-3d4bcb7064d7\" class=\"plotly-graph-div\" style=\"height:525px; width:100%;\"></div>            <script type=\"text/javascript\">                                    window.PLOTLYENV=window.PLOTLYENV || {};                                    if (document.getElementById(\"8ee63476-d68d-4af0-9ddf-3d4bcb7064d7\")) {                    Plotly.newPlot(                        \"8ee63476-d68d-4af0-9ddf-3d4bcb7064d7\",                        [{\"hovertemplate\":\"\\u003cb\\u003e%{hovertext}\\u003c\\u002fb\\u003e\\u003cbr\\u003e\\u003cbr\\u003ecolor=Plain\\u003cbr\\u003ex=%{x}\\u003cbr\\u003ey=%{y}\\u003cbr\\u003ez=%{z}\\u003cextra\\u003e\\u003c\\u002fextra\\u003e\",\"hovertext\":[860.0,940.0,980.0,1020.0,1060.0,1140.0,1180.0,1220.0,1260.0,1300.0,1340.0,1420.0,1460.0,1500.0,1540.0,1580.0,1620.0,1660.0,2500.0,2540.0,2620.0,2660.0,2700.0,2740.0,2900.0,2940.0,2980.0,3020.0,3100.0,3140.0,3180.0,3220.0,3260.0,3300.0,3340.0,4140.0,4180.0,4220.0,4300.0,4340.0,4380.0,4460.0,4500.0,4540.0,4580.0,4620.0,4660.0,4780.0,4820.0,4860.0,4900.0,4940.0,4980.0,5020.0,5780.0,5820.0,5860.0,5900.0,5980.0,6020.0,6060.0,6140.0,6180.0,6220.0,6260.0,6300.0,6340.0,6420.0,6460.0,6500.0,6540.0,6580.0,6620.0,6660.0,6700.0,7420.0,7460.0,7500.0,7540.0,7580.0,7660.0,7700.0,7740.0,7860.0,7900.0,7940.0,7980.0,8020.0,8060.0,8100.0,8140.0,8180.0,8220.0,8260.0,8300.0,8340.0,9060.0,9100.0,9140.0,9180.0,9220.0,9340.0,9380.0,9540.0,9580.0,9620.0,9660.0,9740.0,9780.0,9820.0,9860.0,9900.0,9940.0,10700.0,10860.0,11020.0,11060.0,11100.0,11140.0,11180.0,11220.0,11260.0,11300.0,11340.0,11420.0,11460.0,11500.0,11540.0,11580.0,11620.0,11660.0,11700.0,11740.0,12340.0,12380.0,12420.0,12460.0,12620.0,12700.0,12740.0,12780.0,12820.0,12860.0,12900.0,12940.0,12980.0,13020.0,13060.0,13100.0,13140.0,13180.0,13220.0,13260.0,13300.0,13340.0,13380.0,13420.0,13980.0,14020.0,14100.0,14140.0,14260.0,14300.0,14380.0,14420.0,14460.0,14500.0,14540.0,14580.0,14620.0,14660.0,14700.0,14740.0,14780.0,14820.0,14860.0,14900.0,14940.0,14980.0,15020.0,15060.0,15100.0,15620.0,15660.0,15700.0,15820.0,15860.0,15940.0,15980.0,16060.0,16100.0,16140.0,16180.0,16220.0,16260.0,16300.0,16340.0,16380.0,16420.0,16460.0,16500.0,16540.0,16580.0,16620.0,16660.0,16700.0,16740.0,16780.0,17300.0,17340.0,17380.0,17420.0,17740.0,17780.0,17820.0,17860.0,17900.0,17940.0,17980.0,18020.0,18060.0,18100.0,18140.0,18180.0,18220.0,18260.0,18300.0,18340.0,18380.0,18420.0,18460.0,18900.0,19020.0,19060.0,19100.0,19140.0,19180.0,19220.0,19260.0,19300.0,19340.0,19420.0,19460.0,19500.0,19540.0,19580.0,19620.0,19660.0,19700.0,19740.0,19780.0,19820.0,19860.0,19900.0,19940.0,19980.0,20020.0,20060.0,20100.0,20140.0,20540.0,20580.0,20620.0,20700.0,20740.0,20780.0,20820.0,20900.0,20940.0,20980.0,21020.0,21100.0,21140.0,21180.0,21220.0,21260.0,21460.0,21500.0,21540.0,21580.0,21620.0,21660.0,21700.0,21740.0,21780.0,22180.0,22220.0,22260.0,22300.0,22380.0,22420.0,22460.0,22500.0,22580.0,22620.0,22660.0,22700.0,22780.0,22820.0,22860.0,22900.0,22940.0,22980.0,23060.0,23100.0,23180.0,23220.0,23260.0,23300.0,23340.0,23380.0,23420.0,23460.0,23500.0,23820.0,23860.0,23900.0,23940.0,23980.0,24020.0,24060.0,24100.0,24140.0,24180.0,24260.0,24300.0,24340.0,24380.0,24460.0,24500.0,24540.0,24580.0,24620.0,24660.0,24860.0,24900.0,24940.0,24980.0,25020.0,25060.0,25100.0,25140.0,25180.0,25460.0,25500.0,25540.0,25580.0,25620.0,25660.0,25700.0,25740.0,25780.0,25820.0,25860.0,26020.0,26060.0,26140.0,26180.0,26220.0,26260.0,26300.0,26340.0,26380.0,26420.0,26460.0,26580.0,26620.0,26660.0,26700.0,26740.0,26780.0,26820.0,26860.0,27100.0,27140.0,27180.0,27220.0,27260.0,27300.0,27340.0,27380.0,27420.0,27460.0,27500.0,27540.0,27580.0,27620.0,27700.0,27740.0,27820.0,27860.0,27900.0,27940.0,27980.0,28020.0,28060.0,28100.0,28140.0,28180.0,28220.0,28260.0,28300.0,28340.0,28380.0,28420.0,28460.0,28500.0,28540.0,28740.0,28780.0,28820.0,28860.0,28900.0,28940.0,28980.0,29020.0,29060.0,29100.0,29140.0,29180.0,29220.0,29260.0,29300.0,29340.0,29500.0,29540.0,29580.0,29620.0,29660.0,29700.0,29740.0,29780.0,29820.0,29860.0,29900.0,29940.0,29980.0,30020.0,30060.0,30100.0,30140.0,30180.0,30220.0,30380.0,30420.0,30460.0,30500.0,30540.0,30580.0,30620.0,30660.0,30700.0,30740.0,30780.0,30820.0,30860.0,30900.0,30940.0,30980.0,31180.0,31220.0,31260.0,31300.0,31340.0,31380.0,31420.0,31460.0,31500.0,31540.0,31580.0,31620.0,31660.0,31700.0,31740.0,31780.0,31820.0,31860.0,32020.0,32060.0,32100.0,32140.0,32180.0,32220.0,32260.0,32300.0,32340.0,32380.0,32420.0,32460.0,32500.0,32540.0,32580.0,32620.0,32660.0,32740.0,32780.0,32860.0,32900.0,32940.0,32980.0,33020.0,33060.0,33100.0,33140.0,33180.0,33220.0,33260.0,33300.0,33340.0,33380.0,33420.0,33460.0,33500.0,33540.0,33660.0,33700.0,33740.0,33780.0,33820.0,33860.0,33900.0,33940.0,33980.0,34020.0,34060.0,34100.0,34140.0,34180.0,34220.0,34260.0,34300.0,34340.0,34660.0,34700.0,34740.0,34780.0,34820.0,34860.0,34900.0,34940.0,34980.0,35020.0,35060.0,35100.0,35220.0,35340.0,35380.0,35420.0,35460.0,35500.0,35540.0,35580.0,35620.0,35660.0,35700.0,35740.0,35780.0,35820.0,35860.0,35900.0,35940.0,35980.0,36020.0,36100.0,36140.0,36180.0,36220.0,36260.0,36340.0,36380.0,36420.0,36460.0,36500.0,36540.0,36580.0,36620.0,36660.0,36700.0,36740.0,36860.0,36900.0,37020.0,37060.0,37100.0,37140.0,37180.0,37220.0,37260.0,37300.0,37340.0,37380.0,37420.0,37460.0,37500.0,37580.0,37620.0,37660.0,37700.0,37780.0,37820.0,37860.0,37900.0,37940.0,37980.0,38020.0,38060.0,38100.0,38140.0,38180.0,38220.0,38260.0,38300.0,38340.0,38380.0,38420.0,38540.0,38700.0,38740.0,38780.0,38820.0,38860.0,38900.0,38940.0,38980.0,39020.0,39060.0,39100.0,39140.0,39180.0,39300.0,39340.0,39380.0,39460.0,39500.0,39540.0,39580.0,39620.0,39660.0,39700.0,39740.0,39780.0,39820.0,39860.0,39900.0,39940.0,39980.0,40020.0,40380.0,40420.0,40460.0,40500.0,40540.0,40580.0,40620.0,40660.0,40700.0,40740.0,40820.0,40860.0,40900.0,40940.0,40980.0,41020.0,41060.0,41140.0,41180.0,41220.0,41300.0,41340.0,41380.0,41420.0,41460.0,41500.0,41540.0,41580.0,41620.0,41660.0,41700.0,41780.0,41820.0,42060.0,42100.0,42140.0,42180.0,42220.0,42260.0,42300.0,42340.0,42380.0,42420.0,42460.0,42500.0,42540.0,42580.0,42620.0,42660.0,42700.0,42740.0,42820.0,42860.0,42980.0,43020.0,43060.0,43100.0,43140.0,43180.0,43220.0,43260.0,43300.0,43340.0,43380.0,43740.0,43780.0,43820.0,43860.0,43900.0,43940.0,43980.0,44020.0,44060.0,44100.0,44140.0,44180.0,44220.0,44260.0,44300.0,44340.0,44380.0,44420.0,44500.0,44540.0,44580.0,44620.0,44740.0,44820.0,44860.0,44900.0,44940.0,44980.0,45020.0,45060.0,45100.0,45420.0,45460.0,45500.0,45540.0,45580.0,45620.0,45660.0,45700.0,45740.0,45780.0,45820.0,45860.0,45900.0,45940.0,45980.0,46020.0,46060.0,46100.0,46180.0,46220.0,46260.0,46300.0,46340.0,46420.0,46500.0,46540.0,46580.0,46620.0,46660.0,46700.0,46740.0,47100.0,47140.0,47180.0,47220.0,47260.0,47300.0,47340.0,47380.0,47420.0,47460.0,47500.0,47540.0,47580.0,47620.0,47660.0,47700.0,47740.0,47780.0,47860.0,47900.0,47940.0,47980.0,48020.0,48100.0,48180.0,48220.0,48260.0,48300.0,48340.0,48380.0,48780.0,48820.0,48860.0,48940.0,48980.0,49020.0,49060.0,49100.0,49140.0,49180.0,49220.0,49260.0,49300.0,49340.0,49380.0,49420.0,49460.0,49540.0,49580.0,49620.0,49660.0,49700.0,49820.0,49860.0,49900.0,49940.0,49980.0,50020.0,50460.0,50500.0,50540.0,50620.0,50660.0,50700.0,50740.0,50780.0,50820.0,50860.0,50900.0,50940.0,50980.0,51020.0,51060.0,51100.0,51140.0,51340.0,51380.0,51500.0,51540.0,51580.0,51620.0,51660.0,52140.0,52180.0,52220.0,52260.0,52500.0,52540.0,52580.0,52620.0,52660.0,52700.0,52740.0,52900.0,52940.0,52980.0,53020.0,53060.0,53100.0,53140.0,53180.0,53220.0,53260.0,53300.0,53820.0,53860.0,53900.0,54060.0,54100.0,54140.0,54180.0,54220.0,54260.0,54300.0,54340.0,54380.0,54420.0,54540.0,54580.0,54620.0,54660.0,54700.0,54740.0,54780.0,54820.0,54860.0,54900.0,54940.0,55500.0,55540.0,55580.0,55620.0,55660.0,55820.0,55860.0,55900.0,55940.0,55980.0,56020.0,56060.0,56100.0,56220.0,56340.0,56380.0,56420.0,56460.0,57180.0,57220.0,57260.0,57300.0,57340.0,57500.0,57540.0,57580.0,57620.0,57660.0,57700.0,57740.0,57780.0,57820.0,57980.0,58020.0,58060.0,58180.0,58220.0,58860.0,58900.0,58940.0,58980.0,59020.0,59300.0,59340.0,59380.0,59740.0,59780.0,60540.0,60580.0,60620.0,60700.0,60740.0,60860.0,60900.0,60940.0,60980.0,61020.0,61060.0,61100.0,61140.0,61180.0,61220.0,61300.0,61340.0,62220.0,62260.0,62300.0,62380.0,62420.0,62460.0,62540.0,62580.0,62620.0,62660.0,62700.0,62740.0,62780.0,62860.0,62900.0,62940.0,62980.0,63020.0,63060.0,63100.0,63140.0,63900.0,63940.0,63980.0,64060.0,64100.0,64140.0,64220.0,64260.0,64300.0,64340.0,64380.0,64420.0,64460.0,64500.0,64540.0,64580.0,64620.0,64660.0,64700.0,64740.0,64780.0,65580.0,65620.0,65660.0,65740.0,65780.0,65820.0,65860.0,65900.0,65940.0,65980.0,66020.0,66060.0,66100.0,66260.0,66300.0,66340.0,66380.0,66420.0,67260.0,67300.0,67340.0,67460.0,67500.0,67540.0,67580.0,67620.0,67660.0,67700.0,67740.0,67780.0,67820.0,67860.0,67980.0,68020.0,68060.0],\"legendgroup\":\"Plain\",\"marker\":{\"color\":\"#387C44\",\"symbol\":\"circle\"},\"mode\":\"markers\",\"name\":\"Plain\",\"scene\":\"scene\",\"showlegend\":true,\"x\":[0,0,0,0,0,0,0,0,0,0,0,0,0,0,0,0,0,0,1,1,1,1,1,1,1,1,1,1,1,1,1,1,1,1,1,2,2,2,2,2,2,2,2,2,2,2,2,2,2,2,2,2,2,2,3,3,3,3,3,3,3,3,3,3,3,3,3,3,3,3,3,3,3,3,3,4,4,4,4,4,4,4,4,4,4,4,4,4,4,4,4,4,4,4,4,4,5,5,5,5,5,5,5,5,5,5,5,5,5,5,5,5,5,6,6,6,6,6,6,6,6,6,6,6,6,6,6,6,6,6,6,6,6,7,7,7,7,7,7,7,7,7,7,7,7,7,7,7,7,7,7,7,7,7,7,7,7,8,8,8,8,8,8,8,8,8,8,8,8,8,8,8,8,8,8,8,8,8,8,8,8,8,9,9,9,9,9,9,9,9,9,9,9,9,9,9,9,9,9,9,9,9,9,9,9,9,9,9,10,10,10,10,10,10,10,10,10,10,10,10,10,10,10,10,10,10,10,10,10,10,10,11,11,11,11,11,11,11,11,11,11,11,11,11,11,11,11,11,11,11,11,11,11,11,11,11,11,11,11,11,12,12,12,12,12,12,12,12,12,12,12,12,12,12,12,12,12,12,12,12,12,12,12,12,12,13,13,13,13,13,13,13,13,13,13,13,13,13,13,13,13,13,13,13,13,13,13,13,13,13,13,13,13,13,14,14,14,14,14,14,14,14,14,14,14,14,14,14,14,14,14,14,14,14,14,14,14,14,14,14,14,14,14,15,15,15,15,15,15,15,15,15,15,15,15,15,15,15,15,15,15,15,15,15,15,15,15,15,15,15,15,15,15,16,16,16,16,16,16,16,16,16,16,16,16,16,16,16,16,16,16,16,16,16,16,16,16,16,16,16,16,16,16,16,16,16,16,16,17,17,17,17,17,17,17,17,17,17,17,17,17,17,17,17,17,17,17,17,17,17,17,17,17,17,17,17,17,17,17,17,17,17,17,18,18,18,18,18,18,18,18,18,18,18,18,18,18,18,18,18,18,18,18,18,18,18,18,18,18,18,18,18,18,18,18,18,18,19,19,19,19,19,19,19,19,19,19,19,19,19,19,19,19,19,19,19,19,19,19,19,19,19,19,19,19,19,19,19,19,19,19,19,19,19,20,20,20,20,20,20,20,20,20,20,20,20,20,20,20,20,20,20,20,20,20,20,20,20,20,20,20,20,20,20,20,21,21,21,21,21,21,21,21,21,21,21,21,21,21,21,21,21,21,21,21,21,21,21,21,21,21,21,21,21,21,21,21,21,21,21,21,22,22,22,22,22,22,22,22,22,22,22,22,22,22,22,22,22,22,22,22,22,22,22,22,22,22,22,22,22,22,22,22,22,22,22,23,23,23,23,23,23,23,23,23,23,23,23,23,23,23,23,23,23,23,23,23,23,23,23,23,23,23,23,23,23,23,24,24,24,24,24,24,24,24,24,24,24,24,24,24,24,24,24,24,24,24,24,24,24,24,24,24,24,24,24,24,24,24,24,25,25,25,25,25,25,25,25,25,25,25,25,25,25,25,25,25,25,25,25,25,25,25,25,25,25,25,25,25,25,25,26,26,26,26,26,26,26,26,26,26,26,26,26,26,26,26,26,26,26,26,26,26,26,26,26,26,26,26,26,26,26,27,27,27,27,27,27,27,27,27,27,27,27,27,27,27,27,27,27,27,27,27,27,27,27,27,27,27,27,27,27,27,28,28,28,28,28,28,28,28,28,28,28,28,28,28,28,28,28,28,28,28,28,28,28,28,28,28,28,28,28,28,29,29,29,29,29,29,29,29,29,29,29,29,29,29,29,29,29,29,29,29,29,29,29,29,29,29,29,29,30,30,30,30,30,30,30,30,30,30,30,30,30,30,30,30,30,30,30,30,30,30,30,30,31,31,31,31,31,31,31,31,31,31,31,31,31,31,31,31,31,31,31,31,31,31,32,32,32,32,32,32,32,32,32,32,32,32,32,32,32,32,32,32,32,32,32,32,32,32,33,33,33,33,33,33,33,33,33,33,33,33,33,33,33,33,33,33,34,34,34,34,34,34,34,34,34,34,34,34,34,34,34,34,34,34,34,35,35,35,35,35,35,35,35,35,35,36,36,36,36,36,36,36,36,36,36,36,36,36,36,36,36,36,37,37,37,37,37,37,37,37,37,37,37,37,37,37,37,37,37,37,37,37,37,38,38,38,38,38,38,38,38,38,38,38,38,38,38,38,38,38,38,38,38,38,39,39,39,39,39,39,39,39,39,39,39,39,39,39,39,39,39,39,40,40,40,40,40,40,40,40,40,40,40,40,40,40,40,40,40],\"y\":[20,22,23,24,25,27,28,29,30,31,32,34,35,36,37,38,39,40,19,20,22,23,24,25,29,30,31,32,34,35,36,37,38,39,40,18,19,20,22,23,24,26,27,28,29,30,31,34,35,36,37,38,39,40,17,18,19,20,22,23,24,26,27,28,29,30,31,33,34,35,36,37,38,39,40,16,17,18,19,20,22,23,24,27,28,29,30,31,32,33,34,35,36,37,38,39,15,16,17,18,19,22,23,27,28,29,30,32,33,34,35,36,37,14,18,22,23,24,25,26,27,28,29,30,32,33,34,35,36,37,38,39,40,13,14,15,16,20,22,23,24,25,26,27,28,29,30,31,32,33,34,35,36,37,38,39,40,12,13,15,16,19,20,22,23,24,25,26,27,28,29,30,31,32,33,34,35,36,37,38,39,40,11,12,13,16,17,19,20,22,23,24,25,26,27,28,29,30,31,32,33,34,35,36,37,38,39,40,11,12,13,14,22,23,24,25,26,27,28,29,30,31,32,33,34,35,36,37,38,39,40,9,12,13,14,15,16,17,18,19,20,22,23,24,25,26,27,28,29,30,31,32,33,34,35,36,37,38,39,40,8,9,10,12,13,14,15,17,18,19,20,22,23,24,25,26,31,32,33,34,35,36,37,38,39,7,8,9,10,12,13,14,15,17,18,19,20,22,23,24,25,26,27,29,30,32,33,34,35,36,37,38,39,40,6,7,8,9,10,11,12,13,14,15,17,18,19,20,22,23,24,25,26,27,32,33,34,35,36,37,38,39,40,5,6,7,8,9,10,11,12,13,14,15,19,20,22,23,24,25,26,27,28,29,30,33,34,35,36,37,38,39,40,4,5,6,7,8,9,10,11,12,13,14,15,16,17,19,20,22,23,24,25,26,27,28,29,30,31,32,33,34,35,36,37,38,39,40,3,4,5,6,7,8,9,10,11,12,13,14,15,16,17,18,22,23,24,25,26,27,28,29,30,31,32,33,34,35,36,37,38,39,40,2,3,4,5,6,7,8,9,10,11,12,13,14,15,16,17,22,23,24,25,26,27,28,29,30,31,32,33,34,35,36,37,38,39,1,2,3,4,5,6,7,8,9,10,11,12,13,14,15,16,17,19,20,22,23,24,25,26,27,28,29,30,31,32,33,34,35,36,37,38,39,0,1,2,3,4,5,6,7,8,9,10,11,12,13,14,15,16,17,25,26,27,28,29,30,31,32,33,34,35,36,39,0,1,2,3,4,5,6,7,8,9,10,11,12,13,14,15,16,17,19,20,21,22,23,25,26,27,28,29,30,31,32,33,34,35,38,39,0,1,2,3,4,5,6,7,8,9,10,11,12,14,15,16,17,19,20,21,22,23,24,25,26,27,28,29,30,31,32,33,34,35,38,0,1,2,3,4,5,6,7,8,9,10,11,12,15,16,17,19,20,21,22,23,24,25,26,27,28,29,30,31,32,33,0,1,2,3,4,5,6,7,8,9,11,12,13,14,15,16,17,19,20,21,23,24,25,26,27,28,29,30,31,32,33,35,36,0,1,2,3,4,5,6,7,8,9,10,11,12,13,14,15,16,17,19,20,23,24,25,26,27,28,29,30,31,32,33,0,1,2,3,4,5,6,7,8,9,10,11,12,13,14,15,16,17,19,20,21,22,25,27,28,29,30,31,32,33,34,0,1,2,3,4,5,6,7,8,9,10,11,12,13,14,15,16,17,19,20,21,22,23,25,27,28,29,30,31,32,33,0,1,2,3,4,5,6,7,8,9,10,11,12,13,14,15,16,17,19,20,21,22,23,25,27,28,29,30,31,32,0,1,2,4,5,6,7,8,9,10,11,12,13,14,15,16,17,19,20,21,22,23,26,27,28,29,30,31,0,1,2,4,5,6,7,8,9,10,11,12,13,14,15,16,17,22,23,26,27,28,29,30,0,1,2,3,9,10,11,12,13,14,15,19,20,21,22,23,24,25,26,27,28,29,0,1,2,6,7,8,9,10,11,12,13,14,15,18,19,20,21,22,23,24,25,26,27,28,0,1,2,3,4,8,9,10,11,12,13,14,15,18,21,22,23,24,0,1,2,3,4,8,9,10,11,12,13,14,15,16,20,21,22,25,26,0,1,2,3,4,11,12,13,22,23,0,1,2,4,5,8,9,10,11,12,13,14,15,16,17,19,20,0,1,2,4,5,6,8,9,10,11,12,13,14,16,17,18,19,20,21,22,23,0,1,2,4,5,6,8,9,10,11,12,13,14,15,16,17,18,19,20,21,22,0,1,2,4,5,6,7,8,9,10,11,12,13,17,18,19,20,21,0,1,2,5,6,7,8,9,10,11,12,13,14,15,18,19,20],\"z\":[40,38,37,36,35,33,32,31,30,29,28,26,25,24,23,22,21,20,40,39,37,36,35,34,30,29,28,27,25,24,23,22,21,20,19,40,39,38,36,35,34,32,31,30,29,28,27,24,23,22,21,20,19,18,40,39,38,37,35,34,33,31,30,29,28,27,26,24,23,22,21,20,19,18,17,40,39,38,37,36,34,33,32,29,28,27,26,25,24,23,22,21,20,19,18,17,40,39,38,37,36,33,32,28,27,26,25,23,22,21,20,19,18,40,36,32,31,30,29,28,27,26,25,24,22,21,20,19,18,17,16,15,14,40,39,38,37,33,31,30,29,28,27,26,25,24,23,22,21,20,19,18,17,16,15,14,13,40,39,37,36,33,32,30,29,28,27,26,25,24,23,22,21,20,19,18,17,16,15,14,13,12,40,39,38,35,34,32,31,29,28,27,26,25,24,23,22,21,20,19,18,17,16,15,14,13,12,11,39,38,37,36,28,27,26,25,24,23,22,21,20,19,18,17,16,15,14,13,12,11,10,40,37,36,35,34,33,32,31,30,29,27,26,25,24,23,22,21,20,19,18,17,16,15,14,13,12,11,10,9,40,39,38,36,35,34,33,31,30,29,28,26,25,24,23,22,17,16,15,14,13,12,11,10,9,40,39,38,37,35,34,33,32,30,29,28,27,25,24,23,22,21,20,18,17,15,14,13,12,11,10,9,8,7,40,39,38,37,36,35,34,33,32,31,29,28,27,26,24,23,22,21,20,19,14,13,12,11,10,9,8,7,6,40,39,38,37,36,35,34,33,32,31,30,26,25,23,22,21,20,19,18,17,16,15,12,11,10,9,8,7,6,5,40,39,38,37,36,35,34,33,32,31,30,29,28,27,25,24,22,21,20,19,18,17,16,15,14,13,12,11,10,9,8,7,6,5,4,40,39,38,37,36,35,34,33,32,31,30,29,28,27,26,25,21,20,19,18,17,16,15,14,13,12,11,10,9,8,7,6,5,4,3,40,39,38,37,36,35,34,33,32,31,30,29,28,27,26,25,20,19,18,17,16,15,14,13,12,11,10,9,8,7,6,5,4,3,40,39,38,37,36,35,34,33,32,31,30,29,28,27,26,25,24,22,21,19,18,17,16,15,14,13,12,11,10,9,8,7,6,5,4,3,2,40,39,38,37,36,35,34,33,32,31,30,29,28,27,26,25,24,23,15,14,13,12,11,10,9,8,7,6,5,4,1,39,38,37,36,35,34,33,32,31,30,29,28,27,26,25,24,23,22,20,19,18,17,16,14,13,12,11,10,9,8,7,6,5,4,1,0,38,37,36,35,34,33,32,31,30,29,28,27,26,24,23,22,21,19,18,17,16,15,14,13,12,11,10,9,8,7,6,5,4,3,0,37,36,35,34,33,32,31,30,29,28,27,26,25,22,21,20,18,17,16,15,14,13,12,11,10,9,8,7,6,5,4,36,35,34,33,32,31,30,29,28,27,25,24,23,22,21,20,19,17,16,15,13,12,11,10,9,8,7,6,5,4,3,1,0,35,34,33,32,31,30,29,28,27,26,25,24,23,22,21,20,19,18,16,15,12,11,10,9,8,7,6,5,4,3,2,34,33,32,31,30,29,28,27,26,25,24,23,22,21,20,19,18,17,15,14,13,12,9,7,6,5,4,3,2,1,0,33,32,31,30,29,28,27,26,25,24,23,22,21,20,19,18,17,16,14,13,12,11,10,8,6,5,4,3,2,1,0,32,31,30,29,28,27,26,25,24,23,22,21,20,19,18,17,16,15,13,12,11,10,9,7,5,4,3,2,1,0,31,30,29,27,26,25,24,23,22,21,20,19,18,17,16,15,14,12,11,10,9,8,5,4,3,2,1,0,30,29,28,26,25,24,23,22,21,20,19,18,17,16,15,14,13,8,7,4,3,2,1,0,29,28,27,26,20,19,18,17,16,15,14,10,9,8,7,6,5,4,3,2,1,0,28,27,26,22,21,20,19,18,17,16,15,14,13,10,9,8,7,6,5,4,3,2,1,0,27,26,25,24,23,19,18,17,16,15,14,13,12,9,6,5,4,3,26,25,24,23,22,18,17,16,15,14,13,12,11,10,6,5,4,1,0,25,24,23,22,21,14,13,12,3,2,24,23,22,20,19,16,15,14,13,12,11,10,9,8,7,5,4,23,22,21,19,18,17,15,14,13,12,11,10,9,7,6,5,4,3,2,1,0,22,21,20,18,17,16,14,13,12,11,10,9,8,7,6,5,4,3,2,1,0,21,20,19,17,16,15,14,13,12,11,10,9,8,4,3,2,1,0,20,19,18,15,14,13,12,11,10,9,8,7,6,5,2,1,0],\"type\":\"scatter3d\"},{\"hovertemplate\":\"\\u003cb\\u003e%{hovertext}\\u003c\\u002fb\\u003e\\u003cbr\\u003e\\u003cbr\\u003ecolor=None\\u003cbr\\u003ex=%{x}\\u003cbr\\u003ey=%{y}\\u003cbr\\u003ez=%{z}\\u003cextra\\u003e\\u003c\\u002fextra\\u003e\",\"hovertext\":[900.0,2580.0,4260.0,5940.0,7620.0,9300.0,10980.0,12660.0,14340.0,16020.0,17700.0,19380.0,21060.0,22740.0,24420.0,26100.0,27780.0,29380.0,29420.0,29460.0,31020.0,32700.0,34380.0,36060.0,37740.0,39420.0,41100.0,42780.0,44460.0,46140.0,47820.0,49500.0,51180.0,52820.0,52860.0,54500.0],\"legendgroup\":\"None\",\"marker\":{\"color\":\"#3EA99F\",\"symbol\":\"circle\"},\"mode\":\"markers\",\"name\":\"None\",\"scene\":\"scene\",\"showlegend\":true,\"x\":[0,1,2,3,4,5,6,7,8,9,10,11,12,13,14,15,16,17,17,17,18,19,20,21,22,23,24,25,26,27,28,29,30,31,31,32],\"y\":[21,21,21,21,21,21,21,21,21,21,21,21,21,21,21,21,21,19,20,21,18,18,18,18,18,18,18,18,18,18,18,18,18,17,18,17],\"z\":[39,38,37,36,35,34,33,32,31,30,29,28,27,26,25,24,23,24,23,22,24,23,22,21,20,19,18,17,16,15,14,13,12,12,11,11],\"type\":\"scatter3d\"},{\"hovertemplate\":\"\\u003cb\\u003e%{hovertext}\\u003c\\u002fb\\u003e\\u003cbr\\u003e\\u003cbr\\u003ecolor=River\\u003cbr\\u003ex=%{x}\\u003cbr\\u003ey=%{y}\\u003cbr\\u003ez=%{z}\\u003cextra\\u003e\\u003c\\u002fextra\\u003e\",\"hovertext\":[1100.0,2780.0,2820.0,2860.0,9700.0,9980.0,10020.0,10740.0,10780.0,10820.0,11380.0,12580.0,14060.0,14180.0,14220.0,15740.0,15780.0,15900.0,17260.0,17460.0,17500.0,17540.0,17580.0,17620.0,17660.0,18940.0,18980.0,20660.0,20860.0,21820.0,22340.0,22540.0,23020.0,23140.0,24220.0,24700.0,24740.0,24780.0,24820.0,25900.0,25940.0,25980.0,26500.0,26540.0,27660.0,31060.0,31100.0,31140.0,31900.0,32820.0,33580.0,34420.0,34460.0,34500.0,34540.0,34580.0,34620.0,35260.0,36300.0,37540.0,39220.0,39260.0,40060.0,40180.0,40780.0,41740.0,43420.0,43460.0,44660.0,44700.0,44780.0,46380.0,46460.0,48060.0,48140.0,48900.0,49740.0,49780.0,50580.0,51220.0,51260.0,51300.0,51420.0,51460.0,52300.0,52340.0,52380.0,52420.0,52460.0,52780.0,53940.0,54020.0,54460.0,55700.0,55740.0,55780.0,56140.0,56180.0,56500.0,56540.0,56580.0,57380.0,57420.0,57460.0,57860.0,57900.0,58100.0,58140.0,59060.0,59100.0,59140.0,59180.0,59220.0,59260.0,59420.0,59460.0,59500.0,59540.0,59660.0,59700.0,59820.0,59860.0,60660.0,60780.0,60820.0,61380.0,61420.0,61460.0,61500.0,62340.0,62500.0,64020.0,64180.0,65700.0,66140.0,66180.0,66220.0,67380.0,67420.0,67900.0,67940.0],\"legendgroup\":\"River\",\"marker\":{\"color\":\"gray\",\"symbol\":\"circle\"},\"mode\":\"markers\",\"name\":\"River\",\"scene\":\"scene\",\"showlegend\":true,\"x\":[0,1,1,1,5,5,5,6,6,6,6,7,8,8,8,9,9,9,10,10,10,10,10,10,10,11,11,12,12,12,13,13,13,13,14,14,14,14,14,15,15,15,15,15,16,18,18,18,18,19,19,20,20,20,20,20,20,20,21,22,23,23,23,23,24,24,25,25,26,26,26,27,27,28,28,29,29,29,30,30,30,30,30,30,31,31,31,31,31,31,32,32,32,33,33,33,33,33,33,33,33,34,34,34,34,34,34,34,35,35,35,35,35,35,35,35,35,35,35,35,35,35,36,36,36,36,36,36,36,37,37,38,38,39,39,39,39,40,40,40,40],\"y\":[26,26,27,28,31,38,39,15,16,17,31,19,14,17,18,14,15,18,10,15,16,17,18,19,20,10,11,11,16,40,11,16,28,31,16,28,29,30,31,16,17,18,31,32,18,19,20,21,40,21,40,19,20,21,22,23,24,40,24,13,13,14,34,37,10,34,34,35,23,24,26,24,26,24,26,3,24,25,3,19,20,21,24,25,4,5,6,7,8,16,3,5,16,5,6,7,16,17,25,26,27,5,6,7,17,18,23,24,5,6,7,8,9,10,14,15,16,17,20,21,24,25,3,6,7,21,22,23,24,3,7,3,7,3,14,15,16,3,4,16,17],\"z\":[34,33,32,31,24,17,16,39,38,37,23,34,38,35,34,37,36,33,40,35,34,33,32,31,30,39,38,37,32,8,36,31,19,16,30,18,17,16,15,29,28,27,14,13,26,23,22,21,2,20,1,21,20,19,18,17,16,0,15,25,24,23,3,0,26,2,1,0,11,10,8,9,7,8,6,28,7,6,27,11,10,9,6,5,25,24,23,22,21,13,25,23,12,22,21,20,11,10,2,1,0,21,20,19,9,8,3,2,20,19,18,17,16,15,11,10,9,8,5,4,1,0,21,18,17,3,2,1,0,20,16,19,15,18,7,6,5,17,16,4,3],\"type\":\"scatter3d\"},{\"hovertemplate\":\"\\u003cb\\u003e%{hovertext}\\u003c\\u002fb\\u003e\\u003cbr\\u003e\\u003cbr\\u003ecolor=Hill\\u003cbr\\u003ex=%{x}\\u003cbr\\u003ey=%{y}\\u003cbr\\u003ez=%{z}\\u003cextra\\u003e\\u003c\\u002fextra\\u003e\",\"hovertext\":[1380.0,3060.0,4420.0,4700.0,4740.0,6100.0,6380.0,7780.0,7820.0,8380.0,9260.0,9420.0,9460.0,9500.0,10060.0,10900.0,10940.0,12500.0,12540.0,21300.0,21340.0,21380.0,21420.0,35140.0,35180.0,36780.0,36820.0,38460.0,38500.0,40100.0,40140.0,41260.0,42900.0,42940.0,53980.0,56260.0,56300.0,57940.0,59580.0,59620.0,61260.0,62820.0],\"legendgroup\":\"Hill\",\"marker\":{\"color\":\"maroon\",\"symbol\":\"circle\"},\"mode\":\"markers\",\"name\":\"Hill\",\"scene\":\"scene\",\"showlegend\":true,\"x\":[0,1,2,2,2,3,3,4,4,4,5,5,5,5,5,6,6,7,7,12,12,12,12,20,20,21,21,22,22,23,23,24,25,25,32,33,33,34,35,35,36,37],\"y\":[33,33,25,32,33,25,32,25,26,40,20,24,25,26,40,19,20,17,18,27,28,29,30,37,38,36,37,36,37,35,36,22,21,22,4,19,20,19,18,19,18,15],\"z\":[27,26,33,26,25,32,25,31,30,16,35,31,30,29,15,35,34,36,35,21,20,19,18,3,2,3,2,2,1,2,1,14,14,13,24,8,7,7,7,6,6,8],\"type\":\"scatter3d\"}],                        {\"template\":{\"data\":{\"histogram2dcontour\":[{\"type\":\"histogram2dcontour\",\"colorbar\":{\"outlinewidth\":0,\"ticks\":\"\"},\"colorscale\":[[0.0,\"#0d0887\"],[0.1111111111111111,\"#46039f\"],[0.2222222222222222,\"#7201a8\"],[0.3333333333333333,\"#9c179e\"],[0.4444444444444444,\"#bd3786\"],[0.5555555555555556,\"#d8576b\"],[0.6666666666666666,\"#ed7953\"],[0.7777777777777778,\"#fb9f3a\"],[0.8888888888888888,\"#fdca26\"],[1.0,\"#f0f921\"]]}],\"choropleth\":[{\"type\":\"choropleth\",\"colorbar\":{\"outlinewidth\":0,\"ticks\":\"\"}}],\"histogram2d\":[{\"type\":\"histogram2d\",\"colorbar\":{\"outlinewidth\":0,\"ticks\":\"\"},\"colorscale\":[[0.0,\"#0d0887\"],[0.1111111111111111,\"#46039f\"],[0.2222222222222222,\"#7201a8\"],[0.3333333333333333,\"#9c179e\"],[0.4444444444444444,\"#bd3786\"],[0.5555555555555556,\"#d8576b\"],[0.6666666666666666,\"#ed7953\"],[0.7777777777777778,\"#fb9f3a\"],[0.8888888888888888,\"#fdca26\"],[1.0,\"#f0f921\"]]}],\"heatmap\":[{\"type\":\"heatmap\",\"colorbar\":{\"outlinewidth\":0,\"ticks\":\"\"},\"colorscale\":[[0.0,\"#0d0887\"],[0.1111111111111111,\"#46039f\"],[0.2222222222222222,\"#7201a8\"],[0.3333333333333333,\"#9c179e\"],[0.4444444444444444,\"#bd3786\"],[0.5555555555555556,\"#d8576b\"],[0.6666666666666666,\"#ed7953\"],[0.7777777777777778,\"#fb9f3a\"],[0.8888888888888888,\"#fdca26\"],[1.0,\"#f0f921\"]]}],\"heatmapgl\":[{\"type\":\"heatmapgl\",\"colorbar\":{\"outlinewidth\":0,\"ticks\":\"\"},\"colorscale\":[[0.0,\"#0d0887\"],[0.1111111111111111,\"#46039f\"],[0.2222222222222222,\"#7201a8\"],[0.3333333333333333,\"#9c179e\"],[0.4444444444444444,\"#bd3786\"],[0.5555555555555556,\"#d8576b\"],[0.6666666666666666,\"#ed7953\"],[0.7777777777777778,\"#fb9f3a\"],[0.8888888888888888,\"#fdca26\"],[1.0,\"#f0f921\"]]}],\"contourcarpet\":[{\"type\":\"contourcarpet\",\"colorbar\":{\"outlinewidth\":0,\"ticks\":\"\"}}],\"contour\":[{\"type\":\"contour\",\"colorbar\":{\"outlinewidth\":0,\"ticks\":\"\"},\"colorscale\":[[0.0,\"#0d0887\"],[0.1111111111111111,\"#46039f\"],[0.2222222222222222,\"#7201a8\"],[0.3333333333333333,\"#9c179e\"],[0.4444444444444444,\"#bd3786\"],[0.5555555555555556,\"#d8576b\"],[0.6666666666666666,\"#ed7953\"],[0.7777777777777778,\"#fb9f3a\"],[0.8888888888888888,\"#fdca26\"],[1.0,\"#f0f921\"]]}],\"surface\":[{\"type\":\"surface\",\"colorbar\":{\"outlinewidth\":0,\"ticks\":\"\"},\"colorscale\":[[0.0,\"#0d0887\"],[0.1111111111111111,\"#46039f\"],[0.2222222222222222,\"#7201a8\"],[0.3333333333333333,\"#9c179e\"],[0.4444444444444444,\"#bd3786\"],[0.5555555555555556,\"#d8576b\"],[0.6666666666666666,\"#ed7953\"],[0.7777777777777778,\"#fb9f3a\"],[0.8888888888888888,\"#fdca26\"],[1.0,\"#f0f921\"]]}],\"mesh3d\":[{\"type\":\"mesh3d\",\"colorbar\":{\"outlinewidth\":0,\"ticks\":\"\"}}],\"scatter\":[{\"fillpattern\":{\"fillmode\":\"overlay\",\"size\":10,\"solidity\":0.2},\"type\":\"scatter\"}],\"parcoords\":[{\"type\":\"parcoords\",\"line\":{\"colorbar\":{\"outlinewidth\":0,\"ticks\":\"\"}}}],\"scatterpolargl\":[{\"type\":\"scatterpolargl\",\"marker\":{\"colorbar\":{\"outlinewidth\":0,\"ticks\":\"\"}}}],\"bar\":[{\"error_x\":{\"color\":\"#2a3f5f\"},\"error_y\":{\"color\":\"#2a3f5f\"},\"marker\":{\"line\":{\"color\":\"#E5ECF6\",\"width\":0.5},\"pattern\":{\"fillmode\":\"overlay\",\"size\":10,\"solidity\":0.2}},\"type\":\"bar\"}],\"scattergeo\":[{\"type\":\"scattergeo\",\"marker\":{\"colorbar\":{\"outlinewidth\":0,\"ticks\":\"\"}}}],\"scatterpolar\":[{\"type\":\"scatterpolar\",\"marker\":{\"colorbar\":{\"outlinewidth\":0,\"ticks\":\"\"}}}],\"histogram\":[{\"marker\":{\"pattern\":{\"fillmode\":\"overlay\",\"size\":10,\"solidity\":0.2}},\"type\":\"histogram\"}],\"scattergl\":[{\"type\":\"scattergl\",\"marker\":{\"colorbar\":{\"outlinewidth\":0,\"ticks\":\"\"}}}],\"scatter3d\":[{\"type\":\"scatter3d\",\"line\":{\"colorbar\":{\"outlinewidth\":0,\"ticks\":\"\"}},\"marker\":{\"colorbar\":{\"outlinewidth\":0,\"ticks\":\"\"}}}],\"scattermapbox\":[{\"type\":\"scattermapbox\",\"marker\":{\"colorbar\":{\"outlinewidth\":0,\"ticks\":\"\"}}}],\"scatterternary\":[{\"type\":\"scatterternary\",\"marker\":{\"colorbar\":{\"outlinewidth\":0,\"ticks\":\"\"}}}],\"scattercarpet\":[{\"type\":\"scattercarpet\",\"marker\":{\"colorbar\":{\"outlinewidth\":0,\"ticks\":\"\"}}}],\"carpet\":[{\"aaxis\":{\"endlinecolor\":\"#2a3f5f\",\"gridcolor\":\"white\",\"linecolor\":\"white\",\"minorgridcolor\":\"white\",\"startlinecolor\":\"#2a3f5f\"},\"baxis\":{\"endlinecolor\":\"#2a3f5f\",\"gridcolor\":\"white\",\"linecolor\":\"white\",\"minorgridcolor\":\"white\",\"startlinecolor\":\"#2a3f5f\"},\"type\":\"carpet\"}],\"table\":[{\"cells\":{\"fill\":{\"color\":\"#EBF0F8\"},\"line\":{\"color\":\"white\"}},\"header\":{\"fill\":{\"color\":\"#C8D4E3\"},\"line\":{\"color\":\"white\"}},\"type\":\"table\"}],\"barpolar\":[{\"marker\":{\"line\":{\"color\":\"#E5ECF6\",\"width\":0.5},\"pattern\":{\"fillmode\":\"overlay\",\"size\":10,\"solidity\":0.2}},\"type\":\"barpolar\"}],\"pie\":[{\"automargin\":true,\"type\":\"pie\"}]},\"layout\":{\"autotypenumbers\":\"strict\",\"colorway\":[\"#636efa\",\"#EF553B\",\"#00cc96\",\"#ab63fa\",\"#FFA15A\",\"#19d3f3\",\"#FF6692\",\"#B6E880\",\"#FF97FF\",\"#FECB52\"],\"font\":{\"color\":\"#2a3f5f\"},\"hovermode\":\"closest\",\"hoverlabel\":{\"align\":\"left\"},\"paper_bgcolor\":\"white\",\"plot_bgcolor\":\"#E5ECF6\",\"polar\":{\"bgcolor\":\"#E5ECF6\",\"angularaxis\":{\"gridcolor\":\"white\",\"linecolor\":\"white\",\"ticks\":\"\"},\"radialaxis\":{\"gridcolor\":\"white\",\"linecolor\":\"white\",\"ticks\":\"\"}},\"ternary\":{\"bgcolor\":\"#E5ECF6\",\"aaxis\":{\"gridcolor\":\"white\",\"linecolor\":\"white\",\"ticks\":\"\"},\"baxis\":{\"gridcolor\":\"white\",\"linecolor\":\"white\",\"ticks\":\"\"},\"caxis\":{\"gridcolor\":\"white\",\"linecolor\":\"white\",\"ticks\":\"\"}},\"coloraxis\":{\"colorbar\":{\"outlinewidth\":0,\"ticks\":\"\"}},\"colorscale\":{\"sequential\":[[0.0,\"#0d0887\"],[0.1111111111111111,\"#46039f\"],[0.2222222222222222,\"#7201a8\"],[0.3333333333333333,\"#9c179e\"],[0.4444444444444444,\"#bd3786\"],[0.5555555555555556,\"#d8576b\"],[0.6666666666666666,\"#ed7953\"],[0.7777777777777778,\"#fb9f3a\"],[0.8888888888888888,\"#fdca26\"],[1.0,\"#f0f921\"]],\"sequentialminus\":[[0.0,\"#0d0887\"],[0.1111111111111111,\"#46039f\"],[0.2222222222222222,\"#7201a8\"],[0.3333333333333333,\"#9c179e\"],[0.4444444444444444,\"#bd3786\"],[0.5555555555555556,\"#d8576b\"],[0.6666666666666666,\"#ed7953\"],[0.7777777777777778,\"#fb9f3a\"],[0.8888888888888888,\"#fdca26\"],[1.0,\"#f0f921\"]],\"diverging\":[[0,\"#8e0152\"],[0.1,\"#c51b7d\"],[0.2,\"#de77ae\"],[0.3,\"#f1b6da\"],[0.4,\"#fde0ef\"],[0.5,\"#f7f7f7\"],[0.6,\"#e6f5d0\"],[0.7,\"#b8e186\"],[0.8,\"#7fbc41\"],[0.9,\"#4d9221\"],[1,\"#276419\"]]},\"xaxis\":{\"gridcolor\":\"white\",\"linecolor\":\"white\",\"ticks\":\"\",\"title\":{\"standoff\":15},\"zerolinecolor\":\"white\",\"automargin\":true,\"zerolinewidth\":2},\"yaxis\":{\"gridcolor\":\"white\",\"linecolor\":\"white\",\"ticks\":\"\",\"title\":{\"standoff\":15},\"zerolinecolor\":\"white\",\"automargin\":true,\"zerolinewidth\":2},\"scene\":{\"xaxis\":{\"backgroundcolor\":\"#E5ECF6\",\"gridcolor\":\"white\",\"linecolor\":\"white\",\"showbackground\":true,\"ticks\":\"\",\"zerolinecolor\":\"white\",\"gridwidth\":2},\"yaxis\":{\"backgroundcolor\":\"#E5ECF6\",\"gridcolor\":\"white\",\"linecolor\":\"white\",\"showbackground\":true,\"ticks\":\"\",\"zerolinecolor\":\"white\",\"gridwidth\":2},\"zaxis\":{\"backgroundcolor\":\"#E5ECF6\",\"gridcolor\":\"white\",\"linecolor\":\"white\",\"showbackground\":true,\"ticks\":\"\",\"zerolinecolor\":\"white\",\"gridwidth\":2}},\"shapedefaults\":{\"line\":{\"color\":\"#2a3f5f\"}},\"annotationdefaults\":{\"arrowcolor\":\"#2a3f5f\",\"arrowhead\":0,\"arrowwidth\":1},\"geo\":{\"bgcolor\":\"white\",\"landcolor\":\"#E5ECF6\",\"subunitcolor\":\"white\",\"showland\":true,\"showlakes\":true,\"lakecolor\":\"white\"},\"title\":{\"x\":0.05},\"mapbox\":{\"style\":\"light\"}}},\"scene\":{\"domain\":{\"x\":[0.0,1.0],\"y\":[0.0,1.0]},\"xaxis\":{\"title\":{\"text\":\"x\"}},\"yaxis\":{\"title\":{\"text\":\"y\"}},\"zaxis\":{\"title\":{\"text\":\"z\"}}},\"legend\":{\"title\":{\"text\":\"color\"},\"tracegroupgap\":0},\"margin\":{\"t\":60}},                        {\"responsive\": true}                    ).then(function(){\n",
              "                            \n",
              "var gd = document.getElementById('8ee63476-d68d-4af0-9ddf-3d4bcb7064d7');\n",
              "var x = new MutationObserver(function (mutations, observer) {{\n",
              "        var display = window.getComputedStyle(gd).display;\n",
              "        if (!display || display === 'none') {{\n",
              "            console.log([gd, 'removed!']);\n",
              "            Plotly.purge(gd);\n",
              "            observer.disconnect();\n",
              "        }}\n",
              "}});\n",
              "\n",
              "// Listen for the removal of the full notebook cells\n",
              "var notebookContainer = gd.closest('#notebook-container');\n",
              "if (notebookContainer) {{\n",
              "    x.observe(notebookContainer, {childList: true});\n",
              "}}\n",
              "\n",
              "// Listen for the clearing of the current output cell\n",
              "var outputEl = gd.closest('.output');\n",
              "if (outputEl) {{\n",
              "    x.observe(outputEl, {childList: true});\n",
              "}}\n",
              "\n",
              "                        })                };                            </script>        </div>\n",
              "</body>\n",
              "</html>"
            ]
          },
          "metadata": {}
        }
      ]
    },
    {
      "cell_type": "markdown",
      "source": [
        "### Жадный алгоритм (1 балл)"
      ],
      "metadata": {
        "id": "x6xiJ0L8dltB"
      }
    },
    {
      "cell_type": "markdown",
      "source": [
        "Раз бэктрекингом решить не получилось, попробуем сформулировать жадное решение\n",
        "\n",
        "На самом деле, мы уже начали это делать в бэктрекинге (ввели ограничение на уменьшение расстояния)"
      ],
      "metadata": {
        "id": "ZXn5rRotdocK"
      }
    },
    {
      "cell_type": "markdown",
      "source": [
        "Попробуем для начала такое решение:\n",
        "\n",
        "На каждом шаге будем выбирать такое решение, которое уменьшает расстояние м-ду текущей и конечной точками"
      ],
      "metadata": {
        "id": "R9TIc_Kvd_rG"
      }
    },
    {
      "cell_type": "code",
      "source": [
        "greedy_path = [back_from_idx]\n",
        "curr_idx = back_from_idx\n",
        "init_dist = count_dist(back_from_idx, back_to_idx)\n",
        "\n",
        "curr_dist = init_dist\n",
        "curr_data = hills_map[curr_idx]\n",
        "coords = np.array(curr_data[:3])\n",
        "\n",
        "while curr_dist > 0:\n",
        "    # Код тут\n",
        "    for move in ALL_MOVEMENTS:\n",
        "        n_coords = coords + move\n",
        "\n",
        "        n_idx = get_idx(n_coords)\n",
        "\n",
        "        if n_idx in hexagon_idxs and hills_map[n_idx][-1] not in [RIVER_TYPE, HILLS_TYPE] and count_dist(n_idx, back_to_idx) <= curr_dist:\n",
        "            curr_dist = count_dist(n_idx, back_to_idx)\n",
        "            curr_idx = n_idx\n",
        "            n_data = hills_map[curr_idx]\n",
        "            coords = np.array(n_data[:3])\n",
        "            break\n",
        "    greedy_path.append(curr_idx)"
      ],
      "metadata": {
        "id": "6lCRRTP1eSE5",
        "outputId": "1e9acc86-96d3-4e1e-ae9c-5e33e4a68a81",
        "colab": {
          "base_uri": "https://localhost:8080/",
          "height": 228
        }
      },
      "execution_count": 66,
      "outputs": [
        {
          "output_type": "error",
          "ename": "KeyboardInterrupt",
          "evalue": "",
          "traceback": [
            "\u001b[0;31m---------------------------------------------------------------------------\u001b[0m",
            "\u001b[0;31mKeyboardInterrupt\u001b[0m                         Traceback (most recent call last)",
            "\u001b[0;32m<ipython-input-66-333dcf8aad8b>\u001b[0m in \u001b[0;36m<cell line: 9>\u001b[0;34m()\u001b[0m\n\u001b[1;32m     12\u001b[0m         \u001b[0mn_coords\u001b[0m \u001b[0;34m=\u001b[0m \u001b[0mcoords\u001b[0m \u001b[0;34m+\u001b[0m \u001b[0mmove\u001b[0m\u001b[0;34m\u001b[0m\u001b[0;34m\u001b[0m\u001b[0m\n\u001b[1;32m     13\u001b[0m \u001b[0;34m\u001b[0m\u001b[0m\n\u001b[0;32m---> 14\u001b[0;31m         \u001b[0mn_idx\u001b[0m \u001b[0;34m=\u001b[0m \u001b[0mget_idx\u001b[0m\u001b[0;34m(\u001b[0m\u001b[0mn_coords\u001b[0m\u001b[0;34m)\u001b[0m\u001b[0;34m\u001b[0m\u001b[0;34m\u001b[0m\u001b[0m\n\u001b[0m\u001b[1;32m     15\u001b[0m \u001b[0;34m\u001b[0m\u001b[0m\n\u001b[1;32m     16\u001b[0m         \u001b[0;32mif\u001b[0m \u001b[0mn_idx\u001b[0m \u001b[0;32min\u001b[0m \u001b[0mhexagon_idxs\u001b[0m \u001b[0;32mand\u001b[0m \u001b[0mhills_map\u001b[0m\u001b[0;34m[\u001b[0m\u001b[0mn_idx\u001b[0m\u001b[0;34m]\u001b[0m\u001b[0;34m[\u001b[0m\u001b[0;34m-\u001b[0m\u001b[0;36m1\u001b[0m\u001b[0;34m]\u001b[0m \u001b[0;32mnot\u001b[0m \u001b[0;32min\u001b[0m \u001b[0;34m[\u001b[0m\u001b[0mRIVER_TYPE\u001b[0m\u001b[0;34m,\u001b[0m \u001b[0mHILLS_TYPE\u001b[0m\u001b[0;34m]\u001b[0m \u001b[0;32mand\u001b[0m \u001b[0mcount_dist\u001b[0m\u001b[0;34m(\u001b[0m\u001b[0mn_idx\u001b[0m\u001b[0;34m,\u001b[0m \u001b[0mback_to_idx\u001b[0m\u001b[0;34m)\u001b[0m \u001b[0;34m<=\u001b[0m \u001b[0mcurr_dist\u001b[0m\u001b[0;34m:\u001b[0m\u001b[0;34m\u001b[0m\u001b[0;34m\u001b[0m\u001b[0m\n",
            "\u001b[0;31mKeyboardInterrupt\u001b[0m: "
          ]
        }
      ]
    },
    {
      "cell_type": "code",
      "source": [
        "greedy_path"
      ],
      "metadata": {
        "colab": {
          "base_uri": "https://localhost:8080/"
        },
        "id": "Jef_RuPSmKtl",
        "outputId": "a6e403e4-8a58-4cb3-a355-63aadddeb731"
      },
      "execution_count": null,
      "outputs": [
        {
          "output_type": "execute_result",
          "data": {
            "text/plain": [
              "[52940,\n",
              " 54580,\n",
              " 54540,\n",
              " 52860,\n",
              " 54500,\n",
              " 54460,\n",
              " 52780,\n",
              " 52740,\n",
              " 51060,\n",
              " 51020,\n",
              " 49340,\n",
              " 49300,\n",
              " 47620,\n",
              " 47580,\n",
              " 45900,\n",
              " 45860]"
            ]
          },
          "metadata": {},
          "execution_count": 48
        }
      ]
    },
    {
      "cell_type": "code",
      "source": [
        "visualize_solve(greedy_path)"
      ],
      "metadata": {
        "colab": {
          "base_uri": "https://localhost:8080/",
          "height": 542
        },
        "id": "9izUIzsigHFe",
        "outputId": "a89bb1d0-1b05-4537-ee0f-34f2d5cdabe2"
      },
      "execution_count": null,
      "outputs": [
        {
          "output_type": "display_data",
          "data": {
            "text/html": [
              "<html>\n",
              "<head><meta charset=\"utf-8\" /></head>\n",
              "<body>\n",
              "    <div>            <script src=\"https://cdnjs.cloudflare.com/ajax/libs/mathjax/2.7.5/MathJax.js?config=TeX-AMS-MML_SVG\"></script><script type=\"text/javascript\">if (window.MathJax && window.MathJax.Hub && window.MathJax.Hub.Config) {window.MathJax.Hub.Config({SVG: {font: \"STIX-Web\"}});}</script>                <script type=\"text/javascript\">window.PlotlyConfig = {MathJaxConfig: 'local'};</script>\n",
              "        <script charset=\"utf-8\" src=\"https://cdn.plot.ly/plotly-2.24.1.min.js\"></script>                <div id=\"176293e1-20ad-4a18-8e40-07beb544388e\" class=\"plotly-graph-div\" style=\"height:525px; width:100%;\"></div>            <script type=\"text/javascript\">                                    window.PLOTLYENV=window.PLOTLYENV || {};                                    if (document.getElementById(\"176293e1-20ad-4a18-8e40-07beb544388e\")) {                    Plotly.newPlot(                        \"176293e1-20ad-4a18-8e40-07beb544388e\",                        [{\"hovertemplate\":\"\\u003cb\\u003e%{hovertext}\\u003c\\u002fb\\u003e\\u003cbr\\u003e\\u003cbr\\u003ecolor=Plain\\u003cbr\\u003ex=%{x}\\u003cbr\\u003ey=%{y}\\u003cbr\\u003ez=%{z}\\u003cextra\\u003e\\u003c\\u002fextra\\u003e\",\"hovertext\":[860.0,900.0,940.0,980.0,1020.0,1060.0,1100.0,1140.0,1180.0,1220.0,1260.0,1300.0,1340.0,1380.0,1420.0,1460.0,1500.0,1540.0,1580.0,1620.0,1660.0,2540.0,2580.0,2620.0,2660.0,2700.0,2740.0,2780.0,2820.0,2860.0,2900.0,2940.0,2980.0,3060.0,3100.0,3140.0,3180.0,3220.0,3260.0,3300.0,3340.0,4140.0,4180.0,4220.0,4260.0,4300.0,4340.0,4380.0,4420.0,4460.0,4500.0,4540.0,4580.0,4620.0,4660.0,4780.0,4820.0,4860.0,4900.0,4940.0,4980.0,5020.0,5780.0,5820.0,5860.0,5900.0,5940.0,5980.0,6020.0,6060.0,6100.0,6140.0,6180.0,6220.0,6260.0,6300.0,6340.0,6380.0,6460.0,6500.0,6540.0,6580.0,6660.0,6700.0,7420.0,7500.0,7540.0,7580.0,7620.0,7660.0,7700.0,7740.0,7780.0,7820.0,7860.0,7900.0,7940.0,7980.0,8020.0,8060.0,8140.0,8180.0,8220.0,8260.0,8340.0,8380.0,9060.0,9100.0,9140.0,9180.0,9220.0,9260.0,9340.0,9380.0,9420.0,9460.0,9500.0,9540.0,9580.0,9620.0,9660.0,9700.0,9740.0,9820.0,9860.0,9900.0,9940.0,9980.0,10020.0,10060.0,10700.0,10740.0,10780.0,10820.0,10860.0,10900.0,10940.0,11060.0,11100.0,11140.0,11180.0,11220.0,11260.0,11300.0,11340.0,11380.0,11420.0,11460.0,11620.0,11660.0,11700.0,11740.0,12340.0,12380.0,12420.0,12460.0,12500.0,12540.0,12580.0,12620.0,12660.0,12740.0,12780.0,12820.0,12860.0,12900.0,12940.0,12980.0,13020.0,13060.0,13100.0,13140.0,13340.0,13380.0,13420.0,13980.0,14020.0,14060.0,14100.0,14140.0,14180.0,14220.0,14260.0,14300.0,14340.0,14460.0,14500.0,14540.0,14580.0,14620.0,14660.0,14700.0,14740.0,14780.0,14820.0,14860.0,14900.0,14940.0,15020.0,15060.0,15100.0,15620.0,15660.0,15700.0,15740.0,15780.0,15820.0,15860.0,15900.0,15940.0,15980.0,16020.0,16060.0,16100.0,16220.0,16340.0,16380.0,16420.0,16460.0,16500.0,16540.0,16580.0,16620.0,16700.0,16740.0,16780.0,17260.0,17300.0,17340.0,17380.0,17420.0,17460.0,17500.0,17540.0,17660.0,17700.0,17740.0,17900.0,17940.0,18020.0,18060.0,18140.0,18180.0,18220.0,18260.0,18300.0,18340.0,18380.0,18420.0,18460.0,18900.0,18940.0,18980.0,19020.0,19060.0,19100.0,19140.0,19180.0,19340.0,19380.0,19420.0,19540.0,19580.0,19700.0,19740.0,19860.0,19900.0,19940.0,19980.0,20020.0,20060.0,20100.0,20140.0,20540.0,20580.0,20620.0,20660.0,20700.0,20740.0,20780.0,20820.0,20860.0,20980.0,21020.0,21060.0,21100.0,21140.0,21180.0,21220.0,21380.0,21420.0,21460.0,21500.0,21540.0,21580.0,21620.0,21660.0,21700.0,21740.0,21780.0,21820.0,22180.0,22220.0,22260.0,22300.0,22340.0,22380.0,22420.0,22460.0,22500.0,22540.0,22580.0,22620.0,22660.0,22700.0,22740.0,22780.0,22820.0,22860.0,22900.0,23020.0,23060.0,23100.0,23140.0,23180.0,23220.0,23260.0,23300.0,23340.0,23380.0,23420.0,23460.0,23500.0,23820.0,23860.0,23940.0,23980.0,24020.0,24060.0,24100.0,24140.0,24180.0,24220.0,24260.0,24300.0,24340.0,24380.0,24420.0,24460.0,24500.0,24540.0,24580.0,24620.0,24660.0,24700.0,24740.0,24780.0,24820.0,24860.0,24900.0,24940.0,24980.0,25020.0,25060.0,25100.0,25140.0,25460.0,25500.0,25540.0,25620.0,25660.0,25700.0,25740.0,25780.0,25820.0,25860.0,25900.0,25940.0,25980.0,26020.0,26060.0,26100.0,26140.0,26180.0,26220.0,26260.0,26300.0,26340.0,26380.0,26420.0,26460.0,26500.0,26540.0,26580.0,26620.0,26660.0,26700.0,26740.0,26780.0,27100.0,27140.0,27180.0,27220.0,27300.0,27340.0,27380.0,27420.0,27460.0,27500.0,27540.0,27580.0,27620.0,27660.0,27700.0,27740.0,27780.0,27820.0,27860.0,27900.0,27940.0,27980.0,28020.0,28060.0,28100.0,28140.0,28180.0,28220.0,28260.0,28300.0,28340.0,28380.0,28420.0,28460.0,28740.0,28780.0,28820.0,28860.0,28900.0,29060.0,29100.0,29140.0,29180.0,29220.0,29260.0,29300.0,29380.0,29500.0,29540.0,29580.0,29620.0,29660.0,29700.0,29740.0,29780.0,29820.0,29860.0,29900.0,29940.0,29980.0,30020.0,30060.0,30100.0,30140.0,30180.0,30220.0,30380.0,30420.0,30460.0,30500.0,30540.0,30580.0,30620.0,30660.0,30700.0,30740.0,30780.0,30820.0,30860.0,30900.0,30940.0,30980.0,31220.0,31260.0,31300.0,31340.0,31380.0,31420.0,31460.0,31500.0,31540.0,31580.0,31660.0,31860.0,31900.0,32020.0,32060.0,32100.0,32140.0,32180.0,32220.0,32260.0,32300.0,32340.0,32380.0,32420.0,32460.0,32500.0,32540.0,32580.0,32620.0,32660.0,32700.0,32740.0,32780.0,32820.0,32860.0,32900.0,32940.0,32980.0,33020.0,33060.0,33100.0,33140.0,33180.0,33220.0,33260.0,33460.0,33580.0,33660.0,33700.0,33740.0,33780.0,33820.0,33860.0,33900.0,33940.0,33980.0,34020.0,34060.0,34100.0,34140.0,34180.0,34220.0,34260.0,34300.0,34340.0,34380.0,34420.0,34460.0,34500.0,34540.0,34580.0,34620.0,34660.0,34700.0,34740.0,34780.0,34820.0,34860.0,34900.0,34940.0,34980.0,35020.0,35060.0,35180.0,35220.0,35260.0,35340.0,35380.0,35420.0,35460.0,35500.0,35540.0,35580.0,35620.0,35660.0,35700.0,35740.0,35780.0,35820.0,35860.0,35900.0,35940.0,35980.0,36020.0,36060.0,36100.0,36140.0,36180.0,36220.0,36260.0,36300.0,36340.0,36380.0,36420.0,36540.0,36580.0,36620.0,36660.0,36700.0,36780.0,36900.0,37020.0,37060.0,37100.0,37140.0,37180.0,37220.0,37260.0,37300.0,37380.0,37420.0,37500.0,37540.0,37580.0,37620.0,37660.0,37700.0,37740.0,37780.0,37820.0,37860.0,37900.0,37940.0,37980.0,38020.0,38060.0,38220.0,38260.0,38300.0,38340.0,38380.0,38500.0,38700.0,38740.0,38780.0,38820.0,38860.0,38900.0,38940.0,38980.0,39020.0,39060.0,39100.0,39140.0,39180.0,39220.0,39260.0,39300.0,39340.0,39420.0,39460.0,39500.0,39540.0,39580.0,39700.0,39740.0,39860.0,39900.0,39940.0,39980.0,40020.0,40060.0,40100.0,40180.0,40380.0,40460.0,40500.0,40540.0,40580.0,40620.0,40660.0,40740.0,40860.0,40900.0,40940.0,40980.0,41020.0,41100.0,41140.0,41180.0,41220.0,41380.0,41420.0,41460.0,41500.0,41540.0,41580.0,41620.0,41660.0,41700.0,41740.0,41780.0,42140.0,42180.0,42220.0,42260.0,42300.0,42340.0,42380.0,42540.0,42580.0,42620.0,42660.0,42700.0,42820.0,42860.0,42900.0,43020.0,43060.0,43140.0,43180.0,43220.0,43260.0,43300.0,43340.0,43380.0,43420.0,43780.0,43900.0,43940.0,43980.0,44020.0,44060.0,44180.0,44220.0,44260.0,44300.0,44340.0,44380.0,44420.0,44460.0,44620.0,44660.0,44700.0,44740.0,44820.0,44860.0,44900.0,44940.0,44980.0,45020.0,45060.0,45100.0,45580.0,45620.0,45660.0,45700.0,45740.0,45780.0,45820.0,45940.0,45980.0,46020.0,46060.0,46100.0,46140.0,46180.0,46220.0,46380.0,46420.0,46500.0,46540.0,46580.0,46620.0,46660.0,46700.0,46740.0,47100.0,47220.0,47260.0,47300.0,47340.0,47380.0,47420.0,47460.0,47500.0,47540.0,47660.0,47700.0,47740.0,47780.0,47820.0,47860.0,47900.0,47940.0,47980.0,48020.0,48060.0,48100.0,48140.0,48180.0,48220.0,48260.0,48300.0,48340.0,48380.0,48780.0,48820.0,48860.0,48900.0,48940.0,48980.0,49020.0,49060.0,49100.0,49140.0,49180.0,49220.0,49380.0,49420.0,49460.0,49500.0,49540.0,49580.0,49620.0,49660.0,49700.0,49740.0,49780.0,49820.0,49860.0,49900.0,49940.0,49980.0,50020.0,50460.0,50500.0,50540.0,50580.0,50620.0,50660.0,50700.0,50740.0,50780.0,50820.0,50980.0,51100.0,51140.0,51180.0,51220.0,51300.0,51340.0,51380.0,51420.0,51460.0,51500.0,51540.0,51580.0,51620.0,51660.0,52140.0,52180.0,52220.0,52260.0,52300.0,52340.0,52380.0,52420.0,52460.0,52660.0,52700.0,52820.0,52980.0,53020.0,53060.0,53100.0,53140.0,53180.0,53220.0,53260.0,53300.0,53820.0,53860.0,53900.0,53940.0,53980.0,54020.0,54060.0,54100.0,54340.0,54380.0,54420.0,54660.0,54700.0,54740.0,54780.0,54820.0,54860.0,54900.0,54940.0,55500.0,55540.0,55580.0,55620.0,55660.0,55700.0,55740.0,55780.0,55820.0,55860.0,56060.0,56100.0,56140.0,56180.0,56220.0,56260.0,56300.0,56340.0,56380.0,56420.0,56460.0,56500.0,56540.0,56580.0,57180.0,57220.0,57260.0,57300.0,57340.0,57380.0,57420.0,57460.0,57500.0,57540.0,57740.0,57780.0,57820.0,57860.0,57900.0,57940.0,57980.0,58020.0,58060.0,58100.0,58140.0,58180.0,58220.0,58860.0,58900.0,58940.0,59060.0,59100.0,59140.0,59180.0,59220.0,59460.0,59500.0,59540.0,59580.0,59620.0,59660.0,59700.0,59740.0,59780.0,59820.0,59860.0,60540.0,60580.0,60620.0,60660.0,60780.0,60820.0,60860.0,60900.0,60940.0,60980.0,61140.0,61180.0,61220.0,61260.0,61300.0,61340.0,61380.0,61420.0,61460.0,61500.0,62220.0,62260.0,62300.0,62340.0,62380.0,62420.0,62460.0,62500.0,62540.0,62580.0,62620.0,62660.0,62700.0,62740.0,62780.0,62820.0,62860.0,62900.0,62940.0,62980.0,63020.0,63060.0,63100.0,63140.0,63900.0,63940.0,63980.0,64020.0,64060.0,64100.0,64140.0,64180.0,64220.0,64260.0,64300.0,64340.0,64380.0,64420.0,64460.0,64500.0,64540.0,64580.0,64620.0,64660.0,64740.0,64780.0,65580.0,65620.0,65660.0,65700.0,65740.0,65780.0,65820.0,65860.0,65900.0,65940.0,65980.0,66020.0,66060.0,66100.0,66140.0,66180.0,66220.0,66260.0,66300.0,66340.0,66420.0,67260.0,67300.0,67340.0,67380.0,67420.0,67460.0,67500.0,67540.0,67580.0,67620.0,67660.0,67700.0,67740.0,67780.0,67820.0,67860.0,67900.0,67940.0,67980.0,68020.0],\"legendgroup\":\"Plain\",\"marker\":{\"color\":\"#387C44\",\"symbol\":\"circle\"},\"mode\":\"markers\",\"name\":\"Plain\",\"scene\":\"scene\",\"showlegend\":true,\"x\":[0,0,0,0,0,0,0,0,0,0,0,0,0,0,0,0,0,0,0,0,0,1,1,1,1,1,1,1,1,1,1,1,1,1,1,1,1,1,1,1,1,2,2,2,2,2,2,2,2,2,2,2,2,2,2,2,2,2,2,2,2,2,3,3,3,3,3,3,3,3,3,3,3,3,3,3,3,3,3,3,3,3,3,3,4,4,4,4,4,4,4,4,4,4,4,4,4,4,4,4,4,4,4,4,4,4,5,5,5,5,5,5,5,5,5,5,5,5,5,5,5,5,5,5,5,5,5,5,5,5,6,6,6,6,6,6,6,6,6,6,6,6,6,6,6,6,6,6,6,6,6,6,7,7,7,7,7,7,7,7,7,7,7,7,7,7,7,7,7,7,7,7,7,7,7,8,8,8,8,8,8,8,8,8,8,8,8,8,8,8,8,8,8,8,8,8,8,8,8,8,8,9,9,9,9,9,9,9,9,9,9,9,9,9,9,9,9,9,9,9,9,9,9,9,9,9,10,10,10,10,10,10,10,10,10,10,10,10,10,10,10,10,10,10,10,10,10,10,10,10,11,11,11,11,11,11,11,11,11,11,11,11,11,11,11,11,11,11,11,11,11,11,11,12,12,12,12,12,12,12,12,12,12,12,12,12,12,12,12,12,12,12,12,12,12,12,12,12,12,12,12,13,13,13,13,13,13,13,13,13,13,13,13,13,13,13,13,13,13,13,13,13,13,13,13,13,13,13,13,13,13,13,13,14,14,14,14,14,14,14,14,14,14,14,14,14,14,14,14,14,14,14,14,14,14,14,14,14,14,14,14,14,14,14,14,14,15,15,15,15,15,15,15,15,15,15,15,15,15,15,15,15,15,15,15,15,15,15,15,15,15,15,15,15,15,15,15,15,15,16,16,16,16,16,16,16,16,16,16,16,16,16,16,16,16,16,16,16,16,16,16,16,16,16,16,16,16,16,16,16,16,16,16,17,17,17,17,17,17,17,17,17,17,17,17,17,17,17,17,17,17,17,17,17,17,17,17,17,17,17,17,17,17,17,17,18,18,18,18,18,18,18,18,18,18,18,18,18,18,18,18,18,18,18,18,18,18,18,18,18,18,18,18,18,19,19,19,19,19,19,19,19,19,19,19,19,19,19,19,19,19,19,19,19,19,19,19,19,19,19,19,19,19,19,19,19,19,19,20,20,20,20,20,20,20,20,20,20,20,20,20,20,20,20,20,20,20,20,20,20,20,20,20,20,20,20,20,20,20,20,20,20,20,20,20,20,20,21,21,21,21,21,21,21,21,21,21,21,21,21,21,21,21,21,21,21,21,21,21,21,21,21,21,21,21,21,21,21,21,21,21,21,22,22,22,22,22,22,22,22,22,22,22,22,22,22,22,22,22,22,22,22,22,22,22,22,22,22,22,22,22,22,22,23,23,23,23,23,23,23,23,23,23,23,23,23,23,23,23,23,23,23,23,23,23,23,23,23,23,23,23,23,23,23,23,24,24,24,24,24,24,24,24,24,24,24,24,24,24,24,24,24,24,24,24,24,24,24,24,24,24,24,24,25,25,25,25,25,25,25,25,25,25,25,25,25,25,25,25,25,25,25,25,25,25,25,25,25,26,26,26,26,26,26,26,26,26,26,26,26,26,26,26,26,26,26,26,26,26,26,26,26,26,26,27,27,27,27,27,27,27,27,27,27,27,27,27,27,27,27,27,27,27,27,27,27,27,27,28,28,28,28,28,28,28,28,28,28,28,28,28,28,28,28,28,28,28,28,28,28,28,28,28,28,28,28,28,29,29,29,29,29,29,29,29,29,29,29,29,29,29,29,29,29,29,29,29,29,29,29,29,29,29,29,29,29,30,30,30,30,30,30,30,30,30,30,30,30,30,30,30,30,30,30,30,30,30,30,30,30,30,31,31,31,31,31,31,31,31,31,31,31,31,31,31,31,31,31,31,31,31,31,32,32,32,32,32,32,32,32,32,32,32,32,32,32,32,32,32,32,32,33,33,33,33,33,33,33,33,33,33,33,33,33,33,33,33,33,33,33,33,33,33,33,33,34,34,34,34,34,34,34,34,34,34,34,34,34,34,34,34,34,34,34,34,34,34,34,35,35,35,35,35,35,35,35,35,35,35,35,35,35,35,35,35,35,35,36,36,36,36,36,36,36,36,36,36,36,36,36,36,36,36,36,36,36,36,37,37,37,37,37,37,37,37,37,37,37,37,37,37,37,37,37,37,37,37,37,37,37,37,38,38,38,38,38,38,38,38,38,38,38,38,38,38,38,38,38,38,38,38,38,38,39,39,39,39,39,39,39,39,39,39,39,39,39,39,39,39,39,39,39,39,39,40,40,40,40,40,40,40,40,40,40,40,40,40,40,40,40,40,40,40,40],\"y\":[20,21,22,23,24,25,26,27,28,29,30,31,32,33,34,35,36,37,38,39,40,20,21,22,23,24,25,26,27,28,29,30,31,33,34,35,36,37,38,39,40,18,19,20,21,22,23,24,25,26,27,28,29,30,31,34,35,36,37,38,39,40,17,18,19,20,21,22,23,24,25,26,27,28,29,30,31,32,34,35,36,37,39,40,16,18,19,20,21,22,23,24,25,26,27,28,29,30,31,32,34,35,36,37,39,40,15,16,17,18,19,20,22,23,24,25,26,27,28,29,30,31,32,34,35,36,37,38,39,40,14,15,16,17,18,19,20,23,24,25,26,27,28,29,30,31,32,33,37,38,39,40,13,14,15,16,17,18,19,20,21,23,24,25,26,27,28,29,30,31,32,33,38,39,40,12,13,14,15,16,17,18,19,20,21,24,25,26,27,28,29,30,31,32,33,34,35,36,38,39,40,11,12,13,14,15,16,17,18,19,20,21,22,23,26,29,30,31,32,33,34,35,36,38,39,40,10,11,12,13,14,15,16,17,20,21,22,26,27,29,30,32,33,34,35,36,37,38,39,40,9,10,11,12,13,14,15,16,20,21,22,25,26,29,30,33,34,35,36,37,38,39,40,8,9,10,11,12,13,14,15,16,19,20,21,22,23,24,25,29,30,31,32,33,34,35,36,37,38,39,40,7,8,9,10,11,12,13,14,15,16,17,18,19,20,21,22,23,24,25,28,29,30,31,32,33,34,35,36,37,38,39,40,6,7,9,10,11,12,13,14,15,16,17,18,19,20,21,22,23,24,25,26,27,28,29,30,31,32,33,34,35,36,37,38,39,5,6,7,9,10,11,12,13,14,15,16,17,18,19,20,21,22,23,24,25,26,27,28,29,30,31,32,33,34,35,36,37,38,4,5,6,7,9,10,11,12,13,14,15,16,17,18,19,20,21,22,23,24,25,26,27,28,29,30,31,32,33,34,35,36,37,38,3,4,5,6,7,11,12,13,14,15,16,17,19,22,23,24,25,26,27,28,29,30,31,32,33,34,35,36,37,38,39,40,2,3,4,5,6,7,8,9,10,11,12,13,14,15,16,17,23,24,25,26,27,28,29,30,31,32,34,39,40,1,2,3,4,5,6,7,8,9,10,11,12,13,14,15,16,17,18,19,20,21,22,23,24,25,26,27,28,29,30,31,32,37,40,0,1,2,3,4,5,6,7,8,9,10,11,12,13,14,15,16,17,18,19,20,21,22,23,24,25,26,27,28,29,30,31,32,33,34,35,38,39,40,0,1,2,3,4,5,6,7,8,9,10,11,12,13,14,15,16,17,18,19,20,21,22,23,24,25,26,27,30,31,32,33,34,36,39,0,1,2,3,4,5,6,7,9,10,12,13,14,15,16,17,18,19,20,21,22,23,24,25,26,30,31,32,33,34,37,0,1,2,3,4,5,6,7,8,9,10,11,12,13,14,15,16,18,19,20,21,22,25,26,29,30,31,32,33,34,35,37,0,2,3,4,5,6,7,9,12,13,14,15,16,18,19,20,21,25,26,27,28,29,30,31,32,33,34,35,2,3,4,5,6,7,8,12,13,14,15,16,19,20,21,24,25,27,28,29,30,31,32,33,34,1,4,5,6,7,8,11,12,13,14,15,16,17,18,22,23,24,25,27,28,29,30,31,32,33,34,4,5,6,7,8,9,10,13,14,15,16,17,18,19,20,24,25,27,28,29,30,31,32,33,0,3,4,5,6,7,8,9,10,11,14,15,16,17,18,19,20,21,22,23,24,25,26,27,28,29,30,31,32,0,1,2,3,4,5,6,7,8,9,10,11,15,16,17,18,19,20,21,22,23,24,25,26,27,28,29,30,31,0,1,2,3,4,5,6,7,8,9,13,16,17,18,19,21,22,23,24,25,26,27,28,29,30,0,1,2,3,4,5,6,7,8,13,14,17,21,22,23,24,25,26,27,28,29,0,1,2,3,4,5,6,7,13,14,15,21,22,23,24,25,26,27,28,0,1,2,3,4,5,6,7,8,9,14,15,16,17,18,19,20,21,22,23,24,25,26,27,0,1,2,3,4,5,6,7,8,9,14,15,16,17,18,19,20,21,22,23,24,25,26,0,1,2,5,6,7,8,9,15,16,17,18,19,20,21,22,23,24,25,0,1,2,3,6,7,8,9,10,11,15,16,17,18,19,20,21,22,23,24,0,1,2,3,4,5,6,7,8,9,10,11,12,13,14,15,16,17,18,19,20,21,22,23,0,1,2,3,4,5,6,7,8,9,10,11,12,13,14,15,16,17,18,19,21,22,0,1,2,3,4,5,6,7,8,9,10,11,12,13,14,15,16,17,18,19,21,0,1,2,3,4,5,6,7,8,9,10,11,12,13,14,15,16,17,18,19],\"z\":[40,39,38,37,36,35,34,33,32,31,30,29,28,27,26,25,24,23,22,21,20,39,38,37,36,35,34,33,32,31,30,29,28,26,25,24,23,22,21,20,19,40,39,38,37,36,35,34,33,32,31,30,29,28,27,24,23,22,21,20,19,18,40,39,38,37,36,35,34,33,32,31,30,29,28,27,26,25,23,22,21,20,18,17,40,38,37,36,35,34,33,32,31,30,29,28,27,26,25,24,22,21,20,19,17,16,40,39,38,37,36,35,33,32,31,30,29,28,27,26,25,24,23,21,20,19,18,17,16,15,40,39,38,37,36,35,34,31,30,29,28,27,26,25,24,23,22,21,17,16,15,14,40,39,38,37,36,35,34,33,32,30,29,28,27,26,25,24,23,22,21,20,15,14,13,40,39,38,37,36,35,34,33,32,31,28,27,26,25,24,23,22,21,20,19,18,17,16,14,13,12,40,39,38,37,36,35,34,33,32,31,30,29,28,25,22,21,20,19,18,17,16,15,13,12,11,40,39,38,37,36,35,34,33,30,29,28,24,23,21,20,18,17,16,15,14,13,12,11,10,40,39,38,37,36,35,34,33,29,28,27,24,23,20,19,16,15,14,13,12,11,10,9,40,39,38,37,36,35,34,33,32,29,28,27,26,25,24,23,19,18,17,16,15,14,13,12,11,10,9,8,40,39,38,37,36,35,34,33,32,31,30,29,28,27,26,25,24,23,22,19,18,17,16,15,14,13,12,11,10,9,8,7,40,39,37,36,35,34,33,32,31,30,29,28,27,26,25,24,23,22,21,20,19,18,17,16,15,14,13,12,11,10,9,8,7,40,39,38,36,35,34,33,32,31,30,29,28,27,26,25,24,23,22,21,20,19,18,17,16,15,14,13,12,11,10,9,8,7,40,39,38,37,35,34,33,32,31,30,29,28,27,26,25,24,23,22,21,20,19,18,17,16,15,14,13,12,11,10,9,8,7,6,40,39,38,37,36,32,31,30,29,28,27,26,24,21,20,19,18,17,16,15,14,13,12,11,10,9,8,7,6,5,4,3,40,39,38,37,36,35,34,33,32,31,30,29,28,27,26,25,19,18,17,16,15,14,13,12,11,10,8,3,2,40,39,38,37,36,35,34,33,32,31,30,29,28,27,26,25,24,23,22,21,20,19,18,17,16,15,14,13,12,11,10,9,4,1,40,39,38,37,36,35,34,33,32,31,30,29,28,27,26,25,24,23,22,21,20,19,18,17,16,15,14,13,12,11,10,9,8,7,6,5,2,1,0,39,38,37,36,35,34,33,32,31,30,29,28,27,26,25,24,23,22,21,20,19,18,17,16,15,14,13,12,9,8,7,6,5,3,0,38,37,36,35,34,33,32,31,29,28,26,25,24,23,22,21,20,19,18,17,16,15,14,13,12,8,7,6,5,4,1,37,36,35,34,33,32,31,30,29,28,27,26,25,24,23,22,21,19,18,17,16,15,12,11,8,7,6,5,4,3,2,0,36,34,33,32,31,30,29,27,24,23,22,21,20,18,17,16,15,11,10,9,8,7,6,5,4,3,2,1,33,32,31,30,29,28,27,23,22,21,20,19,16,15,14,11,10,8,7,6,5,4,3,2,1,33,30,29,28,27,26,23,22,21,20,19,18,17,16,12,11,10,9,7,6,5,4,3,2,1,0,29,28,27,26,25,24,23,20,19,18,17,16,15,14,13,9,8,6,5,4,3,2,1,0,32,29,28,27,26,25,24,23,22,21,18,17,16,15,14,13,12,11,10,9,8,7,6,5,4,3,2,1,0,31,30,29,28,27,26,25,24,23,22,21,20,16,15,14,13,12,11,10,9,8,7,6,5,4,3,2,1,0,30,29,28,27,26,25,24,23,22,21,17,14,13,12,11,9,8,7,6,5,4,3,2,1,0,29,28,27,26,25,24,23,22,21,16,15,12,8,7,6,5,4,3,2,1,0,28,27,26,25,24,23,22,21,15,14,13,7,6,5,4,3,2,1,0,27,26,25,24,23,22,21,20,19,18,13,12,11,10,9,8,7,6,5,4,3,2,1,0,26,25,24,23,22,21,20,19,18,17,12,11,10,9,8,7,6,5,4,3,2,1,0,25,24,23,20,19,18,17,16,10,9,8,7,6,5,4,3,2,1,0,24,23,22,21,18,17,16,15,14,13,9,8,7,6,5,4,3,2,1,0,23,22,21,20,19,18,17,16,15,14,13,12,11,10,9,8,7,6,5,4,3,2,1,0,22,21,20,19,18,17,16,15,14,13,12,11,10,9,8,7,6,5,4,3,1,0,21,20,19,18,17,16,15,14,13,12,11,10,9,8,7,6,5,4,3,2,0,20,19,18,17,16,15,14,13,12,11,10,9,8,7,6,5,4,3,2,1],\"type\":\"scatter3d\"},{\"hovertemplate\":\"\\u003cb\\u003e%{hovertext}\\u003c\\u002fb\\u003e\\u003cbr\\u003e\\u003cbr\\u003ecolor=River\\u003cbr\\u003ex=%{x}\\u003cbr\\u003ey=%{y}\\u003cbr\\u003ez=%{z}\\u003cextra\\u003e\\u003c\\u002fextra\\u003e\",\"hovertext\":[2500.0,3020.0,4700.0,4740.0,6420.0,6620.0,7460.0,8100.0,8300.0,9300.0,9780.0,10980.0,11020.0,11500.0,11540.0,11580.0,12700.0,13180.0,13220.0,13260.0,13300.0,14380.0,14420.0,14980.0,16260.0,16300.0,16660.0,17980.0,18100.0,19780.0,19820.0,23900.0,25580.0,27260.0,28940.0,28980.0,29020.0,29340.0,29420.0,29460.0,31020.0,31060.0,31100.0,31140.0,31180.0,31620.0,31700.0,31740.0,31780.0,31820.0,33300.0,33340.0,33380.0,33420.0,33500.0,33540.0,35100.0,35140.0,36740.0,36820.0,36860.0,37340.0,37460.0,38420.0,38460.0,38540.0,39380.0,40140.0,40420.0,40700.0,41060.0,41820.0,42060.0,42100.0,42740.0,42780.0,43100.0,43460.0,43740.0,44500.0,44540.0,44580.0,44780.0,45420.0,46260.0,46300.0,46340.0,46460.0,49260.0,50940.0,51260.0,52620.0,52900.0,54140.0,54620.0,56020.0,57660.0,57700.0,58980.0,59020.0,59260.0,59300.0,59340.0,59380.0,59420.0,60700.0,60740.0,61020.0,61060.0,61100.0,64700.0,66380.0,68060.0],\"legendgroup\":\"River\",\"marker\":{\"color\":\"#3EA99F\",\"symbol\":\"circle\"},\"mode\":\"markers\",\"name\":\"River\",\"scene\":\"scene\",\"showlegend\":true,\"x\":[1,1,2,2,3,3,4,4,4,5,5,6,6,6,6,6,7,7,7,7,7,8,8,8,9,9,9,10,10,11,11,14,15,16,17,17,17,17,17,17,18,18,18,18,18,18,18,18,18,18,19,19,19,19,19,19,20,20,21,21,21,22,22,22,22,22,23,23,24,24,24,24,25,25,25,25,25,25,26,26,26,26,26,27,27,27,27,27,29,30,30,31,31,32,32,33,34,34,35,35,35,35,35,35,35,36,36,36,36,36,38,39,40],\"y\":[19,32,32,33,33,38,17,33,38,21,33,21,22,34,35,36,22,34,35,36,37,22,23,37,27,28,37,28,31,31,32,8,8,8,8,9,10,18,20,21,18,19,20,21,22,33,35,36,37,38,33,34,35,36,38,39,36,37,35,37,38,8,11,35,36,38,17,36,1,8,17,36,0,1,17,18,26,35,0,19,20,21,26,0,21,22,23,26,12,12,20,12,19,8,20,13,12,13,3,4,10,11,12,13,14,4,5,12,13,14,20,20,20],\"z\":[40,27,26,25,24,19,39,23,18,34,22,33,32,20,19,18,31,19,18,17,16,30,29,15,24,23,14,22,19,18,17,38,37,36,35,34,33,25,23,22,24,23,22,21,20,9,7,6,5,4,8,7,6,5,3,2,4,3,4,2,1,30,27,3,2,0,20,1,35,28,19,0,35,34,18,17,9,0,34,15,14,13,8,33,12,11,10,7,19,18,10,17,10,20,8,14,14,13,22,21,15,14,13,12,11,20,19,12,11,10,2,1,0],\"type\":\"scatter3d\"},{\"hovertemplate\":\"\\u003cb\\u003e%{hovertext}\\u003c\\u002fb\\u003e\\u003cbr\\u003e\\u003cbr\\u003ecolor=Hill\\u003cbr\\u003ex=%{x}\\u003cbr\\u003ey=%{y}\\u003cbr\\u003ez=%{z}\\u003cextra\\u003e\\u003c\\u002fextra\\u003e\",\"hovertext\":[16140.0,16180.0,17580.0,17620.0,17780.0,17820.0,17860.0,19220.0,19260.0,19300.0,19460.0,19500.0,19620.0,19660.0,20900.0,20940.0,21260.0,21300.0,21340.0,22940.0,22980.0,25180.0,26820.0,26860.0,28500.0,28540.0,36460.0,36500.0,38100.0,38140.0,38180.0,39620.0,39660.0,39780.0,39820.0,40780.0,40820.0,41260.0,41300.0,41340.0,42420.0,42460.0,42500.0,42940.0,42980.0,43820.0,43860.0,44100.0,44140.0,45460.0,45500.0,45540.0,47140.0,47180.0,50860.0,50900.0,52500.0,52540.0,52580.0,54180.0,54220.0,54260.0,54300.0,55900.0,55940.0,55980.0,57580.0,57620.0],\"legendgroup\":\"Hill\",\"marker\":{\"color\":\"gray\",\"symbol\":\"circle\"},\"mode\":\"markers\",\"name\":\"Hill\",\"scene\":\"scene\",\"showlegend\":true,\"x\":[9,9,10,10,10,10,10,11,11,11,11,11,11,11,12,12,12,12,12,13,13,14,15,15,16,16,21,21,22,22,22,23,23,23,23,24,24,24,24,24,25,25,25,25,25,26,26,26,26,27,27,27,28,28,30,30,31,31,31,32,32,32,32,33,33,33,34,34],\"y\":[24,25,18,19,23,24,25,17,18,19,23,24,27,28,17,18,26,27,28,26,27,40,39,40,39,40,28,29,27,28,29,23,24,27,28,10,11,22,23,24,9,10,11,22,23,2,3,9,10,1,2,3,1,2,10,11,9,10,11,9,10,11,12,10,11,12,10,11],\"z\":[27,26,32,31,27,26,25,32,31,30,26,25,22,21,31,30,22,21,20,21,20,6,6,5,5,4,11,10,11,10,9,14,13,10,9,26,25,14,13,12,26,25,24,13,12,32,31,25,24,32,31,30,31,30,20,19,20,19,18,19,18,17,16,17,16,15,16,15],\"type\":\"scatter3d\"},{\"hovertemplate\":\"\\u003cb\\u003e%{hovertext}\\u003c\\u002fb\\u003e\\u003cbr\\u003e\\u003cbr\\u003ecolor=None\\u003cbr\\u003ex=%{x}\\u003cbr\\u003ey=%{y}\\u003cbr\\u003ez=%{z}\\u003cextra\\u003e\\u003c\\u002fextra\\u003e\",\"hovertext\":[45860.0,45900.0,47580.0,47620.0,49300.0,49340.0,51020.0,51060.0,52740.0,52780.0,52860.0,52940.0,54460.0,54500.0,54540.0,54580.0],\"legendgroup\":\"None\",\"marker\":{\"color\":\"maroon\",\"symbol\":\"circle\"},\"mode\":\"markers\",\"name\":\"None\",\"scene\":\"scene\",\"showlegend\":true,\"x\":[27,27,28,28,29,29,30,30,31,31,31,31,32,32,32,32],\"y\":[11,12,12,13,13,14,14,15,15,16,18,20,16,17,18,19],\"z\":[22,21,20,19,18,17,16,15,14,13,11,9,12,11,10,9],\"type\":\"scatter3d\"}],                        {\"template\":{\"data\":{\"histogram2dcontour\":[{\"type\":\"histogram2dcontour\",\"colorbar\":{\"outlinewidth\":0,\"ticks\":\"\"},\"colorscale\":[[0.0,\"#0d0887\"],[0.1111111111111111,\"#46039f\"],[0.2222222222222222,\"#7201a8\"],[0.3333333333333333,\"#9c179e\"],[0.4444444444444444,\"#bd3786\"],[0.5555555555555556,\"#d8576b\"],[0.6666666666666666,\"#ed7953\"],[0.7777777777777778,\"#fb9f3a\"],[0.8888888888888888,\"#fdca26\"],[1.0,\"#f0f921\"]]}],\"choropleth\":[{\"type\":\"choropleth\",\"colorbar\":{\"outlinewidth\":0,\"ticks\":\"\"}}],\"histogram2d\":[{\"type\":\"histogram2d\",\"colorbar\":{\"outlinewidth\":0,\"ticks\":\"\"},\"colorscale\":[[0.0,\"#0d0887\"],[0.1111111111111111,\"#46039f\"],[0.2222222222222222,\"#7201a8\"],[0.3333333333333333,\"#9c179e\"],[0.4444444444444444,\"#bd3786\"],[0.5555555555555556,\"#d8576b\"],[0.6666666666666666,\"#ed7953\"],[0.7777777777777778,\"#fb9f3a\"],[0.8888888888888888,\"#fdca26\"],[1.0,\"#f0f921\"]]}],\"heatmap\":[{\"type\":\"heatmap\",\"colorbar\":{\"outlinewidth\":0,\"ticks\":\"\"},\"colorscale\":[[0.0,\"#0d0887\"],[0.1111111111111111,\"#46039f\"],[0.2222222222222222,\"#7201a8\"],[0.3333333333333333,\"#9c179e\"],[0.4444444444444444,\"#bd3786\"],[0.5555555555555556,\"#d8576b\"],[0.6666666666666666,\"#ed7953\"],[0.7777777777777778,\"#fb9f3a\"],[0.8888888888888888,\"#fdca26\"],[1.0,\"#f0f921\"]]}],\"heatmapgl\":[{\"type\":\"heatmapgl\",\"colorbar\":{\"outlinewidth\":0,\"ticks\":\"\"},\"colorscale\":[[0.0,\"#0d0887\"],[0.1111111111111111,\"#46039f\"],[0.2222222222222222,\"#7201a8\"],[0.3333333333333333,\"#9c179e\"],[0.4444444444444444,\"#bd3786\"],[0.5555555555555556,\"#d8576b\"],[0.6666666666666666,\"#ed7953\"],[0.7777777777777778,\"#fb9f3a\"],[0.8888888888888888,\"#fdca26\"],[1.0,\"#f0f921\"]]}],\"contourcarpet\":[{\"type\":\"contourcarpet\",\"colorbar\":{\"outlinewidth\":0,\"ticks\":\"\"}}],\"contour\":[{\"type\":\"contour\",\"colorbar\":{\"outlinewidth\":0,\"ticks\":\"\"},\"colorscale\":[[0.0,\"#0d0887\"],[0.1111111111111111,\"#46039f\"],[0.2222222222222222,\"#7201a8\"],[0.3333333333333333,\"#9c179e\"],[0.4444444444444444,\"#bd3786\"],[0.5555555555555556,\"#d8576b\"],[0.6666666666666666,\"#ed7953\"],[0.7777777777777778,\"#fb9f3a\"],[0.8888888888888888,\"#fdca26\"],[1.0,\"#f0f921\"]]}],\"surface\":[{\"type\":\"surface\",\"colorbar\":{\"outlinewidth\":0,\"ticks\":\"\"},\"colorscale\":[[0.0,\"#0d0887\"],[0.1111111111111111,\"#46039f\"],[0.2222222222222222,\"#7201a8\"],[0.3333333333333333,\"#9c179e\"],[0.4444444444444444,\"#bd3786\"],[0.5555555555555556,\"#d8576b\"],[0.6666666666666666,\"#ed7953\"],[0.7777777777777778,\"#fb9f3a\"],[0.8888888888888888,\"#fdca26\"],[1.0,\"#f0f921\"]]}],\"mesh3d\":[{\"type\":\"mesh3d\",\"colorbar\":{\"outlinewidth\":0,\"ticks\":\"\"}}],\"scatter\":[{\"fillpattern\":{\"fillmode\":\"overlay\",\"size\":10,\"solidity\":0.2},\"type\":\"scatter\"}],\"parcoords\":[{\"type\":\"parcoords\",\"line\":{\"colorbar\":{\"outlinewidth\":0,\"ticks\":\"\"}}}],\"scatterpolargl\":[{\"type\":\"scatterpolargl\",\"marker\":{\"colorbar\":{\"outlinewidth\":0,\"ticks\":\"\"}}}],\"bar\":[{\"error_x\":{\"color\":\"#2a3f5f\"},\"error_y\":{\"color\":\"#2a3f5f\"},\"marker\":{\"line\":{\"color\":\"#E5ECF6\",\"width\":0.5},\"pattern\":{\"fillmode\":\"overlay\",\"size\":10,\"solidity\":0.2}},\"type\":\"bar\"}],\"scattergeo\":[{\"type\":\"scattergeo\",\"marker\":{\"colorbar\":{\"outlinewidth\":0,\"ticks\":\"\"}}}],\"scatterpolar\":[{\"type\":\"scatterpolar\",\"marker\":{\"colorbar\":{\"outlinewidth\":0,\"ticks\":\"\"}}}],\"histogram\":[{\"marker\":{\"pattern\":{\"fillmode\":\"overlay\",\"size\":10,\"solidity\":0.2}},\"type\":\"histogram\"}],\"scattergl\":[{\"type\":\"scattergl\",\"marker\":{\"colorbar\":{\"outlinewidth\":0,\"ticks\":\"\"}}}],\"scatter3d\":[{\"type\":\"scatter3d\",\"line\":{\"colorbar\":{\"outlinewidth\":0,\"ticks\":\"\"}},\"marker\":{\"colorbar\":{\"outlinewidth\":0,\"ticks\":\"\"}}}],\"scattermapbox\":[{\"type\":\"scattermapbox\",\"marker\":{\"colorbar\":{\"outlinewidth\":0,\"ticks\":\"\"}}}],\"scatterternary\":[{\"type\":\"scatterternary\",\"marker\":{\"colorbar\":{\"outlinewidth\":0,\"ticks\":\"\"}}}],\"scattercarpet\":[{\"type\":\"scattercarpet\",\"marker\":{\"colorbar\":{\"outlinewidth\":0,\"ticks\":\"\"}}}],\"carpet\":[{\"aaxis\":{\"endlinecolor\":\"#2a3f5f\",\"gridcolor\":\"white\",\"linecolor\":\"white\",\"minorgridcolor\":\"white\",\"startlinecolor\":\"#2a3f5f\"},\"baxis\":{\"endlinecolor\":\"#2a3f5f\",\"gridcolor\":\"white\",\"linecolor\":\"white\",\"minorgridcolor\":\"white\",\"startlinecolor\":\"#2a3f5f\"},\"type\":\"carpet\"}],\"table\":[{\"cells\":{\"fill\":{\"color\":\"#EBF0F8\"},\"line\":{\"color\":\"white\"}},\"header\":{\"fill\":{\"color\":\"#C8D4E3\"},\"line\":{\"color\":\"white\"}},\"type\":\"table\"}],\"barpolar\":[{\"marker\":{\"line\":{\"color\":\"#E5ECF6\",\"width\":0.5},\"pattern\":{\"fillmode\":\"overlay\",\"size\":10,\"solidity\":0.2}},\"type\":\"barpolar\"}],\"pie\":[{\"automargin\":true,\"type\":\"pie\"}]},\"layout\":{\"autotypenumbers\":\"strict\",\"colorway\":[\"#636efa\",\"#EF553B\",\"#00cc96\",\"#ab63fa\",\"#FFA15A\",\"#19d3f3\",\"#FF6692\",\"#B6E880\",\"#FF97FF\",\"#FECB52\"],\"font\":{\"color\":\"#2a3f5f\"},\"hovermode\":\"closest\",\"hoverlabel\":{\"align\":\"left\"},\"paper_bgcolor\":\"white\",\"plot_bgcolor\":\"#E5ECF6\",\"polar\":{\"bgcolor\":\"#E5ECF6\",\"angularaxis\":{\"gridcolor\":\"white\",\"linecolor\":\"white\",\"ticks\":\"\"},\"radialaxis\":{\"gridcolor\":\"white\",\"linecolor\":\"white\",\"ticks\":\"\"}},\"ternary\":{\"bgcolor\":\"#E5ECF6\",\"aaxis\":{\"gridcolor\":\"white\",\"linecolor\":\"white\",\"ticks\":\"\"},\"baxis\":{\"gridcolor\":\"white\",\"linecolor\":\"white\",\"ticks\":\"\"},\"caxis\":{\"gridcolor\":\"white\",\"linecolor\":\"white\",\"ticks\":\"\"}},\"coloraxis\":{\"colorbar\":{\"outlinewidth\":0,\"ticks\":\"\"}},\"colorscale\":{\"sequential\":[[0.0,\"#0d0887\"],[0.1111111111111111,\"#46039f\"],[0.2222222222222222,\"#7201a8\"],[0.3333333333333333,\"#9c179e\"],[0.4444444444444444,\"#bd3786\"],[0.5555555555555556,\"#d8576b\"],[0.6666666666666666,\"#ed7953\"],[0.7777777777777778,\"#fb9f3a\"],[0.8888888888888888,\"#fdca26\"],[1.0,\"#f0f921\"]],\"sequentialminus\":[[0.0,\"#0d0887\"],[0.1111111111111111,\"#46039f\"],[0.2222222222222222,\"#7201a8\"],[0.3333333333333333,\"#9c179e\"],[0.4444444444444444,\"#bd3786\"],[0.5555555555555556,\"#d8576b\"],[0.6666666666666666,\"#ed7953\"],[0.7777777777777778,\"#fb9f3a\"],[0.8888888888888888,\"#fdca26\"],[1.0,\"#f0f921\"]],\"diverging\":[[0,\"#8e0152\"],[0.1,\"#c51b7d\"],[0.2,\"#de77ae\"],[0.3,\"#f1b6da\"],[0.4,\"#fde0ef\"],[0.5,\"#f7f7f7\"],[0.6,\"#e6f5d0\"],[0.7,\"#b8e186\"],[0.8,\"#7fbc41\"],[0.9,\"#4d9221\"],[1,\"#276419\"]]},\"xaxis\":{\"gridcolor\":\"white\",\"linecolor\":\"white\",\"ticks\":\"\",\"title\":{\"standoff\":15},\"zerolinecolor\":\"white\",\"automargin\":true,\"zerolinewidth\":2},\"yaxis\":{\"gridcolor\":\"white\",\"linecolor\":\"white\",\"ticks\":\"\",\"title\":{\"standoff\":15},\"zerolinecolor\":\"white\",\"automargin\":true,\"zerolinewidth\":2},\"scene\":{\"xaxis\":{\"backgroundcolor\":\"#E5ECF6\",\"gridcolor\":\"white\",\"linecolor\":\"white\",\"showbackground\":true,\"ticks\":\"\",\"zerolinecolor\":\"white\",\"gridwidth\":2},\"yaxis\":{\"backgroundcolor\":\"#E5ECF6\",\"gridcolor\":\"white\",\"linecolor\":\"white\",\"showbackground\":true,\"ticks\":\"\",\"zerolinecolor\":\"white\",\"gridwidth\":2},\"zaxis\":{\"backgroundcolor\":\"#E5ECF6\",\"gridcolor\":\"white\",\"linecolor\":\"white\",\"showbackground\":true,\"ticks\":\"\",\"zerolinecolor\":\"white\",\"gridwidth\":2}},\"shapedefaults\":{\"line\":{\"color\":\"#2a3f5f\"}},\"annotationdefaults\":{\"arrowcolor\":\"#2a3f5f\",\"arrowhead\":0,\"arrowwidth\":1},\"geo\":{\"bgcolor\":\"white\",\"landcolor\":\"#E5ECF6\",\"subunitcolor\":\"white\",\"showland\":true,\"showlakes\":true,\"lakecolor\":\"white\"},\"title\":{\"x\":0.05},\"mapbox\":{\"style\":\"light\"}}},\"scene\":{\"domain\":{\"x\":[0.0,1.0],\"y\":[0.0,1.0]},\"xaxis\":{\"title\":{\"text\":\"x\"}},\"yaxis\":{\"title\":{\"text\":\"y\"}},\"zaxis\":{\"title\":{\"text\":\"z\"}}},\"legend\":{\"title\":{\"text\":\"color\"},\"tracegroupgap\":0},\"margin\":{\"t\":60}},                        {\"responsive\": true}                    ).then(function(){\n",
              "                            \n",
              "var gd = document.getElementById('176293e1-20ad-4a18-8e40-07beb544388e');\n",
              "var x = new MutationObserver(function (mutations, observer) {{\n",
              "        var display = window.getComputedStyle(gd).display;\n",
              "        if (!display || display === 'none') {{\n",
              "            console.log([gd, 'removed!']);\n",
              "            Plotly.purge(gd);\n",
              "            observer.disconnect();\n",
              "        }}\n",
              "}});\n",
              "\n",
              "// Listen for the removal of the full notebook cells\n",
              "var notebookContainer = gd.closest('#notebook-container');\n",
              "if (notebookContainer) {{\n",
              "    x.observe(notebookContainer, {childList: true});\n",
              "}}\n",
              "\n",
              "// Listen for the clearing of the current output cell\n",
              "var outputEl = gd.closest('.output');\n",
              "if (outputEl) {{\n",
              "    x.observe(outputEl, {childList: true});\n",
              "}}\n",
              "\n",
              "                        })                };                            </script>        </div>\n",
              "</body>\n",
              "</html>"
            ]
          },
          "metadata": {}
        }
      ]
    },
    {
      "cell_type": "markdown",
      "source": [
        "<details>\n",
        "  <summary>\n",
        "    Если ячейка не загрузилась, должно быть так\n",
        "  </summary>\n",
        "\n",
        "  ![График](https://drive.google.com/uc?export=view&id=1bI_7zfWiRvJOf8__hiPL1d2SORnhDCKB)\n",
        "</details>"
      ],
      "metadata": {
        "id": "QuoDNIP43pAZ"
      }
    },
    {
      "cell_type": "markdown",
      "source": [
        "Соберем решение в одну функцию"
      ],
      "metadata": {
        "id": "4Za-8NNHm8Dc"
      }
    },
    {
      "cell_type": "code",
      "source": [
        "def count_greedy_path(idx_from, idx_to):\n",
        "  # Код тут\n",
        "    greedy_path = [idx_from]\n",
        "    curr_idx = idx_from\n",
        "    init_dist = count_dist(idx_from, idx_to)\n",
        "\n",
        "    curr_dist = init_dist\n",
        "    curr_data = hills_map[curr_idx]\n",
        "    coords = np.array(curr_data[:3])\n",
        "\n",
        "    while curr_dist > 0:\n",
        "        # Код тут\n",
        "        for move in ALL_MOVEMENTS:\n",
        "            n_coords = coords + move\n",
        "\n",
        "            n_idx = get_idx(n_coords)\n",
        "\n",
        "            if n_idx in hexagon_idxs and hills_map[n_idx][-1] not in [RIVER_TYPE, HILLS_TYPE] and count_dist(n_idx, idx_to) < curr_dist:\n",
        "                curr_dist = count_dist(n_idx, idx_to)\n",
        "                curr_idx = n_idx\n",
        "                n_data = hills_map[curr_idx]\n",
        "                coords = np.array(n_data[:3])\n",
        "                break # если убрать, то пути будут короче, но может застрять в препятствиях\n",
        "        greedy_path.append(curr_idx)\n",
        "    return greedy_path"
      ],
      "metadata": {
        "id": "oTGdnZuKgV0O"
      },
      "execution_count": 67,
      "outputs": []
    },
    {
      "cell_type": "markdown",
      "source": [
        "Сделаем функцию визуализации"
      ],
      "metadata": {
        "id": "sD_6-qf-rmoh"
      }
    },
    {
      "cell_type": "code",
      "source": [
        "def visualise_greedy_solve(idx_from, idx_to):\n",
        "  greedy_path = count_greedy_path(idx_from, idx_to)\n",
        "\n",
        "  visualize_solve(greedy_path)"
      ],
      "metadata": {
        "id": "TwF6wZD5gQue"
      },
      "execution_count": 68,
      "outputs": []
    },
    {
      "cell_type": "code",
      "source": [
        "visualise_greedy_solve(29_540, 46_220)"
      ],
      "metadata": {
        "colab": {
          "base_uri": "https://localhost:8080/",
          "height": 542
        },
        "id": "1nt1Q0tigl5U",
        "outputId": "873db515-2d58-4225-b572-3dfd29a2f38e"
      },
      "execution_count": 69,
      "outputs": [
        {
          "output_type": "display_data",
          "data": {
            "text/html": [
              "<html>\n",
              "<head><meta charset=\"utf-8\" /></head>\n",
              "<body>\n",
              "    <div>            <script src=\"https://cdnjs.cloudflare.com/ajax/libs/mathjax/2.7.5/MathJax.js?config=TeX-AMS-MML_SVG\"></script><script type=\"text/javascript\">if (window.MathJax && window.MathJax.Hub && window.MathJax.Hub.Config) {window.MathJax.Hub.Config({SVG: {font: \"STIX-Web\"}});}</script>                <script type=\"text/javascript\">window.PlotlyConfig = {MathJaxConfig: 'local'};</script>\n",
              "        <script charset=\"utf-8\" src=\"https://cdn.plot.ly/plotly-2.24.1.min.js\"></script>                <div id=\"6d72a0c6-7c7e-46c7-b135-35f3f35535b9\" class=\"plotly-graph-div\" style=\"height:525px; width:100%;\"></div>            <script type=\"text/javascript\">                                    window.PLOTLYENV=window.PLOTLYENV || {};                                    if (document.getElementById(\"6d72a0c6-7c7e-46c7-b135-35f3f35535b9\")) {                    Plotly.newPlot(                        \"6d72a0c6-7c7e-46c7-b135-35f3f35535b9\",                        [{\"hovertemplate\":\"\\u003cb\\u003e%{hovertext}\\u003c\\u002fb\\u003e\\u003cbr\\u003e\\u003cbr\\u003ecolor=Plain\\u003cbr\\u003ex=%{x}\\u003cbr\\u003ey=%{y}\\u003cbr\\u003ez=%{z}\\u003cextra\\u003e\\u003c\\u002fextra\\u003e\",\"hovertext\":[860.0,900.0,940.0,980.0,1020.0,1060.0,1140.0,1180.0,1220.0,1260.0,1300.0,1340.0,1420.0,1460.0,1500.0,1540.0,1580.0,1620.0,1660.0,2500.0,2540.0,2580.0,2620.0,2660.0,2700.0,2740.0,2900.0,2940.0,2980.0,3020.0,3100.0,3140.0,3180.0,3220.0,3260.0,3300.0,3340.0,4140.0,4180.0,4220.0,4260.0,4300.0,4340.0,4380.0,4460.0,4500.0,4540.0,4580.0,4620.0,4660.0,4780.0,4820.0,4860.0,4900.0,4940.0,4980.0,5020.0,5780.0,5820.0,5860.0,5900.0,5940.0,5980.0,6020.0,6060.0,6140.0,6180.0,6220.0,6260.0,6300.0,6340.0,6420.0,6460.0,6500.0,6540.0,6580.0,6620.0,6660.0,6700.0,7420.0,7460.0,7500.0,7540.0,7580.0,7620.0,7660.0,7700.0,7740.0,7860.0,7900.0,7940.0,7980.0,8020.0,8060.0,8100.0,8140.0,8180.0,8220.0,8260.0,8300.0,8340.0,9060.0,9100.0,9140.0,9180.0,9220.0,9300.0,9340.0,9380.0,9540.0,9580.0,9620.0,9660.0,9740.0,9780.0,9820.0,9860.0,9900.0,9940.0,10700.0,10860.0,10980.0,11020.0,11060.0,11100.0,11140.0,11180.0,11220.0,11260.0,11300.0,11340.0,11420.0,11460.0,11500.0,11540.0,11580.0,11620.0,11660.0,11700.0,11740.0,12340.0,12380.0,12420.0,12460.0,12620.0,12660.0,12700.0,12740.0,12780.0,12820.0,12860.0,12900.0,12940.0,12980.0,13020.0,13060.0,13100.0,13140.0,13180.0,13220.0,13260.0,13300.0,13340.0,13380.0,13420.0,13980.0,14020.0,14100.0,14140.0,14260.0,14300.0,14340.0,14380.0,14420.0,14460.0,14500.0,14540.0,14580.0,14620.0,14660.0,14700.0,14740.0,14780.0,14820.0,14860.0,14900.0,14940.0,14980.0,15020.0,15060.0,15100.0,15620.0,15660.0,15700.0,15820.0,15860.0,15940.0,15980.0,16020.0,16060.0,16100.0,16140.0,16180.0,16220.0,16260.0,16300.0,16340.0,16380.0,16420.0,16460.0,16500.0,16540.0,16580.0,16620.0,16660.0,16700.0,16740.0,16780.0,17300.0,17340.0,17380.0,17420.0,17700.0,17740.0,17780.0,17820.0,17860.0,17900.0,17940.0,17980.0,18020.0,18060.0,18100.0,18140.0,18180.0,18220.0,18260.0,18300.0,18340.0,18380.0,18420.0,18460.0,18900.0,19020.0,19060.0,19100.0,19140.0,19180.0,19220.0,19260.0,19300.0,19340.0,19380.0,19420.0,19460.0,19500.0,19540.0,19580.0,19620.0,19660.0,19700.0,19740.0,19780.0,19820.0,19860.0,19900.0,19940.0,19980.0,20020.0,20060.0,20100.0,20140.0,20540.0,20580.0,20620.0,20700.0,20740.0,20780.0,20820.0,20900.0,20940.0,20980.0,21020.0,21060.0,21100.0,21140.0,21180.0,21220.0,21260.0,21460.0,21500.0,21540.0,21580.0,21620.0,21660.0,21700.0,21740.0,21780.0,22180.0,22220.0,22260.0,22300.0,22380.0,22420.0,22460.0,22500.0,22580.0,22620.0,22660.0,22700.0,22740.0,22780.0,22820.0,22860.0,22900.0,22940.0,22980.0,23060.0,23100.0,23180.0,23220.0,23260.0,23300.0,23340.0,23380.0,23420.0,23460.0,23500.0,23820.0,23860.0,23900.0,23940.0,23980.0,24020.0,24060.0,24100.0,24140.0,24180.0,24260.0,24300.0,24340.0,24380.0,24420.0,24460.0,24500.0,24540.0,24580.0,24620.0,24660.0,24860.0,24900.0,24940.0,24980.0,25020.0,25060.0,25100.0,25140.0,25180.0,25460.0,25500.0,25540.0,25580.0,25620.0,25660.0,25700.0,25740.0,25780.0,25820.0,25860.0,26020.0,26060.0,26100.0,26140.0,26180.0,26220.0,26260.0,26300.0,26340.0,26380.0,26420.0,26460.0,26580.0,26620.0,26660.0,26700.0,26740.0,26780.0,26820.0,26860.0,27100.0,27140.0,27180.0,27220.0,27260.0,27300.0,27340.0,27380.0,27420.0,27460.0,27500.0,27540.0,27580.0,27620.0,27700.0,27740.0,27780.0,27820.0,27860.0,27900.0,27940.0,27980.0,28020.0,28060.0,28100.0,28140.0,28180.0,28220.0,28260.0,28300.0,28340.0,28380.0,28420.0,28460.0,28500.0,28540.0,28740.0,28780.0,28820.0,28860.0,28900.0,28940.0,28980.0,29020.0,29060.0,29100.0,29140.0,29180.0,29220.0,29260.0,29300.0,29340.0,29380.0,29420.0,29460.0,29500.0,29660.0,29700.0,29740.0,29780.0,29820.0,29860.0,29900.0,29940.0,29980.0,30020.0,30060.0,30100.0,30140.0,30180.0,30220.0,30380.0,30420.0,30460.0,30500.0,30540.0,30580.0,30620.0,30660.0,30700.0,30740.0,30780.0,30820.0,30860.0,30900.0,30940.0,30980.0,31020.0,31180.0,31220.0,31260.0,31340.0,31380.0,31420.0,31460.0,31500.0,31540.0,31580.0,31620.0,31660.0,31700.0,31740.0,31780.0,31820.0,31860.0,32020.0,32060.0,32100.0,32140.0,32180.0,32220.0,32260.0,32300.0,32340.0,32380.0,32420.0,32460.0,32500.0,32540.0,32580.0,32620.0,32660.0,32700.0,32740.0,32780.0,32860.0,32900.0,32940.0,33020.0,33060.0,33100.0,33140.0,33180.0,33220.0,33260.0,33300.0,33340.0,33380.0,33420.0,33460.0,33500.0,33540.0,33660.0,33700.0,33740.0,33780.0,33820.0,33860.0,33900.0,33940.0,33980.0,34020.0,34060.0,34100.0,34140.0,34180.0,34220.0,34260.0,34300.0,34340.0,34380.0,34700.0,34740.0,34780.0,34820.0,34860.0,34900.0,34940.0,34980.0,35020.0,35060.0,35100.0,35220.0,35340.0,35380.0,35420.0,35460.0,35500.0,35540.0,35580.0,35620.0,35660.0,35700.0,35740.0,35780.0,35820.0,35860.0,35900.0,35940.0,35980.0,36020.0,36060.0,36100.0,36140.0,36180.0,36220.0,36260.0,36380.0,36420.0,36460.0,36500.0,36540.0,36580.0,36620.0,36660.0,36700.0,36740.0,36860.0,36900.0,37020.0,37060.0,37100.0,37140.0,37180.0,37220.0,37260.0,37300.0,37340.0,37380.0,37420.0,37460.0,37500.0,37580.0,37620.0,37660.0,37700.0,37740.0,37780.0,37820.0,37860.0,37900.0,37940.0,37980.0,38060.0,38100.0,38140.0,38180.0,38220.0,38260.0,38300.0,38340.0,38380.0,38420.0,38540.0,38700.0,38740.0,38780.0,38820.0,38860.0,38900.0,38940.0,38980.0,39020.0,39060.0,39100.0,39140.0,39180.0,39300.0,39340.0,39380.0,39420.0,39460.0,39500.0,39540.0,39580.0,39620.0,39660.0,39740.0,39780.0,39820.0,39860.0,39900.0,39940.0,39980.0,40020.0,40380.0,40420.0,40460.0,40500.0,40540.0,40580.0,40620.0,40660.0,40700.0,40740.0,40820.0,40860.0,40900.0,40940.0,40980.0,41020.0,41060.0,41100.0,41140.0,41180.0,41220.0,41300.0,41340.0,41420.0,41460.0,41500.0,41540.0,41580.0,41620.0,41660.0,41700.0,41780.0,41820.0,42060.0,42100.0,42140.0,42180.0,42220.0,42260.0,42300.0,42340.0,42380.0,42420.0,42460.0,42500.0,42540.0,42580.0,42620.0,42660.0,42700.0,42740.0,42780.0,42820.0,42860.0,43060.0,43100.0,43140.0,43180.0,43220.0,43260.0,43300.0,43340.0,43380.0,43740.0,43780.0,43820.0,43860.0,43900.0,43940.0,43980.0,44020.0,44060.0,44100.0,44140.0,44180.0,44220.0,44260.0,44300.0,44340.0,44380.0,44420.0,44460.0,44500.0,44540.0,44580.0,44740.0,44820.0,44860.0,44900.0,44940.0,44980.0,45020.0,45060.0,45100.0,45420.0,45460.0,45500.0,45540.0,45580.0,45620.0,45660.0,45700.0,45740.0,45780.0,45820.0,45860.0,45900.0,45940.0,45980.0,46020.0,46060.0,46100.0,46140.0,46180.0,46300.0,46340.0,46420.0,46500.0,46540.0,46580.0,46620.0,46660.0,46700.0,46740.0,47100.0,47140.0,47180.0,47220.0,47260.0,47300.0,47340.0,47380.0,47420.0,47460.0,47500.0,47540.0,47580.0,47620.0,47660.0,47700.0,47740.0,47780.0,47820.0,47860.0,47900.0,47940.0,47980.0,48020.0,48100.0,48180.0,48220.0,48260.0,48300.0,48340.0,48380.0,48780.0,48820.0,48860.0,48940.0,48980.0,49020.0,49060.0,49100.0,49140.0,49180.0,49220.0,49260.0,49300.0,49340.0,49380.0,49420.0,49460.0,49500.0,49540.0,49580.0,49620.0,49660.0,49700.0,49820.0,49860.0,49900.0,49940.0,49980.0,50020.0,50460.0,50500.0,50540.0,50620.0,50660.0,50700.0,50740.0,50780.0,50820.0,50860.0,50900.0,50940.0,50980.0,51020.0,51060.0,51100.0,51140.0,51180.0,51340.0,51380.0,51500.0,51540.0,51580.0,51620.0,51660.0,52140.0,52180.0,52220.0,52260.0,52500.0,52540.0,52580.0,52620.0,52660.0,52700.0,52740.0,52820.0,52860.0,52900.0,52940.0,52980.0,53020.0,53060.0,53100.0,53140.0,53180.0,53220.0,53260.0,53300.0,53820.0,53860.0,53900.0,54060.0,54100.0,54140.0,54180.0,54220.0,54260.0,54300.0,54340.0,54380.0,54420.0,54500.0,54540.0,54580.0,54620.0,54660.0,54700.0,54740.0,54780.0,54820.0,54860.0,54900.0,54940.0,55500.0,55540.0,55580.0,55620.0,55660.0,55820.0,55860.0,55900.0,55940.0,55980.0,56020.0,56060.0,56100.0,56220.0,56340.0,56380.0,56420.0,56460.0,57180.0,57220.0,57260.0,57300.0,57340.0,57500.0,57540.0,57580.0,57620.0,57660.0,57700.0,57740.0,57780.0,57820.0,57980.0,58020.0,58060.0,58180.0,58220.0,58860.0,58900.0,58940.0,58980.0,59020.0,59300.0,59340.0,59380.0,59740.0,59780.0,60540.0,60580.0,60620.0,60700.0,60740.0,60860.0,60900.0,60940.0,60980.0,61020.0,61060.0,61100.0,61140.0,61180.0,61220.0,61300.0,61340.0,62220.0,62260.0,62300.0,62380.0,62420.0,62460.0,62540.0,62580.0,62620.0,62660.0,62700.0,62740.0,62780.0,62860.0,62900.0,62940.0,62980.0,63020.0,63060.0,63100.0,63140.0,63900.0,63940.0,63980.0,64060.0,64100.0,64140.0,64220.0,64260.0,64300.0,64340.0,64380.0,64420.0,64460.0,64500.0,64540.0,64580.0,64620.0,64660.0,64700.0,64740.0,64780.0,65580.0,65620.0,65660.0,65740.0,65780.0,65820.0,65860.0,65900.0,65940.0,65980.0,66020.0,66060.0,66100.0,66260.0,66300.0,66340.0,66380.0,66420.0,67260.0,67300.0,67340.0,67460.0,67500.0,67540.0,67580.0,67620.0,67660.0,67700.0,67740.0,67780.0,67820.0,67860.0,67980.0,68020.0,68060.0],\"legendgroup\":\"Plain\",\"marker\":{\"color\":\"#387C44\",\"symbol\":\"circle\"},\"mode\":\"markers\",\"name\":\"Plain\",\"scene\":\"scene\",\"showlegend\":true,\"x\":[0,0,0,0,0,0,0,0,0,0,0,0,0,0,0,0,0,0,0,1,1,1,1,1,1,1,1,1,1,1,1,1,1,1,1,1,1,2,2,2,2,2,2,2,2,2,2,2,2,2,2,2,2,2,2,2,2,3,3,3,3,3,3,3,3,3,3,3,3,3,3,3,3,3,3,3,3,3,3,4,4,4,4,4,4,4,4,4,4,4,4,4,4,4,4,4,4,4,4,4,4,5,5,5,5,5,5,5,5,5,5,5,5,5,5,5,5,5,5,6,6,6,6,6,6,6,6,6,6,6,6,6,6,6,6,6,6,6,6,6,7,7,7,7,7,7,7,7,7,7,7,7,7,7,7,7,7,7,7,7,7,7,7,7,7,8,8,8,8,8,8,8,8,8,8,8,8,8,8,8,8,8,8,8,8,8,8,8,8,8,8,9,9,9,9,9,9,9,9,9,9,9,9,9,9,9,9,9,9,9,9,9,9,9,9,9,9,9,10,10,10,10,10,10,10,10,10,10,10,10,10,10,10,10,10,10,10,10,10,10,10,10,11,11,11,11,11,11,11,11,11,11,11,11,11,11,11,11,11,11,11,11,11,11,11,11,11,11,11,11,11,11,12,12,12,12,12,12,12,12,12,12,12,12,12,12,12,12,12,12,12,12,12,12,12,12,12,12,13,13,13,13,13,13,13,13,13,13,13,13,13,13,13,13,13,13,13,13,13,13,13,13,13,13,13,13,13,13,14,14,14,14,14,14,14,14,14,14,14,14,14,14,14,14,14,14,14,14,14,14,14,14,14,14,14,14,14,14,15,15,15,15,15,15,15,15,15,15,15,15,15,15,15,15,15,15,15,15,15,15,15,15,15,15,15,15,15,15,15,16,16,16,16,16,16,16,16,16,16,16,16,16,16,16,16,16,16,16,16,16,16,16,16,16,16,16,16,16,16,16,16,16,16,16,16,17,17,17,17,17,17,17,17,17,17,17,17,17,17,17,17,17,17,17,17,17,17,17,17,17,17,17,17,17,17,17,17,17,17,17,18,18,18,18,18,18,18,18,18,18,18,18,18,18,18,18,18,18,18,18,18,18,18,18,18,18,18,18,18,18,18,18,18,18,19,19,19,19,19,19,19,19,19,19,19,19,19,19,19,19,19,19,19,19,19,19,19,19,19,19,19,19,19,19,19,19,19,19,19,19,19,20,20,20,20,20,20,20,20,20,20,20,20,20,20,20,20,20,20,20,20,20,20,20,20,20,20,20,20,20,20,20,21,21,21,21,21,21,21,21,21,21,21,21,21,21,21,21,21,21,21,21,21,21,21,21,21,21,21,21,21,21,21,21,21,21,21,21,22,22,22,22,22,22,22,22,22,22,22,22,22,22,22,22,22,22,22,22,22,22,22,22,22,22,22,22,22,22,22,22,22,22,22,23,23,23,23,23,23,23,23,23,23,23,23,23,23,23,23,23,23,23,23,23,23,23,23,23,23,23,23,23,23,23,24,24,24,24,24,24,24,24,24,24,24,24,24,24,24,24,24,24,24,24,24,24,24,24,24,24,24,24,24,24,24,24,24,25,25,25,25,25,25,25,25,25,25,25,25,25,25,25,25,25,25,25,25,25,25,25,25,25,25,25,25,25,25,26,26,26,26,26,26,26,26,26,26,26,26,26,26,26,26,26,26,26,26,26,26,26,26,26,26,26,26,26,26,26,27,27,27,27,27,27,27,27,27,27,27,27,27,27,27,27,27,27,27,27,27,27,27,27,27,27,27,27,27,27,28,28,28,28,28,28,28,28,28,28,28,28,28,28,28,28,28,28,28,28,28,28,28,28,28,28,28,28,28,28,28,29,29,29,29,29,29,29,29,29,29,29,29,29,29,29,29,29,29,29,29,29,29,29,29,29,29,29,29,29,30,30,30,30,30,30,30,30,30,30,30,30,30,30,30,30,30,30,30,30,30,30,30,30,30,31,31,31,31,31,31,31,31,31,31,31,31,31,31,31,31,31,31,31,31,31,31,31,31,32,32,32,32,32,32,32,32,32,32,32,32,32,32,32,32,32,32,32,32,32,32,32,32,32,33,33,33,33,33,33,33,33,33,33,33,33,33,33,33,33,33,33,34,34,34,34,34,34,34,34,34,34,34,34,34,34,34,34,34,34,34,35,35,35,35,35,35,35,35,35,35,36,36,36,36,36,36,36,36,36,36,36,36,36,36,36,36,36,37,37,37,37,37,37,37,37,37,37,37,37,37,37,37,37,37,37,37,37,37,38,38,38,38,38,38,38,38,38,38,38,38,38,38,38,38,38,38,38,38,38,39,39,39,39,39,39,39,39,39,39,39,39,39,39,39,39,39,39,40,40,40,40,40,40,40,40,40,40,40,40,40,40,40,40,40],\"y\":[20,21,22,23,24,25,27,28,29,30,31,32,34,35,36,37,38,39,40,19,20,21,22,23,24,25,29,30,31,32,34,35,36,37,38,39,40,18,19,20,21,22,23,24,26,27,28,29,30,31,34,35,36,37,38,39,40,17,18,19,20,21,22,23,24,26,27,28,29,30,31,33,34,35,36,37,38,39,40,16,17,18,19,20,21,22,23,24,27,28,29,30,31,32,33,34,35,36,37,38,39,15,16,17,18,19,21,22,23,27,28,29,30,32,33,34,35,36,37,14,18,21,22,23,24,25,26,27,28,29,30,32,33,34,35,36,37,38,39,40,13,14,15,16,20,21,22,23,24,25,26,27,28,29,30,31,32,33,34,35,36,37,38,39,40,12,13,15,16,19,20,21,22,23,24,25,26,27,28,29,30,31,32,33,34,35,36,37,38,39,40,11,12,13,16,17,19,20,21,22,23,24,25,26,27,28,29,30,31,32,33,34,35,36,37,38,39,40,11,12,13,14,21,22,23,24,25,26,27,28,29,30,31,32,33,34,35,36,37,38,39,40,9,12,13,14,15,16,17,18,19,20,21,22,23,24,25,26,27,28,29,30,31,32,33,34,35,36,37,38,39,40,8,9,10,12,13,14,15,17,18,19,20,21,22,23,24,25,26,31,32,33,34,35,36,37,38,39,7,8,9,10,12,13,14,15,17,18,19,20,21,22,23,24,25,26,27,29,30,32,33,34,35,36,37,38,39,40,6,7,8,9,10,11,12,13,14,15,17,18,19,20,21,22,23,24,25,26,27,32,33,34,35,36,37,38,39,40,5,6,7,8,9,10,11,12,13,14,15,19,20,21,22,23,24,25,26,27,28,29,30,33,34,35,36,37,38,39,40,4,5,6,7,8,9,10,11,12,13,14,15,16,17,19,20,21,22,23,24,25,26,27,28,29,30,31,32,33,34,35,36,37,38,39,40,3,4,5,6,7,8,9,10,11,12,13,14,15,16,17,18,19,20,21,22,26,27,28,29,30,31,32,33,34,35,36,37,38,39,40,2,3,4,5,6,7,8,9,10,11,12,13,14,15,16,17,18,22,23,24,26,27,28,29,30,31,32,33,34,35,36,37,38,39,1,2,3,4,5,6,7,8,9,10,11,12,13,14,15,16,17,18,19,20,22,23,24,26,27,28,29,30,31,32,33,34,35,36,37,38,39,0,1,2,3,4,5,6,7,8,9,10,11,12,13,14,15,16,17,18,26,27,28,29,30,31,32,33,34,35,36,39,0,1,2,3,4,5,6,7,8,9,10,11,12,13,14,15,16,17,18,19,20,21,22,23,26,27,28,29,30,31,32,33,34,35,38,39,0,1,2,3,4,5,6,7,8,9,10,11,12,14,15,16,17,18,19,20,21,22,23,24,26,27,28,29,30,31,32,33,34,35,38,0,1,2,3,4,5,6,7,8,9,10,11,12,15,16,17,18,19,20,21,22,23,24,26,27,28,29,30,31,32,33,0,1,2,3,4,5,6,7,8,9,11,12,13,14,15,16,17,18,19,20,21,23,24,26,27,28,29,30,31,32,33,35,36,0,1,2,3,4,5,6,7,8,9,10,11,12,13,14,15,16,17,18,19,20,25,26,27,28,29,30,31,32,33,0,1,2,3,4,5,6,7,8,9,10,11,12,13,14,15,16,17,18,19,20,21,25,27,28,29,30,31,32,33,34,0,1,2,3,4,5,6,7,8,9,10,11,12,13,14,15,16,17,18,19,22,23,25,27,28,29,30,31,32,33,0,1,2,3,4,5,6,7,8,9,10,11,12,13,14,15,16,17,18,19,20,21,22,23,25,27,28,29,30,31,32,0,1,2,4,5,6,7,8,9,10,11,12,13,14,15,16,17,18,19,20,21,22,23,26,27,28,29,30,31,0,1,2,4,5,6,7,8,9,10,11,12,13,14,15,16,17,18,22,23,26,27,28,29,30,0,1,2,3,9,10,11,12,13,14,15,17,18,19,20,21,22,23,24,25,26,27,28,29,0,1,2,6,7,8,9,10,11,12,13,14,15,17,18,19,20,21,22,23,24,25,26,27,28,0,1,2,3,4,8,9,10,11,12,13,14,15,18,21,22,23,24,0,1,2,3,4,8,9,10,11,12,13,14,15,16,20,21,22,25,26,0,1,2,3,4,11,12,13,22,23,0,1,2,4,5,8,9,10,11,12,13,14,15,16,17,19,20,0,1,2,4,5,6,8,9,10,11,12,13,14,16,17,18,19,20,21,22,23,0,1,2,4,5,6,8,9,10,11,12,13,14,15,16,17,18,19,20,21,22,0,1,2,4,5,6,7,8,9,10,11,12,13,17,18,19,20,21,0,1,2,5,6,7,8,9,10,11,12,13,14,15,18,19,20],\"z\":[40,39,38,37,36,35,33,32,31,30,29,28,26,25,24,23,22,21,20,40,39,38,37,36,35,34,30,29,28,27,25,24,23,22,21,20,19,40,39,38,37,36,35,34,32,31,30,29,28,27,24,23,22,21,20,19,18,40,39,38,37,36,35,34,33,31,30,29,28,27,26,24,23,22,21,20,19,18,17,40,39,38,37,36,35,34,33,32,29,28,27,26,25,24,23,22,21,20,19,18,17,40,39,38,37,36,34,33,32,28,27,26,25,23,22,21,20,19,18,40,36,33,32,31,30,29,28,27,26,25,24,22,21,20,19,18,17,16,15,14,40,39,38,37,33,32,31,30,29,28,27,26,25,24,23,22,21,20,19,18,17,16,15,14,13,40,39,37,36,33,32,31,30,29,28,27,26,25,24,23,22,21,20,19,18,17,16,15,14,13,12,40,39,38,35,34,32,31,30,29,28,27,26,25,24,23,22,21,20,19,18,17,16,15,14,13,12,11,39,38,37,36,29,28,27,26,25,24,23,22,21,20,19,18,17,16,15,14,13,12,11,10,40,37,36,35,34,33,32,31,30,29,28,27,26,25,24,23,22,21,20,19,18,17,16,15,14,13,12,11,10,9,40,39,38,36,35,34,33,31,30,29,28,27,26,25,24,23,22,17,16,15,14,13,12,11,10,9,40,39,38,37,35,34,33,32,30,29,28,27,26,25,24,23,22,21,20,18,17,15,14,13,12,11,10,9,8,7,40,39,38,37,36,35,34,33,32,31,29,28,27,26,25,24,23,22,21,20,19,14,13,12,11,10,9,8,7,6,40,39,38,37,36,35,34,33,32,31,30,26,25,24,23,22,21,20,19,18,17,16,15,12,11,10,9,8,7,6,5,40,39,38,37,36,35,34,33,32,31,30,29,28,27,25,24,23,22,21,20,19,18,17,16,15,14,13,12,11,10,9,8,7,6,5,4,40,39,38,37,36,35,34,33,32,31,30,29,28,27,26,25,24,23,22,21,17,16,15,14,13,12,11,10,9,8,7,6,5,4,3,40,39,38,37,36,35,34,33,32,31,30,29,28,27,26,25,24,20,19,18,16,15,14,13,12,11,10,9,8,7,6,5,4,3,40,39,38,37,36,35,34,33,32,31,30,29,28,27,26,25,24,23,22,21,19,18,17,15,14,13,12,11,10,9,8,7,6,5,4,3,2,40,39,38,37,36,35,34,33,32,31,30,29,28,27,26,25,24,23,22,14,13,12,11,10,9,8,7,6,5,4,1,39,38,37,36,35,34,33,32,31,30,29,28,27,26,25,24,23,22,21,20,19,18,17,16,13,12,11,10,9,8,7,6,5,4,1,0,38,37,36,35,34,33,32,31,30,29,28,27,26,24,23,22,21,20,19,18,17,16,15,14,12,11,10,9,8,7,6,5,4,3,0,37,36,35,34,33,32,31,30,29,28,27,26,25,22,21,20,19,18,17,16,15,14,13,11,10,9,8,7,6,5,4,36,35,34,33,32,31,30,29,28,27,25,24,23,22,21,20,19,18,17,16,15,13,12,10,9,8,7,6,5,4,3,1,0,35,34,33,32,31,30,29,28,27,26,25,24,23,22,21,20,19,18,17,16,15,10,9,8,7,6,5,4,3,2,34,33,32,31,30,29,28,27,26,25,24,23,22,21,20,19,18,17,16,15,14,13,9,7,6,5,4,3,2,1,0,33,32,31,30,29,28,27,26,25,24,23,22,21,20,19,18,17,16,15,14,11,10,8,6,5,4,3,2,1,0,32,31,30,29,28,27,26,25,24,23,22,21,20,19,18,17,16,15,14,13,12,11,10,9,7,5,4,3,2,1,0,31,30,29,27,26,25,24,23,22,21,20,19,18,17,16,15,14,13,12,11,10,9,8,5,4,3,2,1,0,30,29,28,26,25,24,23,22,21,20,19,18,17,16,15,14,13,12,8,7,4,3,2,1,0,29,28,27,26,20,19,18,17,16,15,14,12,11,10,9,8,7,6,5,4,3,2,1,0,28,27,26,22,21,20,19,18,17,16,15,14,13,11,10,9,8,7,6,5,4,3,2,1,0,27,26,25,24,23,19,18,17,16,15,14,13,12,9,6,5,4,3,26,25,24,23,22,18,17,16,15,14,13,12,11,10,6,5,4,1,0,25,24,23,22,21,14,13,12,3,2,24,23,22,20,19,16,15,14,13,12,11,10,9,8,7,5,4,23,22,21,19,18,17,15,14,13,12,11,10,9,7,6,5,4,3,2,1,0,22,21,20,18,17,16,14,13,12,11,10,9,8,7,6,5,4,3,2,1,0,21,20,19,17,16,15,14,13,12,11,10,9,8,4,3,2,1,0,20,19,18,15,14,13,12,11,10,9,8,7,6,5,2,1,0],\"type\":\"scatter3d\"},{\"hovertemplate\":\"\\u003cb\\u003e%{hovertext}\\u003c\\u002fb\\u003e\\u003cbr\\u003e\\u003cbr\\u003ecolor=River\\u003cbr\\u003ex=%{x}\\u003cbr\\u003ey=%{y}\\u003cbr\\u003ez=%{z}\\u003cextra\\u003e\\u003c\\u002fextra\\u003e\",\"hovertext\":[1100.0,2780.0,2820.0,2860.0,9700.0,9980.0,10020.0,10740.0,10780.0,10820.0,11380.0,12580.0,14060.0,14180.0,14220.0,15740.0,15780.0,15900.0,17260.0,17460.0,17500.0,17540.0,17580.0,17620.0,17660.0,18940.0,18980.0,20660.0,20860.0,21820.0,22340.0,22540.0,23020.0,23140.0,24220.0,24700.0,24740.0,24780.0,24820.0,25900.0,25940.0,25980.0,26500.0,26540.0,27660.0,31060.0,31100.0,31140.0,31900.0,32820.0,33580.0,34420.0,34460.0,34500.0,34540.0,34580.0,34620.0,35260.0,36300.0,37540.0,39220.0,39260.0,40060.0,40180.0,40780.0,41740.0,43420.0,43460.0,44660.0,44700.0,44780.0,46380.0,46460.0,48060.0,48140.0,48900.0,49740.0,49780.0,50580.0,51220.0,51260.0,51300.0,51420.0,51460.0,52300.0,52340.0,52380.0,52420.0,52460.0,52780.0,53940.0,54020.0,54460.0,55700.0,55740.0,55780.0,56140.0,56180.0,56500.0,56540.0,56580.0,57380.0,57420.0,57460.0,57860.0,57900.0,58100.0,58140.0,59060.0,59100.0,59140.0,59180.0,59220.0,59260.0,59420.0,59460.0,59500.0,59540.0,59660.0,59700.0,59820.0,59860.0,60660.0,60780.0,60820.0,61380.0,61420.0,61460.0,61500.0,62340.0,62500.0,64020.0,64180.0,65700.0,66140.0,66180.0,66220.0,67380.0,67420.0,67900.0,67940.0],\"legendgroup\":\"River\",\"marker\":{\"color\":\"#3EA99F\",\"symbol\":\"circle\"},\"mode\":\"markers\",\"name\":\"River\",\"scene\":\"scene\",\"showlegend\":true,\"x\":[0,1,1,1,5,5,5,6,6,6,6,7,8,8,8,9,9,9,10,10,10,10,10,10,10,11,11,12,12,12,13,13,13,13,14,14,14,14,14,15,15,15,15,15,16,18,18,18,18,19,19,20,20,20,20,20,20,20,21,22,23,23,23,23,24,24,25,25,26,26,26,27,27,28,28,29,29,29,30,30,30,30,30,30,31,31,31,31,31,31,32,32,32,33,33,33,33,33,33,33,33,34,34,34,34,34,34,34,35,35,35,35,35,35,35,35,35,35,35,35,35,35,36,36,36,36,36,36,36,37,37,38,38,39,39,39,39,40,40,40,40],\"y\":[26,26,27,28,31,38,39,15,16,17,31,19,14,17,18,14,15,18,10,15,16,17,18,19,20,10,11,11,16,40,11,16,28,31,16,28,29,30,31,16,17,18,31,32,18,19,20,21,40,21,40,19,20,21,22,23,24,40,24,13,13,14,34,37,10,34,34,35,23,24,26,24,26,24,26,3,24,25,3,19,20,21,24,25,4,5,6,7,8,16,3,5,16,5,6,7,16,17,25,26,27,5,6,7,17,18,23,24,5,6,7,8,9,10,14,15,16,17,20,21,24,25,3,6,7,21,22,23,24,3,7,3,7,3,14,15,16,3,4,16,17],\"z\":[34,33,32,31,24,17,16,39,38,37,23,34,38,35,34,37,36,33,40,35,34,33,32,31,30,39,38,37,32,8,36,31,19,16,30,18,17,16,15,29,28,27,14,13,26,23,22,21,2,20,1,21,20,19,18,17,16,0,15,25,24,23,3,0,26,2,1,0,11,10,8,9,7,8,6,28,7,6,27,11,10,9,6,5,25,24,23,22,21,13,25,23,12,22,21,20,11,10,2,1,0,21,20,19,9,8,3,2,20,19,18,17,16,15,11,10,9,8,5,4,1,0,21,18,17,3,2,1,0,20,16,19,15,18,7,6,5,17,16,4,3],\"type\":\"scatter3d\"},{\"hovertemplate\":\"\\u003cb\\u003e%{hovertext}\\u003c\\u002fb\\u003e\\u003cbr\\u003e\\u003cbr\\u003ecolor=Hill\\u003cbr\\u003ex=%{x}\\u003cbr\\u003ey=%{y}\\u003cbr\\u003ez=%{z}\\u003cextra\\u003e\\u003c\\u002fextra\\u003e\",\"hovertext\":[1380.0,3060.0,4420.0,4700.0,4740.0,6100.0,6380.0,7780.0,7820.0,8380.0,9260.0,9420.0,9460.0,9500.0,10060.0,10900.0,10940.0,12500.0,12540.0,21300.0,21340.0,21380.0,21420.0,35140.0,35180.0,36780.0,36820.0,38460.0,38500.0,40100.0,40140.0,41260.0,42900.0,42940.0,53980.0,56260.0,56300.0,57940.0,59580.0,59620.0,61260.0,62820.0],\"legendgroup\":\"Hill\",\"marker\":{\"color\":\"gray\",\"symbol\":\"circle\"},\"mode\":\"markers\",\"name\":\"Hill\",\"scene\":\"scene\",\"showlegend\":true,\"x\":[0,1,2,2,2,3,3,4,4,4,5,5,5,5,5,6,6,7,7,12,12,12,12,20,20,21,21,22,22,23,23,24,25,25,32,33,33,34,35,35,36,37],\"y\":[33,33,25,32,33,25,32,25,26,40,20,24,25,26,40,19,20,17,18,27,28,29,30,37,38,36,37,36,37,35,36,22,21,22,4,19,20,19,18,19,18,15],\"z\":[27,26,33,26,25,32,25,31,30,16,35,31,30,29,15,35,34,36,35,21,20,19,18,3,2,3,2,2,1,2,1,14,14,13,24,8,7,7,7,6,6,8],\"type\":\"scatter3d\"},{\"hovertemplate\":\"\\u003cb\\u003e%{hovertext}\\u003c\\u002fb\\u003e\\u003cbr\\u003e\\u003cbr\\u003ecolor=None\\u003cbr\\u003ex=%{x}\\u003cbr\\u003ey=%{y}\\u003cbr\\u003ez=%{z}\\u003cextra\\u003e\\u003c\\u002fextra\\u003e\",\"hovertext\":[29540.0,29580.0,29620.0,31300.0,32980.0,34660.0,36340.0,38020.0,39700.0,41380.0,42980.0,43020.0,44620.0,46220.0,46260.0],\"legendgroup\":\"None\",\"marker\":{\"color\":\"maroon\",\"symbol\":\"circle\"},\"mode\":\"markers\",\"name\":\"None\",\"scene\":\"scene\",\"showlegend\":true,\"x\":[17,17,17,18,19,20,21,22,23,24,25,25,26,27,27],\"y\":[23,24,25,25,25,25,25,25,25,25,23,24,22,20,21],\"z\":[20,19,18,17,16,15,14,13,12,11,12,11,12,13,12],\"type\":\"scatter3d\"}],                        {\"template\":{\"data\":{\"histogram2dcontour\":[{\"type\":\"histogram2dcontour\",\"colorbar\":{\"outlinewidth\":0,\"ticks\":\"\"},\"colorscale\":[[0.0,\"#0d0887\"],[0.1111111111111111,\"#46039f\"],[0.2222222222222222,\"#7201a8\"],[0.3333333333333333,\"#9c179e\"],[0.4444444444444444,\"#bd3786\"],[0.5555555555555556,\"#d8576b\"],[0.6666666666666666,\"#ed7953\"],[0.7777777777777778,\"#fb9f3a\"],[0.8888888888888888,\"#fdca26\"],[1.0,\"#f0f921\"]]}],\"choropleth\":[{\"type\":\"choropleth\",\"colorbar\":{\"outlinewidth\":0,\"ticks\":\"\"}}],\"histogram2d\":[{\"type\":\"histogram2d\",\"colorbar\":{\"outlinewidth\":0,\"ticks\":\"\"},\"colorscale\":[[0.0,\"#0d0887\"],[0.1111111111111111,\"#46039f\"],[0.2222222222222222,\"#7201a8\"],[0.3333333333333333,\"#9c179e\"],[0.4444444444444444,\"#bd3786\"],[0.5555555555555556,\"#d8576b\"],[0.6666666666666666,\"#ed7953\"],[0.7777777777777778,\"#fb9f3a\"],[0.8888888888888888,\"#fdca26\"],[1.0,\"#f0f921\"]]}],\"heatmap\":[{\"type\":\"heatmap\",\"colorbar\":{\"outlinewidth\":0,\"ticks\":\"\"},\"colorscale\":[[0.0,\"#0d0887\"],[0.1111111111111111,\"#46039f\"],[0.2222222222222222,\"#7201a8\"],[0.3333333333333333,\"#9c179e\"],[0.4444444444444444,\"#bd3786\"],[0.5555555555555556,\"#d8576b\"],[0.6666666666666666,\"#ed7953\"],[0.7777777777777778,\"#fb9f3a\"],[0.8888888888888888,\"#fdca26\"],[1.0,\"#f0f921\"]]}],\"heatmapgl\":[{\"type\":\"heatmapgl\",\"colorbar\":{\"outlinewidth\":0,\"ticks\":\"\"},\"colorscale\":[[0.0,\"#0d0887\"],[0.1111111111111111,\"#46039f\"],[0.2222222222222222,\"#7201a8\"],[0.3333333333333333,\"#9c179e\"],[0.4444444444444444,\"#bd3786\"],[0.5555555555555556,\"#d8576b\"],[0.6666666666666666,\"#ed7953\"],[0.7777777777777778,\"#fb9f3a\"],[0.8888888888888888,\"#fdca26\"],[1.0,\"#f0f921\"]]}],\"contourcarpet\":[{\"type\":\"contourcarpet\",\"colorbar\":{\"outlinewidth\":0,\"ticks\":\"\"}}],\"contour\":[{\"type\":\"contour\",\"colorbar\":{\"outlinewidth\":0,\"ticks\":\"\"},\"colorscale\":[[0.0,\"#0d0887\"],[0.1111111111111111,\"#46039f\"],[0.2222222222222222,\"#7201a8\"],[0.3333333333333333,\"#9c179e\"],[0.4444444444444444,\"#bd3786\"],[0.5555555555555556,\"#d8576b\"],[0.6666666666666666,\"#ed7953\"],[0.7777777777777778,\"#fb9f3a\"],[0.8888888888888888,\"#fdca26\"],[1.0,\"#f0f921\"]]}],\"surface\":[{\"type\":\"surface\",\"colorbar\":{\"outlinewidth\":0,\"ticks\":\"\"},\"colorscale\":[[0.0,\"#0d0887\"],[0.1111111111111111,\"#46039f\"],[0.2222222222222222,\"#7201a8\"],[0.3333333333333333,\"#9c179e\"],[0.4444444444444444,\"#bd3786\"],[0.5555555555555556,\"#d8576b\"],[0.6666666666666666,\"#ed7953\"],[0.7777777777777778,\"#fb9f3a\"],[0.8888888888888888,\"#fdca26\"],[1.0,\"#f0f921\"]]}],\"mesh3d\":[{\"type\":\"mesh3d\",\"colorbar\":{\"outlinewidth\":0,\"ticks\":\"\"}}],\"scatter\":[{\"fillpattern\":{\"fillmode\":\"overlay\",\"size\":10,\"solidity\":0.2},\"type\":\"scatter\"}],\"parcoords\":[{\"type\":\"parcoords\",\"line\":{\"colorbar\":{\"outlinewidth\":0,\"ticks\":\"\"}}}],\"scatterpolargl\":[{\"type\":\"scatterpolargl\",\"marker\":{\"colorbar\":{\"outlinewidth\":0,\"ticks\":\"\"}}}],\"bar\":[{\"error_x\":{\"color\":\"#2a3f5f\"},\"error_y\":{\"color\":\"#2a3f5f\"},\"marker\":{\"line\":{\"color\":\"#E5ECF6\",\"width\":0.5},\"pattern\":{\"fillmode\":\"overlay\",\"size\":10,\"solidity\":0.2}},\"type\":\"bar\"}],\"scattergeo\":[{\"type\":\"scattergeo\",\"marker\":{\"colorbar\":{\"outlinewidth\":0,\"ticks\":\"\"}}}],\"scatterpolar\":[{\"type\":\"scatterpolar\",\"marker\":{\"colorbar\":{\"outlinewidth\":0,\"ticks\":\"\"}}}],\"histogram\":[{\"marker\":{\"pattern\":{\"fillmode\":\"overlay\",\"size\":10,\"solidity\":0.2}},\"type\":\"histogram\"}],\"scattergl\":[{\"type\":\"scattergl\",\"marker\":{\"colorbar\":{\"outlinewidth\":0,\"ticks\":\"\"}}}],\"scatter3d\":[{\"type\":\"scatter3d\",\"line\":{\"colorbar\":{\"outlinewidth\":0,\"ticks\":\"\"}},\"marker\":{\"colorbar\":{\"outlinewidth\":0,\"ticks\":\"\"}}}],\"scattermapbox\":[{\"type\":\"scattermapbox\",\"marker\":{\"colorbar\":{\"outlinewidth\":0,\"ticks\":\"\"}}}],\"scatterternary\":[{\"type\":\"scatterternary\",\"marker\":{\"colorbar\":{\"outlinewidth\":0,\"ticks\":\"\"}}}],\"scattercarpet\":[{\"type\":\"scattercarpet\",\"marker\":{\"colorbar\":{\"outlinewidth\":0,\"ticks\":\"\"}}}],\"carpet\":[{\"aaxis\":{\"endlinecolor\":\"#2a3f5f\",\"gridcolor\":\"white\",\"linecolor\":\"white\",\"minorgridcolor\":\"white\",\"startlinecolor\":\"#2a3f5f\"},\"baxis\":{\"endlinecolor\":\"#2a3f5f\",\"gridcolor\":\"white\",\"linecolor\":\"white\",\"minorgridcolor\":\"white\",\"startlinecolor\":\"#2a3f5f\"},\"type\":\"carpet\"}],\"table\":[{\"cells\":{\"fill\":{\"color\":\"#EBF0F8\"},\"line\":{\"color\":\"white\"}},\"header\":{\"fill\":{\"color\":\"#C8D4E3\"},\"line\":{\"color\":\"white\"}},\"type\":\"table\"}],\"barpolar\":[{\"marker\":{\"line\":{\"color\":\"#E5ECF6\",\"width\":0.5},\"pattern\":{\"fillmode\":\"overlay\",\"size\":10,\"solidity\":0.2}},\"type\":\"barpolar\"}],\"pie\":[{\"automargin\":true,\"type\":\"pie\"}]},\"layout\":{\"autotypenumbers\":\"strict\",\"colorway\":[\"#636efa\",\"#EF553B\",\"#00cc96\",\"#ab63fa\",\"#FFA15A\",\"#19d3f3\",\"#FF6692\",\"#B6E880\",\"#FF97FF\",\"#FECB52\"],\"font\":{\"color\":\"#2a3f5f\"},\"hovermode\":\"closest\",\"hoverlabel\":{\"align\":\"left\"},\"paper_bgcolor\":\"white\",\"plot_bgcolor\":\"#E5ECF6\",\"polar\":{\"bgcolor\":\"#E5ECF6\",\"angularaxis\":{\"gridcolor\":\"white\",\"linecolor\":\"white\",\"ticks\":\"\"},\"radialaxis\":{\"gridcolor\":\"white\",\"linecolor\":\"white\",\"ticks\":\"\"}},\"ternary\":{\"bgcolor\":\"#E5ECF6\",\"aaxis\":{\"gridcolor\":\"white\",\"linecolor\":\"white\",\"ticks\":\"\"},\"baxis\":{\"gridcolor\":\"white\",\"linecolor\":\"white\",\"ticks\":\"\"},\"caxis\":{\"gridcolor\":\"white\",\"linecolor\":\"white\",\"ticks\":\"\"}},\"coloraxis\":{\"colorbar\":{\"outlinewidth\":0,\"ticks\":\"\"}},\"colorscale\":{\"sequential\":[[0.0,\"#0d0887\"],[0.1111111111111111,\"#46039f\"],[0.2222222222222222,\"#7201a8\"],[0.3333333333333333,\"#9c179e\"],[0.4444444444444444,\"#bd3786\"],[0.5555555555555556,\"#d8576b\"],[0.6666666666666666,\"#ed7953\"],[0.7777777777777778,\"#fb9f3a\"],[0.8888888888888888,\"#fdca26\"],[1.0,\"#f0f921\"]],\"sequentialminus\":[[0.0,\"#0d0887\"],[0.1111111111111111,\"#46039f\"],[0.2222222222222222,\"#7201a8\"],[0.3333333333333333,\"#9c179e\"],[0.4444444444444444,\"#bd3786\"],[0.5555555555555556,\"#d8576b\"],[0.6666666666666666,\"#ed7953\"],[0.7777777777777778,\"#fb9f3a\"],[0.8888888888888888,\"#fdca26\"],[1.0,\"#f0f921\"]],\"diverging\":[[0,\"#8e0152\"],[0.1,\"#c51b7d\"],[0.2,\"#de77ae\"],[0.3,\"#f1b6da\"],[0.4,\"#fde0ef\"],[0.5,\"#f7f7f7\"],[0.6,\"#e6f5d0\"],[0.7,\"#b8e186\"],[0.8,\"#7fbc41\"],[0.9,\"#4d9221\"],[1,\"#276419\"]]},\"xaxis\":{\"gridcolor\":\"white\",\"linecolor\":\"white\",\"ticks\":\"\",\"title\":{\"standoff\":15},\"zerolinecolor\":\"white\",\"automargin\":true,\"zerolinewidth\":2},\"yaxis\":{\"gridcolor\":\"white\",\"linecolor\":\"white\",\"ticks\":\"\",\"title\":{\"standoff\":15},\"zerolinecolor\":\"white\",\"automargin\":true,\"zerolinewidth\":2},\"scene\":{\"xaxis\":{\"backgroundcolor\":\"#E5ECF6\",\"gridcolor\":\"white\",\"linecolor\":\"white\",\"showbackground\":true,\"ticks\":\"\",\"zerolinecolor\":\"white\",\"gridwidth\":2},\"yaxis\":{\"backgroundcolor\":\"#E5ECF6\",\"gridcolor\":\"white\",\"linecolor\":\"white\",\"showbackground\":true,\"ticks\":\"\",\"zerolinecolor\":\"white\",\"gridwidth\":2},\"zaxis\":{\"backgroundcolor\":\"#E5ECF6\",\"gridcolor\":\"white\",\"linecolor\":\"white\",\"showbackground\":true,\"ticks\":\"\",\"zerolinecolor\":\"white\",\"gridwidth\":2}},\"shapedefaults\":{\"line\":{\"color\":\"#2a3f5f\"}},\"annotationdefaults\":{\"arrowcolor\":\"#2a3f5f\",\"arrowhead\":0,\"arrowwidth\":1},\"geo\":{\"bgcolor\":\"white\",\"landcolor\":\"#E5ECF6\",\"subunitcolor\":\"white\",\"showland\":true,\"showlakes\":true,\"lakecolor\":\"white\"},\"title\":{\"x\":0.05},\"mapbox\":{\"style\":\"light\"}}},\"scene\":{\"domain\":{\"x\":[0.0,1.0],\"y\":[0.0,1.0]},\"xaxis\":{\"title\":{\"text\":\"x\"}},\"yaxis\":{\"title\":{\"text\":\"y\"}},\"zaxis\":{\"title\":{\"text\":\"z\"}}},\"legend\":{\"title\":{\"text\":\"color\"},\"tracegroupgap\":0},\"margin\":{\"t\":60}},                        {\"responsive\": true}                    ).then(function(){\n",
              "                            \n",
              "var gd = document.getElementById('6d72a0c6-7c7e-46c7-b135-35f3f35535b9');\n",
              "var x = new MutationObserver(function (mutations, observer) {{\n",
              "        var display = window.getComputedStyle(gd).display;\n",
              "        if (!display || display === 'none') {{\n",
              "            console.log([gd, 'removed!']);\n",
              "            Plotly.purge(gd);\n",
              "            observer.disconnect();\n",
              "        }}\n",
              "}});\n",
              "\n",
              "// Listen for the removal of the full notebook cells\n",
              "var notebookContainer = gd.closest('#notebook-container');\n",
              "if (notebookContainer) {{\n",
              "    x.observe(notebookContainer, {childList: true});\n",
              "}}\n",
              "\n",
              "// Listen for the clearing of the current output cell\n",
              "var outputEl = gd.closest('.output');\n",
              "if (outputEl) {{\n",
              "    x.observe(outputEl, {childList: true});\n",
              "}}\n",
              "\n",
              "                        })                };                            </script>        </div>\n",
              "</body>\n",
              "</html>"
            ]
          },
          "metadata": {}
        }
      ]
    },
    {
      "cell_type": "markdown",
      "source": [
        "<details>\n",
        "  <summary>\n",
        "    Если ячейка не загрузилась, должно быть так\n",
        "  </summary>\n",
        "\n",
        "  ![График](https://drive.google.com/uc?export=view&id=1HdTa3JMVQgpKA21lzC-9AMFvokW21qbt)\n",
        "</details>"
      ],
      "metadata": {
        "id": "k04g2gL74Sbo"
      }
    },
    {
      "cell_type": "markdown",
      "source": [
        "Однако мы все еще не учитываем ландшафт\n",
        "\n",
        "Модифицируем задачу:\n",
        "- На каждом шаге получаем все возможные решения\n",
        "- Выбрасываем решения, которые идут через реки и горы\n",
        "- Выбрасываем решения, которые идут через уже посещенные точки (убираем циклы)\n",
        "- Из оставшихся решений выбираем решение с наименьшим расстоянием\n"
      ],
      "metadata": {
        "id": "ZF4XNQcemMFi"
      }
    },
    {
      "cell_type": "code",
      "source": [
        "def count_greedy_path(idx_from, idx_to):\n",
        "    # Код тут\n",
        "    greedy_path = [idx_from]\n",
        "    curr_idx = idx_from\n",
        "    init_dist = count_dist(idx_from, idx_to)\n",
        "\n",
        "    curr_dist = init_dist\n",
        "    curr_data = hills_map[curr_idx]\n",
        "    coords = np.array(curr_data[:3])\n",
        "\n",
        "    while curr_dist > 0:\n",
        "\n",
        "        moves_dist = {}\n",
        "        for move in ALL_MOVEMENTS:\n",
        "            n_coords = coords + move\n",
        "\n",
        "            n_idx = get_idx(n_coords)\n",
        "\n",
        "            if n_idx in hexagon_idxs and hills_map[n_idx][-1] not in [RIVER_TYPE, HILLS_TYPE] and n_idx not in greedy_path:\n",
        "\n",
        "                new_dist = count_dist(n_idx, idx_to)\n",
        "                moves_dist[new_dist] = n_idx\n",
        "\n",
        "        if moves_dist:\n",
        "            min_dist = min(moves_dist)\n",
        "            n_idx = moves_dist[min_dist]\n",
        "            curr_dist = count_dist(n_idx, idx_to)\n",
        "            curr_idx = n_idx\n",
        "            n_data = hills_map[curr_idx]\n",
        "            coords = np.array(n_data[:3])\n",
        "\n",
        "            greedy_path.append(curr_idx)\n",
        "        else: # застрял\n",
        "            return greedy_path\n",
        "\n",
        "\n",
        "    return greedy_path"
      ],
      "metadata": {
        "id": "RXaMaqS0hcXf"
      },
      "execution_count": null,
      "outputs": []
    },
    {
      "cell_type": "code",
      "source": [
        "visualise_greedy_solve(29_540, 46_220)"
      ],
      "metadata": {
        "colab": {
          "base_uri": "https://localhost:8080/",
          "height": 542
        },
        "id": "LavDEqplifI0",
        "outputId": "3f1fc388-edb7-4ba4-e553-15f238432c07"
      },
      "execution_count": null,
      "outputs": [
        {
          "output_type": "display_data",
          "data": {
            "text/html": [
              "<html>\n",
              "<head><meta charset=\"utf-8\" /></head>\n",
              "<body>\n",
              "    <div>            <script src=\"https://cdnjs.cloudflare.com/ajax/libs/mathjax/2.7.5/MathJax.js?config=TeX-AMS-MML_SVG\"></script><script type=\"text/javascript\">if (window.MathJax && window.MathJax.Hub && window.MathJax.Hub.Config) {window.MathJax.Hub.Config({SVG: {font: \"STIX-Web\"}});}</script>                <script type=\"text/javascript\">window.PlotlyConfig = {MathJaxConfig: 'local'};</script>\n",
              "        <script charset=\"utf-8\" src=\"https://cdn.plot.ly/plotly-2.24.1.min.js\"></script>                <div id=\"d8b4c382-033f-4644-9eb3-ff8a6fae84f6\" class=\"plotly-graph-div\" style=\"height:525px; width:100%;\"></div>            <script type=\"text/javascript\">                                    window.PLOTLYENV=window.PLOTLYENV || {};                                    if (document.getElementById(\"d8b4c382-033f-4644-9eb3-ff8a6fae84f6\")) {                    Plotly.newPlot(                        \"d8b4c382-033f-4644-9eb3-ff8a6fae84f6\",                        [{\"hovertemplate\":\"\\u003cb\\u003e%{hovertext}\\u003c\\u002fb\\u003e\\u003cbr\\u003e\\u003cbr\\u003ecolor=Plain\\u003cbr\\u003ex=%{x}\\u003cbr\\u003ey=%{y}\\u003cbr\\u003ez=%{z}\\u003cextra\\u003e\\u003c\\u002fextra\\u003e\",\"hovertext\":[860.0,900.0,940.0,980.0,1020.0,1060.0,1100.0,1140.0,1180.0,1220.0,1260.0,1300.0,1340.0,1500.0,1540.0,1580.0,1620.0,1660.0,2540.0,2580.0,2620.0,2660.0,2700.0,2740.0,2780.0,2820.0,2860.0,2900.0,2940.0,2980.0,3140.0,3180.0,3220.0,3260.0,4140.0,4180.0,4220.0,4260.0,4300.0,4340.0,4380.0,4420.0,4460.0,4500.0,4540.0,4580.0,4620.0,4660.0,4780.0,4820.0,4860.0,4900.0,5780.0,5820.0,5860.0,5900.0,5940.0,5980.0,6020.0,6060.0,6100.0,6140.0,6180.0,6220.0,6260.0,6300.0,6340.0,6380.0,6460.0,6500.0,6540.0,6580.0,6700.0,7420.0,7500.0,7540.0,7580.0,7620.0,7660.0,7700.0,7740.0,7780.0,7820.0,7860.0,7900.0,7940.0,7980.0,8020.0,8060.0,8140.0,8180.0,8220.0,8260.0,8340.0,8380.0,9060.0,9100.0,9140.0,9180.0,9220.0,9260.0,9340.0,9380.0,9420.0,9460.0,9500.0,9540.0,9580.0,9620.0,9660.0,9700.0,9740.0,9820.0,9860.0,9900.0,9940.0,9980.0,10020.0,10060.0,10700.0,10740.0,10780.0,10820.0,10860.0,10900.0,10940.0,11060.0,11100.0,11140.0,11180.0,11220.0,11260.0,11300.0,11340.0,11380.0,11420.0,11460.0,11620.0,11660.0,11700.0,11740.0,12340.0,12380.0,12420.0,12460.0,12500.0,12540.0,12580.0,12620.0,12660.0,12740.0,12780.0,12820.0,12860.0,12900.0,12940.0,12980.0,13020.0,13060.0,13100.0,13140.0,13340.0,13380.0,13420.0,13980.0,14020.0,14060.0,14100.0,14140.0,14180.0,14220.0,14260.0,14300.0,14340.0,14460.0,14500.0,14540.0,14580.0,14620.0,14660.0,14700.0,14740.0,14780.0,14820.0,14860.0,14900.0,14940.0,15020.0,15060.0,15100.0,15620.0,15660.0,15700.0,15740.0,15780.0,15820.0,15860.0,15900.0,15940.0,15980.0,16020.0,16060.0,16100.0,16140.0,16180.0,16220.0,16340.0,16380.0,16420.0,16460.0,16500.0,16540.0,16580.0,16620.0,16700.0,16740.0,16780.0,17260.0,17300.0,17340.0,17380.0,17420.0,17460.0,17500.0,17540.0,17580.0,17620.0,17660.0,17700.0,17740.0,17780.0,17820.0,17860.0,17900.0,17940.0,18020.0,18060.0,18140.0,18180.0,18220.0,18260.0,18300.0,18340.0,18380.0,18420.0,18460.0,18900.0,18940.0,18980.0,19020.0,19060.0,19100.0,19140.0,19180.0,19220.0,19260.0,19300.0,19340.0,19380.0,19420.0,19460.0,19500.0,19540.0,19580.0,19620.0,19700.0,19740.0,19860.0,19900.0,19940.0,19980.0,20020.0,20060.0,20100.0,20140.0,20540.0,20580.0,20620.0,20660.0,20700.0,20740.0,20780.0,20820.0,20860.0,20900.0,20940.0,20980.0,21020.0,21060.0,21100.0,21140.0,21180.0,21220.0,21260.0,21300.0,21380.0,21420.0,21460.0,21500.0,21540.0,21580.0,21620.0,21660.0,21700.0,21740.0,21780.0,21820.0,22180.0,22220.0,22260.0,22300.0,22340.0,22380.0,22420.0,22460.0,22500.0,22540.0,22580.0,22620.0,22660.0,22700.0,22740.0,22780.0,22820.0,22860.0,22900.0,22940.0,22980.0,23020.0,23060.0,23100.0,23140.0,23180.0,23220.0,23260.0,23300.0,23340.0,23380.0,23420.0,23460.0,23500.0,23820.0,23860.0,23940.0,23980.0,24020.0,24060.0,24100.0,24140.0,24180.0,24220.0,24260.0,24300.0,24340.0,24380.0,24420.0,24460.0,24500.0,24540.0,24580.0,24620.0,24660.0,24700.0,24740.0,24780.0,24820.0,24860.0,24900.0,24940.0,24980.0,25020.0,25060.0,25100.0,25140.0,25180.0,25460.0,25500.0,25540.0,25620.0,25660.0,25700.0,25740.0,25780.0,25820.0,25860.0,25900.0,25940.0,25980.0,26020.0,26060.0,26100.0,26140.0,26180.0,26220.0,26260.0,26300.0,26340.0,26380.0,26420.0,26460.0,26500.0,26540.0,26580.0,26620.0,26660.0,26700.0,26740.0,26780.0,26820.0,26860.0,27100.0,27140.0,27180.0,27220.0,27300.0,27340.0,27380.0,27420.0,27460.0,27500.0,27540.0,27580.0,27620.0,27660.0,27700.0,27740.0,27780.0,27820.0,27860.0,27900.0,27940.0,27980.0,28020.0,28060.0,28100.0,28220.0,28260.0,28300.0,28340.0,28380.0,28420.0,28460.0,28500.0,28540.0,28740.0,28780.0,28820.0,28860.0,28900.0,29060.0,29100.0,29140.0,29180.0,29220.0,29260.0,29300.0,29380.0,29500.0,29660.0,29700.0,29740.0,29900.0,29940.0,29980.0,30020.0,30060.0,30100.0,30140.0,30180.0,30220.0,30380.0,30420.0,30460.0,30500.0,30540.0,30580.0,30620.0,30660.0,30700.0,30740.0,30780.0,30820.0,30860.0,30900.0,30940.0,30980.0,31340.0,31380.0,31420.0,31540.0,31580.0,31660.0,31860.0,31900.0,32020.0,32060.0,32100.0,32140.0,32180.0,32220.0,32260.0,32300.0,32340.0,32380.0,32420.0,32460.0,32500.0,32540.0,32580.0,32620.0,32660.0,32700.0,32740.0,32780.0,32820.0,33020.0,33060.0,33100.0,33140.0,33180.0,33220.0,33260.0,33580.0,33660.0,33700.0,33740.0,33780.0,33820.0,33860.0,33900.0,33940.0,33980.0,34020.0,34060.0,34100.0,34140.0,34180.0,34220.0,34260.0,34300.0,34340.0,34380.0,34420.0,34460.0,34500.0,34660.0,34700.0,34740.0,34780.0,34820.0,34860.0,34900.0,34940.0,34980.0,35020.0,35060.0,35220.0,35260.0,35340.0,35380.0,35420.0,35460.0,35500.0,35540.0,35580.0,35620.0,35660.0,35700.0,35740.0,35780.0,35820.0,35860.0,35900.0,35940.0,35980.0,36020.0,36060.0,36100.0,36140.0,36180.0,36220.0,36300.0,36340.0,36380.0,36420.0,36460.0,36500.0,36540.0,36580.0,36620.0,36660.0,36700.0,36900.0,37020.0,37060.0,37100.0,37140.0,37180.0,37220.0,37260.0,37300.0,37380.0,37420.0,37500.0,37540.0,37580.0,37620.0,37660.0,37700.0,37740.0,37780.0,37820.0,37860.0,37900.0,37980.0,38020.0,38060.0,38100.0,38140.0,38180.0,38220.0,38260.0,38300.0,38340.0,38380.0,38500.0,38700.0,38740.0,38780.0,38820.0,38860.0,38900.0,38940.0,38980.0,39020.0,39060.0,39100.0,39140.0,39180.0,39220.0,39260.0,39300.0,39340.0,39420.0,39460.0,39500.0,39540.0,39620.0,39660.0,39700.0,39740.0,39780.0,39820.0,39860.0,39900.0,39940.0,39980.0,40020.0,40060.0,40100.0,40180.0,40380.0,40460.0,40500.0,40540.0,40580.0,40620.0,40660.0,40740.0,40780.0,40820.0,40860.0,40900.0,40940.0,40980.0,41020.0,41100.0,41140.0,41180.0,41220.0,41380.0,41420.0,41460.0,41500.0,41540.0,41580.0,41620.0,41660.0,41700.0,41740.0,41780.0,42140.0,42180.0,42220.0,42260.0,42300.0,42340.0,42380.0,42420.0,42460.0,42500.0,42540.0,42580.0,42620.0,42660.0,42700.0,42820.0,42860.0,43060.0,43140.0,43180.0,43220.0,43260.0,43300.0,43340.0,43380.0,43420.0,43780.0,43820.0,43860.0,43900.0,43940.0,43980.0,44020.0,44060.0,44100.0,44140.0,44180.0,44220.0,44260.0,44300.0,44340.0,44380.0,44420.0,44460.0,44740.0,44820.0,44860.0,44900.0,44940.0,44980.0,45020.0,45060.0,45100.0,45460.0,45500.0,45540.0,45580.0,45620.0,45660.0,45700.0,45740.0,45780.0,45820.0,45860.0,45900.0,45940.0,45980.0,46020.0,46060.0,46100.0,46140.0,46180.0,46420.0,46500.0,46540.0,46580.0,46620.0,46660.0,46700.0,46740.0,47100.0,47140.0,47180.0,47220.0,47260.0,47300.0,47340.0,47380.0,47420.0,47460.0,47500.0,47540.0,47580.0,47620.0,47660.0,47700.0,47740.0,47780.0,47820.0,47860.0,48060.0,48100.0,48140.0,48180.0,48220.0,48260.0,48300.0,48340.0,48380.0,48780.0,48820.0,48860.0,48900.0,48940.0,48980.0,49020.0,49060.0,49100.0,49140.0,49180.0,49220.0,49300.0,49340.0,49380.0,49420.0,49460.0,49500.0,49540.0,49580.0,49620.0,49660.0,49700.0,49740.0,49780.0,49820.0,49860.0,49900.0,49940.0,49980.0,50020.0,50460.0,50500.0,50540.0,50580.0,50620.0,50660.0,50700.0,50740.0,50780.0,50820.0,50860.0,50900.0,50980.0,51020.0,51060.0,51100.0,51140.0,51180.0,51220.0,51300.0,51340.0,51380.0,51420.0,51460.0,51500.0,51540.0,51580.0,51620.0,51660.0,52140.0,52180.0,52220.0,52260.0,52300.0,52340.0,52380.0,52420.0,52460.0,52500.0,52540.0,52580.0,52660.0,52700.0,52740.0,52780.0,52820.0,52860.0,52940.0,52980.0,53020.0,53060.0,53100.0,53140.0,53180.0,53220.0,53820.0,53860.0,53900.0,53940.0,53980.0,54020.0,54060.0,54100.0,54340.0,54380.0,54420.0,54460.0,54500.0,54540.0,54740.0,54780.0,54820.0,54860.0,55500.0,55540.0,55580.0,55620.0,55660.0,55700.0,55740.0,55780.0,55820.0,55860.0,55900.0,55940.0,56060.0,56100.0,56140.0,56180.0,56220.0,56260.0,56420.0,56460.0,56500.0,56540.0,57180.0,57220.0,57260.0,57300.0,57340.0,57380.0,57420.0,57460.0,57500.0,57540.0,57580.0,57740.0,57780.0,57820.0,57860.0,57900.0,57940.0,58060.0,58100.0,58140.0,58180.0,58220.0,58860.0,58900.0,58940.0,59060.0,59180.0,59220.0,59460.0,59580.0,59620.0,59660.0,59700.0,59740.0,59780.0,59820.0,59860.0,60540.0,60580.0,60620.0,60660.0,60860.0,60980.0,61260.0,61300.0,61340.0,61380.0,61420.0,61460.0,61500.0,62220.0,62260.0,62300.0,62340.0,62380.0,62500.0,62660.0,62700.0,62740.0,62780.0,62900.0,62940.0,62980.0,63020.0,63060.0,63100.0,63140.0,63900.0,63940.0,63980.0,64020.0,64060.0,64100.0,64140.0,64180.0,64300.0,64340.0,64380.0,64420.0,64460.0,64500.0,64540.0,64580.0,64620.0,64660.0,64740.0,64780.0,65580.0,65620.0,65660.0,65700.0,65740.0,65780.0,65820.0,65860.0,65900.0,65940.0,65980.0,66020.0,66060.0,66100.0,66140.0,66180.0,66220.0,66260.0,66300.0,66340.0,66420.0,67260.0,67300.0,67340.0,67380.0,67420.0,67460.0,67500.0,67540.0,67580.0,67620.0,67660.0,67700.0,67740.0,67780.0,67820.0,67860.0,67900.0,67940.0,67980.0,68020.0],\"legendgroup\":\"Plain\",\"marker\":{\"color\":\"#387C44\",\"symbol\":\"circle\"},\"mode\":\"markers\",\"name\":\"Plain\",\"scene\":\"scene\",\"showlegend\":true,\"x\":[0,0,0,0,0,0,0,0,0,0,0,0,0,0,0,0,0,0,1,1,1,1,1,1,1,1,1,1,1,1,1,1,1,1,2,2,2,2,2,2,2,2,2,2,2,2,2,2,2,2,2,2,3,3,3,3,3,3,3,3,3,3,3,3,3,3,3,3,3,3,3,3,3,4,4,4,4,4,4,4,4,4,4,4,4,4,4,4,4,4,4,4,4,4,4,5,5,5,5,5,5,5,5,5,5,5,5,5,5,5,5,5,5,5,5,5,5,5,5,6,6,6,6,6,6,6,6,6,6,6,6,6,6,6,6,6,6,6,6,6,6,7,7,7,7,7,7,7,7,7,7,7,7,7,7,7,7,7,7,7,7,7,7,7,8,8,8,8,8,8,8,8,8,8,8,8,8,8,8,8,8,8,8,8,8,8,8,8,8,8,9,9,9,9,9,9,9,9,9,9,9,9,9,9,9,9,9,9,9,9,9,9,9,9,9,9,9,10,10,10,10,10,10,10,10,10,10,10,10,10,10,10,10,10,10,10,10,10,10,10,10,10,10,10,10,10,11,11,11,11,11,11,11,11,11,11,11,11,11,11,11,11,11,11,11,11,11,11,11,11,11,11,11,11,11,12,12,12,12,12,12,12,12,12,12,12,12,12,12,12,12,12,12,12,12,12,12,12,12,12,12,12,12,12,12,12,12,13,13,13,13,13,13,13,13,13,13,13,13,13,13,13,13,13,13,13,13,13,13,13,13,13,13,13,13,13,13,13,13,13,13,14,14,14,14,14,14,14,14,14,14,14,14,14,14,14,14,14,14,14,14,14,14,14,14,14,14,14,14,14,14,14,14,14,14,15,15,15,15,15,15,15,15,15,15,15,15,15,15,15,15,15,15,15,15,15,15,15,15,15,15,15,15,15,15,15,15,15,15,15,16,16,16,16,16,16,16,16,16,16,16,16,16,16,16,16,16,16,16,16,16,16,16,16,16,16,16,16,16,16,16,16,16,16,17,17,17,17,17,17,17,17,17,17,17,17,17,17,17,17,17,17,17,17,17,17,17,17,17,17,18,18,18,18,18,18,18,18,18,18,18,18,18,18,18,18,18,18,18,18,18,18,18,18,19,19,19,19,19,19,19,19,19,19,19,19,19,19,19,19,19,19,19,19,19,19,19,19,19,19,19,19,19,20,20,20,20,20,20,20,20,20,20,20,20,20,20,20,20,20,20,20,20,20,20,20,20,20,20,20,20,20,20,20,20,20,20,20,21,21,21,21,21,21,21,21,21,21,21,21,21,21,21,21,21,21,21,21,21,21,21,21,21,21,21,21,21,21,21,21,21,21,21,22,22,22,22,22,22,22,22,22,22,22,22,22,22,22,22,22,22,22,22,22,22,22,22,22,22,22,22,22,22,22,22,22,23,23,23,23,23,23,23,23,23,23,23,23,23,23,23,23,23,23,23,23,23,23,23,23,23,23,23,23,23,23,23,23,23,23,23,24,24,24,24,24,24,24,24,24,24,24,24,24,24,24,24,24,24,24,24,24,24,24,24,24,24,24,24,24,24,25,25,25,25,25,25,25,25,25,25,25,25,25,25,25,25,25,25,25,25,25,25,25,25,25,25,26,26,26,26,26,26,26,26,26,26,26,26,26,26,26,26,26,26,26,26,26,26,26,26,26,26,26,27,27,27,27,27,27,27,27,27,27,27,27,27,27,27,27,27,27,27,27,27,27,27,27,27,27,27,28,28,28,28,28,28,28,28,28,28,28,28,28,28,28,28,28,28,28,28,28,28,28,28,28,28,28,28,28,29,29,29,29,29,29,29,29,29,29,29,29,29,29,29,29,29,29,29,29,29,29,29,29,29,29,29,29,29,29,29,30,30,30,30,30,30,30,30,30,30,30,30,30,30,30,30,30,30,30,30,30,30,30,30,30,30,30,30,30,31,31,31,31,31,31,31,31,31,31,31,31,31,31,31,31,31,31,31,31,31,31,31,31,31,31,32,32,32,32,32,32,32,32,32,32,32,32,32,32,32,32,32,32,33,33,33,33,33,33,33,33,33,33,33,33,33,33,33,33,33,33,33,33,33,33,34,34,34,34,34,34,34,34,34,34,34,34,34,34,34,34,34,34,34,34,34,34,35,35,35,35,35,35,35,35,35,35,35,35,35,35,35,36,36,36,36,36,36,36,36,36,36,36,36,36,37,37,37,37,37,37,37,37,37,37,37,37,37,37,37,37,37,38,38,38,38,38,38,38,38,38,38,38,38,38,38,38,38,38,38,38,38,39,39,39,39,39,39,39,39,39,39,39,39,39,39,39,39,39,39,39,39,39,40,40,40,40,40,40,40,40,40,40,40,40,40,40,40,40,40,40,40,40],\"y\":[20,21,22,23,24,25,26,27,28,29,30,31,32,36,37,38,39,40,20,21,22,23,24,25,26,27,28,29,30,31,35,36,37,38,18,19,20,21,22,23,24,25,26,27,28,29,30,31,34,35,36,37,17,18,19,20,21,22,23,24,25,26,27,28,29,30,31,32,34,35,36,37,40,16,18,19,20,21,22,23,24,25,26,27,28,29,30,31,32,34,35,36,37,39,40,15,16,17,18,19,20,22,23,24,25,26,27,28,29,30,31,32,34,35,36,37,38,39,40,14,15,16,17,18,19,20,23,24,25,26,27,28,29,30,31,32,33,37,38,39,40,13,14,15,16,17,18,19,20,21,23,24,25,26,27,28,29,30,31,32,33,38,39,40,12,13,14,15,16,17,18,19,20,21,24,25,26,27,28,29,30,31,32,33,34,35,36,38,39,40,11,12,13,14,15,16,17,18,19,20,21,22,23,24,25,26,29,30,31,32,33,34,35,36,38,39,40,10,11,12,13,14,15,16,17,18,19,20,21,22,23,24,25,26,27,29,30,32,33,34,35,36,37,38,39,40,9,10,11,12,13,14,15,16,17,18,19,20,21,22,23,24,25,26,27,29,30,33,34,35,36,37,38,39,40,8,9,10,11,12,13,14,15,16,17,18,19,20,21,22,23,24,25,26,27,29,30,31,32,33,34,35,36,37,38,39,40,7,8,9,10,11,12,13,14,15,16,17,18,19,20,21,22,23,24,25,26,27,28,29,30,31,32,33,34,35,36,37,38,39,40,6,7,9,10,11,12,13,14,15,16,17,18,19,20,21,22,23,24,25,26,27,28,29,30,31,32,33,34,35,36,37,38,39,40,5,6,7,9,10,11,12,13,14,15,16,17,18,19,20,21,22,23,24,25,26,27,28,29,30,31,32,33,34,35,36,37,38,39,40,4,5,6,7,9,10,11,12,13,14,15,16,17,18,19,20,21,22,23,24,25,26,27,28,29,32,33,34,35,36,37,38,39,40,3,4,5,6,7,11,12,13,14,15,16,17,19,22,26,27,28,32,33,34,35,36,37,38,39,40,2,3,4,5,6,7,8,9,10,11,12,13,14,15,16,17,26,27,28,31,32,34,39,40,1,2,3,4,5,6,7,8,9,10,11,12,13,14,15,16,17,18,19,20,21,26,27,28,29,30,31,32,40,0,1,2,3,4,5,6,7,8,9,10,11,12,13,14,15,16,17,18,19,20,21,25,26,27,28,29,30,31,32,33,34,35,39,40,0,1,2,3,4,5,6,7,8,9,10,11,12,13,14,15,16,17,18,19,20,21,22,24,25,26,27,28,29,30,31,32,33,34,39,0,1,2,3,4,5,6,7,9,10,12,13,14,15,16,17,18,19,20,21,22,24,25,26,27,28,29,30,31,32,33,34,37,0,1,2,3,4,5,6,7,8,9,10,11,12,13,14,15,16,18,19,20,21,23,24,25,26,27,28,29,30,31,32,33,34,35,37,0,2,3,4,5,6,7,9,10,11,12,13,14,15,16,18,19,20,21,25,26,27,28,29,30,31,32,33,34,35,2,3,4,5,6,7,8,9,10,11,12,13,14,15,16,19,20,25,27,28,29,30,31,32,33,34,1,2,3,4,5,6,7,8,9,10,11,12,13,14,15,16,17,18,25,27,28,29,30,31,32,33,34,1,2,3,4,5,6,7,8,9,10,11,12,13,14,15,16,17,18,19,25,27,28,29,30,31,32,33,0,1,2,3,4,5,6,7,8,9,10,11,12,13,14,15,16,17,18,19,24,25,26,27,28,29,30,31,32,0,1,2,3,4,5,6,7,8,9,10,11,13,14,15,16,17,18,19,20,21,22,23,24,25,26,27,28,29,30,31,0,1,2,3,4,5,6,7,8,9,10,11,13,14,15,16,17,18,19,21,22,23,24,25,26,27,28,29,30,0,1,2,3,4,5,6,7,8,9,10,11,13,14,15,16,17,18,20,21,22,23,24,25,26,27,0,1,2,3,4,5,6,7,13,14,15,16,17,18,23,24,25,26,0,1,2,3,4,5,6,7,8,9,10,11,14,15,16,17,18,19,23,24,25,26,0,1,2,3,4,5,6,7,8,9,10,14,15,16,17,18,19,22,23,24,25,26,0,1,2,5,8,9,15,18,19,20,21,22,23,24,25,0,1,2,3,8,11,18,19,20,21,22,23,24,0,1,2,3,4,7,11,12,13,14,17,18,19,20,21,22,23,0,1,2,3,4,5,6,7,10,11,12,13,14,15,16,17,18,19,21,22,0,1,2,3,4,5,6,7,8,9,10,11,12,13,14,15,16,17,18,19,21,0,1,2,3,4,5,6,7,8,9,10,11,12,13,14,15,16,17,18,19],\"z\":[40,39,38,37,36,35,34,33,32,31,30,29,28,24,23,22,21,20,39,38,37,36,35,34,33,32,31,30,29,28,24,23,22,21,40,39,38,37,36,35,34,33,32,31,30,29,28,27,24,23,22,21,40,39,38,37,36,35,34,33,32,31,30,29,28,27,26,25,23,22,21,20,17,40,38,37,36,35,34,33,32,31,30,29,28,27,26,25,24,22,21,20,19,17,16,40,39,38,37,36,35,33,32,31,30,29,28,27,26,25,24,23,21,20,19,18,17,16,15,40,39,38,37,36,35,34,31,30,29,28,27,26,25,24,23,22,21,17,16,15,14,40,39,38,37,36,35,34,33,32,30,29,28,27,26,25,24,23,22,21,20,15,14,13,40,39,38,37,36,35,34,33,32,31,28,27,26,25,24,23,22,21,20,19,18,17,16,14,13,12,40,39,38,37,36,35,34,33,32,31,30,29,28,27,26,25,22,21,20,19,18,17,16,15,13,12,11,40,39,38,37,36,35,34,33,32,31,30,29,28,27,26,25,24,23,21,20,18,17,16,15,14,13,12,11,10,40,39,38,37,36,35,34,33,32,31,30,29,28,27,26,25,24,23,22,20,19,16,15,14,13,12,11,10,9,40,39,38,37,36,35,34,33,32,31,30,29,28,27,26,25,24,23,22,21,19,18,17,16,15,14,13,12,11,10,9,8,40,39,38,37,36,35,34,33,32,31,30,29,28,27,26,25,24,23,22,21,20,19,18,17,16,15,14,13,12,11,10,9,8,7,40,39,37,36,35,34,33,32,31,30,29,28,27,26,25,24,23,22,21,20,19,18,17,16,15,14,13,12,11,10,9,8,7,6,40,39,38,36,35,34,33,32,31,30,29,28,27,26,25,24,23,22,21,20,19,18,17,16,15,14,13,12,11,10,9,8,7,6,5,40,39,38,37,35,34,33,32,31,30,29,28,27,26,25,24,23,22,21,20,19,18,17,16,15,12,11,10,9,8,7,6,5,4,40,39,38,37,36,32,31,30,29,28,27,26,24,21,17,16,15,11,10,9,8,7,6,5,4,3,40,39,38,37,36,35,34,33,32,31,30,29,28,27,26,25,16,15,14,11,10,8,3,2,40,39,38,37,36,35,34,33,32,31,30,29,28,27,26,25,24,23,22,21,20,15,14,13,12,11,10,9,1,40,39,38,37,36,35,34,33,32,31,30,29,28,27,26,25,24,23,22,21,20,19,15,14,13,12,11,10,9,8,7,6,5,1,0,39,38,37,36,35,34,33,32,31,30,29,28,27,26,25,24,23,22,21,20,19,18,17,15,14,13,12,11,10,9,8,7,6,5,0,38,37,36,35,34,33,32,31,29,28,26,25,24,23,22,21,20,19,18,17,16,14,13,12,11,10,9,8,7,6,5,4,1,37,36,35,34,33,32,31,30,29,28,27,26,25,24,23,22,21,19,18,17,16,14,13,12,11,10,9,8,7,6,5,4,3,2,0,36,34,33,32,31,30,29,27,26,25,24,23,22,21,20,18,17,16,15,11,10,9,8,7,6,5,4,3,2,1,33,32,31,30,29,28,27,26,25,24,23,22,21,20,19,16,15,10,8,7,6,5,4,3,2,1,33,32,31,30,29,28,27,26,25,24,23,22,21,20,19,18,17,16,9,7,6,5,4,3,2,1,0,32,31,30,29,28,27,26,25,24,23,22,21,20,19,18,17,16,15,14,8,6,5,4,3,2,1,0,32,31,30,29,28,27,26,25,24,23,22,21,20,19,18,17,16,15,14,13,8,7,6,5,4,3,2,1,0,31,30,29,28,27,26,25,24,23,22,21,20,18,17,16,15,14,13,12,11,10,9,8,7,6,5,4,3,2,1,0,30,29,28,27,26,25,24,23,22,21,20,19,17,16,15,14,13,12,11,9,8,7,6,5,4,3,2,1,0,29,28,27,26,25,24,23,22,21,20,19,18,16,15,14,13,12,11,9,8,7,6,5,4,3,2,28,27,26,25,24,23,22,21,15,14,13,12,11,10,5,4,3,2,27,26,25,24,23,22,21,20,19,18,17,16,13,12,11,10,9,8,4,3,2,1,26,25,24,23,22,21,20,19,18,17,16,12,11,10,9,8,7,4,3,2,1,0,25,24,23,20,17,16,10,7,6,5,4,3,2,1,0,24,23,22,21,16,13,6,5,4,3,2,1,0,23,22,21,20,19,16,12,11,10,9,6,5,4,3,2,1,0,22,21,20,19,18,17,16,15,12,11,10,9,8,7,6,5,4,3,1,0,21,20,19,18,17,16,15,14,13,12,11,10,9,8,7,6,5,4,3,2,0,20,19,18,17,16,15,14,13,12,11,10,9,8,7,6,5,4,3,2,1],\"type\":\"scatter3d\"},{\"hovertemplate\":\"\\u003cb\\u003e%{hovertext}\\u003c\\u002fb\\u003e\\u003cbr\\u003e\\u003cbr\\u003ecolor=Hill\\u003cbr\\u003ex=%{x}\\u003cbr\\u003ey=%{y}\\u003cbr\\u003ez=%{z}\\u003cextra\\u003e\\u003c\\u002fextra\\u003e\",\"hovertext\":[1380.0,1420.0,1460.0,3060.0,3100.0,3300.0,3340.0,4940.0,4980.0,5020.0,6620.0,6660.0,28140.0,28180.0,29780.0,29820.0,29860.0,31220.0,31260.0,31460.0,31500.0,32860.0,32900.0,32940.0,33460.0,33500.0,34540.0,34580.0,35100.0,35140.0,35180.0,36780.0,36820.0,53260.0,53300.0,54660.0,54700.0,54900.0,54940.0,56300.0,56340.0,56380.0,56580.0,57980.0,58020.0,59100.0,59140.0,59500.0,59540.0,60740.0,60780.0,60820.0,60900.0,60940.0,61140.0,61180.0,61220.0,62420.0,62460.0,62540.0,62580.0,62620.0,62820.0,62860.0,64220.0,64260.0],\"legendgroup\":\"Hill\",\"marker\":{\"color\":\"gray\",\"symbol\":\"circle\"},\"mode\":\"markers\",\"name\":\"Hill\",\"scene\":\"scene\",\"showlegend\":true,\"x\":[0,0,0,1,1,1,1,2,2,2,3,3,16,16,17,17,17,18,18,18,18,19,19,19,19,19,20,20,20,20,20,21,21,31,31,32,32,32,32,33,33,33,33,34,34,35,35,35,35,36,36,36,36,36,36,36,36,37,37,37,37,37,37,37,38,38],\"y\":[33,34,35,33,34,39,40,38,39,40,38,39,30,31,29,30,31,23,24,29,30,22,23,24,37,38,22,23,36,37,38,36,37,28,29,21,22,27,28,20,21,22,27,20,21,6,7,16,17,5,6,7,9,10,15,16,17,5,6,8,9,10,15,16,8,9],\"z\":[27,26,25,26,25,20,19,20,19,18,19,18,14,13,14,13,12,19,18,13,12,19,18,17,4,3,18,17,4,3,2,3,2,1,0,7,6,1,0,7,6,5,0,6,5,19,18,9,8,19,18,17,15,14,9,8,7,18,17,15,14,13,8,7,14,13],\"type\":\"scatter3d\"},{\"hovertemplate\":\"\\u003cb\\u003e%{hovertext}\\u003c\\u002fb\\u003e\\u003cbr\\u003e\\u003cbr\\u003ecolor=River\\u003cbr\\u003ex=%{x}\\u003cbr\\u003ey=%{y}\\u003cbr\\u003ez=%{z}\\u003cextra\\u003e\\u003c\\u002fextra\\u003e\",\"hovertext\":[2500.0,3020.0,4700.0,4740.0,6420.0,7460.0,8100.0,8300.0,9300.0,9780.0,10980.0,11020.0,11500.0,11540.0,11580.0,12700.0,13180.0,13220.0,13260.0,13300.0,14380.0,14420.0,14980.0,16260.0,16300.0,16660.0,17980.0,18100.0,19660.0,19780.0,19820.0,21340.0,23900.0,25580.0,27260.0,28940.0,28980.0,29020.0,29340.0,29420.0,29460.0,31020.0,31060.0,31100.0,31140.0,31180.0,31620.0,31700.0,31740.0,31780.0,31820.0,33300.0,33340.0,33380.0,33420.0,33540.0,36740.0,36860.0,37340.0,37460.0,38420.0,38460.0,38540.0,39380.0,40140.0,40420.0,40700.0,41060.0,41820.0,42060.0,42100.0,42740.0,42780.0,43100.0,43460.0,43740.0,44500.0,44540.0,44580.0,44780.0,45420.0,46260.0,46300.0,46340.0,46460.0,49260.0,50940.0,51260.0,52620.0,52900.0,54140.0,54180.0,54220.0,54260.0,54300.0,54580.0,54620.0,55980.0,56020.0,57620.0,57660.0,57700.0,58980.0,59020.0,59260.0,59300.0,59340.0,59380.0,59420.0,60700.0,61020.0,61060.0,61100.0,64700.0,66380.0,68060.0],\"legendgroup\":\"River\",\"marker\":{\"color\":\"#3EA99F\",\"symbol\":\"circle\"},\"mode\":\"markers\",\"name\":\"River\",\"scene\":\"scene\",\"showlegend\":true,\"x\":[1,1,2,2,3,4,4,4,5,5,6,6,6,6,6,7,7,7,7,7,8,8,8,9,9,9,10,10,11,11,11,12,14,15,16,17,17,17,17,17,17,18,18,18,18,18,18,18,18,18,18,19,19,19,19,19,21,21,22,22,22,22,22,23,23,24,24,24,24,25,25,25,25,25,25,26,26,26,26,26,27,27,27,27,27,29,30,30,31,31,32,32,32,32,32,32,32,33,33,34,34,34,35,35,35,35,35,35,35,36,36,36,36,38,39,40],\"y\":[19,32,32,33,33,17,33,38,21,33,21,22,34,35,36,22,34,35,36,37,22,23,37,27,28,37,28,31,28,31,32,28,8,8,8,8,9,10,18,20,21,18,19,20,21,22,33,35,36,37,38,33,34,35,36,39,35,38,8,11,35,36,38,17,36,1,8,17,36,0,1,17,18,26,35,0,19,20,21,26,0,21,22,23,26,12,12,20,12,19,8,9,10,11,12,19,20,12,13,11,12,13,3,4,10,11,12,13,14,4,12,13,14,20,20,20],\"z\":[40,27,26,25,24,39,23,18,34,22,33,32,20,19,18,31,19,18,17,16,30,29,15,24,23,14,22,19,21,18,17,20,38,37,36,35,34,33,25,23,22,24,23,22,21,20,9,7,6,5,4,8,7,6,5,2,4,1,30,27,3,2,0,20,1,35,28,19,0,35,34,18,17,9,0,34,15,14,13,8,33,12,11,10,7,19,18,10,17,10,20,19,18,17,16,9,8,15,14,15,14,13,22,21,15,14,13,12,11,20,12,11,10,2,1,0],\"type\":\"scatter3d\"},{\"hovertemplate\":\"\\u003cb\\u003e%{hovertext}\\u003c\\u002fb\\u003e\\u003cbr\\u003e\\u003cbr\\u003ecolor=Route\\u003cbr\\u003ex=%{x}\\u003cbr\\u003ey=%{y}\\u003cbr\\u003ez=%{z}\\u003cextra\\u003e\\u003c\\u002fextra\\u003e\",\"hovertext\":[29540.0,29580.0,29620.0,31300.0,32980.0,34620.0,36260.0,37940.0,39580.0,41260.0,41300.0,41340.0,42900.0,42940.0,42980.0,43020.0,44620.0,44660.0,44700.0,46220.0,46380.0,47900.0,47940.0,47980.0,48020.0],\"legendgroup\":\"Route\",\"marker\":{\"color\":\"maroon\",\"symbol\":\"circle\"},\"mode\":\"markers\",\"name\":\"Route\",\"scene\":\"scene\",\"showlegend\":true,\"x\":[17,17,17,18,19,20,21,22,23,24,24,24,25,25,25,25,26,26,26,27,27,28,28,28,28],\"y\":[23,24,25,25,25,24,23,23,22,22,23,24,21,22,23,24,22,23,24,20,24,20,21,22,23],\"z\":[20,19,18,17,16,16,16,15,15,14,13,12,14,13,12,11,12,11,10,13,9,12,11,10,9],\"type\":\"scatter3d\"}],                        {\"template\":{\"data\":{\"histogram2dcontour\":[{\"type\":\"histogram2dcontour\",\"colorbar\":{\"outlinewidth\":0,\"ticks\":\"\"},\"colorscale\":[[0.0,\"#0d0887\"],[0.1111111111111111,\"#46039f\"],[0.2222222222222222,\"#7201a8\"],[0.3333333333333333,\"#9c179e\"],[0.4444444444444444,\"#bd3786\"],[0.5555555555555556,\"#d8576b\"],[0.6666666666666666,\"#ed7953\"],[0.7777777777777778,\"#fb9f3a\"],[0.8888888888888888,\"#fdca26\"],[1.0,\"#f0f921\"]]}],\"choropleth\":[{\"type\":\"choropleth\",\"colorbar\":{\"outlinewidth\":0,\"ticks\":\"\"}}],\"histogram2d\":[{\"type\":\"histogram2d\",\"colorbar\":{\"outlinewidth\":0,\"ticks\":\"\"},\"colorscale\":[[0.0,\"#0d0887\"],[0.1111111111111111,\"#46039f\"],[0.2222222222222222,\"#7201a8\"],[0.3333333333333333,\"#9c179e\"],[0.4444444444444444,\"#bd3786\"],[0.5555555555555556,\"#d8576b\"],[0.6666666666666666,\"#ed7953\"],[0.7777777777777778,\"#fb9f3a\"],[0.8888888888888888,\"#fdca26\"],[1.0,\"#f0f921\"]]}],\"heatmap\":[{\"type\":\"heatmap\",\"colorbar\":{\"outlinewidth\":0,\"ticks\":\"\"},\"colorscale\":[[0.0,\"#0d0887\"],[0.1111111111111111,\"#46039f\"],[0.2222222222222222,\"#7201a8\"],[0.3333333333333333,\"#9c179e\"],[0.4444444444444444,\"#bd3786\"],[0.5555555555555556,\"#d8576b\"],[0.6666666666666666,\"#ed7953\"],[0.7777777777777778,\"#fb9f3a\"],[0.8888888888888888,\"#fdca26\"],[1.0,\"#f0f921\"]]}],\"heatmapgl\":[{\"type\":\"heatmapgl\",\"colorbar\":{\"outlinewidth\":0,\"ticks\":\"\"},\"colorscale\":[[0.0,\"#0d0887\"],[0.1111111111111111,\"#46039f\"],[0.2222222222222222,\"#7201a8\"],[0.3333333333333333,\"#9c179e\"],[0.4444444444444444,\"#bd3786\"],[0.5555555555555556,\"#d8576b\"],[0.6666666666666666,\"#ed7953\"],[0.7777777777777778,\"#fb9f3a\"],[0.8888888888888888,\"#fdca26\"],[1.0,\"#f0f921\"]]}],\"contourcarpet\":[{\"type\":\"contourcarpet\",\"colorbar\":{\"outlinewidth\":0,\"ticks\":\"\"}}],\"contour\":[{\"type\":\"contour\",\"colorbar\":{\"outlinewidth\":0,\"ticks\":\"\"},\"colorscale\":[[0.0,\"#0d0887\"],[0.1111111111111111,\"#46039f\"],[0.2222222222222222,\"#7201a8\"],[0.3333333333333333,\"#9c179e\"],[0.4444444444444444,\"#bd3786\"],[0.5555555555555556,\"#d8576b\"],[0.6666666666666666,\"#ed7953\"],[0.7777777777777778,\"#fb9f3a\"],[0.8888888888888888,\"#fdca26\"],[1.0,\"#f0f921\"]]}],\"surface\":[{\"type\":\"surface\",\"colorbar\":{\"outlinewidth\":0,\"ticks\":\"\"},\"colorscale\":[[0.0,\"#0d0887\"],[0.1111111111111111,\"#46039f\"],[0.2222222222222222,\"#7201a8\"],[0.3333333333333333,\"#9c179e\"],[0.4444444444444444,\"#bd3786\"],[0.5555555555555556,\"#d8576b\"],[0.6666666666666666,\"#ed7953\"],[0.7777777777777778,\"#fb9f3a\"],[0.8888888888888888,\"#fdca26\"],[1.0,\"#f0f921\"]]}],\"mesh3d\":[{\"type\":\"mesh3d\",\"colorbar\":{\"outlinewidth\":0,\"ticks\":\"\"}}],\"scatter\":[{\"fillpattern\":{\"fillmode\":\"overlay\",\"size\":10,\"solidity\":0.2},\"type\":\"scatter\"}],\"parcoords\":[{\"type\":\"parcoords\",\"line\":{\"colorbar\":{\"outlinewidth\":0,\"ticks\":\"\"}}}],\"scatterpolargl\":[{\"type\":\"scatterpolargl\",\"marker\":{\"colorbar\":{\"outlinewidth\":0,\"ticks\":\"\"}}}],\"bar\":[{\"error_x\":{\"color\":\"#2a3f5f\"},\"error_y\":{\"color\":\"#2a3f5f\"},\"marker\":{\"line\":{\"color\":\"#E5ECF6\",\"width\":0.5},\"pattern\":{\"fillmode\":\"overlay\",\"size\":10,\"solidity\":0.2}},\"type\":\"bar\"}],\"scattergeo\":[{\"type\":\"scattergeo\",\"marker\":{\"colorbar\":{\"outlinewidth\":0,\"ticks\":\"\"}}}],\"scatterpolar\":[{\"type\":\"scatterpolar\",\"marker\":{\"colorbar\":{\"outlinewidth\":0,\"ticks\":\"\"}}}],\"histogram\":[{\"marker\":{\"pattern\":{\"fillmode\":\"overlay\",\"size\":10,\"solidity\":0.2}},\"type\":\"histogram\"}],\"scattergl\":[{\"type\":\"scattergl\",\"marker\":{\"colorbar\":{\"outlinewidth\":0,\"ticks\":\"\"}}}],\"scatter3d\":[{\"type\":\"scatter3d\",\"line\":{\"colorbar\":{\"outlinewidth\":0,\"ticks\":\"\"}},\"marker\":{\"colorbar\":{\"outlinewidth\":0,\"ticks\":\"\"}}}],\"scattermapbox\":[{\"type\":\"scattermapbox\",\"marker\":{\"colorbar\":{\"outlinewidth\":0,\"ticks\":\"\"}}}],\"scatterternary\":[{\"type\":\"scatterternary\",\"marker\":{\"colorbar\":{\"outlinewidth\":0,\"ticks\":\"\"}}}],\"scattercarpet\":[{\"type\":\"scattercarpet\",\"marker\":{\"colorbar\":{\"outlinewidth\":0,\"ticks\":\"\"}}}],\"carpet\":[{\"aaxis\":{\"endlinecolor\":\"#2a3f5f\",\"gridcolor\":\"white\",\"linecolor\":\"white\",\"minorgridcolor\":\"white\",\"startlinecolor\":\"#2a3f5f\"},\"baxis\":{\"endlinecolor\":\"#2a3f5f\",\"gridcolor\":\"white\",\"linecolor\":\"white\",\"minorgridcolor\":\"white\",\"startlinecolor\":\"#2a3f5f\"},\"type\":\"carpet\"}],\"table\":[{\"cells\":{\"fill\":{\"color\":\"#EBF0F8\"},\"line\":{\"color\":\"white\"}},\"header\":{\"fill\":{\"color\":\"#C8D4E3\"},\"line\":{\"color\":\"white\"}},\"type\":\"table\"}],\"barpolar\":[{\"marker\":{\"line\":{\"color\":\"#E5ECF6\",\"width\":0.5},\"pattern\":{\"fillmode\":\"overlay\",\"size\":10,\"solidity\":0.2}},\"type\":\"barpolar\"}],\"pie\":[{\"automargin\":true,\"type\":\"pie\"}]},\"layout\":{\"autotypenumbers\":\"strict\",\"colorway\":[\"#636efa\",\"#EF553B\",\"#00cc96\",\"#ab63fa\",\"#FFA15A\",\"#19d3f3\",\"#FF6692\",\"#B6E880\",\"#FF97FF\",\"#FECB52\"],\"font\":{\"color\":\"#2a3f5f\"},\"hovermode\":\"closest\",\"hoverlabel\":{\"align\":\"left\"},\"paper_bgcolor\":\"white\",\"plot_bgcolor\":\"#E5ECF6\",\"polar\":{\"bgcolor\":\"#E5ECF6\",\"angularaxis\":{\"gridcolor\":\"white\",\"linecolor\":\"white\",\"ticks\":\"\"},\"radialaxis\":{\"gridcolor\":\"white\",\"linecolor\":\"white\",\"ticks\":\"\"}},\"ternary\":{\"bgcolor\":\"#E5ECF6\",\"aaxis\":{\"gridcolor\":\"white\",\"linecolor\":\"white\",\"ticks\":\"\"},\"baxis\":{\"gridcolor\":\"white\",\"linecolor\":\"white\",\"ticks\":\"\"},\"caxis\":{\"gridcolor\":\"white\",\"linecolor\":\"white\",\"ticks\":\"\"}},\"coloraxis\":{\"colorbar\":{\"outlinewidth\":0,\"ticks\":\"\"}},\"colorscale\":{\"sequential\":[[0.0,\"#0d0887\"],[0.1111111111111111,\"#46039f\"],[0.2222222222222222,\"#7201a8\"],[0.3333333333333333,\"#9c179e\"],[0.4444444444444444,\"#bd3786\"],[0.5555555555555556,\"#d8576b\"],[0.6666666666666666,\"#ed7953\"],[0.7777777777777778,\"#fb9f3a\"],[0.8888888888888888,\"#fdca26\"],[1.0,\"#f0f921\"]],\"sequentialminus\":[[0.0,\"#0d0887\"],[0.1111111111111111,\"#46039f\"],[0.2222222222222222,\"#7201a8\"],[0.3333333333333333,\"#9c179e\"],[0.4444444444444444,\"#bd3786\"],[0.5555555555555556,\"#d8576b\"],[0.6666666666666666,\"#ed7953\"],[0.7777777777777778,\"#fb9f3a\"],[0.8888888888888888,\"#fdca26\"],[1.0,\"#f0f921\"]],\"diverging\":[[0,\"#8e0152\"],[0.1,\"#c51b7d\"],[0.2,\"#de77ae\"],[0.3,\"#f1b6da\"],[0.4,\"#fde0ef\"],[0.5,\"#f7f7f7\"],[0.6,\"#e6f5d0\"],[0.7,\"#b8e186\"],[0.8,\"#7fbc41\"],[0.9,\"#4d9221\"],[1,\"#276419\"]]},\"xaxis\":{\"gridcolor\":\"white\",\"linecolor\":\"white\",\"ticks\":\"\",\"title\":{\"standoff\":15},\"zerolinecolor\":\"white\",\"automargin\":true,\"zerolinewidth\":2},\"yaxis\":{\"gridcolor\":\"white\",\"linecolor\":\"white\",\"ticks\":\"\",\"title\":{\"standoff\":15},\"zerolinecolor\":\"white\",\"automargin\":true,\"zerolinewidth\":2},\"scene\":{\"xaxis\":{\"backgroundcolor\":\"#E5ECF6\",\"gridcolor\":\"white\",\"linecolor\":\"white\",\"showbackground\":true,\"ticks\":\"\",\"zerolinecolor\":\"white\",\"gridwidth\":2},\"yaxis\":{\"backgroundcolor\":\"#E5ECF6\",\"gridcolor\":\"white\",\"linecolor\":\"white\",\"showbackground\":true,\"ticks\":\"\",\"zerolinecolor\":\"white\",\"gridwidth\":2},\"zaxis\":{\"backgroundcolor\":\"#E5ECF6\",\"gridcolor\":\"white\",\"linecolor\":\"white\",\"showbackground\":true,\"ticks\":\"\",\"zerolinecolor\":\"white\",\"gridwidth\":2}},\"shapedefaults\":{\"line\":{\"color\":\"#2a3f5f\"}},\"annotationdefaults\":{\"arrowcolor\":\"#2a3f5f\",\"arrowhead\":0,\"arrowwidth\":1},\"geo\":{\"bgcolor\":\"white\",\"landcolor\":\"#E5ECF6\",\"subunitcolor\":\"white\",\"showland\":true,\"showlakes\":true,\"lakecolor\":\"white\"},\"title\":{\"x\":0.05},\"mapbox\":{\"style\":\"light\"}}},\"scene\":{\"domain\":{\"x\":[0.0,1.0],\"y\":[0.0,1.0]},\"xaxis\":{\"title\":{\"text\":\"x\"}},\"yaxis\":{\"title\":{\"text\":\"y\"}},\"zaxis\":{\"title\":{\"text\":\"z\"}}},\"legend\":{\"title\":{\"text\":\"color\"},\"tracegroupgap\":0},\"margin\":{\"t\":60}},                        {\"responsive\": true}                    ).then(function(){\n",
              "                            \n",
              "var gd = document.getElementById('d8b4c382-033f-4644-9eb3-ff8a6fae84f6');\n",
              "var x = new MutationObserver(function (mutations, observer) {{\n",
              "        var display = window.getComputedStyle(gd).display;\n",
              "        if (!display || display === 'none') {{\n",
              "            console.log([gd, 'removed!']);\n",
              "            Plotly.purge(gd);\n",
              "            observer.disconnect();\n",
              "        }}\n",
              "}});\n",
              "\n",
              "// Listen for the removal of the full notebook cells\n",
              "var notebookContainer = gd.closest('#notebook-container');\n",
              "if (notebookContainer) {{\n",
              "    x.observe(notebookContainer, {childList: true});\n",
              "}}\n",
              "\n",
              "// Listen for the clearing of the current output cell\n",
              "var outputEl = gd.closest('.output');\n",
              "if (outputEl) {{\n",
              "    x.observe(outputEl, {childList: true});\n",
              "}}\n",
              "\n",
              "                        })                };                            </script>        </div>\n",
              "</body>\n",
              "</html>"
            ]
          },
          "metadata": {}
        }
      ]
    },
    {
      "cell_type": "markdown",
      "source": [
        "<details>\n",
        "  <summary>\n",
        "    Если ячейка не загрузилась, должно быть так\n",
        "  </summary>\n",
        "\n",
        "  ![График](https://drive.google.com/uc?export=view&id=1uOr-9bYE0Q_CnuLWGoXnY0X7fIQ-l9iX)\n",
        "</details>"
      ],
      "metadata": {
        "id": "i1VGZB7f4b8E"
      }
    },
    {
      "cell_type": "code",
      "source": [
        "visualise_greedy_solve(29_380, 58_060)"
      ],
      "metadata": {
        "colab": {
          "base_uri": "https://localhost:8080/",
          "height": 542
        },
        "id": "SejE1nOGl2FK",
        "outputId": "b86de17c-6c05-4696-a081-8924b4c0c564"
      },
      "execution_count": null,
      "outputs": [
        {
          "output_type": "display_data",
          "data": {
            "text/html": [
              "<html>\n",
              "<head><meta charset=\"utf-8\" /></head>\n",
              "<body>\n",
              "    <div>            <script src=\"https://cdnjs.cloudflare.com/ajax/libs/mathjax/2.7.5/MathJax.js?config=TeX-AMS-MML_SVG\"></script><script type=\"text/javascript\">if (window.MathJax && window.MathJax.Hub && window.MathJax.Hub.Config) {window.MathJax.Hub.Config({SVG: {font: \"STIX-Web\"}});}</script>                <script type=\"text/javascript\">window.PlotlyConfig = {MathJaxConfig: 'local'};</script>\n",
              "        <script charset=\"utf-8\" src=\"https://cdn.plot.ly/plotly-2.24.1.min.js\"></script>                <div id=\"6ec749a6-8a38-417e-ac80-3af1dd56033d\" class=\"plotly-graph-div\" style=\"height:525px; width:100%;\"></div>            <script type=\"text/javascript\">                                    window.PLOTLYENV=window.PLOTLYENV || {};                                    if (document.getElementById(\"6ec749a6-8a38-417e-ac80-3af1dd56033d\")) {                    Plotly.newPlot(                        \"6ec749a6-8a38-417e-ac80-3af1dd56033d\",                        [{\"hovertemplate\":\"\\u003cb\\u003e%{hovertext}\\u003c\\u002fb\\u003e\\u003cbr\\u003e\\u003cbr\\u003ecolor=Plain\\u003cbr\\u003ex=%{x}\\u003cbr\\u003ey=%{y}\\u003cbr\\u003ez=%{z}\\u003cextra\\u003e\\u003c\\u002fextra\\u003e\",\"hovertext\":[860.0,900.0,940.0,980.0,1020.0,1060.0,1100.0,1140.0,1180.0,1220.0,1260.0,1300.0,1340.0,1500.0,1540.0,1580.0,1620.0,1660.0,2540.0,2580.0,2620.0,2660.0,2700.0,2740.0,2780.0,2820.0,2860.0,2900.0,2940.0,2980.0,3140.0,3180.0,3220.0,3260.0,4140.0,4180.0,4220.0,4260.0,4300.0,4340.0,4380.0,4420.0,4460.0,4500.0,4540.0,4580.0,4620.0,4660.0,4780.0,4820.0,4860.0,4900.0,5780.0,5820.0,5860.0,5900.0,5940.0,5980.0,6020.0,6060.0,6100.0,6140.0,6180.0,6220.0,6260.0,6300.0,6340.0,6380.0,6460.0,6500.0,6540.0,6580.0,6700.0,7420.0,7500.0,7540.0,7580.0,7620.0,7660.0,7700.0,7740.0,7780.0,7820.0,7860.0,7900.0,7940.0,7980.0,8020.0,8060.0,8140.0,8180.0,8220.0,8260.0,8340.0,8380.0,9060.0,9100.0,9140.0,9180.0,9220.0,9260.0,9340.0,9380.0,9420.0,9460.0,9500.0,9540.0,9580.0,9620.0,9660.0,9700.0,9740.0,9820.0,9860.0,9900.0,9940.0,9980.0,10020.0,10060.0,10700.0,10740.0,10780.0,10820.0,10860.0,10900.0,10940.0,11060.0,11100.0,11140.0,11180.0,11220.0,11260.0,11300.0,11340.0,11380.0,11420.0,11460.0,11620.0,11660.0,11700.0,11740.0,12340.0,12380.0,12420.0,12460.0,12500.0,12540.0,12580.0,12620.0,12660.0,12740.0,12780.0,12820.0,12860.0,12900.0,12940.0,12980.0,13020.0,13060.0,13100.0,13140.0,13340.0,13380.0,13420.0,13980.0,14020.0,14060.0,14100.0,14140.0,14180.0,14220.0,14260.0,14300.0,14340.0,14460.0,14500.0,14540.0,14580.0,14620.0,14660.0,14700.0,14740.0,14780.0,14820.0,14860.0,14900.0,14940.0,15020.0,15060.0,15100.0,15620.0,15660.0,15700.0,15740.0,15780.0,15820.0,15860.0,15900.0,15940.0,15980.0,16020.0,16060.0,16100.0,16140.0,16180.0,16220.0,16340.0,16380.0,16420.0,16460.0,16500.0,16540.0,16580.0,16620.0,16700.0,16740.0,16780.0,17260.0,17300.0,17340.0,17380.0,17420.0,17460.0,17500.0,17540.0,17580.0,17620.0,17660.0,17700.0,17740.0,17780.0,17820.0,17860.0,17900.0,17940.0,18020.0,18060.0,18140.0,18180.0,18220.0,18260.0,18300.0,18340.0,18380.0,18420.0,18460.0,18900.0,18940.0,18980.0,19020.0,19060.0,19100.0,19140.0,19180.0,19220.0,19260.0,19300.0,19340.0,19380.0,19420.0,19460.0,19500.0,19540.0,19580.0,19620.0,19700.0,19740.0,19860.0,19900.0,19940.0,19980.0,20020.0,20060.0,20100.0,20140.0,20540.0,20580.0,20620.0,20660.0,20700.0,20740.0,20780.0,20820.0,20860.0,20900.0,20940.0,20980.0,21020.0,21060.0,21100.0,21140.0,21180.0,21220.0,21260.0,21300.0,21380.0,21420.0,21460.0,21500.0,21540.0,21580.0,21620.0,21660.0,21700.0,21740.0,21780.0,21820.0,22180.0,22220.0,22260.0,22300.0,22340.0,22380.0,22420.0,22460.0,22500.0,22540.0,22580.0,22620.0,22660.0,22700.0,22740.0,22780.0,22820.0,22860.0,22900.0,22940.0,22980.0,23020.0,23060.0,23100.0,23140.0,23180.0,23220.0,23260.0,23300.0,23340.0,23380.0,23420.0,23460.0,23500.0,23820.0,23860.0,23940.0,23980.0,24020.0,24060.0,24100.0,24140.0,24180.0,24220.0,24260.0,24300.0,24340.0,24380.0,24420.0,24460.0,24500.0,24540.0,24580.0,24620.0,24660.0,24700.0,24740.0,24780.0,24820.0,24860.0,24900.0,24940.0,24980.0,25020.0,25060.0,25100.0,25140.0,25180.0,25460.0,25500.0,25540.0,25620.0,25660.0,25700.0,25740.0,25780.0,25820.0,25860.0,25900.0,25940.0,25980.0,26020.0,26060.0,26100.0,26140.0,26180.0,26220.0,26260.0,26300.0,26340.0,26380.0,26420.0,26460.0,26500.0,26540.0,26580.0,26620.0,26660.0,26700.0,26740.0,26780.0,26820.0,26860.0,27100.0,27140.0,27180.0,27220.0,27300.0,27340.0,27380.0,27420.0,27460.0,27500.0,27540.0,27580.0,27620.0,27660.0,27700.0,27860.0,27900.0,27940.0,27980.0,28020.0,28060.0,28100.0,28220.0,28260.0,28300.0,28340.0,28380.0,28420.0,28460.0,28500.0,28540.0,28740.0,28780.0,28820.0,28860.0,28900.0,29060.0,29100.0,29140.0,29180.0,29220.0,29260.0,29300.0,29660.0,29700.0,29740.0,29900.0,29940.0,29980.0,30020.0,30060.0,30100.0,30140.0,30180.0,30220.0,30380.0,30420.0,30460.0,30500.0,30540.0,30580.0,30620.0,30660.0,30700.0,30740.0,30780.0,30820.0,30860.0,30900.0,30940.0,30980.0,31340.0,31380.0,31420.0,31540.0,31580.0,31660.0,31860.0,31900.0,32020.0,32060.0,32100.0,32140.0,32180.0,32220.0,32260.0,32300.0,32340.0,32380.0,32420.0,32460.0,32500.0,32540.0,32580.0,32620.0,32660.0,32700.0,32740.0,32780.0,32820.0,33020.0,33060.0,33100.0,33140.0,33180.0,33220.0,33260.0,33580.0,33660.0,33700.0,33740.0,33780.0,33820.0,33860.0,33900.0,33940.0,33980.0,34020.0,34060.0,34100.0,34140.0,34180.0,34220.0,34260.0,34300.0,34340.0,34380.0,34420.0,34460.0,34500.0,34620.0,34700.0,34740.0,34780.0,34820.0,34860.0,34900.0,34940.0,34980.0,35020.0,35060.0,35220.0,35260.0,35340.0,35380.0,35420.0,35460.0,35500.0,35540.0,35580.0,35620.0,35660.0,35700.0,35740.0,35780.0,35820.0,35860.0,35900.0,35940.0,35980.0,36020.0,36060.0,36100.0,36140.0,36180.0,36220.0,36260.0,36300.0,36380.0,36420.0,36460.0,36500.0,36540.0,36580.0,36620.0,36660.0,36700.0,36900.0,37020.0,37060.0,37100.0,37140.0,37180.0,37220.0,37260.0,37300.0,37380.0,37420.0,37500.0,37540.0,37580.0,37620.0,37660.0,37700.0,37740.0,37780.0,37820.0,37860.0,37900.0,37940.0,37980.0,38060.0,38100.0,38140.0,38180.0,38220.0,38260.0,38300.0,38340.0,38380.0,38500.0,38700.0,38740.0,38780.0,38820.0,38860.0,38900.0,38940.0,38980.0,39020.0,39060.0,39100.0,39140.0,39180.0,39220.0,39260.0,39300.0,39340.0,39420.0,39460.0,39500.0,39540.0,39580.0,39620.0,39660.0,39740.0,39780.0,39820.0,39860.0,39900.0,39940.0,39980.0,40020.0,40060.0,40100.0,40180.0,40380.0,40460.0,40500.0,40540.0,40580.0,40620.0,40660.0,40740.0,40780.0,40820.0,40860.0,40900.0,40940.0,40980.0,41020.0,41100.0,41140.0,41180.0,41220.0,41260.0,41300.0,41340.0,41420.0,41460.0,41500.0,41540.0,41580.0,41620.0,41660.0,41700.0,41740.0,41780.0,42140.0,42180.0,42220.0,42260.0,42300.0,42340.0,42380.0,42420.0,42460.0,42500.0,42540.0,42580.0,42620.0,42660.0,42700.0,42820.0,42860.0,42900.0,42940.0,42980.0,43020.0,43140.0,43180.0,43220.0,43260.0,43300.0,43340.0,43380.0,43420.0,43780.0,43820.0,43860.0,43900.0,43940.0,43980.0,44020.0,44060.0,44100.0,44140.0,44180.0,44220.0,44260.0,44300.0,44340.0,44380.0,44420.0,44460.0,44620.0,44660.0,44700.0,44820.0,44860.0,44900.0,44940.0,44980.0,45020.0,45060.0,45100.0,45460.0,45500.0,45540.0,45580.0,45620.0,45660.0,45700.0,45740.0,45780.0,45820.0,45860.0,45900.0,45940.0,45980.0,46020.0,46060.0,46100.0,46140.0,46180.0,46220.0,46380.0,46500.0,46540.0,46580.0,46620.0,46660.0,46700.0,46740.0,47100.0,47140.0,47180.0,47220.0,47260.0,47300.0,47340.0,47380.0,47420.0,47460.0,47500.0,47540.0,47580.0,47620.0,47660.0,47700.0,47740.0,47780.0,47820.0,47860.0,47900.0,47940.0,47980.0,48020.0,48060.0,48140.0,48180.0,48220.0,48260.0,48300.0,48340.0,48380.0,48780.0,48820.0,48860.0,48900.0,48940.0,48980.0,49020.0,49060.0,49100.0,49140.0,49180.0,49220.0,49300.0,49340.0,49380.0,49420.0,49460.0,49500.0,49540.0,49580.0,49620.0,49660.0,49700.0,49740.0,49820.0,49860.0,49900.0,49940.0,49980.0,50020.0,50460.0,50500.0,50540.0,50580.0,50620.0,50660.0,50700.0,50740.0,50780.0,50820.0,50860.0,50900.0,50980.0,51020.0,51060.0,51100.0,51140.0,51180.0,51220.0,51300.0,51340.0,51380.0,51460.0,51500.0,51540.0,51580.0,51620.0,51660.0,52140.0,52180.0,52220.0,52260.0,52300.0,52340.0,52380.0,52420.0,52460.0,52500.0,52540.0,52580.0,52660.0,52700.0,52740.0,52780.0,52820.0,52860.0,52940.0,52980.0,53020.0,53060.0,53140.0,53180.0,53220.0,53820.0,53860.0,53900.0,53940.0,53980.0,54020.0,54060.0,54100.0,54340.0,54380.0,54420.0,54460.0,54500.0,54540.0,54780.0,54820.0,54860.0,55500.0,55540.0,55580.0,55620.0,55660.0,55700.0,55740.0,55780.0,55820.0,55860.0,55900.0,55940.0,56060.0,56100.0,56140.0,56180.0,56220.0,56260.0,56460.0,56500.0,56540.0,57180.0,57220.0,57260.0,57300.0,57340.0,57380.0,57420.0,57460.0,57500.0,57540.0,57580.0,57740.0,57780.0,57820.0,57860.0,57900.0,57940.0,58100.0,58140.0,58180.0,58220.0,58860.0,58900.0,58940.0,59060.0,59180.0,59220.0,59460.0,59580.0,59620.0,59660.0,59700.0,59740.0,59780.0,59820.0,59860.0,60540.0,60580.0,60620.0,60660.0,60860.0,60980.0,61260.0,61300.0,61340.0,61380.0,61420.0,61460.0,61500.0,62220.0,62260.0,62300.0,62340.0,62380.0,62500.0,62660.0,62700.0,62740.0,62780.0,62900.0,62940.0,62980.0,63020.0,63060.0,63100.0,63140.0,63900.0,63940.0,63980.0,64020.0,64060.0,64100.0,64140.0,64180.0,64300.0,64340.0,64380.0,64420.0,64460.0,64500.0,64540.0,64580.0,64620.0,64660.0,64740.0,64780.0,65580.0,65620.0,65660.0,65700.0,65740.0,65780.0,65820.0,65860.0,65900.0,65940.0,65980.0,66020.0,66060.0,66100.0,66140.0,66180.0,66220.0,66260.0,66300.0,66340.0,66420.0,67260.0,67300.0,67340.0,67380.0,67420.0,67460.0,67500.0,67540.0,67580.0,67620.0,67660.0,67700.0,67740.0,67780.0,67820.0,67860.0,67900.0,67940.0,67980.0,68020.0],\"legendgroup\":\"Plain\",\"marker\":{\"color\":\"#387C44\",\"symbol\":\"circle\"},\"mode\":\"markers\",\"name\":\"Plain\",\"scene\":\"scene\",\"showlegend\":true,\"x\":[0,0,0,0,0,0,0,0,0,0,0,0,0,0,0,0,0,0,1,1,1,1,1,1,1,1,1,1,1,1,1,1,1,1,2,2,2,2,2,2,2,2,2,2,2,2,2,2,2,2,2,2,3,3,3,3,3,3,3,3,3,3,3,3,3,3,3,3,3,3,3,3,3,4,4,4,4,4,4,4,4,4,4,4,4,4,4,4,4,4,4,4,4,4,4,5,5,5,5,5,5,5,5,5,5,5,5,5,5,5,5,5,5,5,5,5,5,5,5,6,6,6,6,6,6,6,6,6,6,6,6,6,6,6,6,6,6,6,6,6,6,7,7,7,7,7,7,7,7,7,7,7,7,7,7,7,7,7,7,7,7,7,7,7,8,8,8,8,8,8,8,8,8,8,8,8,8,8,8,8,8,8,8,8,8,8,8,8,8,8,9,9,9,9,9,9,9,9,9,9,9,9,9,9,9,9,9,9,9,9,9,9,9,9,9,9,9,10,10,10,10,10,10,10,10,10,10,10,10,10,10,10,10,10,10,10,10,10,10,10,10,10,10,10,10,10,11,11,11,11,11,11,11,11,11,11,11,11,11,11,11,11,11,11,11,11,11,11,11,11,11,11,11,11,11,12,12,12,12,12,12,12,12,12,12,12,12,12,12,12,12,12,12,12,12,12,12,12,12,12,12,12,12,12,12,12,12,13,13,13,13,13,13,13,13,13,13,13,13,13,13,13,13,13,13,13,13,13,13,13,13,13,13,13,13,13,13,13,13,13,13,14,14,14,14,14,14,14,14,14,14,14,14,14,14,14,14,14,14,14,14,14,14,14,14,14,14,14,14,14,14,14,14,14,14,15,15,15,15,15,15,15,15,15,15,15,15,15,15,15,15,15,15,15,15,15,15,15,15,15,15,15,15,15,15,15,15,15,15,15,16,16,16,16,16,16,16,16,16,16,16,16,16,16,16,16,16,16,16,16,16,16,16,16,16,16,16,16,16,16,16,17,17,17,17,17,17,17,17,17,17,17,17,17,17,17,17,17,17,17,17,17,17,17,17,18,18,18,18,18,18,18,18,18,18,18,18,18,18,18,18,18,18,18,18,18,18,18,18,19,19,19,19,19,19,19,19,19,19,19,19,19,19,19,19,19,19,19,19,19,19,19,19,19,19,19,19,19,20,20,20,20,20,20,20,20,20,20,20,20,20,20,20,20,20,20,20,20,20,20,20,20,20,20,20,20,20,20,20,20,20,20,20,21,21,21,21,21,21,21,21,21,21,21,21,21,21,21,21,21,21,21,21,21,21,21,21,21,21,21,21,21,21,21,21,21,21,21,22,22,22,22,22,22,22,22,22,22,22,22,22,22,22,22,22,22,22,22,22,22,22,22,22,22,22,22,22,22,22,22,22,23,23,23,23,23,23,23,23,23,23,23,23,23,23,23,23,23,23,23,23,23,23,23,23,23,23,23,23,23,23,23,23,23,23,23,24,24,24,24,24,24,24,24,24,24,24,24,24,24,24,24,24,24,24,24,24,24,24,24,24,24,24,24,24,24,24,24,25,25,25,25,25,25,25,25,25,25,25,25,25,25,25,25,25,25,25,25,25,25,25,25,25,25,25,25,25,26,26,26,26,26,26,26,26,26,26,26,26,26,26,26,26,26,26,26,26,26,26,26,26,26,26,26,26,26,27,27,27,27,27,27,27,27,27,27,27,27,27,27,27,27,27,27,27,27,27,27,27,27,27,27,27,27,28,28,28,28,28,28,28,28,28,28,28,28,28,28,28,28,28,28,28,28,28,28,28,28,28,28,28,28,28,28,28,28,29,29,29,29,29,29,29,29,29,29,29,29,29,29,29,29,29,29,29,29,29,29,29,29,29,29,29,29,29,29,30,30,30,30,30,30,30,30,30,30,30,30,30,30,30,30,30,30,30,30,30,30,30,30,30,30,30,30,31,31,31,31,31,31,31,31,31,31,31,31,31,31,31,31,31,31,31,31,31,31,31,31,31,32,32,32,32,32,32,32,32,32,32,32,32,32,32,32,32,32,33,33,33,33,33,33,33,33,33,33,33,33,33,33,33,33,33,33,33,33,33,34,34,34,34,34,34,34,34,34,34,34,34,34,34,34,34,34,34,34,34,34,35,35,35,35,35,35,35,35,35,35,35,35,35,35,35,36,36,36,36,36,36,36,36,36,36,36,36,36,37,37,37,37,37,37,37,37,37,37,37,37,37,37,37,37,37,38,38,38,38,38,38,38,38,38,38,38,38,38,38,38,38,38,38,38,38,39,39,39,39,39,39,39,39,39,39,39,39,39,39,39,39,39,39,39,39,39,40,40,40,40,40,40,40,40,40,40,40,40,40,40,40,40,40,40,40,40],\"y\":[20,21,22,23,24,25,26,27,28,29,30,31,32,36,37,38,39,40,20,21,22,23,24,25,26,27,28,29,30,31,35,36,37,38,18,19,20,21,22,23,24,25,26,27,28,29,30,31,34,35,36,37,17,18,19,20,21,22,23,24,25,26,27,28,29,30,31,32,34,35,36,37,40,16,18,19,20,21,22,23,24,25,26,27,28,29,30,31,32,34,35,36,37,39,40,15,16,17,18,19,20,22,23,24,25,26,27,28,29,30,31,32,34,35,36,37,38,39,40,14,15,16,17,18,19,20,23,24,25,26,27,28,29,30,31,32,33,37,38,39,40,13,14,15,16,17,18,19,20,21,23,24,25,26,27,28,29,30,31,32,33,38,39,40,12,13,14,15,16,17,18,19,20,21,24,25,26,27,28,29,30,31,32,33,34,35,36,38,39,40,11,12,13,14,15,16,17,18,19,20,21,22,23,24,25,26,29,30,31,32,33,34,35,36,38,39,40,10,11,12,13,14,15,16,17,18,19,20,21,22,23,24,25,26,27,29,30,32,33,34,35,36,37,38,39,40,9,10,11,12,13,14,15,16,17,18,19,20,21,22,23,24,25,26,27,29,30,33,34,35,36,37,38,39,40,8,9,10,11,12,13,14,15,16,17,18,19,20,21,22,23,24,25,26,27,29,30,31,32,33,34,35,36,37,38,39,40,7,8,9,10,11,12,13,14,15,16,17,18,19,20,21,22,23,24,25,26,27,28,29,30,31,32,33,34,35,36,37,38,39,40,6,7,9,10,11,12,13,14,15,16,17,18,19,20,21,22,23,24,25,26,27,28,29,30,31,32,33,34,35,36,37,38,39,40,5,6,7,9,10,11,12,13,14,15,16,17,18,19,20,21,22,23,24,25,26,27,28,29,30,31,32,33,34,35,36,37,38,39,40,4,5,6,7,9,10,11,12,13,14,15,16,17,18,19,23,24,25,26,27,28,29,32,33,34,35,36,37,38,39,40,3,4,5,6,7,11,12,13,14,15,16,17,26,27,28,32,33,34,35,36,37,38,39,40,2,3,4,5,6,7,8,9,10,11,12,13,14,15,16,17,26,27,28,31,32,34,39,40,1,2,3,4,5,6,7,8,9,10,11,12,13,14,15,16,17,18,19,20,21,26,27,28,29,30,31,32,40,0,1,2,3,4,5,6,7,8,9,10,11,12,13,14,15,16,17,18,19,20,21,24,26,27,28,29,30,31,32,33,34,35,39,40,0,1,2,3,4,5,6,7,8,9,10,11,12,13,14,15,16,17,18,19,20,21,22,23,24,26,27,28,29,30,31,32,33,34,39,0,1,2,3,4,5,6,7,9,10,12,13,14,15,16,17,18,19,20,21,22,23,24,26,27,28,29,30,31,32,33,34,37,0,1,2,3,4,5,6,7,8,9,10,11,12,13,14,15,16,18,19,20,21,22,23,24,26,27,28,29,30,31,32,33,34,35,37,0,2,3,4,5,6,7,9,10,11,12,13,14,15,16,18,19,20,21,22,23,24,26,27,28,29,30,31,32,33,34,35,2,3,4,5,6,7,8,9,10,11,12,13,14,15,16,19,20,21,22,23,24,27,28,29,30,31,32,33,34,1,2,3,4,5,6,7,8,9,10,11,12,13,14,15,16,17,18,22,23,24,27,28,29,30,31,32,33,34,1,2,3,4,5,6,7,8,9,10,11,12,13,14,15,16,17,18,19,20,24,27,28,29,30,31,32,33,0,1,2,3,4,5,6,7,8,9,10,11,12,13,14,15,16,17,18,19,20,21,22,23,24,26,27,28,29,30,31,32,0,1,2,3,4,5,6,7,8,9,10,11,13,14,15,16,17,18,19,20,21,22,23,24,26,27,28,29,30,31,0,1,2,3,4,5,6,7,8,9,10,11,13,14,15,16,17,18,19,21,22,23,25,26,27,28,29,30,0,1,2,3,4,5,6,7,8,9,10,11,13,14,15,16,17,18,20,21,22,23,25,26,27,0,1,2,3,4,5,6,7,13,14,15,16,17,18,24,25,26,0,1,2,3,4,5,6,7,8,9,10,11,14,15,16,17,18,19,24,25,26,0,1,2,3,4,5,6,7,8,9,10,14,15,16,17,18,19,23,24,25,26,0,1,2,5,8,9,15,18,19,20,21,22,23,24,25,0,1,2,3,8,11,18,19,20,21,22,23,24,0,1,2,3,4,7,11,12,13,14,17,18,19,20,21,22,23,0,1,2,3,4,5,6,7,10,11,12,13,14,15,16,17,18,19,21,22,0,1,2,3,4,5,6,7,8,9,10,11,12,13,14,15,16,17,18,19,21,0,1,2,3,4,5,6,7,8,9,10,11,12,13,14,15,16,17,18,19],\"z\":[40,39,38,37,36,35,34,33,32,31,30,29,28,24,23,22,21,20,39,38,37,36,35,34,33,32,31,30,29,28,24,23,22,21,40,39,38,37,36,35,34,33,32,31,30,29,28,27,24,23,22,21,40,39,38,37,36,35,34,33,32,31,30,29,28,27,26,25,23,22,21,20,17,40,38,37,36,35,34,33,32,31,30,29,28,27,26,25,24,22,21,20,19,17,16,40,39,38,37,36,35,33,32,31,30,29,28,27,26,25,24,23,21,20,19,18,17,16,15,40,39,38,37,36,35,34,31,30,29,28,27,26,25,24,23,22,21,17,16,15,14,40,39,38,37,36,35,34,33,32,30,29,28,27,26,25,24,23,22,21,20,15,14,13,40,39,38,37,36,35,34,33,32,31,28,27,26,25,24,23,22,21,20,19,18,17,16,14,13,12,40,39,38,37,36,35,34,33,32,31,30,29,28,27,26,25,22,21,20,19,18,17,16,15,13,12,11,40,39,38,37,36,35,34,33,32,31,30,29,28,27,26,25,24,23,21,20,18,17,16,15,14,13,12,11,10,40,39,38,37,36,35,34,33,32,31,30,29,28,27,26,25,24,23,22,20,19,16,15,14,13,12,11,10,9,40,39,38,37,36,35,34,33,32,31,30,29,28,27,26,25,24,23,22,21,19,18,17,16,15,14,13,12,11,10,9,8,40,39,38,37,36,35,34,33,32,31,30,29,28,27,26,25,24,23,22,21,20,19,18,17,16,15,14,13,12,11,10,9,8,7,40,39,37,36,35,34,33,32,31,30,29,28,27,26,25,24,23,22,21,20,19,18,17,16,15,14,13,12,11,10,9,8,7,6,40,39,38,36,35,34,33,32,31,30,29,28,27,26,25,24,23,22,21,20,19,18,17,16,15,14,13,12,11,10,9,8,7,6,5,40,39,38,37,35,34,33,32,31,30,29,28,27,26,25,21,20,19,18,17,16,15,12,11,10,9,8,7,6,5,4,40,39,38,37,36,32,31,30,29,28,27,26,17,16,15,11,10,9,8,7,6,5,4,3,40,39,38,37,36,35,34,33,32,31,30,29,28,27,26,25,16,15,14,11,10,8,3,2,40,39,38,37,36,35,34,33,32,31,30,29,28,27,26,25,24,23,22,21,20,15,14,13,12,11,10,9,1,40,39,38,37,36,35,34,33,32,31,30,29,28,27,26,25,24,23,22,21,20,19,16,14,13,12,11,10,9,8,7,6,5,1,0,39,38,37,36,35,34,33,32,31,30,29,28,27,26,25,24,23,22,21,20,19,18,17,16,15,13,12,11,10,9,8,7,6,5,0,38,37,36,35,34,33,32,31,29,28,26,25,24,23,22,21,20,19,18,17,16,15,14,12,11,10,9,8,7,6,5,4,1,37,36,35,34,33,32,31,30,29,28,27,26,25,24,23,22,21,19,18,17,16,15,14,13,11,10,9,8,7,6,5,4,3,2,0,36,34,33,32,31,30,29,27,26,25,24,23,22,21,20,18,17,16,15,14,13,12,10,9,8,7,6,5,4,3,2,1,33,32,31,30,29,28,27,26,25,24,23,22,21,20,19,16,15,14,13,12,11,8,7,6,5,4,3,2,1,33,32,31,30,29,28,27,26,25,24,23,22,21,20,19,18,17,16,12,11,10,7,6,5,4,3,2,1,0,32,31,30,29,28,27,26,25,24,23,22,21,20,19,18,17,16,15,14,13,9,6,5,4,3,2,1,0,32,31,30,29,28,27,26,25,24,23,22,21,20,19,18,17,16,15,14,13,12,11,10,9,8,6,5,4,3,2,1,0,31,30,29,28,27,26,25,24,23,22,21,20,18,17,16,15,14,13,12,11,10,9,8,7,5,4,3,2,1,0,30,29,28,27,26,25,24,23,22,21,20,19,17,16,15,14,13,12,11,9,8,7,5,4,3,2,1,0,29,28,27,26,25,24,23,22,21,20,19,18,16,15,14,13,12,11,9,8,7,6,4,3,2,28,27,26,25,24,23,22,21,15,14,13,12,11,10,4,3,2,27,26,25,24,23,22,21,20,19,18,17,16,13,12,11,10,9,8,3,2,1,26,25,24,23,22,21,20,19,18,17,16,12,11,10,9,8,7,3,2,1,0,25,24,23,20,17,16,10,7,6,5,4,3,2,1,0,24,23,22,21,16,13,6,5,4,3,2,1,0,23,22,21,20,19,16,12,11,10,9,6,5,4,3,2,1,0,22,21,20,19,18,17,16,15,12,11,10,9,8,7,6,5,4,3,1,0,21,20,19,18,17,16,15,14,13,12,11,10,9,8,7,6,5,4,3,2,0,20,19,18,17,16,15,14,13,12,11,10,9,8,7,6,5,4,3,2,1],\"type\":\"scatter3d\"},{\"hovertemplate\":\"\\u003cb\\u003e%{hovertext}\\u003c\\u002fb\\u003e\\u003cbr\\u003e\\u003cbr\\u003ecolor=Hill\\u003cbr\\u003ex=%{x}\\u003cbr\\u003ey=%{y}\\u003cbr\\u003ez=%{z}\\u003cextra\\u003e\\u003c\\u002fextra\\u003e\",\"hovertext\":[1380.0,1420.0,1460.0,3060.0,3100.0,3300.0,3340.0,4940.0,4980.0,5020.0,6620.0,6660.0,28140.0,28180.0,29780.0,29820.0,29860.0,31220.0,31260.0,31460.0,31500.0,32860.0,32900.0,32940.0,33460.0,33500.0,34540.0,34580.0,35100.0,35140.0,35180.0,36780.0,36820.0,53260.0,53300.0,54660.0,54700.0,54900.0,54940.0,56300.0,56340.0,56380.0,56580.0,57980.0,58020.0,59100.0,59140.0,59500.0,59540.0,60740.0,60780.0,60820.0,60900.0,60940.0,61140.0,61180.0,61220.0,62420.0,62460.0,62540.0,62580.0,62620.0,62820.0,62860.0,64220.0,64260.0],\"legendgroup\":\"Hill\",\"marker\":{\"color\":\"gray\",\"symbol\":\"circle\"},\"mode\":\"markers\",\"name\":\"Hill\",\"scene\":\"scene\",\"showlegend\":true,\"x\":[0,0,0,1,1,1,1,2,2,2,3,3,16,16,17,17,17,18,18,18,18,19,19,19,19,19,20,20,20,20,20,21,21,31,31,32,32,32,32,33,33,33,33,34,34,35,35,35,35,36,36,36,36,36,36,36,36,37,37,37,37,37,37,37,38,38],\"y\":[33,34,35,33,34,39,40,38,39,40,38,39,30,31,29,30,31,23,24,29,30,22,23,24,37,38,22,23,36,37,38,36,37,28,29,21,22,27,28,20,21,22,27,20,21,6,7,16,17,5,6,7,9,10,15,16,17,5,6,8,9,10,15,16,8,9],\"z\":[27,26,25,26,25,20,19,20,19,18,19,18,14,13,14,13,12,19,18,13,12,19,18,17,4,3,18,17,4,3,2,3,2,1,0,7,6,1,0,7,6,5,0,6,5,19,18,9,8,19,18,17,15,14,9,8,7,18,17,15,14,13,8,7,14,13],\"type\":\"scatter3d\"},{\"hovertemplate\":\"\\u003cb\\u003e%{hovertext}\\u003c\\u002fb\\u003e\\u003cbr\\u003e\\u003cbr\\u003ecolor=River\\u003cbr\\u003ex=%{x}\\u003cbr\\u003ey=%{y}\\u003cbr\\u003ez=%{z}\\u003cextra\\u003e\\u003c\\u002fextra\\u003e\",\"hovertext\":[2500.0,3020.0,4700.0,4740.0,6420.0,7460.0,8100.0,8300.0,9300.0,9780.0,10980.0,11020.0,11500.0,11540.0,11580.0,12700.0,13180.0,13220.0,13260.0,13300.0,14380.0,14420.0,14980.0,16260.0,16300.0,16660.0,17980.0,18100.0,19660.0,19780.0,19820.0,21340.0,23900.0,25580.0,27260.0,28940.0,28980.0,29020.0,29340.0,29420.0,29460.0,31020.0,31060.0,31100.0,31140.0,31180.0,31620.0,31700.0,31740.0,31780.0,31820.0,33300.0,33340.0,33380.0,33420.0,33540.0,36740.0,36860.0,37340.0,37460.0,38420.0,38460.0,38540.0,39380.0,40140.0,40420.0,40700.0,41060.0,41820.0,42060.0,42100.0,42740.0,42780.0,43100.0,43460.0,43740.0,44500.0,44540.0,44580.0,44780.0,45420.0,46260.0,46300.0,46340.0,46460.0,49260.0,50940.0,51260.0,52620.0,52900.0,54140.0,54180.0,54220.0,54260.0,54300.0,54580.0,54620.0,55980.0,56020.0,57620.0,57660.0,57700.0,58980.0,59020.0,59260.0,59300.0,59340.0,59380.0,59420.0,60700.0,61020.0,61060.0,61100.0,64700.0,66380.0,68060.0],\"legendgroup\":\"River\",\"marker\":{\"color\":\"#3EA99F\",\"symbol\":\"circle\"},\"mode\":\"markers\",\"name\":\"River\",\"scene\":\"scene\",\"showlegend\":true,\"x\":[1,1,2,2,3,4,4,4,5,5,6,6,6,6,6,7,7,7,7,7,8,8,8,9,9,9,10,10,11,11,11,12,14,15,16,17,17,17,17,17,17,18,18,18,18,18,18,18,18,18,18,19,19,19,19,19,21,21,22,22,22,22,22,23,23,24,24,24,24,25,25,25,25,25,25,26,26,26,26,26,27,27,27,27,27,29,30,30,31,31,32,32,32,32,32,32,32,33,33,34,34,34,35,35,35,35,35,35,35,36,36,36,36,38,39,40],\"y\":[19,32,32,33,33,17,33,38,21,33,21,22,34,35,36,22,34,35,36,37,22,23,37,27,28,37,28,31,28,31,32,28,8,8,8,8,9,10,18,20,21,18,19,20,21,22,33,35,36,37,38,33,34,35,36,39,35,38,8,11,35,36,38,17,36,1,8,17,36,0,1,17,18,26,35,0,19,20,21,26,0,21,22,23,26,12,12,20,12,19,8,9,10,11,12,19,20,12,13,11,12,13,3,4,10,11,12,13,14,4,12,13,14,20,20,20],\"z\":[40,27,26,25,24,39,23,18,34,22,33,32,20,19,18,31,19,18,17,16,30,29,15,24,23,14,22,19,21,18,17,20,38,37,36,35,34,33,25,23,22,24,23,22,21,20,9,7,6,5,4,8,7,6,5,2,4,1,30,27,3,2,0,20,1,35,28,19,0,35,34,18,17,9,0,34,15,14,13,8,33,12,11,10,7,19,18,10,17,10,20,19,18,17,16,9,8,15,14,15,14,13,22,21,15,14,13,12,11,20,12,11,10,2,1,0],\"type\":\"scatter3d\"},{\"hovertemplate\":\"\\u003cb\\u003e%{hovertext}\\u003c\\u002fb\\u003e\\u003cbr\\u003e\\u003cbr\\u003ecolor=Route\\u003cbr\\u003ex=%{x}\\u003cbr\\u003ey=%{y}\\u003cbr\\u003ez=%{z}\\u003cextra\\u003e\\u003c\\u002fextra\\u003e\",\"hovertext\":[27740.0,27780.0,27820.0,29380.0,29500.0,29540.0,29580.0,29620.0,31300.0,32980.0,34660.0,36340.0,38020.0,39700.0,41380.0,43060.0,44740.0,46420.0,48100.0,49780.0,51420.0,53100.0,54740.0,56420.0,58060.0],\"legendgroup\":\"Route\",\"marker\":{\"color\":\"maroon\",\"symbol\":\"circle\"},\"mode\":\"markers\",\"name\":\"Route\",\"scene\":\"scene\",\"showlegend\":true,\"x\":[16,16,16,17,17,17,17,17,18,19,20,21,22,23,24,25,26,27,28,29,30,31,32,33,34],\"y\":[20,21,22,19,22,23,24,25,25,25,25,25,25,25,25,25,25,25,25,25,24,24,23,23,22],\"z\":[24,23,22,24,21,20,19,18,17,16,15,14,13,12,11,10,9,8,7,6,6,5,5,4,4],\"type\":\"scatter3d\"}],                        {\"template\":{\"data\":{\"histogram2dcontour\":[{\"type\":\"histogram2dcontour\",\"colorbar\":{\"outlinewidth\":0,\"ticks\":\"\"},\"colorscale\":[[0.0,\"#0d0887\"],[0.1111111111111111,\"#46039f\"],[0.2222222222222222,\"#7201a8\"],[0.3333333333333333,\"#9c179e\"],[0.4444444444444444,\"#bd3786\"],[0.5555555555555556,\"#d8576b\"],[0.6666666666666666,\"#ed7953\"],[0.7777777777777778,\"#fb9f3a\"],[0.8888888888888888,\"#fdca26\"],[1.0,\"#f0f921\"]]}],\"choropleth\":[{\"type\":\"choropleth\",\"colorbar\":{\"outlinewidth\":0,\"ticks\":\"\"}}],\"histogram2d\":[{\"type\":\"histogram2d\",\"colorbar\":{\"outlinewidth\":0,\"ticks\":\"\"},\"colorscale\":[[0.0,\"#0d0887\"],[0.1111111111111111,\"#46039f\"],[0.2222222222222222,\"#7201a8\"],[0.3333333333333333,\"#9c179e\"],[0.4444444444444444,\"#bd3786\"],[0.5555555555555556,\"#d8576b\"],[0.6666666666666666,\"#ed7953\"],[0.7777777777777778,\"#fb9f3a\"],[0.8888888888888888,\"#fdca26\"],[1.0,\"#f0f921\"]]}],\"heatmap\":[{\"type\":\"heatmap\",\"colorbar\":{\"outlinewidth\":0,\"ticks\":\"\"},\"colorscale\":[[0.0,\"#0d0887\"],[0.1111111111111111,\"#46039f\"],[0.2222222222222222,\"#7201a8\"],[0.3333333333333333,\"#9c179e\"],[0.4444444444444444,\"#bd3786\"],[0.5555555555555556,\"#d8576b\"],[0.6666666666666666,\"#ed7953\"],[0.7777777777777778,\"#fb9f3a\"],[0.8888888888888888,\"#fdca26\"],[1.0,\"#f0f921\"]]}],\"heatmapgl\":[{\"type\":\"heatmapgl\",\"colorbar\":{\"outlinewidth\":0,\"ticks\":\"\"},\"colorscale\":[[0.0,\"#0d0887\"],[0.1111111111111111,\"#46039f\"],[0.2222222222222222,\"#7201a8\"],[0.3333333333333333,\"#9c179e\"],[0.4444444444444444,\"#bd3786\"],[0.5555555555555556,\"#d8576b\"],[0.6666666666666666,\"#ed7953\"],[0.7777777777777778,\"#fb9f3a\"],[0.8888888888888888,\"#fdca26\"],[1.0,\"#f0f921\"]]}],\"contourcarpet\":[{\"type\":\"contourcarpet\",\"colorbar\":{\"outlinewidth\":0,\"ticks\":\"\"}}],\"contour\":[{\"type\":\"contour\",\"colorbar\":{\"outlinewidth\":0,\"ticks\":\"\"},\"colorscale\":[[0.0,\"#0d0887\"],[0.1111111111111111,\"#46039f\"],[0.2222222222222222,\"#7201a8\"],[0.3333333333333333,\"#9c179e\"],[0.4444444444444444,\"#bd3786\"],[0.5555555555555556,\"#d8576b\"],[0.6666666666666666,\"#ed7953\"],[0.7777777777777778,\"#fb9f3a\"],[0.8888888888888888,\"#fdca26\"],[1.0,\"#f0f921\"]]}],\"surface\":[{\"type\":\"surface\",\"colorbar\":{\"outlinewidth\":0,\"ticks\":\"\"},\"colorscale\":[[0.0,\"#0d0887\"],[0.1111111111111111,\"#46039f\"],[0.2222222222222222,\"#7201a8\"],[0.3333333333333333,\"#9c179e\"],[0.4444444444444444,\"#bd3786\"],[0.5555555555555556,\"#d8576b\"],[0.6666666666666666,\"#ed7953\"],[0.7777777777777778,\"#fb9f3a\"],[0.8888888888888888,\"#fdca26\"],[1.0,\"#f0f921\"]]}],\"mesh3d\":[{\"type\":\"mesh3d\",\"colorbar\":{\"outlinewidth\":0,\"ticks\":\"\"}}],\"scatter\":[{\"fillpattern\":{\"fillmode\":\"overlay\",\"size\":10,\"solidity\":0.2},\"type\":\"scatter\"}],\"parcoords\":[{\"type\":\"parcoords\",\"line\":{\"colorbar\":{\"outlinewidth\":0,\"ticks\":\"\"}}}],\"scatterpolargl\":[{\"type\":\"scatterpolargl\",\"marker\":{\"colorbar\":{\"outlinewidth\":0,\"ticks\":\"\"}}}],\"bar\":[{\"error_x\":{\"color\":\"#2a3f5f\"},\"error_y\":{\"color\":\"#2a3f5f\"},\"marker\":{\"line\":{\"color\":\"#E5ECF6\",\"width\":0.5},\"pattern\":{\"fillmode\":\"overlay\",\"size\":10,\"solidity\":0.2}},\"type\":\"bar\"}],\"scattergeo\":[{\"type\":\"scattergeo\",\"marker\":{\"colorbar\":{\"outlinewidth\":0,\"ticks\":\"\"}}}],\"scatterpolar\":[{\"type\":\"scatterpolar\",\"marker\":{\"colorbar\":{\"outlinewidth\":0,\"ticks\":\"\"}}}],\"histogram\":[{\"marker\":{\"pattern\":{\"fillmode\":\"overlay\",\"size\":10,\"solidity\":0.2}},\"type\":\"histogram\"}],\"scattergl\":[{\"type\":\"scattergl\",\"marker\":{\"colorbar\":{\"outlinewidth\":0,\"ticks\":\"\"}}}],\"scatter3d\":[{\"type\":\"scatter3d\",\"line\":{\"colorbar\":{\"outlinewidth\":0,\"ticks\":\"\"}},\"marker\":{\"colorbar\":{\"outlinewidth\":0,\"ticks\":\"\"}}}],\"scattermapbox\":[{\"type\":\"scattermapbox\",\"marker\":{\"colorbar\":{\"outlinewidth\":0,\"ticks\":\"\"}}}],\"scatterternary\":[{\"type\":\"scatterternary\",\"marker\":{\"colorbar\":{\"outlinewidth\":0,\"ticks\":\"\"}}}],\"scattercarpet\":[{\"type\":\"scattercarpet\",\"marker\":{\"colorbar\":{\"outlinewidth\":0,\"ticks\":\"\"}}}],\"carpet\":[{\"aaxis\":{\"endlinecolor\":\"#2a3f5f\",\"gridcolor\":\"white\",\"linecolor\":\"white\",\"minorgridcolor\":\"white\",\"startlinecolor\":\"#2a3f5f\"},\"baxis\":{\"endlinecolor\":\"#2a3f5f\",\"gridcolor\":\"white\",\"linecolor\":\"white\",\"minorgridcolor\":\"white\",\"startlinecolor\":\"#2a3f5f\"},\"type\":\"carpet\"}],\"table\":[{\"cells\":{\"fill\":{\"color\":\"#EBF0F8\"},\"line\":{\"color\":\"white\"}},\"header\":{\"fill\":{\"color\":\"#C8D4E3\"},\"line\":{\"color\":\"white\"}},\"type\":\"table\"}],\"barpolar\":[{\"marker\":{\"line\":{\"color\":\"#E5ECF6\",\"width\":0.5},\"pattern\":{\"fillmode\":\"overlay\",\"size\":10,\"solidity\":0.2}},\"type\":\"barpolar\"}],\"pie\":[{\"automargin\":true,\"type\":\"pie\"}]},\"layout\":{\"autotypenumbers\":\"strict\",\"colorway\":[\"#636efa\",\"#EF553B\",\"#00cc96\",\"#ab63fa\",\"#FFA15A\",\"#19d3f3\",\"#FF6692\",\"#B6E880\",\"#FF97FF\",\"#FECB52\"],\"font\":{\"color\":\"#2a3f5f\"},\"hovermode\":\"closest\",\"hoverlabel\":{\"align\":\"left\"},\"paper_bgcolor\":\"white\",\"plot_bgcolor\":\"#E5ECF6\",\"polar\":{\"bgcolor\":\"#E5ECF6\",\"angularaxis\":{\"gridcolor\":\"white\",\"linecolor\":\"white\",\"ticks\":\"\"},\"radialaxis\":{\"gridcolor\":\"white\",\"linecolor\":\"white\",\"ticks\":\"\"}},\"ternary\":{\"bgcolor\":\"#E5ECF6\",\"aaxis\":{\"gridcolor\":\"white\",\"linecolor\":\"white\",\"ticks\":\"\"},\"baxis\":{\"gridcolor\":\"white\",\"linecolor\":\"white\",\"ticks\":\"\"},\"caxis\":{\"gridcolor\":\"white\",\"linecolor\":\"white\",\"ticks\":\"\"}},\"coloraxis\":{\"colorbar\":{\"outlinewidth\":0,\"ticks\":\"\"}},\"colorscale\":{\"sequential\":[[0.0,\"#0d0887\"],[0.1111111111111111,\"#46039f\"],[0.2222222222222222,\"#7201a8\"],[0.3333333333333333,\"#9c179e\"],[0.4444444444444444,\"#bd3786\"],[0.5555555555555556,\"#d8576b\"],[0.6666666666666666,\"#ed7953\"],[0.7777777777777778,\"#fb9f3a\"],[0.8888888888888888,\"#fdca26\"],[1.0,\"#f0f921\"]],\"sequentialminus\":[[0.0,\"#0d0887\"],[0.1111111111111111,\"#46039f\"],[0.2222222222222222,\"#7201a8\"],[0.3333333333333333,\"#9c179e\"],[0.4444444444444444,\"#bd3786\"],[0.5555555555555556,\"#d8576b\"],[0.6666666666666666,\"#ed7953\"],[0.7777777777777778,\"#fb9f3a\"],[0.8888888888888888,\"#fdca26\"],[1.0,\"#f0f921\"]],\"diverging\":[[0,\"#8e0152\"],[0.1,\"#c51b7d\"],[0.2,\"#de77ae\"],[0.3,\"#f1b6da\"],[0.4,\"#fde0ef\"],[0.5,\"#f7f7f7\"],[0.6,\"#e6f5d0\"],[0.7,\"#b8e186\"],[0.8,\"#7fbc41\"],[0.9,\"#4d9221\"],[1,\"#276419\"]]},\"xaxis\":{\"gridcolor\":\"white\",\"linecolor\":\"white\",\"ticks\":\"\",\"title\":{\"standoff\":15},\"zerolinecolor\":\"white\",\"automargin\":true,\"zerolinewidth\":2},\"yaxis\":{\"gridcolor\":\"white\",\"linecolor\":\"white\",\"ticks\":\"\",\"title\":{\"standoff\":15},\"zerolinecolor\":\"white\",\"automargin\":true,\"zerolinewidth\":2},\"scene\":{\"xaxis\":{\"backgroundcolor\":\"#E5ECF6\",\"gridcolor\":\"white\",\"linecolor\":\"white\",\"showbackground\":true,\"ticks\":\"\",\"zerolinecolor\":\"white\",\"gridwidth\":2},\"yaxis\":{\"backgroundcolor\":\"#E5ECF6\",\"gridcolor\":\"white\",\"linecolor\":\"white\",\"showbackground\":true,\"ticks\":\"\",\"zerolinecolor\":\"white\",\"gridwidth\":2},\"zaxis\":{\"backgroundcolor\":\"#E5ECF6\",\"gridcolor\":\"white\",\"linecolor\":\"white\",\"showbackground\":true,\"ticks\":\"\",\"zerolinecolor\":\"white\",\"gridwidth\":2}},\"shapedefaults\":{\"line\":{\"color\":\"#2a3f5f\"}},\"annotationdefaults\":{\"arrowcolor\":\"#2a3f5f\",\"arrowhead\":0,\"arrowwidth\":1},\"geo\":{\"bgcolor\":\"white\",\"landcolor\":\"#E5ECF6\",\"subunitcolor\":\"white\",\"showland\":true,\"showlakes\":true,\"lakecolor\":\"white\"},\"title\":{\"x\":0.05},\"mapbox\":{\"style\":\"light\"}}},\"scene\":{\"domain\":{\"x\":[0.0,1.0],\"y\":[0.0,1.0]},\"xaxis\":{\"title\":{\"text\":\"x\"}},\"yaxis\":{\"title\":{\"text\":\"y\"}},\"zaxis\":{\"title\":{\"text\":\"z\"}}},\"legend\":{\"title\":{\"text\":\"color\"},\"tracegroupgap\":0},\"margin\":{\"t\":60}},                        {\"responsive\": true}                    ).then(function(){\n",
              "                            \n",
              "var gd = document.getElementById('6ec749a6-8a38-417e-ac80-3af1dd56033d');\n",
              "var x = new MutationObserver(function (mutations, observer) {{\n",
              "        var display = window.getComputedStyle(gd).display;\n",
              "        if (!display || display === 'none') {{\n",
              "            console.log([gd, 'removed!']);\n",
              "            Plotly.purge(gd);\n",
              "            observer.disconnect();\n",
              "        }}\n",
              "}});\n",
              "\n",
              "// Listen for the removal of the full notebook cells\n",
              "var notebookContainer = gd.closest('#notebook-container');\n",
              "if (notebookContainer) {{\n",
              "    x.observe(notebookContainer, {childList: true});\n",
              "}}\n",
              "\n",
              "// Listen for the clearing of the current output cell\n",
              "var outputEl = gd.closest('.output');\n",
              "if (outputEl) {{\n",
              "    x.observe(outputEl, {childList: true});\n",
              "}}\n",
              "\n",
              "                        })                };                            </script>        </div>\n",
              "</body>\n",
              "</html>"
            ]
          },
          "metadata": {}
        }
      ]
    },
    {
      "cell_type": "markdown",
      "source": [
        "<details>\n",
        "  <summary>\n",
        "    Если ячейка не загрузилась, должно быть так\n",
        "  </summary>\n",
        "\n",
        "  ![График](https://drive.google.com/uc?export=view&id=1xNQJLnco2r6N6l0pTl3KZb1CWdqJMnpC)\n",
        "</details>"
      ],
      "metadata": {
        "id": "yyAIwV4341fm"
      }
    },
    {
      "cell_type": "markdown",
      "source": [
        "Это решает задачу куда лучше, чем брутфорс и бэктрекинг, но не гарантирует оптимальное решение"
      ],
      "metadata": {
        "id": "7v2FiKUCnBqQ"
      }
    },
    {
      "cell_type": "markdown",
      "source": [
        "### Динамическое программирование (1 балл)"
      ],
      "metadata": {
        "id": "_ys0sXMQqDJU"
      }
    },
    {
      "cell_type": "markdown",
      "source": [
        "Возьмем некоторый участок карты и попробуем найти путь м-ду точками при помощи дин. программирования"
      ],
      "metadata": {
        "id": "elDJ2peAxmRd"
      }
    },
    {
      "cell_type": "code",
      "source": [
        "part_idxs = hex_idxs[hex_idxs > 51_000]\n",
        "\n",
        "part_hex_data = hills_map[part_idxs]\n",
        "\n",
        "colors = vfunc(part_hex_data[:, 3])\n",
        "\n",
        "fig = px.scatter_3d(\n",
        "    hex_data,\n",
        "    x=part_hex_data[:, 0],\n",
        "    y=part_hex_data[:, 1],\n",
        "    z=part_hex_data[:, 2],\n",
        "    hover_name=part_idxs,\n",
        "    color=colors,\n",
        "    color_discrete_sequence=[\"#387C44\", \"#3EA99F\", \"gray\"],\n",
        ")\n",
        "fig.show()"
      ],
      "metadata": {
        "colab": {
          "base_uri": "https://localhost:8080/",
          "height": 542
        },
        "id": "oNWdlPulR2ay",
        "outputId": "3bad064b-4e47-4460-b2f5-f8cfb6e11029"
      },
      "execution_count": 70,
      "outputs": [
        {
          "output_type": "display_data",
          "data": {
            "text/html": [
              "<html>\n",
              "<head><meta charset=\"utf-8\" /></head>\n",
              "<body>\n",
              "    <div>            <script src=\"https://cdnjs.cloudflare.com/ajax/libs/mathjax/2.7.5/MathJax.js?config=TeX-AMS-MML_SVG\"></script><script type=\"text/javascript\">if (window.MathJax && window.MathJax.Hub && window.MathJax.Hub.Config) {window.MathJax.Hub.Config({SVG: {font: \"STIX-Web\"}});}</script>                <script type=\"text/javascript\">window.PlotlyConfig = {MathJaxConfig: 'local'};</script>\n",
              "        <script charset=\"utf-8\" src=\"https://cdn.plot.ly/plotly-2.24.1.min.js\"></script>                <div id=\"e693be4a-cde8-40e1-9458-9a3d4afd8640\" class=\"plotly-graph-div\" style=\"height:525px; width:100%;\"></div>            <script type=\"text/javascript\">                                    window.PLOTLYENV=window.PLOTLYENV || {};                                    if (document.getElementById(\"e693be4a-cde8-40e1-9458-9a3d4afd8640\")) {                    Plotly.newPlot(                        \"e693be4a-cde8-40e1-9458-9a3d4afd8640\",                        [{\"hovertemplate\":\"\\u003cb\\u003e%{hovertext}\\u003c\\u002fb\\u003e\\u003cbr\\u003e\\u003cbr\\u003ecolor=Plain\\u003cbr\\u003ex=%{x}\\u003cbr\\u003ey=%{y}\\u003cbr\\u003ez=%{z}\\u003cextra\\u003e\\u003c\\u002fextra\\u003e\",\"hovertext\":[51020.0,51060.0,51100.0,51140.0,51180.0,51340.0,51380.0,51500.0,51540.0,51580.0,51620.0,51660.0,52140.0,52180.0,52220.0,52260.0,52500.0,52540.0,52580.0,52620.0,52660.0,52700.0,52740.0,52820.0,52860.0,52900.0,52940.0,52980.0,53020.0,53060.0,53100.0,53140.0,53180.0,53220.0,53260.0,53300.0,53820.0,53860.0,53900.0,54060.0,54100.0,54140.0,54180.0,54220.0,54260.0,54300.0,54340.0,54380.0,54420.0,54500.0,54540.0,54580.0,54620.0,54660.0,54700.0,54740.0,54780.0,54820.0,54860.0,54900.0,54940.0,55500.0,55540.0,55580.0,55620.0,55660.0,55820.0,55860.0,55900.0,55940.0,55980.0,56020.0,56060.0,56100.0,56220.0,56340.0,56380.0,56420.0,56460.0,57180.0,57220.0,57260.0,57300.0,57340.0,57500.0,57540.0,57580.0,57620.0,57660.0,57700.0,57740.0,57780.0,57820.0,57980.0,58020.0,58060.0,58180.0,58220.0,58860.0,58900.0,58940.0,58980.0,59020.0,59300.0,59340.0,59380.0,59740.0,59780.0,60540.0,60580.0,60620.0,60700.0,60740.0,60860.0,60900.0,60940.0,60980.0,61020.0,61060.0,61100.0,61140.0,61180.0,61220.0,61300.0,61340.0,62220.0,62260.0,62300.0,62380.0,62420.0,62460.0,62540.0,62580.0,62620.0,62660.0,62700.0,62740.0,62780.0,62860.0,62900.0,62940.0,62980.0,63020.0,63060.0,63100.0,63140.0,63900.0,63940.0,63980.0,64060.0,64100.0,64140.0,64220.0,64260.0,64300.0,64340.0,64380.0,64420.0,64460.0,64500.0,64540.0,64580.0,64620.0,64660.0,64700.0,64740.0,64780.0,65580.0,65620.0,65660.0,65740.0,65780.0,65820.0,65860.0,65900.0,65940.0,65980.0,66020.0,66060.0,66100.0,66260.0,66300.0,66340.0,66380.0,66420.0,67260.0,67300.0,67340.0,67460.0,67500.0,67540.0,67580.0,67620.0,67660.0,67700.0,67740.0,67780.0,67820.0,67860.0,67980.0,68020.0,68060.0],\"legendgroup\":\"Plain\",\"marker\":{\"color\":\"#387C44\",\"symbol\":\"circle\"},\"mode\":\"markers\",\"name\":\"Plain\",\"scene\":\"scene\",\"showlegend\":true,\"x\":[30,30,30,30,30,30,30,30,30,30,30,30,31,31,31,31,31,31,31,31,31,31,31,31,31,31,31,31,31,31,31,31,31,31,31,31,32,32,32,32,32,32,32,32,32,32,32,32,32,32,32,32,32,32,32,32,32,32,32,32,32,33,33,33,33,33,33,33,33,33,33,33,33,33,33,33,33,33,33,34,34,34,34,34,34,34,34,34,34,34,34,34,34,34,34,34,34,34,35,35,35,35,35,35,35,35,35,35,36,36,36,36,36,36,36,36,36,36,36,36,36,36,36,36,36,37,37,37,37,37,37,37,37,37,37,37,37,37,37,37,37,37,37,37,37,37,38,38,38,38,38,38,38,38,38,38,38,38,38,38,38,38,38,38,38,38,38,39,39,39,39,39,39,39,39,39,39,39,39,39,39,39,39,39,39,40,40,40,40,40,40,40,40,40,40,40,40,40,40,40,40,40],\"y\":[14,15,16,17,18,22,23,26,27,28,29,30,0,1,2,3,9,10,11,12,13,14,15,17,18,19,20,21,22,23,24,25,26,27,28,29,0,1,2,6,7,8,9,10,11,12,13,14,15,17,18,19,20,21,22,23,24,25,26,27,28,0,1,2,3,4,8,9,10,11,12,13,14,15,18,21,22,23,24,0,1,2,3,4,8,9,10,11,12,13,14,15,16,20,21,22,25,26,0,1,2,3,4,11,12,13,22,23,0,1,2,4,5,8,9,10,11,12,13,14,15,16,17,19,20,0,1,2,4,5,6,8,9,10,11,12,13,14,16,17,18,19,20,21,22,23,0,1,2,4,5,6,8,9,10,11,12,13,14,15,16,17,18,19,20,21,22,0,1,2,4,5,6,7,8,9,10,11,12,13,17,18,19,20,21,0,1,2,5,6,7,8,9,10,11,12,13,14,15,18,19,20],\"z\":[16,15,14,13,12,8,7,4,3,2,1,0,29,28,27,26,20,19,18,17,16,15,14,12,11,10,9,8,7,6,5,4,3,2,1,0,28,27,26,22,21,20,19,18,17,16,15,14,13,11,10,9,8,7,6,5,4,3,2,1,0,27,26,25,24,23,19,18,17,16,15,14,13,12,9,6,5,4,3,26,25,24,23,22,18,17,16,15,14,13,12,11,10,6,5,4,1,0,25,24,23,22,21,14,13,12,3,2,24,23,22,20,19,16,15,14,13,12,11,10,9,8,7,5,4,23,22,21,19,18,17,15,14,13,12,11,10,9,7,6,5,4,3,2,1,0,22,21,20,18,17,16,14,13,12,11,10,9,8,7,6,5,4,3,2,1,0,21,20,19,17,16,15,14,13,12,11,10,9,8,4,3,2,1,0,20,19,18,15,14,13,12,11,10,9,8,7,6,5,2,1,0],\"type\":\"scatter3d\"},{\"hovertemplate\":\"\\u003cb\\u003e%{hovertext}\\u003c\\u002fb\\u003e\\u003cbr\\u003e\\u003cbr\\u003ecolor=River\\u003cbr\\u003ex=%{x}\\u003cbr\\u003ey=%{y}\\u003cbr\\u003ez=%{z}\\u003cextra\\u003e\\u003c\\u002fextra\\u003e\",\"hovertext\":[51220.0,51260.0,51300.0,51420.0,51460.0,52300.0,52340.0,52380.0,52420.0,52460.0,52780.0,53940.0,54020.0,54460.0,55700.0,55740.0,55780.0,56140.0,56180.0,56500.0,56540.0,56580.0,57380.0,57420.0,57460.0,57860.0,57900.0,58100.0,58140.0,59060.0,59100.0,59140.0,59180.0,59220.0,59260.0,59420.0,59460.0,59500.0,59540.0,59660.0,59700.0,59820.0,59860.0,60660.0,60780.0,60820.0,61380.0,61420.0,61460.0,61500.0,62340.0,62500.0,64020.0,64180.0,65700.0,66140.0,66180.0,66220.0,67380.0,67420.0,67900.0,67940.0],\"legendgroup\":\"River\",\"marker\":{\"color\":\"#3EA99F\",\"symbol\":\"circle\"},\"mode\":\"markers\",\"name\":\"River\",\"scene\":\"scene\",\"showlegend\":true,\"x\":[30,30,30,30,30,31,31,31,31,31,31,32,32,32,33,33,33,33,33,33,33,33,34,34,34,34,34,34,34,35,35,35,35,35,35,35,35,35,35,35,35,35,35,36,36,36,36,36,36,36,37,37,38,38,39,39,39,39,40,40,40,40],\"y\":[19,20,21,24,25,4,5,6,7,8,16,3,5,16,5,6,7,16,17,25,26,27,5,6,7,17,18,23,24,5,6,7,8,9,10,14,15,16,17,20,21,24,25,3,6,7,21,22,23,24,3,7,3,7,3,14,15,16,3,4,16,17],\"z\":[11,10,9,6,5,25,24,23,22,21,13,25,23,12,22,21,20,11,10,2,1,0,21,20,19,9,8,3,2,20,19,18,17,16,15,11,10,9,8,5,4,1,0,21,18,17,3,2,1,0,20,16,19,15,18,7,6,5,17,16,4,3],\"type\":\"scatter3d\"},{\"hovertemplate\":\"\\u003cb\\u003e%{hovertext}\\u003c\\u002fb\\u003e\\u003cbr\\u003e\\u003cbr\\u003ecolor=Hill\\u003cbr\\u003ex=%{x}\\u003cbr\\u003ey=%{y}\\u003cbr\\u003ez=%{z}\\u003cextra\\u003e\\u003c\\u002fextra\\u003e\",\"hovertext\":[53980.0,56260.0,56300.0,57940.0,59580.0,59620.0,61260.0,62820.0],\"legendgroup\":\"Hill\",\"marker\":{\"color\":\"gray\",\"symbol\":\"circle\"},\"mode\":\"markers\",\"name\":\"Hill\",\"scene\":\"scene\",\"showlegend\":true,\"x\":[32,33,33,34,35,35,36,37],\"y\":[4,19,20,19,18,19,18,15],\"z\":[24,8,7,7,7,6,6,8],\"type\":\"scatter3d\"}],                        {\"template\":{\"data\":{\"histogram2dcontour\":[{\"type\":\"histogram2dcontour\",\"colorbar\":{\"outlinewidth\":0,\"ticks\":\"\"},\"colorscale\":[[0.0,\"#0d0887\"],[0.1111111111111111,\"#46039f\"],[0.2222222222222222,\"#7201a8\"],[0.3333333333333333,\"#9c179e\"],[0.4444444444444444,\"#bd3786\"],[0.5555555555555556,\"#d8576b\"],[0.6666666666666666,\"#ed7953\"],[0.7777777777777778,\"#fb9f3a\"],[0.8888888888888888,\"#fdca26\"],[1.0,\"#f0f921\"]]}],\"choropleth\":[{\"type\":\"choropleth\",\"colorbar\":{\"outlinewidth\":0,\"ticks\":\"\"}}],\"histogram2d\":[{\"type\":\"histogram2d\",\"colorbar\":{\"outlinewidth\":0,\"ticks\":\"\"},\"colorscale\":[[0.0,\"#0d0887\"],[0.1111111111111111,\"#46039f\"],[0.2222222222222222,\"#7201a8\"],[0.3333333333333333,\"#9c179e\"],[0.4444444444444444,\"#bd3786\"],[0.5555555555555556,\"#d8576b\"],[0.6666666666666666,\"#ed7953\"],[0.7777777777777778,\"#fb9f3a\"],[0.8888888888888888,\"#fdca26\"],[1.0,\"#f0f921\"]]}],\"heatmap\":[{\"type\":\"heatmap\",\"colorbar\":{\"outlinewidth\":0,\"ticks\":\"\"},\"colorscale\":[[0.0,\"#0d0887\"],[0.1111111111111111,\"#46039f\"],[0.2222222222222222,\"#7201a8\"],[0.3333333333333333,\"#9c179e\"],[0.4444444444444444,\"#bd3786\"],[0.5555555555555556,\"#d8576b\"],[0.6666666666666666,\"#ed7953\"],[0.7777777777777778,\"#fb9f3a\"],[0.8888888888888888,\"#fdca26\"],[1.0,\"#f0f921\"]]}],\"heatmapgl\":[{\"type\":\"heatmapgl\",\"colorbar\":{\"outlinewidth\":0,\"ticks\":\"\"},\"colorscale\":[[0.0,\"#0d0887\"],[0.1111111111111111,\"#46039f\"],[0.2222222222222222,\"#7201a8\"],[0.3333333333333333,\"#9c179e\"],[0.4444444444444444,\"#bd3786\"],[0.5555555555555556,\"#d8576b\"],[0.6666666666666666,\"#ed7953\"],[0.7777777777777778,\"#fb9f3a\"],[0.8888888888888888,\"#fdca26\"],[1.0,\"#f0f921\"]]}],\"contourcarpet\":[{\"type\":\"contourcarpet\",\"colorbar\":{\"outlinewidth\":0,\"ticks\":\"\"}}],\"contour\":[{\"type\":\"contour\",\"colorbar\":{\"outlinewidth\":0,\"ticks\":\"\"},\"colorscale\":[[0.0,\"#0d0887\"],[0.1111111111111111,\"#46039f\"],[0.2222222222222222,\"#7201a8\"],[0.3333333333333333,\"#9c179e\"],[0.4444444444444444,\"#bd3786\"],[0.5555555555555556,\"#d8576b\"],[0.6666666666666666,\"#ed7953\"],[0.7777777777777778,\"#fb9f3a\"],[0.8888888888888888,\"#fdca26\"],[1.0,\"#f0f921\"]]}],\"surface\":[{\"type\":\"surface\",\"colorbar\":{\"outlinewidth\":0,\"ticks\":\"\"},\"colorscale\":[[0.0,\"#0d0887\"],[0.1111111111111111,\"#46039f\"],[0.2222222222222222,\"#7201a8\"],[0.3333333333333333,\"#9c179e\"],[0.4444444444444444,\"#bd3786\"],[0.5555555555555556,\"#d8576b\"],[0.6666666666666666,\"#ed7953\"],[0.7777777777777778,\"#fb9f3a\"],[0.8888888888888888,\"#fdca26\"],[1.0,\"#f0f921\"]]}],\"mesh3d\":[{\"type\":\"mesh3d\",\"colorbar\":{\"outlinewidth\":0,\"ticks\":\"\"}}],\"scatter\":[{\"fillpattern\":{\"fillmode\":\"overlay\",\"size\":10,\"solidity\":0.2},\"type\":\"scatter\"}],\"parcoords\":[{\"type\":\"parcoords\",\"line\":{\"colorbar\":{\"outlinewidth\":0,\"ticks\":\"\"}}}],\"scatterpolargl\":[{\"type\":\"scatterpolargl\",\"marker\":{\"colorbar\":{\"outlinewidth\":0,\"ticks\":\"\"}}}],\"bar\":[{\"error_x\":{\"color\":\"#2a3f5f\"},\"error_y\":{\"color\":\"#2a3f5f\"},\"marker\":{\"line\":{\"color\":\"#E5ECF6\",\"width\":0.5},\"pattern\":{\"fillmode\":\"overlay\",\"size\":10,\"solidity\":0.2}},\"type\":\"bar\"}],\"scattergeo\":[{\"type\":\"scattergeo\",\"marker\":{\"colorbar\":{\"outlinewidth\":0,\"ticks\":\"\"}}}],\"scatterpolar\":[{\"type\":\"scatterpolar\",\"marker\":{\"colorbar\":{\"outlinewidth\":0,\"ticks\":\"\"}}}],\"histogram\":[{\"marker\":{\"pattern\":{\"fillmode\":\"overlay\",\"size\":10,\"solidity\":0.2}},\"type\":\"histogram\"}],\"scattergl\":[{\"type\":\"scattergl\",\"marker\":{\"colorbar\":{\"outlinewidth\":0,\"ticks\":\"\"}}}],\"scatter3d\":[{\"type\":\"scatter3d\",\"line\":{\"colorbar\":{\"outlinewidth\":0,\"ticks\":\"\"}},\"marker\":{\"colorbar\":{\"outlinewidth\":0,\"ticks\":\"\"}}}],\"scattermapbox\":[{\"type\":\"scattermapbox\",\"marker\":{\"colorbar\":{\"outlinewidth\":0,\"ticks\":\"\"}}}],\"scatterternary\":[{\"type\":\"scatterternary\",\"marker\":{\"colorbar\":{\"outlinewidth\":0,\"ticks\":\"\"}}}],\"scattercarpet\":[{\"type\":\"scattercarpet\",\"marker\":{\"colorbar\":{\"outlinewidth\":0,\"ticks\":\"\"}}}],\"carpet\":[{\"aaxis\":{\"endlinecolor\":\"#2a3f5f\",\"gridcolor\":\"white\",\"linecolor\":\"white\",\"minorgridcolor\":\"white\",\"startlinecolor\":\"#2a3f5f\"},\"baxis\":{\"endlinecolor\":\"#2a3f5f\",\"gridcolor\":\"white\",\"linecolor\":\"white\",\"minorgridcolor\":\"white\",\"startlinecolor\":\"#2a3f5f\"},\"type\":\"carpet\"}],\"table\":[{\"cells\":{\"fill\":{\"color\":\"#EBF0F8\"},\"line\":{\"color\":\"white\"}},\"header\":{\"fill\":{\"color\":\"#C8D4E3\"},\"line\":{\"color\":\"white\"}},\"type\":\"table\"}],\"barpolar\":[{\"marker\":{\"line\":{\"color\":\"#E5ECF6\",\"width\":0.5},\"pattern\":{\"fillmode\":\"overlay\",\"size\":10,\"solidity\":0.2}},\"type\":\"barpolar\"}],\"pie\":[{\"automargin\":true,\"type\":\"pie\"}]},\"layout\":{\"autotypenumbers\":\"strict\",\"colorway\":[\"#636efa\",\"#EF553B\",\"#00cc96\",\"#ab63fa\",\"#FFA15A\",\"#19d3f3\",\"#FF6692\",\"#B6E880\",\"#FF97FF\",\"#FECB52\"],\"font\":{\"color\":\"#2a3f5f\"},\"hovermode\":\"closest\",\"hoverlabel\":{\"align\":\"left\"},\"paper_bgcolor\":\"white\",\"plot_bgcolor\":\"#E5ECF6\",\"polar\":{\"bgcolor\":\"#E5ECF6\",\"angularaxis\":{\"gridcolor\":\"white\",\"linecolor\":\"white\",\"ticks\":\"\"},\"radialaxis\":{\"gridcolor\":\"white\",\"linecolor\":\"white\",\"ticks\":\"\"}},\"ternary\":{\"bgcolor\":\"#E5ECF6\",\"aaxis\":{\"gridcolor\":\"white\",\"linecolor\":\"white\",\"ticks\":\"\"},\"baxis\":{\"gridcolor\":\"white\",\"linecolor\":\"white\",\"ticks\":\"\"},\"caxis\":{\"gridcolor\":\"white\",\"linecolor\":\"white\",\"ticks\":\"\"}},\"coloraxis\":{\"colorbar\":{\"outlinewidth\":0,\"ticks\":\"\"}},\"colorscale\":{\"sequential\":[[0.0,\"#0d0887\"],[0.1111111111111111,\"#46039f\"],[0.2222222222222222,\"#7201a8\"],[0.3333333333333333,\"#9c179e\"],[0.4444444444444444,\"#bd3786\"],[0.5555555555555556,\"#d8576b\"],[0.6666666666666666,\"#ed7953\"],[0.7777777777777778,\"#fb9f3a\"],[0.8888888888888888,\"#fdca26\"],[1.0,\"#f0f921\"]],\"sequentialminus\":[[0.0,\"#0d0887\"],[0.1111111111111111,\"#46039f\"],[0.2222222222222222,\"#7201a8\"],[0.3333333333333333,\"#9c179e\"],[0.4444444444444444,\"#bd3786\"],[0.5555555555555556,\"#d8576b\"],[0.6666666666666666,\"#ed7953\"],[0.7777777777777778,\"#fb9f3a\"],[0.8888888888888888,\"#fdca26\"],[1.0,\"#f0f921\"]],\"diverging\":[[0,\"#8e0152\"],[0.1,\"#c51b7d\"],[0.2,\"#de77ae\"],[0.3,\"#f1b6da\"],[0.4,\"#fde0ef\"],[0.5,\"#f7f7f7\"],[0.6,\"#e6f5d0\"],[0.7,\"#b8e186\"],[0.8,\"#7fbc41\"],[0.9,\"#4d9221\"],[1,\"#276419\"]]},\"xaxis\":{\"gridcolor\":\"white\",\"linecolor\":\"white\",\"ticks\":\"\",\"title\":{\"standoff\":15},\"zerolinecolor\":\"white\",\"automargin\":true,\"zerolinewidth\":2},\"yaxis\":{\"gridcolor\":\"white\",\"linecolor\":\"white\",\"ticks\":\"\",\"title\":{\"standoff\":15},\"zerolinecolor\":\"white\",\"automargin\":true,\"zerolinewidth\":2},\"scene\":{\"xaxis\":{\"backgroundcolor\":\"#E5ECF6\",\"gridcolor\":\"white\",\"linecolor\":\"white\",\"showbackground\":true,\"ticks\":\"\",\"zerolinecolor\":\"white\",\"gridwidth\":2},\"yaxis\":{\"backgroundcolor\":\"#E5ECF6\",\"gridcolor\":\"white\",\"linecolor\":\"white\",\"showbackground\":true,\"ticks\":\"\",\"zerolinecolor\":\"white\",\"gridwidth\":2},\"zaxis\":{\"backgroundcolor\":\"#E5ECF6\",\"gridcolor\":\"white\",\"linecolor\":\"white\",\"showbackground\":true,\"ticks\":\"\",\"zerolinecolor\":\"white\",\"gridwidth\":2}},\"shapedefaults\":{\"line\":{\"color\":\"#2a3f5f\"}},\"annotationdefaults\":{\"arrowcolor\":\"#2a3f5f\",\"arrowhead\":0,\"arrowwidth\":1},\"geo\":{\"bgcolor\":\"white\",\"landcolor\":\"#E5ECF6\",\"subunitcolor\":\"white\",\"showland\":true,\"showlakes\":true,\"lakecolor\":\"white\"},\"title\":{\"x\":0.05},\"mapbox\":{\"style\":\"light\"}}},\"scene\":{\"domain\":{\"x\":[0.0,1.0],\"y\":[0.0,1.0]},\"xaxis\":{\"title\":{\"text\":\"x\"}},\"yaxis\":{\"title\":{\"text\":\"y\"}},\"zaxis\":{\"title\":{\"text\":\"z\"}}},\"legend\":{\"title\":{\"text\":\"color\"},\"tracegroupgap\":0},\"margin\":{\"t\":60}},                        {\"responsive\": true}                    ).then(function(){\n",
              "                            \n",
              "var gd = document.getElementById('e693be4a-cde8-40e1-9458-9a3d4afd8640');\n",
              "var x = new MutationObserver(function (mutations, observer) {{\n",
              "        var display = window.getComputedStyle(gd).display;\n",
              "        if (!display || display === 'none') {{\n",
              "            console.log([gd, 'removed!']);\n",
              "            Plotly.purge(gd);\n",
              "            observer.disconnect();\n",
              "        }}\n",
              "}});\n",
              "\n",
              "// Listen for the removal of the full notebook cells\n",
              "var notebookContainer = gd.closest('#notebook-container');\n",
              "if (notebookContainer) {{\n",
              "    x.observe(notebookContainer, {childList: true});\n",
              "}}\n",
              "\n",
              "// Listen for the clearing of the current output cell\n",
              "var outputEl = gd.closest('.output');\n",
              "if (outputEl) {{\n",
              "    x.observe(outputEl, {childList: true});\n",
              "}}\n",
              "\n",
              "                        })                };                            </script>        </div>\n",
              "</body>\n",
              "</html>"
            ]
          },
          "metadata": {}
        }
      ]
    },
    {
      "cell_type": "markdown",
      "source": [
        "<details>\n",
        "  <summary>\n",
        "    Если ячейка не загрузилась, должно быть так\n",
        "  </summary>\n",
        "\n",
        "  ![График](https://drive.google.com/uc?export=view&id=1yvtF-10oaWns4zoeqTGn4jjrB_LLqozt)\n",
        "</details>"
      ],
      "metadata": {
        "id": "bpe-6sur5LF0"
      }
    },
    {
      "cell_type": "markdown",
      "source": [
        "Попробуем найти путь м-ду левой верхней точкой и точкой справа снизу, как решали задачку \"черепашки\""
      ],
      "metadata": {
        "id": "ErJ8t9GYyCgU"
      }
    },
    {
      "cell_type": "markdown",
      "source": [
        "Зададим индексы искомых точек"
      ],
      "metadata": {
        "id": "CVNvX1WPySlA"
      }
    },
    {
      "cell_type": "code",
      "source": [
        "from_idx = 64_620\n",
        "to_idx = 52_140"
      ],
      "metadata": {
        "id": "A8-k0XiRhoTK"
      },
      "execution_count": 71,
      "outputs": []
    },
    {
      "cell_type": "code",
      "source": [
        "visualize_solve([from_idx, to_idx])"
      ],
      "metadata": {
        "id": "0V-xWhOhrzq3",
        "colab": {
          "base_uri": "https://localhost:8080/",
          "height": 542
        },
        "outputId": "26ba48a0-e0e4-45c7-a671-9973d2adee11"
      },
      "execution_count": 72,
      "outputs": [
        {
          "output_type": "display_data",
          "data": {
            "text/html": [
              "<html>\n",
              "<head><meta charset=\"utf-8\" /></head>\n",
              "<body>\n",
              "    <div>            <script src=\"https://cdnjs.cloudflare.com/ajax/libs/mathjax/2.7.5/MathJax.js?config=TeX-AMS-MML_SVG\"></script><script type=\"text/javascript\">if (window.MathJax && window.MathJax.Hub && window.MathJax.Hub.Config) {window.MathJax.Hub.Config({SVG: {font: \"STIX-Web\"}});}</script>                <script type=\"text/javascript\">window.PlotlyConfig = {MathJaxConfig: 'local'};</script>\n",
              "        <script charset=\"utf-8\" src=\"https://cdn.plot.ly/plotly-2.24.1.min.js\"></script>                <div id=\"b8ba351b-acfd-4c3a-bf17-fb84b5001e61\" class=\"plotly-graph-div\" style=\"height:525px; width:100%;\"></div>            <script type=\"text/javascript\">                                    window.PLOTLYENV=window.PLOTLYENV || {};                                    if (document.getElementById(\"b8ba351b-acfd-4c3a-bf17-fb84b5001e61\")) {                    Plotly.newPlot(                        \"b8ba351b-acfd-4c3a-bf17-fb84b5001e61\",                        [{\"hovertemplate\":\"\\u003cb\\u003e%{hovertext}\\u003c\\u002fb\\u003e\\u003cbr\\u003e\\u003cbr\\u003ecolor=Plain\\u003cbr\\u003ex=%{x}\\u003cbr\\u003ey=%{y}\\u003cbr\\u003ez=%{z}\\u003cextra\\u003e\\u003c\\u002fextra\\u003e\",\"hovertext\":[860.0,900.0,940.0,980.0,1020.0,1060.0,1140.0,1180.0,1220.0,1260.0,1300.0,1340.0,1420.0,1460.0,1500.0,1540.0,1580.0,1620.0,1660.0,2500.0,2540.0,2580.0,2620.0,2660.0,2700.0,2740.0,2900.0,2940.0,2980.0,3020.0,3100.0,3140.0,3180.0,3220.0,3260.0,3300.0,3340.0,4140.0,4180.0,4220.0,4260.0,4300.0,4340.0,4380.0,4460.0,4500.0,4540.0,4580.0,4620.0,4660.0,4780.0,4820.0,4860.0,4900.0,4940.0,4980.0,5020.0,5780.0,5820.0,5860.0,5900.0,5940.0,5980.0,6020.0,6060.0,6140.0,6180.0,6220.0,6260.0,6300.0,6340.0,6420.0,6460.0,6500.0,6540.0,6580.0,6620.0,6660.0,6700.0,7420.0,7460.0,7500.0,7540.0,7580.0,7620.0,7660.0,7700.0,7740.0,7860.0,7900.0,7940.0,7980.0,8020.0,8060.0,8100.0,8140.0,8180.0,8220.0,8260.0,8300.0,8340.0,9060.0,9100.0,9140.0,9180.0,9220.0,9300.0,9340.0,9380.0,9540.0,9580.0,9620.0,9660.0,9740.0,9780.0,9820.0,9860.0,9900.0,9940.0,10700.0,10860.0,10980.0,11020.0,11060.0,11100.0,11140.0,11180.0,11220.0,11260.0,11300.0,11340.0,11420.0,11460.0,11500.0,11540.0,11580.0,11620.0,11660.0,11700.0,11740.0,12340.0,12380.0,12420.0,12460.0,12620.0,12660.0,12700.0,12740.0,12780.0,12820.0,12860.0,12900.0,12940.0,12980.0,13020.0,13060.0,13100.0,13140.0,13180.0,13220.0,13260.0,13300.0,13340.0,13380.0,13420.0,13980.0,14020.0,14100.0,14140.0,14260.0,14300.0,14340.0,14380.0,14420.0,14460.0,14500.0,14540.0,14580.0,14620.0,14660.0,14700.0,14740.0,14780.0,14820.0,14860.0,14900.0,14940.0,14980.0,15020.0,15060.0,15100.0,15620.0,15660.0,15700.0,15820.0,15860.0,15940.0,15980.0,16020.0,16060.0,16100.0,16140.0,16180.0,16220.0,16260.0,16300.0,16340.0,16380.0,16420.0,16460.0,16500.0,16540.0,16580.0,16620.0,16660.0,16700.0,16740.0,16780.0,17300.0,17340.0,17380.0,17420.0,17700.0,17740.0,17780.0,17820.0,17860.0,17900.0,17940.0,17980.0,18020.0,18060.0,18100.0,18140.0,18180.0,18220.0,18260.0,18300.0,18340.0,18380.0,18420.0,18460.0,18900.0,19020.0,19060.0,19100.0,19140.0,19180.0,19220.0,19260.0,19300.0,19340.0,19380.0,19420.0,19460.0,19500.0,19540.0,19580.0,19620.0,19660.0,19700.0,19740.0,19780.0,19820.0,19860.0,19900.0,19940.0,19980.0,20020.0,20060.0,20100.0,20140.0,20540.0,20580.0,20620.0,20700.0,20740.0,20780.0,20820.0,20900.0,20940.0,20980.0,21020.0,21060.0,21100.0,21140.0,21180.0,21220.0,21260.0,21460.0,21500.0,21540.0,21580.0,21620.0,21660.0,21700.0,21740.0,21780.0,22180.0,22220.0,22260.0,22300.0,22380.0,22420.0,22460.0,22500.0,22580.0,22620.0,22660.0,22700.0,22740.0,22780.0,22820.0,22860.0,22900.0,22940.0,22980.0,23060.0,23100.0,23180.0,23220.0,23260.0,23300.0,23340.0,23380.0,23420.0,23460.0,23500.0,23820.0,23860.0,23900.0,23940.0,23980.0,24020.0,24060.0,24100.0,24140.0,24180.0,24260.0,24300.0,24340.0,24380.0,24420.0,24460.0,24500.0,24540.0,24580.0,24620.0,24660.0,24860.0,24900.0,24940.0,24980.0,25020.0,25060.0,25100.0,25140.0,25180.0,25460.0,25500.0,25540.0,25580.0,25620.0,25660.0,25700.0,25740.0,25780.0,25820.0,25860.0,26020.0,26060.0,26100.0,26140.0,26180.0,26220.0,26260.0,26300.0,26340.0,26380.0,26420.0,26460.0,26580.0,26620.0,26660.0,26700.0,26740.0,26780.0,26820.0,26860.0,27100.0,27140.0,27180.0,27220.0,27260.0,27300.0,27340.0,27380.0,27420.0,27460.0,27500.0,27540.0,27580.0,27620.0,27700.0,27740.0,27780.0,27820.0,27860.0,27900.0,27940.0,27980.0,28020.0,28060.0,28100.0,28140.0,28180.0,28220.0,28260.0,28300.0,28340.0,28380.0,28420.0,28460.0,28500.0,28540.0,28740.0,28780.0,28820.0,28860.0,28900.0,28940.0,28980.0,29020.0,29060.0,29100.0,29140.0,29180.0,29220.0,29260.0,29300.0,29340.0,29380.0,29420.0,29460.0,29500.0,29540.0,29580.0,29620.0,29660.0,29700.0,29740.0,29780.0,29820.0,29860.0,29900.0,29940.0,29980.0,30020.0,30060.0,30100.0,30140.0,30180.0,30220.0,30380.0,30420.0,30460.0,30500.0,30540.0,30580.0,30620.0,30660.0,30700.0,30740.0,30780.0,30820.0,30860.0,30900.0,30940.0,30980.0,31020.0,31180.0,31220.0,31260.0,31300.0,31340.0,31380.0,31420.0,31460.0,31500.0,31540.0,31580.0,31620.0,31660.0,31700.0,31740.0,31780.0,31820.0,31860.0,32020.0,32060.0,32100.0,32140.0,32180.0,32220.0,32260.0,32300.0,32340.0,32380.0,32420.0,32460.0,32500.0,32540.0,32580.0,32620.0,32660.0,32700.0,32740.0,32780.0,32860.0,32900.0,32940.0,32980.0,33020.0,33060.0,33100.0,33140.0,33180.0,33220.0,33260.0,33300.0,33340.0,33380.0,33420.0,33460.0,33500.0,33540.0,33660.0,33700.0,33740.0,33780.0,33820.0,33860.0,33900.0,33940.0,33980.0,34020.0,34060.0,34100.0,34140.0,34180.0,34220.0,34260.0,34300.0,34340.0,34380.0,34660.0,34700.0,34740.0,34780.0,34820.0,34860.0,34900.0,34940.0,34980.0,35020.0,35060.0,35100.0,35220.0,35340.0,35380.0,35420.0,35460.0,35500.0,35540.0,35580.0,35620.0,35660.0,35700.0,35740.0,35780.0,35820.0,35860.0,35900.0,35940.0,35980.0,36020.0,36060.0,36100.0,36140.0,36180.0,36220.0,36260.0,36340.0,36380.0,36420.0,36460.0,36500.0,36540.0,36580.0,36620.0,36660.0,36700.0,36740.0,36860.0,36900.0,37020.0,37060.0,37100.0,37140.0,37180.0,37220.0,37260.0,37300.0,37340.0,37380.0,37420.0,37460.0,37500.0,37580.0,37620.0,37660.0,37700.0,37740.0,37780.0,37820.0,37860.0,37900.0,37940.0,37980.0,38020.0,38060.0,38100.0,38140.0,38180.0,38220.0,38260.0,38300.0,38340.0,38380.0,38420.0,38540.0,38700.0,38740.0,38780.0,38820.0,38860.0,38900.0,38940.0,38980.0,39020.0,39060.0,39100.0,39140.0,39180.0,39300.0,39340.0,39380.0,39420.0,39460.0,39500.0,39540.0,39580.0,39620.0,39660.0,39700.0,39740.0,39780.0,39820.0,39860.0,39900.0,39940.0,39980.0,40020.0,40380.0,40420.0,40460.0,40500.0,40540.0,40580.0,40620.0,40660.0,40700.0,40740.0,40820.0,40860.0,40900.0,40940.0,40980.0,41020.0,41060.0,41100.0,41140.0,41180.0,41220.0,41300.0,41340.0,41380.0,41420.0,41460.0,41500.0,41540.0,41580.0,41620.0,41660.0,41700.0,41780.0,41820.0,42060.0,42100.0,42140.0,42180.0,42220.0,42260.0,42300.0,42340.0,42380.0,42420.0,42460.0,42500.0,42540.0,42580.0,42620.0,42660.0,42700.0,42740.0,42780.0,42820.0,42860.0,42980.0,43020.0,43060.0,43100.0,43140.0,43180.0,43220.0,43260.0,43300.0,43340.0,43380.0,43740.0,43780.0,43820.0,43860.0,43900.0,43940.0,43980.0,44020.0,44060.0,44100.0,44140.0,44180.0,44220.0,44260.0,44300.0,44340.0,44380.0,44420.0,44460.0,44500.0,44540.0,44580.0,44620.0,44740.0,44820.0,44860.0,44900.0,44940.0,44980.0,45020.0,45060.0,45100.0,45420.0,45460.0,45500.0,45540.0,45580.0,45620.0,45660.0,45700.0,45740.0,45780.0,45820.0,45860.0,45900.0,45940.0,45980.0,46020.0,46060.0,46100.0,46140.0,46180.0,46220.0,46260.0,46300.0,46340.0,46420.0,46500.0,46540.0,46580.0,46620.0,46660.0,46700.0,46740.0,47100.0,47140.0,47180.0,47220.0,47260.0,47300.0,47340.0,47380.0,47420.0,47460.0,47500.0,47540.0,47580.0,47620.0,47660.0,47700.0,47740.0,47780.0,47820.0,47860.0,47900.0,47940.0,47980.0,48020.0,48100.0,48180.0,48220.0,48260.0,48300.0,48340.0,48380.0,48780.0,48820.0,48860.0,48940.0,48980.0,49020.0,49060.0,49100.0,49140.0,49180.0,49220.0,49260.0,49300.0,49340.0,49380.0,49420.0,49460.0,49500.0,49540.0,49580.0,49620.0,49660.0,49700.0,49820.0,49860.0,49900.0,49940.0,49980.0,50020.0,50460.0,50500.0,50540.0,50620.0,50660.0,50700.0,50740.0,50780.0,50820.0,50860.0,50900.0,50940.0,50980.0,51020.0,51060.0,51100.0,51140.0,51180.0,51340.0,51380.0,51500.0,51540.0,51580.0,51620.0,51660.0,52180.0,52220.0,52260.0,52500.0,52540.0,52580.0,52620.0,52660.0,52700.0,52740.0,52820.0,52860.0,52900.0,52940.0,52980.0,53020.0,53060.0,53100.0,53140.0,53180.0,53220.0,53260.0,53300.0,53820.0,53860.0,53900.0,54060.0,54100.0,54140.0,54180.0,54220.0,54260.0,54300.0,54340.0,54380.0,54420.0,54500.0,54540.0,54580.0,54620.0,54660.0,54700.0,54740.0,54780.0,54820.0,54860.0,54900.0,54940.0,55500.0,55540.0,55580.0,55620.0,55660.0,55820.0,55860.0,55900.0,55940.0,55980.0,56020.0,56060.0,56100.0,56220.0,56340.0,56380.0,56420.0,56460.0,57180.0,57220.0,57260.0,57300.0,57340.0,57500.0,57540.0,57580.0,57620.0,57660.0,57700.0,57740.0,57780.0,57820.0,57980.0,58020.0,58060.0,58180.0,58220.0,58860.0,58900.0,58940.0,58980.0,59020.0,59300.0,59340.0,59380.0,59740.0,59780.0,60540.0,60580.0,60620.0,60700.0,60740.0,60860.0,60900.0,60940.0,60980.0,61020.0,61060.0,61100.0,61140.0,61180.0,61220.0,61300.0,61340.0,62220.0,62260.0,62300.0,62380.0,62420.0,62460.0,62540.0,62580.0,62620.0,62660.0,62700.0,62740.0,62780.0,62860.0,62900.0,62940.0,62980.0,63020.0,63060.0,63100.0,63140.0,63900.0,63940.0,63980.0,64060.0,64100.0,64140.0,64220.0,64260.0,64300.0,64340.0,64380.0,64420.0,64460.0,64500.0,64540.0,64580.0,64660.0,64700.0,64740.0,64780.0,65580.0,65620.0,65660.0,65740.0,65780.0,65820.0,65860.0,65900.0,65940.0,65980.0,66020.0,66060.0,66100.0,66260.0,66300.0,66340.0,66380.0,66420.0,67260.0,67300.0,67340.0,67460.0,67500.0,67540.0,67580.0,67620.0,67660.0,67700.0,67740.0,67780.0,67820.0,67860.0,67980.0,68020.0,68060.0],\"legendgroup\":\"Plain\",\"marker\":{\"color\":\"#387C44\",\"symbol\":\"circle\"},\"mode\":\"markers\",\"name\":\"Plain\",\"scene\":\"scene\",\"showlegend\":true,\"x\":[0,0,0,0,0,0,0,0,0,0,0,0,0,0,0,0,0,0,0,1,1,1,1,1,1,1,1,1,1,1,1,1,1,1,1,1,1,2,2,2,2,2,2,2,2,2,2,2,2,2,2,2,2,2,2,2,2,3,3,3,3,3,3,3,3,3,3,3,3,3,3,3,3,3,3,3,3,3,3,4,4,4,4,4,4,4,4,4,4,4,4,4,4,4,4,4,4,4,4,4,4,5,5,5,5,5,5,5,5,5,5,5,5,5,5,5,5,5,5,6,6,6,6,6,6,6,6,6,6,6,6,6,6,6,6,6,6,6,6,6,7,7,7,7,7,7,7,7,7,7,7,7,7,7,7,7,7,7,7,7,7,7,7,7,7,8,8,8,8,8,8,8,8,8,8,8,8,8,8,8,8,8,8,8,8,8,8,8,8,8,8,9,9,9,9,9,9,9,9,9,9,9,9,9,9,9,9,9,9,9,9,9,9,9,9,9,9,9,10,10,10,10,10,10,10,10,10,10,10,10,10,10,10,10,10,10,10,10,10,10,10,10,11,11,11,11,11,11,11,11,11,11,11,11,11,11,11,11,11,11,11,11,11,11,11,11,11,11,11,11,11,11,12,12,12,12,12,12,12,12,12,12,12,12,12,12,12,12,12,12,12,12,12,12,12,12,12,12,13,13,13,13,13,13,13,13,13,13,13,13,13,13,13,13,13,13,13,13,13,13,13,13,13,13,13,13,13,13,14,14,14,14,14,14,14,14,14,14,14,14,14,14,14,14,14,14,14,14,14,14,14,14,14,14,14,14,14,14,15,15,15,15,15,15,15,15,15,15,15,15,15,15,15,15,15,15,15,15,15,15,15,15,15,15,15,15,15,15,15,16,16,16,16,16,16,16,16,16,16,16,16,16,16,16,16,16,16,16,16,16,16,16,16,16,16,16,16,16,16,16,16,16,16,16,16,17,17,17,17,17,17,17,17,17,17,17,17,17,17,17,17,17,17,17,17,17,17,17,17,17,17,17,17,17,17,17,17,17,17,17,17,17,17,18,18,18,18,18,18,18,18,18,18,18,18,18,18,18,18,18,18,18,18,18,18,18,18,18,18,18,18,18,18,18,18,18,18,18,19,19,19,19,19,19,19,19,19,19,19,19,19,19,19,19,19,19,19,19,19,19,19,19,19,19,19,19,19,19,19,19,19,19,19,19,19,19,20,20,20,20,20,20,20,20,20,20,20,20,20,20,20,20,20,20,20,20,20,20,20,20,20,20,20,20,20,20,20,20,21,21,21,21,21,21,21,21,21,21,21,21,21,21,21,21,21,21,21,21,21,21,21,21,21,21,21,21,21,21,21,21,21,21,21,21,21,22,22,22,22,22,22,22,22,22,22,22,22,22,22,22,22,22,22,22,22,22,22,22,22,22,22,22,22,22,22,22,22,22,22,22,22,23,23,23,23,23,23,23,23,23,23,23,23,23,23,23,23,23,23,23,23,23,23,23,23,23,23,23,23,23,23,23,23,24,24,24,24,24,24,24,24,24,24,24,24,24,24,24,24,24,24,24,24,24,24,24,24,24,24,24,24,24,24,24,24,24,24,25,25,25,25,25,25,25,25,25,25,25,25,25,25,25,25,25,25,25,25,25,25,25,25,25,25,25,25,25,25,25,25,26,26,26,26,26,26,26,26,26,26,26,26,26,26,26,26,26,26,26,26,26,26,26,26,26,26,26,26,26,26,26,26,27,27,27,27,27,27,27,27,27,27,27,27,27,27,27,27,27,27,27,27,27,27,27,27,27,27,27,27,27,27,27,27,28,28,28,28,28,28,28,28,28,28,28,28,28,28,28,28,28,28,28,28,28,28,28,28,28,28,28,28,28,28,28,29,29,29,29,29,29,29,29,29,29,29,29,29,29,29,29,29,29,29,29,29,29,29,29,29,29,29,29,29,30,30,30,30,30,30,30,30,30,30,30,30,30,30,30,30,30,30,30,30,30,30,30,30,30,31,31,31,31,31,31,31,31,31,31,31,31,31,31,31,31,31,31,31,31,31,31,31,32,32,32,32,32,32,32,32,32,32,32,32,32,32,32,32,32,32,32,32,32,32,32,32,32,33,33,33,33,33,33,33,33,33,33,33,33,33,33,33,33,33,33,34,34,34,34,34,34,34,34,34,34,34,34,34,34,34,34,34,34,34,35,35,35,35,35,35,35,35,35,35,36,36,36,36,36,36,36,36,36,36,36,36,36,36,36,36,36,37,37,37,37,37,37,37,37,37,37,37,37,37,37,37,37,37,37,37,37,37,38,38,38,38,38,38,38,38,38,38,38,38,38,38,38,38,38,38,38,38,39,39,39,39,39,39,39,39,39,39,39,39,39,39,39,39,39,39,40,40,40,40,40,40,40,40,40,40,40,40,40,40,40,40,40],\"y\":[20,21,22,23,24,25,27,28,29,30,31,32,34,35,36,37,38,39,40,19,20,21,22,23,24,25,29,30,31,32,34,35,36,37,38,39,40,18,19,20,21,22,23,24,26,27,28,29,30,31,34,35,36,37,38,39,40,17,18,19,20,21,22,23,24,26,27,28,29,30,31,33,34,35,36,37,38,39,40,16,17,18,19,20,21,22,23,24,27,28,29,30,31,32,33,34,35,36,37,38,39,15,16,17,18,19,21,22,23,27,28,29,30,32,33,34,35,36,37,14,18,21,22,23,24,25,26,27,28,29,30,32,33,34,35,36,37,38,39,40,13,14,15,16,20,21,22,23,24,25,26,27,28,29,30,31,32,33,34,35,36,37,38,39,40,12,13,15,16,19,20,21,22,23,24,25,26,27,28,29,30,31,32,33,34,35,36,37,38,39,40,11,12,13,16,17,19,20,21,22,23,24,25,26,27,28,29,30,31,32,33,34,35,36,37,38,39,40,11,12,13,14,21,22,23,24,25,26,27,28,29,30,31,32,33,34,35,36,37,38,39,40,9,12,13,14,15,16,17,18,19,20,21,22,23,24,25,26,27,28,29,30,31,32,33,34,35,36,37,38,39,40,8,9,10,12,13,14,15,17,18,19,20,21,22,23,24,25,26,31,32,33,34,35,36,37,38,39,7,8,9,10,12,13,14,15,17,18,19,20,21,22,23,24,25,26,27,29,30,32,33,34,35,36,37,38,39,40,6,7,8,9,10,11,12,13,14,15,17,18,19,20,21,22,23,24,25,26,27,32,33,34,35,36,37,38,39,40,5,6,7,8,9,10,11,12,13,14,15,19,20,21,22,23,24,25,26,27,28,29,30,33,34,35,36,37,38,39,40,4,5,6,7,8,9,10,11,12,13,14,15,16,17,19,20,21,22,23,24,25,26,27,28,29,30,31,32,33,34,35,36,37,38,39,40,3,4,5,6,7,8,9,10,11,12,13,14,15,16,17,18,19,20,21,22,23,24,25,26,27,28,29,30,31,32,33,34,35,36,37,38,39,40,2,3,4,5,6,7,8,9,10,11,12,13,14,15,16,17,18,22,23,24,25,26,27,28,29,30,31,32,33,34,35,36,37,38,39,1,2,3,4,5,6,7,8,9,10,11,12,13,14,15,16,17,18,19,20,22,23,24,25,26,27,28,29,30,31,32,33,34,35,36,37,38,39,0,1,2,3,4,5,6,7,8,9,10,11,12,13,14,15,16,17,18,25,26,27,28,29,30,31,32,33,34,35,36,39,0,1,2,3,4,5,6,7,8,9,10,11,12,13,14,15,16,17,18,19,20,21,22,23,25,26,27,28,29,30,31,32,33,34,35,38,39,0,1,2,3,4,5,6,7,8,9,10,11,12,14,15,16,17,18,19,20,21,22,23,24,25,26,27,28,29,30,31,32,33,34,35,38,0,1,2,3,4,5,6,7,8,9,10,11,12,15,16,17,18,19,20,21,22,23,24,25,26,27,28,29,30,31,32,33,0,1,2,3,4,5,6,7,8,9,11,12,13,14,15,16,17,18,19,20,21,23,24,25,26,27,28,29,30,31,32,33,35,36,0,1,2,3,4,5,6,7,8,9,10,11,12,13,14,15,16,17,18,19,20,23,24,25,26,27,28,29,30,31,32,33,0,1,2,3,4,5,6,7,8,9,10,11,12,13,14,15,16,17,18,19,20,21,22,25,27,28,29,30,31,32,33,34,0,1,2,3,4,5,6,7,8,9,10,11,12,13,14,15,16,17,18,19,20,21,22,23,25,27,28,29,30,31,32,33,0,1,2,3,4,5,6,7,8,9,10,11,12,13,14,15,16,17,18,19,20,21,22,23,25,27,28,29,30,31,32,0,1,2,4,5,6,7,8,9,10,11,12,13,14,15,16,17,18,19,20,21,22,23,26,27,28,29,30,31,0,1,2,4,5,6,7,8,9,10,11,12,13,14,15,16,17,18,22,23,26,27,28,29,30,1,2,3,9,10,11,12,13,14,15,17,18,19,20,21,22,23,24,25,26,27,28,29,0,1,2,6,7,8,9,10,11,12,13,14,15,17,18,19,20,21,22,23,24,25,26,27,28,0,1,2,3,4,8,9,10,11,12,13,14,15,18,21,22,23,24,0,1,2,3,4,8,9,10,11,12,13,14,15,16,20,21,22,25,26,0,1,2,3,4,11,12,13,22,23,0,1,2,4,5,8,9,10,11,12,13,14,15,16,17,19,20,0,1,2,4,5,6,8,9,10,11,12,13,14,16,17,18,19,20,21,22,23,0,1,2,4,5,6,8,9,10,11,12,13,14,15,16,17,19,20,21,22,0,1,2,4,5,6,7,8,9,10,11,12,13,17,18,19,20,21,0,1,2,5,6,7,8,9,10,11,12,13,14,15,18,19,20],\"z\":[40,39,38,37,36,35,33,32,31,30,29,28,26,25,24,23,22,21,20,40,39,38,37,36,35,34,30,29,28,27,25,24,23,22,21,20,19,40,39,38,37,36,35,34,32,31,30,29,28,27,24,23,22,21,20,19,18,40,39,38,37,36,35,34,33,31,30,29,28,27,26,24,23,22,21,20,19,18,17,40,39,38,37,36,35,34,33,32,29,28,27,26,25,24,23,22,21,20,19,18,17,40,39,38,37,36,34,33,32,28,27,26,25,23,22,21,20,19,18,40,36,33,32,31,30,29,28,27,26,25,24,22,21,20,19,18,17,16,15,14,40,39,38,37,33,32,31,30,29,28,27,26,25,24,23,22,21,20,19,18,17,16,15,14,13,40,39,37,36,33,32,31,30,29,28,27,26,25,24,23,22,21,20,19,18,17,16,15,14,13,12,40,39,38,35,34,32,31,30,29,28,27,26,25,24,23,22,21,20,19,18,17,16,15,14,13,12,11,39,38,37,36,29,28,27,26,25,24,23,22,21,20,19,18,17,16,15,14,13,12,11,10,40,37,36,35,34,33,32,31,30,29,28,27,26,25,24,23,22,21,20,19,18,17,16,15,14,13,12,11,10,9,40,39,38,36,35,34,33,31,30,29,28,27,26,25,24,23,22,17,16,15,14,13,12,11,10,9,40,39,38,37,35,34,33,32,30,29,28,27,26,25,24,23,22,21,20,18,17,15,14,13,12,11,10,9,8,7,40,39,38,37,36,35,34,33,32,31,29,28,27,26,25,24,23,22,21,20,19,14,13,12,11,10,9,8,7,6,40,39,38,37,36,35,34,33,32,31,30,26,25,24,23,22,21,20,19,18,17,16,15,12,11,10,9,8,7,6,5,40,39,38,37,36,35,34,33,32,31,30,29,28,27,25,24,23,22,21,20,19,18,17,16,15,14,13,12,11,10,9,8,7,6,5,4,40,39,38,37,36,35,34,33,32,31,30,29,28,27,26,25,24,23,22,21,20,19,18,17,16,15,14,13,12,11,10,9,8,7,6,5,4,3,40,39,38,37,36,35,34,33,32,31,30,29,28,27,26,25,24,20,19,18,17,16,15,14,13,12,11,10,9,8,7,6,5,4,3,40,39,38,37,36,35,34,33,32,31,30,29,28,27,26,25,24,23,22,21,19,18,17,16,15,14,13,12,11,10,9,8,7,6,5,4,3,2,40,39,38,37,36,35,34,33,32,31,30,29,28,27,26,25,24,23,22,15,14,13,12,11,10,9,8,7,6,5,4,1,39,38,37,36,35,34,33,32,31,30,29,28,27,26,25,24,23,22,21,20,19,18,17,16,14,13,12,11,10,9,8,7,6,5,4,1,0,38,37,36,35,34,33,32,31,30,29,28,27,26,24,23,22,21,20,19,18,17,16,15,14,13,12,11,10,9,8,7,6,5,4,3,0,37,36,35,34,33,32,31,30,29,28,27,26,25,22,21,20,19,18,17,16,15,14,13,12,11,10,9,8,7,6,5,4,36,35,34,33,32,31,30,29,28,27,25,24,23,22,21,20,19,18,17,16,15,13,12,11,10,9,8,7,6,5,4,3,1,0,35,34,33,32,31,30,29,28,27,26,25,24,23,22,21,20,19,18,17,16,15,12,11,10,9,8,7,6,5,4,3,2,34,33,32,31,30,29,28,27,26,25,24,23,22,21,20,19,18,17,16,15,14,13,12,9,7,6,5,4,3,2,1,0,33,32,31,30,29,28,27,26,25,24,23,22,21,20,19,18,17,16,15,14,13,12,11,10,8,6,5,4,3,2,1,0,32,31,30,29,28,27,26,25,24,23,22,21,20,19,18,17,16,15,14,13,12,11,10,9,7,5,4,3,2,1,0,31,30,29,27,26,25,24,23,22,21,20,19,18,17,16,15,14,13,12,11,10,9,8,5,4,3,2,1,0,30,29,28,26,25,24,23,22,21,20,19,18,17,16,15,14,13,12,8,7,4,3,2,1,0,28,27,26,20,19,18,17,16,15,14,12,11,10,9,8,7,6,5,4,3,2,1,0,28,27,26,22,21,20,19,18,17,16,15,14,13,11,10,9,8,7,6,5,4,3,2,1,0,27,26,25,24,23,19,18,17,16,15,14,13,12,9,6,5,4,3,26,25,24,23,22,18,17,16,15,14,13,12,11,10,6,5,4,1,0,25,24,23,22,21,14,13,12,3,2,24,23,22,20,19,16,15,14,13,12,11,10,9,8,7,5,4,23,22,21,19,18,17,15,14,13,12,11,10,9,7,6,5,4,3,2,1,0,22,21,20,18,17,16,14,13,12,11,10,9,8,7,6,5,3,2,1,0,21,20,19,17,16,15,14,13,12,11,10,9,8,4,3,2,1,0,20,19,18,15,14,13,12,11,10,9,8,7,6,5,2,1,0],\"type\":\"scatter3d\"},{\"hovertemplate\":\"\\u003cb\\u003e%{hovertext}\\u003c\\u002fb\\u003e\\u003cbr\\u003e\\u003cbr\\u003ecolor=River\\u003cbr\\u003ex=%{x}\\u003cbr\\u003ey=%{y}\\u003cbr\\u003ez=%{z}\\u003cextra\\u003e\\u003c\\u002fextra\\u003e\",\"hovertext\":[1100.0,2780.0,2820.0,2860.0,9700.0,9980.0,10020.0,10740.0,10780.0,10820.0,11380.0,12580.0,14060.0,14180.0,14220.0,15740.0,15780.0,15900.0,17260.0,17460.0,17500.0,17540.0,17580.0,17620.0,17660.0,18940.0,18980.0,20660.0,20860.0,21820.0,22340.0,22540.0,23020.0,23140.0,24220.0,24700.0,24740.0,24780.0,24820.0,25900.0,25940.0,25980.0,26500.0,26540.0,27660.0,31060.0,31100.0,31140.0,31900.0,32820.0,33580.0,34420.0,34460.0,34500.0,34540.0,34580.0,34620.0,35260.0,36300.0,37540.0,39220.0,39260.0,40060.0,40180.0,40780.0,41740.0,43420.0,43460.0,44660.0,44700.0,44780.0,46380.0,46460.0,48060.0,48140.0,48900.0,49740.0,49780.0,50580.0,51220.0,51260.0,51300.0,51420.0,51460.0,52300.0,52340.0,52380.0,52420.0,52460.0,52780.0,53940.0,54020.0,54460.0,55700.0,55740.0,55780.0,56140.0,56180.0,56500.0,56540.0,56580.0,57380.0,57420.0,57460.0,57860.0,57900.0,58100.0,58140.0,59060.0,59100.0,59140.0,59180.0,59220.0,59260.0,59420.0,59460.0,59500.0,59540.0,59660.0,59700.0,59820.0,59860.0,60660.0,60780.0,60820.0,61380.0,61420.0,61460.0,61500.0,62340.0,62500.0,64020.0,64180.0,65700.0,66140.0,66180.0,66220.0,67380.0,67420.0,67900.0,67940.0],\"legendgroup\":\"River\",\"marker\":{\"color\":\"#3EA99F\",\"symbol\":\"circle\"},\"mode\":\"markers\",\"name\":\"River\",\"scene\":\"scene\",\"showlegend\":true,\"x\":[0,1,1,1,5,5,5,6,6,6,6,7,8,8,8,9,9,9,10,10,10,10,10,10,10,11,11,12,12,12,13,13,13,13,14,14,14,14,14,15,15,15,15,15,16,18,18,18,18,19,19,20,20,20,20,20,20,20,21,22,23,23,23,23,24,24,25,25,26,26,26,27,27,28,28,29,29,29,30,30,30,30,30,30,31,31,31,31,31,31,32,32,32,33,33,33,33,33,33,33,33,34,34,34,34,34,34,34,35,35,35,35,35,35,35,35,35,35,35,35,35,35,36,36,36,36,36,36,36,37,37,38,38,39,39,39,39,40,40,40,40],\"y\":[26,26,27,28,31,38,39,15,16,17,31,19,14,17,18,14,15,18,10,15,16,17,18,19,20,10,11,11,16,40,11,16,28,31,16,28,29,30,31,16,17,18,31,32,18,19,20,21,40,21,40,19,20,21,22,23,24,40,24,13,13,14,34,37,10,34,34,35,23,24,26,24,26,24,26,3,24,25,3,19,20,21,24,25,4,5,6,7,8,16,3,5,16,5,6,7,16,17,25,26,27,5,6,7,17,18,23,24,5,6,7,8,9,10,14,15,16,17,20,21,24,25,3,6,7,21,22,23,24,3,7,3,7,3,14,15,16,3,4,16,17],\"z\":[34,33,32,31,24,17,16,39,38,37,23,34,38,35,34,37,36,33,40,35,34,33,32,31,30,39,38,37,32,8,36,31,19,16,30,18,17,16,15,29,28,27,14,13,26,23,22,21,2,20,1,21,20,19,18,17,16,0,15,25,24,23,3,0,26,2,1,0,11,10,8,9,7,8,6,28,7,6,27,11,10,9,6,5,25,24,23,22,21,13,25,23,12,22,21,20,11,10,2,1,0,21,20,19,9,8,3,2,20,19,18,17,16,15,11,10,9,8,5,4,1,0,21,18,17,3,2,1,0,20,16,19,15,18,7,6,5,17,16,4,3],\"type\":\"scatter3d\"},{\"hovertemplate\":\"\\u003cb\\u003e%{hovertext}\\u003c\\u002fb\\u003e\\u003cbr\\u003e\\u003cbr\\u003ecolor=Hill\\u003cbr\\u003ex=%{x}\\u003cbr\\u003ey=%{y}\\u003cbr\\u003ez=%{z}\\u003cextra\\u003e\\u003c\\u002fextra\\u003e\",\"hovertext\":[1380.0,3060.0,4420.0,4700.0,4740.0,6100.0,6380.0,7780.0,7820.0,8380.0,9260.0,9420.0,9460.0,9500.0,10060.0,10900.0,10940.0,12500.0,12540.0,21300.0,21340.0,21380.0,21420.0,35140.0,35180.0,36780.0,36820.0,38460.0,38500.0,40100.0,40140.0,41260.0,42900.0,42940.0,53980.0,56260.0,56300.0,57940.0,59580.0,59620.0,61260.0,62820.0],\"legendgroup\":\"Hill\",\"marker\":{\"color\":\"gray\",\"symbol\":\"circle\"},\"mode\":\"markers\",\"name\":\"Hill\",\"scene\":\"scene\",\"showlegend\":true,\"x\":[0,1,2,2,2,3,3,4,4,4,5,5,5,5,5,6,6,7,7,12,12,12,12,20,20,21,21,22,22,23,23,24,25,25,32,33,33,34,35,35,36,37],\"y\":[33,33,25,32,33,25,32,25,26,40,20,24,25,26,40,19,20,17,18,27,28,29,30,37,38,36,37,36,37,35,36,22,21,22,4,19,20,19,18,19,18,15],\"z\":[27,26,33,26,25,32,25,31,30,16,35,31,30,29,15,35,34,36,35,21,20,19,18,3,2,3,2,2,1,2,1,14,14,13,24,8,7,7,7,6,6,8],\"type\":\"scatter3d\"},{\"hovertemplate\":\"\\u003cb\\u003e%{hovertext}\\u003c\\u002fb\\u003e\\u003cbr\\u003e\\u003cbr\\u003ecolor=None\\u003cbr\\u003ex=%{x}\\u003cbr\\u003ey=%{y}\\u003cbr\\u003ez=%{z}\\u003cextra\\u003e\\u003c\\u002fextra\\u003e\",\"hovertext\":[52140.0,64620.0],\"legendgroup\":\"None\",\"marker\":{\"color\":\"maroon\",\"symbol\":\"circle\"},\"mode\":\"markers\",\"name\":\"None\",\"scene\":\"scene\",\"showlegend\":true,\"x\":[31,38],\"y\":[0,18],\"z\":[29,4],\"type\":\"scatter3d\"}],                        {\"template\":{\"data\":{\"histogram2dcontour\":[{\"type\":\"histogram2dcontour\",\"colorbar\":{\"outlinewidth\":0,\"ticks\":\"\"},\"colorscale\":[[0.0,\"#0d0887\"],[0.1111111111111111,\"#46039f\"],[0.2222222222222222,\"#7201a8\"],[0.3333333333333333,\"#9c179e\"],[0.4444444444444444,\"#bd3786\"],[0.5555555555555556,\"#d8576b\"],[0.6666666666666666,\"#ed7953\"],[0.7777777777777778,\"#fb9f3a\"],[0.8888888888888888,\"#fdca26\"],[1.0,\"#f0f921\"]]}],\"choropleth\":[{\"type\":\"choropleth\",\"colorbar\":{\"outlinewidth\":0,\"ticks\":\"\"}}],\"histogram2d\":[{\"type\":\"histogram2d\",\"colorbar\":{\"outlinewidth\":0,\"ticks\":\"\"},\"colorscale\":[[0.0,\"#0d0887\"],[0.1111111111111111,\"#46039f\"],[0.2222222222222222,\"#7201a8\"],[0.3333333333333333,\"#9c179e\"],[0.4444444444444444,\"#bd3786\"],[0.5555555555555556,\"#d8576b\"],[0.6666666666666666,\"#ed7953\"],[0.7777777777777778,\"#fb9f3a\"],[0.8888888888888888,\"#fdca26\"],[1.0,\"#f0f921\"]]}],\"heatmap\":[{\"type\":\"heatmap\",\"colorbar\":{\"outlinewidth\":0,\"ticks\":\"\"},\"colorscale\":[[0.0,\"#0d0887\"],[0.1111111111111111,\"#46039f\"],[0.2222222222222222,\"#7201a8\"],[0.3333333333333333,\"#9c179e\"],[0.4444444444444444,\"#bd3786\"],[0.5555555555555556,\"#d8576b\"],[0.6666666666666666,\"#ed7953\"],[0.7777777777777778,\"#fb9f3a\"],[0.8888888888888888,\"#fdca26\"],[1.0,\"#f0f921\"]]}],\"heatmapgl\":[{\"type\":\"heatmapgl\",\"colorbar\":{\"outlinewidth\":0,\"ticks\":\"\"},\"colorscale\":[[0.0,\"#0d0887\"],[0.1111111111111111,\"#46039f\"],[0.2222222222222222,\"#7201a8\"],[0.3333333333333333,\"#9c179e\"],[0.4444444444444444,\"#bd3786\"],[0.5555555555555556,\"#d8576b\"],[0.6666666666666666,\"#ed7953\"],[0.7777777777777778,\"#fb9f3a\"],[0.8888888888888888,\"#fdca26\"],[1.0,\"#f0f921\"]]}],\"contourcarpet\":[{\"type\":\"contourcarpet\",\"colorbar\":{\"outlinewidth\":0,\"ticks\":\"\"}}],\"contour\":[{\"type\":\"contour\",\"colorbar\":{\"outlinewidth\":0,\"ticks\":\"\"},\"colorscale\":[[0.0,\"#0d0887\"],[0.1111111111111111,\"#46039f\"],[0.2222222222222222,\"#7201a8\"],[0.3333333333333333,\"#9c179e\"],[0.4444444444444444,\"#bd3786\"],[0.5555555555555556,\"#d8576b\"],[0.6666666666666666,\"#ed7953\"],[0.7777777777777778,\"#fb9f3a\"],[0.8888888888888888,\"#fdca26\"],[1.0,\"#f0f921\"]]}],\"surface\":[{\"type\":\"surface\",\"colorbar\":{\"outlinewidth\":0,\"ticks\":\"\"},\"colorscale\":[[0.0,\"#0d0887\"],[0.1111111111111111,\"#46039f\"],[0.2222222222222222,\"#7201a8\"],[0.3333333333333333,\"#9c179e\"],[0.4444444444444444,\"#bd3786\"],[0.5555555555555556,\"#d8576b\"],[0.6666666666666666,\"#ed7953\"],[0.7777777777777778,\"#fb9f3a\"],[0.8888888888888888,\"#fdca26\"],[1.0,\"#f0f921\"]]}],\"mesh3d\":[{\"type\":\"mesh3d\",\"colorbar\":{\"outlinewidth\":0,\"ticks\":\"\"}}],\"scatter\":[{\"fillpattern\":{\"fillmode\":\"overlay\",\"size\":10,\"solidity\":0.2},\"type\":\"scatter\"}],\"parcoords\":[{\"type\":\"parcoords\",\"line\":{\"colorbar\":{\"outlinewidth\":0,\"ticks\":\"\"}}}],\"scatterpolargl\":[{\"type\":\"scatterpolargl\",\"marker\":{\"colorbar\":{\"outlinewidth\":0,\"ticks\":\"\"}}}],\"bar\":[{\"error_x\":{\"color\":\"#2a3f5f\"},\"error_y\":{\"color\":\"#2a3f5f\"},\"marker\":{\"line\":{\"color\":\"#E5ECF6\",\"width\":0.5},\"pattern\":{\"fillmode\":\"overlay\",\"size\":10,\"solidity\":0.2}},\"type\":\"bar\"}],\"scattergeo\":[{\"type\":\"scattergeo\",\"marker\":{\"colorbar\":{\"outlinewidth\":0,\"ticks\":\"\"}}}],\"scatterpolar\":[{\"type\":\"scatterpolar\",\"marker\":{\"colorbar\":{\"outlinewidth\":0,\"ticks\":\"\"}}}],\"histogram\":[{\"marker\":{\"pattern\":{\"fillmode\":\"overlay\",\"size\":10,\"solidity\":0.2}},\"type\":\"histogram\"}],\"scattergl\":[{\"type\":\"scattergl\",\"marker\":{\"colorbar\":{\"outlinewidth\":0,\"ticks\":\"\"}}}],\"scatter3d\":[{\"type\":\"scatter3d\",\"line\":{\"colorbar\":{\"outlinewidth\":0,\"ticks\":\"\"}},\"marker\":{\"colorbar\":{\"outlinewidth\":0,\"ticks\":\"\"}}}],\"scattermapbox\":[{\"type\":\"scattermapbox\",\"marker\":{\"colorbar\":{\"outlinewidth\":0,\"ticks\":\"\"}}}],\"scatterternary\":[{\"type\":\"scatterternary\",\"marker\":{\"colorbar\":{\"outlinewidth\":0,\"ticks\":\"\"}}}],\"scattercarpet\":[{\"type\":\"scattercarpet\",\"marker\":{\"colorbar\":{\"outlinewidth\":0,\"ticks\":\"\"}}}],\"carpet\":[{\"aaxis\":{\"endlinecolor\":\"#2a3f5f\",\"gridcolor\":\"white\",\"linecolor\":\"white\",\"minorgridcolor\":\"white\",\"startlinecolor\":\"#2a3f5f\"},\"baxis\":{\"endlinecolor\":\"#2a3f5f\",\"gridcolor\":\"white\",\"linecolor\":\"white\",\"minorgridcolor\":\"white\",\"startlinecolor\":\"#2a3f5f\"},\"type\":\"carpet\"}],\"table\":[{\"cells\":{\"fill\":{\"color\":\"#EBF0F8\"},\"line\":{\"color\":\"white\"}},\"header\":{\"fill\":{\"color\":\"#C8D4E3\"},\"line\":{\"color\":\"white\"}},\"type\":\"table\"}],\"barpolar\":[{\"marker\":{\"line\":{\"color\":\"#E5ECF6\",\"width\":0.5},\"pattern\":{\"fillmode\":\"overlay\",\"size\":10,\"solidity\":0.2}},\"type\":\"barpolar\"}],\"pie\":[{\"automargin\":true,\"type\":\"pie\"}]},\"layout\":{\"autotypenumbers\":\"strict\",\"colorway\":[\"#636efa\",\"#EF553B\",\"#00cc96\",\"#ab63fa\",\"#FFA15A\",\"#19d3f3\",\"#FF6692\",\"#B6E880\",\"#FF97FF\",\"#FECB52\"],\"font\":{\"color\":\"#2a3f5f\"},\"hovermode\":\"closest\",\"hoverlabel\":{\"align\":\"left\"},\"paper_bgcolor\":\"white\",\"plot_bgcolor\":\"#E5ECF6\",\"polar\":{\"bgcolor\":\"#E5ECF6\",\"angularaxis\":{\"gridcolor\":\"white\",\"linecolor\":\"white\",\"ticks\":\"\"},\"radialaxis\":{\"gridcolor\":\"white\",\"linecolor\":\"white\",\"ticks\":\"\"}},\"ternary\":{\"bgcolor\":\"#E5ECF6\",\"aaxis\":{\"gridcolor\":\"white\",\"linecolor\":\"white\",\"ticks\":\"\"},\"baxis\":{\"gridcolor\":\"white\",\"linecolor\":\"white\",\"ticks\":\"\"},\"caxis\":{\"gridcolor\":\"white\",\"linecolor\":\"white\",\"ticks\":\"\"}},\"coloraxis\":{\"colorbar\":{\"outlinewidth\":0,\"ticks\":\"\"}},\"colorscale\":{\"sequential\":[[0.0,\"#0d0887\"],[0.1111111111111111,\"#46039f\"],[0.2222222222222222,\"#7201a8\"],[0.3333333333333333,\"#9c179e\"],[0.4444444444444444,\"#bd3786\"],[0.5555555555555556,\"#d8576b\"],[0.6666666666666666,\"#ed7953\"],[0.7777777777777778,\"#fb9f3a\"],[0.8888888888888888,\"#fdca26\"],[1.0,\"#f0f921\"]],\"sequentialminus\":[[0.0,\"#0d0887\"],[0.1111111111111111,\"#46039f\"],[0.2222222222222222,\"#7201a8\"],[0.3333333333333333,\"#9c179e\"],[0.4444444444444444,\"#bd3786\"],[0.5555555555555556,\"#d8576b\"],[0.6666666666666666,\"#ed7953\"],[0.7777777777777778,\"#fb9f3a\"],[0.8888888888888888,\"#fdca26\"],[1.0,\"#f0f921\"]],\"diverging\":[[0,\"#8e0152\"],[0.1,\"#c51b7d\"],[0.2,\"#de77ae\"],[0.3,\"#f1b6da\"],[0.4,\"#fde0ef\"],[0.5,\"#f7f7f7\"],[0.6,\"#e6f5d0\"],[0.7,\"#b8e186\"],[0.8,\"#7fbc41\"],[0.9,\"#4d9221\"],[1,\"#276419\"]]},\"xaxis\":{\"gridcolor\":\"white\",\"linecolor\":\"white\",\"ticks\":\"\",\"title\":{\"standoff\":15},\"zerolinecolor\":\"white\",\"automargin\":true,\"zerolinewidth\":2},\"yaxis\":{\"gridcolor\":\"white\",\"linecolor\":\"white\",\"ticks\":\"\",\"title\":{\"standoff\":15},\"zerolinecolor\":\"white\",\"automargin\":true,\"zerolinewidth\":2},\"scene\":{\"xaxis\":{\"backgroundcolor\":\"#E5ECF6\",\"gridcolor\":\"white\",\"linecolor\":\"white\",\"showbackground\":true,\"ticks\":\"\",\"zerolinecolor\":\"white\",\"gridwidth\":2},\"yaxis\":{\"backgroundcolor\":\"#E5ECF6\",\"gridcolor\":\"white\",\"linecolor\":\"white\",\"showbackground\":true,\"ticks\":\"\",\"zerolinecolor\":\"white\",\"gridwidth\":2},\"zaxis\":{\"backgroundcolor\":\"#E5ECF6\",\"gridcolor\":\"white\",\"linecolor\":\"white\",\"showbackground\":true,\"ticks\":\"\",\"zerolinecolor\":\"white\",\"gridwidth\":2}},\"shapedefaults\":{\"line\":{\"color\":\"#2a3f5f\"}},\"annotationdefaults\":{\"arrowcolor\":\"#2a3f5f\",\"arrowhead\":0,\"arrowwidth\":1},\"geo\":{\"bgcolor\":\"white\",\"landcolor\":\"#E5ECF6\",\"subunitcolor\":\"white\",\"showland\":true,\"showlakes\":true,\"lakecolor\":\"white\"},\"title\":{\"x\":0.05},\"mapbox\":{\"style\":\"light\"}}},\"scene\":{\"domain\":{\"x\":[0.0,1.0],\"y\":[0.0,1.0]},\"xaxis\":{\"title\":{\"text\":\"x\"}},\"yaxis\":{\"title\":{\"text\":\"y\"}},\"zaxis\":{\"title\":{\"text\":\"z\"}}},\"legend\":{\"title\":{\"text\":\"color\"},\"tracegroupgap\":0},\"margin\":{\"t\":60}},                        {\"responsive\": true}                    ).then(function(){\n",
              "                            \n",
              "var gd = document.getElementById('b8ba351b-acfd-4c3a-bf17-fb84b5001e61');\n",
              "var x = new MutationObserver(function (mutations, observer) {{\n",
              "        var display = window.getComputedStyle(gd).display;\n",
              "        if (!display || display === 'none') {{\n",
              "            console.log([gd, 'removed!']);\n",
              "            Plotly.purge(gd);\n",
              "            observer.disconnect();\n",
              "        }}\n",
              "}});\n",
              "\n",
              "// Listen for the removal of the full notebook cells\n",
              "var notebookContainer = gd.closest('#notebook-container');\n",
              "if (notebookContainer) {{\n",
              "    x.observe(notebookContainer, {childList: true});\n",
              "}}\n",
              "\n",
              "// Listen for the clearing of the current output cell\n",
              "var outputEl = gd.closest('.output');\n",
              "if (outputEl) {{\n",
              "    x.observe(outputEl, {childList: true});\n",
              "}}\n",
              "\n",
              "                        })                };                            </script>        </div>\n",
              "</body>\n",
              "</html>"
            ]
          },
          "metadata": {}
        }
      ]
    },
    {
      "cell_type": "markdown",
      "source": [
        "<details>\n",
        "  <summary>\n",
        "    Если ячейка не загрузилась, должно быть так\n",
        "  </summary>\n",
        "\n",
        "  ![График](https://drive.google.com/uc?export=view&id=1s1ySJ0cebLaKeO0ALr8LtV7HffTAlO31)\n",
        "</details>"
      ],
      "metadata": {
        "id": "5j3TjdzR5m6O"
      }
    },
    {
      "cell_type": "markdown",
      "source": [
        "Зададим движения по карте для этих двух точек"
      ],
      "metadata": {
        "id": "jn0Mdwg8yVU_"
      }
    },
    {
      "cell_type": "code",
      "source": [
        "possible_movements = np.array([\n",
        "    [1, 0, -1],\n",
        "    [0, 1, -1],\n",
        "])"
      ],
      "metadata": {
        "id": "Xn4w6aomyY6R"
      },
      "execution_count": 73,
      "outputs": []
    },
    {
      "cell_type": "markdown",
      "source": [
        "Теперь зададим размер матрицы (посчитаем какое максимальное кол-во движений нужно сделать чтобы дойти от одного края матрицы до другого)"
      ],
      "metadata": {
        "id": "XWuOzvm-ya5p"
      }
    },
    {
      "cell_type": "code",
      "source": [
        "part_n = 8\n",
        "part_m = 19"
      ],
      "metadata": {
        "id": "y8VWW4CKkUAP"
      },
      "execution_count": 74,
      "outputs": []
    },
    {
      "cell_type": "markdown",
      "source": [
        "Сделаем матрицу весов передвижений"
      ],
      "metadata": {
        "id": "UPmIcgcLyo5M"
      }
    },
    {
      "cell_type": "code",
      "source": [
        "weights = np.full((part_n, part_m), PLAIN_TYPE)\n",
        "\n",
        "weights"
      ],
      "metadata": {
        "colab": {
          "base_uri": "https://localhost:8080/"
        },
        "id": "xACAo1roymu6",
        "outputId": "e83df3f0-5a7a-4d8e-dd45-345053d940ac"
      },
      "execution_count": 75,
      "outputs": [
        {
          "output_type": "execute_result",
          "data": {
            "text/plain": [
              "array([[1, 1, 1, 1, 1, 1, 1, 1, 1, 1, 1, 1, 1, 1, 1, 1, 1, 1, 1],\n",
              "       [1, 1, 1, 1, 1, 1, 1, 1, 1, 1, 1, 1, 1, 1, 1, 1, 1, 1, 1],\n",
              "       [1, 1, 1, 1, 1, 1, 1, 1, 1, 1, 1, 1, 1, 1, 1, 1, 1, 1, 1],\n",
              "       [1, 1, 1, 1, 1, 1, 1, 1, 1, 1, 1, 1, 1, 1, 1, 1, 1, 1, 1],\n",
              "       [1, 1, 1, 1, 1, 1, 1, 1, 1, 1, 1, 1, 1, 1, 1, 1, 1, 1, 1],\n",
              "       [1, 1, 1, 1, 1, 1, 1, 1, 1, 1, 1, 1, 1, 1, 1, 1, 1, 1, 1],\n",
              "       [1, 1, 1, 1, 1, 1, 1, 1, 1, 1, 1, 1, 1, 1, 1, 1, 1, 1, 1],\n",
              "       [1, 1, 1, 1, 1, 1, 1, 1, 1, 1, 1, 1, 1, 1, 1, 1, 1, 1, 1]])"
            ]
          },
          "metadata": {},
          "execution_count": 75
        }
      ]
    },
    {
      "cell_type": "markdown",
      "source": [
        "Решим задачку \"черепашки\"\n",
        "\n",
        "P.S. Чтобы получить ячейку (i, j) нужно сделать i первых движений и j вторых движений"
      ],
      "metadata": {
        "id": "RAM1Ccsnywxq"
      }
    },
    {
      "cell_type": "code",
      "source": [
        "# Код тут\n",
        "\n",
        "for i in range(part_n):\n",
        "    for j in range(part_m):\n",
        "\n",
        "        cell = hills_map[from_idx]\n",
        "        coords = cell[:3]\n",
        "\n",
        "        now_cell = coords + possible_movements[0] * i + possible_movements[1] * j\n",
        "        now_idx = get_idx(now_cell[:3])\n",
        "\n",
        "        if now_idx in hex_idxs and is_not_hills_or_river(hills_map[now_idx]):\n",
        "            dist = round(count_dist(now_idx, to_idx)) # округляю, сначала хотел умножать на 10^5, но передумал\n",
        "            if i == 0 and j > 0:\n",
        "                weights[i, j] = dist + weights[i, j-1]\n",
        "            elif j == 0 and i > 0:\n",
        "                weights[i, j] = dist + weights[i-1, j]\n",
        "            else:\n",
        "                min_parent = min(weights[i, j-1], weights[i-1, j]) if i > 0 and j > 0 else 0\n",
        "                weights[i, j] = dist + min_parent\n",
        "        else: weights[i, j] = 9999"
      ],
      "metadata": {
        "id": "4HfDzchcnszq"
      },
      "execution_count": 92,
      "outputs": []
    },
    {
      "cell_type": "code",
      "source": [
        "weights"
      ],
      "metadata": {
        "colab": {
          "base_uri": "https://localhost:8080/"
        },
        "id": "-kGOtHS4zFpS",
        "outputId": "07bfcf5e-2fb2-42a4-bf42-4f079cd90f31"
      },
      "execution_count": 93,
      "outputs": [
        {
          "output_type": "execute_result",
          "data": {
            "text/plain": [
              "array([[  32,   65,   99,  135,  172, 9999, 9999, 9999, 9999, 9999, 9999,\n",
              "        9999, 9999, 9999, 9999, 9999, 9999, 9999, 9999],\n",
              "       [  65,   99,  134,  171, 9999, 9999, 9999, 9999, 9999, 9999, 9999,\n",
              "        9999, 9999, 9999, 9999, 9999, 9999, 9999, 9999],\n",
              "       [  99,  134,  170, 9999, 9999, 9999, 9999, 9999, 9999, 9999, 9999,\n",
              "        9999, 9999, 9999, 9999, 9999, 9999, 9999, 9999],\n",
              "       [9999, 9999, 9999, 9999, 9999, 9999, 9999, 9999, 9999, 9999, 9999,\n",
              "        9999, 9999, 9999, 9999, 9999, 9999, 9999, 9999],\n",
              "       [9999, 9999, 9999, 9999, 9999, 9999, 9999, 9999, 9999, 9999, 9999,\n",
              "        9999, 9999, 9999, 9999, 9999, 9999, 9999, 9999],\n",
              "       [9999, 9999, 9999, 9999, 9999, 9999, 9999, 9999, 9999, 9999, 9999,\n",
              "        9999, 9999, 9999, 9999, 9999, 9999, 9999, 9999],\n",
              "       [9999, 9999, 9999, 9999, 9999, 9999, 9999, 9999, 9999, 9999, 9999,\n",
              "        9999, 9999, 9999, 9999, 9999, 9999, 9999, 9999],\n",
              "       [9999, 9999, 9999, 9999, 9999, 9999, 9999, 9999, 9999, 9999, 9999,\n",
              "        9999, 9999, 9999, 9999, 9999, 9999, 9999, 9999]])"
            ]
          },
          "metadata": {},
          "execution_count": 93
        }
      ]
    },
    {
      "cell_type": "markdown",
      "source": [
        "Найдем путь от начальной ячейки к конечной"
      ],
      "metadata": {
        "id": "uETE7SDgzEty"
      }
    },
    {
      "cell_type": "code",
      "source": [
        "# Код тут\n",
        "path = [from_idx]\n",
        "i = j = 0\n",
        "while i < (part_n - 1) or j < (part_m - 1):\n",
        "\n",
        "    cell = hills_map[path[-1]]\n",
        "    coords = cell[:3]\n",
        "\n",
        "    if i < (part_n - 1) and j < (part_m - 1):\n",
        "        if weights[i+1, j] > weights[i, j+1]: # тут если поставить условие >=, то будет идти через горы, я не знаю, как это пофиксить\n",
        "            n_coords = coords + possible_movements[1]\n",
        "            j += 1\n",
        "        else:\n",
        "            n_coords = coords + possible_movements[0]\n",
        "            i += 1\n",
        "    elif i < (part_n - 1):\n",
        "        n_coords = coords + possible_movements[0]\n",
        "        i += 1\n",
        "    elif j < (part_m - 1):\n",
        "        n_coords = coords + possible_movements[1]\n",
        "        j += 1\n",
        "\n",
        "    path += [get_idx(n_coords)]"
      ],
      "metadata": {
        "id": "Wi2NizzHstrC",
        "outputId": "f35dd3b4-b560-46d6-9e14-86cbf93ddd89",
        "colab": {
          "base_uri": "https://localhost:8080/",
          "height": 211
        }
      },
      "execution_count": 96,
      "outputs": [
        {
          "output_type": "error",
          "ename": "IndexError",
          "evalue": "index 69740 is out of bounds for axis 0 with size 68921",
          "traceback": [
            "\u001b[0;31m---------------------------------------------------------------------------\u001b[0m",
            "\u001b[0;31mIndexError\u001b[0m                                Traceback (most recent call last)",
            "\u001b[0;32m<ipython-input-96-617ca74eb083>\u001b[0m in \u001b[0;36m<cell line: 4>\u001b[0;34m()\u001b[0m\n\u001b[1;32m      4\u001b[0m \u001b[0;32mwhile\u001b[0m \u001b[0mi\u001b[0m \u001b[0;34m<\u001b[0m \u001b[0;34m(\u001b[0m\u001b[0mpart_n\u001b[0m \u001b[0;34m-\u001b[0m \u001b[0;36m1\u001b[0m\u001b[0;34m)\u001b[0m \u001b[0;32mor\u001b[0m \u001b[0mj\u001b[0m \u001b[0;34m<\u001b[0m \u001b[0;34m(\u001b[0m\u001b[0mpart_m\u001b[0m \u001b[0;34m-\u001b[0m \u001b[0;36m1\u001b[0m\u001b[0;34m)\u001b[0m\u001b[0;34m:\u001b[0m\u001b[0;34m\u001b[0m\u001b[0;34m\u001b[0m\u001b[0m\n\u001b[1;32m      5\u001b[0m \u001b[0;34m\u001b[0m\u001b[0m\n\u001b[0;32m----> 6\u001b[0;31m     \u001b[0mcell\u001b[0m \u001b[0;34m=\u001b[0m \u001b[0mhills_map\u001b[0m\u001b[0;34m[\u001b[0m\u001b[0mpath\u001b[0m\u001b[0;34m[\u001b[0m\u001b[0;34m-\u001b[0m\u001b[0;36m1\u001b[0m\u001b[0;34m]\u001b[0m\u001b[0;34m]\u001b[0m\u001b[0;34m\u001b[0m\u001b[0;34m\u001b[0m\u001b[0m\n\u001b[0m\u001b[1;32m      7\u001b[0m     \u001b[0mcoords\u001b[0m \u001b[0;34m=\u001b[0m \u001b[0mcell\u001b[0m\u001b[0;34m[\u001b[0m\u001b[0;34m:\u001b[0m\u001b[0;36m3\u001b[0m\u001b[0;34m]\u001b[0m\u001b[0;34m\u001b[0m\u001b[0;34m\u001b[0m\u001b[0m\n\u001b[1;32m      8\u001b[0m \u001b[0;34m\u001b[0m\u001b[0m\n",
            "\u001b[0;31mIndexError\u001b[0m: index 69740 is out of bounds for axis 0 with size 68921"
          ]
        }
      ]
    },
    {
      "cell_type": "code",
      "source": [
        "path"
      ],
      "metadata": {
        "colab": {
          "base_uri": "https://localhost:8080/"
        },
        "id": "jhiAomdmzMmX",
        "outputId": "8a3f7191-6490-4e63-cc30-8a19407b64e6"
      },
      "execution_count": 94,
      "outputs": [
        {
          "output_type": "execute_result",
          "data": {
            "text/plain": [
              "[64620, 64660, 64700, 66380, 68060, 69740]"
            ]
          },
          "metadata": {},
          "execution_count": 94
        }
      ]
    },
    {
      "cell_type": "code",
      "source": [
        "visualize_solve(path)"
      ],
      "metadata": {
        "colab": {
          "base_uri": "https://localhost:8080/",
          "height": 263
        },
        "id": "CMgdztDfvdP4",
        "outputId": "8487eee4-7f08-4d7c-93bf-f73bd339055b"
      },
      "execution_count": 97,
      "outputs": [
        {
          "output_type": "error",
          "ename": "IndexError",
          "evalue": "index 69740 is out of bounds for axis 0 with size 68921",
          "traceback": [
            "\u001b[0;31m---------------------------------------------------------------------------\u001b[0m",
            "\u001b[0;31mIndexError\u001b[0m                                Traceback (most recent call last)",
            "\u001b[0;32m<ipython-input-97-a44f7b2ba538>\u001b[0m in \u001b[0;36m<cell line: 1>\u001b[0;34m()\u001b[0m\n\u001b[0;32m----> 1\u001b[0;31m \u001b[0mvisualize_solve\u001b[0m\u001b[0;34m(\u001b[0m\u001b[0mpath\u001b[0m\u001b[0;34m)\u001b[0m\u001b[0;34m\u001b[0m\u001b[0;34m\u001b[0m\u001b[0m\n\u001b[0m",
            "\u001b[0;32m<ipython-input-34-cd2f03a01ace>\u001b[0m in \u001b[0;36mvisualize_solve\u001b[0;34m(route_path)\u001b[0m\n\u001b[1;32m      9\u001b[0m \u001b[0;34m\u001b[0m\u001b[0m\n\u001b[1;32m     10\u001b[0m   \u001b[0;32mfor\u001b[0m \u001b[0mcell_idx\u001b[0m \u001b[0;32min\u001b[0m \u001b[0mroute_path\u001b[0m\u001b[0;34m:\u001b[0m\u001b[0;34m\u001b[0m\u001b[0;34m\u001b[0m\u001b[0m\n\u001b[0;32m---> 11\u001b[0;31m     \u001b[0mroute_map\u001b[0m\u001b[0;34m[\u001b[0m\u001b[0mcell_idx\u001b[0m\u001b[0;34m]\u001b[0m\u001b[0;34m[\u001b[0m\u001b[0;34m-\u001b[0m\u001b[0;36m1\u001b[0m\u001b[0;34m]\u001b[0m \u001b[0;34m=\u001b[0m \u001b[0mROUTE_TYPE\u001b[0m\u001b[0;34m\u001b[0m\u001b[0;34m\u001b[0m\u001b[0m\n\u001b[0m\u001b[1;32m     12\u001b[0m \u001b[0;34m\u001b[0m\u001b[0m\n\u001b[1;32m     13\u001b[0m   \u001b[0mhex_data\u001b[0m \u001b[0;34m=\u001b[0m \u001b[0mroute_map\u001b[0m\u001b[0;34m[\u001b[0m\u001b[0mhex_idxs\u001b[0m\u001b[0;34m]\u001b[0m\u001b[0;34m\u001b[0m\u001b[0;34m\u001b[0m\u001b[0m\n",
            "\u001b[0;31mIndexError\u001b[0m: index 69740 is out of bounds for axis 0 with size 68921"
          ]
        }
      ]
    },
    {
      "cell_type": "markdown",
      "source": [
        "<details>\n",
        "  <summary>\n",
        "    Если ячейка не загрузилась, должно быть так\n",
        "  </summary>\n",
        "\n",
        "  ![График](https://drive.google.com/uc?export=view&id=1s_BSGk1yj7ZGX78AVfndzYyxSP0NBbdm)\n",
        "</details>"
      ],
      "metadata": {
        "id": "DB2omUcg55H9"
      }
    },
    {
      "cell_type": "markdown",
      "source": [
        "### Обобщение задачки черепашки (1 балл)"
      ],
      "metadata": {
        "id": "0-3Zs8jtL7s-"
      }
    },
    {
      "cell_type": "markdown",
      "source": [
        "Попробуем обобщить наш подход:\n",
        "- Нужно научиться подбирать движения для двух точек\n",
        "- Нужно научиться определять размерность задачи"
      ],
      "metadata": {
        "id": "bSIMJXeP6d0E"
      }
    },
    {
      "cell_type": "markdown",
      "source": [
        "Начнем с подбора движений\n",
        "\n",
        "Для того, чтобы их подобрать, необходимо знать каким образом изменяются координаты м-ду стартовой и финишной точками"
      ],
      "metadata": {
        "id": "qDmXWEiQ6ukd"
      }
    },
    {
      "cell_type": "code",
      "source": [
        "hills_map[from_idx] - hills_map[to_idx] # выше я поменял координаты местами, потому что движения у нас такие тут по идее дожно быть [+, +, -, 0]"
      ],
      "metadata": {
        "id": "Bedt4_BIyU67",
        "colab": {
          "base_uri": "https://localhost:8080/"
        },
        "outputId": "83eef235-3a68-4abc-a491-89d4e07fa47a"
      },
      "execution_count": 98,
      "outputs": [
        {
          "output_type": "execute_result",
          "data": {
            "text/plain": [
              "array([  7,  18, -25,   0])"
            ]
          },
          "metadata": {},
          "execution_count": 98
        }
      ]
    },
    {
      "cell_type": "markdown",
      "source": [
        "В задаче выше при движении от финала к старту\n",
        "- x увеличивается\n",
        "- y увеличивается\n",
        "- z уменьшается"
      ],
      "metadata": {
        "id": "DBzaTTmR7Sg-"
      }
    },
    {
      "cell_type": "markdown",
      "source": [
        "Для задачи выше будем брать те движения, где z уменьшается\n",
        "\n",
        "В общем случае будем брать движения с фиксированной непопулярной динамикой для переменной\n",
        "\n",
        "Например:\n",
        "- $x\\uparrow, y\\uparrow, z\\downarrow \\Rightarrow$ Непопулярная динамика - вниз $\\Rightarrow$ Берем движения где $z\\downarrow$, \"фиксируем\" z\n",
        "- $x\\downarrow, y\\uparrow, z\\downarrow \\Rightarrow$ Непопулярная динамика - вверх $\\Rightarrow$ Берем движения где $y\\uparrow$, \"фиксируем\" y"
      ],
      "metadata": {
        "id": "YHMRURZs8X0c"
      }
    },
    {
      "cell_type": "markdown",
      "source": [
        "А как посчитать размерность?\n",
        "\n",
        "Для каждого выбранного движения посчитаем разницу в изменяемых переменных"
      ],
      "metadata": {
        "id": "3jC00reX9wVx"
      }
    },
    {
      "cell_type": "markdown",
      "source": [
        "Посчитаем ручками на новом примере"
      ],
      "metadata": {
        "id": "Vs1OoT0HNaVi"
      }
    },
    {
      "cell_type": "code",
      "source": [
        "new_from_idx = 42_140\n",
        "new_to_idx = 64_300"
      ],
      "metadata": {
        "id": "zKO0zjiXDTUb"
      },
      "execution_count": 100,
      "outputs": []
    },
    {
      "cell_type": "code",
      "source": [
        "def get_diff(idx_from, idx_to):\n",
        "  return hills_map[idx_from][:3] - hills_map[idx_to][:3]"
      ],
      "metadata": {
        "id": "zXTwQUzN7Nqw"
      },
      "execution_count": 101,
      "outputs": []
    },
    {
      "cell_type": "code",
      "source": [
        "get_diff(new_from_idx, new_to_idx)"
      ],
      "metadata": {
        "colab": {
          "base_uri": "https://localhost:8080/"
        },
        "id": "GT-jH83DNdxP",
        "outputId": "2284a14c-176d-42da-9817-c9ce8d0ae2f9"
      },
      "execution_count": 102,
      "outputs": [
        {
          "output_type": "execute_result",
          "data": {
            "text/plain": [
              "array([-13,  -8,  21])"
            ]
          },
          "metadata": {},
          "execution_count": 102
        }
      ]
    },
    {
      "cell_type": "markdown",
      "source": [
        "Берем движения где $z\\uparrow$"
      ],
      "metadata": {
        "id": "GetF1R_7Ngvn"
      }
    },
    {
      "cell_type": "code",
      "source": [
        "movement_idxs = np.where(ALL_MOVEMENTS[:, 2] == 1)[0]\n",
        "\n",
        "movements = ALL_MOVEMENTS[movement_idxs]\n",
        "\n",
        "movements"
      ],
      "metadata": {
        "colab": {
          "base_uri": "https://localhost:8080/"
        },
        "id": "ynTEvYVJNoPQ",
        "outputId": "0362ffcd-6b99-4d0d-9d00-3a3282c265d6"
      },
      "execution_count": 103,
      "outputs": [
        {
          "output_type": "execute_result",
          "data": {
            "text/plain": [
              "array([[ 0, -1,  1],\n",
              "       [-1,  0,  1]])"
            ]
          },
          "metadata": {},
          "execution_count": 103
        }
      ]
    },
    {
      "cell_type": "markdown",
      "source": [
        "Выбросим $z$ из движений (т.к $z$ \"зафиксирован\")"
      ],
      "metadata": {
        "id": "Xf2t90xkN7Dq"
      }
    },
    {
      "cell_type": "code",
      "source": [
        "movements[:, 0:2]"
      ],
      "metadata": {
        "colab": {
          "base_uri": "https://localhost:8080/"
        },
        "id": "Muf183r8OAjt",
        "outputId": "35cd3f83-86e6-468c-8d4a-162a24e66e14"
      },
      "execution_count": 104,
      "outputs": [
        {
          "output_type": "execute_result",
          "data": {
            "text/plain": [
              "array([[ 0, -1],\n",
              "       [-1,  0]])"
            ]
          },
          "metadata": {},
          "execution_count": 104
        }
      ]
    },
    {
      "cell_type": "markdown",
      "source": [
        "Видим, что в первом движении изменяется $y$, а diff по $y$ = -8 $\\Rightarrow$ Можно сделать 9 первых движений ((-8 / -1) + 1)\n",
        "\n",
        "Аналогично, можно сделать 14 вторых движений\n",
        "\n",
        "Значит размерность задачи (9, 14)"
      ],
      "metadata": {
        "id": "UOZtHhMgOGYP"
      }
    },
    {
      "cell_type": "markdown",
      "source": [
        "Теперь закодим эту историю\n",
        "\n",
        "Начнем с функции получения возможных движений"
      ],
      "metadata": {
        "id": "ylQuR7iiOvJd"
      }
    },
    {
      "cell_type": "code",
      "source": [
        "\"\"\"\n",
        "Функция возвращает движения для заданных индексов, а также индекс фиксированной переменной\n",
        "\"\"\"\n",
        "def get_movements(idx_from, idx_to):\n",
        "    # Код тут\n",
        "    diff = get_diff(idx_from, idx_to)\n",
        "\n",
        "    fix = None\n",
        "\n",
        "    if (diff[0] < 0) == (diff[1] < 0):\n",
        "        fix = 2\n",
        "    elif (diff[0] < 0) == (diff[2] < 0):\n",
        "        fix = 1\n",
        "    elif (diff[1] < 0) == (diff[2] < 0):\n",
        "        fix = 0\n",
        "\n",
        "    if fix is not None:\n",
        "        g_l = 1 if diff[2] >= 0 else -1\n",
        "        movement_idxs = np.where(ALL_MOVEMENTS[:, fix] == g_l)[0]\n",
        "        movements = ALL_MOVEMENTS[movement_idxs]\n",
        "\n",
        "        return movements, fix"
      ],
      "metadata": {
        "id": "I5oeF2XGMIPQ"
      },
      "execution_count": 105,
      "outputs": []
    },
    {
      "cell_type": "code",
      "source": [
        "get_movements(new_from_idx, new_to_idx)"
      ],
      "metadata": {
        "colab": {
          "base_uri": "https://localhost:8080/"
        },
        "id": "bsFd_-rb-OmP",
        "outputId": "b3f0e0a9-7d49-4e04-e03a-52582de9a39d"
      },
      "execution_count": 106,
      "outputs": [
        {
          "output_type": "execute_result",
          "data": {
            "text/plain": [
              "(array([[ 0, -1,  1],\n",
              "        [-1,  0,  1]]),\n",
              " 2)"
            ]
          },
          "metadata": {},
          "execution_count": 106
        }
      ]
    },
    {
      "cell_type": "markdown",
      "source": [
        "Теперь сделаем функцию получения размерности задачи"
      ],
      "metadata": {
        "id": "HR_hLg9CO4HV"
      }
    },
    {
      "cell_type": "code",
      "source": [
        "\"\"\"\n",
        "movements - массив движений, получаем из функции выше\n",
        "fixed_var_idx - индекс зафиксированной переменной, получаем из функции выше\n",
        "diff - разница координат, получаем из get_diff\n",
        "\"\"\"\n",
        "def get_size(movements, fixed_var_idx, diff):\n",
        "    # Код тут\n",
        "    count_move = []\n",
        "    for move in movements:\n",
        "        for n, v in enumerate(move):\n",
        "            if n != fixed_var_idx and v != 0:\n",
        "                count_move.append((diff[n] // v) + 1)\n",
        "\n",
        "    return count_move\n"
      ],
      "metadata": {
        "id": "4Lt6vQhG-UUT"
      },
      "execution_count": 107,
      "outputs": []
    },
    {
      "cell_type": "code",
      "source": [
        "diff = get_diff(new_from_idx, new_to_idx)\n",
        "\n",
        "movements, fixed_var_idx = get_movements(new_from_idx, new_to_idx)\n",
        "\n",
        "get_size(movements, fixed_var_idx, diff)"
      ],
      "metadata": {
        "colab": {
          "base_uri": "https://localhost:8080/"
        },
        "id": "L1S5i9S4Eo2A",
        "outputId": "6989a7ed-82a1-45f5-a452-87cf2e8b2ea1"
      },
      "execution_count": 108,
      "outputs": [
        {
          "output_type": "execute_result",
          "data": {
            "text/plain": [
              "[9, 14]"
            ]
          },
          "metadata": {},
          "execution_count": 108
        }
      ]
    },
    {
      "cell_type": "markdown",
      "source": [
        "Теперь соберем функцию решения задачи задачи черепашки в общем случае"
      ],
      "metadata": {
        "id": "Qnvf-P-yO91x"
      }
    },
    {
      "cell_type": "code",
      "source": [
        "def solve_turtle_task(idx_from, idx_to):\n",
        "    diff = get_diff(idx_from, idx_to)\n",
        "\n",
        "    movements, fixed_var_idx = get_movements(idx_from, idx_to)\n",
        "\n",
        "    size = get_size(movements, fixed_var_idx, diff)\n",
        "\n",
        "    part_n, part_m = size\n",
        "\n",
        "    weights = np.full((part_n, part_m), PLAIN_TYPE)\n",
        "\n",
        "    # Код тут\n",
        "    p_m = 1 if idx_from < idx_to else -1 # честно, мне уже впадлу разбираться почему так, но если idx_from < idx_to, то всё работает по алгоритму, но если наоборот, но движения нужно отнимать, а не складывать\n",
        "\n",
        "    # это типа функция 1\n",
        "    for i in range(part_n):\n",
        "        for j in range(part_m):\n",
        "\n",
        "            cell = hills_map[idx_from]\n",
        "            coords = cell[:3]\n",
        "\n",
        "            now_cell = coords + possible_movements[0] * i + possible_movements[1] * j\n",
        "            now_idx = get_idx(now_cell[:3])\n",
        "\n",
        "            if now_idx in hex_idxs and is_not_hills_or_river(hills_map[now_idx]):\n",
        "                dist = round(count_dist(now_idx, idx_to)) # округляю, сначала хотел умножать на 10^5, но передумал\n",
        "                if i == 0 and j > 0:\n",
        "                    weights[i, j] = dist + weights[i, j-1]\n",
        "                elif j == 0 and i > 0:\n",
        "                    weights[i, j] = dist + weights[i-1, j]\n",
        "                else:\n",
        "                    min_parent = min(weights[i, j-1], weights[i-1, j]) if i > 0 and j > 0 else 0\n",
        "                    weights[i, j] = dist + min_parent\n",
        "            else: weights[i, j] = 9999\n",
        "\n",
        "\n",
        "    # это типа функция 2, я просто уже не вывожу это всё нормально собирать\n",
        "    path = [idx_from]\n",
        "    i = j = 0\n",
        "    while i < (part_n - 1) or j < (part_m - 1):\n",
        "\n",
        "        cell = hills_map[path[-1]]\n",
        "        coords = cell[:3]\n",
        "\n",
        "        if i < (part_n - 1) and j < (part_m - 1):\n",
        "            if weights[i+1, j] > weights[i, j+1]: # тут если поставить условие >=, то будет идти через горы, я не знаю, как это пофиксить\n",
        "                n_coords = coords + possible_movements[1] * p_m\n",
        "                j += 1\n",
        "            else:\n",
        "                n_coords = coords + possible_movements[0] * p_m\n",
        "                i += 1\n",
        "        elif i < (part_n - 1):\n",
        "            n_coords = coords + possible_movements[0] * p_m\n",
        "            i += 1\n",
        "        elif j < (part_m - 1):\n",
        "            n_coords = coords + possible_movements[1] * p_m\n",
        "            j += 1\n",
        "\n",
        "        path += [get_idx(n_coords)]\n",
        "\n",
        "    return path"
      ],
      "metadata": {
        "id": "0L4gB-IAFD5u"
      },
      "execution_count": 109,
      "outputs": []
    },
    {
      "cell_type": "code",
      "source": [
        "new_path = solve_turtle_task(new_from_idx, new_to_idx)\n",
        "\n",
        "new_path"
      ],
      "metadata": {
        "colab": {
          "base_uri": "https://localhost:8080/"
        },
        "id": "zmVradX0GSKE",
        "outputId": "916232ab-9b24-42a4-80e7-f6276426b3a1"
      },
      "execution_count": 110,
      "outputs": [
        {
          "output_type": "execute_result",
          "data": {
            "text/plain": [
              "[42140,\n",
              " 43820,\n",
              " 45500,\n",
              " 47180,\n",
              " 48860,\n",
              " 50540,\n",
              " 52220,\n",
              " 53900,\n",
              " 55580,\n",
              " 55620,\n",
              " 55660,\n",
              " 55700,\n",
              " 55740,\n",
              " 55780,\n",
              " 55820,\n",
              " 55860,\n",
              " 55900,\n",
              " 55940,\n",
              " 55980,\n",
              " 56020,\n",
              " 56060,\n",
              " 56100]"
            ]
          },
          "metadata": {},
          "execution_count": 110
        }
      ]
    },
    {
      "cell_type": "code",
      "source": [
        "visualize_solve(new_path)"
      ],
      "metadata": {
        "colab": {
          "base_uri": "https://localhost:8080/",
          "height": 542
        },
        "id": "dOmaqDq8Gqqg",
        "outputId": "66e53dbe-c71d-474d-f197-c20ed8dda772"
      },
      "execution_count": 111,
      "outputs": [
        {
          "output_type": "display_data",
          "data": {
            "text/html": [
              "<html>\n",
              "<head><meta charset=\"utf-8\" /></head>\n",
              "<body>\n",
              "    <div>            <script src=\"https://cdnjs.cloudflare.com/ajax/libs/mathjax/2.7.5/MathJax.js?config=TeX-AMS-MML_SVG\"></script><script type=\"text/javascript\">if (window.MathJax && window.MathJax.Hub && window.MathJax.Hub.Config) {window.MathJax.Hub.Config({SVG: {font: \"STIX-Web\"}});}</script>                <script type=\"text/javascript\">window.PlotlyConfig = {MathJaxConfig: 'local'};</script>\n",
              "        <script charset=\"utf-8\" src=\"https://cdn.plot.ly/plotly-2.24.1.min.js\"></script>                <div id=\"cbcd0fd2-600d-41be-9ed1-7b9c9c301cd2\" class=\"plotly-graph-div\" style=\"height:525px; width:100%;\"></div>            <script type=\"text/javascript\">                                    window.PLOTLYENV=window.PLOTLYENV || {};                                    if (document.getElementById(\"cbcd0fd2-600d-41be-9ed1-7b9c9c301cd2\")) {                    Plotly.newPlot(                        \"cbcd0fd2-600d-41be-9ed1-7b9c9c301cd2\",                        [{\"hovertemplate\":\"\\u003cb\\u003e%{hovertext}\\u003c\\u002fb\\u003e\\u003cbr\\u003e\\u003cbr\\u003ecolor=Plain\\u003cbr\\u003ex=%{x}\\u003cbr\\u003ey=%{y}\\u003cbr\\u003ez=%{z}\\u003cextra\\u003e\\u003c\\u002fextra\\u003e\",\"hovertext\":[860.0,900.0,940.0,980.0,1020.0,1060.0,1140.0,1180.0,1220.0,1260.0,1300.0,1340.0,1420.0,1460.0,1500.0,1540.0,1580.0,1620.0,1660.0,2500.0,2540.0,2580.0,2620.0,2660.0,2700.0,2740.0,2900.0,2940.0,2980.0,3020.0,3100.0,3140.0,3180.0,3220.0,3260.0,3300.0,3340.0,4140.0,4180.0,4220.0,4260.0,4300.0,4340.0,4380.0,4460.0,4500.0,4540.0,4580.0,4620.0,4660.0,4780.0,4820.0,4860.0,4900.0,4940.0,4980.0,5020.0,5780.0,5820.0,5860.0,5900.0,5940.0,5980.0,6020.0,6060.0,6140.0,6180.0,6220.0,6260.0,6300.0,6340.0,6420.0,6460.0,6500.0,6540.0,6580.0,6620.0,6660.0,6700.0,7420.0,7460.0,7500.0,7540.0,7580.0,7620.0,7660.0,7700.0,7740.0,7860.0,7900.0,7940.0,7980.0,8020.0,8060.0,8100.0,8140.0,8180.0,8220.0,8260.0,8300.0,8340.0,9060.0,9100.0,9140.0,9180.0,9220.0,9300.0,9340.0,9380.0,9540.0,9580.0,9620.0,9660.0,9740.0,9780.0,9820.0,9860.0,9900.0,9940.0,10700.0,10860.0,10980.0,11020.0,11060.0,11100.0,11140.0,11180.0,11220.0,11260.0,11300.0,11340.0,11420.0,11460.0,11500.0,11540.0,11580.0,11620.0,11660.0,11700.0,11740.0,12340.0,12380.0,12420.0,12460.0,12620.0,12660.0,12700.0,12740.0,12780.0,12820.0,12860.0,12900.0,12940.0,12980.0,13020.0,13060.0,13100.0,13140.0,13180.0,13220.0,13260.0,13300.0,13340.0,13380.0,13420.0,13980.0,14020.0,14100.0,14140.0,14260.0,14300.0,14340.0,14380.0,14420.0,14460.0,14500.0,14540.0,14580.0,14620.0,14660.0,14700.0,14740.0,14780.0,14820.0,14860.0,14900.0,14940.0,14980.0,15020.0,15060.0,15100.0,15620.0,15660.0,15700.0,15820.0,15860.0,15940.0,15980.0,16020.0,16060.0,16100.0,16140.0,16180.0,16220.0,16260.0,16300.0,16340.0,16380.0,16420.0,16460.0,16500.0,16540.0,16580.0,16620.0,16660.0,16700.0,16740.0,16780.0,17300.0,17340.0,17380.0,17420.0,17700.0,17740.0,17780.0,17820.0,17860.0,17900.0,17940.0,17980.0,18020.0,18060.0,18100.0,18140.0,18180.0,18220.0,18260.0,18300.0,18340.0,18380.0,18420.0,18460.0,18900.0,19020.0,19060.0,19100.0,19140.0,19180.0,19220.0,19260.0,19300.0,19340.0,19380.0,19420.0,19460.0,19500.0,19540.0,19580.0,19620.0,19660.0,19700.0,19740.0,19780.0,19820.0,19860.0,19900.0,19940.0,19980.0,20020.0,20060.0,20100.0,20140.0,20540.0,20580.0,20620.0,20700.0,20740.0,20780.0,20820.0,20900.0,20940.0,20980.0,21020.0,21060.0,21100.0,21140.0,21180.0,21220.0,21260.0,21460.0,21500.0,21540.0,21580.0,21620.0,21660.0,21700.0,21740.0,21780.0,22180.0,22220.0,22260.0,22300.0,22380.0,22420.0,22460.0,22500.0,22580.0,22620.0,22660.0,22700.0,22740.0,22780.0,22820.0,22860.0,22900.0,22940.0,22980.0,23060.0,23100.0,23180.0,23220.0,23260.0,23300.0,23340.0,23380.0,23420.0,23460.0,23500.0,23820.0,23860.0,23900.0,23940.0,23980.0,24020.0,24060.0,24100.0,24140.0,24180.0,24260.0,24300.0,24340.0,24380.0,24420.0,24460.0,24500.0,24540.0,24580.0,24620.0,24660.0,24860.0,24900.0,24940.0,24980.0,25020.0,25060.0,25100.0,25140.0,25180.0,25460.0,25500.0,25540.0,25580.0,25620.0,25660.0,25700.0,25740.0,25780.0,25820.0,25860.0,26020.0,26060.0,26100.0,26140.0,26180.0,26220.0,26260.0,26300.0,26340.0,26380.0,26420.0,26460.0,26580.0,26620.0,26660.0,26700.0,26740.0,26780.0,26820.0,26860.0,27100.0,27140.0,27180.0,27220.0,27260.0,27300.0,27340.0,27380.0,27420.0,27460.0,27500.0,27540.0,27580.0,27620.0,27700.0,27740.0,27780.0,27820.0,27860.0,27900.0,27940.0,27980.0,28020.0,28060.0,28100.0,28140.0,28180.0,28220.0,28260.0,28300.0,28340.0,28380.0,28420.0,28460.0,28500.0,28540.0,28740.0,28780.0,28820.0,28860.0,28900.0,28940.0,28980.0,29020.0,29060.0,29100.0,29140.0,29180.0,29220.0,29260.0,29300.0,29340.0,29380.0,29420.0,29460.0,29500.0,29540.0,29580.0,29620.0,29660.0,29700.0,29740.0,29780.0,29820.0,29860.0,29900.0,29940.0,29980.0,30020.0,30060.0,30100.0,30140.0,30180.0,30220.0,30380.0,30420.0,30460.0,30500.0,30540.0,30580.0,30620.0,30660.0,30700.0,30740.0,30780.0,30820.0,30860.0,30900.0,30940.0,30980.0,31020.0,31180.0,31220.0,31260.0,31300.0,31340.0,31380.0,31420.0,31460.0,31500.0,31540.0,31580.0,31620.0,31660.0,31700.0,31740.0,31780.0,31820.0,31860.0,32020.0,32060.0,32100.0,32140.0,32180.0,32220.0,32260.0,32300.0,32340.0,32380.0,32420.0,32460.0,32500.0,32540.0,32580.0,32620.0,32660.0,32700.0,32740.0,32780.0,32860.0,32900.0,32940.0,32980.0,33020.0,33060.0,33100.0,33140.0,33180.0,33220.0,33260.0,33300.0,33340.0,33380.0,33420.0,33460.0,33500.0,33540.0,33660.0,33700.0,33740.0,33780.0,33820.0,33860.0,33900.0,33940.0,33980.0,34020.0,34060.0,34100.0,34140.0,34180.0,34220.0,34260.0,34300.0,34340.0,34380.0,34660.0,34700.0,34740.0,34780.0,34820.0,34860.0,34900.0,34940.0,34980.0,35020.0,35060.0,35100.0,35220.0,35340.0,35380.0,35420.0,35460.0,35500.0,35540.0,35580.0,35620.0,35660.0,35700.0,35740.0,35780.0,35820.0,35860.0,35900.0,35940.0,35980.0,36020.0,36060.0,36100.0,36140.0,36180.0,36220.0,36260.0,36340.0,36380.0,36420.0,36460.0,36500.0,36540.0,36580.0,36620.0,36660.0,36700.0,36740.0,36860.0,36900.0,37020.0,37060.0,37100.0,37140.0,37180.0,37220.0,37260.0,37300.0,37340.0,37380.0,37420.0,37460.0,37500.0,37580.0,37620.0,37660.0,37700.0,37740.0,37780.0,37820.0,37860.0,37900.0,37940.0,37980.0,38020.0,38060.0,38100.0,38140.0,38180.0,38220.0,38260.0,38300.0,38340.0,38380.0,38420.0,38540.0,38700.0,38740.0,38780.0,38820.0,38860.0,38900.0,38940.0,38980.0,39020.0,39060.0,39100.0,39140.0,39180.0,39300.0,39340.0,39380.0,39420.0,39460.0,39500.0,39540.0,39580.0,39620.0,39660.0,39700.0,39740.0,39780.0,39820.0,39860.0,39900.0,39940.0,39980.0,40020.0,40380.0,40420.0,40460.0,40500.0,40540.0,40580.0,40620.0,40660.0,40700.0,40740.0,40820.0,40860.0,40900.0,40940.0,40980.0,41020.0,41060.0,41100.0,41140.0,41180.0,41220.0,41300.0,41340.0,41380.0,41420.0,41460.0,41500.0,41540.0,41580.0,41620.0,41660.0,41700.0,41780.0,41820.0,42060.0,42100.0,42180.0,42220.0,42260.0,42300.0,42340.0,42380.0,42420.0,42460.0,42500.0,42540.0,42580.0,42620.0,42660.0,42700.0,42740.0,42780.0,42820.0,42860.0,42980.0,43020.0,43060.0,43100.0,43140.0,43180.0,43220.0,43260.0,43300.0,43340.0,43380.0,43740.0,43780.0,43860.0,43900.0,43940.0,43980.0,44020.0,44060.0,44100.0,44140.0,44180.0,44220.0,44260.0,44300.0,44340.0,44380.0,44420.0,44460.0,44500.0,44540.0,44580.0,44620.0,44740.0,44820.0,44860.0,44900.0,44940.0,44980.0,45020.0,45060.0,45100.0,45420.0,45460.0,45540.0,45580.0,45620.0,45660.0,45700.0,45740.0,45780.0,45820.0,45860.0,45900.0,45940.0,45980.0,46020.0,46060.0,46100.0,46140.0,46180.0,46220.0,46260.0,46300.0,46340.0,46420.0,46500.0,46540.0,46580.0,46620.0,46660.0,46700.0,46740.0,47100.0,47140.0,47220.0,47260.0,47300.0,47340.0,47380.0,47420.0,47460.0,47500.0,47540.0,47580.0,47620.0,47660.0,47700.0,47740.0,47780.0,47820.0,47860.0,47900.0,47940.0,47980.0,48020.0,48100.0,48180.0,48220.0,48260.0,48300.0,48340.0,48380.0,48780.0,48820.0,48940.0,48980.0,49020.0,49060.0,49100.0,49140.0,49180.0,49220.0,49260.0,49300.0,49340.0,49380.0,49420.0,49460.0,49500.0,49540.0,49580.0,49620.0,49660.0,49700.0,49820.0,49860.0,49900.0,49940.0,49980.0,50020.0,50460.0,50500.0,50620.0,50660.0,50700.0,50740.0,50780.0,50820.0,50860.0,50900.0,50940.0,50980.0,51020.0,51060.0,51100.0,51140.0,51180.0,51340.0,51380.0,51500.0,51540.0,51580.0,51620.0,51660.0,52140.0,52180.0,52260.0,52500.0,52540.0,52580.0,52620.0,52660.0,52700.0,52740.0,52820.0,52860.0,52900.0,52940.0,52980.0,53020.0,53060.0,53100.0,53140.0,53180.0,53220.0,53260.0,53300.0,53820.0,53860.0,54060.0,54100.0,54140.0,54180.0,54220.0,54260.0,54300.0,54340.0,54380.0,54420.0,54500.0,54540.0,54580.0,54620.0,54660.0,54700.0,54740.0,54780.0,54820.0,54860.0,54900.0,54940.0,55500.0,55540.0,56220.0,56340.0,56380.0,56420.0,56460.0,57180.0,57220.0,57260.0,57300.0,57340.0,57500.0,57540.0,57580.0,57620.0,57660.0,57700.0,57740.0,57780.0,57820.0,57980.0,58020.0,58060.0,58180.0,58220.0,58860.0,58900.0,58940.0,58980.0,59020.0,59300.0,59340.0,59380.0,59740.0,59780.0,60540.0,60580.0,60620.0,60700.0,60740.0,60860.0,60900.0,60940.0,60980.0,61020.0,61060.0,61100.0,61140.0,61180.0,61220.0,61300.0,61340.0,62220.0,62260.0,62300.0,62380.0,62420.0,62460.0,62540.0,62580.0,62620.0,62660.0,62700.0,62740.0,62780.0,62860.0,62900.0,62940.0,62980.0,63020.0,63060.0,63100.0,63140.0,63900.0,63940.0,63980.0,64060.0,64100.0,64140.0,64220.0,64260.0,64300.0,64340.0,64380.0,64420.0,64460.0,64500.0,64540.0,64580.0,64620.0,64660.0,64700.0,64740.0,64780.0,65580.0,65620.0,65660.0,65740.0,65780.0,65820.0,65860.0,65900.0,65940.0,65980.0,66020.0,66060.0,66100.0,66260.0,66300.0,66340.0,66380.0,66420.0,67260.0,67300.0,67340.0,67460.0,67500.0,67540.0,67580.0,67620.0,67660.0,67700.0,67740.0,67780.0,67820.0,67860.0,67980.0,68020.0,68060.0],\"legendgroup\":\"Plain\",\"marker\":{\"color\":\"#387C44\",\"symbol\":\"circle\"},\"mode\":\"markers\",\"name\":\"Plain\",\"scene\":\"scene\",\"showlegend\":true,\"x\":[0,0,0,0,0,0,0,0,0,0,0,0,0,0,0,0,0,0,0,1,1,1,1,1,1,1,1,1,1,1,1,1,1,1,1,1,1,2,2,2,2,2,2,2,2,2,2,2,2,2,2,2,2,2,2,2,2,3,3,3,3,3,3,3,3,3,3,3,3,3,3,3,3,3,3,3,3,3,3,4,4,4,4,4,4,4,4,4,4,4,4,4,4,4,4,4,4,4,4,4,4,5,5,5,5,5,5,5,5,5,5,5,5,5,5,5,5,5,5,6,6,6,6,6,6,6,6,6,6,6,6,6,6,6,6,6,6,6,6,6,7,7,7,7,7,7,7,7,7,7,7,7,7,7,7,7,7,7,7,7,7,7,7,7,7,8,8,8,8,8,8,8,8,8,8,8,8,8,8,8,8,8,8,8,8,8,8,8,8,8,8,9,9,9,9,9,9,9,9,9,9,9,9,9,9,9,9,9,9,9,9,9,9,9,9,9,9,9,10,10,10,10,10,10,10,10,10,10,10,10,10,10,10,10,10,10,10,10,10,10,10,10,11,11,11,11,11,11,11,11,11,11,11,11,11,11,11,11,11,11,11,11,11,11,11,11,11,11,11,11,11,11,12,12,12,12,12,12,12,12,12,12,12,12,12,12,12,12,12,12,12,12,12,12,12,12,12,12,13,13,13,13,13,13,13,13,13,13,13,13,13,13,13,13,13,13,13,13,13,13,13,13,13,13,13,13,13,13,14,14,14,14,14,14,14,14,14,14,14,14,14,14,14,14,14,14,14,14,14,14,14,14,14,14,14,14,14,14,15,15,15,15,15,15,15,15,15,15,15,15,15,15,15,15,15,15,15,15,15,15,15,15,15,15,15,15,15,15,15,16,16,16,16,16,16,16,16,16,16,16,16,16,16,16,16,16,16,16,16,16,16,16,16,16,16,16,16,16,16,16,16,16,16,16,16,17,17,17,17,17,17,17,17,17,17,17,17,17,17,17,17,17,17,17,17,17,17,17,17,17,17,17,17,17,17,17,17,17,17,17,17,17,17,18,18,18,18,18,18,18,18,18,18,18,18,18,18,18,18,18,18,18,18,18,18,18,18,18,18,18,18,18,18,18,18,18,18,18,19,19,19,19,19,19,19,19,19,19,19,19,19,19,19,19,19,19,19,19,19,19,19,19,19,19,19,19,19,19,19,19,19,19,19,19,19,19,20,20,20,20,20,20,20,20,20,20,20,20,20,20,20,20,20,20,20,20,20,20,20,20,20,20,20,20,20,20,20,20,21,21,21,21,21,21,21,21,21,21,21,21,21,21,21,21,21,21,21,21,21,21,21,21,21,21,21,21,21,21,21,21,21,21,21,21,21,22,22,22,22,22,22,22,22,22,22,22,22,22,22,22,22,22,22,22,22,22,22,22,22,22,22,22,22,22,22,22,22,22,22,22,22,23,23,23,23,23,23,23,23,23,23,23,23,23,23,23,23,23,23,23,23,23,23,23,23,23,23,23,23,23,23,23,23,24,24,24,24,24,24,24,24,24,24,24,24,24,24,24,24,24,24,24,24,24,24,24,24,24,24,24,24,24,24,24,24,24,24,25,25,25,25,25,25,25,25,25,25,25,25,25,25,25,25,25,25,25,25,25,25,25,25,25,25,25,25,25,25,25,26,26,26,26,26,26,26,26,26,26,26,26,26,26,26,26,26,26,26,26,26,26,26,26,26,26,26,26,26,26,26,27,27,27,27,27,27,27,27,27,27,27,27,27,27,27,27,27,27,27,27,27,27,27,27,27,27,27,27,27,27,27,28,28,28,28,28,28,28,28,28,28,28,28,28,28,28,28,28,28,28,28,28,28,28,28,28,28,28,28,28,28,29,29,29,29,29,29,29,29,29,29,29,29,29,29,29,29,29,29,29,29,29,29,29,29,29,29,29,29,30,30,30,30,30,30,30,30,30,30,30,30,30,30,30,30,30,30,30,30,30,30,30,30,31,31,31,31,31,31,31,31,31,31,31,31,31,31,31,31,31,31,31,31,31,31,31,32,32,32,32,32,32,32,32,32,32,32,32,32,32,32,32,32,32,32,32,32,32,32,32,33,33,33,33,33,33,33,34,34,34,34,34,34,34,34,34,34,34,34,34,34,34,34,34,34,34,35,35,35,35,35,35,35,35,35,35,36,36,36,36,36,36,36,36,36,36,36,36,36,36,36,36,36,37,37,37,37,37,37,37,37,37,37,37,37,37,37,37,37,37,37,37,37,37,38,38,38,38,38,38,38,38,38,38,38,38,38,38,38,38,38,38,38,38,38,39,39,39,39,39,39,39,39,39,39,39,39,39,39,39,39,39,39,40,40,40,40,40,40,40,40,40,40,40,40,40,40,40,40,40],\"y\":[20,21,22,23,24,25,27,28,29,30,31,32,34,35,36,37,38,39,40,19,20,21,22,23,24,25,29,30,31,32,34,35,36,37,38,39,40,18,19,20,21,22,23,24,26,27,28,29,30,31,34,35,36,37,38,39,40,17,18,19,20,21,22,23,24,26,27,28,29,30,31,33,34,35,36,37,38,39,40,16,17,18,19,20,21,22,23,24,27,28,29,30,31,32,33,34,35,36,37,38,39,15,16,17,18,19,21,22,23,27,28,29,30,32,33,34,35,36,37,14,18,21,22,23,24,25,26,27,28,29,30,32,33,34,35,36,37,38,39,40,13,14,15,16,20,21,22,23,24,25,26,27,28,29,30,31,32,33,34,35,36,37,38,39,40,12,13,15,16,19,20,21,22,23,24,25,26,27,28,29,30,31,32,33,34,35,36,37,38,39,40,11,12,13,16,17,19,20,21,22,23,24,25,26,27,28,29,30,31,32,33,34,35,36,37,38,39,40,11,12,13,14,21,22,23,24,25,26,27,28,29,30,31,32,33,34,35,36,37,38,39,40,9,12,13,14,15,16,17,18,19,20,21,22,23,24,25,26,27,28,29,30,31,32,33,34,35,36,37,38,39,40,8,9,10,12,13,14,15,17,18,19,20,21,22,23,24,25,26,31,32,33,34,35,36,37,38,39,7,8,9,10,12,13,14,15,17,18,19,20,21,22,23,24,25,26,27,29,30,32,33,34,35,36,37,38,39,40,6,7,8,9,10,11,12,13,14,15,17,18,19,20,21,22,23,24,25,26,27,32,33,34,35,36,37,38,39,40,5,6,7,8,9,10,11,12,13,14,15,19,20,21,22,23,24,25,26,27,28,29,30,33,34,35,36,37,38,39,40,4,5,6,7,8,9,10,11,12,13,14,15,16,17,19,20,21,22,23,24,25,26,27,28,29,30,31,32,33,34,35,36,37,38,39,40,3,4,5,6,7,8,9,10,11,12,13,14,15,16,17,18,19,20,21,22,23,24,25,26,27,28,29,30,31,32,33,34,35,36,37,38,39,40,2,3,4,5,6,7,8,9,10,11,12,13,14,15,16,17,18,22,23,24,25,26,27,28,29,30,31,32,33,34,35,36,37,38,39,1,2,3,4,5,6,7,8,9,10,11,12,13,14,15,16,17,18,19,20,22,23,24,25,26,27,28,29,30,31,32,33,34,35,36,37,38,39,0,1,2,3,4,5,6,7,8,9,10,11,12,13,14,15,16,17,18,25,26,27,28,29,30,31,32,33,34,35,36,39,0,1,2,3,4,5,6,7,8,9,10,11,12,13,14,15,16,17,18,19,20,21,22,23,25,26,27,28,29,30,31,32,33,34,35,38,39,0,1,2,3,4,5,6,7,8,9,10,11,12,14,15,16,17,18,19,20,21,22,23,24,25,26,27,28,29,30,31,32,33,34,35,38,0,1,2,3,4,5,6,7,8,9,10,11,12,15,16,17,18,19,20,21,22,23,24,25,26,27,28,29,30,31,32,33,0,1,2,3,4,5,6,7,8,9,11,12,13,14,15,16,17,18,19,20,21,23,24,25,26,27,28,29,30,31,32,33,35,36,0,1,3,4,5,6,7,8,9,10,11,12,13,14,15,16,17,18,19,20,23,24,25,26,27,28,29,30,31,32,33,0,1,3,4,5,6,7,8,9,10,11,12,13,14,15,16,17,18,19,20,21,22,25,27,28,29,30,31,32,33,34,0,1,3,4,5,6,7,8,9,10,11,12,13,14,15,16,17,18,19,20,21,22,23,25,27,28,29,30,31,32,33,0,1,3,4,5,6,7,8,9,10,11,12,13,14,15,16,17,18,19,20,21,22,23,25,27,28,29,30,31,32,0,1,4,5,6,7,8,9,10,11,12,13,14,15,16,17,18,19,20,21,22,23,26,27,28,29,30,31,0,1,4,5,6,7,8,9,10,11,12,13,14,15,16,17,18,22,23,26,27,28,29,30,0,1,3,9,10,11,12,13,14,15,17,18,19,20,21,22,23,24,25,26,27,28,29,0,1,6,7,8,9,10,11,12,13,14,15,17,18,19,20,21,22,23,24,25,26,27,28,0,1,18,21,22,23,24,0,1,2,3,4,8,9,10,11,12,13,14,15,16,20,21,22,25,26,0,1,2,3,4,11,12,13,22,23,0,1,2,4,5,8,9,10,11,12,13,14,15,16,17,19,20,0,1,2,4,5,6,8,9,10,11,12,13,14,16,17,18,19,20,21,22,23,0,1,2,4,5,6,8,9,10,11,12,13,14,15,16,17,18,19,20,21,22,0,1,2,4,5,6,7,8,9,10,11,12,13,17,18,19,20,21,0,1,2,5,6,7,8,9,10,11,12,13,14,15,18,19,20],\"z\":[40,39,38,37,36,35,33,32,31,30,29,28,26,25,24,23,22,21,20,40,39,38,37,36,35,34,30,29,28,27,25,24,23,22,21,20,19,40,39,38,37,36,35,34,32,31,30,29,28,27,24,23,22,21,20,19,18,40,39,38,37,36,35,34,33,31,30,29,28,27,26,24,23,22,21,20,19,18,17,40,39,38,37,36,35,34,33,32,29,28,27,26,25,24,23,22,21,20,19,18,17,40,39,38,37,36,34,33,32,28,27,26,25,23,22,21,20,19,18,40,36,33,32,31,30,29,28,27,26,25,24,22,21,20,19,18,17,16,15,14,40,39,38,37,33,32,31,30,29,28,27,26,25,24,23,22,21,20,19,18,17,16,15,14,13,40,39,37,36,33,32,31,30,29,28,27,26,25,24,23,22,21,20,19,18,17,16,15,14,13,12,40,39,38,35,34,32,31,30,29,28,27,26,25,24,23,22,21,20,19,18,17,16,15,14,13,12,11,39,38,37,36,29,28,27,26,25,24,23,22,21,20,19,18,17,16,15,14,13,12,11,10,40,37,36,35,34,33,32,31,30,29,28,27,26,25,24,23,22,21,20,19,18,17,16,15,14,13,12,11,10,9,40,39,38,36,35,34,33,31,30,29,28,27,26,25,24,23,22,17,16,15,14,13,12,11,10,9,40,39,38,37,35,34,33,32,30,29,28,27,26,25,24,23,22,21,20,18,17,15,14,13,12,11,10,9,8,7,40,39,38,37,36,35,34,33,32,31,29,28,27,26,25,24,23,22,21,20,19,14,13,12,11,10,9,8,7,6,40,39,38,37,36,35,34,33,32,31,30,26,25,24,23,22,21,20,19,18,17,16,15,12,11,10,9,8,7,6,5,40,39,38,37,36,35,34,33,32,31,30,29,28,27,25,24,23,22,21,20,19,18,17,16,15,14,13,12,11,10,9,8,7,6,5,4,40,39,38,37,36,35,34,33,32,31,30,29,28,27,26,25,24,23,22,21,20,19,18,17,16,15,14,13,12,11,10,9,8,7,6,5,4,3,40,39,38,37,36,35,34,33,32,31,30,29,28,27,26,25,24,20,19,18,17,16,15,14,13,12,11,10,9,8,7,6,5,4,3,40,39,38,37,36,35,34,33,32,31,30,29,28,27,26,25,24,23,22,21,19,18,17,16,15,14,13,12,11,10,9,8,7,6,5,4,3,2,40,39,38,37,36,35,34,33,32,31,30,29,28,27,26,25,24,23,22,15,14,13,12,11,10,9,8,7,6,5,4,1,39,38,37,36,35,34,33,32,31,30,29,28,27,26,25,24,23,22,21,20,19,18,17,16,14,13,12,11,10,9,8,7,6,5,4,1,0,38,37,36,35,34,33,32,31,30,29,28,27,26,24,23,22,21,20,19,18,17,16,15,14,13,12,11,10,9,8,7,6,5,4,3,0,37,36,35,34,33,32,31,30,29,28,27,26,25,22,21,20,19,18,17,16,15,14,13,12,11,10,9,8,7,6,5,4,36,35,34,33,32,31,30,29,28,27,25,24,23,22,21,20,19,18,17,16,15,13,12,11,10,9,8,7,6,5,4,3,1,0,35,34,32,31,30,29,28,27,26,25,24,23,22,21,20,19,18,17,16,15,12,11,10,9,8,7,6,5,4,3,2,34,33,31,30,29,28,27,26,25,24,23,22,21,20,19,18,17,16,15,14,13,12,9,7,6,5,4,3,2,1,0,33,32,30,29,28,27,26,25,24,23,22,21,20,19,18,17,16,15,14,13,12,11,10,8,6,5,4,3,2,1,0,32,31,29,28,27,26,25,24,23,22,21,20,19,18,17,16,15,14,13,12,11,10,9,7,5,4,3,2,1,0,31,30,27,26,25,24,23,22,21,20,19,18,17,16,15,14,13,12,11,10,9,8,5,4,3,2,1,0,30,29,26,25,24,23,22,21,20,19,18,17,16,15,14,13,12,8,7,4,3,2,1,0,29,28,26,20,19,18,17,16,15,14,12,11,10,9,8,7,6,5,4,3,2,1,0,28,27,22,21,20,19,18,17,16,15,14,13,11,10,9,8,7,6,5,4,3,2,1,0,27,26,9,6,5,4,3,26,25,24,23,22,18,17,16,15,14,13,12,11,10,6,5,4,1,0,25,24,23,22,21,14,13,12,3,2,24,23,22,20,19,16,15,14,13,12,11,10,9,8,7,5,4,23,22,21,19,18,17,15,14,13,12,11,10,9,7,6,5,4,3,2,1,0,22,21,20,18,17,16,14,13,12,11,10,9,8,7,6,5,4,3,2,1,0,21,20,19,17,16,15,14,13,12,11,10,9,8,4,3,2,1,0,20,19,18,15,14,13,12,11,10,9,8,7,6,5,2,1,0],\"type\":\"scatter3d\"},{\"hovertemplate\":\"\\u003cb\\u003e%{hovertext}\\u003c\\u002fb\\u003e\\u003cbr\\u003e\\u003cbr\\u003ecolor=River\\u003cbr\\u003ex=%{x}\\u003cbr\\u003ey=%{y}\\u003cbr\\u003ez=%{z}\\u003cextra\\u003e\\u003c\\u002fextra\\u003e\",\"hovertext\":[1100.0,2780.0,2820.0,2860.0,9700.0,9980.0,10020.0,10740.0,10780.0,10820.0,11380.0,12580.0,14060.0,14180.0,14220.0,15740.0,15780.0,15900.0,17260.0,17460.0,17500.0,17540.0,17580.0,17620.0,17660.0,18940.0,18980.0,20660.0,20860.0,21820.0,22340.0,22540.0,23020.0,23140.0,24220.0,24700.0,24740.0,24780.0,24820.0,25900.0,25940.0,25980.0,26500.0,26540.0,27660.0,31060.0,31100.0,31140.0,31900.0,32820.0,33580.0,34420.0,34460.0,34500.0,34540.0,34580.0,34620.0,35260.0,36300.0,37540.0,39220.0,39260.0,40060.0,40180.0,40780.0,41740.0,43420.0,43460.0,44660.0,44700.0,44780.0,46380.0,46460.0,48060.0,48140.0,48900.0,49740.0,49780.0,50580.0,51220.0,51260.0,51300.0,51420.0,51460.0,52300.0,52340.0,52380.0,52420.0,52460.0,52780.0,53940.0,54020.0,54460.0,56140.0,56180.0,56500.0,56540.0,56580.0,57380.0,57420.0,57460.0,57860.0,57900.0,58100.0,58140.0,59060.0,59100.0,59140.0,59180.0,59220.0,59260.0,59420.0,59460.0,59500.0,59540.0,59660.0,59700.0,59820.0,59860.0,60660.0,60780.0,60820.0,61380.0,61420.0,61460.0,61500.0,62340.0,62500.0,64020.0,64180.0,65700.0,66140.0,66180.0,66220.0,67380.0,67420.0,67900.0,67940.0],\"legendgroup\":\"River\",\"marker\":{\"color\":\"#3EA99F\",\"symbol\":\"circle\"},\"mode\":\"markers\",\"name\":\"River\",\"scene\":\"scene\",\"showlegend\":true,\"x\":[0,1,1,1,5,5,5,6,6,6,6,7,8,8,8,9,9,9,10,10,10,10,10,10,10,11,11,12,12,12,13,13,13,13,14,14,14,14,14,15,15,15,15,15,16,18,18,18,18,19,19,20,20,20,20,20,20,20,21,22,23,23,23,23,24,24,25,25,26,26,26,27,27,28,28,29,29,29,30,30,30,30,30,30,31,31,31,31,31,31,32,32,32,33,33,33,33,33,34,34,34,34,34,34,34,35,35,35,35,35,35,35,35,35,35,35,35,35,35,36,36,36,36,36,36,36,37,37,38,38,39,39,39,39,40,40,40,40],\"y\":[26,26,27,28,31,38,39,15,16,17,31,19,14,17,18,14,15,18,10,15,16,17,18,19,20,10,11,11,16,40,11,16,28,31,16,28,29,30,31,16,17,18,31,32,18,19,20,21,40,21,40,19,20,21,22,23,24,40,24,13,13,14,34,37,10,34,34,35,23,24,26,24,26,24,26,3,24,25,3,19,20,21,24,25,4,5,6,7,8,16,3,5,16,16,17,25,26,27,5,6,7,17,18,23,24,5,6,7,8,9,10,14,15,16,17,20,21,24,25,3,6,7,21,22,23,24,3,7,3,7,3,14,15,16,3,4,16,17],\"z\":[34,33,32,31,24,17,16,39,38,37,23,34,38,35,34,37,36,33,40,35,34,33,32,31,30,39,38,37,32,8,36,31,19,16,30,18,17,16,15,29,28,27,14,13,26,23,22,21,2,20,1,21,20,19,18,17,16,0,15,25,24,23,3,0,26,2,1,0,11,10,8,9,7,8,6,28,7,6,27,11,10,9,6,5,25,24,23,22,21,13,25,23,12,11,10,2,1,0,21,20,19,9,8,3,2,20,19,18,17,16,15,11,10,9,8,5,4,1,0,21,18,17,3,2,1,0,20,16,19,15,18,7,6,5,17,16,4,3],\"type\":\"scatter3d\"},{\"hovertemplate\":\"\\u003cb\\u003e%{hovertext}\\u003c\\u002fb\\u003e\\u003cbr\\u003e\\u003cbr\\u003ecolor=Hill\\u003cbr\\u003ex=%{x}\\u003cbr\\u003ey=%{y}\\u003cbr\\u003ez=%{z}\\u003cextra\\u003e\\u003c\\u002fextra\\u003e\",\"hovertext\":[1380.0,3060.0,4420.0,4700.0,4740.0,6100.0,6380.0,7780.0,7820.0,8380.0,9260.0,9420.0,9460.0,9500.0,10060.0,10900.0,10940.0,12500.0,12540.0,21300.0,21340.0,21380.0,21420.0,35140.0,35180.0,36780.0,36820.0,38460.0,38500.0,40100.0,40140.0,41260.0,42900.0,42940.0,53980.0,56260.0,56300.0,57940.0,59580.0,59620.0,61260.0,62820.0],\"legendgroup\":\"Hill\",\"marker\":{\"color\":\"gray\",\"symbol\":\"circle\"},\"mode\":\"markers\",\"name\":\"Hill\",\"scene\":\"scene\",\"showlegend\":true,\"x\":[0,1,2,2,2,3,3,4,4,4,5,5,5,5,5,6,6,7,7,12,12,12,12,20,20,21,21,22,22,23,23,24,25,25,32,33,33,34,35,35,36,37],\"y\":[33,33,25,32,33,25,32,25,26,40,20,24,25,26,40,19,20,17,18,27,28,29,30,37,38,36,37,36,37,35,36,22,21,22,4,19,20,19,18,19,18,15],\"z\":[27,26,33,26,25,32,25,31,30,16,35,31,30,29,15,35,34,36,35,21,20,19,18,3,2,3,2,2,1,2,1,14,14,13,24,8,7,7,7,6,6,8],\"type\":\"scatter3d\"},{\"hovertemplate\":\"\\u003cb\\u003e%{hovertext}\\u003c\\u002fb\\u003e\\u003cbr\\u003e\\u003cbr\\u003ecolor=None\\u003cbr\\u003ex=%{x}\\u003cbr\\u003ey=%{y}\\u003cbr\\u003ez=%{z}\\u003cextra\\u003e\\u003c\\u002fextra\\u003e\",\"hovertext\":[42140.0,43820.0,45500.0,47180.0,48860.0,50540.0,52220.0,53900.0,55580.0,55620.0,55660.0,55700.0,55740.0,55780.0,55820.0,55860.0,55900.0,55940.0,55980.0,56020.0,56060.0,56100.0],\"legendgroup\":\"None\",\"marker\":{\"color\":\"maroon\",\"symbol\":\"circle\"},\"mode\":\"markers\",\"name\":\"None\",\"scene\":\"scene\",\"showlegend\":true,\"x\":[25,26,27,28,29,30,31,32,33,33,33,33,33,33,33,33,33,33,33,33,33,33],\"y\":[2,2,2,2,2,2,2,2,2,3,4,5,6,7,8,9,10,11,12,13,14,15],\"z\":[33,32,31,30,29,28,27,26,25,24,23,22,21,20,19,18,17,16,15,14,13,12],\"type\":\"scatter3d\"}],                        {\"template\":{\"data\":{\"histogram2dcontour\":[{\"type\":\"histogram2dcontour\",\"colorbar\":{\"outlinewidth\":0,\"ticks\":\"\"},\"colorscale\":[[0.0,\"#0d0887\"],[0.1111111111111111,\"#46039f\"],[0.2222222222222222,\"#7201a8\"],[0.3333333333333333,\"#9c179e\"],[0.4444444444444444,\"#bd3786\"],[0.5555555555555556,\"#d8576b\"],[0.6666666666666666,\"#ed7953\"],[0.7777777777777778,\"#fb9f3a\"],[0.8888888888888888,\"#fdca26\"],[1.0,\"#f0f921\"]]}],\"choropleth\":[{\"type\":\"choropleth\",\"colorbar\":{\"outlinewidth\":0,\"ticks\":\"\"}}],\"histogram2d\":[{\"type\":\"histogram2d\",\"colorbar\":{\"outlinewidth\":0,\"ticks\":\"\"},\"colorscale\":[[0.0,\"#0d0887\"],[0.1111111111111111,\"#46039f\"],[0.2222222222222222,\"#7201a8\"],[0.3333333333333333,\"#9c179e\"],[0.4444444444444444,\"#bd3786\"],[0.5555555555555556,\"#d8576b\"],[0.6666666666666666,\"#ed7953\"],[0.7777777777777778,\"#fb9f3a\"],[0.8888888888888888,\"#fdca26\"],[1.0,\"#f0f921\"]]}],\"heatmap\":[{\"type\":\"heatmap\",\"colorbar\":{\"outlinewidth\":0,\"ticks\":\"\"},\"colorscale\":[[0.0,\"#0d0887\"],[0.1111111111111111,\"#46039f\"],[0.2222222222222222,\"#7201a8\"],[0.3333333333333333,\"#9c179e\"],[0.4444444444444444,\"#bd3786\"],[0.5555555555555556,\"#d8576b\"],[0.6666666666666666,\"#ed7953\"],[0.7777777777777778,\"#fb9f3a\"],[0.8888888888888888,\"#fdca26\"],[1.0,\"#f0f921\"]]}],\"heatmapgl\":[{\"type\":\"heatmapgl\",\"colorbar\":{\"outlinewidth\":0,\"ticks\":\"\"},\"colorscale\":[[0.0,\"#0d0887\"],[0.1111111111111111,\"#46039f\"],[0.2222222222222222,\"#7201a8\"],[0.3333333333333333,\"#9c179e\"],[0.4444444444444444,\"#bd3786\"],[0.5555555555555556,\"#d8576b\"],[0.6666666666666666,\"#ed7953\"],[0.7777777777777778,\"#fb9f3a\"],[0.8888888888888888,\"#fdca26\"],[1.0,\"#f0f921\"]]}],\"contourcarpet\":[{\"type\":\"contourcarpet\",\"colorbar\":{\"outlinewidth\":0,\"ticks\":\"\"}}],\"contour\":[{\"type\":\"contour\",\"colorbar\":{\"outlinewidth\":0,\"ticks\":\"\"},\"colorscale\":[[0.0,\"#0d0887\"],[0.1111111111111111,\"#46039f\"],[0.2222222222222222,\"#7201a8\"],[0.3333333333333333,\"#9c179e\"],[0.4444444444444444,\"#bd3786\"],[0.5555555555555556,\"#d8576b\"],[0.6666666666666666,\"#ed7953\"],[0.7777777777777778,\"#fb9f3a\"],[0.8888888888888888,\"#fdca26\"],[1.0,\"#f0f921\"]]}],\"surface\":[{\"type\":\"surface\",\"colorbar\":{\"outlinewidth\":0,\"ticks\":\"\"},\"colorscale\":[[0.0,\"#0d0887\"],[0.1111111111111111,\"#46039f\"],[0.2222222222222222,\"#7201a8\"],[0.3333333333333333,\"#9c179e\"],[0.4444444444444444,\"#bd3786\"],[0.5555555555555556,\"#d8576b\"],[0.6666666666666666,\"#ed7953\"],[0.7777777777777778,\"#fb9f3a\"],[0.8888888888888888,\"#fdca26\"],[1.0,\"#f0f921\"]]}],\"mesh3d\":[{\"type\":\"mesh3d\",\"colorbar\":{\"outlinewidth\":0,\"ticks\":\"\"}}],\"scatter\":[{\"fillpattern\":{\"fillmode\":\"overlay\",\"size\":10,\"solidity\":0.2},\"type\":\"scatter\"}],\"parcoords\":[{\"type\":\"parcoords\",\"line\":{\"colorbar\":{\"outlinewidth\":0,\"ticks\":\"\"}}}],\"scatterpolargl\":[{\"type\":\"scatterpolargl\",\"marker\":{\"colorbar\":{\"outlinewidth\":0,\"ticks\":\"\"}}}],\"bar\":[{\"error_x\":{\"color\":\"#2a3f5f\"},\"error_y\":{\"color\":\"#2a3f5f\"},\"marker\":{\"line\":{\"color\":\"#E5ECF6\",\"width\":0.5},\"pattern\":{\"fillmode\":\"overlay\",\"size\":10,\"solidity\":0.2}},\"type\":\"bar\"}],\"scattergeo\":[{\"type\":\"scattergeo\",\"marker\":{\"colorbar\":{\"outlinewidth\":0,\"ticks\":\"\"}}}],\"scatterpolar\":[{\"type\":\"scatterpolar\",\"marker\":{\"colorbar\":{\"outlinewidth\":0,\"ticks\":\"\"}}}],\"histogram\":[{\"marker\":{\"pattern\":{\"fillmode\":\"overlay\",\"size\":10,\"solidity\":0.2}},\"type\":\"histogram\"}],\"scattergl\":[{\"type\":\"scattergl\",\"marker\":{\"colorbar\":{\"outlinewidth\":0,\"ticks\":\"\"}}}],\"scatter3d\":[{\"type\":\"scatter3d\",\"line\":{\"colorbar\":{\"outlinewidth\":0,\"ticks\":\"\"}},\"marker\":{\"colorbar\":{\"outlinewidth\":0,\"ticks\":\"\"}}}],\"scattermapbox\":[{\"type\":\"scattermapbox\",\"marker\":{\"colorbar\":{\"outlinewidth\":0,\"ticks\":\"\"}}}],\"scatterternary\":[{\"type\":\"scatterternary\",\"marker\":{\"colorbar\":{\"outlinewidth\":0,\"ticks\":\"\"}}}],\"scattercarpet\":[{\"type\":\"scattercarpet\",\"marker\":{\"colorbar\":{\"outlinewidth\":0,\"ticks\":\"\"}}}],\"carpet\":[{\"aaxis\":{\"endlinecolor\":\"#2a3f5f\",\"gridcolor\":\"white\",\"linecolor\":\"white\",\"minorgridcolor\":\"white\",\"startlinecolor\":\"#2a3f5f\"},\"baxis\":{\"endlinecolor\":\"#2a3f5f\",\"gridcolor\":\"white\",\"linecolor\":\"white\",\"minorgridcolor\":\"white\",\"startlinecolor\":\"#2a3f5f\"},\"type\":\"carpet\"}],\"table\":[{\"cells\":{\"fill\":{\"color\":\"#EBF0F8\"},\"line\":{\"color\":\"white\"}},\"header\":{\"fill\":{\"color\":\"#C8D4E3\"},\"line\":{\"color\":\"white\"}},\"type\":\"table\"}],\"barpolar\":[{\"marker\":{\"line\":{\"color\":\"#E5ECF6\",\"width\":0.5},\"pattern\":{\"fillmode\":\"overlay\",\"size\":10,\"solidity\":0.2}},\"type\":\"barpolar\"}],\"pie\":[{\"automargin\":true,\"type\":\"pie\"}]},\"layout\":{\"autotypenumbers\":\"strict\",\"colorway\":[\"#636efa\",\"#EF553B\",\"#00cc96\",\"#ab63fa\",\"#FFA15A\",\"#19d3f3\",\"#FF6692\",\"#B6E880\",\"#FF97FF\",\"#FECB52\"],\"font\":{\"color\":\"#2a3f5f\"},\"hovermode\":\"closest\",\"hoverlabel\":{\"align\":\"left\"},\"paper_bgcolor\":\"white\",\"plot_bgcolor\":\"#E5ECF6\",\"polar\":{\"bgcolor\":\"#E5ECF6\",\"angularaxis\":{\"gridcolor\":\"white\",\"linecolor\":\"white\",\"ticks\":\"\"},\"radialaxis\":{\"gridcolor\":\"white\",\"linecolor\":\"white\",\"ticks\":\"\"}},\"ternary\":{\"bgcolor\":\"#E5ECF6\",\"aaxis\":{\"gridcolor\":\"white\",\"linecolor\":\"white\",\"ticks\":\"\"},\"baxis\":{\"gridcolor\":\"white\",\"linecolor\":\"white\",\"ticks\":\"\"},\"caxis\":{\"gridcolor\":\"white\",\"linecolor\":\"white\",\"ticks\":\"\"}},\"coloraxis\":{\"colorbar\":{\"outlinewidth\":0,\"ticks\":\"\"}},\"colorscale\":{\"sequential\":[[0.0,\"#0d0887\"],[0.1111111111111111,\"#46039f\"],[0.2222222222222222,\"#7201a8\"],[0.3333333333333333,\"#9c179e\"],[0.4444444444444444,\"#bd3786\"],[0.5555555555555556,\"#d8576b\"],[0.6666666666666666,\"#ed7953\"],[0.7777777777777778,\"#fb9f3a\"],[0.8888888888888888,\"#fdca26\"],[1.0,\"#f0f921\"]],\"sequentialminus\":[[0.0,\"#0d0887\"],[0.1111111111111111,\"#46039f\"],[0.2222222222222222,\"#7201a8\"],[0.3333333333333333,\"#9c179e\"],[0.4444444444444444,\"#bd3786\"],[0.5555555555555556,\"#d8576b\"],[0.6666666666666666,\"#ed7953\"],[0.7777777777777778,\"#fb9f3a\"],[0.8888888888888888,\"#fdca26\"],[1.0,\"#f0f921\"]],\"diverging\":[[0,\"#8e0152\"],[0.1,\"#c51b7d\"],[0.2,\"#de77ae\"],[0.3,\"#f1b6da\"],[0.4,\"#fde0ef\"],[0.5,\"#f7f7f7\"],[0.6,\"#e6f5d0\"],[0.7,\"#b8e186\"],[0.8,\"#7fbc41\"],[0.9,\"#4d9221\"],[1,\"#276419\"]]},\"xaxis\":{\"gridcolor\":\"white\",\"linecolor\":\"white\",\"ticks\":\"\",\"title\":{\"standoff\":15},\"zerolinecolor\":\"white\",\"automargin\":true,\"zerolinewidth\":2},\"yaxis\":{\"gridcolor\":\"white\",\"linecolor\":\"white\",\"ticks\":\"\",\"title\":{\"standoff\":15},\"zerolinecolor\":\"white\",\"automargin\":true,\"zerolinewidth\":2},\"scene\":{\"xaxis\":{\"backgroundcolor\":\"#E5ECF6\",\"gridcolor\":\"white\",\"linecolor\":\"white\",\"showbackground\":true,\"ticks\":\"\",\"zerolinecolor\":\"white\",\"gridwidth\":2},\"yaxis\":{\"backgroundcolor\":\"#E5ECF6\",\"gridcolor\":\"white\",\"linecolor\":\"white\",\"showbackground\":true,\"ticks\":\"\",\"zerolinecolor\":\"white\",\"gridwidth\":2},\"zaxis\":{\"backgroundcolor\":\"#E5ECF6\",\"gridcolor\":\"white\",\"linecolor\":\"white\",\"showbackground\":true,\"ticks\":\"\",\"zerolinecolor\":\"white\",\"gridwidth\":2}},\"shapedefaults\":{\"line\":{\"color\":\"#2a3f5f\"}},\"annotationdefaults\":{\"arrowcolor\":\"#2a3f5f\",\"arrowhead\":0,\"arrowwidth\":1},\"geo\":{\"bgcolor\":\"white\",\"landcolor\":\"#E5ECF6\",\"subunitcolor\":\"white\",\"showland\":true,\"showlakes\":true,\"lakecolor\":\"white\"},\"title\":{\"x\":0.05},\"mapbox\":{\"style\":\"light\"}}},\"scene\":{\"domain\":{\"x\":[0.0,1.0],\"y\":[0.0,1.0]},\"xaxis\":{\"title\":{\"text\":\"x\"}},\"yaxis\":{\"title\":{\"text\":\"y\"}},\"zaxis\":{\"title\":{\"text\":\"z\"}}},\"legend\":{\"title\":{\"text\":\"color\"},\"tracegroupgap\":0},\"margin\":{\"t\":60}},                        {\"responsive\": true}                    ).then(function(){\n",
              "                            \n",
              "var gd = document.getElementById('cbcd0fd2-600d-41be-9ed1-7b9c9c301cd2');\n",
              "var x = new MutationObserver(function (mutations, observer) {{\n",
              "        var display = window.getComputedStyle(gd).display;\n",
              "        if (!display || display === 'none') {{\n",
              "            console.log([gd, 'removed!']);\n",
              "            Plotly.purge(gd);\n",
              "            observer.disconnect();\n",
              "        }}\n",
              "}});\n",
              "\n",
              "// Listen for the removal of the full notebook cells\n",
              "var notebookContainer = gd.closest('#notebook-container');\n",
              "if (notebookContainer) {{\n",
              "    x.observe(notebookContainer, {childList: true});\n",
              "}}\n",
              "\n",
              "// Listen for the clearing of the current output cell\n",
              "var outputEl = gd.closest('.output');\n",
              "if (outputEl) {{\n",
              "    x.observe(outputEl, {childList: true});\n",
              "}}\n",
              "\n",
              "                        })                };                            </script>        </div>\n",
              "</body>\n",
              "</html>"
            ]
          },
          "metadata": {}
        }
      ]
    },
    {
      "cell_type": "markdown",
      "source": [
        "<details>\n",
        "  <summary>\n",
        "    Если ячейка не загрузилась, должно быть так\n",
        "  </summary>\n",
        "\n",
        "  ![График](https://drive.google.com/uc?export=view&id=1kvcRtqG2lrODsnh06HQQFxoODxuNYJl5)\n",
        "</details>"
      ],
      "metadata": {
        "id": "NHS6U-jl6DSB"
      }
    },
    {
      "cell_type": "markdown",
      "source": [
        "Сделаем функцию решения задачи черепашки и отрисовки пути"
      ],
      "metadata": {
        "id": "Xfnhx3UOPK4f"
      }
    },
    {
      "cell_type": "code",
      "source": [
        "def draw_map_with_turtle_route(from_idx, to_idx):\n",
        "  solve_path = solve_turtle_task(from_idx, to_idx)\n",
        "  visualize_solve(solve_path)"
      ],
      "metadata": {
        "id": "fPSuIr9EJd6c"
      },
      "execution_count": null,
      "outputs": []
    },
    {
      "cell_type": "code",
      "source": [
        "draw_map_with_turtle_route(57_780, 52_420)"
      ],
      "metadata": {
        "colab": {
          "base_uri": "https://localhost:8080/",
          "height": 633
        },
        "id": "y-UqATFpJt_r",
        "outputId": "bd140448-57db-4f57-a729-3ca67ba0755e"
      },
      "execution_count": null,
      "outputs": [
        {
          "output_type": "stream",
          "name": "stderr",
          "text": [
            "<ipython-input-318-cc20b9df552d>:8: DeprecationWarning:\n",
            "\n",
            "Conversion of an array with ndim > 0 to a scalar is deprecated, and will error in future. Ensure you extract a single element from your array before performing this operation. (Deprecated NumPy 1.25.)\n",
            "\n"
          ]
        },
        {
          "output_type": "display_data",
          "data": {
            "text/html": [
              "<html>\n",
              "<head><meta charset=\"utf-8\" /></head>\n",
              "<body>\n",
              "    <div>            <script src=\"https://cdnjs.cloudflare.com/ajax/libs/mathjax/2.7.5/MathJax.js?config=TeX-AMS-MML_SVG\"></script><script type=\"text/javascript\">if (window.MathJax && window.MathJax.Hub && window.MathJax.Hub.Config) {window.MathJax.Hub.Config({SVG: {font: \"STIX-Web\"}});}</script>                <script type=\"text/javascript\">window.PlotlyConfig = {MathJaxConfig: 'local'};</script>\n",
              "        <script charset=\"utf-8\" src=\"https://cdn.plot.ly/plotly-2.24.1.min.js\"></script>                <div id=\"ce0eeea5-e92b-42d0-a552-d1e3e781f3dc\" class=\"plotly-graph-div\" style=\"height:525px; width:100%;\"></div>            <script type=\"text/javascript\">                                    window.PLOTLYENV=window.PLOTLYENV || {};                                    if (document.getElementById(\"ce0eeea5-e92b-42d0-a552-d1e3e781f3dc\")) {                    Plotly.newPlot(                        \"ce0eeea5-e92b-42d0-a552-d1e3e781f3dc\",                        [{\"hovertemplate\":\"\\u003cb\\u003e%{hovertext}\\u003c\\u002fb\\u003e\\u003cbr\\u003e\\u003cbr\\u003ecolor=Plain\\u003cbr\\u003ex=%{x}\\u003cbr\\u003ey=%{y}\\u003cbr\\u003ez=%{z}\\u003cextra\\u003e\\u003c\\u002fextra\\u003e\",\"hovertext\":[860.0,900.0,940.0,980.0,1020.0,1060.0,1100.0,1140.0,1180.0,1220.0,1260.0,1300.0,1340.0,1500.0,1540.0,1580.0,1620.0,1660.0,2540.0,2580.0,2620.0,2660.0,2700.0,2740.0,2780.0,2820.0,2860.0,2900.0,2940.0,2980.0,3140.0,3180.0,3220.0,3260.0,4140.0,4180.0,4220.0,4260.0,4300.0,4340.0,4380.0,4420.0,4460.0,4500.0,4540.0,4580.0,4620.0,4660.0,4780.0,4820.0,4860.0,4900.0,5780.0,5820.0,5860.0,5900.0,5940.0,5980.0,6020.0,6060.0,6100.0,6140.0,6180.0,6220.0,6260.0,6300.0,6340.0,6380.0,6460.0,6500.0,6540.0,6580.0,6700.0,7420.0,7500.0,7540.0,7580.0,7620.0,7660.0,7700.0,7740.0,7780.0,7820.0,7860.0,7900.0,7940.0,7980.0,8020.0,8060.0,8140.0,8180.0,8220.0,8260.0,8340.0,8380.0,9060.0,9100.0,9140.0,9180.0,9220.0,9260.0,9340.0,9380.0,9420.0,9460.0,9500.0,9540.0,9580.0,9620.0,9660.0,9700.0,9740.0,9820.0,9860.0,9900.0,9940.0,9980.0,10020.0,10060.0,10700.0,10740.0,10780.0,10820.0,10860.0,10900.0,10940.0,11060.0,11100.0,11140.0,11180.0,11220.0,11260.0,11300.0,11340.0,11380.0,11420.0,11460.0,11620.0,11660.0,11700.0,11740.0,12340.0,12380.0,12420.0,12460.0,12500.0,12540.0,12580.0,12620.0,12660.0,12740.0,12780.0,12820.0,12860.0,12900.0,12940.0,12980.0,13020.0,13060.0,13100.0,13140.0,13340.0,13380.0,13420.0,13980.0,14020.0,14060.0,14100.0,14140.0,14180.0,14220.0,14260.0,14300.0,14340.0,14460.0,14500.0,14540.0,14580.0,14620.0,14660.0,14700.0,14740.0,14780.0,14820.0,14860.0,14900.0,14940.0,15020.0,15060.0,15100.0,15620.0,15660.0,15700.0,15740.0,15780.0,15820.0,15860.0,15900.0,15940.0,15980.0,16020.0,16060.0,16100.0,16140.0,16180.0,16220.0,16340.0,16380.0,16420.0,16460.0,16500.0,16540.0,16580.0,16620.0,16700.0,16740.0,16780.0,17260.0,17300.0,17340.0,17380.0,17420.0,17460.0,17500.0,17540.0,17580.0,17620.0,17660.0,17700.0,17740.0,17780.0,17820.0,17860.0,17900.0,17940.0,18020.0,18060.0,18140.0,18180.0,18220.0,18260.0,18300.0,18340.0,18380.0,18420.0,18460.0,18900.0,18940.0,18980.0,19020.0,19060.0,19100.0,19140.0,19180.0,19220.0,19260.0,19300.0,19340.0,19380.0,19420.0,19460.0,19500.0,19540.0,19580.0,19620.0,19700.0,19740.0,19860.0,19900.0,19940.0,19980.0,20020.0,20060.0,20100.0,20140.0,20540.0,20580.0,20620.0,20660.0,20700.0,20740.0,20780.0,20820.0,20860.0,20900.0,20940.0,20980.0,21020.0,21060.0,21100.0,21140.0,21180.0,21220.0,21260.0,21300.0,21380.0,21420.0,21460.0,21500.0,21540.0,21580.0,21620.0,21660.0,21700.0,21740.0,21780.0,21820.0,22180.0,22220.0,22260.0,22300.0,22340.0,22380.0,22420.0,22460.0,22500.0,22540.0,22580.0,22620.0,22660.0,22700.0,22740.0,22780.0,22820.0,22860.0,22900.0,22940.0,22980.0,23020.0,23060.0,23100.0,23140.0,23180.0,23220.0,23260.0,23300.0,23340.0,23380.0,23420.0,23460.0,23500.0,23820.0,23860.0,23940.0,23980.0,24020.0,24060.0,24100.0,24140.0,24180.0,24220.0,24260.0,24300.0,24340.0,24380.0,24420.0,24460.0,24500.0,24540.0,24580.0,24620.0,24660.0,24700.0,24740.0,24780.0,24820.0,24860.0,24900.0,24940.0,24980.0,25020.0,25060.0,25100.0,25140.0,25180.0,25460.0,25500.0,25540.0,25620.0,25660.0,25700.0,25740.0,25780.0,25820.0,25860.0,25900.0,25940.0,25980.0,26020.0,26060.0,26100.0,26140.0,26180.0,26220.0,26260.0,26300.0,26340.0,26380.0,26420.0,26460.0,26500.0,26540.0,26580.0,26620.0,26660.0,26700.0,26740.0,26780.0,26820.0,26860.0,27100.0,27140.0,27180.0,27220.0,27300.0,27340.0,27380.0,27420.0,27460.0,27500.0,27540.0,27580.0,27620.0,27660.0,27700.0,27740.0,27780.0,27820.0,27860.0,27900.0,27940.0,27980.0,28020.0,28060.0,28100.0,28220.0,28260.0,28300.0,28340.0,28380.0,28420.0,28460.0,28500.0,28540.0,28740.0,28780.0,28820.0,28860.0,28900.0,29060.0,29100.0,29140.0,29180.0,29220.0,29260.0,29300.0,29380.0,29500.0,29540.0,29580.0,29620.0,29660.0,29700.0,29740.0,29900.0,29940.0,29980.0,30020.0,30060.0,30100.0,30140.0,30180.0,30220.0,30380.0,30420.0,30460.0,30500.0,30540.0,30580.0,30620.0,30660.0,30700.0,30740.0,30780.0,30820.0,30860.0,30900.0,30940.0,30980.0,31300.0,31340.0,31380.0,31420.0,31540.0,31580.0,31660.0,31860.0,31900.0,32020.0,32060.0,32100.0,32140.0,32180.0,32220.0,32260.0,32300.0,32340.0,32380.0,32420.0,32460.0,32500.0,32540.0,32580.0,32620.0,32660.0,32700.0,32740.0,32780.0,32820.0,32980.0,33020.0,33060.0,33100.0,33140.0,33180.0,33220.0,33260.0,33580.0,33660.0,33700.0,33740.0,33780.0,33820.0,33860.0,33900.0,33940.0,33980.0,34020.0,34060.0,34100.0,34140.0,34180.0,34220.0,34260.0,34300.0,34340.0,34380.0,34420.0,34460.0,34500.0,34620.0,34660.0,34700.0,34740.0,34780.0,34820.0,34860.0,34900.0,34940.0,34980.0,35020.0,35060.0,35220.0,35260.0,35340.0,35380.0,35420.0,35460.0,35500.0,35540.0,35580.0,35620.0,35660.0,35700.0,35740.0,35780.0,35820.0,35860.0,35900.0,35940.0,35980.0,36020.0,36060.0,36100.0,36140.0,36180.0,36220.0,36260.0,36300.0,36340.0,36380.0,36420.0,36460.0,36500.0,36540.0,36580.0,36620.0,36660.0,36700.0,36900.0,37020.0,37060.0,37100.0,37140.0,37180.0,37220.0,37260.0,37300.0,37380.0,37420.0,37500.0,37540.0,37580.0,37620.0,37660.0,37700.0,37740.0,37780.0,37820.0,37860.0,37900.0,37940.0,37980.0,38020.0,38060.0,38100.0,38140.0,38180.0,38220.0,38260.0,38300.0,38340.0,38380.0,38500.0,38700.0,38740.0,38780.0,38820.0,38860.0,38900.0,38940.0,38980.0,39020.0,39060.0,39100.0,39140.0,39180.0,39220.0,39260.0,39300.0,39340.0,39420.0,39460.0,39500.0,39540.0,39580.0,39620.0,39660.0,39700.0,39740.0,39780.0,39820.0,39860.0,39900.0,39940.0,39980.0,40020.0,40060.0,40100.0,40180.0,40380.0,40460.0,40500.0,40540.0,40580.0,40620.0,40660.0,40740.0,40780.0,40820.0,40860.0,40900.0,40940.0,40980.0,41020.0,41100.0,41140.0,41180.0,41220.0,41260.0,41300.0,41340.0,41380.0,41420.0,41460.0,41500.0,41540.0,41580.0,41620.0,41660.0,41700.0,41740.0,41780.0,42140.0,42180.0,42220.0,42260.0,42300.0,42340.0,42380.0,42420.0,42460.0,42500.0,42540.0,42580.0,42620.0,42660.0,42700.0,42820.0,42860.0,42900.0,42940.0,42980.0,43020.0,43060.0,43140.0,43180.0,43220.0,43260.0,43300.0,43340.0,43380.0,43420.0,43780.0,43820.0,43860.0,43900.0,43940.0,43980.0,44020.0,44060.0,44100.0,44140.0,44180.0,44220.0,44260.0,44300.0,44340.0,44380.0,44420.0,44460.0,44620.0,44660.0,44700.0,44740.0,44820.0,44860.0,44900.0,44940.0,44980.0,45020.0,45060.0,45100.0,45460.0,45500.0,45540.0,45580.0,45620.0,45660.0,45700.0,45740.0,45780.0,45820.0,45860.0,45900.0,45940.0,45980.0,46020.0,46060.0,46100.0,46140.0,46180.0,46220.0,46380.0,46420.0,46500.0,46540.0,46580.0,46620.0,46660.0,46700.0,46740.0,47100.0,47140.0,47180.0,47220.0,47260.0,47300.0,47340.0,47380.0,47420.0,47460.0,47500.0,47540.0,47580.0,47620.0,47660.0,47700.0,47740.0,47780.0,47820.0,47860.0,47900.0,47940.0,47980.0,48020.0,48060.0,48100.0,48140.0,48180.0,48220.0,48260.0,48300.0,48340.0,48380.0,48780.0,48820.0,48860.0,48900.0,48940.0,48980.0,49020.0,49060.0,49100.0,49140.0,49180.0,49220.0,49300.0,49340.0,49380.0,49420.0,49460.0,49500.0,49540.0,49580.0,49620.0,49660.0,49700.0,49740.0,49780.0,49820.0,49860.0,49900.0,49940.0,49980.0,50020.0,50460.0,50500.0,50540.0,50580.0,50620.0,50660.0,50700.0,50740.0,50780.0,50820.0,50860.0,50900.0,50980.0,51020.0,51060.0,51100.0,51140.0,51180.0,51220.0,51300.0,51340.0,51380.0,51420.0,51460.0,51500.0,51540.0,51580.0,51620.0,51660.0,52140.0,52180.0,52220.0,52260.0,52300.0,52340.0,52380.0,52780.0,52820.0,52860.0,52940.0,52980.0,53020.0,53060.0,53100.0,53140.0,53180.0,53220.0,53820.0,53860.0,53900.0,53940.0,53980.0,54020.0,54060.0,54100.0,54340.0,54380.0,54460.0,54500.0,54540.0,54740.0,54780.0,54820.0,54860.0,55500.0,55540.0,55580.0,55620.0,55660.0,55700.0,55740.0,55780.0,55820.0,55860.0,55900.0,55940.0,56060.0,56140.0,56180.0,56220.0,56260.0,56420.0,56460.0,56500.0,56540.0,57180.0,57220.0,57260.0,57300.0,57340.0,57380.0,57420.0,57460.0,57500.0,57540.0,57580.0,57740.0,57820.0,57860.0,57900.0,57940.0,58060.0,58100.0,58140.0,58180.0,58220.0,58860.0,58900.0,58940.0,59060.0,59180.0,59220.0,59460.0,59580.0,59620.0,59660.0,59700.0,59740.0,59780.0,59820.0,59860.0,60540.0,60580.0,60620.0,60660.0,60860.0,60980.0,61260.0,61300.0,61340.0,61380.0,61420.0,61460.0,61500.0,62220.0,62260.0,62300.0,62340.0,62380.0,62500.0,62660.0,62700.0,62740.0,62780.0,62900.0,62940.0,62980.0,63020.0,63060.0,63100.0,63140.0,63900.0,63940.0,63980.0,64020.0,64060.0,64100.0,64140.0,64180.0,64300.0,64340.0,64380.0,64420.0,64460.0,64500.0,64540.0,64580.0,64620.0,64660.0,64740.0,64780.0,65580.0,65620.0,65660.0,65700.0,65740.0,65780.0,65820.0,65860.0,65900.0,65940.0,65980.0,66020.0,66060.0,66100.0,66140.0,66180.0,66220.0,66260.0,66300.0,66340.0,66420.0,67260.0,67300.0,67340.0,67380.0,67420.0,67460.0,67500.0,67540.0,67580.0,67620.0,67660.0,67700.0,67740.0,67780.0,67820.0,67860.0,67900.0,67940.0,67980.0,68020.0],\"legendgroup\":\"Plain\",\"marker\":{\"color\":\"#387C44\",\"symbol\":\"circle\"},\"mode\":\"markers\",\"name\":\"Plain\",\"scene\":\"scene\",\"showlegend\":true,\"x\":[0,0,0,0,0,0,0,0,0,0,0,0,0,0,0,0,0,0,1,1,1,1,1,1,1,1,1,1,1,1,1,1,1,1,2,2,2,2,2,2,2,2,2,2,2,2,2,2,2,2,2,2,3,3,3,3,3,3,3,3,3,3,3,3,3,3,3,3,3,3,3,3,3,4,4,4,4,4,4,4,4,4,4,4,4,4,4,4,4,4,4,4,4,4,4,5,5,5,5,5,5,5,5,5,5,5,5,5,5,5,5,5,5,5,5,5,5,5,5,6,6,6,6,6,6,6,6,6,6,6,6,6,6,6,6,6,6,6,6,6,6,7,7,7,7,7,7,7,7,7,7,7,7,7,7,7,7,7,7,7,7,7,7,7,8,8,8,8,8,8,8,8,8,8,8,8,8,8,8,8,8,8,8,8,8,8,8,8,8,8,9,9,9,9,9,9,9,9,9,9,9,9,9,9,9,9,9,9,9,9,9,9,9,9,9,9,9,10,10,10,10,10,10,10,10,10,10,10,10,10,10,10,10,10,10,10,10,10,10,10,10,10,10,10,10,10,11,11,11,11,11,11,11,11,11,11,11,11,11,11,11,11,11,11,11,11,11,11,11,11,11,11,11,11,11,12,12,12,12,12,12,12,12,12,12,12,12,12,12,12,12,12,12,12,12,12,12,12,12,12,12,12,12,12,12,12,12,13,13,13,13,13,13,13,13,13,13,13,13,13,13,13,13,13,13,13,13,13,13,13,13,13,13,13,13,13,13,13,13,13,13,14,14,14,14,14,14,14,14,14,14,14,14,14,14,14,14,14,14,14,14,14,14,14,14,14,14,14,14,14,14,14,14,14,14,15,15,15,15,15,15,15,15,15,15,15,15,15,15,15,15,15,15,15,15,15,15,15,15,15,15,15,15,15,15,15,15,15,15,15,16,16,16,16,16,16,16,16,16,16,16,16,16,16,16,16,16,16,16,16,16,16,16,16,16,16,16,16,16,16,16,16,16,16,17,17,17,17,17,17,17,17,17,17,17,17,17,17,17,17,17,17,17,17,17,17,17,17,17,17,17,17,17,18,18,18,18,18,18,18,18,18,18,18,18,18,18,18,18,18,18,18,18,18,18,18,18,18,19,19,19,19,19,19,19,19,19,19,19,19,19,19,19,19,19,19,19,19,19,19,19,19,19,19,19,19,19,19,20,20,20,20,20,20,20,20,20,20,20,20,20,20,20,20,20,20,20,20,20,20,20,20,20,20,20,20,20,20,20,20,20,20,20,20,21,21,21,21,21,21,21,21,21,21,21,21,21,21,21,21,21,21,21,21,21,21,21,21,21,21,21,21,21,21,21,21,21,21,21,21,22,22,22,22,22,22,22,22,22,22,22,22,22,22,22,22,22,22,22,22,22,22,22,22,22,22,22,22,22,22,22,22,22,22,23,23,23,23,23,23,23,23,23,23,23,23,23,23,23,23,23,23,23,23,23,23,23,23,23,23,23,23,23,23,23,23,23,23,23,23,24,24,24,24,24,24,24,24,24,24,24,24,24,24,24,24,24,24,24,24,24,24,24,24,24,24,24,24,24,24,24,24,24,25,25,25,25,25,25,25,25,25,25,25,25,25,25,25,25,25,25,25,25,25,25,25,25,25,25,25,25,25,25,26,26,26,26,26,26,26,26,26,26,26,26,26,26,26,26,26,26,26,26,26,26,26,26,26,26,26,26,26,26,27,27,27,27,27,27,27,27,27,27,27,27,27,27,27,27,27,27,27,27,27,27,27,27,27,27,27,27,27,28,28,28,28,28,28,28,28,28,28,28,28,28,28,28,28,28,28,28,28,28,28,28,28,28,28,28,28,28,28,28,28,28,29,29,29,29,29,29,29,29,29,29,29,29,29,29,29,29,29,29,29,29,29,29,29,29,29,29,29,29,29,29,29,30,30,30,30,30,30,30,30,30,30,30,30,30,30,30,30,30,30,30,30,30,30,30,30,30,30,30,30,30,31,31,31,31,31,31,31,31,31,31,31,31,31,31,31,31,31,31,32,32,32,32,32,32,32,32,32,32,32,32,32,32,32,32,32,33,33,33,33,33,33,33,33,33,33,33,33,33,33,33,33,33,33,33,33,33,34,34,34,34,34,34,34,34,34,34,34,34,34,34,34,34,34,34,34,34,34,35,35,35,35,35,35,35,35,35,35,35,35,35,35,35,36,36,36,36,36,36,36,36,36,36,36,36,36,37,37,37,37,37,37,37,37,37,37,37,37,37,37,37,37,37,38,38,38,38,38,38,38,38,38,38,38,38,38,38,38,38,38,38,38,38,39,39,39,39,39,39,39,39,39,39,39,39,39,39,39,39,39,39,39,39,39,40,40,40,40,40,40,40,40,40,40,40,40,40,40,40,40,40,40,40,40],\"y\":[20,21,22,23,24,25,26,27,28,29,30,31,32,36,37,38,39,40,20,21,22,23,24,25,26,27,28,29,30,31,35,36,37,38,18,19,20,21,22,23,24,25,26,27,28,29,30,31,34,35,36,37,17,18,19,20,21,22,23,24,25,26,27,28,29,30,31,32,34,35,36,37,40,16,18,19,20,21,22,23,24,25,26,27,28,29,30,31,32,34,35,36,37,39,40,15,16,17,18,19,20,22,23,24,25,26,27,28,29,30,31,32,34,35,36,37,38,39,40,14,15,16,17,18,19,20,23,24,25,26,27,28,29,30,31,32,33,37,38,39,40,13,14,15,16,17,18,19,20,21,23,24,25,26,27,28,29,30,31,32,33,38,39,40,12,13,14,15,16,17,18,19,20,21,24,25,26,27,28,29,30,31,32,33,34,35,36,38,39,40,11,12,13,14,15,16,17,18,19,20,21,22,23,24,25,26,29,30,31,32,33,34,35,36,38,39,40,10,11,12,13,14,15,16,17,18,19,20,21,22,23,24,25,26,27,29,30,32,33,34,35,36,37,38,39,40,9,10,11,12,13,14,15,16,17,18,19,20,21,22,23,24,25,26,27,29,30,33,34,35,36,37,38,39,40,8,9,10,11,12,13,14,15,16,17,18,19,20,21,22,23,24,25,26,27,29,30,31,32,33,34,35,36,37,38,39,40,7,8,9,10,11,12,13,14,15,16,17,18,19,20,21,22,23,24,25,26,27,28,29,30,31,32,33,34,35,36,37,38,39,40,6,7,9,10,11,12,13,14,15,16,17,18,19,20,21,22,23,24,25,26,27,28,29,30,31,32,33,34,35,36,37,38,39,40,5,6,7,9,10,11,12,13,14,15,16,17,18,19,20,21,22,23,24,25,26,27,28,29,30,31,32,33,34,35,36,37,38,39,40,4,5,6,7,9,10,11,12,13,14,15,16,17,18,19,20,21,22,23,24,25,26,27,28,29,32,33,34,35,36,37,38,39,40,3,4,5,6,7,11,12,13,14,15,16,17,19,22,23,24,25,26,27,28,32,33,34,35,36,37,38,39,40,2,3,4,5,6,7,8,9,10,11,12,13,14,15,16,17,25,26,27,28,31,32,34,39,40,1,2,3,4,5,6,7,8,9,10,11,12,13,14,15,16,17,18,19,20,21,25,26,27,28,29,30,31,32,40,0,1,2,3,4,5,6,7,8,9,10,11,12,13,14,15,16,17,18,19,20,21,24,25,26,27,28,29,30,31,32,33,34,35,39,40,0,1,2,3,4,5,6,7,8,9,10,11,12,13,14,15,16,17,18,19,20,21,22,23,24,25,26,27,28,29,30,31,32,33,34,39,0,1,2,3,4,5,6,7,9,10,12,13,14,15,16,17,18,19,20,21,22,23,24,25,26,27,28,29,30,31,32,33,34,37,0,1,2,3,4,5,6,7,8,9,10,11,12,13,14,15,16,18,19,20,21,22,23,24,25,26,27,28,29,30,31,32,33,34,35,37,0,2,3,4,5,6,7,9,10,11,12,13,14,15,16,18,19,20,21,22,23,24,25,26,27,28,29,30,31,32,33,34,35,2,3,4,5,6,7,8,9,10,11,12,13,14,15,16,19,20,21,22,23,24,25,27,28,29,30,31,32,33,34,1,2,3,4,5,6,7,8,9,10,11,12,13,14,15,16,17,18,22,23,24,25,27,28,29,30,31,32,33,34,1,2,3,4,5,6,7,8,9,10,11,12,13,14,15,16,17,18,19,20,24,25,27,28,29,30,31,32,33,0,1,2,3,4,5,6,7,8,9,10,11,12,13,14,15,16,17,18,19,20,21,22,23,24,25,26,27,28,29,30,31,32,0,1,2,3,4,5,6,7,8,9,10,11,13,14,15,16,17,18,19,20,21,22,23,24,25,26,27,28,29,30,31,0,1,2,3,4,5,6,7,8,9,10,11,13,14,15,16,17,18,19,21,22,23,24,25,26,27,28,29,30,0,1,2,3,4,5,6,16,17,18,20,21,22,23,24,25,26,27,0,1,2,3,4,5,6,7,13,14,16,17,18,23,24,25,26,0,1,2,3,4,5,6,7,8,9,10,11,14,16,17,18,19,23,24,25,26,0,1,2,3,4,5,6,7,8,9,10,14,16,17,18,19,22,23,24,25,26,0,1,2,5,8,9,15,18,19,20,21,22,23,24,25,0,1,2,3,8,11,18,19,20,21,22,23,24,0,1,2,3,4,7,11,12,13,14,17,18,19,20,21,22,23,0,1,2,3,4,5,6,7,10,11,12,13,14,15,16,17,18,19,21,22,0,1,2,3,4,5,6,7,8,9,10,11,12,13,14,15,16,17,18,19,21,0,1,2,3,4,5,6,7,8,9,10,11,12,13,14,15,16,17,18,19],\"z\":[40,39,38,37,36,35,34,33,32,31,30,29,28,24,23,22,21,20,39,38,37,36,35,34,33,32,31,30,29,28,24,23,22,21,40,39,38,37,36,35,34,33,32,31,30,29,28,27,24,23,22,21,40,39,38,37,36,35,34,33,32,31,30,29,28,27,26,25,23,22,21,20,17,40,38,37,36,35,34,33,32,31,30,29,28,27,26,25,24,22,21,20,19,17,16,40,39,38,37,36,35,33,32,31,30,29,28,27,26,25,24,23,21,20,19,18,17,16,15,40,39,38,37,36,35,34,31,30,29,28,27,26,25,24,23,22,21,17,16,15,14,40,39,38,37,36,35,34,33,32,30,29,28,27,26,25,24,23,22,21,20,15,14,13,40,39,38,37,36,35,34,33,32,31,28,27,26,25,24,23,22,21,20,19,18,17,16,14,13,12,40,39,38,37,36,35,34,33,32,31,30,29,28,27,26,25,22,21,20,19,18,17,16,15,13,12,11,40,39,38,37,36,35,34,33,32,31,30,29,28,27,26,25,24,23,21,20,18,17,16,15,14,13,12,11,10,40,39,38,37,36,35,34,33,32,31,30,29,28,27,26,25,24,23,22,20,19,16,15,14,13,12,11,10,9,40,39,38,37,36,35,34,33,32,31,30,29,28,27,26,25,24,23,22,21,19,18,17,16,15,14,13,12,11,10,9,8,40,39,38,37,36,35,34,33,32,31,30,29,28,27,26,25,24,23,22,21,20,19,18,17,16,15,14,13,12,11,10,9,8,7,40,39,37,36,35,34,33,32,31,30,29,28,27,26,25,24,23,22,21,20,19,18,17,16,15,14,13,12,11,10,9,8,7,6,40,39,38,36,35,34,33,32,31,30,29,28,27,26,25,24,23,22,21,20,19,18,17,16,15,14,13,12,11,10,9,8,7,6,5,40,39,38,37,35,34,33,32,31,30,29,28,27,26,25,24,23,22,21,20,19,18,17,16,15,12,11,10,9,8,7,6,5,4,40,39,38,37,36,32,31,30,29,28,27,26,24,21,20,19,18,17,16,15,11,10,9,8,7,6,5,4,3,40,39,38,37,36,35,34,33,32,31,30,29,28,27,26,25,17,16,15,14,11,10,8,3,2,40,39,38,37,36,35,34,33,32,31,30,29,28,27,26,25,24,23,22,21,20,16,15,14,13,12,11,10,9,1,40,39,38,37,36,35,34,33,32,31,30,29,28,27,26,25,24,23,22,21,20,19,16,15,14,13,12,11,10,9,8,7,6,5,1,0,39,38,37,36,35,34,33,32,31,30,29,28,27,26,25,24,23,22,21,20,19,18,17,16,15,14,13,12,11,10,9,8,7,6,5,0,38,37,36,35,34,33,32,31,29,28,26,25,24,23,22,21,20,19,18,17,16,15,14,13,12,11,10,9,8,7,6,5,4,1,37,36,35,34,33,32,31,30,29,28,27,26,25,24,23,22,21,19,18,17,16,15,14,13,12,11,10,9,8,7,6,5,4,3,2,0,36,34,33,32,31,30,29,27,26,25,24,23,22,21,20,18,17,16,15,14,13,12,11,10,9,8,7,6,5,4,3,2,1,33,32,31,30,29,28,27,26,25,24,23,22,21,20,19,16,15,14,13,12,11,10,8,7,6,5,4,3,2,1,33,32,31,30,29,28,27,26,25,24,23,22,21,20,19,18,17,16,12,11,10,9,7,6,5,4,3,2,1,0,32,31,30,29,28,27,26,25,24,23,22,21,20,19,18,17,16,15,14,13,9,8,6,5,4,3,2,1,0,32,31,30,29,28,27,26,25,24,23,22,21,20,19,18,17,16,15,14,13,12,11,10,9,8,7,6,5,4,3,2,1,0,31,30,29,28,27,26,25,24,23,22,21,20,18,17,16,15,14,13,12,11,10,9,8,7,6,5,4,3,2,1,0,30,29,28,27,26,25,24,23,22,21,20,19,17,16,15,14,13,12,11,9,8,7,6,5,4,3,2,1,0,29,28,27,26,25,24,23,13,12,11,9,8,7,6,5,4,3,2,28,27,26,25,24,23,22,21,15,14,12,11,10,5,4,3,2,27,26,25,24,23,22,21,20,19,18,17,16,13,11,10,9,8,4,3,2,1,26,25,24,23,22,21,20,19,18,17,16,12,10,9,8,7,4,3,2,1,0,25,24,23,20,17,16,10,7,6,5,4,3,2,1,0,24,23,22,21,16,13,6,5,4,3,2,1,0,23,22,21,20,19,16,12,11,10,9,6,5,4,3,2,1,0,22,21,20,19,18,17,16,15,12,11,10,9,8,7,6,5,4,3,1,0,21,20,19,18,17,16,15,14,13,12,11,10,9,8,7,6,5,4,3,2,0,20,19,18,17,16,15,14,13,12,11,10,9,8,7,6,5,4,3,2,1],\"type\":\"scatter3d\"},{\"hovertemplate\":\"\\u003cb\\u003e%{hovertext}\\u003c\\u002fb\\u003e\\u003cbr\\u003e\\u003cbr\\u003ecolor=Hill\\u003cbr\\u003ex=%{x}\\u003cbr\\u003ey=%{y}\\u003cbr\\u003ez=%{z}\\u003cextra\\u003e\\u003c\\u002fextra\\u003e\",\"hovertext\":[1380.0,1420.0,1460.0,3060.0,3100.0,3300.0,3340.0,4940.0,4980.0,5020.0,6620.0,6660.0,28140.0,28180.0,29780.0,29820.0,29860.0,31220.0,31260.0,31460.0,31500.0,32860.0,32900.0,32940.0,33460.0,33500.0,34540.0,34580.0,35100.0,35140.0,35180.0,36780.0,36820.0,53260.0,53300.0,54660.0,54700.0,54900.0,54940.0,56300.0,56340.0,56380.0,56580.0,57980.0,58020.0,59100.0,59140.0,59500.0,59540.0,60740.0,60780.0,60820.0,60900.0,60940.0,61140.0,61180.0,61220.0,62420.0,62460.0,62540.0,62580.0,62620.0,62820.0,62860.0,64220.0,64260.0],\"legendgroup\":\"Hill\",\"marker\":{\"color\":\"gray\",\"symbol\":\"circle\"},\"mode\":\"markers\",\"name\":\"Hill\",\"scene\":\"scene\",\"showlegend\":true,\"x\":[0,0,0,1,1,1,1,2,2,2,3,3,16,16,17,17,17,18,18,18,18,19,19,19,19,19,20,20,20,20,20,21,21,31,31,32,32,32,32,33,33,33,33,34,34,35,35,35,35,36,36,36,36,36,36,36,36,37,37,37,37,37,37,37,38,38],\"y\":[33,34,35,33,34,39,40,38,39,40,38,39,30,31,29,30,31,23,24,29,30,22,23,24,37,38,22,23,36,37,38,36,37,28,29,21,22,27,28,20,21,22,27,20,21,6,7,16,17,5,6,7,9,10,15,16,17,5,6,8,9,10,15,16,8,9],\"z\":[27,26,25,26,25,20,19,20,19,18,19,18,14,13,14,13,12,19,18,13,12,19,18,17,4,3,18,17,4,3,2,3,2,1,0,7,6,1,0,7,6,5,0,6,5,19,18,9,8,19,18,17,15,14,9,8,7,18,17,15,14,13,8,7,14,13],\"type\":\"scatter3d\"},{\"hovertemplate\":\"\\u003cb\\u003e%{hovertext}\\u003c\\u002fb\\u003e\\u003cbr\\u003e\\u003cbr\\u003ecolor=River\\u003cbr\\u003ex=%{x}\\u003cbr\\u003ey=%{y}\\u003cbr\\u003ez=%{z}\\u003cextra\\u003e\\u003c\\u002fextra\\u003e\",\"hovertext\":[2500.0,3020.0,4700.0,4740.0,6420.0,7460.0,8100.0,8300.0,9300.0,9780.0,10980.0,11020.0,11500.0,11540.0,11580.0,12700.0,13180.0,13220.0,13260.0,13300.0,14380.0,14420.0,14980.0,16260.0,16300.0,16660.0,17980.0,18100.0,19660.0,19780.0,19820.0,21340.0,23900.0,25580.0,27260.0,28940.0,28980.0,29020.0,29340.0,29420.0,29460.0,31020.0,31060.0,31100.0,31140.0,31180.0,31620.0,31700.0,31740.0,31780.0,31820.0,33300.0,33340.0,33380.0,33420.0,33540.0,36740.0,36860.0,37340.0,37460.0,38420.0,38460.0,38540.0,39380.0,40140.0,40420.0,40700.0,41060.0,41820.0,42060.0,42100.0,42740.0,42780.0,43100.0,43460.0,43740.0,44500.0,44540.0,44580.0,44780.0,45420.0,46260.0,46300.0,46340.0,46460.0,49260.0,50940.0,51260.0,52900.0,54140.0,54180.0,54220.0,54260.0,54300.0,54580.0,54620.0,55980.0,56020.0,57620.0,57660.0,57700.0,58980.0,59020.0,59260.0,59300.0,59340.0,59380.0,59420.0,60700.0,61020.0,61060.0,61100.0,64700.0,66380.0,68060.0],\"legendgroup\":\"River\",\"marker\":{\"color\":\"#3EA99F\",\"symbol\":\"circle\"},\"mode\":\"markers\",\"name\":\"River\",\"scene\":\"scene\",\"showlegend\":true,\"x\":[1,1,2,2,3,4,4,4,5,5,6,6,6,6,6,7,7,7,7,7,8,8,8,9,9,9,10,10,11,11,11,12,14,15,16,17,17,17,17,17,17,18,18,18,18,18,18,18,18,18,18,19,19,19,19,19,21,21,22,22,22,22,22,23,23,24,24,24,24,25,25,25,25,25,25,26,26,26,26,26,27,27,27,27,27,29,30,30,31,32,32,32,32,32,32,32,33,33,34,34,34,35,35,35,35,35,35,35,36,36,36,36,38,39,40],\"y\":[19,32,32,33,33,17,33,38,21,33,21,22,34,35,36,22,34,35,36,37,22,23,37,27,28,37,28,31,28,31,32,28,8,8,8,8,9,10,18,20,21,18,19,20,21,22,33,35,36,37,38,33,34,35,36,39,35,38,8,11,35,36,38,17,36,1,8,17,36,0,1,17,18,26,35,0,19,20,21,26,0,21,22,23,26,12,12,20,19,8,9,10,11,12,19,20,12,13,11,12,13,3,4,10,11,12,13,14,4,12,13,14,20,20,20],\"z\":[40,27,26,25,24,39,23,18,34,22,33,32,20,19,18,31,19,18,17,16,30,29,15,24,23,14,22,19,21,18,17,20,38,37,36,35,34,33,25,23,22,24,23,22,21,20,9,7,6,5,4,8,7,6,5,2,4,1,30,27,3,2,0,20,1,35,28,19,0,35,34,18,17,9,0,34,15,14,13,8,33,12,11,10,7,19,18,10,10,20,19,18,17,16,9,8,15,14,15,14,13,22,21,15,14,13,12,11,20,12,11,10,2,1,0],\"type\":\"scatter3d\"},{\"hovertemplate\":\"\\u003cb\\u003e%{hovertext}\\u003c\\u002fb\\u003e\\u003cbr\\u003e\\u003cbr\\u003ecolor=Route\\u003cbr\\u003ex=%{x}\\u003cbr\\u003ey=%{y}\\u003cbr\\u003ez=%{z}\\u003cextra\\u003e\\u003c\\u002fextra\\u003e\",\"hovertext\":[52420.0,52460.0,52500.0,52540.0,52580.0,52620.0,52660.0,52700.0,52740.0,54420.0,56100.0,57780.0],\"legendgroup\":\"Route\",\"marker\":{\"color\":\"maroon\",\"symbol\":\"circle\"},\"mode\":\"markers\",\"name\":\"Route\",\"scene\":\"scene\",\"showlegend\":true,\"x\":[31,31,31,31,31,31,31,31,31,32,33,34],\"y\":[7,8,9,10,11,12,13,14,15,15,15,15],\"z\":[22,21,20,19,18,17,16,15,14,13,12,11],\"type\":\"scatter3d\"}],                        {\"template\":{\"data\":{\"histogram2dcontour\":[{\"type\":\"histogram2dcontour\",\"colorbar\":{\"outlinewidth\":0,\"ticks\":\"\"},\"colorscale\":[[0.0,\"#0d0887\"],[0.1111111111111111,\"#46039f\"],[0.2222222222222222,\"#7201a8\"],[0.3333333333333333,\"#9c179e\"],[0.4444444444444444,\"#bd3786\"],[0.5555555555555556,\"#d8576b\"],[0.6666666666666666,\"#ed7953\"],[0.7777777777777778,\"#fb9f3a\"],[0.8888888888888888,\"#fdca26\"],[1.0,\"#f0f921\"]]}],\"choropleth\":[{\"type\":\"choropleth\",\"colorbar\":{\"outlinewidth\":0,\"ticks\":\"\"}}],\"histogram2d\":[{\"type\":\"histogram2d\",\"colorbar\":{\"outlinewidth\":0,\"ticks\":\"\"},\"colorscale\":[[0.0,\"#0d0887\"],[0.1111111111111111,\"#46039f\"],[0.2222222222222222,\"#7201a8\"],[0.3333333333333333,\"#9c179e\"],[0.4444444444444444,\"#bd3786\"],[0.5555555555555556,\"#d8576b\"],[0.6666666666666666,\"#ed7953\"],[0.7777777777777778,\"#fb9f3a\"],[0.8888888888888888,\"#fdca26\"],[1.0,\"#f0f921\"]]}],\"heatmap\":[{\"type\":\"heatmap\",\"colorbar\":{\"outlinewidth\":0,\"ticks\":\"\"},\"colorscale\":[[0.0,\"#0d0887\"],[0.1111111111111111,\"#46039f\"],[0.2222222222222222,\"#7201a8\"],[0.3333333333333333,\"#9c179e\"],[0.4444444444444444,\"#bd3786\"],[0.5555555555555556,\"#d8576b\"],[0.6666666666666666,\"#ed7953\"],[0.7777777777777778,\"#fb9f3a\"],[0.8888888888888888,\"#fdca26\"],[1.0,\"#f0f921\"]]}],\"heatmapgl\":[{\"type\":\"heatmapgl\",\"colorbar\":{\"outlinewidth\":0,\"ticks\":\"\"},\"colorscale\":[[0.0,\"#0d0887\"],[0.1111111111111111,\"#46039f\"],[0.2222222222222222,\"#7201a8\"],[0.3333333333333333,\"#9c179e\"],[0.4444444444444444,\"#bd3786\"],[0.5555555555555556,\"#d8576b\"],[0.6666666666666666,\"#ed7953\"],[0.7777777777777778,\"#fb9f3a\"],[0.8888888888888888,\"#fdca26\"],[1.0,\"#f0f921\"]]}],\"contourcarpet\":[{\"type\":\"contourcarpet\",\"colorbar\":{\"outlinewidth\":0,\"ticks\":\"\"}}],\"contour\":[{\"type\":\"contour\",\"colorbar\":{\"outlinewidth\":0,\"ticks\":\"\"},\"colorscale\":[[0.0,\"#0d0887\"],[0.1111111111111111,\"#46039f\"],[0.2222222222222222,\"#7201a8\"],[0.3333333333333333,\"#9c179e\"],[0.4444444444444444,\"#bd3786\"],[0.5555555555555556,\"#d8576b\"],[0.6666666666666666,\"#ed7953\"],[0.7777777777777778,\"#fb9f3a\"],[0.8888888888888888,\"#fdca26\"],[1.0,\"#f0f921\"]]}],\"surface\":[{\"type\":\"surface\",\"colorbar\":{\"outlinewidth\":0,\"ticks\":\"\"},\"colorscale\":[[0.0,\"#0d0887\"],[0.1111111111111111,\"#46039f\"],[0.2222222222222222,\"#7201a8\"],[0.3333333333333333,\"#9c179e\"],[0.4444444444444444,\"#bd3786\"],[0.5555555555555556,\"#d8576b\"],[0.6666666666666666,\"#ed7953\"],[0.7777777777777778,\"#fb9f3a\"],[0.8888888888888888,\"#fdca26\"],[1.0,\"#f0f921\"]]}],\"mesh3d\":[{\"type\":\"mesh3d\",\"colorbar\":{\"outlinewidth\":0,\"ticks\":\"\"}}],\"scatter\":[{\"fillpattern\":{\"fillmode\":\"overlay\",\"size\":10,\"solidity\":0.2},\"type\":\"scatter\"}],\"parcoords\":[{\"type\":\"parcoords\",\"line\":{\"colorbar\":{\"outlinewidth\":0,\"ticks\":\"\"}}}],\"scatterpolargl\":[{\"type\":\"scatterpolargl\",\"marker\":{\"colorbar\":{\"outlinewidth\":0,\"ticks\":\"\"}}}],\"bar\":[{\"error_x\":{\"color\":\"#2a3f5f\"},\"error_y\":{\"color\":\"#2a3f5f\"},\"marker\":{\"line\":{\"color\":\"#E5ECF6\",\"width\":0.5},\"pattern\":{\"fillmode\":\"overlay\",\"size\":10,\"solidity\":0.2}},\"type\":\"bar\"}],\"scattergeo\":[{\"type\":\"scattergeo\",\"marker\":{\"colorbar\":{\"outlinewidth\":0,\"ticks\":\"\"}}}],\"scatterpolar\":[{\"type\":\"scatterpolar\",\"marker\":{\"colorbar\":{\"outlinewidth\":0,\"ticks\":\"\"}}}],\"histogram\":[{\"marker\":{\"pattern\":{\"fillmode\":\"overlay\",\"size\":10,\"solidity\":0.2}},\"type\":\"histogram\"}],\"scattergl\":[{\"type\":\"scattergl\",\"marker\":{\"colorbar\":{\"outlinewidth\":0,\"ticks\":\"\"}}}],\"scatter3d\":[{\"type\":\"scatter3d\",\"line\":{\"colorbar\":{\"outlinewidth\":0,\"ticks\":\"\"}},\"marker\":{\"colorbar\":{\"outlinewidth\":0,\"ticks\":\"\"}}}],\"scattermapbox\":[{\"type\":\"scattermapbox\",\"marker\":{\"colorbar\":{\"outlinewidth\":0,\"ticks\":\"\"}}}],\"scatterternary\":[{\"type\":\"scatterternary\",\"marker\":{\"colorbar\":{\"outlinewidth\":0,\"ticks\":\"\"}}}],\"scattercarpet\":[{\"type\":\"scattercarpet\",\"marker\":{\"colorbar\":{\"outlinewidth\":0,\"ticks\":\"\"}}}],\"carpet\":[{\"aaxis\":{\"endlinecolor\":\"#2a3f5f\",\"gridcolor\":\"white\",\"linecolor\":\"white\",\"minorgridcolor\":\"white\",\"startlinecolor\":\"#2a3f5f\"},\"baxis\":{\"endlinecolor\":\"#2a3f5f\",\"gridcolor\":\"white\",\"linecolor\":\"white\",\"minorgridcolor\":\"white\",\"startlinecolor\":\"#2a3f5f\"},\"type\":\"carpet\"}],\"table\":[{\"cells\":{\"fill\":{\"color\":\"#EBF0F8\"},\"line\":{\"color\":\"white\"}},\"header\":{\"fill\":{\"color\":\"#C8D4E3\"},\"line\":{\"color\":\"white\"}},\"type\":\"table\"}],\"barpolar\":[{\"marker\":{\"line\":{\"color\":\"#E5ECF6\",\"width\":0.5},\"pattern\":{\"fillmode\":\"overlay\",\"size\":10,\"solidity\":0.2}},\"type\":\"barpolar\"}],\"pie\":[{\"automargin\":true,\"type\":\"pie\"}]},\"layout\":{\"autotypenumbers\":\"strict\",\"colorway\":[\"#636efa\",\"#EF553B\",\"#00cc96\",\"#ab63fa\",\"#FFA15A\",\"#19d3f3\",\"#FF6692\",\"#B6E880\",\"#FF97FF\",\"#FECB52\"],\"font\":{\"color\":\"#2a3f5f\"},\"hovermode\":\"closest\",\"hoverlabel\":{\"align\":\"left\"},\"paper_bgcolor\":\"white\",\"plot_bgcolor\":\"#E5ECF6\",\"polar\":{\"bgcolor\":\"#E5ECF6\",\"angularaxis\":{\"gridcolor\":\"white\",\"linecolor\":\"white\",\"ticks\":\"\"},\"radialaxis\":{\"gridcolor\":\"white\",\"linecolor\":\"white\",\"ticks\":\"\"}},\"ternary\":{\"bgcolor\":\"#E5ECF6\",\"aaxis\":{\"gridcolor\":\"white\",\"linecolor\":\"white\",\"ticks\":\"\"},\"baxis\":{\"gridcolor\":\"white\",\"linecolor\":\"white\",\"ticks\":\"\"},\"caxis\":{\"gridcolor\":\"white\",\"linecolor\":\"white\",\"ticks\":\"\"}},\"coloraxis\":{\"colorbar\":{\"outlinewidth\":0,\"ticks\":\"\"}},\"colorscale\":{\"sequential\":[[0.0,\"#0d0887\"],[0.1111111111111111,\"#46039f\"],[0.2222222222222222,\"#7201a8\"],[0.3333333333333333,\"#9c179e\"],[0.4444444444444444,\"#bd3786\"],[0.5555555555555556,\"#d8576b\"],[0.6666666666666666,\"#ed7953\"],[0.7777777777777778,\"#fb9f3a\"],[0.8888888888888888,\"#fdca26\"],[1.0,\"#f0f921\"]],\"sequentialminus\":[[0.0,\"#0d0887\"],[0.1111111111111111,\"#46039f\"],[0.2222222222222222,\"#7201a8\"],[0.3333333333333333,\"#9c179e\"],[0.4444444444444444,\"#bd3786\"],[0.5555555555555556,\"#d8576b\"],[0.6666666666666666,\"#ed7953\"],[0.7777777777777778,\"#fb9f3a\"],[0.8888888888888888,\"#fdca26\"],[1.0,\"#f0f921\"]],\"diverging\":[[0,\"#8e0152\"],[0.1,\"#c51b7d\"],[0.2,\"#de77ae\"],[0.3,\"#f1b6da\"],[0.4,\"#fde0ef\"],[0.5,\"#f7f7f7\"],[0.6,\"#e6f5d0\"],[0.7,\"#b8e186\"],[0.8,\"#7fbc41\"],[0.9,\"#4d9221\"],[1,\"#276419\"]]},\"xaxis\":{\"gridcolor\":\"white\",\"linecolor\":\"white\",\"ticks\":\"\",\"title\":{\"standoff\":15},\"zerolinecolor\":\"white\",\"automargin\":true,\"zerolinewidth\":2},\"yaxis\":{\"gridcolor\":\"white\",\"linecolor\":\"white\",\"ticks\":\"\",\"title\":{\"standoff\":15},\"zerolinecolor\":\"white\",\"automargin\":true,\"zerolinewidth\":2},\"scene\":{\"xaxis\":{\"backgroundcolor\":\"#E5ECF6\",\"gridcolor\":\"white\",\"linecolor\":\"white\",\"showbackground\":true,\"ticks\":\"\",\"zerolinecolor\":\"white\",\"gridwidth\":2},\"yaxis\":{\"backgroundcolor\":\"#E5ECF6\",\"gridcolor\":\"white\",\"linecolor\":\"white\",\"showbackground\":true,\"ticks\":\"\",\"zerolinecolor\":\"white\",\"gridwidth\":2},\"zaxis\":{\"backgroundcolor\":\"#E5ECF6\",\"gridcolor\":\"white\",\"linecolor\":\"white\",\"showbackground\":true,\"ticks\":\"\",\"zerolinecolor\":\"white\",\"gridwidth\":2}},\"shapedefaults\":{\"line\":{\"color\":\"#2a3f5f\"}},\"annotationdefaults\":{\"arrowcolor\":\"#2a3f5f\",\"arrowhead\":0,\"arrowwidth\":1},\"geo\":{\"bgcolor\":\"white\",\"landcolor\":\"#E5ECF6\",\"subunitcolor\":\"white\",\"showland\":true,\"showlakes\":true,\"lakecolor\":\"white\"},\"title\":{\"x\":0.05},\"mapbox\":{\"style\":\"light\"}}},\"scene\":{\"domain\":{\"x\":[0.0,1.0],\"y\":[0.0,1.0]},\"xaxis\":{\"title\":{\"text\":\"x\"}},\"yaxis\":{\"title\":{\"text\":\"y\"}},\"zaxis\":{\"title\":{\"text\":\"z\"}}},\"legend\":{\"title\":{\"text\":\"color\"},\"tracegroupgap\":0},\"margin\":{\"t\":60}},                        {\"responsive\": true}                    ).then(function(){\n",
              "                            \n",
              "var gd = document.getElementById('ce0eeea5-e92b-42d0-a552-d1e3e781f3dc');\n",
              "var x = new MutationObserver(function (mutations, observer) {{\n",
              "        var display = window.getComputedStyle(gd).display;\n",
              "        if (!display || display === 'none') {{\n",
              "            console.log([gd, 'removed!']);\n",
              "            Plotly.purge(gd);\n",
              "            observer.disconnect();\n",
              "        }}\n",
              "}});\n",
              "\n",
              "// Listen for the removal of the full notebook cells\n",
              "var notebookContainer = gd.closest('#notebook-container');\n",
              "if (notebookContainer) {{\n",
              "    x.observe(notebookContainer, {childList: true});\n",
              "}}\n",
              "\n",
              "// Listen for the clearing of the current output cell\n",
              "var outputEl = gd.closest('.output');\n",
              "if (outputEl) {{\n",
              "    x.observe(outputEl, {childList: true});\n",
              "}}\n",
              "\n",
              "                        })                };                            </script>        </div>\n",
              "</body>\n",
              "</html>"
            ]
          },
          "metadata": {}
        }
      ]
    },
    {
      "cell_type": "markdown",
      "source": [
        "<details>\n",
        "  <summary>\n",
        "    Если ячейка не загрузилась, должно быть так\n",
        "  </summary>\n",
        "\n",
        "  ![График](https://drive.google.com/uc?export=view&id=1ARqIWW1oFhdbXNHbusKbCz06WYSuX5dw)\n",
        "</details>"
      ],
      "metadata": {
        "id": "l1dLmYVK_VqL"
      }
    },
    {
      "cell_type": "code",
      "source": [
        "draw_map_with_turtle_route(37_620, 51_500)"
      ],
      "metadata": {
        "colab": {
          "base_uri": "https://localhost:8080/",
          "height": 633
        },
        "id": "gw-l90z1J36P",
        "outputId": "ce0e62c2-7e8d-4d14-8ef3-33775c99e9d9"
      },
      "execution_count": null,
      "outputs": [
        {
          "output_type": "stream",
          "name": "stderr",
          "text": [
            "<ipython-input-318-cc20b9df552d>:8: DeprecationWarning:\n",
            "\n",
            "Conversion of an array with ndim > 0 to a scalar is deprecated, and will error in future. Ensure you extract a single element from your array before performing this operation. (Deprecated NumPy 1.25.)\n",
            "\n"
          ]
        },
        {
          "output_type": "display_data",
          "data": {
            "text/html": [
              "<html>\n",
              "<head><meta charset=\"utf-8\" /></head>\n",
              "<body>\n",
              "    <div>            <script src=\"https://cdnjs.cloudflare.com/ajax/libs/mathjax/2.7.5/MathJax.js?config=TeX-AMS-MML_SVG\"></script><script type=\"text/javascript\">if (window.MathJax && window.MathJax.Hub && window.MathJax.Hub.Config) {window.MathJax.Hub.Config({SVG: {font: \"STIX-Web\"}});}</script>                <script type=\"text/javascript\">window.PlotlyConfig = {MathJaxConfig: 'local'};</script>\n",
              "        <script charset=\"utf-8\" src=\"https://cdn.plot.ly/plotly-2.24.1.min.js\"></script>                <div id=\"1b9eaa9e-a513-47bc-8266-f8ff291c69f4\" class=\"plotly-graph-div\" style=\"height:525px; width:100%;\"></div>            <script type=\"text/javascript\">                                    window.PLOTLYENV=window.PLOTLYENV || {};                                    if (document.getElementById(\"1b9eaa9e-a513-47bc-8266-f8ff291c69f4\")) {                    Plotly.newPlot(                        \"1b9eaa9e-a513-47bc-8266-f8ff291c69f4\",                        [{\"hovertemplate\":\"\\u003cb\\u003e%{hovertext}\\u003c\\u002fb\\u003e\\u003cbr\\u003e\\u003cbr\\u003ecolor=Plain\\u003cbr\\u003ex=%{x}\\u003cbr\\u003ey=%{y}\\u003cbr\\u003ez=%{z}\\u003cextra\\u003e\\u003c\\u002fextra\\u003e\",\"hovertext\":[860.0,900.0,940.0,980.0,1020.0,1060.0,1100.0,1140.0,1180.0,1220.0,1260.0,1300.0,1340.0,1500.0,1540.0,1580.0,1620.0,1660.0,2540.0,2580.0,2620.0,2660.0,2700.0,2740.0,2780.0,2820.0,2860.0,2900.0,2940.0,2980.0,3140.0,3180.0,3220.0,3260.0,4140.0,4180.0,4220.0,4260.0,4300.0,4340.0,4380.0,4420.0,4460.0,4500.0,4540.0,4580.0,4620.0,4660.0,4780.0,4820.0,4860.0,4900.0,5780.0,5820.0,5860.0,5900.0,5940.0,5980.0,6020.0,6060.0,6100.0,6140.0,6180.0,6220.0,6260.0,6300.0,6340.0,6380.0,6460.0,6500.0,6540.0,6580.0,6700.0,7420.0,7500.0,7540.0,7580.0,7620.0,7660.0,7700.0,7740.0,7780.0,7820.0,7860.0,7900.0,7940.0,7980.0,8020.0,8060.0,8140.0,8180.0,8220.0,8260.0,8340.0,8380.0,9060.0,9100.0,9140.0,9180.0,9220.0,9260.0,9340.0,9380.0,9420.0,9460.0,9500.0,9540.0,9580.0,9620.0,9660.0,9700.0,9740.0,9820.0,9860.0,9900.0,9940.0,9980.0,10020.0,10060.0,10700.0,10740.0,10780.0,10820.0,10860.0,10900.0,10940.0,11060.0,11100.0,11140.0,11180.0,11220.0,11260.0,11300.0,11340.0,11380.0,11420.0,11460.0,11620.0,11660.0,11700.0,11740.0,12340.0,12380.0,12420.0,12460.0,12500.0,12540.0,12580.0,12620.0,12660.0,12740.0,12780.0,12820.0,12860.0,12900.0,12940.0,12980.0,13020.0,13060.0,13100.0,13140.0,13340.0,13380.0,13420.0,13980.0,14020.0,14060.0,14100.0,14140.0,14180.0,14220.0,14260.0,14300.0,14340.0,14460.0,14500.0,14540.0,14580.0,14620.0,14660.0,14700.0,14740.0,14780.0,14820.0,14860.0,14900.0,14940.0,15020.0,15060.0,15100.0,15620.0,15660.0,15700.0,15740.0,15780.0,15820.0,15860.0,15900.0,15940.0,15980.0,16020.0,16060.0,16100.0,16140.0,16180.0,16220.0,16340.0,16380.0,16420.0,16460.0,16500.0,16540.0,16580.0,16620.0,16700.0,16740.0,16780.0,17260.0,17300.0,17340.0,17380.0,17420.0,17460.0,17500.0,17540.0,17580.0,17620.0,17660.0,17700.0,17740.0,17780.0,17820.0,17860.0,17900.0,17940.0,18020.0,18060.0,18140.0,18180.0,18220.0,18260.0,18300.0,18340.0,18380.0,18420.0,18460.0,18900.0,18940.0,18980.0,19020.0,19060.0,19100.0,19140.0,19180.0,19220.0,19260.0,19300.0,19340.0,19380.0,19420.0,19460.0,19500.0,19540.0,19580.0,19620.0,19700.0,19740.0,19860.0,19900.0,19940.0,19980.0,20020.0,20060.0,20100.0,20140.0,20540.0,20580.0,20620.0,20660.0,20700.0,20740.0,20780.0,20820.0,20860.0,20900.0,20940.0,20980.0,21020.0,21060.0,21100.0,21140.0,21180.0,21220.0,21260.0,21300.0,21380.0,21420.0,21460.0,21500.0,21540.0,21580.0,21620.0,21660.0,21700.0,21740.0,21780.0,21820.0,22180.0,22220.0,22260.0,22300.0,22340.0,22380.0,22420.0,22460.0,22500.0,22540.0,22580.0,22620.0,22660.0,22700.0,22740.0,22780.0,22820.0,22860.0,22900.0,22940.0,22980.0,23020.0,23060.0,23100.0,23140.0,23180.0,23220.0,23260.0,23300.0,23340.0,23380.0,23420.0,23460.0,23500.0,23820.0,23860.0,23940.0,23980.0,24020.0,24060.0,24100.0,24140.0,24180.0,24220.0,24260.0,24300.0,24340.0,24380.0,24420.0,24460.0,24500.0,24540.0,24580.0,24620.0,24660.0,24700.0,24740.0,24780.0,24820.0,24860.0,24900.0,24940.0,24980.0,25020.0,25060.0,25100.0,25140.0,25180.0,25460.0,25500.0,25540.0,25620.0,25660.0,25700.0,25740.0,25780.0,25820.0,25860.0,25900.0,25940.0,25980.0,26020.0,26060.0,26100.0,26140.0,26180.0,26220.0,26260.0,26300.0,26340.0,26380.0,26420.0,26460.0,26500.0,26540.0,26580.0,26620.0,26660.0,26700.0,26740.0,26780.0,26820.0,26860.0,27100.0,27140.0,27180.0,27220.0,27300.0,27340.0,27380.0,27420.0,27460.0,27500.0,27540.0,27580.0,27620.0,27660.0,27700.0,27740.0,27780.0,27820.0,27860.0,27900.0,27940.0,27980.0,28020.0,28060.0,28100.0,28220.0,28260.0,28300.0,28340.0,28380.0,28420.0,28460.0,28500.0,28540.0,28740.0,28780.0,28820.0,28860.0,28900.0,29060.0,29100.0,29140.0,29180.0,29220.0,29260.0,29300.0,29380.0,29500.0,29540.0,29580.0,29620.0,29660.0,29700.0,29740.0,29900.0,29940.0,29980.0,30020.0,30060.0,30100.0,30140.0,30180.0,30220.0,30380.0,30420.0,30460.0,30500.0,30540.0,30580.0,30620.0,30660.0,30700.0,30740.0,30780.0,30820.0,30860.0,30900.0,30940.0,30980.0,31300.0,31340.0,31380.0,31420.0,31540.0,31580.0,31660.0,31860.0,31900.0,32020.0,32060.0,32100.0,32140.0,32180.0,32220.0,32260.0,32300.0,32340.0,32380.0,32420.0,32460.0,32500.0,32540.0,32580.0,32620.0,32660.0,32700.0,32740.0,32780.0,32820.0,32980.0,33020.0,33060.0,33100.0,33140.0,33180.0,33220.0,33260.0,33580.0,33660.0,33700.0,33740.0,33780.0,33820.0,33860.0,33900.0,33940.0,33980.0,34020.0,34060.0,34100.0,34140.0,34180.0,34220.0,34260.0,34300.0,34340.0,34380.0,34420.0,34460.0,34500.0,34620.0,34660.0,34700.0,34740.0,34780.0,34820.0,34860.0,34900.0,34940.0,34980.0,35020.0,35060.0,35220.0,35260.0,35340.0,35380.0,35420.0,35460.0,35500.0,35540.0,35580.0,35620.0,35660.0,35700.0,35740.0,35780.0,35820.0,35860.0,35900.0,35940.0,35980.0,36020.0,36060.0,36100.0,36140.0,36180.0,36220.0,36260.0,36300.0,36340.0,36380.0,36420.0,36460.0,36500.0,36540.0,36580.0,36620.0,36660.0,36700.0,36900.0,37020.0,37060.0,37100.0,37140.0,37180.0,37220.0,37260.0,37300.0,37380.0,37420.0,37500.0,37540.0,37580.0,37660.0,37700.0,37740.0,37780.0,37820.0,37860.0,37900.0,37940.0,37980.0,38020.0,38060.0,38100.0,38140.0,38180.0,38220.0,38260.0,38300.0,38340.0,38380.0,38500.0,38700.0,38740.0,38780.0,38820.0,38860.0,38900.0,38940.0,38980.0,39020.0,39060.0,39100.0,39140.0,39180.0,39220.0,39260.0,39340.0,39420.0,39460.0,39500.0,39540.0,39580.0,39620.0,39660.0,39700.0,39740.0,39780.0,39820.0,39860.0,39900.0,39940.0,39980.0,40020.0,40060.0,40100.0,40180.0,40380.0,40460.0,40500.0,40540.0,40580.0,40620.0,40660.0,40740.0,40780.0,40820.0,40860.0,40900.0,40940.0,41020.0,41100.0,41140.0,41180.0,41220.0,41260.0,41300.0,41340.0,41380.0,41420.0,41460.0,41500.0,41540.0,41580.0,41620.0,41660.0,41700.0,41740.0,41780.0,42140.0,42180.0,42220.0,42260.0,42300.0,42340.0,42380.0,42420.0,42460.0,42500.0,42540.0,42580.0,42620.0,42700.0,42820.0,42860.0,42900.0,42940.0,42980.0,43020.0,43060.0,43140.0,43180.0,43220.0,43260.0,43300.0,43340.0,43380.0,43420.0,43780.0,43820.0,43860.0,43900.0,43940.0,43980.0,44020.0,44060.0,44100.0,44140.0,44180.0,44220.0,44260.0,44300.0,44380.0,44420.0,44460.0,44620.0,44660.0,44700.0,44740.0,44820.0,44860.0,44900.0,44940.0,44980.0,45020.0,45060.0,45100.0,45460.0,45500.0,45540.0,45580.0,45620.0,45660.0,45700.0,45740.0,45780.0,45820.0,45860.0,45900.0,45940.0,45980.0,46060.0,46100.0,46140.0,46180.0,46220.0,46380.0,46420.0,46500.0,46540.0,46580.0,46620.0,46660.0,46700.0,46740.0,47100.0,47140.0,47180.0,47220.0,47260.0,47300.0,47340.0,47380.0,47420.0,47460.0,47500.0,47540.0,47580.0,47620.0,47660.0,47740.0,47780.0,47820.0,47860.0,47900.0,47940.0,47980.0,48020.0,48060.0,48100.0,48140.0,48180.0,48220.0,48260.0,48300.0,48340.0,48380.0,48780.0,48820.0,48860.0,48900.0,48940.0,48980.0,49020.0,49060.0,49100.0,49140.0,49180.0,49220.0,49300.0,49340.0,49420.0,49460.0,49500.0,49540.0,49580.0,49620.0,49660.0,49700.0,49740.0,49780.0,49820.0,49860.0,49900.0,49940.0,49980.0,50020.0,50460.0,50500.0,50540.0,50580.0,50620.0,50660.0,50700.0,50740.0,50780.0,50820.0,50860.0,50900.0,50980.0,51020.0,51540.0,51580.0,51620.0,51660.0,52140.0,52180.0,52220.0,52260.0,52300.0,52340.0,52380.0,52420.0,52460.0,52500.0,52540.0,52580.0,52660.0,52700.0,52740.0,52780.0,52820.0,52860.0,52940.0,52980.0,53020.0,53060.0,53100.0,53140.0,53180.0,53220.0,53820.0,53860.0,53900.0,53940.0,53980.0,54020.0,54060.0,54100.0,54340.0,54380.0,54420.0,54460.0,54500.0,54540.0,54740.0,54780.0,54820.0,54860.0,55500.0,55540.0,55580.0,55620.0,55660.0,55700.0,55740.0,55780.0,55820.0,55860.0,55900.0,55940.0,56060.0,56100.0,56140.0,56180.0,56220.0,56260.0,56420.0,56460.0,56500.0,56540.0,57180.0,57220.0,57260.0,57300.0,57340.0,57380.0,57420.0,57460.0,57500.0,57540.0,57580.0,57740.0,57780.0,57820.0,57860.0,57900.0,57940.0,58060.0,58100.0,58140.0,58180.0,58220.0,58860.0,58900.0,58940.0,59060.0,59180.0,59220.0,59460.0,59580.0,59620.0,59660.0,59700.0,59740.0,59780.0,59820.0,59860.0,60540.0,60580.0,60620.0,60660.0,60860.0,60980.0,61260.0,61300.0,61340.0,61380.0,61420.0,61460.0,61500.0,62220.0,62260.0,62300.0,62340.0,62380.0,62500.0,62660.0,62700.0,62740.0,62780.0,62900.0,62940.0,62980.0,63020.0,63060.0,63100.0,63140.0,63900.0,63940.0,63980.0,64020.0,64060.0,64100.0,64140.0,64180.0,64300.0,64340.0,64380.0,64420.0,64460.0,64500.0,64540.0,64580.0,64620.0,64660.0,64740.0,64780.0,65580.0,65620.0,65660.0,65700.0,65740.0,65780.0,65820.0,65860.0,65900.0,65940.0,65980.0,66020.0,66060.0,66100.0,66140.0,66180.0,66220.0,66260.0,66300.0,66340.0,66420.0,67260.0,67300.0,67340.0,67380.0,67420.0,67460.0,67500.0,67540.0,67580.0,67620.0,67660.0,67700.0,67740.0,67780.0,67820.0,67860.0,67900.0,67940.0,67980.0,68020.0],\"legendgroup\":\"Plain\",\"marker\":{\"color\":\"#387C44\",\"symbol\":\"circle\"},\"mode\":\"markers\",\"name\":\"Plain\",\"scene\":\"scene\",\"showlegend\":true,\"x\":[0,0,0,0,0,0,0,0,0,0,0,0,0,0,0,0,0,0,1,1,1,1,1,1,1,1,1,1,1,1,1,1,1,1,2,2,2,2,2,2,2,2,2,2,2,2,2,2,2,2,2,2,3,3,3,3,3,3,3,3,3,3,3,3,3,3,3,3,3,3,3,3,3,4,4,4,4,4,4,4,4,4,4,4,4,4,4,4,4,4,4,4,4,4,4,5,5,5,5,5,5,5,5,5,5,5,5,5,5,5,5,5,5,5,5,5,5,5,5,6,6,6,6,6,6,6,6,6,6,6,6,6,6,6,6,6,6,6,6,6,6,7,7,7,7,7,7,7,7,7,7,7,7,7,7,7,7,7,7,7,7,7,7,7,8,8,8,8,8,8,8,8,8,8,8,8,8,8,8,8,8,8,8,8,8,8,8,8,8,8,9,9,9,9,9,9,9,9,9,9,9,9,9,9,9,9,9,9,9,9,9,9,9,9,9,9,9,10,10,10,10,10,10,10,10,10,10,10,10,10,10,10,10,10,10,10,10,10,10,10,10,10,10,10,10,10,11,11,11,11,11,11,11,11,11,11,11,11,11,11,11,11,11,11,11,11,11,11,11,11,11,11,11,11,11,12,12,12,12,12,12,12,12,12,12,12,12,12,12,12,12,12,12,12,12,12,12,12,12,12,12,12,12,12,12,12,12,13,13,13,13,13,13,13,13,13,13,13,13,13,13,13,13,13,13,13,13,13,13,13,13,13,13,13,13,13,13,13,13,13,13,14,14,14,14,14,14,14,14,14,14,14,14,14,14,14,14,14,14,14,14,14,14,14,14,14,14,14,14,14,14,14,14,14,14,15,15,15,15,15,15,15,15,15,15,15,15,15,15,15,15,15,15,15,15,15,15,15,15,15,15,15,15,15,15,15,15,15,15,15,16,16,16,16,16,16,16,16,16,16,16,16,16,16,16,16,16,16,16,16,16,16,16,16,16,16,16,16,16,16,16,16,16,16,17,17,17,17,17,17,17,17,17,17,17,17,17,17,17,17,17,17,17,17,17,17,17,17,17,17,17,17,17,18,18,18,18,18,18,18,18,18,18,18,18,18,18,18,18,18,18,18,18,18,18,18,18,18,19,19,19,19,19,19,19,19,19,19,19,19,19,19,19,19,19,19,19,19,19,19,19,19,19,19,19,19,19,19,20,20,20,20,20,20,20,20,20,20,20,20,20,20,20,20,20,20,20,20,20,20,20,20,20,20,20,20,20,20,20,20,20,20,20,20,21,21,21,21,21,21,21,21,21,21,21,21,21,21,21,21,21,21,21,21,21,21,21,21,21,21,21,21,21,21,21,21,21,21,21,21,22,22,22,22,22,22,22,22,22,22,22,22,22,22,22,22,22,22,22,22,22,22,22,22,22,22,22,22,22,22,22,22,22,23,23,23,23,23,23,23,23,23,23,23,23,23,23,23,23,23,23,23,23,23,23,23,23,23,23,23,23,23,23,23,23,23,23,23,24,24,24,24,24,24,24,24,24,24,24,24,24,24,24,24,24,24,24,24,24,24,24,24,24,24,24,24,24,24,24,24,25,25,25,25,25,25,25,25,25,25,25,25,25,25,25,25,25,25,25,25,25,25,25,25,25,25,25,25,25,26,26,26,26,26,26,26,26,26,26,26,26,26,26,26,26,26,26,26,26,26,26,26,26,26,26,26,26,26,27,27,27,27,27,27,27,27,27,27,27,27,27,27,27,27,27,27,27,27,27,27,27,27,27,27,27,27,28,28,28,28,28,28,28,28,28,28,28,28,28,28,28,28,28,28,28,28,28,28,28,28,28,28,28,28,28,28,28,28,29,29,29,29,29,29,29,29,29,29,29,29,29,29,29,29,29,29,29,29,29,29,29,29,29,29,29,29,29,29,30,30,30,30,30,30,30,30,30,30,30,30,30,30,30,30,30,30,31,31,31,31,31,31,31,31,31,31,31,31,31,31,31,31,31,31,31,31,31,31,31,31,31,31,32,32,32,32,32,32,32,32,32,32,32,32,32,32,32,32,32,32,33,33,33,33,33,33,33,33,33,33,33,33,33,33,33,33,33,33,33,33,33,33,34,34,34,34,34,34,34,34,34,34,34,34,34,34,34,34,34,34,34,34,34,34,35,35,35,35,35,35,35,35,35,35,35,35,35,35,35,36,36,36,36,36,36,36,36,36,36,36,36,36,37,37,37,37,37,37,37,37,37,37,37,37,37,37,37,37,37,38,38,38,38,38,38,38,38,38,38,38,38,38,38,38,38,38,38,38,38,39,39,39,39,39,39,39,39,39,39,39,39,39,39,39,39,39,39,39,39,39,40,40,40,40,40,40,40,40,40,40,40,40,40,40,40,40,40,40,40,40],\"y\":[20,21,22,23,24,25,26,27,28,29,30,31,32,36,37,38,39,40,20,21,22,23,24,25,26,27,28,29,30,31,35,36,37,38,18,19,20,21,22,23,24,25,26,27,28,29,30,31,34,35,36,37,17,18,19,20,21,22,23,24,25,26,27,28,29,30,31,32,34,35,36,37,40,16,18,19,20,21,22,23,24,25,26,27,28,29,30,31,32,34,35,36,37,39,40,15,16,17,18,19,20,22,23,24,25,26,27,28,29,30,31,32,34,35,36,37,38,39,40,14,15,16,17,18,19,20,23,24,25,26,27,28,29,30,31,32,33,37,38,39,40,13,14,15,16,17,18,19,20,21,23,24,25,26,27,28,29,30,31,32,33,38,39,40,12,13,14,15,16,17,18,19,20,21,24,25,26,27,28,29,30,31,32,33,34,35,36,38,39,40,11,12,13,14,15,16,17,18,19,20,21,22,23,24,25,26,29,30,31,32,33,34,35,36,38,39,40,10,11,12,13,14,15,16,17,18,19,20,21,22,23,24,25,26,27,29,30,32,33,34,35,36,37,38,39,40,9,10,11,12,13,14,15,16,17,18,19,20,21,22,23,24,25,26,27,29,30,33,34,35,36,37,38,39,40,8,9,10,11,12,13,14,15,16,17,18,19,20,21,22,23,24,25,26,27,29,30,31,32,33,34,35,36,37,38,39,40,7,8,9,10,11,12,13,14,15,16,17,18,19,20,21,22,23,24,25,26,27,28,29,30,31,32,33,34,35,36,37,38,39,40,6,7,9,10,11,12,13,14,15,16,17,18,19,20,21,22,23,24,25,26,27,28,29,30,31,32,33,34,35,36,37,38,39,40,5,6,7,9,10,11,12,13,14,15,16,17,18,19,20,21,22,23,24,25,26,27,28,29,30,31,32,33,34,35,36,37,38,39,40,4,5,6,7,9,10,11,12,13,14,15,16,17,18,19,20,21,22,23,24,25,26,27,28,29,32,33,34,35,36,37,38,39,40,3,4,5,6,7,11,12,13,14,15,16,17,19,22,23,24,25,26,27,28,32,33,34,35,36,37,38,39,40,2,3,4,5,6,7,8,9,10,11,12,13,14,15,16,17,25,26,27,28,31,32,34,39,40,1,2,3,4,5,6,7,8,9,10,11,12,13,14,15,16,17,18,19,20,21,25,26,27,28,29,30,31,32,40,0,1,2,3,4,5,6,7,8,9,10,11,12,13,14,15,16,17,18,19,20,21,24,25,26,27,28,29,30,31,32,33,34,35,39,40,0,1,2,3,4,5,6,7,8,9,10,11,12,13,14,15,16,17,18,19,20,21,22,23,24,25,26,27,28,29,30,31,32,33,34,39,0,1,2,3,4,5,6,7,9,10,12,13,14,16,17,18,19,20,21,22,23,24,25,26,27,28,29,30,31,32,33,34,37,0,1,2,3,4,5,6,7,8,9,10,11,12,13,14,16,18,19,20,21,22,23,24,25,26,27,28,29,30,31,32,33,34,35,37,0,2,3,4,5,6,7,9,10,11,12,13,14,16,18,19,20,21,22,23,24,25,26,27,28,29,30,31,32,33,34,35,2,3,4,5,6,7,8,9,10,11,12,13,14,16,19,20,21,22,23,24,25,27,28,29,30,31,32,33,34,1,2,3,4,5,6,7,8,9,10,11,12,13,14,16,17,18,22,23,24,25,27,28,29,30,31,32,33,34,1,2,3,4,5,6,7,8,9,10,11,12,13,14,16,17,18,19,20,24,25,27,28,29,30,31,32,33,0,1,2,3,4,5,6,7,8,9,10,11,12,13,14,16,17,18,19,20,21,22,23,24,25,26,27,28,29,30,31,32,0,1,2,3,4,5,6,7,8,9,10,11,13,14,16,17,18,19,20,21,22,23,24,25,26,27,28,29,30,31,0,1,2,3,4,5,6,7,8,9,10,11,13,14,27,28,29,30,0,1,2,3,4,5,6,7,8,9,10,11,13,14,15,16,17,18,20,21,22,23,24,25,26,27,0,1,2,3,4,5,6,7,13,14,15,16,17,18,23,24,25,26,0,1,2,3,4,5,6,7,8,9,10,11,14,15,16,17,18,19,23,24,25,26,0,1,2,3,4,5,6,7,8,9,10,14,15,16,17,18,19,22,23,24,25,26,0,1,2,5,8,9,15,18,19,20,21,22,23,24,25,0,1,2,3,8,11,18,19,20,21,22,23,24,0,1,2,3,4,7,11,12,13,14,17,18,19,20,21,22,23,0,1,2,3,4,5,6,7,10,11,12,13,14,15,16,17,18,19,21,22,0,1,2,3,4,5,6,7,8,9,10,11,12,13,14,15,16,17,18,19,21,0,1,2,3,4,5,6,7,8,9,10,11,12,13,14,15,16,17,18,19],\"z\":[40,39,38,37,36,35,34,33,32,31,30,29,28,24,23,22,21,20,39,38,37,36,35,34,33,32,31,30,29,28,24,23,22,21,40,39,38,37,36,35,34,33,32,31,30,29,28,27,24,23,22,21,40,39,38,37,36,35,34,33,32,31,30,29,28,27,26,25,23,22,21,20,17,40,38,37,36,35,34,33,32,31,30,29,28,27,26,25,24,22,21,20,19,17,16,40,39,38,37,36,35,33,32,31,30,29,28,27,26,25,24,23,21,20,19,18,17,16,15,40,39,38,37,36,35,34,31,30,29,28,27,26,25,24,23,22,21,17,16,15,14,40,39,38,37,36,35,34,33,32,30,29,28,27,26,25,24,23,22,21,20,15,14,13,40,39,38,37,36,35,34,33,32,31,28,27,26,25,24,23,22,21,20,19,18,17,16,14,13,12,40,39,38,37,36,35,34,33,32,31,30,29,28,27,26,25,22,21,20,19,18,17,16,15,13,12,11,40,39,38,37,36,35,34,33,32,31,30,29,28,27,26,25,24,23,21,20,18,17,16,15,14,13,12,11,10,40,39,38,37,36,35,34,33,32,31,30,29,28,27,26,25,24,23,22,20,19,16,15,14,13,12,11,10,9,40,39,38,37,36,35,34,33,32,31,30,29,28,27,26,25,24,23,22,21,19,18,17,16,15,14,13,12,11,10,9,8,40,39,38,37,36,35,34,33,32,31,30,29,28,27,26,25,24,23,22,21,20,19,18,17,16,15,14,13,12,11,10,9,8,7,40,39,37,36,35,34,33,32,31,30,29,28,27,26,25,24,23,22,21,20,19,18,17,16,15,14,13,12,11,10,9,8,7,6,40,39,38,36,35,34,33,32,31,30,29,28,27,26,25,24,23,22,21,20,19,18,17,16,15,14,13,12,11,10,9,8,7,6,5,40,39,38,37,35,34,33,32,31,30,29,28,27,26,25,24,23,22,21,20,19,18,17,16,15,12,11,10,9,8,7,6,5,4,40,39,38,37,36,32,31,30,29,28,27,26,24,21,20,19,18,17,16,15,11,10,9,8,7,6,5,4,3,40,39,38,37,36,35,34,33,32,31,30,29,28,27,26,25,17,16,15,14,11,10,8,3,2,40,39,38,37,36,35,34,33,32,31,30,29,28,27,26,25,24,23,22,21,20,16,15,14,13,12,11,10,9,1,40,39,38,37,36,35,34,33,32,31,30,29,28,27,26,25,24,23,22,21,20,19,16,15,14,13,12,11,10,9,8,7,6,5,1,0,39,38,37,36,35,34,33,32,31,30,29,28,27,26,25,24,23,22,21,20,19,18,17,16,15,14,13,12,11,10,9,8,7,6,5,0,38,37,36,35,34,33,32,31,29,28,26,25,24,22,21,20,19,18,17,16,15,14,13,12,11,10,9,8,7,6,5,4,1,37,36,35,34,33,32,31,30,29,28,27,26,25,24,23,21,19,18,17,16,15,14,13,12,11,10,9,8,7,6,5,4,3,2,0,36,34,33,32,31,30,29,27,26,25,24,23,22,20,18,17,16,15,14,13,12,11,10,9,8,7,6,5,4,3,2,1,33,32,31,30,29,28,27,26,25,24,23,22,21,19,16,15,14,13,12,11,10,8,7,6,5,4,3,2,1,33,32,31,30,29,28,27,26,25,24,23,22,21,20,18,17,16,12,11,10,9,7,6,5,4,3,2,1,0,32,31,30,29,28,27,26,25,24,23,22,21,20,19,17,16,15,14,13,9,8,6,5,4,3,2,1,0,32,31,30,29,28,27,26,25,24,23,22,21,20,19,18,16,15,14,13,12,11,10,9,8,7,6,5,4,3,2,1,0,31,30,29,28,27,26,25,24,23,22,21,20,18,17,15,14,13,12,11,10,9,8,7,6,5,4,3,2,1,0,30,29,28,27,26,25,24,23,22,21,20,19,17,16,3,2,1,0,29,28,27,26,25,24,23,22,21,20,19,18,16,15,14,13,12,11,9,8,7,6,5,4,3,2,28,27,26,25,24,23,22,21,15,14,13,12,11,10,5,4,3,2,27,26,25,24,23,22,21,20,19,18,17,16,13,12,11,10,9,8,4,3,2,1,26,25,24,23,22,21,20,19,18,17,16,12,11,10,9,8,7,4,3,2,1,0,25,24,23,20,17,16,10,7,6,5,4,3,2,1,0,24,23,22,21,16,13,6,5,4,3,2,1,0,23,22,21,20,19,16,12,11,10,9,6,5,4,3,2,1,0,22,21,20,19,18,17,16,15,12,11,10,9,8,7,6,5,4,3,1,0,21,20,19,18,17,16,15,14,13,12,11,10,9,8,7,6,5,4,3,2,0,20,19,18,17,16,15,14,13,12,11,10,9,8,7,6,5,4,3,2,1],\"type\":\"scatter3d\"},{\"hovertemplate\":\"\\u003cb\\u003e%{hovertext}\\u003c\\u002fb\\u003e\\u003cbr\\u003e\\u003cbr\\u003ecolor=Hill\\u003cbr\\u003ex=%{x}\\u003cbr\\u003ey=%{y}\\u003cbr\\u003ez=%{z}\\u003cextra\\u003e\\u003c\\u002fextra\\u003e\",\"hovertext\":[1380.0,1420.0,1460.0,3060.0,3100.0,3300.0,3340.0,4940.0,4980.0,5020.0,6620.0,6660.0,28140.0,28180.0,29780.0,29820.0,29860.0,31220.0,31260.0,31460.0,31500.0,32860.0,32900.0,32940.0,33460.0,33500.0,34540.0,34580.0,35100.0,35140.0,35180.0,36780.0,36820.0,53260.0,53300.0,54660.0,54700.0,54900.0,54940.0,56300.0,56340.0,56380.0,56580.0,57980.0,58020.0,59100.0,59140.0,59500.0,59540.0,60740.0,60780.0,60820.0,60900.0,60940.0,61140.0,61180.0,61220.0,62420.0,62460.0,62540.0,62580.0,62620.0,62820.0,62860.0,64220.0,64260.0],\"legendgroup\":\"Hill\",\"marker\":{\"color\":\"gray\",\"symbol\":\"circle\"},\"mode\":\"markers\",\"name\":\"Hill\",\"scene\":\"scene\",\"showlegend\":true,\"x\":[0,0,0,1,1,1,1,2,2,2,3,3,16,16,17,17,17,18,18,18,18,19,19,19,19,19,20,20,20,20,20,21,21,31,31,32,32,32,32,33,33,33,33,34,34,35,35,35,35,36,36,36,36,36,36,36,36,37,37,37,37,37,37,37,38,38],\"y\":[33,34,35,33,34,39,40,38,39,40,38,39,30,31,29,30,31,23,24,29,30,22,23,24,37,38,22,23,36,37,38,36,37,28,29,21,22,27,28,20,21,22,27,20,21,6,7,16,17,5,6,7,9,10,15,16,17,5,6,8,9,10,15,16,8,9],\"z\":[27,26,25,26,25,20,19,20,19,18,19,18,14,13,14,13,12,19,18,13,12,19,18,17,4,3,18,17,4,3,2,3,2,1,0,7,6,1,0,7,6,5,0,6,5,19,18,9,8,19,18,17,15,14,9,8,7,18,17,15,14,13,8,7,14,13],\"type\":\"scatter3d\"},{\"hovertemplate\":\"\\u003cb\\u003e%{hovertext}\\u003c\\u002fb\\u003e\\u003cbr\\u003e\\u003cbr\\u003ecolor=River\\u003cbr\\u003ex=%{x}\\u003cbr\\u003ey=%{y}\\u003cbr\\u003ez=%{z}\\u003cextra\\u003e\\u003c\\u002fextra\\u003e\",\"hovertext\":[2500.0,3020.0,4700.0,4740.0,6420.0,7460.0,8100.0,8300.0,9300.0,9780.0,10980.0,11020.0,11500.0,11540.0,11580.0,12700.0,13180.0,13220.0,13260.0,13300.0,14380.0,14420.0,14980.0,16260.0,16300.0,16660.0,17980.0,18100.0,19660.0,19780.0,19820.0,21340.0,23900.0,25580.0,27260.0,28940.0,28980.0,29020.0,29340.0,29420.0,29460.0,31020.0,31060.0,31100.0,31140.0,31180.0,31620.0,31700.0,31740.0,31780.0,31820.0,33300.0,33340.0,33380.0,33420.0,33540.0,36740.0,36860.0,37340.0,37460.0,38420.0,38460.0,38540.0,39380.0,40140.0,40420.0,40700.0,41060.0,41820.0,42060.0,42100.0,42740.0,42780.0,43100.0,43460.0,43740.0,44500.0,44540.0,44580.0,44780.0,45420.0,46260.0,46300.0,46340.0,46460.0,49260.0,50940.0,52620.0,52900.0,54140.0,54180.0,54220.0,54260.0,54300.0,54580.0,54620.0,55980.0,56020.0,57620.0,57660.0,57700.0,58980.0,59020.0,59260.0,59300.0,59340.0,59380.0,59420.0,60700.0,61020.0,61060.0,61100.0,64700.0,66380.0,68060.0],\"legendgroup\":\"River\",\"marker\":{\"color\":\"#3EA99F\",\"symbol\":\"circle\"},\"mode\":\"markers\",\"name\":\"River\",\"scene\":\"scene\",\"showlegend\":true,\"x\":[1,1,2,2,3,4,4,4,5,5,6,6,6,6,6,7,7,7,7,7,8,8,8,9,9,9,10,10,11,11,11,12,14,15,16,17,17,17,17,17,17,18,18,18,18,18,18,18,18,18,18,19,19,19,19,19,21,21,22,22,22,22,22,23,23,24,24,24,24,25,25,25,25,25,25,26,26,26,26,26,27,27,27,27,27,29,30,31,31,32,32,32,32,32,32,32,33,33,34,34,34,35,35,35,35,35,35,35,36,36,36,36,38,39,40],\"y\":[19,32,32,33,33,17,33,38,21,33,21,22,34,35,36,22,34,35,36,37,22,23,37,27,28,37,28,31,28,31,32,28,8,8,8,8,9,10,18,20,21,18,19,20,21,22,33,35,36,37,38,33,34,35,36,39,35,38,8,11,35,36,38,17,36,1,8,17,36,0,1,17,18,26,35,0,19,20,21,26,0,21,22,23,26,12,12,12,19,8,9,10,11,12,19,20,12,13,11,12,13,3,4,10,11,12,13,14,4,12,13,14,20,20,20],\"z\":[40,27,26,25,24,39,23,18,34,22,33,32,20,19,18,31,19,18,17,16,30,29,15,24,23,14,22,19,21,18,17,20,38,37,36,35,34,33,25,23,22,24,23,22,21,20,9,7,6,5,4,8,7,6,5,2,4,1,30,27,3,2,0,20,1,35,28,19,0,35,34,18,17,9,0,34,15,14,13,8,33,12,11,10,7,19,18,17,10,20,19,18,17,16,9,8,15,14,15,14,13,22,21,15,14,13,12,11,20,12,11,10,2,1,0],\"type\":\"scatter3d\"},{\"hovertemplate\":\"\\u003cb\\u003e%{hovertext}\\u003c\\u002fb\\u003e\\u003cbr\\u003e\\u003cbr\\u003ecolor=Route\\u003cbr\\u003ex=%{x}\\u003cbr\\u003ey=%{y}\\u003cbr\\u003ez=%{z}\\u003cextra\\u003e\\u003c\\u002fextra\\u003e\",\"hovertext\":[37620.0,39300.0,40980.0,42660.0,44340.0,46020.0,47700.0,49380.0,51060.0,51100.0,51140.0,51180.0,51220.0,51260.0,51300.0,51340.0,51380.0,51420.0,51460.0,51500.0],\"legendgroup\":\"Route\",\"marker\":{\"color\":\"maroon\",\"symbol\":\"circle\"},\"mode\":\"markers\",\"name\":\"Route\",\"scene\":\"scene\",\"showlegend\":true,\"x\":[22,23,24,25,26,27,28,29,30,30,30,30,30,30,30,30,30,30,30,30],\"y\":[15,15,15,15,15,15,15,15,15,16,17,18,19,20,21,22,23,24,25,26],\"z\":[23,22,21,20,19,18,17,16,15,14,13,12,11,10,9,8,7,6,5,4],\"type\":\"scatter3d\"}],                        {\"template\":{\"data\":{\"histogram2dcontour\":[{\"type\":\"histogram2dcontour\",\"colorbar\":{\"outlinewidth\":0,\"ticks\":\"\"},\"colorscale\":[[0.0,\"#0d0887\"],[0.1111111111111111,\"#46039f\"],[0.2222222222222222,\"#7201a8\"],[0.3333333333333333,\"#9c179e\"],[0.4444444444444444,\"#bd3786\"],[0.5555555555555556,\"#d8576b\"],[0.6666666666666666,\"#ed7953\"],[0.7777777777777778,\"#fb9f3a\"],[0.8888888888888888,\"#fdca26\"],[1.0,\"#f0f921\"]]}],\"choropleth\":[{\"type\":\"choropleth\",\"colorbar\":{\"outlinewidth\":0,\"ticks\":\"\"}}],\"histogram2d\":[{\"type\":\"histogram2d\",\"colorbar\":{\"outlinewidth\":0,\"ticks\":\"\"},\"colorscale\":[[0.0,\"#0d0887\"],[0.1111111111111111,\"#46039f\"],[0.2222222222222222,\"#7201a8\"],[0.3333333333333333,\"#9c179e\"],[0.4444444444444444,\"#bd3786\"],[0.5555555555555556,\"#d8576b\"],[0.6666666666666666,\"#ed7953\"],[0.7777777777777778,\"#fb9f3a\"],[0.8888888888888888,\"#fdca26\"],[1.0,\"#f0f921\"]]}],\"heatmap\":[{\"type\":\"heatmap\",\"colorbar\":{\"outlinewidth\":0,\"ticks\":\"\"},\"colorscale\":[[0.0,\"#0d0887\"],[0.1111111111111111,\"#46039f\"],[0.2222222222222222,\"#7201a8\"],[0.3333333333333333,\"#9c179e\"],[0.4444444444444444,\"#bd3786\"],[0.5555555555555556,\"#d8576b\"],[0.6666666666666666,\"#ed7953\"],[0.7777777777777778,\"#fb9f3a\"],[0.8888888888888888,\"#fdca26\"],[1.0,\"#f0f921\"]]}],\"heatmapgl\":[{\"type\":\"heatmapgl\",\"colorbar\":{\"outlinewidth\":0,\"ticks\":\"\"},\"colorscale\":[[0.0,\"#0d0887\"],[0.1111111111111111,\"#46039f\"],[0.2222222222222222,\"#7201a8\"],[0.3333333333333333,\"#9c179e\"],[0.4444444444444444,\"#bd3786\"],[0.5555555555555556,\"#d8576b\"],[0.6666666666666666,\"#ed7953\"],[0.7777777777777778,\"#fb9f3a\"],[0.8888888888888888,\"#fdca26\"],[1.0,\"#f0f921\"]]}],\"contourcarpet\":[{\"type\":\"contourcarpet\",\"colorbar\":{\"outlinewidth\":0,\"ticks\":\"\"}}],\"contour\":[{\"type\":\"contour\",\"colorbar\":{\"outlinewidth\":0,\"ticks\":\"\"},\"colorscale\":[[0.0,\"#0d0887\"],[0.1111111111111111,\"#46039f\"],[0.2222222222222222,\"#7201a8\"],[0.3333333333333333,\"#9c179e\"],[0.4444444444444444,\"#bd3786\"],[0.5555555555555556,\"#d8576b\"],[0.6666666666666666,\"#ed7953\"],[0.7777777777777778,\"#fb9f3a\"],[0.8888888888888888,\"#fdca26\"],[1.0,\"#f0f921\"]]}],\"surface\":[{\"type\":\"surface\",\"colorbar\":{\"outlinewidth\":0,\"ticks\":\"\"},\"colorscale\":[[0.0,\"#0d0887\"],[0.1111111111111111,\"#46039f\"],[0.2222222222222222,\"#7201a8\"],[0.3333333333333333,\"#9c179e\"],[0.4444444444444444,\"#bd3786\"],[0.5555555555555556,\"#d8576b\"],[0.6666666666666666,\"#ed7953\"],[0.7777777777777778,\"#fb9f3a\"],[0.8888888888888888,\"#fdca26\"],[1.0,\"#f0f921\"]]}],\"mesh3d\":[{\"type\":\"mesh3d\",\"colorbar\":{\"outlinewidth\":0,\"ticks\":\"\"}}],\"scatter\":[{\"fillpattern\":{\"fillmode\":\"overlay\",\"size\":10,\"solidity\":0.2},\"type\":\"scatter\"}],\"parcoords\":[{\"type\":\"parcoords\",\"line\":{\"colorbar\":{\"outlinewidth\":0,\"ticks\":\"\"}}}],\"scatterpolargl\":[{\"type\":\"scatterpolargl\",\"marker\":{\"colorbar\":{\"outlinewidth\":0,\"ticks\":\"\"}}}],\"bar\":[{\"error_x\":{\"color\":\"#2a3f5f\"},\"error_y\":{\"color\":\"#2a3f5f\"},\"marker\":{\"line\":{\"color\":\"#E5ECF6\",\"width\":0.5},\"pattern\":{\"fillmode\":\"overlay\",\"size\":10,\"solidity\":0.2}},\"type\":\"bar\"}],\"scattergeo\":[{\"type\":\"scattergeo\",\"marker\":{\"colorbar\":{\"outlinewidth\":0,\"ticks\":\"\"}}}],\"scatterpolar\":[{\"type\":\"scatterpolar\",\"marker\":{\"colorbar\":{\"outlinewidth\":0,\"ticks\":\"\"}}}],\"histogram\":[{\"marker\":{\"pattern\":{\"fillmode\":\"overlay\",\"size\":10,\"solidity\":0.2}},\"type\":\"histogram\"}],\"scattergl\":[{\"type\":\"scattergl\",\"marker\":{\"colorbar\":{\"outlinewidth\":0,\"ticks\":\"\"}}}],\"scatter3d\":[{\"type\":\"scatter3d\",\"line\":{\"colorbar\":{\"outlinewidth\":0,\"ticks\":\"\"}},\"marker\":{\"colorbar\":{\"outlinewidth\":0,\"ticks\":\"\"}}}],\"scattermapbox\":[{\"type\":\"scattermapbox\",\"marker\":{\"colorbar\":{\"outlinewidth\":0,\"ticks\":\"\"}}}],\"scatterternary\":[{\"type\":\"scatterternary\",\"marker\":{\"colorbar\":{\"outlinewidth\":0,\"ticks\":\"\"}}}],\"scattercarpet\":[{\"type\":\"scattercarpet\",\"marker\":{\"colorbar\":{\"outlinewidth\":0,\"ticks\":\"\"}}}],\"carpet\":[{\"aaxis\":{\"endlinecolor\":\"#2a3f5f\",\"gridcolor\":\"white\",\"linecolor\":\"white\",\"minorgridcolor\":\"white\",\"startlinecolor\":\"#2a3f5f\"},\"baxis\":{\"endlinecolor\":\"#2a3f5f\",\"gridcolor\":\"white\",\"linecolor\":\"white\",\"minorgridcolor\":\"white\",\"startlinecolor\":\"#2a3f5f\"},\"type\":\"carpet\"}],\"table\":[{\"cells\":{\"fill\":{\"color\":\"#EBF0F8\"},\"line\":{\"color\":\"white\"}},\"header\":{\"fill\":{\"color\":\"#C8D4E3\"},\"line\":{\"color\":\"white\"}},\"type\":\"table\"}],\"barpolar\":[{\"marker\":{\"line\":{\"color\":\"#E5ECF6\",\"width\":0.5},\"pattern\":{\"fillmode\":\"overlay\",\"size\":10,\"solidity\":0.2}},\"type\":\"barpolar\"}],\"pie\":[{\"automargin\":true,\"type\":\"pie\"}]},\"layout\":{\"autotypenumbers\":\"strict\",\"colorway\":[\"#636efa\",\"#EF553B\",\"#00cc96\",\"#ab63fa\",\"#FFA15A\",\"#19d3f3\",\"#FF6692\",\"#B6E880\",\"#FF97FF\",\"#FECB52\"],\"font\":{\"color\":\"#2a3f5f\"},\"hovermode\":\"closest\",\"hoverlabel\":{\"align\":\"left\"},\"paper_bgcolor\":\"white\",\"plot_bgcolor\":\"#E5ECF6\",\"polar\":{\"bgcolor\":\"#E5ECF6\",\"angularaxis\":{\"gridcolor\":\"white\",\"linecolor\":\"white\",\"ticks\":\"\"},\"radialaxis\":{\"gridcolor\":\"white\",\"linecolor\":\"white\",\"ticks\":\"\"}},\"ternary\":{\"bgcolor\":\"#E5ECF6\",\"aaxis\":{\"gridcolor\":\"white\",\"linecolor\":\"white\",\"ticks\":\"\"},\"baxis\":{\"gridcolor\":\"white\",\"linecolor\":\"white\",\"ticks\":\"\"},\"caxis\":{\"gridcolor\":\"white\",\"linecolor\":\"white\",\"ticks\":\"\"}},\"coloraxis\":{\"colorbar\":{\"outlinewidth\":0,\"ticks\":\"\"}},\"colorscale\":{\"sequential\":[[0.0,\"#0d0887\"],[0.1111111111111111,\"#46039f\"],[0.2222222222222222,\"#7201a8\"],[0.3333333333333333,\"#9c179e\"],[0.4444444444444444,\"#bd3786\"],[0.5555555555555556,\"#d8576b\"],[0.6666666666666666,\"#ed7953\"],[0.7777777777777778,\"#fb9f3a\"],[0.8888888888888888,\"#fdca26\"],[1.0,\"#f0f921\"]],\"sequentialminus\":[[0.0,\"#0d0887\"],[0.1111111111111111,\"#46039f\"],[0.2222222222222222,\"#7201a8\"],[0.3333333333333333,\"#9c179e\"],[0.4444444444444444,\"#bd3786\"],[0.5555555555555556,\"#d8576b\"],[0.6666666666666666,\"#ed7953\"],[0.7777777777777778,\"#fb9f3a\"],[0.8888888888888888,\"#fdca26\"],[1.0,\"#f0f921\"]],\"diverging\":[[0,\"#8e0152\"],[0.1,\"#c51b7d\"],[0.2,\"#de77ae\"],[0.3,\"#f1b6da\"],[0.4,\"#fde0ef\"],[0.5,\"#f7f7f7\"],[0.6,\"#e6f5d0\"],[0.7,\"#b8e186\"],[0.8,\"#7fbc41\"],[0.9,\"#4d9221\"],[1,\"#276419\"]]},\"xaxis\":{\"gridcolor\":\"white\",\"linecolor\":\"white\",\"ticks\":\"\",\"title\":{\"standoff\":15},\"zerolinecolor\":\"white\",\"automargin\":true,\"zerolinewidth\":2},\"yaxis\":{\"gridcolor\":\"white\",\"linecolor\":\"white\",\"ticks\":\"\",\"title\":{\"standoff\":15},\"zerolinecolor\":\"white\",\"automargin\":true,\"zerolinewidth\":2},\"scene\":{\"xaxis\":{\"backgroundcolor\":\"#E5ECF6\",\"gridcolor\":\"white\",\"linecolor\":\"white\",\"showbackground\":true,\"ticks\":\"\",\"zerolinecolor\":\"white\",\"gridwidth\":2},\"yaxis\":{\"backgroundcolor\":\"#E5ECF6\",\"gridcolor\":\"white\",\"linecolor\":\"white\",\"showbackground\":true,\"ticks\":\"\",\"zerolinecolor\":\"white\",\"gridwidth\":2},\"zaxis\":{\"backgroundcolor\":\"#E5ECF6\",\"gridcolor\":\"white\",\"linecolor\":\"white\",\"showbackground\":true,\"ticks\":\"\",\"zerolinecolor\":\"white\",\"gridwidth\":2}},\"shapedefaults\":{\"line\":{\"color\":\"#2a3f5f\"}},\"annotationdefaults\":{\"arrowcolor\":\"#2a3f5f\",\"arrowhead\":0,\"arrowwidth\":1},\"geo\":{\"bgcolor\":\"white\",\"landcolor\":\"#E5ECF6\",\"subunitcolor\":\"white\",\"showland\":true,\"showlakes\":true,\"lakecolor\":\"white\"},\"title\":{\"x\":0.05},\"mapbox\":{\"style\":\"light\"}}},\"scene\":{\"domain\":{\"x\":[0.0,1.0],\"y\":[0.0,1.0]},\"xaxis\":{\"title\":{\"text\":\"x\"}},\"yaxis\":{\"title\":{\"text\":\"y\"}},\"zaxis\":{\"title\":{\"text\":\"z\"}}},\"legend\":{\"title\":{\"text\":\"color\"},\"tracegroupgap\":0},\"margin\":{\"t\":60}},                        {\"responsive\": true}                    ).then(function(){\n",
              "                            \n",
              "var gd = document.getElementById('1b9eaa9e-a513-47bc-8266-f8ff291c69f4');\n",
              "var x = new MutationObserver(function (mutations, observer) {{\n",
              "        var display = window.getComputedStyle(gd).display;\n",
              "        if (!display || display === 'none') {{\n",
              "            console.log([gd, 'removed!']);\n",
              "            Plotly.purge(gd);\n",
              "            observer.disconnect();\n",
              "        }}\n",
              "}});\n",
              "\n",
              "// Listen for the removal of the full notebook cells\n",
              "var notebookContainer = gd.closest('#notebook-container');\n",
              "if (notebookContainer) {{\n",
              "    x.observe(notebookContainer, {childList: true});\n",
              "}}\n",
              "\n",
              "// Listen for the clearing of the current output cell\n",
              "var outputEl = gd.closest('.output');\n",
              "if (outputEl) {{\n",
              "    x.observe(outputEl, {childList: true});\n",
              "}}\n",
              "\n",
              "                        })                };                            </script>        </div>\n",
              "</body>\n",
              "</html>"
            ]
          },
          "metadata": {}
        }
      ]
    },
    {
      "cell_type": "markdown",
      "source": [
        "<details>\n",
        "  <summary>\n",
        "    Если ячейка не загрузилась, должно быть так\n",
        "  </summary>\n",
        "\n",
        "  ![График](https://drive.google.com/uc?export=view&id=1eFkL6HfL42YLEfu-NhE1A8a5W1m2I8CH)\n",
        "</details>"
      ],
      "metadata": {
        "id": "NKyyI8_U_jmq"
      }
    },
    {
      "cell_type": "markdown",
      "source": [
        "Динамическое программирование решает задачу достаточно хорошо, но ограничивает нас двумя возможными движениями за шаг алгоритма"
      ],
      "metadata": {
        "id": "omIjxVbVnbmh"
      }
    }
  ]
}